{
 "cells": [
  {
   "cell_type": "markdown",
   "id": "0d5eb1db",
   "metadata": {},
   "source": [
    "## Table of Contents\n",
    "<ul class=\"toc-item\">\n",
    "<li><span><i class=\"fa fa-fw\"></i><a href=\"#Background\" data-toc-modified-id=\"Background\"><span class=\"toc-item-num\">1&nbsp;&nbsp;</span>Background</a></span></li>\n",
    "<li>\n",
    "   <span><i class=\"fa fa-fw \"></i><a href=\"#About-the-Dataset\" data-toc-modified-id=\"About-the-Dataset\"><span class=\"toc-item-num\">2&nbsp;&nbsp;</span>About the Dataset</a></span>\n",
    "   <ul class=\"toc-item\">\n",
    "      <li><span><i class=\"fa fa-fw\"></i><a href=\"#Data-Preprocessing\" data-toc-modified-id=\"Data-Preprocessing\"><span class=\"toc-item-num\">2.1&nbsp;&nbsp;</span>Data Preprocessing</a></span></li>\n",
    "      <li><span><i class=\"fa fa-fw\"></i><a href=\"#Train-Test-Split\" data-toc-modified-id=\"Train-Test-Split\"><span class=\"toc-item-num\">2.2&nbsp;&nbsp;</span>Train-Test Split</a></span></li>\n",
    "      <li><span><i class=\"fa fa-fw\"></i><a href=\"#Upsampling-the-dataset\" data-toc-modified-id=\"Upsampling-the-dataset\"><span class=\"toc-item-num\">2.3&nbsp;&nbsp;</span>Upsampling the dataset</a></span></li>\n",
    "   </ul>\n",
    "<li>\n",
    "   <span><i class=\"fa fa-fw \"></i><a href=\"#Building-the-model\" data-toc-modified-id=\"Building the model\"><span class=\"toc-item-num\">3&nbsp;&nbsp;</span>Building the model</a></span>\n",
    "   <ul class=\"toc-item\">\n",
    "      <li><span><i class=\"fa fa-fw\"></i><a href=\"#Key-model-outputs\" data-toc-modified-id=\"Key-model-outputs\"><span class=\"toc-item-num\">3.1&nbsp;&nbsp;</span>Key model outputs</a></span></li>\n",
    "   </ul>\n",
    "<li><span><i class=\"fa fa-fw\"></i><a href=\"#Model-Interpretability\" data-toc-modified-id=\"Model-Interpretability\"><span class=\"toc-item-num\">4&nbsp;&nbsp;</span>Model Interpretability</a></span></li>\n",
    "<li>\n",
    "   <span><i class=\"fa fa-fw \"></i><a href=\"#Comparisons-XAI\" data-toc-modified-id=\"Comparisons-XAI\"><span class=\"toc-item-num\">5&nbsp;&nbsp;</span>Comparisons XAI</a></span>\n",
    "   <ul class=\"toc-item\">\n",
    "      <li><span><i class=\"fa fa-fw\"></i><a href=\"#PDP-vs-ALE\" data-toc-modified-id=\"PDP-vs-ALE\"><span class=\"toc-item-num\">5.1&nbsp;&nbsp;</span>PDP vs ALE</a></span></li>\n",
    "      <ul class=\"toc-item\">\n",
    "         <li><span><i class=\"fa fa-fw\"></i><a href=\"#Understanding-these-methods\" data-toc-modified-id=\"Understanding-these-methods\"><span class=\"toc-item-num\">5.1.1&nbsp;&nbsp;</span>Understanding these methods</a></span></li>\n",
    "         <li><span><i class=\"fa fa-fw\"></i><a href=\"#Getting-into-examples-and-comparing\" data-toc-modified-id=\"Getting-into-examples-and-comparing\"><span class=\"toc-item-num\">5.1.2&nbsp;&nbsp;</span>Getting into examples and comparing</a></span></li>\n",
    "         <li><span><i class=\"fa fa-fw\"></i><a href=\"#PDP-vs-ALE-Plot-using-Dalex-Explainer\" data-toc-modified-id=\"PDP-vs-ALE-Plot-using-Dalex-Explainer\"><span class=\"toc-item-num\">5.1.3&nbsp;&nbsp;</span>PDP vs ALE Plot using Dalex Explainer</a></span></li>\n",
    "         <li><span><i class=\"fa fa-fw\"></i><a href=\"#Summary-Comparison\" data-toc-modified-id=\"Summary-Comparison\"><span class=\"toc-item-num\">5.1.4&nbsp;&nbsp;</span>Summary Comparison</a></span></li>\n",
    "      </ul>\n",
    "      <li><span><i class=\"fa fa-fw\"></i><a href=\"#SHAP-vs-Breakdown\" data-toc-modified-id=\"SHAP-vs-Breakdown\"><span class=\"toc-item-num\">5.2&nbsp;&nbsp;</span>SHAP vs Breakdown</a></span></li>\n",
    "      <ul class=\"toc-item\">\n",
    "         <li><span><i class=\"fa fa-fw\"></i><a href=\"#Understanding-these-Methods\" data-toc-modified-id=\"Understanding-these-methods\"><span class=\"toc-item-num\">5.2.1&nbsp;&nbsp;</span>Understanding these methods</a></span></li>\n",
    "         <li><span><i class=\"fa fa-fw\"></i><a href=\"#Getting-into-Examples-and-comparing\" data-toc-modified-id=\"Getting-into-examples-and-comparing\"><span class=\"toc-item-num\">5.2.2&nbsp;&nbsp;</span>Getting into examples and comparing</a></span></li>\n",
    "         <li><span><i class=\"fa fa-fw\"></i><a href=\"#Summary-comparison\" data-toc-modified-id=\"Summary-Comparison\"><span class=\"toc-item-num\">5.2.3&nbsp;&nbsp;</span>Summary Comparison</a></span></li>\n",
    "      </ul>\n",
    "   </ul>\n",
    "<li><span><i class=\"fa fa-fw\"></i><a href=\"#Conclusion\" data-toc-modified-id=\"Conclusion\"><span class=\"toc-item-num\">6&nbsp;&nbsp;</span>Conclusion</a></span></li>"
   ]
  },
  {
   "cell_type": "markdown",
   "id": "19770fad",
   "metadata": {},
   "source": [
    "# Background"
   ]
  },
  {
   "cell_type": "markdown",
   "id": "a19ecd4e",
   "metadata": {},
   "source": [
    "In this notebook, I've conducted a comparative case study to examine the two most common approaches to global explanation: accumulated local effects and partial dependence and two local explanation strategies SHAP Waterfall Plots and Breakdown Interaction Plots. These methods each provide distinctive insights that are essential to comprehending our models."
   ]
  },
  {
   "cell_type": "markdown",
   "id": "5f8a534a",
   "metadata": {},
   "source": [
    "<font size = 5  color = '#008B8B'> <b>XAI why?</b> </font>\n",
    "-  ML/AI models are getting more complex and challenging and hence the need to interpret and explain is even more\n",
    "-  XAI is a regulartory requirement and a key transparency pillar for most of the industries deploying AI\n",
    "\n",
    "\n",
    "<img src=\"https://www.darpa.mil/ddm_gallery/xai-figure1-inline-graphic.png\" align = 'left' width = 500 length = 500>\n",
    "\n",
    "<br clear=\"left\"/>\n",
    "    \n",
    "*A simple [infographic](https://www.darpa.mil/ddm_gallery/xai-figure1-inline-graphic.png) above shows the flow of AI to Questions*"
   ]
  },
  {
   "cell_type": "markdown",
   "id": "10e3e191",
   "metadata": {},
   "source": [
    "<font size = 5  color = '#008B8B'> <b>What does XAI answer?</b> </font>\n",
    "- Why did the AI system make a specific prediction or decision?\n",
    "- Why didn’t the AI system do something else?\n",
    "- When do AI systems give enough confidence in the decision that you can trust it, and how can the AI system correct errors that arise?\n",
    "    \n",
    "<img src=\"https://miro.medium.com/max/1100/1*jQXEEEOWuSGJT9KwD8DEhA.png\" align = 'left' width = 500 length = 500> \n",
    "<br clear=\"left\"/>\n",
    "\n",
    "*A simple [infographic](https://www.researchgate.net/profile/Jordi-Vallverdu/publication/339079867/figure/fig1/AS:855646786297857@1581013499668/Explainability-in-deep-learning-DL.ppm) above illustrates some of state-of-the-art techniques in the accuracy-interpretability trade-off map*\n"
   ]
  },
  {
   "cell_type": "markdown",
   "id": "20dc4895",
   "metadata": {},
   "source": [
    " <font size = 5 color = '#008B8B'> <b>Questions on XAI</b> </font>\n",
    " 1. Are the methods to interpret model patterns and decisions used by us the best available so far ? E.g. [SHAP](https://shap.readthedocs.io/en/latest/index.html) or [PDP](https://christophm.github.io/interpretable-ml-book/pdp.html)\n",
    " \n",
    " 2. What are the other new/alternative methods that are worth exploring and considered as the new cutting edge from the academics?\n",
    " "
   ]
  },
  {
   "cell_type": "markdown",
   "id": "6a884f28",
   "metadata": {
    "ExecuteTime": {
     "end_time": "2022-10-12T07:56:44.474524Z",
     "start_time": "2022-10-12T07:56:44.468523Z"
    }
   },
   "source": [
    "<font size = 5 color = '#008B8B'> <b>XAI family of packages out there</b> </font>"
   ]
  },
  {
   "cell_type": "markdown",
   "id": "8adb67a5",
   "metadata": {},
   "source": [
    "Below is a table which gives an overview of the whole landscape of frameworks/packages on XAI that have come up in Python/R. This includes big brands such as IBM, google, Microsoft etc"
   ]
  },
  {
   "cell_type": "markdown",
   "id": "77383a9f",
   "metadata": {},
   "source": [
    "| Name                                                                                                                                                                                                                                                                                                                   | Short Description                                                                                                                                                                                                                                | Developed by                                                    | Explainable Type                                                                                           | Supported ML Models                                                                                                                                                      | Available In                                 | \n",
    "| ---------------------------------------------------------------------------------------------------------------------------------------------------------------------------------------------------------------------------------------------------------------------------------------------------------------------- | ------------------------------------------------------------------------------------------------------------------------------------------------------------------------------------------------------------------------------------------------ | --------------------------------------------------------------- | ---------------------------------------------------------------------------------------------------------- | ------------------------------------------------------------------------------------------------------------------------------------------------------------------------ | -------------------------------------------- | \n",
    "| <figure><center><img src=\"https://miro.medium.com/max/602/1*d3R7xA7KH9mi-nrmp0t2UA.png\" width=\"120\" height=\"120\"><a href=\"https://shap.readthedocs.io/en/latest/index.html\">SHAP</a></center></figure>                                                                                                                          | <p style='text-align: left;'> SHAP (SHapley Additive exPlanations) </p>                                                                                                                                                                          | <p style='text-align: left;'> Scott Lundberg and Su-In Lee </p> | <p style='text-align: left;'> Local & Global </p>                                                          | <p style='text-align: left;'> TreeExplainer, DeepExplainer and KernelExplainer </p>                                                                                      | <p style='text-align: left;'> Python,R </p>  | \n",
    "| <figure><center><img src=\"https://www.data-imaginist.com/assets/images/lime_logo_small.jpg\" width=\"120\" height=\"120\"><a href=\"https://lime-ml.readthedocs.io/en/latest\">LIME</a></center></figure>                                                                                                                              | <p style='text-align: left;'> LIME, the acronym for local interpretable model-agnostic explanations </p>                                                                                                                                         | <p style='text-align: left;'> Marco Ribeiro </p>                | <p style='text-align: left;'> Local </p>                                                                   | <p style='text-align: left;'> tabular models, NLP models, and image classifiers</p>                                                                                      | <p style='text-align: left;'> Python,R </p>  | \n",
    "| <figure><center><img src=\"https://dalex.drwhy.ai/misc/dalex_even.png\" width=\"120\" height=\"120\"><a href=\"https://dalex.drwhy.ai/\">Dalex </a></center></figure>                                                                                                                                            | <p style='text-align: left;'>Dalex is a comprehensive XAI framework with multiple algorithms </p>                                                                                                                                                | <p style='text-align: left;'> dalex.drwhy.ai </p>               | <p style='text-align: left;'> Local & Global <br>(SHAP, Break Down, PDP, ALE)</p>                                                 | <p style='text-align: left;'> Scikit-Learn,catboost, xgboost, keras, h2o </p>                                                                                | <p style='text-align: left;'> Python,R </p>  | \n",
    "| <figure><center><img src=\"https://interpret.ml/images/interpretml-meta-image.jpg\" width=\"80\" height=\"80\"><a href=\"https://interpret.ml/docs/getting-started\">InterpretML</a></center></figure>                                                                                                                                | <p style='text-align: left;'> InterpretML is an new open-source Python package introducing glassbox methods. One more package by microsoft - <a href=\"https://learn.microsoft.com/en-us/azure/machine-learning/how-to-machine-learning-interpretability\">Azure .interpret</a></p>   | <p style='text-align: left;'> Microsoft </p>     | <p style='text-align: left;'>Glassbox - Global & Local, Blackbox - Local </p>          | <p style='text-align: left;'> Glassbox - Scikit Learn, blackbox - models compatible with LIME & Kernel SHAP </p>                                                         | <p style='text-align: left;'> Python </p>    | \n",
    "| <figure><center><img src=\"https://www.tensorflow.org/static/site-assets/images/marketing/cards/tile_tool_what_if.jpg\" width=\"120\" height=\"120\"><a href=\"https://pair-code.github.io/what-if-tool/\"> What-If tool </a></center></figure>                                                                                        | <p style='text-align: left;'> What-If tool is a visualization tool that is designed to interactively probe the machine learning models. </p>                                                                                                     | <p style='text-align: left;'> Google </p>                        | <p style='text-align: left;'> Local & Global </p>                                                          | <p style='text-align: left;'> XGBoost , Scikit-Learn, TensorFlow </p>                                                                                                    | <p style='text-align: left;'> Python </p>    | \n",
    "| <figure><center><img src=\"https://www.akira.ai/hubfs/Imported_Blog_Media/eli5-python-library-akira-ai.png\" width=\"120\" height=\"120\"><a href=\"https://eli5.readthedocs.io/en/latest/\"> ELI5 </a></center></figure>                                                                                                               | <p style='text-align: left;'> ELI5 uses Lime and other permutation importance methods </p>                                                                                                                                                       | <p style='text-align: left;'> MIT </p>                          | <p style='text-align: left;'> Local & Global </p>                                                          | <p style='text-align: left;'> scikit-learn, XGBoost, LightGBM, CatBoost, lightning, sklearn-crfsuite, Keras </p>                                                         | <p style='text-align: left;'> Python </p>    | \n",
    "| <figure><center><img src=\"https://www.bloorresearch.com/wp-content/uploads/2020/07/YELLOWBRICK-logo-300-x-470px--x.png\" width=\"80\" height=\"80\"><a href=\"https://www.scikit-yb.org/en/latest/\"> Yellowbrick </a></center></figure>                                                                                             | <p style='text-align: left;'> The Yellowbrick library is based on the scikit-learn and matplotlib libraries. </p>                                                                                                                                | <p style='text-align: left;'> Ankit Dhir and Rob Kingyens </p>  | <p style='text-align: left;'> Global </p>                                                                  | <p style='text-align: left;'> scikit-learn </p>                                                                                                                          | <p style='text-align: left;'> Python </p>    | \n",
    "| <figure><center><img src=\"https://raw.githubusercontent.com/SeldonIO/alibi/master/doc/source/_static/Alibi_Explain_Logo_rgb.png\" width=\"120\" height=\"120\"><a href=\"https://github.com/SeldonIO/alibi#model-explanations\"> Alibi Explain </a></center></figure>                                                                        | <p style='text-align: left;'> Cover both the model-agnostic (black-box) and model-specific (white-box) setting </p>                                                                                                                              | <p style='text-align: left;'> Janis Klaise </p>           | <p style='text-align: left;'> Local & Global <br>(SHAP, PDP, ALE) </p>                                     | <p style='text-align: left;'> scikit-learn, XGBoost, LightGBM, CatBoost, tensorflow, Keras </p>                                                                          | <p style='text-align: left;'> Python </p>    | \n",
    "| <figure><center><img src=\"https://aix360.mybluemix.net/static/images/logo.png\" width=\"120\" height=\"120\"><a href=\"https://aix360.mybluemix.net/\">AI Explainability 360 (AIX360)</a></center></figure>                                                                                                                            | <p style='text-align: left;'> It includes algorithms that span the different dimensions of ways of explaining along with proxy explainability metrics </p>                                                                                       | <p style='text-align: left;'> IBM Research </p>                 | <p style='text-align: left;'> Local & Global <br>(SHAP) </p>                                               | <p style='text-align: left;'> scikit-learn,Pytorch,Tensorflow  </p>                                                                                                      | <p style='text-align: left;'> Python </p>    | \n",
    "| <figure><center><img src=\"https://oracle.github.io/Skater/_static/skater-logo.svg\" width=\"120\" height=\"120\"><a href=\"https://oracle.github.io/Skater/overview.html\">Skater</a></center></figure>                                                                                                                                | <p style='text-align: left;'> Skater is a unified framework to enable Model Interpretation for all forms of model </p>                                                                                                                           | <p style='text-align: left;'> Aaron Kramer</p>                  | <p style='text-align: left;'> Local & Global <br>(PDP) </p>                                                | <p style='text-align: left;'> scikit-learn,tensorflow,keras </p>                                                                                                         | <p style='text-align: left;'> Python </p>    | \n",
    "| <figure><center><img src=\"https://venturebeat.com/wp-content/uploads/2019/03/activation_atlas_zoomed_out.png?fit=780%2C372&strip=all\" width=\"120\" height=\"120\"><a href=\"https://ai.googleblog.com/2019/03/exploring-neural-networks.html\">Activation Atlases</a></center></figure>                                              | <p style='text-align: left;'> Visualize how neural networks interact with each other. Other python packages for NN - <a href=\"https://github.com/kundajelab/deeplift\">DeepLIFT</a> <a href=\"https://github.com/tensorflow/lucid\">Lucid </a> </p> | <p style='text-align: left;'> OpenAI and Google </p>            | <p style='text-align: left;'> Local & Global </p>                                                          | <p style='text-align: left;'> tensorflow </p>                                                                                                                            | <p style='text-align: left;'> Python </p>    | \n",
    "| <figure><center><img src=\"https://shapash.readthedocs.io/en/latest/_images/shapash-resize.png\" width=\"120\" height=\"120\"><a href=\"https://shapash.readthedocs.io/en/latest/\">Shapash</a></center></figure>                                                                                                                       | <p style='text-align: left;'> Visualization based ml interpretor compatible with Shap & Lime</p>                                                                                                                                                 | <p style='text-align: left;'> MAIF Data Scientists </p>         | <p style='text-align: left;'> Local & Global <br>(SHAP, PDP) </p>                                          | <p style='text-align: left;'> sklearn, lightgbm, catboost, xgboost</p>                                                                                                   | <p style='text-align: left;'> Python </p>    | \n",
    "| <figure><center><img src=\"https://explainerdashboard.readthedocs.io/en/latest/_images/screenshot.gif\"  width=\"80\" height=\"80\"><a href=\"https://explainerdashboard.readthedocs.io/en/latest/index.html\">ExplainerDashboard</a></center></figure>                                                                               | <p style='text-align: left;'> Interactive dashboards for analyzing and explaining the predictions </p>                                                                                                                                           | <p style='text-align: left;'> Oege Dijk </p>                    | <p style='text-align: left;'> Local & Global <br>(SHAP, PDP) </p>                                          | <p style='text-align: left;'> xgboost, catboost and lightgbm, sklearn</p>                                                                                                | <p style='text-align: left;'> Python </p>    | \n"
   ]
  },
  {
   "cell_type": "markdown",
   "id": "e4ee99bc",
   "metadata": {},
   "source": [
    "[back](#Table-of-Contents)"
   ]
  },
  {
   "cell_type": "markdown",
   "id": "11861c7c",
   "metadata": {},
   "source": [
    "<hr color='#008B8B'>"
   ]
  },
  {
   "cell_type": "code",
   "execution_count": 1,
   "id": "a3e89e76",
   "metadata": {
    "ExecuteTime": {
     "end_time": "2022-12-20T07:56:45.522833Z",
     "start_time": "2022-12-20T07:56:33.213349Z"
    },
    "scrolled": true
   },
   "outputs": [
    {
     "data": {
      "text/html": [
       "        <script type=\"text/javascript\">\n",
       "        window.PlotlyConfig = {MathJaxConfig: 'local'};\n",
       "        if (window.MathJax) {MathJax.Hub.Config({SVG: {font: \"STIX-Web\"}});}\n",
       "        if (typeof require !== 'undefined') {\n",
       "        require.undef(\"plotly\");\n",
       "        requirejs.config({\n",
       "            paths: {\n",
       "                'plotly': ['https://cdn.plot.ly/plotly-2.8.3.min']\n",
       "            }\n",
       "        });\n",
       "        require(['plotly'], function(Plotly) {\n",
       "            window._Plotly = Plotly;\n",
       "        });\n",
       "        }\n",
       "        </script>\n",
       "        "
      ]
     },
     "metadata": {},
     "output_type": "display_data"
    },
    {
     "data": {
      "text/html": [
       "        <script type=\"text/javascript\">\n",
       "        window.PlotlyConfig = {MathJaxConfig: 'local'};\n",
       "        if (window.MathJax) {MathJax.Hub.Config({SVG: {font: \"STIX-Web\"}});}\n",
       "        if (typeof require !== 'undefined') {\n",
       "        require.undef(\"plotly\");\n",
       "        requirejs.config({\n",
       "            paths: {\n",
       "                'plotly': ['https://cdn.plot.ly/plotly-2.8.3.min']\n",
       "            }\n",
       "        });\n",
       "        require(['plotly'], function(Plotly) {\n",
       "            window._Plotly = Plotly;\n",
       "        });\n",
       "        }\n",
       "        </script>\n",
       "        "
      ]
     },
     "metadata": {},
     "output_type": "display_data"
    },
    {
     "data": {
      "text/html": [
       "        <script type=\"text/javascript\">\n",
       "        window.PlotlyConfig = {MathJaxConfig: 'local'};\n",
       "        if (window.MathJax) {MathJax.Hub.Config({SVG: {font: \"STIX-Web\"}});}\n",
       "        if (typeof require !== 'undefined') {\n",
       "        require.undef(\"plotly\");\n",
       "        requirejs.config({\n",
       "            paths: {\n",
       "                'plotly': ['https://cdn.plot.ly/plotly-2.8.3.min']\n",
       "            }\n",
       "        });\n",
       "        require(['plotly'], function(Plotly) {\n",
       "            window._Plotly = Plotly;\n",
       "        });\n",
       "        }\n",
       "        </script>\n",
       "        "
      ]
     },
     "metadata": {},
     "output_type": "display_data"
    }
   ],
   "source": [
    "#Import libraries\n",
    "import pandas as pd\n",
    "import numpy as np \n",
    "from datetime import datetime\n",
    "\n",
    "from sklearn.model_selection import train_test_split\n",
    "from sklearn.pipeline import Pipeline\n",
    "from sklearn.preprocessing import LabelEncoder\n",
    "from sklearn.preprocessing import StandardScaler, OneHotEncoder\n",
    "from sklearn.impute import SimpleImputer\n",
    "from sklearn.compose import ColumnTransformer\n",
    "\n",
    "from sklearn.tree import DecisionTreeRegressor\n",
    "from lightgbm import LGBMClassifier\n",
    "\n",
    "from imblearn.over_sampling import SMOTE\n",
    "\n",
    "import importlib\n",
    "import utils\n",
    "importlib.reload(utils)\n",
    "\n",
    "import plotly.figure_factory as ff\n",
    "import plotly.express as px\n",
    "from plotly.offline import init_notebook_mode, iplot, plot\n",
    "import plotly as py\n",
    "init_notebook_mode(connected = True)\n",
    "import plotly.graph_objs as go\n",
    "from plotly.subplots import make_subplots\n",
    "from plotly import tools\n",
    "import matplotlib.pyplot as plt\n",
    "%matplotlib inline\n",
    "\n",
    "import shap\n",
    "import dalex as dx\n",
    "import shapash\n",
    "\n",
    "import summarytools as st\n",
    "from IPython.display import HTML\n",
    "from summarytools import dfSummary, collapsible, tabset\n",
    "\n",
    "import warnings\n",
    "warnings.filterwarnings('ignore')\n",
    "import pickle"
   ]
  },
  {
   "cell_type": "markdown",
   "id": "e558b6bb",
   "metadata": {},
   "source": [
    "<hr color='#008B8B'>"
   ]
  },
  {
   "cell_type": "markdown",
   "id": "84851b05",
   "metadata": {},
   "source": [
    "# About the Dataset\n"
   ]
  },
  {
   "cell_type": "markdown",
   "id": "aba598fb",
   "metadata": {},
   "source": [
    "The [Stroke Prediction Dataset](https://www.kaggle.com/datasets/fedesoriano/stroke-prediction-dataset?datasetId=1120859&language=Python) is available on Kaggle. This dataset provides information on individuals and their potential risk of stroke.\n",
    "\n",
    "Attributes\n",
    "`id`: unique identifier for each individual <br>\n",
    "`gender`: gender of the individual (male or female or other)<br>\n",
    "`age`: age of the individual<br>\n",
    "`hypertension`: presence of hypertension (1 = yes, 0 = no)<br>\n",
    "`heart_disease`: presence of heart disease (1 = yes, 0 = no)<br>\n",
    "`ever_married`: marital status of the individual (yes or no)<br>\n",
    "`work_type`: type of work the individual is involved in, \"children\", \"Govt_jov\", \"Never_worked\", \"Private\" or \"Self-employed\"<br>\n",
    "`residence_type`: type of residence the individual lives in, \"Rural\" or \"Urban\"<br>\n",
    "`avg_glucose_level`: average glucose level of the individual<br>\n",
    "`bmi: body mass` body mass index of the individual<br>\n",
    "`smoking_status`: smoking status of the individual, \"formerly smoked\", \"never smoked\", \"smokes\" or \"Unknown\"<br>\n",
    "`stroke`: whether the individual has had a stroke (1 = yes, 0 = no)<br>\n"
   ]
  },
  {
   "cell_type": "markdown",
   "id": "0a852e6e",
   "metadata": {},
   "source": [
    "<div class=\"alert alert-block alert-info\">\n",
    "<b>Note:  </b>\"Unknown\" in smoking_status means that the information is unavailable for this patient</div>"
   ]
  },
  {
   "cell_type": "code",
   "execution_count": 2,
   "id": "672bfccc",
   "metadata": {
    "ExecuteTime": {
     "end_time": "2022-12-20T07:56:56.512812Z",
     "start_time": "2022-12-20T07:56:46.831829Z"
    }
   },
   "outputs": [
    {
     "data": {
      "text/html": [
       "<div>\n",
       "<style scoped>\n",
       "    .dataframe tbody tr th:only-of-type {\n",
       "        vertical-align: middle;\n",
       "    }\n",
       "\n",
       "    .dataframe tbody tr th {\n",
       "        vertical-align: top;\n",
       "    }\n",
       "\n",
       "    .dataframe thead th {\n",
       "        text-align: right;\n",
       "    }\n",
       "</style>\n",
       "<table border=\"1\" class=\"dataframe\">\n",
       "  <thead>\n",
       "    <tr style=\"text-align: right;\">\n",
       "      <th></th>\n",
       "      <th>gender</th>\n",
       "      <th>age</th>\n",
       "      <th>hypertension</th>\n",
       "      <th>heart_disease</th>\n",
       "      <th>ever_married</th>\n",
       "      <th>work_type</th>\n",
       "      <th>Residence_type</th>\n",
       "      <th>avg_glucose_level</th>\n",
       "      <th>bmi</th>\n",
       "      <th>smoking_status</th>\n",
       "      <th>stroke</th>\n",
       "    </tr>\n",
       "  </thead>\n",
       "  <tbody>\n",
       "    <tr>\n",
       "      <th>0</th>\n",
       "      <td>Male</td>\n",
       "      <td>67.0</td>\n",
       "      <td>0</td>\n",
       "      <td>1</td>\n",
       "      <td>Yes</td>\n",
       "      <td>Private</td>\n",
       "      <td>Urban</td>\n",
       "      <td>228.69</td>\n",
       "      <td>36.6</td>\n",
       "      <td>formerly smoked</td>\n",
       "      <td>1</td>\n",
       "    </tr>\n",
       "    <tr>\n",
       "      <th>1</th>\n",
       "      <td>Female</td>\n",
       "      <td>61.0</td>\n",
       "      <td>0</td>\n",
       "      <td>0</td>\n",
       "      <td>Yes</td>\n",
       "      <td>Self-employed</td>\n",
       "      <td>Rural</td>\n",
       "      <td>202.21</td>\n",
       "      <td>NaN</td>\n",
       "      <td>never smoked</td>\n",
       "      <td>1</td>\n",
       "    </tr>\n",
       "    <tr>\n",
       "      <th>2</th>\n",
       "      <td>Male</td>\n",
       "      <td>80.0</td>\n",
       "      <td>0</td>\n",
       "      <td>1</td>\n",
       "      <td>Yes</td>\n",
       "      <td>Private</td>\n",
       "      <td>Rural</td>\n",
       "      <td>105.92</td>\n",
       "      <td>32.5</td>\n",
       "      <td>never smoked</td>\n",
       "      <td>1</td>\n",
       "    </tr>\n",
       "    <tr>\n",
       "      <th>3</th>\n",
       "      <td>Female</td>\n",
       "      <td>49.0</td>\n",
       "      <td>0</td>\n",
       "      <td>0</td>\n",
       "      <td>Yes</td>\n",
       "      <td>Private</td>\n",
       "      <td>Urban</td>\n",
       "      <td>171.23</td>\n",
       "      <td>34.4</td>\n",
       "      <td>smokes</td>\n",
       "      <td>1</td>\n",
       "    </tr>\n",
       "    <tr>\n",
       "      <th>4</th>\n",
       "      <td>Female</td>\n",
       "      <td>79.0</td>\n",
       "      <td>1</td>\n",
       "      <td>0</td>\n",
       "      <td>Yes</td>\n",
       "      <td>Self-employed</td>\n",
       "      <td>Rural</td>\n",
       "      <td>174.12</td>\n",
       "      <td>24.0</td>\n",
       "      <td>never smoked</td>\n",
       "      <td>1</td>\n",
       "    </tr>\n",
       "  </tbody>\n",
       "</table>\n",
       "</div>"
      ],
      "text/plain": [
       "   gender   age  hypertension  heart_disease ever_married      work_type  \\\n",
       "0    Male  67.0             0              1          Yes        Private   \n",
       "1  Female  61.0             0              0          Yes  Self-employed   \n",
       "2    Male  80.0             0              1          Yes        Private   \n",
       "3  Female  49.0             0              0          Yes        Private   \n",
       "4  Female  79.0             1              0          Yes  Self-employed   \n",
       "\n",
       "  Residence_type  avg_glucose_level   bmi   smoking_status  stroke  \n",
       "0          Urban             228.69  36.6  formerly smoked       1  \n",
       "1          Rural             202.21   NaN     never smoked       1  \n",
       "2          Rural             105.92  32.5     never smoked       1  \n",
       "3          Urban             171.23  34.4           smokes       1  \n",
       "4          Rural             174.12  24.0     never smoked       1  "
      ]
     },
     "execution_count": 2,
     "metadata": {},
     "output_type": "execute_result"
    }
   ],
   "source": [
    "#Read stroke prediction dataset\n",
    "df = pd.read_csv(\"healthcare-dataset-stroke-data.csv\")\n",
    "#drop column id \n",
    "df.drop(['id'], axis=1,inplace=True)\n",
    "df.head()"
   ]
  },
  {
   "cell_type": "markdown",
   "id": "0f5a44cd",
   "metadata": {},
   "source": [
    "## Data Preprocessing \n",
    "\n",
    "In this section, simple data preprocessing will be performed to train the model. Since the focus of this notebook is to understand the inner workings of popular XAI techniques, in-depth visualization and preprocessing will not be performed."
   ]
  },
  {
   "cell_type": "code",
   "execution_count": 3,
   "id": "e41061dc",
   "metadata": {},
   "outputs": [
    {
     "data": {
      "text/html": [
       "<div>\n",
       "<style scoped>\n",
       "    .dataframe tbody tr th:only-of-type {\n",
       "        vertical-align: middle;\n",
       "    }\n",
       "\n",
       "    .dataframe tbody tr th {\n",
       "        vertical-align: top;\n",
       "    }\n",
       "\n",
       "    .dataframe thead th {\n",
       "        text-align: right;\n",
       "    }\n",
       "</style>\n",
       "<table border=\"1\" class=\"dataframe\">\n",
       "  <thead>\n",
       "    <tr style=\"text-align: right;\">\n",
       "      <th></th>\n",
       "      <th>Variable</th>\n",
       "      <th>Type</th>\n",
       "      <th>Missing Values</th>\n",
       "      <th>Unique Values</th>\n",
       "      <th>Distinct Unique Values</th>\n",
       "    </tr>\n",
       "  </thead>\n",
       "  <tbody>\n",
       "    <tr>\n",
       "      <th>0</th>\n",
       "      <td>gender</td>\n",
       "      <td>object</td>\n",
       "      <td>0</td>\n",
       "      <td>3</td>\n",
       "      <td>[Male, Female, Other]</td>\n",
       "    </tr>\n",
       "    <tr>\n",
       "      <th>1</th>\n",
       "      <td>age</td>\n",
       "      <td>float64</td>\n",
       "      <td>0</td>\n",
       "      <td>104</td>\n",
       "      <td>[67.0, 61.0, 80.0, 49.0, 79.0, 81.0, 74.0, 69....</td>\n",
       "    </tr>\n",
       "    <tr>\n",
       "      <th>2</th>\n",
       "      <td>hypertension</td>\n",
       "      <td>int64</td>\n",
       "      <td>0</td>\n",
       "      <td>2</td>\n",
       "      <td>[0, 1]</td>\n",
       "    </tr>\n",
       "    <tr>\n",
       "      <th>3</th>\n",
       "      <td>heart_disease</td>\n",
       "      <td>int64</td>\n",
       "      <td>0</td>\n",
       "      <td>2</td>\n",
       "      <td>[1, 0]</td>\n",
       "    </tr>\n",
       "    <tr>\n",
       "      <th>4</th>\n",
       "      <td>ever_married</td>\n",
       "      <td>object</td>\n",
       "      <td>0</td>\n",
       "      <td>2</td>\n",
       "      <td>[Yes, No]</td>\n",
       "    </tr>\n",
       "    <tr>\n",
       "      <th>5</th>\n",
       "      <td>work_type</td>\n",
       "      <td>object</td>\n",
       "      <td>0</td>\n",
       "      <td>5</td>\n",
       "      <td>[Private, Self-employed, Govt_job, children, N...</td>\n",
       "    </tr>\n",
       "    <tr>\n",
       "      <th>6</th>\n",
       "      <td>Residence_type</td>\n",
       "      <td>object</td>\n",
       "      <td>0</td>\n",
       "      <td>2</td>\n",
       "      <td>[Urban, Rural]</td>\n",
       "    </tr>\n",
       "    <tr>\n",
       "      <th>7</th>\n",
       "      <td>avg_glucose_level</td>\n",
       "      <td>float64</td>\n",
       "      <td>0</td>\n",
       "      <td>3979</td>\n",
       "      <td>[228.69, 202.21, 105.92, 171.23, 174.12, 186.2...</td>\n",
       "    </tr>\n",
       "    <tr>\n",
       "      <th>8</th>\n",
       "      <td>bmi</td>\n",
       "      <td>float64</td>\n",
       "      <td>201</td>\n",
       "      <td>418</td>\n",
       "      <td>[36.6, nan, 32.5, 34.4, 24.0, 29.0, 27.4, 22.8...</td>\n",
       "    </tr>\n",
       "    <tr>\n",
       "      <th>9</th>\n",
       "      <td>smoking_status</td>\n",
       "      <td>object</td>\n",
       "      <td>0</td>\n",
       "      <td>4</td>\n",
       "      <td>[formerly smoked, never smoked, smokes, Unknown]</td>\n",
       "    </tr>\n",
       "    <tr>\n",
       "      <th>10</th>\n",
       "      <td>stroke</td>\n",
       "      <td>int64</td>\n",
       "      <td>0</td>\n",
       "      <td>2</td>\n",
       "      <td>[1, 0]</td>\n",
       "    </tr>\n",
       "  </tbody>\n",
       "</table>\n",
       "</div>"
      ],
      "text/plain": [
       "             Variable     Type Missing Values Unique Values  \\\n",
       "0              gender   object              0             3   \n",
       "1                 age  float64              0           104   \n",
       "2        hypertension    int64              0             2   \n",
       "3       heart_disease    int64              0             2   \n",
       "4        ever_married   object              0             2   \n",
       "5           work_type   object              0             5   \n",
       "6      Residence_type   object              0             2   \n",
       "7   avg_glucose_level  float64              0          3979   \n",
       "8                 bmi  float64            201           418   \n",
       "9      smoking_status   object              0             4   \n",
       "10             stroke    int64              0             2   \n",
       "\n",
       "                               Distinct Unique Values  \n",
       "0                               [Male, Female, Other]  \n",
       "1   [67.0, 61.0, 80.0, 49.0, 79.0, 81.0, 74.0, 69....  \n",
       "2                                              [0, 1]  \n",
       "3                                              [1, 0]  \n",
       "4                                           [Yes, No]  \n",
       "5   [Private, Self-employed, Govt_job, children, N...  \n",
       "6                                      [Urban, Rural]  \n",
       "7   [228.69, 202.21, 105.92, 171.23, 174.12, 186.2...  \n",
       "8   [36.6, nan, 32.5, 34.4, 24.0, 29.0, 27.4, 22.8...  \n",
       "9    [formerly smoked, never smoked, smokes, Unknown]  \n",
       "10                                             [1, 0]  "
      ]
     },
     "execution_count": 3,
     "metadata": {},
     "output_type": "execute_result"
    }
   ],
   "source": [
    "#display a brief insight of dataset\n",
    "utils.df_summary(df)"
   ]
  },
  {
   "cell_type": "markdown",
   "id": "ee679505",
   "metadata": {},
   "source": [
    "<b>Initial Overview of the Dataset</b>\n",
    "\n",
    "A simple function was used to gain insight into the dataset, including the data type, missing values, unique values, and a preview of the dataset. The following findings were made:\n",
    "\n",
    "- There are 201 missing values for BMI.\n",
    "- The dataset contains both categorical and numerical features.\n",
    "- The categorical features include: gender, ever_married, work_type, residence_type, and smoking_status.\n",
    "- The binary numerical features include: hypertension, heart_disease, and stroke.\n",
    "- The continuous numerical features include: age, avg_glucose_level, and bmi."
   ]
  },
  {
   "cell_type": "code",
   "execution_count": 4,
   "id": "a365902f",
   "metadata": {},
   "outputs": [
    {
     "data": {
      "application/vnd.plotly.v1+json": {
       "config": {
        "plotlyServerURL": "https://plot.ly"
       },
       "data": [
        {
         "branchvalues": "total",
         "domain": {
          "x": [
           0,
           1
          ],
          "y": [
           0,
           1
          ]
         },
         "hovertemplate": "labels=%{label}<br>count=%{value}<br>parent=%{parent}<br>id=%{id}<extra></extra>",
         "ids": [
          "0/Female",
          "1/Female",
          "0/Male",
          "1/Male",
          "0/Other",
          "0",
          "1"
         ],
         "labels": [
          "Female",
          "Female",
          "Male",
          "Male",
          "Other",
          "0",
          "1"
         ],
         "name": "",
         "parents": [
          "0",
          "1",
          "0",
          "1",
          "0",
          "",
          ""
         ],
         "textinfo": "label+percent parent",
         "type": "sunburst",
         "values": [
          2853,
          141,
          2007,
          108,
          1,
          4861,
          249
         ]
        }
       ],
       "layout": {
        "annotations": [
         {
          "font": {
           "color": "#008B8B",
           "size": 20
          },
          "showarrow": false,
          "text": "Distribution of stroke by gender",
          "x": 0.5,
          "y": 1.1
         }
        ],
        "height": 500,
        "legend": {
         "tracegroupgap": 0
        },
        "margin": {
         "t": 60
        },
        "sunburstcolorway": [
         "green",
         "red"
        ],
        "template": {
         "data": {
          "bar": [
           {
            "error_x": {
             "color": "#2a3f5f"
            },
            "error_y": {
             "color": "#2a3f5f"
            },
            "marker": {
             "line": {
              "color": "#E5ECF6",
              "width": 0.5
             },
             "pattern": {
              "fillmode": "overlay",
              "size": 10,
              "solidity": 0.2
             }
            },
            "type": "bar"
           }
          ],
          "barpolar": [
           {
            "marker": {
             "line": {
              "color": "#E5ECF6",
              "width": 0.5
             },
             "pattern": {
              "fillmode": "overlay",
              "size": 10,
              "solidity": 0.2
             }
            },
            "type": "barpolar"
           }
          ],
          "carpet": [
           {
            "aaxis": {
             "endlinecolor": "#2a3f5f",
             "gridcolor": "white",
             "linecolor": "white",
             "minorgridcolor": "white",
             "startlinecolor": "#2a3f5f"
            },
            "baxis": {
             "endlinecolor": "#2a3f5f",
             "gridcolor": "white",
             "linecolor": "white",
             "minorgridcolor": "white",
             "startlinecolor": "#2a3f5f"
            },
            "type": "carpet"
           }
          ],
          "choropleth": [
           {
            "colorbar": {
             "outlinewidth": 0,
             "ticks": ""
            },
            "type": "choropleth"
           }
          ],
          "contour": [
           {
            "colorbar": {
             "outlinewidth": 0,
             "ticks": ""
            },
            "colorscale": [
             [
              0,
              "#0d0887"
             ],
             [
              0.1111111111111111,
              "#46039f"
             ],
             [
              0.2222222222222222,
              "#7201a8"
             ],
             [
              0.3333333333333333,
              "#9c179e"
             ],
             [
              0.4444444444444444,
              "#bd3786"
             ],
             [
              0.5555555555555556,
              "#d8576b"
             ],
             [
              0.6666666666666666,
              "#ed7953"
             ],
             [
              0.7777777777777778,
              "#fb9f3a"
             ],
             [
              0.8888888888888888,
              "#fdca26"
             ],
             [
              1,
              "#f0f921"
             ]
            ],
            "type": "contour"
           }
          ],
          "contourcarpet": [
           {
            "colorbar": {
             "outlinewidth": 0,
             "ticks": ""
            },
            "type": "contourcarpet"
           }
          ],
          "heatmap": [
           {
            "colorbar": {
             "outlinewidth": 0,
             "ticks": ""
            },
            "colorscale": [
             [
              0,
              "#0d0887"
             ],
             [
              0.1111111111111111,
              "#46039f"
             ],
             [
              0.2222222222222222,
              "#7201a8"
             ],
             [
              0.3333333333333333,
              "#9c179e"
             ],
             [
              0.4444444444444444,
              "#bd3786"
             ],
             [
              0.5555555555555556,
              "#d8576b"
             ],
             [
              0.6666666666666666,
              "#ed7953"
             ],
             [
              0.7777777777777778,
              "#fb9f3a"
             ],
             [
              0.8888888888888888,
              "#fdca26"
             ],
             [
              1,
              "#f0f921"
             ]
            ],
            "type": "heatmap"
           }
          ],
          "heatmapgl": [
           {
            "colorbar": {
             "outlinewidth": 0,
             "ticks": ""
            },
            "colorscale": [
             [
              0,
              "#0d0887"
             ],
             [
              0.1111111111111111,
              "#46039f"
             ],
             [
              0.2222222222222222,
              "#7201a8"
             ],
             [
              0.3333333333333333,
              "#9c179e"
             ],
             [
              0.4444444444444444,
              "#bd3786"
             ],
             [
              0.5555555555555556,
              "#d8576b"
             ],
             [
              0.6666666666666666,
              "#ed7953"
             ],
             [
              0.7777777777777778,
              "#fb9f3a"
             ],
             [
              0.8888888888888888,
              "#fdca26"
             ],
             [
              1,
              "#f0f921"
             ]
            ],
            "type": "heatmapgl"
           }
          ],
          "histogram": [
           {
            "marker": {
             "pattern": {
              "fillmode": "overlay",
              "size": 10,
              "solidity": 0.2
             }
            },
            "type": "histogram"
           }
          ],
          "histogram2d": [
           {
            "colorbar": {
             "outlinewidth": 0,
             "ticks": ""
            },
            "colorscale": [
             [
              0,
              "#0d0887"
             ],
             [
              0.1111111111111111,
              "#46039f"
             ],
             [
              0.2222222222222222,
              "#7201a8"
             ],
             [
              0.3333333333333333,
              "#9c179e"
             ],
             [
              0.4444444444444444,
              "#bd3786"
             ],
             [
              0.5555555555555556,
              "#d8576b"
             ],
             [
              0.6666666666666666,
              "#ed7953"
             ],
             [
              0.7777777777777778,
              "#fb9f3a"
             ],
             [
              0.8888888888888888,
              "#fdca26"
             ],
             [
              1,
              "#f0f921"
             ]
            ],
            "type": "histogram2d"
           }
          ],
          "histogram2dcontour": [
           {
            "colorbar": {
             "outlinewidth": 0,
             "ticks": ""
            },
            "colorscale": [
             [
              0,
              "#0d0887"
             ],
             [
              0.1111111111111111,
              "#46039f"
             ],
             [
              0.2222222222222222,
              "#7201a8"
             ],
             [
              0.3333333333333333,
              "#9c179e"
             ],
             [
              0.4444444444444444,
              "#bd3786"
             ],
             [
              0.5555555555555556,
              "#d8576b"
             ],
             [
              0.6666666666666666,
              "#ed7953"
             ],
             [
              0.7777777777777778,
              "#fb9f3a"
             ],
             [
              0.8888888888888888,
              "#fdca26"
             ],
             [
              1,
              "#f0f921"
             ]
            ],
            "type": "histogram2dcontour"
           }
          ],
          "mesh3d": [
           {
            "colorbar": {
             "outlinewidth": 0,
             "ticks": ""
            },
            "type": "mesh3d"
           }
          ],
          "parcoords": [
           {
            "line": {
             "colorbar": {
              "outlinewidth": 0,
              "ticks": ""
             }
            },
            "type": "parcoords"
           }
          ],
          "pie": [
           {
            "automargin": true,
            "type": "pie"
           }
          ],
          "scatter": [
           {
            "marker": {
             "colorbar": {
              "outlinewidth": 0,
              "ticks": ""
             }
            },
            "type": "scatter"
           }
          ],
          "scatter3d": [
           {
            "line": {
             "colorbar": {
              "outlinewidth": 0,
              "ticks": ""
             }
            },
            "marker": {
             "colorbar": {
              "outlinewidth": 0,
              "ticks": ""
             }
            },
            "type": "scatter3d"
           }
          ],
          "scattercarpet": [
           {
            "marker": {
             "colorbar": {
              "outlinewidth": 0,
              "ticks": ""
             }
            },
            "type": "scattercarpet"
           }
          ],
          "scattergeo": [
           {
            "marker": {
             "colorbar": {
              "outlinewidth": 0,
              "ticks": ""
             }
            },
            "type": "scattergeo"
           }
          ],
          "scattergl": [
           {
            "marker": {
             "colorbar": {
              "outlinewidth": 0,
              "ticks": ""
             }
            },
            "type": "scattergl"
           }
          ],
          "scattermapbox": [
           {
            "marker": {
             "colorbar": {
              "outlinewidth": 0,
              "ticks": ""
             }
            },
            "type": "scattermapbox"
           }
          ],
          "scatterpolar": [
           {
            "marker": {
             "colorbar": {
              "outlinewidth": 0,
              "ticks": ""
             }
            },
            "type": "scatterpolar"
           }
          ],
          "scatterpolargl": [
           {
            "marker": {
             "colorbar": {
              "outlinewidth": 0,
              "ticks": ""
             }
            },
            "type": "scatterpolargl"
           }
          ],
          "scatterternary": [
           {
            "marker": {
             "colorbar": {
              "outlinewidth": 0,
              "ticks": ""
             }
            },
            "type": "scatterternary"
           }
          ],
          "surface": [
           {
            "colorbar": {
             "outlinewidth": 0,
             "ticks": ""
            },
            "colorscale": [
             [
              0,
              "#0d0887"
             ],
             [
              0.1111111111111111,
              "#46039f"
             ],
             [
              0.2222222222222222,
              "#7201a8"
             ],
             [
              0.3333333333333333,
              "#9c179e"
             ],
             [
              0.4444444444444444,
              "#bd3786"
             ],
             [
              0.5555555555555556,
              "#d8576b"
             ],
             [
              0.6666666666666666,
              "#ed7953"
             ],
             [
              0.7777777777777778,
              "#fb9f3a"
             ],
             [
              0.8888888888888888,
              "#fdca26"
             ],
             [
              1,
              "#f0f921"
             ]
            ],
            "type": "surface"
           }
          ],
          "table": [
           {
            "cells": {
             "fill": {
              "color": "#EBF0F8"
             },
             "line": {
              "color": "white"
             }
            },
            "header": {
             "fill": {
              "color": "#C8D4E3"
             },
             "line": {
              "color": "white"
             }
            },
            "type": "table"
           }
          ]
         },
         "layout": {
          "annotationdefaults": {
           "arrowcolor": "#2a3f5f",
           "arrowhead": 0,
           "arrowwidth": 1
          },
          "autotypenumbers": "strict",
          "coloraxis": {
           "colorbar": {
            "outlinewidth": 0,
            "ticks": ""
           }
          },
          "colorscale": {
           "diverging": [
            [
             0,
             "#8e0152"
            ],
            [
             0.1,
             "#c51b7d"
            ],
            [
             0.2,
             "#de77ae"
            ],
            [
             0.3,
             "#f1b6da"
            ],
            [
             0.4,
             "#fde0ef"
            ],
            [
             0.5,
             "#f7f7f7"
            ],
            [
             0.6,
             "#e6f5d0"
            ],
            [
             0.7,
             "#b8e186"
            ],
            [
             0.8,
             "#7fbc41"
            ],
            [
             0.9,
             "#4d9221"
            ],
            [
             1,
             "#276419"
            ]
           ],
           "sequential": [
            [
             0,
             "#0d0887"
            ],
            [
             0.1111111111111111,
             "#46039f"
            ],
            [
             0.2222222222222222,
             "#7201a8"
            ],
            [
             0.3333333333333333,
             "#9c179e"
            ],
            [
             0.4444444444444444,
             "#bd3786"
            ],
            [
             0.5555555555555556,
             "#d8576b"
            ],
            [
             0.6666666666666666,
             "#ed7953"
            ],
            [
             0.7777777777777778,
             "#fb9f3a"
            ],
            [
             0.8888888888888888,
             "#fdca26"
            ],
            [
             1,
             "#f0f921"
            ]
           ],
           "sequentialminus": [
            [
             0,
             "#0d0887"
            ],
            [
             0.1111111111111111,
             "#46039f"
            ],
            [
             0.2222222222222222,
             "#7201a8"
            ],
            [
             0.3333333333333333,
             "#9c179e"
            ],
            [
             0.4444444444444444,
             "#bd3786"
            ],
            [
             0.5555555555555556,
             "#d8576b"
            ],
            [
             0.6666666666666666,
             "#ed7953"
            ],
            [
             0.7777777777777778,
             "#fb9f3a"
            ],
            [
             0.8888888888888888,
             "#fdca26"
            ],
            [
             1,
             "#f0f921"
            ]
           ]
          },
          "colorway": [
           "#636efa",
           "#EF553B",
           "#00cc96",
           "#ab63fa",
           "#FFA15A",
           "#19d3f3",
           "#FF6692",
           "#B6E880",
           "#FF97FF",
           "#FECB52"
          ],
          "font": {
           "color": "#2a3f5f"
          },
          "geo": {
           "bgcolor": "white",
           "lakecolor": "white",
           "landcolor": "#E5ECF6",
           "showlakes": true,
           "showland": true,
           "subunitcolor": "white"
          },
          "hoverlabel": {
           "align": "left"
          },
          "hovermode": "closest",
          "mapbox": {
           "style": "light"
          },
          "paper_bgcolor": "white",
          "plot_bgcolor": "#E5ECF6",
          "polar": {
           "angularaxis": {
            "gridcolor": "white",
            "linecolor": "white",
            "ticks": ""
           },
           "bgcolor": "#E5ECF6",
           "radialaxis": {
            "gridcolor": "white",
            "linecolor": "white",
            "ticks": ""
           }
          },
          "scene": {
           "xaxis": {
            "backgroundcolor": "#E5ECF6",
            "gridcolor": "white",
            "gridwidth": 2,
            "linecolor": "white",
            "showbackground": true,
            "ticks": "",
            "zerolinecolor": "white"
           },
           "yaxis": {
            "backgroundcolor": "#E5ECF6",
            "gridcolor": "white",
            "gridwidth": 2,
            "linecolor": "white",
            "showbackground": true,
            "ticks": "",
            "zerolinecolor": "white"
           },
           "zaxis": {
            "backgroundcolor": "#E5ECF6",
            "gridcolor": "white",
            "gridwidth": 2,
            "linecolor": "white",
            "showbackground": true,
            "ticks": "",
            "zerolinecolor": "white"
           }
          },
          "shapedefaults": {
           "line": {
            "color": "#2a3f5f"
           }
          },
          "ternary": {
           "aaxis": {
            "gridcolor": "white",
            "linecolor": "white",
            "ticks": ""
           },
           "baxis": {
            "gridcolor": "white",
            "linecolor": "white",
            "ticks": ""
           },
           "bgcolor": "#E5ECF6",
           "caxis": {
            "gridcolor": "white",
            "linecolor": "white",
            "ticks": ""
           }
          },
          "title": {
           "x": 0.05
          },
          "xaxis": {
           "automargin": true,
           "gridcolor": "white",
           "linecolor": "white",
           "ticks": "",
           "title": {
            "standoff": 15
           },
           "zerolinecolor": "white",
           "zerolinewidth": 2
          },
          "yaxis": {
           "automargin": true,
           "gridcolor": "white",
           "linecolor": "white",
           "ticks": "",
           "title": {
            "standoff": 15
           },
           "zerolinecolor": "white",
           "zerolinewidth": 2
          }
         }
        },
        "width": 500
       }
      },
      "text/html": [
       "<div>                            <div id=\"eaf60cb5-156d-4ce3-8bef-019adf621fa5\" class=\"plotly-graph-div\" style=\"height:500px; width:500px;\"></div>            <script type=\"text/javascript\">                require([\"plotly\"], function(Plotly) {                    window.PLOTLYENV=window.PLOTLYENV || {};                                    if (document.getElementById(\"eaf60cb5-156d-4ce3-8bef-019adf621fa5\")) {                    Plotly.newPlot(                        \"eaf60cb5-156d-4ce3-8bef-019adf621fa5\",                        [{\"branchvalues\":\"total\",\"domain\":{\"x\":[0.0,1.0],\"y\":[0.0,1.0]},\"hovertemplate\":\"labels=%{label}<br>count=%{value}<br>parent=%{parent}<br>id=%{id}<extra></extra>\",\"ids\":[\"0/Female\",\"1/Female\",\"0/Male\",\"1/Male\",\"0/Other\",\"0\",\"1\"],\"labels\":[\"Female\",\"Female\",\"Male\",\"Male\",\"Other\",\"0\",\"1\"],\"name\":\"\",\"parents\":[\"0\",\"1\",\"0\",\"1\",\"0\",\"\",\"\"],\"values\":[2853,141,2007,108,1,4861,249],\"type\":\"sunburst\",\"textinfo\":\"label+percent parent\"}],                        {\"template\":{\"data\":{\"bar\":[{\"error_x\":{\"color\":\"#2a3f5f\"},\"error_y\":{\"color\":\"#2a3f5f\"},\"marker\":{\"line\":{\"color\":\"#E5ECF6\",\"width\":0.5},\"pattern\":{\"fillmode\":\"overlay\",\"size\":10,\"solidity\":0.2}},\"type\":\"bar\"}],\"barpolar\":[{\"marker\":{\"line\":{\"color\":\"#E5ECF6\",\"width\":0.5},\"pattern\":{\"fillmode\":\"overlay\",\"size\":10,\"solidity\":0.2}},\"type\":\"barpolar\"}],\"carpet\":[{\"aaxis\":{\"endlinecolor\":\"#2a3f5f\",\"gridcolor\":\"white\",\"linecolor\":\"white\",\"minorgridcolor\":\"white\",\"startlinecolor\":\"#2a3f5f\"},\"baxis\":{\"endlinecolor\":\"#2a3f5f\",\"gridcolor\":\"white\",\"linecolor\":\"white\",\"minorgridcolor\":\"white\",\"startlinecolor\":\"#2a3f5f\"},\"type\":\"carpet\"}],\"choropleth\":[{\"colorbar\":{\"outlinewidth\":0,\"ticks\":\"\"},\"type\":\"choropleth\"}],\"contour\":[{\"colorbar\":{\"outlinewidth\":0,\"ticks\":\"\"},\"colorscale\":[[0.0,\"#0d0887\"],[0.1111111111111111,\"#46039f\"],[0.2222222222222222,\"#7201a8\"],[0.3333333333333333,\"#9c179e\"],[0.4444444444444444,\"#bd3786\"],[0.5555555555555556,\"#d8576b\"],[0.6666666666666666,\"#ed7953\"],[0.7777777777777778,\"#fb9f3a\"],[0.8888888888888888,\"#fdca26\"],[1.0,\"#f0f921\"]],\"type\":\"contour\"}],\"contourcarpet\":[{\"colorbar\":{\"outlinewidth\":0,\"ticks\":\"\"},\"type\":\"contourcarpet\"}],\"heatmap\":[{\"colorbar\":{\"outlinewidth\":0,\"ticks\":\"\"},\"colorscale\":[[0.0,\"#0d0887\"],[0.1111111111111111,\"#46039f\"],[0.2222222222222222,\"#7201a8\"],[0.3333333333333333,\"#9c179e\"],[0.4444444444444444,\"#bd3786\"],[0.5555555555555556,\"#d8576b\"],[0.6666666666666666,\"#ed7953\"],[0.7777777777777778,\"#fb9f3a\"],[0.8888888888888888,\"#fdca26\"],[1.0,\"#f0f921\"]],\"type\":\"heatmap\"}],\"heatmapgl\":[{\"colorbar\":{\"outlinewidth\":0,\"ticks\":\"\"},\"colorscale\":[[0.0,\"#0d0887\"],[0.1111111111111111,\"#46039f\"],[0.2222222222222222,\"#7201a8\"],[0.3333333333333333,\"#9c179e\"],[0.4444444444444444,\"#bd3786\"],[0.5555555555555556,\"#d8576b\"],[0.6666666666666666,\"#ed7953\"],[0.7777777777777778,\"#fb9f3a\"],[0.8888888888888888,\"#fdca26\"],[1.0,\"#f0f921\"]],\"type\":\"heatmapgl\"}],\"histogram\":[{\"marker\":{\"pattern\":{\"fillmode\":\"overlay\",\"size\":10,\"solidity\":0.2}},\"type\":\"histogram\"}],\"histogram2d\":[{\"colorbar\":{\"outlinewidth\":0,\"ticks\":\"\"},\"colorscale\":[[0.0,\"#0d0887\"],[0.1111111111111111,\"#46039f\"],[0.2222222222222222,\"#7201a8\"],[0.3333333333333333,\"#9c179e\"],[0.4444444444444444,\"#bd3786\"],[0.5555555555555556,\"#d8576b\"],[0.6666666666666666,\"#ed7953\"],[0.7777777777777778,\"#fb9f3a\"],[0.8888888888888888,\"#fdca26\"],[1.0,\"#f0f921\"]],\"type\":\"histogram2d\"}],\"histogram2dcontour\":[{\"colorbar\":{\"outlinewidth\":0,\"ticks\":\"\"},\"colorscale\":[[0.0,\"#0d0887\"],[0.1111111111111111,\"#46039f\"],[0.2222222222222222,\"#7201a8\"],[0.3333333333333333,\"#9c179e\"],[0.4444444444444444,\"#bd3786\"],[0.5555555555555556,\"#d8576b\"],[0.6666666666666666,\"#ed7953\"],[0.7777777777777778,\"#fb9f3a\"],[0.8888888888888888,\"#fdca26\"],[1.0,\"#f0f921\"]],\"type\":\"histogram2dcontour\"}],\"mesh3d\":[{\"colorbar\":{\"outlinewidth\":0,\"ticks\":\"\"},\"type\":\"mesh3d\"}],\"parcoords\":[{\"line\":{\"colorbar\":{\"outlinewidth\":0,\"ticks\":\"\"}},\"type\":\"parcoords\"}],\"pie\":[{\"automargin\":true,\"type\":\"pie\"}],\"scatter\":[{\"marker\":{\"colorbar\":{\"outlinewidth\":0,\"ticks\":\"\"}},\"type\":\"scatter\"}],\"scatter3d\":[{\"line\":{\"colorbar\":{\"outlinewidth\":0,\"ticks\":\"\"}},\"marker\":{\"colorbar\":{\"outlinewidth\":0,\"ticks\":\"\"}},\"type\":\"scatter3d\"}],\"scattercarpet\":[{\"marker\":{\"colorbar\":{\"outlinewidth\":0,\"ticks\":\"\"}},\"type\":\"scattercarpet\"}],\"scattergeo\":[{\"marker\":{\"colorbar\":{\"outlinewidth\":0,\"ticks\":\"\"}},\"type\":\"scattergeo\"}],\"scattergl\":[{\"marker\":{\"colorbar\":{\"outlinewidth\":0,\"ticks\":\"\"}},\"type\":\"scattergl\"}],\"scattermapbox\":[{\"marker\":{\"colorbar\":{\"outlinewidth\":0,\"ticks\":\"\"}},\"type\":\"scattermapbox\"}],\"scatterpolar\":[{\"marker\":{\"colorbar\":{\"outlinewidth\":0,\"ticks\":\"\"}},\"type\":\"scatterpolar\"}],\"scatterpolargl\":[{\"marker\":{\"colorbar\":{\"outlinewidth\":0,\"ticks\":\"\"}},\"type\":\"scatterpolargl\"}],\"scatterternary\":[{\"marker\":{\"colorbar\":{\"outlinewidth\":0,\"ticks\":\"\"}},\"type\":\"scatterternary\"}],\"surface\":[{\"colorbar\":{\"outlinewidth\":0,\"ticks\":\"\"},\"colorscale\":[[0.0,\"#0d0887\"],[0.1111111111111111,\"#46039f\"],[0.2222222222222222,\"#7201a8\"],[0.3333333333333333,\"#9c179e\"],[0.4444444444444444,\"#bd3786\"],[0.5555555555555556,\"#d8576b\"],[0.6666666666666666,\"#ed7953\"],[0.7777777777777778,\"#fb9f3a\"],[0.8888888888888888,\"#fdca26\"],[1.0,\"#f0f921\"]],\"type\":\"surface\"}],\"table\":[{\"cells\":{\"fill\":{\"color\":\"#EBF0F8\"},\"line\":{\"color\":\"white\"}},\"header\":{\"fill\":{\"color\":\"#C8D4E3\"},\"line\":{\"color\":\"white\"}},\"type\":\"table\"}]},\"layout\":{\"annotationdefaults\":{\"arrowcolor\":\"#2a3f5f\",\"arrowhead\":0,\"arrowwidth\":1},\"autotypenumbers\":\"strict\",\"coloraxis\":{\"colorbar\":{\"outlinewidth\":0,\"ticks\":\"\"}},\"colorscale\":{\"diverging\":[[0,\"#8e0152\"],[0.1,\"#c51b7d\"],[0.2,\"#de77ae\"],[0.3,\"#f1b6da\"],[0.4,\"#fde0ef\"],[0.5,\"#f7f7f7\"],[0.6,\"#e6f5d0\"],[0.7,\"#b8e186\"],[0.8,\"#7fbc41\"],[0.9,\"#4d9221\"],[1,\"#276419\"]],\"sequential\":[[0.0,\"#0d0887\"],[0.1111111111111111,\"#46039f\"],[0.2222222222222222,\"#7201a8\"],[0.3333333333333333,\"#9c179e\"],[0.4444444444444444,\"#bd3786\"],[0.5555555555555556,\"#d8576b\"],[0.6666666666666666,\"#ed7953\"],[0.7777777777777778,\"#fb9f3a\"],[0.8888888888888888,\"#fdca26\"],[1.0,\"#f0f921\"]],\"sequentialminus\":[[0.0,\"#0d0887\"],[0.1111111111111111,\"#46039f\"],[0.2222222222222222,\"#7201a8\"],[0.3333333333333333,\"#9c179e\"],[0.4444444444444444,\"#bd3786\"],[0.5555555555555556,\"#d8576b\"],[0.6666666666666666,\"#ed7953\"],[0.7777777777777778,\"#fb9f3a\"],[0.8888888888888888,\"#fdca26\"],[1.0,\"#f0f921\"]]},\"colorway\":[\"#636efa\",\"#EF553B\",\"#00cc96\",\"#ab63fa\",\"#FFA15A\",\"#19d3f3\",\"#FF6692\",\"#B6E880\",\"#FF97FF\",\"#FECB52\"],\"font\":{\"color\":\"#2a3f5f\"},\"geo\":{\"bgcolor\":\"white\",\"lakecolor\":\"white\",\"landcolor\":\"#E5ECF6\",\"showlakes\":true,\"showland\":true,\"subunitcolor\":\"white\"},\"hoverlabel\":{\"align\":\"left\"},\"hovermode\":\"closest\",\"mapbox\":{\"style\":\"light\"},\"paper_bgcolor\":\"white\",\"plot_bgcolor\":\"#E5ECF6\",\"polar\":{\"angularaxis\":{\"gridcolor\":\"white\",\"linecolor\":\"white\",\"ticks\":\"\"},\"bgcolor\":\"#E5ECF6\",\"radialaxis\":{\"gridcolor\":\"white\",\"linecolor\":\"white\",\"ticks\":\"\"}},\"scene\":{\"xaxis\":{\"backgroundcolor\":\"#E5ECF6\",\"gridcolor\":\"white\",\"gridwidth\":2,\"linecolor\":\"white\",\"showbackground\":true,\"ticks\":\"\",\"zerolinecolor\":\"white\"},\"yaxis\":{\"backgroundcolor\":\"#E5ECF6\",\"gridcolor\":\"white\",\"gridwidth\":2,\"linecolor\":\"white\",\"showbackground\":true,\"ticks\":\"\",\"zerolinecolor\":\"white\"},\"zaxis\":{\"backgroundcolor\":\"#E5ECF6\",\"gridcolor\":\"white\",\"gridwidth\":2,\"linecolor\":\"white\",\"showbackground\":true,\"ticks\":\"\",\"zerolinecolor\":\"white\"}},\"shapedefaults\":{\"line\":{\"color\":\"#2a3f5f\"}},\"ternary\":{\"aaxis\":{\"gridcolor\":\"white\",\"linecolor\":\"white\",\"ticks\":\"\"},\"baxis\":{\"gridcolor\":\"white\",\"linecolor\":\"white\",\"ticks\":\"\"},\"bgcolor\":\"#E5ECF6\",\"caxis\":{\"gridcolor\":\"white\",\"linecolor\":\"white\",\"ticks\":\"\"}},\"title\":{\"x\":0.05},\"xaxis\":{\"automargin\":true,\"gridcolor\":\"white\",\"linecolor\":\"white\",\"ticks\":\"\",\"title\":{\"standoff\":15},\"zerolinecolor\":\"white\",\"zerolinewidth\":2},\"yaxis\":{\"automargin\":true,\"gridcolor\":\"white\",\"linecolor\":\"white\",\"ticks\":\"\",\"title\":{\"standoff\":15},\"zerolinecolor\":\"white\",\"zerolinewidth\":2}}},\"legend\":{\"tracegroupgap\":0},\"margin\":{\"t\":60},\"sunburstcolorway\":[\"green\",\"red\"],\"height\":500,\"width\":500,\"annotations\":[{\"showarrow\":false,\"text\":\"Distribution of stroke by gender\",\"x\":0.5,\"y\":1.1,\"font\":{\"size\":20,\"color\":\"#008B8B\"}}]},                        {\"responsive\": true}                    ).then(function(){\n",
       "                            \n",
       "var gd = document.getElementById('eaf60cb5-156d-4ce3-8bef-019adf621fa5');\n",
       "var x = new MutationObserver(function (mutations, observer) {{\n",
       "        var display = window.getComputedStyle(gd).display;\n",
       "        if (!display || display === 'none') {{\n",
       "            console.log([gd, 'removed!']);\n",
       "            Plotly.purge(gd);\n",
       "            observer.disconnect();\n",
       "        }}\n",
       "}});\n",
       "\n",
       "// Listen for the removal of the full notebook cells\n",
       "var notebookContainer = gd.closest('#notebook-container');\n",
       "if (notebookContainer) {{\n",
       "    x.observe(notebookContainer, {childList: true});\n",
       "}}\n",
       "\n",
       "// Listen for the clearing of the current output cell\n",
       "var outputEl = gd.closest('.output');\n",
       "if (outputEl) {{\n",
       "    x.observe(outputEl, {childList: true});\n",
       "}}\n",
       "\n",
       "                        })                };                });            </script>        </div>"
      ]
     },
     "metadata": {},
     "output_type": "display_data"
    }
   ],
   "source": [
    "#create a sunburst chart to view the distribution of data \n",
    "df_stroke= df.groupby(['stroke', 'gender']).agg({'gender': 'count'}).rename(columns = {'gender': 'count'}).reset_index()\n",
    "\n",
    "fig = px.sunburst(df_stroke, path = ['stroke', 'gender'], values = 'count', color_discrete_sequence=[\"green\", \"red\"], height=500, width=500)\n",
    "\n",
    "fig.update_layout(annotations = [dict(text = 'Distribution of stroke by gender', \n",
    "                                      x = 0.5, y = 1.1, font_size = 20, showarrow = False, \n",
    "                                      font_color = '#008B8B')])\n",
    "\n",
    "fig.update_traces(textinfo = 'label + percent parent')\n",
    "                  \n",
    "fig.show()"
   ]
  },
  {
   "cell_type": "markdown",
   "id": "a455aa32",
   "metadata": {},
   "source": [
    "<b> Distribution of target variable </b>\n",
    "\n",
    "From the distribution, it is evident that only 5 out of every 100 people in our sample data have had strokes. This data distribution is highly unbalanced and has a null accuracy score of 95%. This means that even a basic model that makes random predictions of stroke can reach high accuracy. Therefore, when modeling and training the data, either oversampling or undersampling should be performed to achieve the best results."
   ]
  },
  {
   "cell_type": "code",
   "execution_count": 5,
   "id": "d5f5f66c",
   "metadata": {},
   "outputs": [],
   "source": [
    "#Missing value imputation logic is referenced from https://www.kaggle.com/thomaskonstantin/analyzing-and-modeling-stroke-data\n",
    "DT_bmi_pipe = Pipeline( steps=[ \n",
    "                               ('scale',StandardScaler()),\n",
    "                               ('lr',DecisionTreeRegressor(random_state=42))\n",
    "                              ])\n",
    "X = df[['age','gender','bmi']].copy()\n",
    "X.gender = X.gender.replace({'Male':0,'Female':1,'Other':-1}).astype(np.uint8)\n",
    "\n",
    "Missing = X[X.bmi.isna()]\n",
    "X = X[~X.bmi.isna()]\n",
    "Y = X.pop('bmi')\n",
    "DT_bmi_pipe.fit(X,Y)\n",
    "predicted_bmi = pd.Series(DT_bmi_pipe.predict(Missing[['age','gender']]),index=Missing.index)\n",
    "df.loc[Missing.index,'bmi'] = predicted_bmi"
   ]
  },
  {
   "cell_type": "code",
   "execution_count": 6,
   "id": "0366c2db",
   "metadata": {},
   "outputs": [],
   "source": [
    "#categorical feature transformation using label Encoding\n",
    "le=LabelEncoder()\n",
    "df['gender']=le.fit_transform(df['gender']) # Female = 0, Male =1\n",
    "df['ever_married']=le.fit_transform(df['ever_married']) # Yes =1, No=0\n",
    "df['Residence_type']=le.fit_transform(df['Residence_type']) # Urban =1, Rural =0\n",
    "df['work_type']=le.fit_transform(df['work_type']) "
   ]
  },
  {
   "cell_type": "code",
   "execution_count": 7,
   "id": "0b511880",
   "metadata": {},
   "outputs": [
    {
     "data": {
      "text/html": [
       "<div>\n",
       "<style scoped>\n",
       "    .dataframe tbody tr th:only-of-type {\n",
       "        vertical-align: middle;\n",
       "    }\n",
       "\n",
       "    .dataframe tbody tr th {\n",
       "        vertical-align: top;\n",
       "    }\n",
       "\n",
       "    .dataframe thead th {\n",
       "        text-align: right;\n",
       "    }\n",
       "</style>\n",
       "<table border=\"1\" class=\"dataframe\">\n",
       "  <thead>\n",
       "    <tr style=\"text-align: right;\">\n",
       "      <th></th>\n",
       "      <th>Variable</th>\n",
       "      <th>Type</th>\n",
       "      <th>Missing Values</th>\n",
       "      <th>Unique Values</th>\n",
       "      <th>Distinct Unique Values</th>\n",
       "    </tr>\n",
       "  </thead>\n",
       "  <tbody>\n",
       "    <tr>\n",
       "      <th>0</th>\n",
       "      <td>gender</td>\n",
       "      <td>int64</td>\n",
       "      <td>0</td>\n",
       "      <td>3</td>\n",
       "      <td>[1, 0, 2]</td>\n",
       "    </tr>\n",
       "    <tr>\n",
       "      <th>1</th>\n",
       "      <td>age</td>\n",
       "      <td>float64</td>\n",
       "      <td>0</td>\n",
       "      <td>104</td>\n",
       "      <td>[67.0, 61.0, 80.0, 49.0, 79.0, 81.0, 74.0, 69....</td>\n",
       "    </tr>\n",
       "    <tr>\n",
       "      <th>2</th>\n",
       "      <td>hypertension</td>\n",
       "      <td>int64</td>\n",
       "      <td>0</td>\n",
       "      <td>2</td>\n",
       "      <td>[0, 1]</td>\n",
       "    </tr>\n",
       "    <tr>\n",
       "      <th>3</th>\n",
       "      <td>heart_disease</td>\n",
       "      <td>int64</td>\n",
       "      <td>0</td>\n",
       "      <td>2</td>\n",
       "      <td>[1, 0]</td>\n",
       "    </tr>\n",
       "    <tr>\n",
       "      <th>4</th>\n",
       "      <td>ever_married</td>\n",
       "      <td>int64</td>\n",
       "      <td>0</td>\n",
       "      <td>2</td>\n",
       "      <td>[1, 0]</td>\n",
       "    </tr>\n",
       "    <tr>\n",
       "      <th>5</th>\n",
       "      <td>work_type</td>\n",
       "      <td>int64</td>\n",
       "      <td>0</td>\n",
       "      <td>5</td>\n",
       "      <td>[2, 3, 0, 4, 1]</td>\n",
       "    </tr>\n",
       "    <tr>\n",
       "      <th>6</th>\n",
       "      <td>Residence_type</td>\n",
       "      <td>int64</td>\n",
       "      <td>0</td>\n",
       "      <td>2</td>\n",
       "      <td>[1, 0]</td>\n",
       "    </tr>\n",
       "    <tr>\n",
       "      <th>7</th>\n",
       "      <td>avg_glucose_level</td>\n",
       "      <td>float64</td>\n",
       "      <td>0</td>\n",
       "      <td>3979</td>\n",
       "      <td>[228.69, 202.21, 105.92, 171.23, 174.12, 186.2...</td>\n",
       "    </tr>\n",
       "    <tr>\n",
       "      <th>8</th>\n",
       "      <td>bmi</td>\n",
       "      <td>float64</td>\n",
       "      <td>0</td>\n",
       "      <td>528</td>\n",
       "      <td>[36.6, 29.879487179487185, 32.5, 34.4, 24.0, 2...</td>\n",
       "    </tr>\n",
       "    <tr>\n",
       "      <th>9</th>\n",
       "      <td>smoking_status</td>\n",
       "      <td>object</td>\n",
       "      <td>0</td>\n",
       "      <td>4</td>\n",
       "      <td>[formerly smoked, never smoked, smokes, Unknown]</td>\n",
       "    </tr>\n",
       "    <tr>\n",
       "      <th>10</th>\n",
       "      <td>stroke</td>\n",
       "      <td>int64</td>\n",
       "      <td>0</td>\n",
       "      <td>2</td>\n",
       "      <td>[1, 0]</td>\n",
       "    </tr>\n",
       "  </tbody>\n",
       "</table>\n",
       "</div>"
      ],
      "text/plain": [
       "             Variable     Type Missing Values Unique Values  \\\n",
       "0              gender    int64              0             3   \n",
       "1                 age  float64              0           104   \n",
       "2        hypertension    int64              0             2   \n",
       "3       heart_disease    int64              0             2   \n",
       "4        ever_married    int64              0             2   \n",
       "5           work_type    int64              0             5   \n",
       "6      Residence_type    int64              0             2   \n",
       "7   avg_glucose_level  float64              0          3979   \n",
       "8                 bmi  float64              0           528   \n",
       "9      smoking_status   object              0             4   \n",
       "10             stroke    int64              0             2   \n",
       "\n",
       "                               Distinct Unique Values  \n",
       "0                                           [1, 0, 2]  \n",
       "1   [67.0, 61.0, 80.0, 49.0, 79.0, 81.0, 74.0, 69....  \n",
       "2                                              [0, 1]  \n",
       "3                                              [1, 0]  \n",
       "4                                              [1, 0]  \n",
       "5                                     [2, 3, 0, 4, 1]  \n",
       "6                                              [1, 0]  \n",
       "7   [228.69, 202.21, 105.92, 171.23, 174.12, 186.2...  \n",
       "8   [36.6, 29.879487179487185, 32.5, 34.4, 24.0, 2...  \n",
       "9    [formerly smoked, never smoked, smokes, Unknown]  \n",
       "10                                             [1, 0]  "
      ]
     },
     "execution_count": 7,
     "metadata": {},
     "output_type": "execute_result"
    }
   ],
   "source": [
    "#Summary post feature engineering \n",
    "utils.df_summary(df)"
   ]
  },
  {
   "cell_type": "markdown",
   "id": "e3ac9381",
   "metadata": {},
   "source": [
    "## Train-Test Split"
   ]
  },
  {
   "cell_type": "code",
   "execution_count": 8,
   "id": "8f8bc0a5",
   "metadata": {},
   "outputs": [
    {
     "name": "stdout",
     "output_type": "stream",
     "text": [
      "(5110, 7), (4088, 7), (1022, 7)\n"
     ]
    }
   ],
   "source": [
    "#train test split\n",
    "X = df.drop(columns=['stroke','smoking_status','ever_married','Residence_type'])\n",
    "y = df[['stroke']]\n",
    "\n",
    "#80% train and 20% test\n",
    "X_train, X_test, y_train, y_test = train_test_split(X, y, test_size=0.2, random_state=42)\n",
    "print(\"%r, %r, %r\" % (X.shape, X_train.shape, X_test.shape))"
   ]
  },
  {
   "cell_type": "markdown",
   "id": "5a4da10c",
   "metadata": {},
   "source": [
    "## Upsampling the dataset"
   ]
  },
  {
   "cell_type": "code",
   "execution_count": 9,
   "id": "0172e405",
   "metadata": {},
   "outputs": [],
   "source": [
    "oversample = SMOTE()\n",
    "X_train_sample, y_train_sample = oversample.fit_resample(X_train, y_train['stroke'])"
   ]
  },
  {
   "cell_type": "code",
   "execution_count": 10,
   "id": "a1297187",
   "metadata": {},
   "outputs": [
    {
     "data": {
      "text/plain": [
       "0    3901\n",
       "1    3901\n",
       "Name: stroke, dtype: int64"
      ]
     },
     "execution_count": 10,
     "metadata": {},
     "output_type": "execute_result"
    }
   ],
   "source": [
    "#sampled data\n",
    "y_train_sample.value_counts()"
   ]
  },
  {
   "cell_type": "markdown",
   "id": "3347022d",
   "metadata": {},
   "source": [
    "[back](#Table-of-Contents)"
   ]
  },
  {
   "cell_type": "markdown",
   "id": "73656c8d",
   "metadata": {},
   "source": [
    "<hr color='#008B8B'>"
   ]
  },
  {
   "cell_type": "markdown",
   "id": "c424ffc1",
   "metadata": {},
   "source": [
    "# Building the model\n"
   ]
  },
  {
   "cell_type": "markdown",
   "id": "3d810261",
   "metadata": {},
   "source": [
    "For the demo purpose, the LightGBM algorithm is used to train the model. The size of the dataset is small, and other basic models such as Random Forest could have also been used. "
   ]
  },
  {
   "cell_type": "markdown",
   "id": "0a5c0a71",
   "metadata": {},
   "source": [
    "<font size = 5 color = '#008B8B'> <b>Light GBM and package details</b> </font>"
   ]
  },
  {
   "cell_type": "markdown",
   "id": "d5f852e6",
   "metadata": {
    "ExecuteTime": {
     "end_time": "2022-10-12T09:14:52.346630Z",
     "start_time": "2022-10-12T09:14:52.338630Z"
    }
   },
   "source": [
    "For this demo, we have used [`LightGBM classifier`](https://lightgbm.readthedocs.io/en/latest/pythonapi/lightgbm.LGBMClassifier.html). \n",
    "\n",
    "1. LightGBM is a fast, distributed, high performance **gradient boosting framework** based on **decision tree** algorithms. \n",
    "2. Handle the large size of data and takes lower memory to run and focuses on accuracy of results. \n",
    "3. Faster training speed and accuracy resulting from it being a **histogram-based algorithm** that performs bucketing of values.\n",
    "4. It **grows tree vertically**(leaf-wise) while other algorithm grows trees horizontally(level-wise).\n",
    "5. It will **choose the leaf with max delta loss to grow**. \n",
    "    When growing the same leaf, Leaf-wise algorithm can reduce more loss than a level-wise algorithm.\n",
    "\n",
    "Below diagrams explain the implementation of LightGBM and other boosting algorithms.\n",
    "\n",
    "<div style=\"float: left;\">\n",
    "<img src = \"https://cdn.analyticsvidhya.com/wp-content/uploads/2017/06/11194110/leaf.png\" width = 450 length = 450 ><center>How other boosting algorithm works</center>\n",
    "</div>\n",
    "\n",
    "<br>\n",
    "\n",
    "\n",
    "<div style=\"float: left;\">\n",
    "<img src = \"https://cdn.analyticsvidhya.com/wp-content/uploads/2017/06/11194227/depth.png\" width = 450 length = 450 ><center>How other boosting algorithm works</center>\n",
    "</div>\n",
    "\n",
    "\n"
   ]
  },
  {
   "cell_type": "markdown",
   "id": "5ad2cde0",
   "metadata": {},
   "source": [
    "## Key model outputs"
   ]
  },
  {
   "cell_type": "code",
   "execution_count": 11,
   "id": "738fa726",
   "metadata": {
    "ExecuteTime": {
     "end_time": "2022-12-19T12:28:52.040295Z",
     "start_time": "2022-12-19T12:28:41.233356Z"
    }
   },
   "outputs": [
    {
     "name": "stdout",
     "output_type": "stream",
     "text": [
      "\u001b[1m\u001b[4mLGBM Classifier\u001b[0m\n",
      "Start Time: 2023-02-03 14:20:44.877766\n",
      "End Time: 2023-02-03 14:20:45.213249\n",
      "Total time taken:\u001b[1m0:00:00.335483\u001b[0m\n"
     ]
    }
   ],
   "source": [
    "#fit lgbm and save using pickle \n",
    "classifier = LGBMClassifier(random_state=42,learning_rate = 0.01,\n",
    "                             max_depth= 4,\n",
    "                             n_estimators= 300)\n",
    "utils.fit_model(classifier,'LGBM Classifier','trained_classifier.sav',X_train_sample,y_train_sample)"
   ]
  },
  {
   "cell_type": "code",
   "execution_count": 12,
   "id": "faf5359d",
   "metadata": {
    "ExecuteTime": {
     "end_time": "2022-12-20T07:57:00.423806Z",
     "start_time": "2022-12-20T07:56:57.242810Z"
    }
   },
   "outputs": [],
   "source": [
    "f1 = utils.c_matrix('trained_classifier.sav','Confusion Matrix',y_test,X_test)\n",
    "f2 = utils.plot_auc('trained_classifier.sav',y_test,X_test)\n",
    "f3 = utils.feature_importance('trained_classifier.sav',\"Top 20 Important Features\",X,X.columns)"
   ]
  },
  {
   "cell_type": "code",
   "execution_count": 13,
   "id": "8dccf4db",
   "metadata": {},
   "outputs": [
    {
     "data": {
      "text/plain": [
       "array([[750, 210],\n",
       "       [ 20,  42]])"
      ]
     },
     "execution_count": 13,
     "metadata": {},
     "output_type": "execute_result"
    }
   ],
   "source": [
    "from sklearn.metrics import confusion_matrix\n",
    "confusion_matrix(y_test['stroke'], y_test['predicted'])"
   ]
  },
  {
   "cell_type": "code",
   "execution_count": 14,
   "id": "b12cee87",
   "metadata": {},
   "outputs": [
    {
     "data": {
      "text/html": [
       "<div class=\"tab\">\n",
       "<button id = \"defaultOpen-5684\" onclick = \"OpenTab_5684(event, 'Confusion matrix-5684')\" class=\"tablinks-5684\">Confusion matrix</button>\n",
       "<button onclick = \"OpenTab_5684(event, 'Area Under the Curve(AUC)-5684')\" class=\"tablinks-5684\">Area Under the Curve(AUC)</button>\n",
       "<button onclick = \"OpenTab_5684(event, 'Feature Importance-5684')\" class=\"tablinks-5684\">Feature Importance</button>\n",
       "</div><div id = \"Confusion matrix-5684\" class=\"tabcontent-5684\">\n",
       "<div>                            <div id=\"e1f1a67f-700b-4b55-8abb-92f0b17ee1e0\" class=\"plotly-graph-div\" style=\"height:400px; width:600px;\"></div>            <script type=\"text/javascript\">                require([\"plotly\"], function(Plotly) {                    window.PLOTLYENV=window.PLOTLYENV || {};                                    if (document.getElementById(\"e1f1a67f-700b-4b55-8abb-92f0b17ee1e0\")) {                    Plotly.newPlot(                        \"e1f1a67f-700b-4b55-8abb-92f0b17ee1e0\",                        [{\"colorscale\":[[0.0,\"rgb(210, 251, 212)\"],[0.16666666666666666,\"rgb(165, 219, 194)\"],[0.3333333333333333,\"rgb(123, 188, 176)\"],[0.5,\"rgb(85, 156, 158)\"],[0.6666666666666666,\"rgb(58, 124, 137)\"],[0.8333333333333334,\"rgb(35, 93, 114)\"],[1.0,\"rgb(18, 63, 90)\"]],\"reversescale\":false,\"showscale\":true,\"x\":[\"Predicted No Stroke\",\"Predicted Stroke\"],\"y\":[\"Stroke\",\"No Stroke\"],\"z\":[[20,42],[750,210]],\"type\":\"heatmap\"}],                        {\"annotations\":[{\"font\":{\"color\":\"#000000\"},\"showarrow\":false,\"text\":\"20\",\"x\":\"Predicted No Stroke\",\"xref\":\"x\",\"y\":\"Stroke\",\"yref\":\"y\"},{\"font\":{\"color\":\"#000000\"},\"showarrow\":false,\"text\":\"42\",\"x\":\"Predicted Stroke\",\"xref\":\"x\",\"y\":\"Stroke\",\"yref\":\"y\"},{\"font\":{\"color\":\"#FFFFFF\"},\"showarrow\":false,\"text\":\"750\",\"x\":\"Predicted No Stroke\",\"xref\":\"x\",\"y\":\"No Stroke\",\"yref\":\"y\"},{\"font\":{\"color\":\"#000000\"},\"showarrow\":false,\"text\":\"210\",\"x\":\"Predicted Stroke\",\"xref\":\"x\",\"y\":\"No Stroke\",\"yref\":\"y\"}],\"xaxis\":{\"dtick\":1,\"gridcolor\":\"rgb(0, 0, 0)\",\"side\":\"top\",\"ticks\":\"\"},\"yaxis\":{\"dtick\":1,\"ticks\":\"\",\"ticksuffix\":\"  \"},\"template\":{\"data\":{\"bar\":[{\"error_x\":{\"color\":\"#2a3f5f\"},\"error_y\":{\"color\":\"#2a3f5f\"},\"marker\":{\"line\":{\"color\":\"#E5ECF6\",\"width\":0.5},\"pattern\":{\"fillmode\":\"overlay\",\"size\":10,\"solidity\":0.2}},\"type\":\"bar\"}],\"barpolar\":[{\"marker\":{\"line\":{\"color\":\"#E5ECF6\",\"width\":0.5},\"pattern\":{\"fillmode\":\"overlay\",\"size\":10,\"solidity\":0.2}},\"type\":\"barpolar\"}],\"carpet\":[{\"aaxis\":{\"endlinecolor\":\"#2a3f5f\",\"gridcolor\":\"white\",\"linecolor\":\"white\",\"minorgridcolor\":\"white\",\"startlinecolor\":\"#2a3f5f\"},\"baxis\":{\"endlinecolor\":\"#2a3f5f\",\"gridcolor\":\"white\",\"linecolor\":\"white\",\"minorgridcolor\":\"white\",\"startlinecolor\":\"#2a3f5f\"},\"type\":\"carpet\"}],\"choropleth\":[{\"colorbar\":{\"outlinewidth\":0,\"ticks\":\"\"},\"type\":\"choropleth\"}],\"contour\":[{\"colorbar\":{\"outlinewidth\":0,\"ticks\":\"\"},\"colorscale\":[[0.0,\"#0d0887\"],[0.1111111111111111,\"#46039f\"],[0.2222222222222222,\"#7201a8\"],[0.3333333333333333,\"#9c179e\"],[0.4444444444444444,\"#bd3786\"],[0.5555555555555556,\"#d8576b\"],[0.6666666666666666,\"#ed7953\"],[0.7777777777777778,\"#fb9f3a\"],[0.8888888888888888,\"#fdca26\"],[1.0,\"#f0f921\"]],\"type\":\"contour\"}],\"contourcarpet\":[{\"colorbar\":{\"outlinewidth\":0,\"ticks\":\"\"},\"type\":\"contourcarpet\"}],\"heatmap\":[{\"colorbar\":{\"outlinewidth\":0,\"ticks\":\"\"},\"colorscale\":[[0.0,\"#0d0887\"],[0.1111111111111111,\"#46039f\"],[0.2222222222222222,\"#7201a8\"],[0.3333333333333333,\"#9c179e\"],[0.4444444444444444,\"#bd3786\"],[0.5555555555555556,\"#d8576b\"],[0.6666666666666666,\"#ed7953\"],[0.7777777777777778,\"#fb9f3a\"],[0.8888888888888888,\"#fdca26\"],[1.0,\"#f0f921\"]],\"type\":\"heatmap\"}],\"heatmapgl\":[{\"colorbar\":{\"outlinewidth\":0,\"ticks\":\"\"},\"colorscale\":[[0.0,\"#0d0887\"],[0.1111111111111111,\"#46039f\"],[0.2222222222222222,\"#7201a8\"],[0.3333333333333333,\"#9c179e\"],[0.4444444444444444,\"#bd3786\"],[0.5555555555555556,\"#d8576b\"],[0.6666666666666666,\"#ed7953\"],[0.7777777777777778,\"#fb9f3a\"],[0.8888888888888888,\"#fdca26\"],[1.0,\"#f0f921\"]],\"type\":\"heatmapgl\"}],\"histogram\":[{\"marker\":{\"pattern\":{\"fillmode\":\"overlay\",\"size\":10,\"solidity\":0.2}},\"type\":\"histogram\"}],\"histogram2d\":[{\"colorbar\":{\"outlinewidth\":0,\"ticks\":\"\"},\"colorscale\":[[0.0,\"#0d0887\"],[0.1111111111111111,\"#46039f\"],[0.2222222222222222,\"#7201a8\"],[0.3333333333333333,\"#9c179e\"],[0.4444444444444444,\"#bd3786\"],[0.5555555555555556,\"#d8576b\"],[0.6666666666666666,\"#ed7953\"],[0.7777777777777778,\"#fb9f3a\"],[0.8888888888888888,\"#fdca26\"],[1.0,\"#f0f921\"]],\"type\":\"histogram2d\"}],\"histogram2dcontour\":[{\"colorbar\":{\"outlinewidth\":0,\"ticks\":\"\"},\"colorscale\":[[0.0,\"#0d0887\"],[0.1111111111111111,\"#46039f\"],[0.2222222222222222,\"#7201a8\"],[0.3333333333333333,\"#9c179e\"],[0.4444444444444444,\"#bd3786\"],[0.5555555555555556,\"#d8576b\"],[0.6666666666666666,\"#ed7953\"],[0.7777777777777778,\"#fb9f3a\"],[0.8888888888888888,\"#fdca26\"],[1.0,\"#f0f921\"]],\"type\":\"histogram2dcontour\"}],\"mesh3d\":[{\"colorbar\":{\"outlinewidth\":0,\"ticks\":\"\"},\"type\":\"mesh3d\"}],\"parcoords\":[{\"line\":{\"colorbar\":{\"outlinewidth\":0,\"ticks\":\"\"}},\"type\":\"parcoords\"}],\"pie\":[{\"automargin\":true,\"type\":\"pie\"}],\"scatter\":[{\"marker\":{\"colorbar\":{\"outlinewidth\":0,\"ticks\":\"\"}},\"type\":\"scatter\"}],\"scatter3d\":[{\"line\":{\"colorbar\":{\"outlinewidth\":0,\"ticks\":\"\"}},\"marker\":{\"colorbar\":{\"outlinewidth\":0,\"ticks\":\"\"}},\"type\":\"scatter3d\"}],\"scattercarpet\":[{\"marker\":{\"colorbar\":{\"outlinewidth\":0,\"ticks\":\"\"}},\"type\":\"scattercarpet\"}],\"scattergeo\":[{\"marker\":{\"colorbar\":{\"outlinewidth\":0,\"ticks\":\"\"}},\"type\":\"scattergeo\"}],\"scattergl\":[{\"marker\":{\"colorbar\":{\"outlinewidth\":0,\"ticks\":\"\"}},\"type\":\"scattergl\"}],\"scattermapbox\":[{\"marker\":{\"colorbar\":{\"outlinewidth\":0,\"ticks\":\"\"}},\"type\":\"scattermapbox\"}],\"scatterpolar\":[{\"marker\":{\"colorbar\":{\"outlinewidth\":0,\"ticks\":\"\"}},\"type\":\"scatterpolar\"}],\"scatterpolargl\":[{\"marker\":{\"colorbar\":{\"outlinewidth\":0,\"ticks\":\"\"}},\"type\":\"scatterpolargl\"}],\"scatterternary\":[{\"marker\":{\"colorbar\":{\"outlinewidth\":0,\"ticks\":\"\"}},\"type\":\"scatterternary\"}],\"surface\":[{\"colorbar\":{\"outlinewidth\":0,\"ticks\":\"\"},\"colorscale\":[[0.0,\"#0d0887\"],[0.1111111111111111,\"#46039f\"],[0.2222222222222222,\"#7201a8\"],[0.3333333333333333,\"#9c179e\"],[0.4444444444444444,\"#bd3786\"],[0.5555555555555556,\"#d8576b\"],[0.6666666666666666,\"#ed7953\"],[0.7777777777777778,\"#fb9f3a\"],[0.8888888888888888,\"#fdca26\"],[1.0,\"#f0f921\"]],\"type\":\"surface\"}],\"table\":[{\"cells\":{\"fill\":{\"color\":\"#EBF0F8\"},\"line\":{\"color\":\"white\"}},\"header\":{\"fill\":{\"color\":\"#C8D4E3\"},\"line\":{\"color\":\"white\"}},\"type\":\"table\"}]},\"layout\":{\"annotationdefaults\":{\"arrowcolor\":\"#2a3f5f\",\"arrowhead\":0,\"arrowwidth\":1},\"autotypenumbers\":\"strict\",\"coloraxis\":{\"colorbar\":{\"outlinewidth\":0,\"ticks\":\"\"}},\"colorscale\":{\"diverging\":[[0,\"#8e0152\"],[0.1,\"#c51b7d\"],[0.2,\"#de77ae\"],[0.3,\"#f1b6da\"],[0.4,\"#fde0ef\"],[0.5,\"#f7f7f7\"],[0.6,\"#e6f5d0\"],[0.7,\"#b8e186\"],[0.8,\"#7fbc41\"],[0.9,\"#4d9221\"],[1,\"#276419\"]],\"sequential\":[[0.0,\"#0d0887\"],[0.1111111111111111,\"#46039f\"],[0.2222222222222222,\"#7201a8\"],[0.3333333333333333,\"#9c179e\"],[0.4444444444444444,\"#bd3786\"],[0.5555555555555556,\"#d8576b\"],[0.6666666666666666,\"#ed7953\"],[0.7777777777777778,\"#fb9f3a\"],[0.8888888888888888,\"#fdca26\"],[1.0,\"#f0f921\"]],\"sequentialminus\":[[0.0,\"#0d0887\"],[0.1111111111111111,\"#46039f\"],[0.2222222222222222,\"#7201a8\"],[0.3333333333333333,\"#9c179e\"],[0.4444444444444444,\"#bd3786\"],[0.5555555555555556,\"#d8576b\"],[0.6666666666666666,\"#ed7953\"],[0.7777777777777778,\"#fb9f3a\"],[0.8888888888888888,\"#fdca26\"],[1.0,\"#f0f921\"]]},\"colorway\":[\"#636efa\",\"#EF553B\",\"#00cc96\",\"#ab63fa\",\"#FFA15A\",\"#19d3f3\",\"#FF6692\",\"#B6E880\",\"#FF97FF\",\"#FECB52\"],\"font\":{\"color\":\"#2a3f5f\"},\"geo\":{\"bgcolor\":\"white\",\"lakecolor\":\"white\",\"landcolor\":\"#E5ECF6\",\"showlakes\":true,\"showland\":true,\"subunitcolor\":\"white\"},\"hoverlabel\":{\"align\":\"left\"},\"hovermode\":\"closest\",\"mapbox\":{\"style\":\"light\"},\"paper_bgcolor\":\"white\",\"plot_bgcolor\":\"#E5ECF6\",\"polar\":{\"angularaxis\":{\"gridcolor\":\"white\",\"linecolor\":\"white\",\"ticks\":\"\"},\"bgcolor\":\"#E5ECF6\",\"radialaxis\":{\"gridcolor\":\"white\",\"linecolor\":\"white\",\"ticks\":\"\"}},\"scene\":{\"xaxis\":{\"backgroundcolor\":\"#E5ECF6\",\"gridcolor\":\"white\",\"gridwidth\":2,\"linecolor\":\"white\",\"showbackground\":true,\"ticks\":\"\",\"zerolinecolor\":\"white\"},\"yaxis\":{\"backgroundcolor\":\"#E5ECF6\",\"gridcolor\":\"white\",\"gridwidth\":2,\"linecolor\":\"white\",\"showbackground\":true,\"ticks\":\"\",\"zerolinecolor\":\"white\"},\"zaxis\":{\"backgroundcolor\":\"#E5ECF6\",\"gridcolor\":\"white\",\"gridwidth\":2,\"linecolor\":\"white\",\"showbackground\":true,\"ticks\":\"\",\"zerolinecolor\":\"white\"}},\"shapedefaults\":{\"line\":{\"color\":\"#2a3f5f\"}},\"ternary\":{\"aaxis\":{\"gridcolor\":\"white\",\"linecolor\":\"white\",\"ticks\":\"\"},\"baxis\":{\"gridcolor\":\"white\",\"linecolor\":\"white\",\"ticks\":\"\"},\"bgcolor\":\"#E5ECF6\",\"caxis\":{\"gridcolor\":\"white\",\"linecolor\":\"white\",\"ticks\":\"\"}},\"title\":{\"x\":0.05},\"xaxis\":{\"automargin\":true,\"gridcolor\":\"white\",\"linecolor\":\"white\",\"ticks\":\"\",\"title\":{\"standoff\":15},\"zerolinecolor\":\"white\",\"zerolinewidth\":2},\"yaxis\":{\"automargin\":true,\"gridcolor\":\"white\",\"linecolor\":\"white\",\"ticks\":\"\",\"title\":{\"standoff\":15},\"zerolinecolor\":\"white\",\"zerolinewidth\":2}}},\"title\":{\"text\":\"Confusion Matrix\"},\"height\":400,\"width\":600,\"margin\":{\"t\":50,\"l\":200}},                        {\"responsive\": true}                    )                };                });            </script>        </div>\n",
       "</div>\n",
       "<div id = \"Area Under the Curve(AUC)-5684\" class=\"tabcontent-5684\">\n",
       "<div>                            <div id=\"90b33015-0b03-4796-acf1-e2bb461bacfa\" class=\"plotly-graph-div\" style=\"height:400px; width:400px;\"></div>            <script type=\"text/javascript\">                require([\"plotly\"], function(Plotly) {                    window.PLOTLYENV=window.PLOTLYENV || {};                                    if (document.getElementById(\"90b33015-0b03-4796-acf1-e2bb461bacfa\")) {                    Plotly.newPlot(                        \"90b33015-0b03-4796-acf1-e2bb461bacfa\",                        [{\"hovertemplate\":\"False Positive Rate=%{x}<br>True Positive Rate=%{y}<extra></extra>\",\"legendgroup\":\"\",\"line\":{\"color\":\"#008B8B\"},\"marker\":{\"symbol\":\"circle\"},\"mode\":\"lines\",\"name\":\"\",\"orientation\":\"v\",\"showlegend\":false,\"stackgroup\":\"1\",\"x\":[0.0,0.0,0.003125,0.003125,0.004166666666666667,0.00625,0.007291666666666667,0.007291666666666667,0.009375,0.009375,0.0125,0.0125,0.013541666666666667,0.014583333333333334,0.015625,0.015625,0.01875,0.01875,0.023958333333333335,0.026041666666666668,0.03229166666666667,0.03229166666666667,0.04583333333333333,0.04583333333333333,0.046875,0.046875,0.04791666666666667,0.04791666666666667,0.05,0.05,0.05416666666666667,0.05416666666666667,0.057291666666666664,0.057291666666666664,0.059375,0.06041666666666667,0.06145833333333333,0.06354166666666666,0.06875,0.07083333333333333,0.07395833333333333,0.07604166666666666,0.08333333333333333,0.08333333333333333,0.0875,0.0875,0.09270833333333334,0.09270833333333334,0.09375,0.09583333333333334,0.09583333333333334,0.09895833333333333,0.09895833333333333,0.103125,0.103125,0.11145833333333334,0.1125,0.11354166666666667,0.11666666666666667,0.11979166666666667,0.121875,0.12708333333333333,0.12708333333333333,0.13020833333333334,0.13020833333333334,0.13541666666666666,0.13645833333333332,0.13958333333333334,0.14375,0.15520833333333334,0.15520833333333334,0.15833333333333333,0.16041666666666668,0.1625,0.165625,0.16770833333333332,0.16770833333333332,0.17083333333333334,0.17083333333333334,0.1875,0.18854166666666666,0.19479166666666667,0.19479166666666667,0.19583333333333333,0.19583333333333333,0.196875,0.196875,0.19791666666666666,0.20104166666666667,0.20833333333333334,0.20833333333333334,0.21041666666666667,0.2125,0.21458333333333332,0.21666666666666667,0.22395833333333334,0.228125,0.228125,0.240625,0.240625,0.24166666666666667,0.24166666666666667,0.24375,0.24791666666666667,0.24791666666666667,0.25104166666666666,0.253125,0.253125,0.2552083333333333,0.2552083333333333,0.3,0.3,0.303125,0.303125,0.3104166666666667,0.3104166666666667,0.31145833333333334,0.31145833333333334,0.31354166666666666,0.321875,0.321875,0.33645833333333336,0.3385416666666667,0.359375,0.3614583333333333,0.37395833333333334,0.37395833333333334,0.378125,0.378125,0.3802083333333333,0.3802083333333333,0.40625,0.40625,0.4166666666666667,0.41875,0.41875,0.4354166666666667,0.4375,0.45729166666666665,0.459375,0.4635416666666667,0.465625,0.46770833333333334,0.46979166666666666,0.47604166666666664,0.47604166666666664,0.48020833333333335,0.48020833333333335,0.48333333333333334,0.48541666666666666,0.496875,0.49895833333333334,0.509375,0.5114583333333333,0.5145833333333333,0.5166666666666667,0.5197916666666667,0.521875,0.525,0.5270833333333333,0.53125,0.5333333333333333,0.5427083333333333,0.546875,0.5479166666666667,0.5510416666666667,0.55625,0.5583333333333333,0.559375,0.5635416666666667,0.5760416666666667,0.578125,0.590625,0.59375,0.6020833333333333,0.6052083333333333,0.60625,0.6083333333333333,0.6197916666666666,0.6239583333333333,0.64375,0.6458333333333334,0.6583333333333333,0.6604166666666667,0.6666666666666666,0.66875,0.6833333333333333,0.6885416666666667,0.690625,0.6927083333333334,0.69375,0.6958333333333333,0.7010416666666667,0.70625,0.7104166666666667,0.7104166666666667,0.7114583333333333,0.7135416666666666,0.7458333333333333,0.7520833333333333,0.753125,0.75625,0.759375,0.7708333333333334,0.7791666666666667,0.78125,0.784375,0.7875,0.7979166666666667,0.8020833333333334,0.8135416666666667,0.815625,0.8166666666666667,0.8229166666666666,0.8302083333333333,0.8322916666666667,0.834375,0.8364583333333333,0.84375,0.8458333333333333,0.8541666666666666,0.85625,0.8739583333333333,0.8760416666666667,0.8947916666666667,0.8979166666666667,0.9041666666666667,0.90625,0.9083333333333333,0.909375,0.9208333333333333,0.9239583333333333,0.9260416666666667,0.9333333333333333,0.9520833333333333,0.95625,0.9572916666666667,0.9708333333333333,0.971875,0.9739583333333334,0.975,0.9885416666666667,0.9958333333333333,0.9989583333333333,1.0],\"xaxis\":\"x\",\"y\":[0.0,0.016129032258064516,0.016129032258064516,0.03225806451612903,0.03225806451612903,0.03225806451612903,0.03225806451612903,0.06451612903225806,0.06451612903225806,0.0967741935483871,0.0967741935483871,0.11290322580645161,0.11290322580645161,0.12903225806451613,0.12903225806451613,0.14516129032258066,0.14516129032258066,0.16129032258064516,0.16129032258064516,0.16129032258064516,0.16129032258064516,0.1935483870967742,0.1935483870967742,0.22580645161290322,0.22580645161290322,0.24193548387096775,0.24193548387096775,0.25806451612903225,0.25806451612903225,0.27419354838709675,0.27419354838709675,0.2903225806451613,0.2903225806451613,0.3064516129032258,0.3064516129032258,0.3225806451612903,0.3225806451612903,0.3225806451612903,0.3225806451612903,0.3548387096774194,0.3548387096774194,0.3548387096774194,0.3548387096774194,0.3709677419354839,0.3709677419354839,0.3870967741935484,0.3870967741935484,0.4032258064516129,0.4032258064516129,0.4032258064516129,0.41935483870967744,0.41935483870967744,0.43548387096774194,0.43548387096774194,0.45161290322580644,0.45161290322580644,0.46774193548387094,0.46774193548387094,0.46774193548387094,0.46774193548387094,0.4838709677419355,0.4838709677419355,0.5,0.5,0.5161290322580645,0.5161290322580645,0.532258064516129,0.532258064516129,0.532258064516129,0.532258064516129,0.5483870967741935,0.5483870967741935,0.5483870967741935,0.5483870967741935,0.5483870967741935,0.5483870967741935,0.5645161290322581,0.5645161290322581,0.5967741935483871,0.5967741935483871,0.6129032258064516,0.6129032258064516,0.6290322580645161,0.6290322580645161,0.6451612903225806,0.6451612903225806,0.6612903225806451,0.6612903225806451,0.6612903225806451,0.6612903225806451,0.6774193548387096,0.6774193548387096,0.6774193548387096,0.6774193548387096,0.6774193548387096,0.6774193548387096,0.6774193548387096,0.6935483870967742,0.6935483870967742,0.7096774193548387,0.7096774193548387,0.7258064516129032,0.7258064516129032,0.7258064516129032,0.7419354838709677,0.7419354838709677,0.7419354838709677,0.7580645161290323,0.7580645161290323,0.7741935483870968,0.7741935483870968,0.7903225806451613,0.7903225806451613,0.8064516129032258,0.8064516129032258,0.8225806451612904,0.8225806451612904,0.8387096774193549,0.8387096774193549,0.8387096774193549,0.8548387096774194,0.8548387096774194,0.8548387096774194,0.8548387096774194,0.8548387096774194,0.8548387096774194,0.8709677419354839,0.8709677419354839,0.8870967741935484,0.8870967741935484,0.9032258064516129,0.9032258064516129,0.9193548387096774,0.9193548387096774,0.9193548387096774,0.9354838709677419,0.9354838709677419,0.9354838709677419,0.9354838709677419,0.9354838709677419,0.9354838709677419,0.9354838709677419,0.9354838709677419,0.9354838709677419,0.9354838709677419,0.9516129032258065,0.9516129032258065,0.967741935483871,0.967741935483871,0.967741935483871,0.967741935483871,0.967741935483871,0.967741935483871,0.967741935483871,0.967741935483871,0.967741935483871,0.967741935483871,0.967741935483871,0.967741935483871,0.967741935483871,0.967741935483871,0.967741935483871,0.967741935483871,0.967741935483871,0.967741935483871,0.967741935483871,0.967741935483871,0.967741935483871,0.9838709677419355,0.9838709677419355,0.9838709677419355,0.9838709677419355,0.9838709677419355,0.9838709677419355,0.9838709677419355,0.9838709677419355,0.9838709677419355,0.9838709677419355,0.9838709677419355,0.9838709677419355,0.9838709677419355,0.9838709677419355,0.9838709677419355,0.9838709677419355,0.9838709677419355,0.9838709677419355,0.9838709677419355,0.9838709677419355,0.9838709677419355,0.9838709677419355,0.9838709677419355,0.9838709677419355,0.9838709677419355,0.9838709677419355,0.9838709677419355,1.0,1.0,1.0,1.0,1.0,1.0,1.0,1.0,1.0,1.0,1.0,1.0,1.0,1.0,1.0,1.0,1.0,1.0,1.0,1.0,1.0,1.0,1.0,1.0,1.0,1.0,1.0,1.0,1.0,1.0,1.0,1.0,1.0,1.0,1.0,1.0,1.0,1.0,1.0,1.0,1.0,1.0,1.0,1.0,1.0,1.0,1.0,1.0,1.0,1.0],\"yaxis\":\"y\",\"type\":\"scatter\"}],                        {\"template\":{\"data\":{\"barpolar\":[{\"marker\":{\"line\":{\"color\":\"white\",\"width\":0.5},\"pattern\":{\"fillmode\":\"overlay\",\"size\":10,\"solidity\":0.2}},\"type\":\"barpolar\"}],\"bar\":[{\"error_x\":{\"color\":\"#2a3f5f\"},\"error_y\":{\"color\":\"#2a3f5f\"},\"marker\":{\"line\":{\"color\":\"white\",\"width\":0.5},\"pattern\":{\"fillmode\":\"overlay\",\"size\":10,\"solidity\":0.2}},\"type\":\"bar\"}],\"carpet\":[{\"aaxis\":{\"endlinecolor\":\"#2a3f5f\",\"gridcolor\":\"#C8D4E3\",\"linecolor\":\"#C8D4E3\",\"minorgridcolor\":\"#C8D4E3\",\"startlinecolor\":\"#2a3f5f\"},\"baxis\":{\"endlinecolor\":\"#2a3f5f\",\"gridcolor\":\"#C8D4E3\",\"linecolor\":\"#C8D4E3\",\"minorgridcolor\":\"#C8D4E3\",\"startlinecolor\":\"#2a3f5f\"},\"type\":\"carpet\"}],\"choropleth\":[{\"colorbar\":{\"outlinewidth\":0,\"ticks\":\"\"},\"type\":\"choropleth\"}],\"contourcarpet\":[{\"colorbar\":{\"outlinewidth\":0,\"ticks\":\"\"},\"type\":\"contourcarpet\"}],\"contour\":[{\"colorbar\":{\"outlinewidth\":0,\"ticks\":\"\"},\"colorscale\":[[0.0,\"#0d0887\"],[0.1111111111111111,\"#46039f\"],[0.2222222222222222,\"#7201a8\"],[0.3333333333333333,\"#9c179e\"],[0.4444444444444444,\"#bd3786\"],[0.5555555555555556,\"#d8576b\"],[0.6666666666666666,\"#ed7953\"],[0.7777777777777778,\"#fb9f3a\"],[0.8888888888888888,\"#fdca26\"],[1.0,\"#f0f921\"]],\"type\":\"contour\"}],\"heatmapgl\":[{\"colorbar\":{\"outlinewidth\":0,\"ticks\":\"\"},\"colorscale\":[[0.0,\"#0d0887\"],[0.1111111111111111,\"#46039f\"],[0.2222222222222222,\"#7201a8\"],[0.3333333333333333,\"#9c179e\"],[0.4444444444444444,\"#bd3786\"],[0.5555555555555556,\"#d8576b\"],[0.6666666666666666,\"#ed7953\"],[0.7777777777777778,\"#fb9f3a\"],[0.8888888888888888,\"#fdca26\"],[1.0,\"#f0f921\"]],\"type\":\"heatmapgl\"}],\"heatmap\":[{\"colorbar\":{\"outlinewidth\":0,\"ticks\":\"\"},\"colorscale\":[[0.0,\"#0d0887\"],[0.1111111111111111,\"#46039f\"],[0.2222222222222222,\"#7201a8\"],[0.3333333333333333,\"#9c179e\"],[0.4444444444444444,\"#bd3786\"],[0.5555555555555556,\"#d8576b\"],[0.6666666666666666,\"#ed7953\"],[0.7777777777777778,\"#fb9f3a\"],[0.8888888888888888,\"#fdca26\"],[1.0,\"#f0f921\"]],\"type\":\"heatmap\"}],\"histogram2dcontour\":[{\"colorbar\":{\"outlinewidth\":0,\"ticks\":\"\"},\"colorscale\":[[0.0,\"#0d0887\"],[0.1111111111111111,\"#46039f\"],[0.2222222222222222,\"#7201a8\"],[0.3333333333333333,\"#9c179e\"],[0.4444444444444444,\"#bd3786\"],[0.5555555555555556,\"#d8576b\"],[0.6666666666666666,\"#ed7953\"],[0.7777777777777778,\"#fb9f3a\"],[0.8888888888888888,\"#fdca26\"],[1.0,\"#f0f921\"]],\"type\":\"histogram2dcontour\"}],\"histogram2d\":[{\"colorbar\":{\"outlinewidth\":0,\"ticks\":\"\"},\"colorscale\":[[0.0,\"#0d0887\"],[0.1111111111111111,\"#46039f\"],[0.2222222222222222,\"#7201a8\"],[0.3333333333333333,\"#9c179e\"],[0.4444444444444444,\"#bd3786\"],[0.5555555555555556,\"#d8576b\"],[0.6666666666666666,\"#ed7953\"],[0.7777777777777778,\"#fb9f3a\"],[0.8888888888888888,\"#fdca26\"],[1.0,\"#f0f921\"]],\"type\":\"histogram2d\"}],\"histogram\":[{\"marker\":{\"pattern\":{\"fillmode\":\"overlay\",\"size\":10,\"solidity\":0.2}},\"type\":\"histogram\"}],\"mesh3d\":[{\"colorbar\":{\"outlinewidth\":0,\"ticks\":\"\"},\"type\":\"mesh3d\"}],\"parcoords\":[{\"line\":{\"colorbar\":{\"outlinewidth\":0,\"ticks\":\"\"}},\"type\":\"parcoords\"}],\"pie\":[{\"automargin\":true,\"type\":\"pie\"}],\"scatter3d\":[{\"line\":{\"colorbar\":{\"outlinewidth\":0,\"ticks\":\"\"}},\"marker\":{\"colorbar\":{\"outlinewidth\":0,\"ticks\":\"\"}},\"type\":\"scatter3d\"}],\"scattercarpet\":[{\"marker\":{\"colorbar\":{\"outlinewidth\":0,\"ticks\":\"\"}},\"type\":\"scattercarpet\"}],\"scattergeo\":[{\"marker\":{\"colorbar\":{\"outlinewidth\":0,\"ticks\":\"\"}},\"type\":\"scattergeo\"}],\"scattergl\":[{\"marker\":{\"colorbar\":{\"outlinewidth\":0,\"ticks\":\"\"}},\"type\":\"scattergl\"}],\"scattermapbox\":[{\"marker\":{\"colorbar\":{\"outlinewidth\":0,\"ticks\":\"\"}},\"type\":\"scattermapbox\"}],\"scatterpolargl\":[{\"marker\":{\"colorbar\":{\"outlinewidth\":0,\"ticks\":\"\"}},\"type\":\"scatterpolargl\"}],\"scatterpolar\":[{\"marker\":{\"colorbar\":{\"outlinewidth\":0,\"ticks\":\"\"}},\"type\":\"scatterpolar\"}],\"scatter\":[{\"marker\":{\"colorbar\":{\"outlinewidth\":0,\"ticks\":\"\"}},\"type\":\"scatter\"}],\"scatterternary\":[{\"marker\":{\"colorbar\":{\"outlinewidth\":0,\"ticks\":\"\"}},\"type\":\"scatterternary\"}],\"surface\":[{\"colorbar\":{\"outlinewidth\":0,\"ticks\":\"\"},\"colorscale\":[[0.0,\"#0d0887\"],[0.1111111111111111,\"#46039f\"],[0.2222222222222222,\"#7201a8\"],[0.3333333333333333,\"#9c179e\"],[0.4444444444444444,\"#bd3786\"],[0.5555555555555556,\"#d8576b\"],[0.6666666666666666,\"#ed7953\"],[0.7777777777777778,\"#fb9f3a\"],[0.8888888888888888,\"#fdca26\"],[1.0,\"#f0f921\"]],\"type\":\"surface\"}],\"table\":[{\"cells\":{\"fill\":{\"color\":\"#EBF0F8\"},\"line\":{\"color\":\"white\"}},\"header\":{\"fill\":{\"color\":\"#C8D4E3\"},\"line\":{\"color\":\"white\"}},\"type\":\"table\"}]},\"layout\":{\"annotationdefaults\":{\"arrowcolor\":\"#2a3f5f\",\"arrowhead\":0,\"arrowwidth\":1},\"autotypenumbers\":\"strict\",\"coloraxis\":{\"colorbar\":{\"outlinewidth\":0,\"ticks\":\"\"}},\"colorscale\":{\"diverging\":[[0,\"#8e0152\"],[0.1,\"#c51b7d\"],[0.2,\"#de77ae\"],[0.3,\"#f1b6da\"],[0.4,\"#fde0ef\"],[0.5,\"#f7f7f7\"],[0.6,\"#e6f5d0\"],[0.7,\"#b8e186\"],[0.8,\"#7fbc41\"],[0.9,\"#4d9221\"],[1,\"#276419\"]],\"sequential\":[[0.0,\"#0d0887\"],[0.1111111111111111,\"#46039f\"],[0.2222222222222222,\"#7201a8\"],[0.3333333333333333,\"#9c179e\"],[0.4444444444444444,\"#bd3786\"],[0.5555555555555556,\"#d8576b\"],[0.6666666666666666,\"#ed7953\"],[0.7777777777777778,\"#fb9f3a\"],[0.8888888888888888,\"#fdca26\"],[1.0,\"#f0f921\"]],\"sequentialminus\":[[0.0,\"#0d0887\"],[0.1111111111111111,\"#46039f\"],[0.2222222222222222,\"#7201a8\"],[0.3333333333333333,\"#9c179e\"],[0.4444444444444444,\"#bd3786\"],[0.5555555555555556,\"#d8576b\"],[0.6666666666666666,\"#ed7953\"],[0.7777777777777778,\"#fb9f3a\"],[0.8888888888888888,\"#fdca26\"],[1.0,\"#f0f921\"]]},\"colorway\":[\"#636efa\",\"#EF553B\",\"#00cc96\",\"#ab63fa\",\"#FFA15A\",\"#19d3f3\",\"#FF6692\",\"#B6E880\",\"#FF97FF\",\"#FECB52\"],\"font\":{\"color\":\"#2a3f5f\"},\"geo\":{\"bgcolor\":\"white\",\"lakecolor\":\"white\",\"landcolor\":\"white\",\"showlakes\":true,\"showland\":true,\"subunitcolor\":\"#C8D4E3\"},\"hoverlabel\":{\"align\":\"left\"},\"hovermode\":\"closest\",\"mapbox\":{\"style\":\"light\"},\"paper_bgcolor\":\"white\",\"plot_bgcolor\":\"white\",\"polar\":{\"angularaxis\":{\"gridcolor\":\"#EBF0F8\",\"linecolor\":\"#EBF0F8\",\"ticks\":\"\"},\"bgcolor\":\"white\",\"radialaxis\":{\"gridcolor\":\"#EBF0F8\",\"linecolor\":\"#EBF0F8\",\"ticks\":\"\"}},\"scene\":{\"xaxis\":{\"backgroundcolor\":\"white\",\"gridcolor\":\"#DFE8F3\",\"gridwidth\":2,\"linecolor\":\"#EBF0F8\",\"showbackground\":true,\"ticks\":\"\",\"zerolinecolor\":\"#EBF0F8\"},\"yaxis\":{\"backgroundcolor\":\"white\",\"gridcolor\":\"#DFE8F3\",\"gridwidth\":2,\"linecolor\":\"#EBF0F8\",\"showbackground\":true,\"ticks\":\"\",\"zerolinecolor\":\"#EBF0F8\"},\"zaxis\":{\"backgroundcolor\":\"white\",\"gridcolor\":\"#DFE8F3\",\"gridwidth\":2,\"linecolor\":\"#EBF0F8\",\"showbackground\":true,\"ticks\":\"\",\"zerolinecolor\":\"#EBF0F8\"}},\"shapedefaults\":{\"line\":{\"color\":\"#2a3f5f\"}},\"ternary\":{\"aaxis\":{\"gridcolor\":\"#DFE8F3\",\"linecolor\":\"#A2B1C6\",\"ticks\":\"\"},\"baxis\":{\"gridcolor\":\"#DFE8F3\",\"linecolor\":\"#A2B1C6\",\"ticks\":\"\"},\"bgcolor\":\"white\",\"caxis\":{\"gridcolor\":\"#DFE8F3\",\"linecolor\":\"#A2B1C6\",\"ticks\":\"\"}},\"title\":{\"x\":0.05},\"xaxis\":{\"automargin\":true,\"gridcolor\":\"#EBF0F8\",\"linecolor\":\"#EBF0F8\",\"ticks\":\"\",\"title\":{\"standoff\":15},\"zerolinecolor\":\"#EBF0F8\",\"zerolinewidth\":2},\"yaxis\":{\"automargin\":true,\"gridcolor\":\"#EBF0F8\",\"linecolor\":\"#EBF0F8\",\"ticks\":\"\",\"title\":{\"standoff\":15},\"zerolinecolor\":\"#EBF0F8\",\"zerolinewidth\":2}}},\"xaxis\":{\"anchor\":\"y\",\"domain\":[0.0,1.0],\"title\":{\"text\":\"False Positive Rate\"},\"constrain\":\"domain\"},\"yaxis\":{\"anchor\":\"x\",\"domain\":[0.0,1.0],\"title\":{\"text\":\"True Positive Rate\"}},\"legend\":{\"tracegroupgap\":0},\"title\":{\"text\":\"ROC Curve (AUC=0.8267)\"},\"height\":400,\"width\":400,\"shapes\":[{\"line\":{\"dash\":\"dash\"},\"type\":\"line\",\"x0\":0,\"x1\":1,\"y0\":0,\"y1\":1}]},                        {\"responsive\": true}                    )                };                });            </script>        </div>\n",
       "</div>\n",
       "<div id = \"Feature Importance-5684\" class=\"tabcontent-5684\">\n",
       "<div>                            <div id=\"2da027dc-679f-4fb4-8665-cb76deeef5f4\" class=\"plotly-graph-div\" style=\"height:100%; width:100%;\"></div>            <script type=\"text/javascript\">                require([\"plotly\"], function(Plotly) {                    window.PLOTLYENV=window.PLOTLYENV || {};                                    if (document.getElementById(\"2da027dc-679f-4fb4-8665-cb76deeef5f4\")) {                    Plotly.newPlot(                        \"2da027dc-679f-4fb4-8665-cb76deeef5f4\",                        [{\"alignmentgroup\":\"True\",\"hovertemplate\":\"x=%{x}<br>y=%{y}<extra></extra>\",\"legendgroup\":\"\",\"marker\":{\"color\":\"rgb(0, 139, 139)\",\"pattern\":{\"shape\":\"\"},\"line\":{\"color\":\"rgb(125, 196, 196)\",\"width\":1.5}},\"name\":\"\",\"offsetgroup\":\"\",\"orientation\":\"h\",\"showlegend\":false,\"textposition\":\"auto\",\"texttemplate\":\"%{x}\",\"x\":[96,100,476,492,703,1111,1365],\"xaxis\":\"x\",\"y\":[\"hypertension\",\"heart_disease\",\"work_type\",\"gender\",\"bmi\",\"avg_glucose_level\",\"age\"],\"yaxis\":\"y\",\"type\":\"bar\",\"opacity\":1}],                        {\"template\":{\"data\":{\"barpolar\":[{\"marker\":{\"line\":{\"color\":\"white\",\"width\":0.5},\"pattern\":{\"fillmode\":\"overlay\",\"size\":10,\"solidity\":0.2}},\"type\":\"barpolar\"}],\"bar\":[{\"error_x\":{\"color\":\"#2a3f5f\"},\"error_y\":{\"color\":\"#2a3f5f\"},\"marker\":{\"line\":{\"color\":\"white\",\"width\":0.5},\"pattern\":{\"fillmode\":\"overlay\",\"size\":10,\"solidity\":0.2}},\"type\":\"bar\"}],\"carpet\":[{\"aaxis\":{\"endlinecolor\":\"#2a3f5f\",\"gridcolor\":\"#C8D4E3\",\"linecolor\":\"#C8D4E3\",\"minorgridcolor\":\"#C8D4E3\",\"startlinecolor\":\"#2a3f5f\"},\"baxis\":{\"endlinecolor\":\"#2a3f5f\",\"gridcolor\":\"#C8D4E3\",\"linecolor\":\"#C8D4E3\",\"minorgridcolor\":\"#C8D4E3\",\"startlinecolor\":\"#2a3f5f\"},\"type\":\"carpet\"}],\"choropleth\":[{\"colorbar\":{\"outlinewidth\":0,\"ticks\":\"\"},\"type\":\"choropleth\"}],\"contourcarpet\":[{\"colorbar\":{\"outlinewidth\":0,\"ticks\":\"\"},\"type\":\"contourcarpet\"}],\"contour\":[{\"colorbar\":{\"outlinewidth\":0,\"ticks\":\"\"},\"colorscale\":[[0.0,\"#0d0887\"],[0.1111111111111111,\"#46039f\"],[0.2222222222222222,\"#7201a8\"],[0.3333333333333333,\"#9c179e\"],[0.4444444444444444,\"#bd3786\"],[0.5555555555555556,\"#d8576b\"],[0.6666666666666666,\"#ed7953\"],[0.7777777777777778,\"#fb9f3a\"],[0.8888888888888888,\"#fdca26\"],[1.0,\"#f0f921\"]],\"type\":\"contour\"}],\"heatmapgl\":[{\"colorbar\":{\"outlinewidth\":0,\"ticks\":\"\"},\"colorscale\":[[0.0,\"#0d0887\"],[0.1111111111111111,\"#46039f\"],[0.2222222222222222,\"#7201a8\"],[0.3333333333333333,\"#9c179e\"],[0.4444444444444444,\"#bd3786\"],[0.5555555555555556,\"#d8576b\"],[0.6666666666666666,\"#ed7953\"],[0.7777777777777778,\"#fb9f3a\"],[0.8888888888888888,\"#fdca26\"],[1.0,\"#f0f921\"]],\"type\":\"heatmapgl\"}],\"heatmap\":[{\"colorbar\":{\"outlinewidth\":0,\"ticks\":\"\"},\"colorscale\":[[0.0,\"#0d0887\"],[0.1111111111111111,\"#46039f\"],[0.2222222222222222,\"#7201a8\"],[0.3333333333333333,\"#9c179e\"],[0.4444444444444444,\"#bd3786\"],[0.5555555555555556,\"#d8576b\"],[0.6666666666666666,\"#ed7953\"],[0.7777777777777778,\"#fb9f3a\"],[0.8888888888888888,\"#fdca26\"],[1.0,\"#f0f921\"]],\"type\":\"heatmap\"}],\"histogram2dcontour\":[{\"colorbar\":{\"outlinewidth\":0,\"ticks\":\"\"},\"colorscale\":[[0.0,\"#0d0887\"],[0.1111111111111111,\"#46039f\"],[0.2222222222222222,\"#7201a8\"],[0.3333333333333333,\"#9c179e\"],[0.4444444444444444,\"#bd3786\"],[0.5555555555555556,\"#d8576b\"],[0.6666666666666666,\"#ed7953\"],[0.7777777777777778,\"#fb9f3a\"],[0.8888888888888888,\"#fdca26\"],[1.0,\"#f0f921\"]],\"type\":\"histogram2dcontour\"}],\"histogram2d\":[{\"colorbar\":{\"outlinewidth\":0,\"ticks\":\"\"},\"colorscale\":[[0.0,\"#0d0887\"],[0.1111111111111111,\"#46039f\"],[0.2222222222222222,\"#7201a8\"],[0.3333333333333333,\"#9c179e\"],[0.4444444444444444,\"#bd3786\"],[0.5555555555555556,\"#d8576b\"],[0.6666666666666666,\"#ed7953\"],[0.7777777777777778,\"#fb9f3a\"],[0.8888888888888888,\"#fdca26\"],[1.0,\"#f0f921\"]],\"type\":\"histogram2d\"}],\"histogram\":[{\"marker\":{\"pattern\":{\"fillmode\":\"overlay\",\"size\":10,\"solidity\":0.2}},\"type\":\"histogram\"}],\"mesh3d\":[{\"colorbar\":{\"outlinewidth\":0,\"ticks\":\"\"},\"type\":\"mesh3d\"}],\"parcoords\":[{\"line\":{\"colorbar\":{\"outlinewidth\":0,\"ticks\":\"\"}},\"type\":\"parcoords\"}],\"pie\":[{\"automargin\":true,\"type\":\"pie\"}],\"scatter3d\":[{\"line\":{\"colorbar\":{\"outlinewidth\":0,\"ticks\":\"\"}},\"marker\":{\"colorbar\":{\"outlinewidth\":0,\"ticks\":\"\"}},\"type\":\"scatter3d\"}],\"scattercarpet\":[{\"marker\":{\"colorbar\":{\"outlinewidth\":0,\"ticks\":\"\"}},\"type\":\"scattercarpet\"}],\"scattergeo\":[{\"marker\":{\"colorbar\":{\"outlinewidth\":0,\"ticks\":\"\"}},\"type\":\"scattergeo\"}],\"scattergl\":[{\"marker\":{\"colorbar\":{\"outlinewidth\":0,\"ticks\":\"\"}},\"type\":\"scattergl\"}],\"scattermapbox\":[{\"marker\":{\"colorbar\":{\"outlinewidth\":0,\"ticks\":\"\"}},\"type\":\"scattermapbox\"}],\"scatterpolargl\":[{\"marker\":{\"colorbar\":{\"outlinewidth\":0,\"ticks\":\"\"}},\"type\":\"scatterpolargl\"}],\"scatterpolar\":[{\"marker\":{\"colorbar\":{\"outlinewidth\":0,\"ticks\":\"\"}},\"type\":\"scatterpolar\"}],\"scatter\":[{\"marker\":{\"colorbar\":{\"outlinewidth\":0,\"ticks\":\"\"}},\"type\":\"scatter\"}],\"scatterternary\":[{\"marker\":{\"colorbar\":{\"outlinewidth\":0,\"ticks\":\"\"}},\"type\":\"scatterternary\"}],\"surface\":[{\"colorbar\":{\"outlinewidth\":0,\"ticks\":\"\"},\"colorscale\":[[0.0,\"#0d0887\"],[0.1111111111111111,\"#46039f\"],[0.2222222222222222,\"#7201a8\"],[0.3333333333333333,\"#9c179e\"],[0.4444444444444444,\"#bd3786\"],[0.5555555555555556,\"#d8576b\"],[0.6666666666666666,\"#ed7953\"],[0.7777777777777778,\"#fb9f3a\"],[0.8888888888888888,\"#fdca26\"],[1.0,\"#f0f921\"]],\"type\":\"surface\"}],\"table\":[{\"cells\":{\"fill\":{\"color\":\"#EBF0F8\"},\"line\":{\"color\":\"white\"}},\"header\":{\"fill\":{\"color\":\"#C8D4E3\"},\"line\":{\"color\":\"white\"}},\"type\":\"table\"}]},\"layout\":{\"annotationdefaults\":{\"arrowcolor\":\"#2a3f5f\",\"arrowhead\":0,\"arrowwidth\":1},\"autotypenumbers\":\"strict\",\"coloraxis\":{\"colorbar\":{\"outlinewidth\":0,\"ticks\":\"\"}},\"colorscale\":{\"diverging\":[[0,\"#8e0152\"],[0.1,\"#c51b7d\"],[0.2,\"#de77ae\"],[0.3,\"#f1b6da\"],[0.4,\"#fde0ef\"],[0.5,\"#f7f7f7\"],[0.6,\"#e6f5d0\"],[0.7,\"#b8e186\"],[0.8,\"#7fbc41\"],[0.9,\"#4d9221\"],[1,\"#276419\"]],\"sequential\":[[0.0,\"#0d0887\"],[0.1111111111111111,\"#46039f\"],[0.2222222222222222,\"#7201a8\"],[0.3333333333333333,\"#9c179e\"],[0.4444444444444444,\"#bd3786\"],[0.5555555555555556,\"#d8576b\"],[0.6666666666666666,\"#ed7953\"],[0.7777777777777778,\"#fb9f3a\"],[0.8888888888888888,\"#fdca26\"],[1.0,\"#f0f921\"]],\"sequentialminus\":[[0.0,\"#0d0887\"],[0.1111111111111111,\"#46039f\"],[0.2222222222222222,\"#7201a8\"],[0.3333333333333333,\"#9c179e\"],[0.4444444444444444,\"#bd3786\"],[0.5555555555555556,\"#d8576b\"],[0.6666666666666666,\"#ed7953\"],[0.7777777777777778,\"#fb9f3a\"],[0.8888888888888888,\"#fdca26\"],[1.0,\"#f0f921\"]]},\"colorway\":[\"#636efa\",\"#EF553B\",\"#00cc96\",\"#ab63fa\",\"#FFA15A\",\"#19d3f3\",\"#FF6692\",\"#B6E880\",\"#FF97FF\",\"#FECB52\"],\"font\":{\"color\":\"#2a3f5f\"},\"geo\":{\"bgcolor\":\"white\",\"lakecolor\":\"white\",\"landcolor\":\"white\",\"showlakes\":true,\"showland\":true,\"subunitcolor\":\"#C8D4E3\"},\"hoverlabel\":{\"align\":\"left\"},\"hovermode\":\"closest\",\"mapbox\":{\"style\":\"light\"},\"paper_bgcolor\":\"white\",\"plot_bgcolor\":\"white\",\"polar\":{\"angularaxis\":{\"gridcolor\":\"#EBF0F8\",\"linecolor\":\"#EBF0F8\",\"ticks\":\"\"},\"bgcolor\":\"white\",\"radialaxis\":{\"gridcolor\":\"#EBF0F8\",\"linecolor\":\"#EBF0F8\",\"ticks\":\"\"}},\"scene\":{\"xaxis\":{\"backgroundcolor\":\"white\",\"gridcolor\":\"#DFE8F3\",\"gridwidth\":2,\"linecolor\":\"#EBF0F8\",\"showbackground\":true,\"ticks\":\"\",\"zerolinecolor\":\"#EBF0F8\"},\"yaxis\":{\"backgroundcolor\":\"white\",\"gridcolor\":\"#DFE8F3\",\"gridwidth\":2,\"linecolor\":\"#EBF0F8\",\"showbackground\":true,\"ticks\":\"\",\"zerolinecolor\":\"#EBF0F8\"},\"zaxis\":{\"backgroundcolor\":\"white\",\"gridcolor\":\"#DFE8F3\",\"gridwidth\":2,\"linecolor\":\"#EBF0F8\",\"showbackground\":true,\"ticks\":\"\",\"zerolinecolor\":\"#EBF0F8\"}},\"shapedefaults\":{\"line\":{\"color\":\"#2a3f5f\"}},\"ternary\":{\"aaxis\":{\"gridcolor\":\"#DFE8F3\",\"linecolor\":\"#A2B1C6\",\"ticks\":\"\"},\"baxis\":{\"gridcolor\":\"#DFE8F3\",\"linecolor\":\"#A2B1C6\",\"ticks\":\"\"},\"bgcolor\":\"white\",\"caxis\":{\"gridcolor\":\"#DFE8F3\",\"linecolor\":\"#A2B1C6\",\"ticks\":\"\"}},\"title\":{\"x\":0.05},\"xaxis\":{\"automargin\":true,\"gridcolor\":\"#EBF0F8\",\"linecolor\":\"#EBF0F8\",\"ticks\":\"\",\"title\":{\"standoff\":15},\"zerolinecolor\":\"#EBF0F8\",\"zerolinewidth\":2},\"yaxis\":{\"automargin\":true,\"gridcolor\":\"#EBF0F8\",\"linecolor\":\"#EBF0F8\",\"ticks\":\"\",\"title\":{\"standoff\":15},\"zerolinecolor\":\"#EBF0F8\",\"zerolinewidth\":2}}},\"xaxis\":{\"anchor\":\"y\",\"domain\":[0.0,1.0],\"title\":{\"text\":\"Importance\"}},\"yaxis\":{\"anchor\":\"x\",\"domain\":[0.0,1.0],\"title\":{\"text\":\"Features\"}},\"legend\":{\"tracegroupgap\":0},\"margin\":{\"t\":60},\"barmode\":\"relative\",\"title\":{\"text\":\"Top 20 Important Features\"}},                        {\"responsive\": true}                    )                };                });            </script>        </div>\n",
       "</div>\n",
       "<style>\n",
       "    /* Style the tab */\n",
       "    .tab {\n",
       "      border-bottom: 1px solid #ccc;\n",
       "      display: flex;\n",
       "      flex-wrap: wrap;\n",
       "    }\n",
       "\n",
       "    /* Style the buttons inside the tab */\n",
       "    .tab>button {\n",
       "      background-color: inherit;\n",
       "      border: none;\n",
       "      outline: none;\n",
       "      cursor: pointer;\n",
       "      padding: 1rem;\n",
       "      transition: 0.1s;\n",
       "      font-size: 15px;\n",
       "      border-top-left-radius: 0.25rem;\n",
       "      border-top-right-radius: 0.25rem;\n",
       "      color: #0d6efd;\n",
       "    }\n",
       "\n",
       "    /* Change background color of buttons on hover */\n",
       "    .tab>button:hover {\n",
       "      background-color: #ccc;\n",
       "    }\n",
       "\n",
       "    /* Create an active/current tablink class */\n",
       "    .tab>button.active-tab {\n",
       "      background-color: white;\n",
       "      border: 1px solid #ccc;\n",
       "      border-bottom: none;\n",
       "      margin-bottom: -1px;\n",
       "      color: #495057;\n",
       "\n",
       "    }\n",
       "    /* Style the tab content */\n",
       "    .tabcontent-5684 {\n",
       "      display: none;\n",
       "      padding: 0 0.5rem;\n",
       "    }\n",
       "    </style>\n",
       "    <script>\n",
       "    function OpenTab_5684(evt, cityName) {\n",
       "      var i, tabcontent, tablinks;\n",
       "      tabcontent = document.getElementsByClassName(\"tabcontent-5684\");\n",
       "      for (i = 0; i < tabcontent.length; i++) {\n",
       "        tabcontent[i].style.display = \"none\";\n",
       "      }\n",
       "      tablinks = document.getElementsByClassName(\"tablinks-5684\");\n",
       "      for (i = 0; i < tablinks.length; i++) {\n",
       "        tablinks[i].className = tablinks[i].className.replace(\" active-tab\", \"\");\n",
       "      }\n",
       "      document.getElementById(cityName).style.display = \"block\";\n",
       "      evt.currentTarget.className += \" active-tab\";\n",
       "    }\n",
       "\n",
       "    // Get the element with id=\"defaultOpen\" and click on it\n",
       "    document.getElementById(\"defaultOpen-5684\").click();\n",
       "    </script>"
      ],
      "text/plain": [
       "<IPython.core.display.HTML object>"
      ]
     },
     "metadata": {},
     "output_type": "display_data"
    }
   ],
   "source": [
    "html1 = (f1.to_html(include_plotlyjs='require', full_html=False))\n",
    "html2 = (f2.to_html(include_plotlyjs='require', full_html=False))\n",
    "html3 = (f3.to_html(include_plotlyjs='require', full_html=False))\n",
    "tabset({\n",
    "    'Confusion matrix': html1,\n",
    "    'Area Under the Curve(AUC)': html2,\n",
    "    'Feature Importance': html3\n",
    "})\n"
   ]
  },
  {
   "cell_type": "markdown",
   "id": "a5647d1e",
   "metadata": {},
   "source": [
    "<font size = 4 color = '#008B8B'> <b>Key Insights </b> </font>\n",
    "\n",
    "The model trained with LightGBM was able to predict 42 out of 62 stroke-prone individuals with an AUC-ROC score of 0.83. It is important to conduct further analysis to ensure that these results are not due to chance or any biases introduced during the modeling stage.\n",
    "\n",
    "Based on the current dataset, the most important features for predicting stroke-prone individuals were found to be age, BMI, and glucose level. These findings suggest that these factors should be closely monitored and considered when assessing the risk of stroke."
   ]
  },
  {
   "cell_type": "markdown",
   "id": "55384335",
   "metadata": {},
   "source": [
    "[back](#Table-of-Contents)"
   ]
  },
  {
   "cell_type": "markdown",
   "id": "cb4bdcf9",
   "metadata": {},
   "source": [
    "<hr color='#008B8B'>"
   ]
  },
  {
   "cell_type": "markdown",
   "id": "a73510ed",
   "metadata": {},
   "source": [
    "# Model Interpretability\n",
    "\n",
    "**Interpretabilit**y is the degree to which a human can understand the cause of a decision. So, the **model interpretability** is the degree to which a human can consistently predict the model’s result."
   ]
  },
  {
   "cell_type": "markdown",
   "id": "a7845ee1",
   "metadata": {},
   "source": [
    "<font size = 4 color = '#008B8B'> <b>Key terminology in XAI </b> </font>\n",
    "  - **Globally** : This is the overall explanation of model behavior. It shows us a big picture view of the model, and **how features in the data collectively affect the result**.\n",
    "  - **Locally** : This tells us about each instance and feature in the data individually (kind of like explaining observations seen at certain points in the model), and **how features individually affect the result**.\n",
    "  - **Model Agnostic** : It provide easy-to-understand explanations of predictions made by any ML model.  \n",
    "  - **Model Specific** : These are designed to interpret predictions generated by a specific model, such as a neural network"
   ]
  },
  {
   "cell_type": "markdown",
   "id": "bfaaec67",
   "metadata": {},
   "source": [
    "<div style=\"float: left;\">\n",
    "<img src = \"https://wires.onlinelibrary.wiley.com/cms/asset/60dc00c2-0acb-4f26-868b-7488892dc92e/widm1379-toc-0001-m.jpg\" width = 700 length = 700 >\n",
    "</div>\n",
    "<br clear=\"left\"/>\n",
    "\n",
    "*A simple [infographic](https://wires.onlinelibrary.wiley.com/doi/10.1002/widm.1379) above shows Global vs local explanation*"
   ]
  },
  {
   "cell_type": "markdown",
   "id": "448f02fb",
   "metadata": {},
   "source": [
    "[back](#Table-of-Contents)"
   ]
  },
  {
   "cell_type": "markdown",
   "id": "128a12b4",
   "metadata": {},
   "source": [
    "<hr color='#008B8B'>"
   ]
  },
  {
   "cell_type": "markdown",
   "id": "54c84e52",
   "metadata": {},
   "source": [
    "# Comparisons XAI \n"
   ]
  },
  {
   "cell_type": "markdown",
   "id": "bbe19920",
   "metadata": {},
   "source": [
    "## PDP vs ALE"
   ]
  },
  {
   "cell_type": "markdown",
   "id": "6a5c595d",
   "metadata": {},
   "source": [
    "### Understanding these methods"
   ]
  },
  {
   "cell_type": "markdown",
   "id": "2debcffe",
   "metadata": {},
   "source": [
    "####  PDP"
   ]
  },
  {
   "cell_type": "code",
   "execution_count": 15,
   "id": "55268d27",
   "metadata": {
    "ExecuteTime": {
     "end_time": "2022-12-20T07:57:39.178118Z",
     "start_time": "2022-12-20T07:57:39.171117Z"
    }
   },
   "outputs": [],
   "source": [
    "pdp_theory_md = \"\"\" \n",
    "<font size = 4  color = '#008B8B'> <b>What is PDP?</b></font>\n",
    "<ul>\n",
    "   <li>The partial dependence plot (short PDP) is a global, model-agnostic interpretation method introduced by Friedman in 2001.</li>\n",
    "   <li>Shows the marginal effect one or two features have on the predicted outcome.</li>\n",
    "   <li>Shows whether the relationship between the target and a feature is linear, monotonic or more complex</li>\n",
    "   <li>How it is derived? </li>\n",
    "   <ul>\n",
    "       <li>Select a feature. </li>\n",
    "       <li>Define the grid values.</li>\n",
    "       <li>Per grid value: </li>\n",
    "       <ul>\n",
    "           <li>Replace feature with grid value</li>\n",
    "           <li>Average the predictions</li>\n",
    "      </ul>\n",
    "      <li>Draw the curve.</li>\n",
    "   </ul>\n",
    "</ul>\n",
    "\n",
    "<img align=\"left\" src=\"https://blogs.sas.com/content/subconsciousmusings/files/2018/06/blackboxmodels.png\" width = 600 length = 600>\n",
    "<br clear=\"left\"/>\n",
    "\n",
    "<i><a href=\"https://blogs.sas.com/content/subconsciousmusings/files/2018/06/blackboxmodels.png\">infographic</a> above illustrate the relationship between features and prediction </i>\n",
    "\"\"\" "
   ]
  },
  {
   "cell_type": "code",
   "execution_count": 16,
   "id": "0ce1fd90",
   "metadata": {
    "ExecuteTime": {
     "end_time": "2022-12-20T07:57:39.782119Z",
     "start_time": "2022-12-20T07:57:39.778118Z"
    }
   },
   "outputs": [],
   "source": [
    "pdp_eg_md = \"\"\" \n",
    "<font size = 4  color = '#008B8B'> <b>How Partial Dependence is calculated?</b></font>\n",
    "<br>\n",
    "<b>Below series of images can help us understand how PD is calculated.</b>\n",
    "\n",
    "<br>\n",
    "<br>\n",
    "\n",
    "<img align=\"left\" src=\"xai_img/PD_STEP.png\" width = 450 length = 450>\n",
    "<br clear=\"left\"/>\n",
    "\n",
    "<i>Infographic above shows steps to plot PD </i>\n",
    "\n",
    "<br>\n",
    "<br>\n",
    "\n",
    "<img align=\"left\" src=\"xai_img/PD_DATA.png\" width = 450 length = 450>\n",
    "<br clear=\"left\"/>\n",
    "\n",
    "<i>Fig above illustrate the data used to calculate PD</i>\n",
    "<br>\n",
    "<br>\n",
    "\n",
    "<img align=\"left\" src=\"xai_img/PD_EG.png\" width = 450 length = 450>\n",
    "<br clear=\"left\"/>\n",
    "\n",
    "<i>Fig above shows average prediction calculated per grid value</i>\n",
    "\n",
    "<br>\n",
    "<br>\n",
    "   \n",
    "<img align=\"left\" src=\"xai_img/PD_GRAPH.png\" width = 450 length = 450>\n",
    "<br clear=\"left\"/>\n",
    "\n",
    "<i>Fig above shows the PD plot for feature AGE</i>\n",
    "\"\"\" "
   ]
  },
  {
   "cell_type": "code",
   "execution_count": 17,
   "id": "50773d8f",
   "metadata": {
    "ExecuteTime": {
     "end_time": "2022-12-20T07:57:40.735403Z",
     "start_time": "2022-12-20T07:57:40.729401Z"
    }
   },
   "outputs": [
    {
     "data": {
      "text/html": [
       "<div class=\"tab\">\n",
       "<button id = \"defaultOpen-5793\" onclick = \"OpenTab_5793(event, 'Theory-5793')\" class=\"tablinks-5793\">Theory</button>\n",
       "<button onclick = \"OpenTab_5793(event, 'Example-5793')\" class=\"tablinks-5793\">Example</button>\n",
       "</div><div id = \"Theory-5793\" class=\"tabcontent-5793\">\n",
       " \n",
       "<font size = 4  color = '#008B8B'> <b>What is PDP?</b></font>\n",
       "<ul>\n",
       "   <li>The partial dependence plot (short PDP) is a global, model-agnostic interpretation method introduced by Friedman in 2001.</li>\n",
       "   <li>Shows the marginal effect one or two features have on the predicted outcome.</li>\n",
       "   <li>Shows whether the relationship between the target and a feature is linear, monotonic or more complex</li>\n",
       "   <li>How it is derived? </li>\n",
       "   <ul>\n",
       "       <li>Select a feature. </li>\n",
       "       <li>Define the grid values.</li>\n",
       "       <li>Per grid value: </li>\n",
       "       <ul>\n",
       "           <li>Replace feature with grid value</li>\n",
       "           <li>Average the predictions</li>\n",
       "      </ul>\n",
       "      <li>Draw the curve.</li>\n",
       "   </ul>\n",
       "</ul>\n",
       "\n",
       "<img align=\"left\" src=\"https://blogs.sas.com/content/subconsciousmusings/files/2018/06/blackboxmodels.png\" width = 600 length = 600>\n",
       "<br clear=\"left\"/>\n",
       "\n",
       "<i><a href=\"https://blogs.sas.com/content/subconsciousmusings/files/2018/06/blackboxmodels.png\">infographic</a> above illustrate the relationship between features and prediction </i>\n",
       "\n",
       "</div>\n",
       "<div id = \"Example-5793\" class=\"tabcontent-5793\">\n",
       " \n",
       "<font size = 4  color = '#008B8B'> <b>How Partial Dependence is calculated?</b></font>\n",
       "<br>\n",
       "<b>Below series of images can help us understand how PD is calculated.</b>\n",
       "\n",
       "<br>\n",
       "<br>\n",
       "\n",
       "<img align=\"left\" src=\"xai_img/PD_STEP.png\" width = 450 length = 450>\n",
       "<br clear=\"left\"/>\n",
       "\n",
       "<i>Infographic above shows steps to plot PD </i>\n",
       "\n",
       "<br>\n",
       "<br>\n",
       "\n",
       "<img align=\"left\" src=\"xai_img/PD_DATA.png\" width = 450 length = 450>\n",
       "<br clear=\"left\"/>\n",
       "\n",
       "<i>Fig above illustrate the data used to calculate PD</i>\n",
       "<br>\n",
       "<br>\n",
       "\n",
       "<img align=\"left\" src=\"xai_img/PD_EG.png\" width = 450 length = 450>\n",
       "<br clear=\"left\"/>\n",
       "\n",
       "<i>Fig above shows average prediction calculated per grid value</i>\n",
       "\n",
       "<br>\n",
       "<br>\n",
       "   \n",
       "<img align=\"left\" src=\"xai_img/PD_GRAPH.png\" width = 450 length = 450>\n",
       "<br clear=\"left\"/>\n",
       "\n",
       "<i>Fig above shows the PD plot for feature AGE</i>\n",
       "\n",
       "</div>\n",
       "<style>\n",
       "    /* Style the tab */\n",
       "    .tab {\n",
       "      border-bottom: 1px solid #ccc;\n",
       "      display: flex;\n",
       "      flex-wrap: wrap;\n",
       "    }\n",
       "\n",
       "    /* Style the buttons inside the tab */\n",
       "    .tab>button {\n",
       "      background-color: inherit;\n",
       "      border: none;\n",
       "      outline: none;\n",
       "      cursor: pointer;\n",
       "      padding: 1rem;\n",
       "      transition: 0.1s;\n",
       "      font-size: 15px;\n",
       "      border-top-left-radius: 0.25rem;\n",
       "      border-top-right-radius: 0.25rem;\n",
       "      color: #0d6efd;\n",
       "    }\n",
       "\n",
       "    /* Change background color of buttons on hover */\n",
       "    .tab>button:hover {\n",
       "      background-color: #ccc;\n",
       "    }\n",
       "\n",
       "    /* Create an active/current tablink class */\n",
       "    .tab>button.active-tab {\n",
       "      background-color: white;\n",
       "      border: 1px solid #ccc;\n",
       "      border-bottom: none;\n",
       "      margin-bottom: -1px;\n",
       "      color: #495057;\n",
       "\n",
       "    }\n",
       "    /* Style the tab content */\n",
       "    .tabcontent-5793 {\n",
       "      display: none;\n",
       "      padding: 0 0.5rem;\n",
       "    }\n",
       "    </style>\n",
       "    <script>\n",
       "    function OpenTab_5793(evt, cityName) {\n",
       "      var i, tabcontent, tablinks;\n",
       "      tabcontent = document.getElementsByClassName(\"tabcontent-5793\");\n",
       "      for (i = 0; i < tabcontent.length; i++) {\n",
       "        tabcontent[i].style.display = \"none\";\n",
       "      }\n",
       "      tablinks = document.getElementsByClassName(\"tablinks-5793\");\n",
       "      for (i = 0; i < tablinks.length; i++) {\n",
       "        tablinks[i].className = tablinks[i].className.replace(\" active-tab\", \"\");\n",
       "      }\n",
       "      document.getElementById(cityName).style.display = \"block\";\n",
       "      evt.currentTarget.className += \" active-tab\";\n",
       "    }\n",
       "\n",
       "    // Get the element with id=\"defaultOpen\" and click on it\n",
       "    document.getElementById(\"defaultOpen-5793\").click();\n",
       "    </script>"
      ],
      "text/plain": [
       "<IPython.core.display.HTML object>"
      ]
     },
     "metadata": {},
     "output_type": "display_data"
    }
   ],
   "source": [
    "#checkout both the tabs\n",
    "tabset({\n",
    "    'Theory': pdp_theory_md,\n",
    "    'Example': pdp_eg_md,\n",
    "})"
   ]
  },
  {
   "cell_type": "markdown",
   "id": "6da3af1e",
   "metadata": {},
   "source": [
    "#### ALE"
   ]
  },
  {
   "cell_type": "code",
   "execution_count": 18,
   "id": "2d6c5d04",
   "metadata": {
    "ExecuteTime": {
     "end_time": "2022-12-20T07:57:43.518407Z",
     "start_time": "2022-12-20T07:57:43.513405Z"
    }
   },
   "outputs": [],
   "source": [
    "ale_theory_md = \"\"\" \n",
    "<font size = 4  color = '#008B8B'> <b>What is ALE?</b></font>\n",
    "<ul>\n",
    "   <li>Accumulated Local Effects(ALE) is also a global, model-agnostic interpretation method proposed by Apley in 2018.</li>\n",
    "   <li>Calculates the differences in predictions instead of averages. Using “differences” instead of “averages” allows it to block the effect of correlated features.</li>\n",
    "   <li>ALE plots are a faster and unbiased alternative to partial dependence plots (PDPs)</li>\n",
    "   <li>To estimate local effects, we divide the feature into many intervals and compute the differences in the predictions.  \n",
    "   <li>How it is derived? </li>\n",
    "   <ul>\n",
    "       <li>Select a feature. </li>\n",
    "       <li>Define interval/ neighbor regions</li>\n",
    "       <li>Per interval (local neighborhood) : </li>\n",
    "       <ul>\n",
    "           <li>Replace feature with lower limit value and calculate predictions</li>\n",
    "           <li>Replace feature with upper limit value and calculate predictions</li>\n",
    "           <li>Average the difference in predictions between a and b</li>\n",
    "           <li>Accumulate the effects across all intervals so that effect of internal X3 is a accumulated effect of X1,X2 and X3</li>\n",
    "      </ul>\n",
    "      <li>Finally, the accumulated feature effects at each interval is centered, such that the mean effect is zero.</li>\n",
    "      <li>Draw the curve</li>\n",
    "   </ul>\n",
    "</ul>\n",
    "\n",
    "\"\"\" "
   ]
  },
  {
   "cell_type": "code",
   "execution_count": 19,
   "id": "fa1c7b32",
   "metadata": {
    "ExecuteTime": {
     "end_time": "2022-12-20T07:57:44.270221Z",
     "start_time": "2022-12-20T07:57:44.266225Z"
    }
   },
   "outputs": [],
   "source": [
    "ale_eg_md = \"\"\" \n",
    "<font size = 4  color = '#008B8B'> <b>How Accumulated Local effect is calculated?</b></font>\n",
    "<br>\n",
    "<b>Below series of images can help us understand how ALE is calculated.</b>\n",
    "\n",
    "<br>\n",
    "<br>\n",
    "\n",
    "<img align=\"left\" src=\"xai_img/ALE_STEP.png\" width = 650 length = 550>\n",
    "<br clear=\"left\"/>\n",
    "\n",
    "<i>Infographic above shows steps to plot ALE </i>\n",
    "\n",
    "<br>\n",
    "<br>\n",
    "\n",
    "<img align=\"left\" src=\"xai_img/ALE_DATA.png\" width = 450 length = 400>\n",
    "<br clear=\"left\"/>\n",
    "\n",
    "<i>Fig above illustrate the data used to calculate ALE</i>\n",
    "<br>\n",
    "<br>\n",
    "\n",
    "<img align=\"left\" src=\"xai_img/ALE_EG.png\" width = 550 length = 550>\n",
    "<br clear=\"left\"/>\n",
    "\n",
    "<i>Fig above shows estimated calculation of ALE</i>\n",
    "\n",
    "<br>\n",
    "<br>\n",
    "\n",
    "<img align=\"left\" src=\"xai_img/ALE_FOR.png\" width = 450 length = 450>\n",
    "<br clear=\"left\"/>\n",
    "\n",
    "\n",
    "<br>\n",
    "<br>\n",
    "   \n",
    "<img align=\"left\" src=\"xai_img/ALE_GRAPH.png\" width = 500 length = 500>\n",
    "<br clear=\"left\"/>\n",
    "\n",
    "<i>Fig above shows the ALE plot for feature AGE</i>\n",
    "\n",
    "<br>\n",
    "<br>\n",
    "   \n",
    "<img align=\"left\" src=\"xai_img/ALE_NOTE.png\" width = 700 length = 500>\n",
    "<br clear=\"left\"/>\n",
    "\n",
    "<i>Important notes for ALE</i>\n",
    "\"\"\" "
   ]
  },
  {
   "cell_type": "code",
   "execution_count": 20,
   "id": "35171522",
   "metadata": {
    "ExecuteTime": {
     "end_time": "2022-12-20T06:11:51.893209Z",
     "start_time": "2022-12-20T06:11:51.886208Z"
    }
   },
   "outputs": [
    {
     "data": {
      "text/html": [
       "<div class=\"tab\">\n",
       "<button id = \"defaultOpen-7282\" onclick = \"OpenTab_7282(event, 'Theory-7282')\" class=\"tablinks-7282\">Theory</button>\n",
       "<button onclick = \"OpenTab_7282(event, 'Example-7282')\" class=\"tablinks-7282\">Example</button>\n",
       "</div><div id = \"Theory-7282\" class=\"tabcontent-7282\">\n",
       " \n",
       "<font size = 4  color = '#008B8B'> <b>What is ALE?</b></font>\n",
       "<ul>\n",
       "   <li>Accumulated Local Effects(ALE) is also a global, model-agnostic interpretation method proposed by Apley in 2018.</li>\n",
       "   <li>Calculates the differences in predictions instead of averages. Using “differences” instead of “averages” allows it to block the effect of correlated features.</li>\n",
       "   <li>ALE plots are a faster and unbiased alternative to partial dependence plots (PDPs)</li>\n",
       "   <li>To estimate local effects, we divide the feature into many intervals and compute the differences in the predictions.  \n",
       "   <li>How it is derived? </li>\n",
       "   <ul>\n",
       "       <li>Select a feature. </li>\n",
       "       <li>Define interval/ neighbor regions</li>\n",
       "       <li>Per interval (local neighborhood) : </li>\n",
       "       <ul>\n",
       "           <li>Replace feature with lower limit value and calculate predictions</li>\n",
       "           <li>Replace feature with upper limit value and calculate predictions</li>\n",
       "           <li>Average the difference in predictions between a and b</li>\n",
       "           <li>Accumulate the effects across all intervals so that effect of internal X3 is a accumulated effect of X1,X2 and X3</li>\n",
       "      </ul>\n",
       "      <li>Finally, the accumulated feature effects at each interval is centered, such that the mean effect is zero.</li>\n",
       "      <li>Draw the curve</li>\n",
       "   </ul>\n",
       "</ul>\n",
       "\n",
       "\n",
       "</div>\n",
       "<div id = \"Example-7282\" class=\"tabcontent-7282\">\n",
       " \n",
       "<font size = 4  color = '#008B8B'> <b>How Accumulated Local effect is calculated?</b></font>\n",
       "<br>\n",
       "<b>Below series of images can help us understand how ALE is calculated.</b>\n",
       "\n",
       "<br>\n",
       "<br>\n",
       "\n",
       "<img align=\"left\" src=\"xai_img/ALE_STEP.png\" width = 650 length = 550>\n",
       "<br clear=\"left\"/>\n",
       "\n",
       "<i>Infographic above shows steps to plot ALE </i>\n",
       "\n",
       "<br>\n",
       "<br>\n",
       "\n",
       "<img align=\"left\" src=\"xai_img/ALE_DATA.png\" width = 450 length = 400>\n",
       "<br clear=\"left\"/>\n",
       "\n",
       "<i>Fig above illustrate the data used to calculate ALE</i>\n",
       "<br>\n",
       "<br>\n",
       "\n",
       "<img align=\"left\" src=\"xai_img/ALE_EG.png\" width = 550 length = 550>\n",
       "<br clear=\"left\"/>\n",
       "\n",
       "<i>Fig above shows estimated calculation of ALE</i>\n",
       "\n",
       "<br>\n",
       "<br>\n",
       "\n",
       "<img align=\"left\" src=\"xai_img/ALE_FOR.png\" width = 450 length = 450>\n",
       "<br clear=\"left\"/>\n",
       "\n",
       "\n",
       "<br>\n",
       "<br>\n",
       "   \n",
       "<img align=\"left\" src=\"xai_img/ALE_GRAPH.png\" width = 500 length = 500>\n",
       "<br clear=\"left\"/>\n",
       "\n",
       "<i>Fig above shows the ALE plot for feature AGE</i>\n",
       "\n",
       "<br>\n",
       "<br>\n",
       "   \n",
       "<img align=\"left\" src=\"xai_img/ALE_NOTE.png\" width = 700 length = 500>\n",
       "<br clear=\"left\"/>\n",
       "\n",
       "<i>Important notes for ALE</i>\n",
       "\n",
       "</div>\n",
       "<style>\n",
       "    /* Style the tab */\n",
       "    .tab {\n",
       "      border-bottom: 1px solid #ccc;\n",
       "      display: flex;\n",
       "      flex-wrap: wrap;\n",
       "    }\n",
       "\n",
       "    /* Style the buttons inside the tab */\n",
       "    .tab>button {\n",
       "      background-color: inherit;\n",
       "      border: none;\n",
       "      outline: none;\n",
       "      cursor: pointer;\n",
       "      padding: 1rem;\n",
       "      transition: 0.1s;\n",
       "      font-size: 15px;\n",
       "      border-top-left-radius: 0.25rem;\n",
       "      border-top-right-radius: 0.25rem;\n",
       "      color: #0d6efd;\n",
       "    }\n",
       "\n",
       "    /* Change background color of buttons on hover */\n",
       "    .tab>button:hover {\n",
       "      background-color: #ccc;\n",
       "    }\n",
       "\n",
       "    /* Create an active/current tablink class */\n",
       "    .tab>button.active-tab {\n",
       "      background-color: white;\n",
       "      border: 1px solid #ccc;\n",
       "      border-bottom: none;\n",
       "      margin-bottom: -1px;\n",
       "      color: #495057;\n",
       "\n",
       "    }\n",
       "    /* Style the tab content */\n",
       "    .tabcontent-7282 {\n",
       "      display: none;\n",
       "      padding: 0 0.5rem;\n",
       "    }\n",
       "    </style>\n",
       "    <script>\n",
       "    function OpenTab_7282(evt, cityName) {\n",
       "      var i, tabcontent, tablinks;\n",
       "      tabcontent = document.getElementsByClassName(\"tabcontent-7282\");\n",
       "      for (i = 0; i < tabcontent.length; i++) {\n",
       "        tabcontent[i].style.display = \"none\";\n",
       "      }\n",
       "      tablinks = document.getElementsByClassName(\"tablinks-7282\");\n",
       "      for (i = 0; i < tablinks.length; i++) {\n",
       "        tablinks[i].className = tablinks[i].className.replace(\" active-tab\", \"\");\n",
       "      }\n",
       "      document.getElementById(cityName).style.display = \"block\";\n",
       "      evt.currentTarget.className += \" active-tab\";\n",
       "    }\n",
       "\n",
       "    // Get the element with id=\"defaultOpen\" and click on it\n",
       "    document.getElementById(\"defaultOpen-7282\").click();\n",
       "    </script>"
      ],
      "text/plain": [
       "<IPython.core.display.HTML object>"
      ]
     },
     "metadata": {},
     "output_type": "display_data"
    }
   ],
   "source": [
    "tabset({\n",
    "    'Theory': ale_theory_md,\n",
    "    'Example': ale_eg_md,\n",
    "})"
   ]
  },
  {
   "cell_type": "markdown",
   "id": "68c706cd",
   "metadata": {},
   "source": [
    "### Getting into examples and comparing\n",
    "I have utilized the [Shapash](https://shapash.readthedocs.io/en/latest/tutorials/plot/tuto-plot02-contribution_plot.html) package to create Partial Dependence Plots and the [Dalex](https://ema.drwhy.ai/accumulatedLocalProfiles.html) package to generate insightful Accumulated Local Effects Plots."
   ]
  },
  {
   "cell_type": "code",
   "execution_count": 21,
   "id": "395a3868",
   "metadata": {
    "ExecuteTime": {
     "end_time": "2022-12-20T07:57:08.420549Z",
     "start_time": "2022-12-20T07:57:08.393548Z"
    }
   },
   "outputs": [],
   "source": [
    "#load model to create SHAP and breakdown plots\n",
    "model = pickle.load(open('trained_classifier.sav', 'rb'))"
   ]
  },
  {
   "cell_type": "code",
   "execution_count": 22,
   "id": "9b74ae4c",
   "metadata": {
    "ExecuteTime": {
     "end_time": "2022-12-20T02:20:18.750002Z",
     "start_time": "2022-12-20T02:17:17.909458Z"
    }
   },
   "outputs": [],
   "source": [
    "# create the smart explainer \n",
    "from shapash import SmartExplainer\n",
    "xpl = SmartExplainer( \n",
    "  model=model,\n",
    ")\n",
    "\n",
    "xpl.compile(\n",
    "    x=X_test,   \n",
    ")"
   ]
  },
  {
   "cell_type": "code",
   "execution_count": 23,
   "id": "c5495e8b",
   "metadata": {
    "ExecuteTime": {
     "end_time": "2022-11-08T03:22:52.369923Z",
     "start_time": "2022-11-08T03:22:51.056910Z"
    },
    "scrolled": false,
    "tags": [
     "remove-output"
    ]
   },
   "outputs": [
    {
     "data": {
      "application/vnd.plotly.v1+json": {
       "config": {
        "plotlyServerURL": "https://plot.ly"
       },
       "data": [
        {
         "customdata": [
          [
           31,
           4688
          ],
          [
           40,
           4478
          ],
          [
           8,
           3849
          ],
          [
           79,
           4355
          ],
          [
           75,
           3826
          ],
          [
           79,
           3951
          ],
          [
           56,
           3396
          ],
          [
           69,
           465
          ],
          [
           7,
           410
          ],
          [
           1.48,
           1632
          ],
          [
           37,
           2859
          ],
          [
           3,
           1370
          ],
          [
           60,
           1360
          ],
          [
           51,
           807
          ],
          [
           57,
           315
          ],
          [
           43,
           79
          ],
          [
           42,
           586
          ],
          [
           10,
           2892
          ],
          [
           26,
           3857
          ],
          [
           3,
           2348
          ],
          [
           42,
           3161
          ],
          [
           44,
           1305
          ],
          [
           6,
           3338
          ],
          [
           16,
           538
          ],
          [
           23,
           3121
          ],
          [
           52,
           1662
          ],
          [
           9,
           4585
          ],
          [
           41,
           1417
          ],
          [
           72,
           2570
          ],
          [
           12,
           1405
          ],
          [
           56,
           1864
          ],
          [
           42,
           4035
          ],
          [
           39,
           3733
          ],
          [
           28,
           1672
          ],
          [
           17,
           1375
          ],
          [
           1.16,
           4694
          ],
          [
           63,
           2846
          ],
          [
           37,
           711
          ],
          [
           66,
           296
          ],
          [
           56,
           3151
          ],
          [
           47,
           1344
          ],
          [
           43,
           1261
          ],
          [
           22,
           2970
          ],
          [
           82,
           670
          ],
          [
           46,
           4953
          ],
          [
           66,
           4678
          ],
          [
           9,
           1831
          ],
          [
           63,
           3784
          ],
          [
           1.24,
           1244
          ],
          [
           16,
           4878
          ],
          [
           19,
           926
          ],
          [
           2,
           4510
          ],
          [
           80,
           33
          ],
          [
           5,
           3809
          ],
          [
           38,
           4955
          ],
          [
           53,
           848
          ],
          [
           46,
           1505
          ],
          [
           82,
           23
          ],
          [
           27,
           3279
          ],
          [
           52,
           691
          ],
          [
           47,
           1557
          ],
          [
           78,
           4483
          ],
          [
           71,
           1480
          ],
          [
           19,
           969
          ],
          [
           43,
           3109
          ],
          [
           31,
           3999
          ],
          [
           20,
           952
          ],
          [
           13,
           3483
          ],
          [
           47,
           254
          ],
          [
           80,
           5105
          ],
          [
           5,
           2845
          ],
          [
           23,
           2915
          ],
          [
           52,
           626
          ],
          [
           43,
           1721
          ],
          [
           23,
           1094
          ],
          [
           47,
           1345
          ],
          [
           7,
           2478
          ],
          [
           67,
           4635
          ],
          [
           52,
           3123
          ],
          [
           79,
           4777
          ],
          [
           54,
           4463
          ],
          [
           68,
           4228
          ],
          [
           69,
           2908
          ],
          [
           44,
           2988
          ],
          [
           38,
           468
          ],
          [
           17,
           2276
          ],
          [
           54,
           3757
          ],
          [
           62,
           4938
          ],
          [
           70,
           2718
          ],
          [
           5,
           4232
          ],
          [
           32,
           3822
          ],
          [
           60,
           1295
          ],
          [
           78,
           1971
          ],
          [
           23,
           4710
          ],
          [
           21,
           2344
          ],
          [
           51,
           1038
          ],
          [
           78,
           65
          ],
          [
           78,
           3783
          ],
          [
           23,
           842
          ],
          [
           65,
           2422
          ],
          [
           57,
           4411
          ],
          [
           50,
           4224
          ],
          [
           4,
           4133
          ],
          [
           36,
           2741
          ],
          [
           71,
           4738
          ],
          [
           12,
           3094
          ],
          [
           60,
           3690
          ],
          [
           1.88,
           3447
          ],
          [
           69,
           4125
          ],
          [
           24,
           3406
          ],
          [
           20,
           763
          ],
          [
           40,
           4479
          ],
          [
           52,
           4353
          ],
          [
           52,
           505
          ],
          [
           62,
           4102
          ],
          [
           58,
           84
          ],
          [
           65,
           1224
          ],
          [
           40,
           1966
          ],
          [
           36,
           4112
          ],
          [
           60,
           1487
          ],
          [
           52,
           831
          ],
          [
           57,
           1723
          ],
          [
           32,
           3076
          ],
          [
           5,
           3573
          ],
          [
           70,
           724
          ],
          [
           52,
           3825
          ],
          [
           57,
           2841
          ],
          [
           0.32,
           3859
          ],
          [
           50,
           106
          ],
          [
           54,
           2153
          ],
          [
           69,
           1413
          ],
          [
           58,
           2174
          ],
          [
           17,
           1338
          ],
          [
           38,
           1534
          ],
          [
           59,
           8
          ],
          [
           52,
           333
          ],
          [
           33,
           3035
          ],
          [
           65,
           4685
          ],
          [
           50,
           1926
          ],
          [
           33,
           1626
          ],
          [
           49,
           705
          ],
          [
           9,
           3555
          ],
          [
           47,
           4679
          ],
          [
           38,
           3773
          ],
          [
           24,
           3541
          ],
          [
           35,
           1001
          ],
          [
           51,
           4176
          ],
          [
           52,
           1128
          ],
          [
           81,
           179
          ],
          [
           8,
           1074
          ],
          [
           20,
           486
          ],
          [
           82,
           2341
          ],
          [
           82,
           1769
          ],
          [
           57,
           157
          ],
          [
           67,
           3979
          ],
          [
           58,
           2420
          ],
          [
           65,
           4880
          ],
          [
           36,
           4274
          ],
          [
           21,
           4656
          ],
          [
           59,
           29
          ],
          [
           68,
           2319
          ],
          [
           19,
           3038
          ],
          [
           55,
           553
          ],
          [
           76,
           4765
          ],
          [
           61,
           3264
          ],
          [
           50,
           731
          ],
          [
           24,
           4213
          ],
          [
           77,
           3351
          ],
          [
           23,
           373
          ],
          [
           61,
           2722
          ],
          [
           28,
           2299
          ],
          [
           21,
           1902
          ],
          [
           50,
           2822
          ],
          [
           1.08,
           2305
          ],
          [
           68,
           151
          ],
          [
           2,
           683
          ],
          [
           51,
           3377
          ],
          [
           67,
           2642
          ],
          [
           54,
           2473
          ],
          [
           52,
           4163
          ],
          [
           38,
           393
          ],
          [
           19,
           2394
          ],
          [
           18,
           1095
          ],
          [
           14,
           497
          ],
          [
           50,
           3893
          ],
          [
           81,
           4211
          ],
          [
           3,
           877
          ],
          [
           47,
           3074
          ],
          [
           32,
           1181
          ],
          [
           54,
           4892
          ],
          [
           1.8,
           4546
          ],
          [
           47,
           4307
          ],
          [
           79,
           168
          ],
          [
           58,
           4986
          ],
          [
           38,
           1740
          ],
          [
           63,
           1860
          ],
          [
           36,
           3271
          ],
          [
           74,
           2078
          ],
          [
           59,
           1718
          ],
          [
           31,
           787
          ],
          [
           7,
           977
          ],
          [
           60,
           4526
          ],
          [
           31,
           1720
          ],
          [
           74,
           227
          ],
          [
           53,
           3247
          ],
          [
           61,
           3820
          ],
          [
           20,
           1220
          ],
          [
           73,
           2172
          ],
          [
           31,
           746
          ],
          [
           7,
           3921
          ],
          [
           14,
           2788
          ],
          [
           42,
           3114
          ],
          [
           32,
           915
          ],
          [
           74,
           199
          ],
          [
           27,
           279
          ],
          [
           4,
           2972
          ],
          [
           37,
           1988
          ],
          [
           65,
           828
          ],
          [
           38,
           1073
          ],
          [
           2,
           856
          ],
          [
           35,
           2581
          ],
          [
           18,
           4148
          ],
          [
           67,
           3209
          ],
          [
           5,
           584
          ],
          [
           61,
           1503
          ],
          [
           38,
           4942
          ],
          [
           8,
           1849
          ],
          [
           32,
           3437
          ],
          [
           58,
           2413
          ],
          [
           60,
           239
          ],
          [
           51,
           577
          ],
          [
           81,
           4375
          ],
          [
           78,
           2527
          ],
          [
           61,
           4101
          ],
          [
           69,
           4908
          ],
          [
           64,
           3919
          ],
          [
           61,
           642
          ],
          [
           35,
           3879
          ],
          [
           46,
           3493
          ],
          [
           15,
           2498
          ],
          [
           31,
           764
          ],
          [
           26,
           3116
          ],
          [
           39,
           228
          ],
          [
           66,
           240
          ],
          [
           59,
           80
          ],
          [
           26,
           5027
          ],
          [
           69,
           1730
          ],
          [
           66,
           4350
          ],
          [
           12,
           4246
          ],
          [
           12,
           4508
          ],
          [
           63,
           422
          ],
          [
           71,
           2182
          ],
          [
           29,
           5019
          ],
          [
           45,
           1149
          ],
          [
           67,
           561
          ],
          [
           72,
           3182
          ],
          [
           19,
           2387
          ],
          [
           56,
           1872
          ],
          [
           62,
           1456
          ],
          [
           78,
           248
          ],
          [
           50,
           1697
          ],
          [
           55,
           810
          ],
          [
           54,
           2025
          ],
          [
           18,
           2313
          ],
          [
           32,
           3442
          ],
          [
           55,
           1010
          ],
          [
           75,
           1034
          ],
          [
           23,
           2535
          ],
          [
           45,
           2534
          ],
          [
           55,
           1144
          ],
          [
           39,
           4356
          ],
          [
           69,
           1117
          ],
          [
           82,
           1029
          ],
          [
           57,
           2218
          ],
          [
           50,
           2220
          ],
          [
           18,
           3292
          ],
          [
           47,
           88
          ],
          [
           38,
           3089
          ],
          [
           65,
           2746
          ],
          [
           13,
           4370
          ],
          [
           17,
           4230
          ],
          [
           67,
           1912
          ],
          [
           15,
           4210
          ],
          [
           37,
           1892
          ],
          [
           19,
           4490
          ],
          [
           22,
           4306
          ],
          [
           72,
           144
          ],
          [
           53,
           429
          ],
          [
           63,
           4473
          ],
          [
           40,
           931
          ],
          [
           62,
           2974
          ],
          [
           50,
           2309
          ],
          [
           21,
           2607
          ],
          [
           9,
           742
          ],
          [
           53,
           3479
          ],
          [
           51,
           4528
          ],
          [
           43,
           2829
          ],
          [
           2,
           1371
          ],
          [
           39,
           4789
          ],
          [
           22,
           3034
          ],
          [
           29,
           4346
          ],
          [
           67,
           2124
          ],
          [
           60,
           2405
          ],
          [
           64,
           100
          ],
          [
           19,
           4717
          ],
          [
           76,
           2312
          ],
          [
           43,
           472
          ],
          [
           1.48,
           3313
          ],
          [
           34,
           4080
          ],
          [
           34,
           4757
          ],
          [
           18,
           471
          ],
          [
           3,
           4764
          ],
          [
           75,
           3455
          ],
          [
           44,
           2594
          ],
          [
           53,
           3100
          ],
          [
           31,
           3698
          ],
          [
           72,
           530
          ],
          [
           61,
           4304
          ],
          [
           54,
           4144
          ],
          [
           5,
           5050
          ],
          [
           1.24,
           1499
          ],
          [
           36,
           1932
          ],
          [
           27,
           2943
          ],
          [
           47,
           1438
          ],
          [
           42,
           1941
          ],
          [
           50,
           1770
          ],
          [
           64,
           1351
          ],
          [
           70,
           4666
          ],
          [
           20,
           1192
          ],
          [
           53,
           4155
          ],
          [
           38,
           4005
          ],
          [
           8,
           2921
          ],
          [
           82,
           5100
          ],
          [
           54,
           2686
          ],
          [
           82,
           1412
          ],
          [
           58,
           297
          ],
          [
           30,
           4970
          ],
          [
           71,
           3742
          ],
          [
           2,
           1483
          ],
          [
           41,
           2086
          ],
          [
           50,
           994
          ],
          [
           81,
           230
          ],
          [
           77,
           3075
          ],
          [
           41,
           4054
          ],
          [
           13,
           2819
          ],
          [
           47,
           4876
          ],
          [
           52,
           1578
          ],
          [
           48,
           1756
          ],
          [
           73,
           4796
          ],
          [
           10,
           1942
          ],
          [
           30,
           776
          ],
          [
           28,
           721
          ],
          [
           55,
           555
          ],
          [
           39,
           907
          ],
          [
           1.16,
           2311
          ],
          [
           44,
           4767
          ],
          [
           54,
           2518
          ],
          [
           9,
           3282
          ],
          [
           39,
           1745
          ],
          [
           35,
           1175
          ],
          [
           32,
           4384
          ],
          [
           28,
           2615
          ],
          [
           42,
           1504
          ],
          [
           48,
           677
          ],
          [
           31,
           485
          ],
          [
           65,
           864
          ],
          [
           80,
           2584
          ],
          [
           9,
           4020
          ],
          [
           57,
           589
          ],
          [
           75,
           1786
          ],
          [
           71,
           879
          ],
          [
           20,
           3887
          ],
          [
           81,
           5106
          ],
          [
           52,
           2654
          ],
          [
           80,
           1002
          ],
          [
           70,
           149
          ],
          [
           57,
           3752
          ],
          [
           58,
           751
          ],
          [
           67,
           2173
          ],
          [
           5,
           4690
          ],
          [
           26,
           2465
          ],
          [
           39,
           812
          ],
          [
           27,
           4229
          ],
          [
           61,
           3802
          ],
          [
           21,
           2117
          ],
          [
           54,
           12
          ],
          [
           80,
           93
          ],
          [
           13,
           3414
          ],
          [
           15,
           1612
          ],
          [
           21,
           2536
          ],
          [
           32,
           3872
          ],
          [
           13,
           4019
          ],
          [
           9,
           2191
          ],
          [
           23,
           3873
          ],
          [
           55,
           4152
          ],
          [
           59,
           2968
          ],
          [
           11,
           3488
          ],
          [
           60,
           3011
          ],
          [
           69,
           911
          ],
          [
           40,
           838
          ],
          [
           53,
           1397
          ],
          [
           24,
           3163
          ],
          [
           26,
           2080
          ],
          [
           81,
           2673
          ],
          [
           23,
           1545
          ],
          [
           31,
           805
          ],
          [
           26,
           4114
          ],
          [
           3,
           416
          ],
          [
           29,
           2114
          ],
          [
           45,
           4310
          ],
          [
           38,
           3410
          ],
          [
           25,
           1564
          ],
          [
           15,
           4709
          ],
          [
           64,
           1992
          ],
          [
           11,
           3539
          ],
          [
           30,
           1041
          ],
          [
           26,
           4358
          ],
          [
           31,
           4273
          ],
          [
           78,
           4684
          ],
          [
           49,
           3012
          ],
          [
           12,
           3870
          ],
          [
           69,
           132
          ],
          [
           58,
           1946
          ],
          [
           62,
           3429
          ],
          [
           37,
           3808
          ],
          [
           37,
           1330
          ],
          [
           51,
           4817
          ],
          [
           59,
           2750
          ],
          [
           48,
           4797
          ],
          [
           38,
           5026
          ],
          [
           39,
           1477
          ],
          [
           79,
           1451
          ],
          [
           55,
           287
          ],
          [
           62,
           889
          ],
          [
           32,
           3277
          ],
          [
           53,
           1717
          ],
          [
           60,
           491
          ],
          [
           49,
           2307
          ],
          [
           25,
           3246
          ],
          [
           35,
           2367
          ],
          [
           69,
           2610
          ],
          [
           61,
           1052
          ],
          [
           52,
           1954
          ],
          [
           44,
           5046
          ],
          [
           41,
           4718
          ],
          [
           31,
           1593
          ],
          [
           22,
           4830
          ],
          [
           75,
           3649
          ],
          [
           30,
           4612
          ],
          [
           32,
           4664
          ],
          [
           42,
           2702
          ],
          [
           53,
           109
          ],
          [
           78,
           4974
          ],
          [
           33,
           1129
          ],
          [
           0.64,
           1808
          ],
          [
           4,
           4844
          ],
          [
           22,
           3185
          ],
          [
           32,
           4828
          ],
          [
           49,
           3985
          ],
          [
           56,
           426
          ],
          [
           75,
           2583
          ],
          [
           24,
           4059
          ],
          [
           40,
           4996
          ],
          [
           7,
           3937
          ],
          [
           43,
           2339
          ],
          [
           36,
           3751
          ],
          [
           55,
           3764
          ],
          [
           3,
           2389
          ],
          [
           55,
           2021
          ],
          [
           30,
           734
          ],
          [
           57,
           1592
          ],
          [
           56,
           3168
          ],
          [
           40,
           3635
          ],
          [
           77,
           3891
          ],
          [
           31,
           1049
          ],
          [
           57,
           5096
          ],
          [
           65,
           624
          ],
          [
           35,
           3550
          ],
          [
           19,
           2942
          ],
          [
           41,
           811
          ],
          [
           5,
           2177
          ],
          [
           42,
           544
          ],
          [
           59,
           1103
          ],
          [
           24,
           1746
          ],
          [
           53,
           4778
          ],
          [
           56,
           1618
          ],
          [
           56,
           2754
          ],
          [
           35,
           1235
          ],
          [
           54,
           1569
          ],
          [
           37,
           1209
          ],
          [
           12,
           414
          ],
          [
           50,
           3935
          ],
          [
           29,
           3398
          ],
          [
           36,
           3309
          ],
          [
           47,
           4700
          ],
          [
           14,
           1197
          ],
          [
           60,
           501
          ],
          [
           2,
           437
          ],
          [
           79,
           653
          ],
          [
           68,
           2095
          ],
          [
           54,
           3727
          ],
          [
           30,
           4316
          ],
          [
           66,
           800
          ],
          [
           13,
           290
          ],
          [
           65,
           2623
          ],
          [
           47,
           1340
          ],
          [
           70,
           252
          ],
          [
           14,
           1833
          ],
          [
           26,
           3411
          ],
          [
           79,
           350
          ],
          [
           18,
           3413
          ],
          [
           68,
           346
          ],
          [
           64,
           4296
          ],
          [
           0.08,
           1614
          ],
          [
           33,
           457
          ],
          [
           0.8,
           2801
          ],
          [
           79,
           90
          ],
          [
           14,
           3728
          ],
          [
           60,
           3197
          ],
          [
           65,
           26
          ],
          [
           59,
           181
          ],
          [
           33,
           4643
          ],
          [
           58,
           1669
          ],
          [
           40,
           2187
          ],
          [
           11,
           2091
          ],
          [
           27,
           2837
          ],
          [
           3,
           2457
          ],
          [
           65,
           4899
          ],
          [
           2,
           2222
          ],
          [
           42,
           2622
          ],
          [
           81,
           4408
          ],
          [
           0.8,
           2630
          ],
          [
           51,
           4751
          ],
          [
           34,
           1057
          ],
          [
           58,
           1210
          ],
          [
           80,
           69
          ],
          [
           35,
           5107
          ],
          [
           5,
           5020
          ],
          [
           45,
           3010
          ],
          [
           78,
           203
          ],
          [
           9,
           4783
          ],
          [
           45,
           3815
          ],
          [
           54,
           4425
          ],
          [
           24,
           387
          ],
          [
           33,
           4541
          ],
          [
           46,
           4725
          ],
          [
           45,
           2629
          ],
          [
           12,
           2291
          ],
          [
           25,
           798
          ],
          [
           69,
           2683
          ],
          [
           79,
           221
          ],
          [
           49,
           4459
          ],
          [
           75,
           3963
          ],
          [
           4,
           657
          ],
          [
           64,
           3821
          ],
          [
           48,
           2784
          ],
          [
           73,
           4773
          ],
          [
           44,
           4320
          ],
          [
           7,
           2364
          ],
          [
           77,
           4634
          ],
          [
           78,
           177
          ],
          [
           20,
           1020
          ],
          [
           28,
           655
          ],
          [
           13,
           1536
          ],
          [
           65,
           1751
          ],
          [
           52,
           5074
          ],
          [
           76,
           4376
          ],
          [
           16,
           3133
          ],
          [
           12,
           1406
          ],
          [
           51,
           5086
          ],
          [
           0.24,
           3392
          ],
          [
           53,
           1437
          ],
          [
           5,
           3331
          ],
          [
           59,
           1361
          ],
          [
           16,
           681
          ],
          [
           57,
           1055
          ],
          [
           52,
           803
          ],
          [
           62,
           3055
          ],
          [
           51,
           4098
          ],
          [
           55,
           4092
          ],
          [
           47,
           1876
          ],
          [
           27,
           2767
          ],
          [
           40,
           2238
          ],
          [
           69,
           2201
          ],
          [
           73,
           219
          ],
          [
           39,
           4503
          ],
          [
           8,
           4675
          ],
          [
           26,
           582
          ],
          [
           1.8,
           2329
          ],
          [
           22,
           1255
          ],
          [
           63,
           43
          ],
          [
           39,
           210
          ],
          [
           46,
           1595
          ],
          [
           32,
           354
          ],
          [
           3,
           1231
          ],
          [
           59,
           599
          ],
          [
           41,
           3379
          ],
          [
           46,
           2559
          ],
          [
           57,
           367
          ],
          [
           63,
           4237
          ],
          [
           66,
           3903
          ],
          [
           57,
           1650
          ],
          [
           71,
           135
          ],
          [
           60,
           2533
          ],
          [
           58,
           47
          ],
          [
           60,
           1818
          ],
          [
           53,
           3425
          ],
          [
           42,
           2119
          ],
          [
           52,
           1835
          ],
          [
           65,
           2890
          ],
          [
           55,
           2168
          ],
          [
           57,
           1934
          ],
          [
           80,
           61
          ],
          [
           57,
           2088
          ],
          [
           66,
           3103
          ],
          [
           78,
           95
          ],
          [
           66,
           478
          ],
          [
           82,
           1839
          ],
          [
           39,
           2688
          ],
          [
           82,
           2418
          ],
          [
           55,
           4946
          ],
          [
           69,
           3781
          ],
          [
           26,
           2949
          ],
          [
           63,
           2072
          ],
          [
           73,
           4836
          ],
          [
           22,
           322
          ],
          [
           18,
           3787
          ],
          [
           28,
           4444
          ],
          [
           2,
           4277
          ],
          [
           56,
           3062
          ],
          [
           1.48,
           3435
          ],
          [
           52,
           2226
          ],
          [
           62,
           1454
          ],
          [
           15,
           1242
          ],
          [
           0.24,
           996
          ],
          [
           4,
           291
          ],
          [
           73,
           2521
          ],
          [
           40,
           3565
          ],
          [
           51,
           533
          ],
          [
           56,
           4471
          ],
          [
           8,
           3624
          ],
          [
           57,
           2451
          ],
          [
           38,
           3352
          ],
          [
           20,
           2662
          ],
          [
           65,
           4321
          ],
          [
           13,
           3964
          ],
          [
           47,
           4214
          ],
          [
           40,
           428
          ],
          [
           62,
           1084
          ],
          [
           67,
           5084
          ],
          [
           43,
           4566
          ],
          [
           56,
           765
          ],
          [
           66,
           3204
          ],
          [
           41,
           4728
          ],
          [
           26,
           1907
          ],
          [
           81,
           2497
          ],
          [
           78,
           4734
          ],
          [
           55,
           3084
          ],
          [
           48,
           4693
          ],
          [
           14,
           4662
          ],
          [
           69,
           2018
          ],
          [
           32,
           3830
          ],
          [
           33,
           4626
          ],
          [
           72,
           5029
          ],
          [
           67,
           4308
          ],
          [
           62,
           3048
          ],
          [
           67,
           1436
          ],
          [
           47,
           4607
          ],
          [
           2,
           2663
          ],
          [
           45,
           5093
          ],
          [
           37,
           1420
          ],
          [
           37,
           3303
          ],
          [
           14,
           2346
          ],
          [
           33,
           1945
          ],
          [
           66,
           4110
          ],
          [
           32,
           2024
          ],
          [
           42,
           1526
          ],
          [
           43,
           2098
          ],
          [
           33,
           3193
          ],
          [
           78,
           1813
          ],
          [
           51,
           4078
          ],
          [
           57,
           2317
          ],
          [
           76,
           70
          ],
          [
           8,
           1032
          ],
          [
           17,
           4319
          ],
          [
           48,
           2232
          ],
          [
           5,
           3543
          ],
          [
           23,
           3403
          ],
          [
           48,
           1168
          ],
          [
           73,
           1183
          ],
          [
           66,
           964
          ],
          [
           59,
           1173
          ],
          [
           45,
           4732
          ],
          [
           38,
           3482
          ],
          [
           20,
           4856
          ],
          [
           15,
           1623
          ],
          [
           64,
           2059
          ],
          [
           31,
           3702
          ],
          [
           40,
           3799
          ],
          [
           67,
           3939
          ],
          [
           2,
           1392
          ],
          [
           32,
           1888
          ],
          [
           59,
           2700
          ],
          [
           6,
           733
          ],
          [
           39,
           1741
          ],
          [
           18,
           2649
          ],
          [
           59,
           2569
          ],
          [
           23,
           4731
          ],
          [
           56,
           2034
          ],
          [
           78,
           2487
          ],
          [
           13,
           2543
          ],
          [
           39,
           381
          ],
          [
           42,
           1978
          ],
          [
           47,
           1699
          ],
          [
           30,
           1321
          ],
          [
           51,
           2406
          ],
          [
           49,
           4543
          ],
          [
           8,
           4794
          ],
          [
           31,
           2516
          ],
          [
           19,
           3778
          ],
          [
           68,
           2867
          ],
          [
           77,
           233
          ],
          [
           39,
           1972
          ],
          [
           36,
           4807
          ],
          [
           24,
           4667
          ],
          [
           79,
           5034
          ],
          [
           42,
           633
          ],
          [
           45,
           3077
          ],
          [
           33,
           415
          ],
          [
           55,
           3153
          ],
          [
           44,
           1921
          ],
          [
           34,
           3592
          ],
          [
           30,
           1090
          ],
          [
           37,
           1583
          ],
          [
           17,
           4950
          ],
          [
           59,
           881
          ],
          [
           75,
           17
          ],
          [
           45,
           3839
          ],
          [
           45,
           1832
          ],
          [
           64,
           1840
          ],
          [
           64,
           3720
          ],
          [
           53,
           596
          ],
          [
           45,
           1670
          ],
          [
           16,
           2254
          ],
          [
           23,
           2142
          ],
          [
           28,
           1629
          ],
          [
           25,
           1822
          ],
          [
           70,
           5075
          ],
          [
           18,
           371
          ],
          [
           78,
           1448
          ],
          [
           39,
           1909
          ],
          [
           56,
           652
          ],
          [
           15,
           598
          ],
          [
           26,
           676
          ],
          [
           51,
           238
          ],
          [
           30,
           4347
          ],
          [
           55,
           2517
          ],
          [
           78,
           3794
          ],
          [
           55,
           3831
          ],
          [
           67,
           3878
          ],
          [
           80,
           75
          ],
          [
           17,
           1425
          ],
          [
           68,
           2948
          ],
          [
           51,
           3639
          ],
          [
           75,
           3263
          ],
          [
           81,
           5071
          ],
          [
           68,
           5002
          ],
          [
           76,
           1566
          ],
          [
           76,
           2985
          ],
          [
           6,
           1647
          ],
          [
           61,
           1126
          ],
          [
           73,
           4349
          ],
          [
           1.72,
           2194
          ],
          [
           82,
           4716
          ],
          [
           70,
           96
          ],
          [
           63,
           3408
          ],
          [
           28,
           3667
          ],
          [
           21,
           5030
          ],
          [
           80,
           621
          ],
          [
           2,
           4961
          ],
          [
           34,
           3814
          ],
          [
           27,
           566
          ],
          [
           65,
           1755
          ],
          [
           17,
           2714
          ],
          [
           46,
           748
          ],
          [
           51,
           4460
          ],
          [
           78,
           51
          ],
          [
           17,
           5077
          ],
          [
           45,
           3013
          ],
          [
           75,
           1335
          ],
          [
           49,
           2251
          ],
          [
           20,
           534
          ],
          [
           56,
           745
          ],
          [
           1.72,
           5079
          ],
          [
           61,
           3528
          ],
          [
           20,
           443
          ],
          [
           64,
           4987
          ],
          [
           59,
           195
          ],
          [
           31,
           4826
          ],
          [
           4,
           893
          ],
          [
           48,
           1788
          ],
          [
           10,
           3044
          ],
          [
           29,
           3904
          ],
          [
           40,
           3026
          ],
          [
           16,
           3438
          ],
          [
           80,
           2685
          ],
          [
           57,
           3070
          ],
          [
           65,
           4264
          ],
          [
           43,
           644
          ],
          [
           22,
           3755
          ],
          [
           59,
           3697
          ],
          [
           16,
           1726
          ],
          [
           7,
           4501
          ],
          [
           58,
           120
          ],
          [
           33,
           1204
          ],
          [
           39,
           2131
          ],
          [
           11,
           1253
          ],
          [
           8,
           4997
          ],
          [
           33,
           5024
          ],
          [
           41,
           2351
          ],
          [
           68,
           134
          ],
          [
           39,
           2580
          ],
          [
           57,
           4827
          ],
          [
           59,
           2011
          ],
          [
           5,
           3678
          ],
          [
           61,
           184
          ],
          [
           46,
           2895
          ],
          [
           81,
           1780
          ],
          [
           51,
           511
          ],
          [
           71,
           4165
          ],
          [
           67,
           62
          ],
          [
           45,
           4406
          ],
          [
           57,
           2802
          ],
          [
           61,
           4427
          ],
          [
           2,
           3268
          ],
          [
           64,
           2053
          ],
          [
           8,
           251
          ],
          [
           40,
           625
          ],
          [
           50,
           1550
          ],
          [
           35,
           1514
          ],
          [
           30,
           3895
          ],
          [
           23,
           3837
          ],
          [
           80,
           122
          ],
          [
           32,
           3654
          ],
          [
           21,
           3518
          ],
          [
           72,
           2029
          ],
          [
           27,
           2575
          ],
          [
           72,
           5085
          ],
          [
           25,
           567
          ],
          [
           80,
           2818
          ],
          [
           37,
           3349
          ],
          [
           13,
           693
          ],
          [
           80,
           3686
          ],
          [
           51,
           1606
          ],
          [
           8,
           4649
          ],
          [
           46,
           1293
          ],
          [
           46,
           2656
          ],
          [
           18,
           4976
          ],
          [
           41,
           2807
          ],
          [
           81,
           720
          ],
          [
           18,
           4863
          ],
          [
           18,
           2133
          ],
          [
           13,
           1789
          ],
          [
           1,
           1432
          ],
          [
           47,
           3911
          ],
          [
           39,
           602
          ],
          [
           8,
           1281
          ],
          [
           48,
           1468
          ],
          [
           35,
           2005
          ],
          [
           56,
           2266
          ],
          [
           58,
           3630
          ],
          [
           48,
           318
          ],
          [
           48,
           2228
          ],
          [
           20,
           2834
          ],
          [
           25,
           274
          ],
          [
           80,
           2002
          ],
          [
           77,
           549
          ],
          [
           58,
           1374
          ],
          [
           69,
           944
          ],
          [
           70,
           5001
          ],
          [
           48,
           4417
          ],
          [
           5,
           605
          ],
          [
           49,
           3909
          ],
          [
           30,
           527
          ],
          [
           14,
           4825
          ],
          [
           60,
           2462
          ],
          [
           42,
           2528
          ],
          [
           61,
           829
          ],
          [
           43,
           4481
          ],
          [
           81,
           4933
          ],
          [
           1.56,
           1957
          ],
          [
           61,
           1815
          ],
          [
           69,
           298
          ],
          [
           59,
           68
          ],
          [
           58,
           4377
          ],
          [
           53,
           1961
          ],
          [
           8,
           3758
          ],
          [
           37,
           3912
          ],
          [
           81,
           4198
          ],
          [
           55,
           3014
          ],
          [
           25,
           4124
          ],
          [
           79,
           150
          ],
          [
           18,
           756
          ],
          [
           22,
           1554
          ],
          [
           11,
           4423
          ],
          [
           28,
           3694
          ],
          [
           55,
           1322
          ],
          [
           32,
           4620
          ],
          [
           20,
           1268
          ],
          [
           73,
           3150
          ],
          [
           0.88,
           376
          ],
          [
           41,
           1096
          ],
          [
           59,
           1782
          ],
          [
           43,
           859
          ],
          [
           1.32,
           3097
          ],
          [
           15,
           2987
          ],
          [
           11,
           2015
          ],
          [
           14,
           378
          ],
          [
           52,
           3960
          ],
          [
           25,
           3305
          ],
          [
           7,
           3651
          ],
          [
           57,
           2111
          ],
          [
           45,
           1434
          ],
          [
           8,
           2042
          ],
          [
           44,
           5015
          ],
          [
           57,
           3172
          ],
          [
           43,
           1419
          ],
          [
           67,
           2215
          ],
          [
           29,
           2384
          ],
          [
           26,
           4050
          ],
          [
           42,
           794
          ],
          [
           12,
           4262
          ],
          [
           53,
           841
          ],
          [
           81,
           4724
          ],
          [
           32,
           2877
          ],
          [
           72,
           175
          ],
          [
           14,
           3434
          ],
          [
           82,
           2876
          ],
          [
           64,
           927
          ],
          [
           53,
           2407
          ],
          [
           76,
           45
          ],
          [
           35,
           3248
          ],
          [
           11,
           4439
          ],
          [
           46,
           4969
          ],
          [
           4,
           4398
          ],
          [
           27,
           896
          ],
          [
           62,
           2373
          ],
          [
           0.08,
           3295
          ],
          [
           57,
           2022
          ],
          [
           68,
           1879
          ],
          [
           1,
           2240
          ],
          [
           56,
           3906
          ],
          [
           42,
           3258
          ],
          [
           3,
           1702
          ],
          [
           53,
           2592
          ],
          [
           58,
           283
          ],
          [
           79,
           4823
          ],
          [
           32,
           1779
          ],
          [
           72,
           3456
          ],
          [
           59,
           5007
          ],
          [
           5,
           5070
          ],
          [
           75,
           3689
          ],
          [
           23,
           4247
          ],
          [
           0.48,
           4645
          ],
          [
           32,
           3941
          ],
          [
           78,
           2576
          ],
          [
           59,
           2596
          ],
          [
           49,
           3101
          ],
          [
           48,
           2678
          ],
          [
           63,
           1891
          ],
          [
           78,
           2826
          ],
          [
           68,
           4683
          ],
          [
           69,
           4284
          ],
          [
           1.64,
           1101
          ],
          [
           5,
           1047
          ],
          [
           38,
           4660
          ],
          [
           43,
           2813
          ],
          [
           48,
           2492
          ],
          [
           29,
           3053
          ],
          [
           69,
           99
          ],
          [
           6,
           2157
          ],
          [
           9,
           1421
          ],
          [
           18,
           2644
          ],
          [
           58,
           2614
          ],
          [
           47,
           351
          ],
          [
           9,
           4030
          ],
          [
           24,
           3187
          ],
          [
           53,
           1025
          ],
          [
           5,
           4025
          ],
          [
           22,
           718
          ],
          [
           34,
           2835
          ],
          [
           14,
           2856
          ],
          [
           17,
           4487
          ],
          [
           52,
           2648
          ],
          [
           30,
           308
          ],
          [
           54,
           3126
          ],
          [
           5,
           833
          ],
          [
           43,
           366
          ],
          [
           37,
           1784
          ],
          [
           69,
           3469
          ],
          [
           31,
           4603
          ],
          [
           1.32,
           4640
          ],
          [
           47,
           2664
          ],
          [
           47,
           949
          ],
          [
           76,
           1200
          ],
          [
           65,
           3154
          ],
          [
           57,
           19
          ],
          [
           52,
           2100
          ],
          [
           54,
           4966
          ],
          [
           48,
           668
          ],
          [
           76,
           218
          ],
          [
           10,
           3137
          ],
          [
           53,
           438
          ],
          [
           1.8,
           3786
          ],
          [
           23,
           1212
          ],
          [
           71,
           3669
          ],
          [
           62,
           3454
          ],
          [
           1.88,
           3605
          ],
          [
           1.32,
           4934
          ],
          [
           49,
           4835
          ],
          [
           56,
           4105
          ],
          [
           78,
           2902
          ]
         ],
         "hovertemplate": "<b>%{hovertext}</b><br />age: %{customdata[0]}<br />Contribution: %{y:.4f}<extra></extra>",
         "hovertext": [
          "Id: 4688",
          "Id: 4478",
          "Id: 3849",
          "Id: 4355",
          "Id: 3826",
          "Id: 3951",
          "Id: 3396",
          "Id: 465",
          "Id: 410",
          "Id: 1632",
          "Id: 2859",
          "Id: 1370",
          "Id: 1360",
          "Id: 807",
          "Id: 315",
          "Id: 79",
          "Id: 586",
          "Id: 2892",
          "Id: 3857",
          "Id: 2348",
          "Id: 3161",
          "Id: 1305",
          "Id: 3338",
          "Id: 538",
          "Id: 3121",
          "Id: 1662",
          "Id: 4585",
          "Id: 1417",
          "Id: 2570",
          "Id: 1405",
          "Id: 1864",
          "Id: 4035",
          "Id: 3733",
          "Id: 1672",
          "Id: 1375",
          "Id: 4694",
          "Id: 2846",
          "Id: 711",
          "Id: 296",
          "Id: 3151",
          "Id: 1344",
          "Id: 1261",
          "Id: 2970",
          "Id: 670",
          "Id: 4953",
          "Id: 4678",
          "Id: 1831",
          "Id: 3784",
          "Id: 1244",
          "Id: 4878",
          "Id: 926",
          "Id: 4510",
          "Id: 33",
          "Id: 3809",
          "Id: 4955",
          "Id: 848",
          "Id: 1505",
          "Id: 23",
          "Id: 3279",
          "Id: 691",
          "Id: 1557",
          "Id: 4483",
          "Id: 1480",
          "Id: 969",
          "Id: 3109",
          "Id: 3999",
          "Id: 952",
          "Id: 3483",
          "Id: 254",
          "Id: 5105",
          "Id: 2845",
          "Id: 2915",
          "Id: 626",
          "Id: 1721",
          "Id: 1094",
          "Id: 1345",
          "Id: 2478",
          "Id: 4635",
          "Id: 3123",
          "Id: 4777",
          "Id: 4463",
          "Id: 4228",
          "Id: 2908",
          "Id: 2988",
          "Id: 468",
          "Id: 2276",
          "Id: 3757",
          "Id: 4938",
          "Id: 2718",
          "Id: 4232",
          "Id: 3822",
          "Id: 1295",
          "Id: 1971",
          "Id: 4710",
          "Id: 2344",
          "Id: 1038",
          "Id: 65",
          "Id: 3783",
          "Id: 842",
          "Id: 2422",
          "Id: 4411",
          "Id: 4224",
          "Id: 4133",
          "Id: 2741",
          "Id: 4738",
          "Id: 3094",
          "Id: 3690",
          "Id: 3447",
          "Id: 4125",
          "Id: 3406",
          "Id: 763",
          "Id: 4479",
          "Id: 4353",
          "Id: 505",
          "Id: 4102",
          "Id: 84",
          "Id: 1224",
          "Id: 1966",
          "Id: 4112",
          "Id: 1487",
          "Id: 831",
          "Id: 1723",
          "Id: 3076",
          "Id: 3573",
          "Id: 724",
          "Id: 3825",
          "Id: 2841",
          "Id: 3859",
          "Id: 106",
          "Id: 2153",
          "Id: 1413",
          "Id: 2174",
          "Id: 1338",
          "Id: 1534",
          "Id: 8",
          "Id: 333",
          "Id: 3035",
          "Id: 4685",
          "Id: 1926",
          "Id: 1626",
          "Id: 705",
          "Id: 3555",
          "Id: 4679",
          "Id: 3773",
          "Id: 3541",
          "Id: 1001",
          "Id: 4176",
          "Id: 1128",
          "Id: 179",
          "Id: 1074",
          "Id: 486",
          "Id: 2341",
          "Id: 1769",
          "Id: 157",
          "Id: 3979",
          "Id: 2420",
          "Id: 4880",
          "Id: 4274",
          "Id: 4656",
          "Id: 29",
          "Id: 2319",
          "Id: 3038",
          "Id: 553",
          "Id: 4765",
          "Id: 3264",
          "Id: 731",
          "Id: 4213",
          "Id: 3351",
          "Id: 373",
          "Id: 2722",
          "Id: 2299",
          "Id: 1902",
          "Id: 2822",
          "Id: 2305",
          "Id: 151",
          "Id: 683",
          "Id: 3377",
          "Id: 2642",
          "Id: 2473",
          "Id: 4163",
          "Id: 393",
          "Id: 2394",
          "Id: 1095",
          "Id: 497",
          "Id: 3893",
          "Id: 4211",
          "Id: 877",
          "Id: 3074",
          "Id: 1181",
          "Id: 4892",
          "Id: 4546",
          "Id: 4307",
          "Id: 168",
          "Id: 4986",
          "Id: 1740",
          "Id: 1860",
          "Id: 3271",
          "Id: 2078",
          "Id: 1718",
          "Id: 787",
          "Id: 977",
          "Id: 4526",
          "Id: 1720",
          "Id: 227",
          "Id: 3247",
          "Id: 3820",
          "Id: 1220",
          "Id: 2172",
          "Id: 746",
          "Id: 3921",
          "Id: 2788",
          "Id: 3114",
          "Id: 915",
          "Id: 199",
          "Id: 279",
          "Id: 2972",
          "Id: 1988",
          "Id: 828",
          "Id: 1073",
          "Id: 856",
          "Id: 2581",
          "Id: 4148",
          "Id: 3209",
          "Id: 584",
          "Id: 1503",
          "Id: 4942",
          "Id: 1849",
          "Id: 3437",
          "Id: 2413",
          "Id: 239",
          "Id: 577",
          "Id: 4375",
          "Id: 2527",
          "Id: 4101",
          "Id: 4908",
          "Id: 3919",
          "Id: 642",
          "Id: 3879",
          "Id: 3493",
          "Id: 2498",
          "Id: 764",
          "Id: 3116",
          "Id: 228",
          "Id: 240",
          "Id: 80",
          "Id: 5027",
          "Id: 1730",
          "Id: 4350",
          "Id: 4246",
          "Id: 4508",
          "Id: 422",
          "Id: 2182",
          "Id: 5019",
          "Id: 1149",
          "Id: 561",
          "Id: 3182",
          "Id: 2387",
          "Id: 1872",
          "Id: 1456",
          "Id: 248",
          "Id: 1697",
          "Id: 810",
          "Id: 2025",
          "Id: 2313",
          "Id: 3442",
          "Id: 1010",
          "Id: 1034",
          "Id: 2535",
          "Id: 2534",
          "Id: 1144",
          "Id: 4356",
          "Id: 1117",
          "Id: 1029",
          "Id: 2218",
          "Id: 2220",
          "Id: 3292",
          "Id: 88",
          "Id: 3089",
          "Id: 2746",
          "Id: 4370",
          "Id: 4230",
          "Id: 1912",
          "Id: 4210",
          "Id: 1892",
          "Id: 4490",
          "Id: 4306",
          "Id: 144",
          "Id: 429",
          "Id: 4473",
          "Id: 931",
          "Id: 2974",
          "Id: 2309",
          "Id: 2607",
          "Id: 742",
          "Id: 3479",
          "Id: 4528",
          "Id: 2829",
          "Id: 1371",
          "Id: 4789",
          "Id: 3034",
          "Id: 4346",
          "Id: 2124",
          "Id: 2405",
          "Id: 100",
          "Id: 4717",
          "Id: 2312",
          "Id: 472",
          "Id: 3313",
          "Id: 4080",
          "Id: 4757",
          "Id: 471",
          "Id: 4764",
          "Id: 3455",
          "Id: 2594",
          "Id: 3100",
          "Id: 3698",
          "Id: 530",
          "Id: 4304",
          "Id: 4144",
          "Id: 5050",
          "Id: 1499",
          "Id: 1932",
          "Id: 2943",
          "Id: 1438",
          "Id: 1941",
          "Id: 1770",
          "Id: 1351",
          "Id: 4666",
          "Id: 1192",
          "Id: 4155",
          "Id: 4005",
          "Id: 2921",
          "Id: 5100",
          "Id: 2686",
          "Id: 1412",
          "Id: 297",
          "Id: 4970",
          "Id: 3742",
          "Id: 1483",
          "Id: 2086",
          "Id: 994",
          "Id: 230",
          "Id: 3075",
          "Id: 4054",
          "Id: 2819",
          "Id: 4876",
          "Id: 1578",
          "Id: 1756",
          "Id: 4796",
          "Id: 1942",
          "Id: 776",
          "Id: 721",
          "Id: 555",
          "Id: 907",
          "Id: 2311",
          "Id: 4767",
          "Id: 2518",
          "Id: 3282",
          "Id: 1745",
          "Id: 1175",
          "Id: 4384",
          "Id: 2615",
          "Id: 1504",
          "Id: 677",
          "Id: 485",
          "Id: 864",
          "Id: 2584",
          "Id: 4020",
          "Id: 589",
          "Id: 1786",
          "Id: 879",
          "Id: 3887",
          "Id: 5106",
          "Id: 2654",
          "Id: 1002",
          "Id: 149",
          "Id: 3752",
          "Id: 751",
          "Id: 2173",
          "Id: 4690",
          "Id: 2465",
          "Id: 812",
          "Id: 4229",
          "Id: 3802",
          "Id: 2117",
          "Id: 12",
          "Id: 93",
          "Id: 3414",
          "Id: 1612",
          "Id: 2536",
          "Id: 3872",
          "Id: 4019",
          "Id: 2191",
          "Id: 3873",
          "Id: 4152",
          "Id: 2968",
          "Id: 3488",
          "Id: 3011",
          "Id: 911",
          "Id: 838",
          "Id: 1397",
          "Id: 3163",
          "Id: 2080",
          "Id: 2673",
          "Id: 1545",
          "Id: 805",
          "Id: 4114",
          "Id: 416",
          "Id: 2114",
          "Id: 4310",
          "Id: 3410",
          "Id: 1564",
          "Id: 4709",
          "Id: 1992",
          "Id: 3539",
          "Id: 1041",
          "Id: 4358",
          "Id: 4273",
          "Id: 4684",
          "Id: 3012",
          "Id: 3870",
          "Id: 132",
          "Id: 1946",
          "Id: 3429",
          "Id: 3808",
          "Id: 1330",
          "Id: 4817",
          "Id: 2750",
          "Id: 4797",
          "Id: 5026",
          "Id: 1477",
          "Id: 1451",
          "Id: 287",
          "Id: 889",
          "Id: 3277",
          "Id: 1717",
          "Id: 491",
          "Id: 2307",
          "Id: 3246",
          "Id: 2367",
          "Id: 2610",
          "Id: 1052",
          "Id: 1954",
          "Id: 5046",
          "Id: 4718",
          "Id: 1593",
          "Id: 4830",
          "Id: 3649",
          "Id: 4612",
          "Id: 4664",
          "Id: 2702",
          "Id: 109",
          "Id: 4974",
          "Id: 1129",
          "Id: 1808",
          "Id: 4844",
          "Id: 3185",
          "Id: 4828",
          "Id: 3985",
          "Id: 426",
          "Id: 2583",
          "Id: 4059",
          "Id: 4996",
          "Id: 3937",
          "Id: 2339",
          "Id: 3751",
          "Id: 3764",
          "Id: 2389",
          "Id: 2021",
          "Id: 734",
          "Id: 1592",
          "Id: 3168",
          "Id: 3635",
          "Id: 3891",
          "Id: 1049",
          "Id: 5096",
          "Id: 624",
          "Id: 3550",
          "Id: 2942",
          "Id: 811",
          "Id: 2177",
          "Id: 544",
          "Id: 1103",
          "Id: 1746",
          "Id: 4778",
          "Id: 1618",
          "Id: 2754",
          "Id: 1235",
          "Id: 1569",
          "Id: 1209",
          "Id: 414",
          "Id: 3935",
          "Id: 3398",
          "Id: 3309",
          "Id: 4700",
          "Id: 1197",
          "Id: 501",
          "Id: 437",
          "Id: 653",
          "Id: 2095",
          "Id: 3727",
          "Id: 4316",
          "Id: 800",
          "Id: 290",
          "Id: 2623",
          "Id: 1340",
          "Id: 252",
          "Id: 1833",
          "Id: 3411",
          "Id: 350",
          "Id: 3413",
          "Id: 346",
          "Id: 4296",
          "Id: 1614",
          "Id: 457",
          "Id: 2801",
          "Id: 90",
          "Id: 3728",
          "Id: 3197",
          "Id: 26",
          "Id: 181",
          "Id: 4643",
          "Id: 1669",
          "Id: 2187",
          "Id: 2091",
          "Id: 2837",
          "Id: 2457",
          "Id: 4899",
          "Id: 2222",
          "Id: 2622",
          "Id: 4408",
          "Id: 2630",
          "Id: 4751",
          "Id: 1057",
          "Id: 1210",
          "Id: 69",
          "Id: 5107",
          "Id: 5020",
          "Id: 3010",
          "Id: 203",
          "Id: 4783",
          "Id: 3815",
          "Id: 4425",
          "Id: 387",
          "Id: 4541",
          "Id: 4725",
          "Id: 2629",
          "Id: 2291",
          "Id: 798",
          "Id: 2683",
          "Id: 221",
          "Id: 4459",
          "Id: 3963",
          "Id: 657",
          "Id: 3821",
          "Id: 2784",
          "Id: 4773",
          "Id: 4320",
          "Id: 2364",
          "Id: 4634",
          "Id: 177",
          "Id: 1020",
          "Id: 655",
          "Id: 1536",
          "Id: 1751",
          "Id: 5074",
          "Id: 4376",
          "Id: 3133",
          "Id: 1406",
          "Id: 5086",
          "Id: 3392",
          "Id: 1437",
          "Id: 3331",
          "Id: 1361",
          "Id: 681",
          "Id: 1055",
          "Id: 803",
          "Id: 3055",
          "Id: 4098",
          "Id: 4092",
          "Id: 1876",
          "Id: 2767",
          "Id: 2238",
          "Id: 2201",
          "Id: 219",
          "Id: 4503",
          "Id: 4675",
          "Id: 582",
          "Id: 2329",
          "Id: 1255",
          "Id: 43",
          "Id: 210",
          "Id: 1595",
          "Id: 354",
          "Id: 1231",
          "Id: 599",
          "Id: 3379",
          "Id: 2559",
          "Id: 367",
          "Id: 4237",
          "Id: 3903",
          "Id: 1650",
          "Id: 135",
          "Id: 2533",
          "Id: 47",
          "Id: 1818",
          "Id: 3425",
          "Id: 2119",
          "Id: 1835",
          "Id: 2890",
          "Id: 2168",
          "Id: 1934",
          "Id: 61",
          "Id: 2088",
          "Id: 3103",
          "Id: 95",
          "Id: 478",
          "Id: 1839",
          "Id: 2688",
          "Id: 2418",
          "Id: 4946",
          "Id: 3781",
          "Id: 2949",
          "Id: 2072",
          "Id: 4836",
          "Id: 322",
          "Id: 3787",
          "Id: 4444",
          "Id: 4277",
          "Id: 3062",
          "Id: 3435",
          "Id: 2226",
          "Id: 1454",
          "Id: 1242",
          "Id: 996",
          "Id: 291",
          "Id: 2521",
          "Id: 3565",
          "Id: 533",
          "Id: 4471",
          "Id: 3624",
          "Id: 2451",
          "Id: 3352",
          "Id: 2662",
          "Id: 4321",
          "Id: 3964",
          "Id: 4214",
          "Id: 428",
          "Id: 1084",
          "Id: 5084",
          "Id: 4566",
          "Id: 765",
          "Id: 3204",
          "Id: 4728",
          "Id: 1907",
          "Id: 2497",
          "Id: 4734",
          "Id: 3084",
          "Id: 4693",
          "Id: 4662",
          "Id: 2018",
          "Id: 3830",
          "Id: 4626",
          "Id: 5029",
          "Id: 4308",
          "Id: 3048",
          "Id: 1436",
          "Id: 4607",
          "Id: 2663",
          "Id: 5093",
          "Id: 1420",
          "Id: 3303",
          "Id: 2346",
          "Id: 1945",
          "Id: 4110",
          "Id: 2024",
          "Id: 1526",
          "Id: 2098",
          "Id: 3193",
          "Id: 1813",
          "Id: 4078",
          "Id: 2317",
          "Id: 70",
          "Id: 1032",
          "Id: 4319",
          "Id: 2232",
          "Id: 3543",
          "Id: 3403",
          "Id: 1168",
          "Id: 1183",
          "Id: 964",
          "Id: 1173",
          "Id: 4732",
          "Id: 3482",
          "Id: 4856",
          "Id: 1623",
          "Id: 2059",
          "Id: 3702",
          "Id: 3799",
          "Id: 3939",
          "Id: 1392",
          "Id: 1888",
          "Id: 2700",
          "Id: 733",
          "Id: 1741",
          "Id: 2649",
          "Id: 2569",
          "Id: 4731",
          "Id: 2034",
          "Id: 2487",
          "Id: 2543",
          "Id: 381",
          "Id: 1978",
          "Id: 1699",
          "Id: 1321",
          "Id: 2406",
          "Id: 4543",
          "Id: 4794",
          "Id: 2516",
          "Id: 3778",
          "Id: 2867",
          "Id: 233",
          "Id: 1972",
          "Id: 4807",
          "Id: 4667",
          "Id: 5034",
          "Id: 633",
          "Id: 3077",
          "Id: 415",
          "Id: 3153",
          "Id: 1921",
          "Id: 3592",
          "Id: 1090",
          "Id: 1583",
          "Id: 4950",
          "Id: 881",
          "Id: 17",
          "Id: 3839",
          "Id: 1832",
          "Id: 1840",
          "Id: 3720",
          "Id: 596",
          "Id: 1670",
          "Id: 2254",
          "Id: 2142",
          "Id: 1629",
          "Id: 1822",
          "Id: 5075",
          "Id: 371",
          "Id: 1448",
          "Id: 1909",
          "Id: 652",
          "Id: 598",
          "Id: 676",
          "Id: 238",
          "Id: 4347",
          "Id: 2517",
          "Id: 3794",
          "Id: 3831",
          "Id: 3878",
          "Id: 75",
          "Id: 1425",
          "Id: 2948",
          "Id: 3639",
          "Id: 3263",
          "Id: 5071",
          "Id: 5002",
          "Id: 1566",
          "Id: 2985",
          "Id: 1647",
          "Id: 1126",
          "Id: 4349",
          "Id: 2194",
          "Id: 4716",
          "Id: 96",
          "Id: 3408",
          "Id: 3667",
          "Id: 5030",
          "Id: 621",
          "Id: 4961",
          "Id: 3814",
          "Id: 566",
          "Id: 1755",
          "Id: 2714",
          "Id: 748",
          "Id: 4460",
          "Id: 51",
          "Id: 5077",
          "Id: 3013",
          "Id: 1335",
          "Id: 2251",
          "Id: 534",
          "Id: 745",
          "Id: 5079",
          "Id: 3528",
          "Id: 443",
          "Id: 4987",
          "Id: 195",
          "Id: 4826",
          "Id: 893",
          "Id: 1788",
          "Id: 3044",
          "Id: 3904",
          "Id: 3026",
          "Id: 3438",
          "Id: 2685",
          "Id: 3070",
          "Id: 4264",
          "Id: 644",
          "Id: 3755",
          "Id: 3697",
          "Id: 1726",
          "Id: 4501",
          "Id: 120",
          "Id: 1204",
          "Id: 2131",
          "Id: 1253",
          "Id: 4997",
          "Id: 5024",
          "Id: 2351",
          "Id: 134",
          "Id: 2580",
          "Id: 4827",
          "Id: 2011",
          "Id: 3678",
          "Id: 184",
          "Id: 2895",
          "Id: 1780",
          "Id: 511",
          "Id: 4165",
          "Id: 62",
          "Id: 4406",
          "Id: 2802",
          "Id: 4427",
          "Id: 3268",
          "Id: 2053",
          "Id: 251",
          "Id: 625",
          "Id: 1550",
          "Id: 1514",
          "Id: 3895",
          "Id: 3837",
          "Id: 122",
          "Id: 3654",
          "Id: 3518",
          "Id: 2029",
          "Id: 2575",
          "Id: 5085",
          "Id: 567",
          "Id: 2818",
          "Id: 3349",
          "Id: 693",
          "Id: 3686",
          "Id: 1606",
          "Id: 4649",
          "Id: 1293",
          "Id: 2656",
          "Id: 4976",
          "Id: 2807",
          "Id: 720",
          "Id: 4863",
          "Id: 2133",
          "Id: 1789",
          "Id: 1432",
          "Id: 3911",
          "Id: 602",
          "Id: 1281",
          "Id: 1468",
          "Id: 2005",
          "Id: 2266",
          "Id: 3630",
          "Id: 318",
          "Id: 2228",
          "Id: 2834",
          "Id: 274",
          "Id: 2002",
          "Id: 549",
          "Id: 1374",
          "Id: 944",
          "Id: 5001",
          "Id: 4417",
          "Id: 605",
          "Id: 3909",
          "Id: 527",
          "Id: 4825",
          "Id: 2462",
          "Id: 2528",
          "Id: 829",
          "Id: 4481",
          "Id: 4933",
          "Id: 1957",
          "Id: 1815",
          "Id: 298",
          "Id: 68",
          "Id: 4377",
          "Id: 1961",
          "Id: 3758",
          "Id: 3912",
          "Id: 4198",
          "Id: 3014",
          "Id: 4124",
          "Id: 150",
          "Id: 756",
          "Id: 1554",
          "Id: 4423",
          "Id: 3694",
          "Id: 1322",
          "Id: 4620",
          "Id: 1268",
          "Id: 3150",
          "Id: 376",
          "Id: 1096",
          "Id: 1782",
          "Id: 859",
          "Id: 3097",
          "Id: 2987",
          "Id: 2015",
          "Id: 378",
          "Id: 3960",
          "Id: 3305",
          "Id: 3651",
          "Id: 2111",
          "Id: 1434",
          "Id: 2042",
          "Id: 5015",
          "Id: 3172",
          "Id: 1419",
          "Id: 2215",
          "Id: 2384",
          "Id: 4050",
          "Id: 794",
          "Id: 4262",
          "Id: 841",
          "Id: 4724",
          "Id: 2877",
          "Id: 175",
          "Id: 3434",
          "Id: 2876",
          "Id: 927",
          "Id: 2407",
          "Id: 45",
          "Id: 3248",
          "Id: 4439",
          "Id: 4969",
          "Id: 4398",
          "Id: 896",
          "Id: 2373",
          "Id: 3295",
          "Id: 2022",
          "Id: 1879",
          "Id: 2240",
          "Id: 3906",
          "Id: 3258",
          "Id: 1702",
          "Id: 2592",
          "Id: 283",
          "Id: 4823",
          "Id: 1779",
          "Id: 3456",
          "Id: 5007",
          "Id: 5070",
          "Id: 3689",
          "Id: 4247",
          "Id: 4645",
          "Id: 3941",
          "Id: 2576",
          "Id: 2596",
          "Id: 3101",
          "Id: 2678",
          "Id: 1891",
          "Id: 2826",
          "Id: 4683",
          "Id: 4284",
          "Id: 1101",
          "Id: 1047",
          "Id: 4660",
          "Id: 2813",
          "Id: 2492",
          "Id: 3053",
          "Id: 99",
          "Id: 2157",
          "Id: 1421",
          "Id: 2644",
          "Id: 2614",
          "Id: 351",
          "Id: 4030",
          "Id: 3187",
          "Id: 1025",
          "Id: 4025",
          "Id: 718",
          "Id: 2835",
          "Id: 2856",
          "Id: 4487",
          "Id: 2648",
          "Id: 308",
          "Id: 3126",
          "Id: 833",
          "Id: 366",
          "Id: 1784",
          "Id: 3469",
          "Id: 4603",
          "Id: 4640",
          "Id: 2664",
          "Id: 949",
          "Id: 1200",
          "Id: 3154",
          "Id: 19",
          "Id: 2100",
          "Id: 4966",
          "Id: 668",
          "Id: 218",
          "Id: 3137",
          "Id: 438",
          "Id: 3786",
          "Id: 1212",
          "Id: 3669",
          "Id: 3454",
          "Id: 3605",
          "Id: 4934",
          "Id: 4835",
          "Id: 4105",
          "Id: 2902"
         ],
         "marker": {
          "color": [
           0.05692880432267283,
           0.08172499291006452,
           0.20908590367613106,
           0.4180339766752749,
           0.7744568319133811,
           0.6281955299875427,
           0.47752678478690364,
           0.6382617462160844,
           0.04346424744703359,
           0.14597938173303948,
           0.19466180872208994,
           0.051752099596136046,
           0.5639512109412438,
           0.4030859984496023,
           0.2175828487283659,
           0.049359075379257523,
           0.168401694027537,
           0.02798834533595052,
           0.029489758909071684,
           0.029822163112889443,
           0.06099515311378291,
           0.16024404330693945,
           0.04543704532473145,
           0.036065047713815954,
           0.029822163112889443,
           0.4663264543949662,
           0.042777520764648636,
           0.2973440234151072,
           0.5770008555006207,
           0.03578427911605809,
           0.675608058274855,
           0.1273521455411318,
           0.33928700366261344,
           0.03115141656717547,
           0.028749311204903538,
           0.027241643356276175,
           0.6901935015091654,
           0.03367300139161416,
           0.7276958697663443,
           0.5732625617214719,
           0.12379532071314306,
           0.21993050733465486,
           0.027103376078385175,
           0.09265315438656198,
           0.2776254808115279,
           0.5069230138263171,
           0.07119999018469926,
           0.4777995745378388,
           0.20299153962628727,
           0.0294171328033296,
           0.029489758909071684,
           0.030132177495857605,
           0.3747668903497538,
           0.05062525119356492,
           0.06090182186743339,
           0.6040284274987298,
           0.09939896738397193,
           0.6369903916535832,
           0.029822163112889443,
           0.23896884082887504,
           0.12021265088722273,
           0.7593245154990973,
           0.42816012558395483,
           0.12230715122049028,
           0.13049362306578513,
           0.1681447945437589,
           0.11480113706193384,
           0.20469826486977558,
           0.4890609488801013,
           0.7637114017967834,
           0.027165018831036846,
           0.12089867760014422,
           0.2848546295009393,
           0.09721534810716798,
           0.1272091584712322,
           0.31698492855556226,
           0.027165018831036846,
           0.6995174243380644,
           0.2085562261776709,
           0.8041098299952567,
           0.20231354552664743,
           0.4154495562805673,
           0.6077151339121682,
           0.08834398559206169,
           0.0911802551279823,
           0.13523979672424802,
           0.4139125259662929,
           0.3812118776912816,
           0.3933412619338004,
           0.029092275332730004,
           0.03115141656717547,
           0.5210000979810997,
           0.47296713212448016,
           0.12155848899280183,
           0.03578427911605809,
           0.3842031609231132,
           0.670472838141733,
           0.5941839917203926,
           0.12166023985007146,
           0.42206131879400655,
           0.4144985940271826,
           0.43064872959577816,
           0.02798834533595052,
           0.03691562285483149,
           0.5540830390734992,
           0.029489758909071684,
           0.16854517793422677,
           0.027241643356276175,
           0.674728656053488,
           0.029489758909071684,
           0.10433118587738571,
           0.10606299532010738,
           0.3248938736267852,
           0.27732551923961996,
           0.7483385499349705,
           0.5235624346640322,
           0.5037481145698504,
           0.09661849569363987,
           0.19798076450580035,
           0.5193264931804044,
           0.15424438851962785,
           0.7613984760850455,
           0.13998588478617602,
           0.027165018831036846,
           0.3423762921680212,
           0.46926255493311014,
           0.5923598169416816,
           0.028067225220636274,
           0.5711429111775016,
           0.493522079276127,
           0.5197401944742382,
           0.40537241968107046,
           0.03633043582056241,
           0.08086893759576229,
           0.6026122492525926,
           0.39191394288196046,
           0.031130003266570467,
           0.642348697336483,
           0.4467526795667938,
           0.02787853135300604,
           0.43338377227941144,
           0.02798834533595052,
           0.2881061524635115,
           0.06666521202281679,
           0.02815845805329599,
           0.029489758909071684,
           0.2625302937794656,
           0.37274810336975983,
           0.8238106601639905,
           0.02798834533595052,
           0.028749311204903538,
           0.7177285969136592,
           0.3207225583095467,
           0.760447406976904,
           0.4496447190997562,
           0.4418572658680027,
           0.24012239922121503,
           0.03486446810546949,
           0.031186783224105695,
           0.6901935015091654,
           0.5183525747012633,
           0.030432493876019238,
           0.3137485744235266,
           0.7766258877076958,
           0.4796401092664956,
           0.13360703305276048,
           0.030132177495857605,
           0.7962660394675306,
           0.027904242174590074,
           0.33423673126128967,
           0.03115141656717547,
           0.03365842442506343,
           0.5830423488956175,
           0.028954747556775847,
           0.7374491883858948,
           0.1941390427945745,
           0.3076349228533362,
           0.5323955785369019,
           0.6060480168397006,
           0.5751362988874233,
           0.061596486441663434,
           0.050352869060784414,
           0.030432493876019238,
           0.027904242174590074,
           0.3283407857636565,
           0.42407831586162675,
           0.07135147392135792,
           0.3224495786773797,
           0.12556300611443263,
           0.18482062333225968,
           0.028103814579597586,
           0.09390995858309371,
           0.7315949724558556,
           0.5865428029512586,
           0.06551934588020529,
           0.5055667063710109,
           0.055170087313447295,
           0.7419387115326692,
           0.6817292296624833,
           0.030820808394657093,
           0.029822163112889443,
           0.4863111991661924,
           0.26862997409327216,
           0.2890566797061894,
           0.2839293857805107,
           0.7090214472995312,
           0.029822163112889443,
           0.7580188348977684,
           0.02917625474362542,
           0.027165018831036846,
           0.03074865182687407,
           0.09444523464872079,
           0.03008607700290417,
           0.5564251701494165,
           0.03831693817126643,
           0.03633043582056241,
           0.03725820661908108,
           0.46257858441731325,
           0.07189836764233792,
           0.03970297822542288,
           0.03935394972425117,
           0.02963225340310468,
           0.19443305248359563,
           0.027945015355543126,
           0.6636999906125352,
           0.06781285604679274,
           0.03072139859923891,
           0.03152500058246282,
           0.5429854662511024,
           0.44786877528680896,
           0.5328020650600418,
           0.7378712390844939,
           0.667448665940484,
           0.49293915932457366,
           0.576998427833466,
           0.27711034473456775,
           0.6886357643306742,
           0.030952657712460287,
           0.3551361034511069,
           0.029822163112889443,
           0.03578427911605809,
           0.030432493876019238,
           0.16884648502226313,
           0.29358722134719295,
           0.4663149871121479,
           0.13029475077629382,
           0.5278051551425109,
           0.4968933433552611,
           0.029822163112889443,
           0.029822163112889443,
           0.5055667063710109,
           0.47993365030963603,
           0.05101488688265981,
           0.4290889906935144,
           0.5861459687272507,
           0.6813065896809595,
           0.13029475077629382,
           0.2798330069389212,
           0.40533651808239923,
           0.7098857582704562,
           0.12409339905851036,
           0.34088059509557384,
           0.6552397250803959,
           0.04007566712415265,
           0.05101488688265981,
           0.43633959462418587,
           0.7307337460101132,
           0.030520698949553608,
           0.20847071849251972,
           0.18856693497012023,
           0.11767180491414263,
           0.6347406915372416,
           0.4372019335522664,
           0.546101373878529,
           0.18113617745730895,
           0.05101488688265981,
           0.12379532071314306,
           0.06551934588020529,
           0.46336134798786033,
           0.030132177495857605,
           0.03634672819941622,
           0.47372877544330566,
           0.03115141656717547,
           0.04469739094504444,
           0.02890435642712861,
           0.12192468253496451,
           0.7267246564627362,
           0.26466764920729685,
           0.336390243401877,
           0.08966625632943048,
           0.5210000979810997,
           0.4058543231657629,
           0.031172728964518157,
           0.02712292791126764,
           0.2862924843984768,
           0.23604019424075898,
           0.1746642173060199,
           0.028067225220636274,
           0.34121298020897073,
           0.09930879149107909,
           0.1272091584712322,
           0.5787688364490517,
           0.18940468601899169,
           0.4515643650541555,
           0.12021847222413772,
           0.7082863876518538,
           0.35888625520011563,
           0.1253500398312109,
           0.03115141656717547,
           0.11996998577608792,
           0.029822163112889443,
           0.11273250597426963,
           0.7160170867078853,
           0.24798069754583207,
           0.2744191392387044,
           0.03578427911605809,
           0.546167465026526,
           0.3524983143618527,
           0.2049399008008633,
           0.027945015355543126,
           0.027904242174590074,
           0.035857990610615544,
           0.06586791655627239,
           0.18221775326543216,
           0.4610757560212958,
           0.5476064422577883,
           0.5710189769646289,
           0.3423762921680212,
           0.10874916478110336,
           0.44213314316109287,
           0.06663733041369385,
           0.03070163802027491,
           0.4591086490684706,
           0.2819288247202514,
           0.44134826902980123,
           0.11866242127837537,
           0.031172728964518157,
           0.5758000946912989,
           0.028749311204903538,
           0.06563225176819766,
           0.363378080712512,
           0.39355244763419805,
           0.34603511997304753,
           0.11912692085672373,
           0.20908590367613106,
           0.3045544722829088,
           0.18756992637745182,
           0.21436460332546142,
           0.5845222068995403,
           0.04175686746389018,
           0.03115141656717547,
           0.029822163112889443,
           0.6163353240375388,
           0.06051541915756885,
           0.1235426163847178,
           0.28357309276812137,
           0.5680369713769848,
           0.031130003266570467,
           0.07039973806520808,
           0.07040318938780245,
           0.029822163112889443,
           0.10080245113677404,
           0.0751992938917436,
           0.5218989849829707,
           0.059517405201640255,
           0.46336134798786033,
           0.8698848399866282,
           0.032147792199828905,
           0.3122702492767266,
           0.5545856520257688,
           0.5862521159287691,
           0.031172728964518157,
           0.543328245571766,
           0.2633270362954523,
           0.7487263452421145,
           0.8000435663893034,
           0.4449252671998392,
           0.4433368863240496,
           0.43815729124645697,
           0.035662414321678514,
           0.027904242174590074,
           0.36406356091272435,
           0.1272091584712322,
           0.7797329763071303,
           0.029489758909071684,
           0.5618958168367079,
           0.5578361718479111,
           0.03074865182687407,
           0.05692880432267283,
           0.029489758909071684,
           0.05123235894211669,
           0.030645572117952297,
           0.12323604927472541,
           0.02896119497109571,
           0.34100820198085363,
           0.5464382033701378,
           0.03617756536314009,
           0.5792561396024252,
           0.6832318722154833,
           0.10606299532010738,
           0.43363231461718715,
           0.03442949836155597,
           0.029822163112889443,
           0.701648075026872,
           0.03633043582056241,
           0.030820808394657093,
           0.03365842442506343,
           0.12345562238810244,
           0.07738346979222537,
           0.3090584229136849,
           0.057168627875352235,
           0.09403285368291105,
           0.03074865182687407,
           0.4631908707446511,
           0.03182051216793561,
           0.05976444647937522,
           0.07738346979222537,
           0.13836471268146358,
           0.6062246126571392,
           0.32337960948153605,
           0.02798834533595052,
           0.5877994051406075,
           0.41962952459281305,
           0.6066469917763393,
           0.18979211448378683,
           0.038213266867478245,
           0.23604019424075898,
           0.3142255121302814,
           0.27118143531158834,
           0.14708915569549103,
           0.14893344018692123,
           0.7955243920651043,
           0.26374936870075094,
           0.06138013101236619,
           0.03716190830423694,
           0.6060480168397006,
           0.4863111991661924,
           0.12174630951785761,
           0.03115141656717547,
           0.04874297783024436,
           0.7999075340832458,
           0.5639512109412438,
           0.14511823526344808,
           0.08534436700684976,
           0.10422529595514902,
           0.03746926576511828,
           0.14393349089592294,
           0.5151083495392837,
           0.03008607700290417,
           0.13239957461942703,
           0.18122671839506155,
           0.40361555100683477,
           0.8198677159869416,
           0.030820808394657093,
           0.1235426163847178,
           0.12209843228125715,
           0.030261172879436832,
           0.04452841803592704,
           0.1261158895031336,
           0.6276843038968275,
           0.723509157249839,
           0.046075314552604635,
           0.13756815966279137,
           0.027165018831036846,
           0.14435769954156646,
           0.044712775541949114,
           0.16126203697016306,
           0.027241643356276175,
           0.44978046518462944,
           0.029489758909071684,
           0.5047702285925388,
           0.4272281116561636,
           0.3768909933464678,
           0.2334107738913777,
           0.14254819580441405,
           0.5455205496460254,
           0.200445043074789,
           0.027904242174590074,
           0.03074865182687407,
           0.10739196500790578,
           0.02798834533595052,
           0.06036755007775771,
           0.6026122492525926,
           0.03160606698322682,
           0.15079406567742273,
           0.19797773725736614,
           0.2115932051830619,
           0.029489758909071684,
           0.45419136245493424,
           0.055170087313447295,
           0.030746267687228726,
           0.24599269867375836,
           0.1425420335011313,
           0.052391069917404685,
           0.18221775326543216,
           0.027904242174590074,
           0.47370381609432244,
           0.027241643356276175,
           0.8698848399866282,
           0.7525631250410155,
           0.39191394288196046,
           0.02917625474362542,
           0.582793164684665,
           0.02798834533595052,
           0.5639512109412438,
           0.31698492855556226,
           0.7517439646548812,
           0.028749311204903538,
           0.030132177495857605,
           0.2395460223201189,
           0.030432493876019238,
           0.6924633917720362,
           0.5664232979463188,
           0.027241643356276175,
           0.11511314106776621,
           0.04561031068502181,
           0.8632166180934547,
           0.048795715587052584,
           0.4341561683627415,
           0.6066469917763393,
           0.6442566936731047,
           0.14589965870574034,
           0.5427345423119548,
           0.07101612997766016,
           0.029489758909071684,
           0.039124780828225916,
           0.12345562238810244,
           0.6901935015091654,
           0.028067225220636274,
           0.06037667390745352,
           0.8005999571249265,
           0.027241643356276175,
           0.6043097478649491,
           0.03115141656717547,
           0.20083667887240558,
           0.6416658485866532,
           0.07329993845168047,
           0.02798834533595052,
           0.08899160281341327,
           0.7082863876518538,
           0.0316529763278555,
           0.2549263568810416,
           0.25491214117804045,
           0.029489758909071684,
           0.03115141656717547,
           0.2563146901747926,
           0.2045772331304218,
           0.027924887922658577,
           0.03578427911605809,
           0.43702814986571836,
           0.8041098299952567,
           0.40319982169291396,
           0.6997305908555255,
           0.027165018831036846,
           0.1344335687401641,
           0.12409339905851036,
           0.7848541156857594,
           0.13349117627023072,
           0.028749311204903538,
           0.7905102663582936,
           0.16375212561400557,
           0.03578427911605809,
           0.11836364939096192,
           0.03578427911605809,
           0.5775895014722162,
           0.537561771000357,
           0.5838988818076138,
           0.03634672819941622,
           0.031172728964518157,
           0.3681425312501707,
           0.028067225220636274,
           0.28803993728318433,
           0.029489758909071684,
           0.6134824338434639,
           0.11480113706193384,
           0.6248796899321162,
           0.45419136245493424,
           0.4697509247041922,
           0.210151950396989,
           0.5554293304873674,
           0.11879616620228298,
           0.03617756536314009,
           0.07112374471532353,
           0.7237363153024401,
           0.7361415263180223,
           0.13756815966279137,
           0.040895417148808115,
           0.10044510607382344,
           0.027241643356276175,
           0.02924687966555981,
           0.5852369932907316,
           0.3928294450361581,
           0.0896997208224497,
           0.030132177495857605,
           0.030432493876019238,
           0.6454072264747062,
           0.3307357286471977,
           0.11820764185971797,
           0.1373193986215544,
           0.21950266250095263,
           0.5210000979810997,
           0.6153361801872705,
           0.7593264615241713,
           0.3736899656785133,
           0.6212633814298355,
           0.3288884036186775,
           0.587350072789794,
           0.08458103824397999,
           0.40568969904420027,
           0.6878341756683775,
           0.5468886031191577,
           0.5179285620997929,
           0.7936955973967545,
           0.5643342027564388,
           0.5037481145698504,
           0.8840620662689577,
           0.42669913464833437,
           0.3954676911442676,
           0.09544750965599823,
           0.31082988358728963,
           0.3208391360064579,
           0.7707158328709964,
           0.03115141656717547,
           0.3282236315944403,
           0.7770432082907249,
           0.11946548923569654,
           0.029822163112889443,
           0.0631327908158987,
           0.030132177495857605,
           0.5046603778946156,
           0.027904242174590074,
           0.35663820025731285,
           0.6479233653521381,
           0.034803720098370995,
           0.028067225220636274,
           0.036356127263480774,
           0.23701467555651545,
           0.43715037262484435,
           0.218642265071458,
           0.4461761586781049,
           0.02798834533595052,
           0.33703690614838866,
           0.12703307705117864,
           0.03620691829667985,
           0.5481734826188088,
           0.027442132327986722,
           0.13492293182887335,
           0.1727511281790125,
           0.5852369932907316,
           0.42912416407062365,
           0.37830012703512156,
           0.45474072460724574,
           0.5664232979463188,
           0.0760233063118516,
           0.027904242174590074,
           0.661366530490827,
           0.5902391058527608,
           0.6882905832230837,
           0.23874212016384724,
           0.029489758909071684,
           0.5755372191119312,
           0.07047866108617047,
           0.029489758909071684,
           0.8642089063794064,
           0.5518332810453089,
           0.3148075542118751,
           0.6764646138714784,
           0.2745700793822845,
           0.027241643356276175,
           0.41341709221746886,
           0.18129818074023835,
           0.15749617811163205,
           0.029822163112889443,
           0.02917625474362542,
           0.1497661701894988,
           0.027904242174590074,
           0.15038195172901295,
           0.21295710346308921,
           0.029489758909071684,
           0.5991383548118183,
           0.1362323850621304,
           0.5298180346583016,
           0.8487257840446406,
           0.13757554592228866,
           0.03578427911605809,
           0.3869793384025887,
           0.02798834533595052,
           0.030432493876019238,
           0.30167523625361536,
           0.5531610582093126,
           0.440303978659895,
           0.7776139992455875,
           0.18341197006687385,
           0.22881788045859966,
           0.030132177495857605,
           0.13029475077629382,
           0.5365446393325664,
           0.02917625474362542,
           0.14939854863783952,
           0.4841833912542101,
           0.027241643356276175,
           0.03634672819941622,
           0.4265877496061974,
           0.03822262106041973,
           0.4094833195146717,
           0.03617756536314009,
           0.6878341756683775,
           0.15408646263446715,
           0.1779509280509812,
           0.604565302619338,
           0.15903527864832329,
           0.140206086085998,
           0.08308277768222747,
           0.500791818125023,
           0.031180656107079534,
           0.1372397069606337,
           0.22629480985436734,
           0.02798834533595052,
           0.028749311204903538,
           0.13029475077629382,
           0.6547178424961391,
           0.46823834571075035,
           0.10606299532010738,
           0.1798737832060935,
           0.03578427911605809,
           0.8886592916275984,
           0.34461724024621637,
           0.20507441877785026,
           0.10387396948182949,
           0.3281183442436514,
           0.14350902251286446,
           0.15566424056760667,
           0.030432493876019238,
           0.15749617811163205,
           0.09403285368291105,
           0.7400723813010093,
           0.5107360550495975,
           0.06143688360008089,
           0.3468285770153919,
           0.6913102689080188,
           0.5005949660773922,
           0.21015437605075374,
           0.08792706374466744,
           0.03578427911605809,
           0.11253747461311944,
           0.029822163112889443,
           0.059583472358425316,
           0.6621147741609147,
           0.11798433686208241,
           0.7195382323374068,
           0.05287323236068625,
           0.4469037957767547,
           0.03074865182687407,
           0.027904242174590074,
           0.5288618499644818,
           0.030820808394657093,
           0.29219842993827955,
           0.792651865158742,
           0.33108127627555983,
           0.5835135808604699,
           0.30192373997138533,
           0.09403285368291105,
           0.7077158364601334,
           0.5785319171958362,
           0.38401142299718405,
           0.7206960025214593,
           0.7417459366337162,
           0.3826710143911718,
           0.7384767377327554,
           0.13828242761244805,
           0.699877900531266,
           0.8108292466882582,
           0.028954747556775847,
           0.7581064126403138,
           0.4593954212653553,
           0.582793164684665,
           0.05029778277049219,
           0.03847221138344184,
           0.8861772043746438,
           0.07333634553571877,
           0.1336489825450342,
           0.029489758909071684,
           0.24614171756406505,
           0.028273613585042705,
           0.06183961436881702,
           0.2299129429234552,
           0.7181951447323525,
           0.028749311204903538,
           0.10702687082891102,
           0.5677922359987382,
           0.11696965287002385,
           0.059517405201640255,
           0.5170626287875391,
           0.032211033283522185,
           0.5860710991393401,
           0.02963225340310468,
           0.5597942741616806,
           0.6901935015091654,
           0.13166776593080556,
           0.15285492657858765,
           0.5168710368514668,
           0.04915916436541973,
           0.029822163112889443,
           0.06655519604159525,
           0.028749311204903538,
           0.6070004260894709,
           0.5973700536673935,
           0.08114006950414972,
           0.06384551961927694,
           0.03074865182687407,
           0.5387380640242863,
           0.12079826528770839,
           0.032147792199828905,
           0.5950634570036998,
           0.027904242174590074,
           0.21732892233421167,
           0.027945015355543126,
           0.02712292791126764,
           0.05101488688265981,
           0.14939854863783952,
           0.4056926577696391,
           0.05697916898438844,
           0.5540456802246673,
           0.4018396580513342,
           0.02712292791126764,
           0.4853868346766616,
           0.08451262863122881,
           0.4622442585653253,
           0.6060480168397006,
           0.4087129862348711,
           0.24818580704715548,
           0.18492338041671055,
           0.5080051670352013,
           0.732540936334437,
           0.027241643356276175,
           0.5953177564699998,
           0.027442132327986722,
           0.3415196714316345,
           0.1905060408897015,
           0.030261172879436832,
           0.027904242174590074,
           0.059517405201640255,
           0.8270002588336077,
           0.027904242174590074,
           0.1425420335011313,
           0.7527986734623792,
           0.03150787771334321,
           0.8357319522020372,
           0.029489758909071684,
           0.6152751578804952,
           0.05355720758445499,
           0.030820808394657093,
           0.4397880220878169,
           0.18756992637745182,
           0.02798834533595052,
           0.08860124417284902,
           0.14069203477823536,
           0.030820808394657093,
           0.13223070748738736,
           0.701648075026872,
           0.0978238157939359,
           0.08791655166451974,
           0.1219757714718355,
           0.028067225220636274,
           0.3154371674196867,
           0.13407150699753698,
           0.027945015355543126,
           0.15705684290720787,
           0.03070163802027491,
           0.2128487849856664,
           0.6889556150293303,
           0.4890609488801013,
           0.11218109200759141,
           0.031934934901960484,
           0.12021847222413772,
           0.6705007987190612,
           0.8165757811379266,
           0.5637213069639841,
           0.5955998327263985,
           0.8361829542639387,
           0.17863507032919418,
           0.02798834533595052,
           0.1526302481860273,
           0.031284634550669745,
           0.14191317932830388,
           0.7277355238172308,
           0.11280591171186274,
           0.3997665207142445,
           0.18122671839506155,
           0.8704160206399703,
           0.028103814579597586,
           0.10555486756303409,
           0.49033359610258914,
           0.5427345423119548,
           0.7846555334128882,
           0.1458735854736088,
           0.032147792199828905,
           0.03383060688712462,
           0.558811216457265,
           0.642175408800566,
           0.14393349089592294,
           0.8911042478531689,
           0.029822163112889443,
           0.09403285368291105,
           0.0314892515288713,
           0.034424835484945425,
           0.642175408800566,
           0.02917625474362542,
           0.02917625474362542,
           0.44422514532450513,
           0.027241643356276175,
           0.07039973806520808,
           0.7776139992455875,
           0.05615015532629509,
           0.04659645375093464,
           0.11480113706193384,
           0.028749311204903538,
           0.14596735571647462,
           0.4813175580434725,
           0.10433118587738571,
           0.02798834533595052,
           0.4238571114887753,
           0.24028175118693385,
           0.028749311204903538,
           0.166609043545436,
           0.6075987206758442,
           0.12080169111757769,
           0.4316915759858577,
           0.048795715587052584,
           0.15317626820798316,
           0.18681856474758024,
           0.03578427911605809,
           0.29546617500720157,
           0.5513660865097955,
           0.035215393834792635,
           0.5317802840174676,
           0.044989426082357474,
           0.4586160471803167,
           0.3067087201098605,
           0.24644888945683407,
           0.8162981203429611,
           0.03115141656717547,
           0.049781262181184324,
           0.37917725169003325,
           0.02798834533595052,
           0.029489758909071684,
           0.3083311258138818,
           0.032406614567039305,
           0.3936083642781327,
           0.5989349158484834,
           0.030132177495857605,
           0.5659790504643153,
           0.18149053199071688,
           0.032236095627272934,
           0.2907425383877335,
           0.7090214472995312,
           0.8891235968719704,
           0.05101488688265981,
           0.7150847761043374,
           0.6540506215192295,
           0.12151523718856617,
           0.4457802473566557,
           0.03074865182687407,
           0.027241643356276175,
           0.13998588478617602,
           0.36985566348870896,
           0.6026122492525926,
           0.5637457349971782,
           0.5830423488956175,
           0.49363541031435104,
           0.5800428190503082,
           0.39731219316641625,
           0.4390870113548225,
           0.037178192561119906,
           0.027165018831036846,
           0.26396266278603336,
           0.07716468613977788,
           0.5365364759072979,
           0.03644563974314751,
           0.7287924790788429,
           0.035933555084926114,
           0.03908974108683397,
           0.027399624127087567,
           0.6411453823440963,
           0.4114191120355426,
           0.02798834533595052,
           0.028257175300228903,
           0.6196802615950289,
           0.02798834533595052,
           0.059517405201640255,
           0.0383379854666167,
           0.029370555260286448,
           0.06387456552274254,
           0.2666573395775058,
           0.10986119899952211,
           0.155060026003117,
           0.02798834533595052,
           0.07797388674781873,
           0.21264231389900393,
           0.43962292546988196,
           0.08406212500274808,
           0.12413416668245522,
           0.13492293182887335,
           0.3022165547517041,
           0.8205964562188245,
           0.5586904951164623,
           0.6597361928589511,
           0.46846972329494785,
           0.2946783818033377,
           0.3706233449217977,
           0.2343401527347763,
           0.04849604078694689,
           0.25786304943933547,
           0.027241643356276175,
           0.059517405201640255,
           0.6398817466111424,
           0.14733484831715374,
           0.028067225220636274,
           0.028749311204903538,
           0.14304028954609863,
           0.1449387409126549,
           0.33056554491799095
          ],
          "coloraxis": "coloraxis",
          "line": {
           "color": "white",
           "width": 0.8
          },
          "opacity": 0.8,
          "size": 10
         },
         "mode": "markers",
         "type": "scatter",
         "x": [
          31,
          40,
          8,
          79,
          75,
          79,
          56,
          69,
          7,
          1.48,
          37,
          3,
          60,
          51,
          57,
          43,
          42,
          10,
          26,
          3,
          42,
          44,
          6,
          16,
          23,
          52,
          9,
          41,
          72,
          12,
          56,
          42,
          39,
          28,
          17,
          1.16,
          63,
          37,
          66,
          56,
          47,
          43,
          22,
          82,
          46,
          66,
          9,
          63,
          1.24,
          16,
          19,
          2,
          80,
          5,
          38,
          53,
          46,
          82,
          27,
          52,
          47,
          78,
          71,
          19,
          43,
          31,
          20,
          13,
          47,
          80,
          5,
          23,
          52,
          43,
          23,
          47,
          7,
          67,
          52,
          79,
          54,
          68,
          69,
          44,
          38,
          17,
          54,
          62,
          70,
          5,
          32,
          60,
          78,
          23,
          21,
          51,
          78,
          78,
          23,
          65,
          57,
          50,
          4,
          36,
          71,
          12,
          60,
          1.88,
          69,
          24,
          20,
          40,
          52,
          52,
          62,
          58,
          65,
          40,
          36,
          60,
          52,
          57,
          32,
          5,
          70,
          52,
          57,
          0.32,
          50,
          54,
          69,
          58,
          17,
          38,
          59,
          52,
          33,
          65,
          50,
          33,
          49,
          9,
          47,
          38,
          24,
          35,
          51,
          52,
          81,
          8,
          20,
          82,
          82,
          57,
          67,
          58,
          65,
          36,
          21,
          59,
          68,
          19,
          55,
          76,
          61,
          50,
          24,
          77,
          23,
          61,
          28,
          21,
          50,
          1.08,
          68,
          2,
          51,
          67,
          54,
          52,
          38,
          19,
          18,
          14,
          50,
          81,
          3,
          47,
          32,
          54,
          1.8,
          47,
          79,
          58,
          38,
          63,
          36,
          74,
          59,
          31,
          7,
          60,
          31,
          74,
          53,
          61,
          20,
          73,
          31,
          7,
          14,
          42,
          32,
          74,
          27,
          4,
          37,
          65,
          38,
          2,
          35,
          18,
          67,
          5,
          61,
          38,
          8,
          32,
          58,
          60,
          51,
          81,
          78,
          61,
          69,
          64,
          61,
          35,
          46,
          15,
          31,
          26,
          39,
          66,
          59,
          26,
          69,
          66,
          12,
          12,
          63,
          71,
          29,
          45,
          67,
          72,
          19,
          56,
          62,
          78,
          50,
          55,
          54,
          18,
          32,
          55,
          75,
          23,
          45,
          55,
          39,
          69,
          82,
          57,
          50,
          18,
          47,
          38,
          65,
          13,
          17,
          67,
          15,
          37,
          19,
          22,
          72,
          53,
          63,
          40,
          62,
          50,
          21,
          9,
          53,
          51,
          43,
          2,
          39,
          22,
          29,
          67,
          60,
          64,
          19,
          76,
          43,
          1.48,
          34,
          34,
          18,
          3,
          75,
          44,
          53,
          31,
          72,
          61,
          54,
          5,
          1.24,
          36,
          27,
          47,
          42,
          50,
          64,
          70,
          20,
          53,
          38,
          8,
          82,
          54,
          82,
          58,
          30,
          71,
          2,
          41,
          50,
          81,
          77,
          41,
          13,
          47,
          52,
          48,
          73,
          10,
          30,
          28,
          55,
          39,
          1.16,
          44,
          54,
          9,
          39,
          35,
          32,
          28,
          42,
          48,
          31,
          65,
          80,
          9,
          57,
          75,
          71,
          20,
          81,
          52,
          80,
          70,
          57,
          58,
          67,
          5,
          26,
          39,
          27,
          61,
          21,
          54,
          80,
          13,
          15,
          21,
          32,
          13,
          9,
          23,
          55,
          59,
          11,
          60,
          69,
          40,
          53,
          24,
          26,
          81,
          23,
          31,
          26,
          3,
          29,
          45,
          38,
          25,
          15,
          64,
          11,
          30,
          26,
          31,
          78,
          49,
          12,
          69,
          58,
          62,
          37,
          37,
          51,
          59,
          48,
          38,
          39,
          79,
          55,
          62,
          32,
          53,
          60,
          49,
          25,
          35,
          69,
          61,
          52,
          44,
          41,
          31,
          22,
          75,
          30,
          32,
          42,
          53,
          78,
          33,
          0.64,
          4,
          22,
          32,
          49,
          56,
          75,
          24,
          40,
          7,
          43,
          36,
          55,
          3,
          55,
          30,
          57,
          56,
          40,
          77,
          31,
          57,
          65,
          35,
          19,
          41,
          5,
          42,
          59,
          24,
          53,
          56,
          56,
          35,
          54,
          37,
          12,
          50,
          29,
          36,
          47,
          14,
          60,
          2,
          79,
          68,
          54,
          30,
          66,
          13,
          65,
          47,
          70,
          14,
          26,
          79,
          18,
          68,
          64,
          0.08,
          33,
          0.8,
          79,
          14,
          60,
          65,
          59,
          33,
          58,
          40,
          11,
          27,
          3,
          65,
          2,
          42,
          81,
          0.8,
          51,
          34,
          58,
          80,
          35,
          5,
          45,
          78,
          9,
          45,
          54,
          24,
          33,
          46,
          45,
          12,
          25,
          69,
          79,
          49,
          75,
          4,
          64,
          48,
          73,
          44,
          7,
          77,
          78,
          20,
          28,
          13,
          65,
          52,
          76,
          16,
          12,
          51,
          0.24,
          53,
          5,
          59,
          16,
          57,
          52,
          62,
          51,
          55,
          47,
          27,
          40,
          69,
          73,
          39,
          8,
          26,
          1.8,
          22,
          63,
          39,
          46,
          32,
          3,
          59,
          41,
          46,
          57,
          63,
          66,
          57,
          71,
          60,
          58,
          60,
          53,
          42,
          52,
          65,
          55,
          57,
          80,
          57,
          66,
          78,
          66,
          82,
          39,
          82,
          55,
          69,
          26,
          63,
          73,
          22,
          18,
          28,
          2,
          56,
          1.48,
          52,
          62,
          15,
          0.24,
          4,
          73,
          40,
          51,
          56,
          8,
          57,
          38,
          20,
          65,
          13,
          47,
          40,
          62,
          67,
          43,
          56,
          66,
          41,
          26,
          81,
          78,
          55,
          48,
          14,
          69,
          32,
          33,
          72,
          67,
          62,
          67,
          47,
          2,
          45,
          37,
          37,
          14,
          33,
          66,
          32,
          42,
          43,
          33,
          78,
          51,
          57,
          76,
          8,
          17,
          48,
          5,
          23,
          48,
          73,
          66,
          59,
          45,
          38,
          20,
          15,
          64,
          31,
          40,
          67,
          2,
          32,
          59,
          6,
          39,
          18,
          59,
          23,
          56,
          78,
          13,
          39,
          42,
          47,
          30,
          51,
          49,
          8,
          31,
          19,
          68,
          77,
          39,
          36,
          24,
          79,
          42,
          45,
          33,
          55,
          44,
          34,
          30,
          37,
          17,
          59,
          75,
          45,
          45,
          64,
          64,
          53,
          45,
          16,
          23,
          28,
          25,
          70,
          18,
          78,
          39,
          56,
          15,
          26,
          51,
          30,
          55,
          78,
          55,
          67,
          80,
          17,
          68,
          51,
          75,
          81,
          68,
          76,
          76,
          6,
          61,
          73,
          1.72,
          82,
          70,
          63,
          28,
          21,
          80,
          2,
          34,
          27,
          65,
          17,
          46,
          51,
          78,
          17,
          45,
          75,
          49,
          20,
          56,
          1.72,
          61,
          20,
          64,
          59,
          31,
          4,
          48,
          10,
          29,
          40,
          16,
          80,
          57,
          65,
          43,
          22,
          59,
          16,
          7,
          58,
          33,
          39,
          11,
          8,
          33,
          41,
          68,
          39,
          57,
          59,
          5,
          61,
          46,
          81,
          51,
          71,
          67,
          45,
          57,
          61,
          2,
          64,
          8,
          40,
          50,
          35,
          30,
          23,
          80,
          32,
          21,
          72,
          27,
          72,
          25,
          80,
          37,
          13,
          80,
          51,
          8,
          46,
          46,
          18,
          41,
          81,
          18,
          18,
          13,
          1,
          47,
          39,
          8,
          48,
          35,
          56,
          58,
          48,
          48,
          20,
          25,
          80,
          77,
          58,
          69,
          70,
          48,
          5,
          49,
          30,
          14,
          60,
          42,
          61,
          43,
          81,
          1.56,
          61,
          69,
          59,
          58,
          53,
          8,
          37,
          81,
          55,
          25,
          79,
          18,
          22,
          11,
          28,
          55,
          32,
          20,
          73,
          0.88,
          41,
          59,
          43,
          1.32,
          15,
          11,
          14,
          52,
          25,
          7,
          57,
          45,
          8,
          44,
          57,
          43,
          67,
          29,
          26,
          42,
          12,
          53,
          81,
          32,
          72,
          14,
          82,
          64,
          53,
          76,
          35,
          11,
          46,
          4,
          27,
          62,
          0.08,
          57,
          68,
          1,
          56,
          42,
          3,
          53,
          58,
          79,
          32,
          72,
          59,
          5,
          75,
          23,
          0.48,
          32,
          78,
          59,
          49,
          48,
          63,
          78,
          68,
          69,
          1.64,
          5,
          38,
          43,
          48,
          29,
          69,
          6,
          9,
          18,
          58,
          47,
          9,
          24,
          53,
          5,
          22,
          34,
          14,
          17,
          52,
          30,
          54,
          5,
          43,
          37,
          69,
          31,
          1.32,
          47,
          47,
          76,
          65,
          57,
          52,
          54,
          48,
          76,
          10,
          53,
          1.8,
          23,
          71,
          62,
          1.88,
          1.32,
          49,
          56,
          78
         ],
         "y": [
          -1.7611701128047694,
          -1.1601922849661594,
          -1.7650300176904794,
          1.2819837510098524,
          1.2672348176425392,
          1.5025120442433277,
          0.37817771616294427,
          1.1877560493626687,
          -1.7578681028699434,
          -1.4710837712488465,
          -2.0538274920126,
          -2.0317340107897146,
          0.33199182878659045,
          -0.1041696008046867,
          0.43978068438357815,
          -1.546269601970712,
          -1.4594680986549293,
          -2.2756847018601882,
          -2.777608901721845,
          -2.4537906483119674,
          -1.7651476593423734,
          -1.0932595127679425,
          -2.1066640021780527,
          -3.0403364410532574,
          -2.8692825948058895,
          -0.07771793830610296,
          -2.144137645144586,
          -1.0212891473900672,
          1.18001521307679,
          -2.4699574814613894,
          0.3409661281277948,
          -1.4590408930916576,
          -0.9154165343962881,
          -3.0018338820408523,
          -2.668034334432582,
          -2.2263291242786543,
          0.9771598310522849,
          -2.261973181174917,
          0.7425306625141815,
          0.3165177413484547,
          -0.7072648327056741,
          -1.1938407400114763,
          -2.7401040606795566,
          0.5836999588104841,
          -1.0275580047707478,
          0.4714810754922296,
          -1.9536984019060246,
          0.5947359235251277,
          -1.738213535133324,
          -2.542027104932,
          -2.8524104950569917,
          -2.5233495025912043,
          1.2379538280711109,
          -2.049505699054816,
          -2.0101026792656356,
          0.11815683660236502,
          -0.9504252576331541,
          0.9792981029230932,
          -2.9762874306431617,
          -0.29568193388952346,
          -0.7391867548741701,
          1.6523371170327383,
          0.9840931925599817,
          -2.3764438894611515,
          -1.3884784310918996,
          -2.371992118315842,
          -2.385003739165458,
          -1.7779617419423661,
          -0.24735692463932107,
          1.5913877049266154,
          -2.262678898039611,
          -2.441278468914386,
          -0.08414713265748791,
          -1.0505063353261206,
          -2.396684562342972,
          -0.5339120427916297,
          -2.305321808943499,
          0.6309634872786585,
          -0.11784023956756867,
          1.7887135661995544,
          -0.23920666234318164,
          0.9705269466634295,
          1.2109993476018193,
          -0.9529912746807517,
          -1.9339042311626111,
          -2.3463963317426666,
          -0.1665134882248164,
          0.10348747698011851,
          1.0841765223323114,
          -2.165901685909377,
          -2.9336381198541672,
          0.6594988261557415,
          1.5162035002317682,
          -2.364901905669722,
          -2.4709863679623085,
          -0.184513543815423,
          1.731511494277709,
          1.7213059215443374,
          -2.5057280511746174,
          0.7922463282379517,
          0.694877759468046,
          -0.22165852531503732,
          -2.315674639693117,
          -2.6915615639084045,
          0.8529398391320794,
          -2.5496070208804626,
          0.004266143631339972,
          -2.2696470947300407,
          1.3117128239497353,
          -2.8903586523314146,
          -2.410313941070491,
          -1.6659570912677613,
          -0.18885942594106273,
          -0.18157755794574199,
          0.7658223031845299,
          0.636432758267331,
          0.5966767626775226,
          -1.5101190793421893,
          -1.9428876685215133,
          0.9118110972370259,
          -0.2445223207056616,
          0.8164351950995233,
          -2.3862566804754706,
          -2.2449917171904787,
          0.9555618202743242,
          0.0051780702102588476,
          0.4695512152320536,
          -2.273243510004264,
          -0.1426449153568737,
          0.07224806744330163,
          1.0632636853183568,
          0.5373880585044007,
          -3.0619994573917646,
          -2.180124136017761,
          0.31617293623115095,
          -0.1129515167908968,
          -2.61111529183828,
          0.5717408094018727,
          -0.26453391958981043,
          -2.7616760125291213,
          -0.40479612063855647,
          -2.2756847018601882,
          -0.5740317865358169,
          -1.9580724870550092,
          -2.723277788970048,
          -2.9069190632491884,
          -0.24720511886598878,
          -0.0787011751787466,
          1.863551960382829,
          -2.3230493839073434,
          -2.749457731113948,
          0.8260379034881672,
          0.6466660829843164,
          0.8227024800996836,
          0.372377647967037,
          0.17791079093322507,
          0.2985815782026139,
          -2.262262300597546,
          -2.8374436985906453,
          0.8837884994547471,
          1.1662725067006472,
          -2.7893638157115577,
          -0.07481424977375042,
          1.385194436459889,
          0.18619912186711765,
          -0.7202538651192507,
          -3.0119324848862044,
          1.8297239910258825,
          -2.8754104669834906,
          0.4159609823939008,
          -3.000524090071048,
          -2.234431848764998,
          -0.13818776124074555,
          -2.3522875590684573,
          1.2810398948280526,
          -2.0289557247302357,
          -0.07521097325547027,
          0.2666599201171192,
          0.0346461811731749,
          0.11501112987295048,
          -1.610777920023349,
          -2.72050614872556,
          -2.743631350324283,
          -2.499170579561204,
          -0.5562809577909308,
          1.2866875118083,
          -1.946256972237208,
          -0.3083859463361098,
          -2.4621311697408306,
          -0.22550488988063155,
          -2.2596774185735677,
          -0.6277246642645063,
          1.7195995236446473,
          0.8520568929528509,
          -1.8876579834180796,
          0.6969686184064076,
          -2.284468749096944,
          1.6359948969615818,
          0.989297059444146,
          -2.9166546079770166,
          -2.41033956444561,
          0.5603167265680807,
          -1.886222224064838,
          1.0484615206695929,
          -0.22567842026976956,
          0.6790863321164269,
          -2.9769519795913193,
          1.6011293355189775,
          -2.8714219092823963,
          -2.305321808943499,
          -2.825855440569368,
          -1.5773947266967345,
          -2.9017149401291724,
          1.13305203816608,
          -2.2976420964111397,
          -2.633720629753546,
          -2.601222012266442,
          0.5147643360973624,
          -2.0859772188683556,
          -1.7015947682354213,
          -2.8032328071014834,
          -2.834021077616808,
          0.27211835476283824,
          -2.3702815411837377,
          0.7214659693749584,
          -1.7899232495797635,
          -1.69850624950459,
          -2.783974135531537,
          0.623912679790988,
          0.7544891076582256,
          0.22935848188944374,
          1.5185921037551042,
          1.6236755877644367,
          0.5150138606227338,
          0.963039813822996,
          0.16428731025404353,
          0.8736942085491473,
          -2.837520717922943,
          -0.816465685218598,
          -2.4542163208580194,
          -2.9722337831704153,
          -2.78937954444206,
          -1.1554006479164813,
          0.3052094117575178,
          0.726928141414258,
          -2.4989291279679824,
          1.048154803190169,
          0.6204143783768915,
          -2.458414640433315,
          -2.498152125201443,
          0.6958447115147425,
          0.8671700257586356,
          -2.8111266407725037,
          -0.7871207849284488,
          0.8145592483548791,
          1.5327477252340351,
          -2.3407948335658446,
          -0.00536581356618475,
          0.5273439017861818,
          1.6124455456969642,
          -0.8390603272697902,
          0.2569440844073847,
          0.1257675375457758,
          -2.3447265245335243,
          -2.753619895897357,
          0.2881176143538402,
          1.3732290946952324,
          -2.799473023080651,
          -0.7897991260543755,
          -0.07117592525142555,
          -1.7021855869034643,
          1.0163146522146325,
          0.9368532554220106,
          0.6004411737016245,
          -0.675893617455385,
          -2.6990747329175515,
          -0.7053824744596545,
          -1.8336283019425992,
          0.6067032543059477,
          -2.448193600407841,
          -2.9828287638289823,
          0.4445866873761449,
          -2.516283287071818,
          -2.834708201324499,
          -2.527928337784237,
          -2.556727360087767,
          1.3079744069855952,
          -0.2924106192192578,
          0.04071782261754022,
          -1.456833894760784,
          0.5549512263214625,
          -0.12302490930343417,
          -2.9287062559956496,
          -2.2697256063345477,
          -0.0620970045493435,
          -0.40515391882228613,
          -1.4437266158538287,
          -2.3092418034596,
          -1.1239028388184658,
          -2.3927214713534606,
          -2.4071573490301703,
          0.6887313256722686,
          0.36610195132016604,
          0.5774341437440945,
          -2.377894299467697,
          1.5628426648862515,
          -0.9471062006954595,
          -1.5121875526652624,
          -2.922648148753177,
          -2.3441014198391317,
          -2.4368007732042716,
          -1.7650967631291763,
          1.2381798225893512,
          -0.9873284846719382,
          -0.2649326153474778,
          -2.9145015444276896,
          1.289170462608944,
          0.5439643397871836,
          -0.2732458097799035,
          -2.3225245324983113,
          -2.5031502453746435,
          -2.62865622057486,
          -2.609909389364354,
          -0.6985219634344199,
          -0.8326056761287136,
          -0.29817337806104277,
          0.37774485499172855,
          0.9261168482253176,
          -2.3983770702541984,
          -0.10982849822905866,
          -1.8766804703031912,
          -2.518681758082607,
          0.7268732335105509,
          -0.24778916592785535,
          0.8082348930712043,
          0.2856282987866169,
          -2.83653614093385,
          0.9887068735319209,
          -2.44967377310579,
          -1.2980754865155628,
          -0.4346966574462456,
          1.4139580500952709,
          1.1795071184821622,
          -1.5831080694435444,
          -1.765052739166482,
          -0.4603689605001213,
          -0.34441857415989785,
          -0.3961461697334594,
          1.3536644652155052,
          -2.508814383663712,
          -3.012981426169335,
          -2.8490688822288446,
          0.4333770458245881,
          -1.8508304330048482,
          -1.6752068372651474,
          -0.9075860863162211,
          -0.05283755534505236,
          -2.6273654055683706,
          -1.5494721051062825,
          -2.6771795641556153,
          -2.8545030837891816,
          -2.3787583540953845,
          -1.3384875517781012,
          -0.33765518030667985,
          -2.8373647482224236,
          0.6069429856241875,
          1.8384048754566629,
          -2.103005604317914,
          0.3899255230813382,
          1.0883352437517841,
          0.8787321004401664,
          -2.8357130127192174,
          1.4164221854921502,
          -0.022593721320824618,
          1.5571795210082882,
          1.2046941989593212,
          0.5561752652026121,
          0.5924452062354408,
          0.4686972981757223,
          -2.196595120011631,
          -2.8751802294288513,
          -1.026277379054888,
          -2.416871969756224,
          0.7196577565330108,
          -2.5376092173954743,
          0.07126634433765798,
          1.2780010616434392,
          -2.8233344201207844,
          -2.0598796576981484,
          -2.776655891748883,
          -2.1299850490285066,
          -1.8357823887316262,
          -1.704175817157798,
          -2.640386463454918,
          0.14645984469062112,
          0.5775255542788521,
          -2.6229777781951347,
          0.460529757983088,
          1.1479396865815716,
          -1.6892865244399977,
          0.027545061037003514,
          -2.5367980021549927,
          -2.9769519795913193,
          1.5571725585289027,
          -3.061334908443606,
          -2.9166546079770166,
          -2.234431848764998,
          -1.711097458806067,
          -2.565161367985192,
          -0.9072527557213459,
          -2.043634071518454,
          -2.457335358169225,
          -2.8233344201207844,
          0.8042710343806824,
          -2.1155017427893905,
          -2.9145353596753867,
          -2.5667236573717367,
          -2.397566261898237,
          1.319178332551736,
          -0.1276239763983713,
          -2.3460682781021096,
          1.249450244773441,
          0.25726470528674394,
          0.5187127520262932,
          -2.123878809306081,
          -2.7396403262400093,
          -0.38918440030991974,
          0.26888336234110094,
          -0.5464511624904885,
          -1.922252871403826,
          -1.3758541873439851,
          1.4959655530004294,
          -0.055504449876564506,
          0.21359550923074144,
          -2.648771800253766,
          0.05693628020639391,
          0.5017523571421162,
          -0.6318640218655672,
          -3.018555752093953,
          -2.414560780575523,
          1.2988285886033506,
          0.3722177044009115,
          -0.134794478785694,
          -1.3158064325958085,
          -1.3344100254648033,
          -2.542169970060971,
          -2.4589862034067185,
          1.1779971437106709,
          -2.973467574000352,
          -2.3532396819447072,
          -1.2664719695842275,
          -0.0729136043644486,
          1.8211979178011077,
          -2.856061746507619,
          -1.6787275954329137,
          -1.7163442078797149,
          -2.906259033589622,
          -2.6133349917671937,
          -0.7781953012701703,
          0.623107988574531,
          1.2247426744370693,
          -2.51068656493818,
          -1.393384871096632,
          -2.2619655057273143,
          -1.2493535347721068,
          -2.7313941860916824,
          0.1964363722465961,
          -2.302880617087575,
          0.381583272236951,
          -2.6082416463475893,
          0.3951098176794606,
          0.23354011657129745,
          -0.8646564247722769,
          1.1604496770216777,
          -2.4052433711058003,
          0.5684938144008684,
          0.4931918801786809,
          -2.856484877453235,
          -2.787325899003896,
          -1.4174050330168402,
          -2.293995814466393,
          -1.702703233937596,
          0.3042735742254374,
          -2.6492542681903855,
          -0.3285592351827931,
          0.003827003711146171,
          -0.004563319685685211,
          -2.908422326046638,
          -0.13138838943104594,
          -2.284468749096944,
          -2.407149404211771,
          -0.5672762014826401,
          -2.4075379532751064,
          -1.8641317364253116,
          -0.7577556429055684,
          -2.85484887063414,
          0.29151849697661675,
          -2.2425505253345546,
          1.8068699244019886,
          1.0336832937678888,
          -0.16175195419923272,
          -2.8349901845047847,
          0.6196251323738057,
          -2.3460682781021096,
          0.3929592325873475,
          -0.5373545688051926,
          1.0848639191854648,
          -2.404830951322788,
          -2.9131272925253726,
          0.992641242898151,
          -2.712460600444629,
          1.2331254803630716,
          0.21935065938120635,
          -2.302880617087575,
          -2.2260966848383896,
          -2.3449093005992467,
          1.568712591809946,
          -2.5733249184586477,
          0.6216225613928502,
          0.5255640100213846,
          0.8677056355232186,
          -2.127907707704299,
          0.7232920373831443,
          -1.0808949098604739,
          -2.640786964243662,
          -2.4801483935736024,
          -1.7022346133629112,
          0.9116839427036524,
          -2.3487122130875133,
          -1.7484999026678147,
          1.984213628795754,
          -2.273829685574833,
          0.017744926385243102,
          -3.004640338101298,
          0.0763705204216588,
          1.2537972265035577,
          -2.355796465536469,
          -2.315674639693117,
          -1.2462126998246008,
          1.5058003513069018,
          -1.8373554933004512,
          -0.9723209356340029,
          -0.250599331988733,
          -2.8368546775691232,
          -2.9111220176134256,
          -1.004627263585931,
          -1.2102577329077984,
          -2.376401430759359,
          -3.0282315392673076,
          1.002591598983144,
          1.7952272947305918,
          -0.036616443602251594,
          1.329160578657654,
          -2.276270877430757,
          0.2791709374233766,
          -0.8387439566370719,
          1.550256301994452,
          -0.7886318097190405,
          -2.4146543082939846,
          1.8167377889122687,
          1.1731111872159805,
          -2.958062945826401,
          -2.336514050504306,
          -2.4963757957542727,
          0.47633299710063776,
          0.0564412870803636,
          1.3755052521447193,
          -2.974509098359579,
          -2.6062686347906827,
          -0.1849959591986699,
          -2.289800147504364,
          -0.234893053957118,
          -2.6200829656523577,
          0.5633079692390593,
          -2.381574453674637,
          0.6761876367912493,
          -0.20963594853568074,
          0.20420843606038935,
          -0.416708624890594,
          0.4484904195387315,
          -0.6453497001218119,
          -2.9753110462426204,
          -1.6616202056339566,
          1.1615021687474447,
          1.4259482953661742,
          -1.3749951595600847,
          -1.8776796795120525,
          -2.1484387093024617,
          -2.3350010275991697,
          -2.722345949072768,
          0.4124827926861521,
          -0.9469067878445467,
          -1.181126943012482,
          -2.9279746646847005,
          -2.363566999028585,
          0.6585420570288133,
          -1.1213790860976625,
          -0.7720460526642599,
          -0.1773599054723507,
          -0.056950580383972514,
          0.6939221201598768,
          0.6992028168261063,
          1.0751217884113167,
          0.39150652816378095,
          0.6869514814860302,
          0.48054511169064007,
          0.055755190562608005,
          -1.1585823112555114,
          0.1367245063525523,
          0.962365164731544,
          0.5139578719067437,
          0.706823527125642,
          1.6409698120169456,
          0.5901371924545227,
          0.6113581271951029,
          1.746560470597315,
          0.3896127905958645,
          0.6171768551156466,
          -1.5128515236748017,
          0.7993575609818996,
          0.24547482734617473,
          1.2461676731162286,
          -2.8257849004049516,
          0.132866547317265,
          1.4662375282081486,
          -2.3802498934321585,
          -2.8871665911447604,
          -2.2570293490025417,
          -2.5226849536430467,
          0.5001734932484883,
          -2.501669569539675,
          -0.13485964885593205,
          0.770665427166344,
          -2.377824855625847,
          -2.3434776477503627,
          -2.1049146221790593,
          1.1659155514283277,
          -0.9871759160716371,
          -0.33474116192999864,
          0.26167677322701044,
          -2.268144969885801,
          0.16174984001801784,
          -1.8037024432024196,
          -2.4131273039940946,
          0.7209902218680655,
          -2.7777409107176956,
          -0.719467197001466,
          -1.5649330860076858,
          0.38827992149767176,
          0.4639767488050695,
          -0.9498487858633953,
          0.16868394556760746,
          0.3606889950970221,
          -1.0196355816173681,
          -2.9853725851095123,
          1.2471883378481843,
          1.191573059968005,
          0.5112441953744441,
          -0.48232828479786394,
          -2.8177552759590134,
          1.0906739938870298,
          -2.5999587748334636,
          -2.834193889929775,
          1.5652039358084944,
          0.3942742871500628,
          -0.004669018357372187,
          0.7961338338966774,
          -0.2299011349532644,
          -2.218223918305424,
          -0.5997312003716428,
          -2.0381581931020087,
          -2.1221638027843532,
          -3.0537646389838775,
          -2.7183445587859008,
          0.32109927529630905,
          -2.915377001425477,
          -1.4375971254444628,
          -0.8535348908633228,
          -2.8308257106893073,
          1.4518243925013536,
          -0.33005061138864644,
          0.6767129743594468,
          1.4661838261573732,
          -1.6588401342945902,
          -2.979519074980003,
          -0.2778050417060197,
          -2.311682995315524,
          -2.687717508141998,
          -0.35796783995751175,
          1.2554347115182678,
          0.551447188721985,
          0.8973861076994925,
          -1.1570202392164237,
          -1.5159534670839103,
          -2.9417638914453024,
          -2.5036345101543866,
          0.8982461375508614,
          -2.7149764184186638,
          -1.3623629292374528,
          0.525088090027149,
          -2.2735450097952294,
          -3.0864370326110357,
          0.22336135850568373,
          -2.1794492584126544,
          -1.061854307930044,
          -3.0548890282298795,
          0.9830591482337928,
          -2.444256784456058,
          0.01904864855563015,
          1.7517283725960757,
          -1.8420993701851238,
          -1.3854932543473282,
          -1.342974331920509,
          -0.2196757605899431,
          -2.677997846151875,
          -0.5430859186657767,
          -0.4100021557888338,
          -2.3230493839073434,
          -2.7355103967615193,
          -2.471181207012477,
          0.9565220209052779,
          1.3288533507627651,
          -1.6887920841412178,
          -1.3058648692567372,
          -3.0282315392673076,
          1.7513222598955736,
          -1.0043031222310013,
          -0.8223381810707412,
          -2.3860112421763593,
          0.0913779969870497,
          -1.2004973320932104,
          -2.072463054597095,
          -2.6877017794114955,
          -2.086812553244341,
          -2.457335358169225,
          0.907073134398835,
          1.1565628886032935,
          -1.347850208653516,
          -0.8939538453628394,
          0.9292190357449283,
          0.5869004992820095,
          -0.3684837895893577,
          -1.1974692746846558,
          -2.9389389365539964,
          -2.1414400133998037,
          -2.886256383342721,
          -2.638543981832372,
          1.317798510722866,
          -2.445461535086669,
          1.729788130971001,
          -1.9223172966171336,
          0.10125359443768295,
          -2.4349414443794615,
          -2.9879081723347527,
          0.22045830623140475,
          -2.86985097326822,
          0.31991369041232237,
          1.8172374773736686,
          -0.09201188075043955,
          0.4155413111457808,
          1.1512414342950268,
          -2.447303145155355,
          1.0668953975305597,
          0.2914226940411956,
          1.1400968836048477,
          1.6455754424917048,
          1.0931357871028875,
          1.306045515101451,
          1.53557891292393,
          -1.6920324974550154,
          0.7987872115652557,
          1.7022093884678076,
          -2.3335079715938902,
          1.221703908776354,
          0.8765294003316456,
          0.5870218052712602,
          -2.5604985717776096,
          -2.5220022190145244,
          1.8002633865907942,
          -2.1350924986071793,
          -2.2952543600640616,
          -2.921367004809183,
          0.14968141019221354,
          -2.6027800669798915,
          -0.8124281301543074,
          -0.2837354979105224,
          1.6680854765167148,
          -2.747355303152433,
          -1.1752385387985074,
          0.932032023974087,
          -0.9135184370620203,
          -2.9202337910282044,
          0.2320489584397078,
          -2.1006918382011355,
          0.47825170652573507,
          -2.7961187197804755,
          0.9269331767692873,
          0.9985350033848742,
          -2.321235051722124,
          -1.8234481059319774,
          -0.23502132252725597,
          -2.0417221036053967,
          -2.8603786445617443,
          -1.424081166802526,
          -2.794210807071539,
          1.5308866400938885,
          0.49037123970207697,
          0.12876374534809315,
          -1.0444437035230612,
          -2.8233344201207844,
          0.2962343258846135,
          -2.334850417127544,
          -2.1028362890695655,
          0.32982352327183057,
          -2.9655392048441755,
          -0.9460502980182015,
          -2.297384863790508,
          -2.2874202334067144,
          -2.753944765064339,
          -1.4794390404768365,
          0.9391339144132661,
          -1.8234583272730203,
          0.6844478305100584,
          0.5568419744300536,
          -2.3121717017486936,
          0.953150321456813,
          -1.4227942234227011,
          1.247531276181771,
          0.06652996491594942,
          0.8896686596097745,
          0.07743354188411382,
          -1.2666987066484885,
          0.3035868685152564,
          0.656836518199033,
          -2.2696470947300407,
          0.7663216777657414,
          -2.7278385817501345,
          -1.1564170900178834,
          -0.6338392707414101,
          -2.893937171826317,
          -2.984502149834357,
          -2.8500651975873006,
          1.7883010320988766,
          -2.851719060195004,
          -2.41725257400116,
          1.5076096075935626,
          -2.5823177445406817,
          1.5584142652121857,
          -2.857928820653689,
          1.6324375611126007,
          -2.2486344140536367,
          -2.5679936448067644,
          1.3563343140355357,
          -0.3437773376912915,
          -2.345918839606287,
          -1.196818211861751,
          -0.9838625039228468,
          -2.8823083093665067,
          -1.5861288337095336,
          1.5034340973562466,
          -2.1481792981728973,
          -2.2240335667805886,
          -2.4486047357113185,
          -2.313233447837193,
          -0.5517503561154269,
          -1.3986574418797797,
          -2.279073751184305,
          -0.6291733430566157,
          -2.7581897750383266,
          -0.004646037278076634,
          1.0036198041563478,
          -0.24937596362677242,
          -0.7356856743242016,
          -2.0672955559779735,
          -2.3814150576354636,
          1.5900599982033032,
          1.8244886802856002,
          0.6404052191235925,
          0.9131420608038637,
          1.3596992411288753,
          -0.5450293927460754,
          -2.293995814466393,
          -0.7549748226045835,
          -3.0402641420516354,
          -1.692364219422787,
          0.7675413320074185,
          -1.1281684063980342,
          0.7473898541240074,
          -1.2792879148873737,
          1.7338552203621305,
          -2.2935754898792604,
          0.11374660118523794,
          1.1858326374427652,
          0.6374039646777102,
          0.8904969752802161,
          -0.27748244314004944,
          -2.1028362890695655,
          -2.583603276104189,
          1.6007699255471426,
          0.6970285224001245,
          -2.477112591275952,
          1.7637908065690704,
          -2.9762874306431617,
          -2.3275026891560078,
          -2.2426079213257917,
          -2.5618339255516367,
          0.6970285224001245,
          -2.711090521274716,
          -2.731668512161132,
          1.3714843555127227,
          -2.2257636502798133,
          -1.5499443982390597,
          0.8973861076994925,
          -1.7078737904466796,
          -1.658083612443989,
          -2.385294428122144,
          -2.4146543082939846,
          -1.8762847074529643,
          -0.011821235139333834,
          -2.4072382295879957,
          -2.294299726630953,
          0.6321859977179787,
          -0.9540437986401485,
          -2.4231363623095414,
          -1.1853225581951683,
          0.40946472722198923,
          -1.2692299305219714,
          0.5526015002561658,
          -2.9040318183898757,
          -2.4231531162491873,
          -1.163565811282985,
          -2.5292790336572732,
          -0.08922924120413281,
          1.453217851246234,
          -2.6365918139635034,
          1.3674366144986723,
          -2.0353835745590505,
          0.6745921889904521,
          0.3767564680401833,
          -0.27604629353249016,
          1.7125886256496632,
          -2.7393743777854658,
          -2.3306238989702197,
          -0.6509776945225068,
          -2.3511534049434375,
          -2.8163904711095267,
          0.09765011368582509,
          -2.1073686728291077,
          0.1118011151253781,
          0.9799430919314807,
          -2.499237994520905,
          0.44812885064750063,
          -1.2383277859290314,
          -1.8294379838162589,
          -0.10575916117456491,
          0.6888145256470593,
          1.6632772661910367,
          -2.6826457960129657,
          1.4698354938128975,
          0.572270397834165,
          -1.686645104917106,
          0.9195309222928582,
          -2.7314120568216103,
          -2.2602377061836867,
          -2.36023128567218,
          1.3972515270505304,
          0.31190377767326943,
          -0.1854644972645344,
          -0.26322942448084863,
          0.7130307572601907,
          1.5269214913639173,
          0.910734579850208,
          1.0126116853433509,
          -1.6554741286476045,
          -2.2206651101613484,
          -1.3196174359316626,
          -1.5168268452490405,
          -0.27130143198617557,
          -3.0150061302986026,
          0.986368673815652,
          -1.6716344902850615,
          -2.4473746816614432,
          -2.6579745566044375,
          0.5809124936986586,
          -0.34016411457399537,
          -2.268144969885801,
          -2.6013675465910184,
          0.14810946862972968,
          -2.3241566937086726,
          -2.8381733354878547,
          -2.330970475192484,
          -2.167632529276072,
          -2.3495472640063837,
          -0.13554597538567245,
          -2.470875784929,
          -0.3276506015394051,
          -2.345918839606287,
          -1.3294083242869554,
          -2.0950071555368246,
          0.9971142509732381,
          -2.6848074051616186,
          -1.6735405132087122,
          -0.7167691211229442,
          -0.4482566059650453,
          1.5597862071248543,
          0.34573806788002254,
          0.7834616097356,
          -0.025529162663624524,
          -0.20814905543728812,
          -0.266455585073675,
          0.9763807515779375,
          -2.1470546291106305,
          -0.2921111372212543,
          -2.2602377061836867,
          -2.839762019929859,
          1.0876374954423773,
          0.22135042324442578,
          -2.3434776477503627,
          -2.418687758130328,
          -0.6416429544614968,
          -0.1335639210221727,
          1.2898500430505444
         ]
        }
       ],
       "layout": {
        "coloraxis": {
         "colorbar": {
          "title": {
           "text": "Predicted Proba"
          }
         },
         "colorscale": [
          [
           0,
           "rgb(52, 55, 54)"
          ],
          [
           0.0027620143782778024,
           "rgb(74, 99, 138)"
          ],
          [
           0.005838438694027894,
           "rgb(116, 153, 214)"
          ],
          [
           0.038011537434033564,
           "rgb(162, 188, 213)"
          ],
          [
           0.10844463541894948,
           "rgb(212, 234, 242)"
          ],
          [
           0.17610057542733523,
           "rgb(235, 216, 134)"
          ],
          [
           0.32426016550431147,
           "rgb(255, 204, 83)"
          ],
          [
           0.4765096109199821,
           "rgb(244, 192, 0)"
          ],
          [
           0.6096815373127558,
           "rgb(255, 166, 17)"
          ],
          [
           0.7442898101737669,
           "rgb(255, 123, 38)"
          ],
          [
           1,
           "rgb(255, 77, 7)"
          ]
         ]
        },
        "height": 600,
        "hovermode": "closest",
        "template": {
         "data": {
          "scatter": [
           {
            "type": "scatter"
           }
          ]
         }
        },
        "title": {
         "font": {
          "color": "rgb(50, 50, 50)",
          "family": "Arial",
          "size": 24
         },
         "text": "<b>age</b> - Feature Contribution<br><sup>Response: <b>1</b></sup>",
         "x": 0.5,
         "xanchor": "center",
         "y": 0.9,
         "yanchor": "middle"
        },
        "width": 900,
        "xaxis": {
         "automargin": true,
         "title": {
          "font": {
           "color": "rgb(50, 50, 50)",
           "family": "Arial Black",
           "size": 16
          },
          "text": "age"
         }
        },
        "yaxis": {
         "automargin": true,
         "title": {
          "font": {
           "color": "rgb(50, 50, 50)",
           "family": "Arial Black",
           "size": 16
          },
          "text": "Contribution"
         }
        }
       }
      },
      "text/html": [
       "<div>                            <div id=\"758068bf-23dc-4964-9fbc-2751d24011ec\" class=\"plotly-graph-div\" style=\"height:600px; width:900px;\"></div>            <script type=\"text/javascript\">                require([\"plotly\"], function(Plotly) {                    window.PLOTLYENV=window.PLOTLYENV || {};                                    if (document.getElementById(\"758068bf-23dc-4964-9fbc-2751d24011ec\")) {                    Plotly.newPlot(                        \"758068bf-23dc-4964-9fbc-2751d24011ec\",                        [{\"hovertemplate\":\"<b>%{hovertext}</b><br />age: %{customdata[0]}<br />Contribution: %{y:.4f}<extra></extra>\",\"hovertext\":[\"Id: 4688\",\"Id: 4478\",\"Id: 3849\",\"Id: 4355\",\"Id: 3826\",\"Id: 3951\",\"Id: 3396\",\"Id: 465\",\"Id: 410\",\"Id: 1632\",\"Id: 2859\",\"Id: 1370\",\"Id: 1360\",\"Id: 807\",\"Id: 315\",\"Id: 79\",\"Id: 586\",\"Id: 2892\",\"Id: 3857\",\"Id: 2348\",\"Id: 3161\",\"Id: 1305\",\"Id: 3338\",\"Id: 538\",\"Id: 3121\",\"Id: 1662\",\"Id: 4585\",\"Id: 1417\",\"Id: 2570\",\"Id: 1405\",\"Id: 1864\",\"Id: 4035\",\"Id: 3733\",\"Id: 1672\",\"Id: 1375\",\"Id: 4694\",\"Id: 2846\",\"Id: 711\",\"Id: 296\",\"Id: 3151\",\"Id: 1344\",\"Id: 1261\",\"Id: 2970\",\"Id: 670\",\"Id: 4953\",\"Id: 4678\",\"Id: 1831\",\"Id: 3784\",\"Id: 1244\",\"Id: 4878\",\"Id: 926\",\"Id: 4510\",\"Id: 33\",\"Id: 3809\",\"Id: 4955\",\"Id: 848\",\"Id: 1505\",\"Id: 23\",\"Id: 3279\",\"Id: 691\",\"Id: 1557\",\"Id: 4483\",\"Id: 1480\",\"Id: 969\",\"Id: 3109\",\"Id: 3999\",\"Id: 952\",\"Id: 3483\",\"Id: 254\",\"Id: 5105\",\"Id: 2845\",\"Id: 2915\",\"Id: 626\",\"Id: 1721\",\"Id: 1094\",\"Id: 1345\",\"Id: 2478\",\"Id: 4635\",\"Id: 3123\",\"Id: 4777\",\"Id: 4463\",\"Id: 4228\",\"Id: 2908\",\"Id: 2988\",\"Id: 468\",\"Id: 2276\",\"Id: 3757\",\"Id: 4938\",\"Id: 2718\",\"Id: 4232\",\"Id: 3822\",\"Id: 1295\",\"Id: 1971\",\"Id: 4710\",\"Id: 2344\",\"Id: 1038\",\"Id: 65\",\"Id: 3783\",\"Id: 842\",\"Id: 2422\",\"Id: 4411\",\"Id: 4224\",\"Id: 4133\",\"Id: 2741\",\"Id: 4738\",\"Id: 3094\",\"Id: 3690\",\"Id: 3447\",\"Id: 4125\",\"Id: 3406\",\"Id: 763\",\"Id: 4479\",\"Id: 4353\",\"Id: 505\",\"Id: 4102\",\"Id: 84\",\"Id: 1224\",\"Id: 1966\",\"Id: 4112\",\"Id: 1487\",\"Id: 831\",\"Id: 1723\",\"Id: 3076\",\"Id: 3573\",\"Id: 724\",\"Id: 3825\",\"Id: 2841\",\"Id: 3859\",\"Id: 106\",\"Id: 2153\",\"Id: 1413\",\"Id: 2174\",\"Id: 1338\",\"Id: 1534\",\"Id: 8\",\"Id: 333\",\"Id: 3035\",\"Id: 4685\",\"Id: 1926\",\"Id: 1626\",\"Id: 705\",\"Id: 3555\",\"Id: 4679\",\"Id: 3773\",\"Id: 3541\",\"Id: 1001\",\"Id: 4176\",\"Id: 1128\",\"Id: 179\",\"Id: 1074\",\"Id: 486\",\"Id: 2341\",\"Id: 1769\",\"Id: 157\",\"Id: 3979\",\"Id: 2420\",\"Id: 4880\",\"Id: 4274\",\"Id: 4656\",\"Id: 29\",\"Id: 2319\",\"Id: 3038\",\"Id: 553\",\"Id: 4765\",\"Id: 3264\",\"Id: 731\",\"Id: 4213\",\"Id: 3351\",\"Id: 373\",\"Id: 2722\",\"Id: 2299\",\"Id: 1902\",\"Id: 2822\",\"Id: 2305\",\"Id: 151\",\"Id: 683\",\"Id: 3377\",\"Id: 2642\",\"Id: 2473\",\"Id: 4163\",\"Id: 393\",\"Id: 2394\",\"Id: 1095\",\"Id: 497\",\"Id: 3893\",\"Id: 4211\",\"Id: 877\",\"Id: 3074\",\"Id: 1181\",\"Id: 4892\",\"Id: 4546\",\"Id: 4307\",\"Id: 168\",\"Id: 4986\",\"Id: 1740\",\"Id: 1860\",\"Id: 3271\",\"Id: 2078\",\"Id: 1718\",\"Id: 787\",\"Id: 977\",\"Id: 4526\",\"Id: 1720\",\"Id: 227\",\"Id: 3247\",\"Id: 3820\",\"Id: 1220\",\"Id: 2172\",\"Id: 746\",\"Id: 3921\",\"Id: 2788\",\"Id: 3114\",\"Id: 915\",\"Id: 199\",\"Id: 279\",\"Id: 2972\",\"Id: 1988\",\"Id: 828\",\"Id: 1073\",\"Id: 856\",\"Id: 2581\",\"Id: 4148\",\"Id: 3209\",\"Id: 584\",\"Id: 1503\",\"Id: 4942\",\"Id: 1849\",\"Id: 3437\",\"Id: 2413\",\"Id: 239\",\"Id: 577\",\"Id: 4375\",\"Id: 2527\",\"Id: 4101\",\"Id: 4908\",\"Id: 3919\",\"Id: 642\",\"Id: 3879\",\"Id: 3493\",\"Id: 2498\",\"Id: 764\",\"Id: 3116\",\"Id: 228\",\"Id: 240\",\"Id: 80\",\"Id: 5027\",\"Id: 1730\",\"Id: 4350\",\"Id: 4246\",\"Id: 4508\",\"Id: 422\",\"Id: 2182\",\"Id: 5019\",\"Id: 1149\",\"Id: 561\",\"Id: 3182\",\"Id: 2387\",\"Id: 1872\",\"Id: 1456\",\"Id: 248\",\"Id: 1697\",\"Id: 810\",\"Id: 2025\",\"Id: 2313\",\"Id: 3442\",\"Id: 1010\",\"Id: 1034\",\"Id: 2535\",\"Id: 2534\",\"Id: 1144\",\"Id: 4356\",\"Id: 1117\",\"Id: 1029\",\"Id: 2218\",\"Id: 2220\",\"Id: 3292\",\"Id: 88\",\"Id: 3089\",\"Id: 2746\",\"Id: 4370\",\"Id: 4230\",\"Id: 1912\",\"Id: 4210\",\"Id: 1892\",\"Id: 4490\",\"Id: 4306\",\"Id: 144\",\"Id: 429\",\"Id: 4473\",\"Id: 931\",\"Id: 2974\",\"Id: 2309\",\"Id: 2607\",\"Id: 742\",\"Id: 3479\",\"Id: 4528\",\"Id: 2829\",\"Id: 1371\",\"Id: 4789\",\"Id: 3034\",\"Id: 4346\",\"Id: 2124\",\"Id: 2405\",\"Id: 100\",\"Id: 4717\",\"Id: 2312\",\"Id: 472\",\"Id: 3313\",\"Id: 4080\",\"Id: 4757\",\"Id: 471\",\"Id: 4764\",\"Id: 3455\",\"Id: 2594\",\"Id: 3100\",\"Id: 3698\",\"Id: 530\",\"Id: 4304\",\"Id: 4144\",\"Id: 5050\",\"Id: 1499\",\"Id: 1932\",\"Id: 2943\",\"Id: 1438\",\"Id: 1941\",\"Id: 1770\",\"Id: 1351\",\"Id: 4666\",\"Id: 1192\",\"Id: 4155\",\"Id: 4005\",\"Id: 2921\",\"Id: 5100\",\"Id: 2686\",\"Id: 1412\",\"Id: 297\",\"Id: 4970\",\"Id: 3742\",\"Id: 1483\",\"Id: 2086\",\"Id: 994\",\"Id: 230\",\"Id: 3075\",\"Id: 4054\",\"Id: 2819\",\"Id: 4876\",\"Id: 1578\",\"Id: 1756\",\"Id: 4796\",\"Id: 1942\",\"Id: 776\",\"Id: 721\",\"Id: 555\",\"Id: 907\",\"Id: 2311\",\"Id: 4767\",\"Id: 2518\",\"Id: 3282\",\"Id: 1745\",\"Id: 1175\",\"Id: 4384\",\"Id: 2615\",\"Id: 1504\",\"Id: 677\",\"Id: 485\",\"Id: 864\",\"Id: 2584\",\"Id: 4020\",\"Id: 589\",\"Id: 1786\",\"Id: 879\",\"Id: 3887\",\"Id: 5106\",\"Id: 2654\",\"Id: 1002\",\"Id: 149\",\"Id: 3752\",\"Id: 751\",\"Id: 2173\",\"Id: 4690\",\"Id: 2465\",\"Id: 812\",\"Id: 4229\",\"Id: 3802\",\"Id: 2117\",\"Id: 12\",\"Id: 93\",\"Id: 3414\",\"Id: 1612\",\"Id: 2536\",\"Id: 3872\",\"Id: 4019\",\"Id: 2191\",\"Id: 3873\",\"Id: 4152\",\"Id: 2968\",\"Id: 3488\",\"Id: 3011\",\"Id: 911\",\"Id: 838\",\"Id: 1397\",\"Id: 3163\",\"Id: 2080\",\"Id: 2673\",\"Id: 1545\",\"Id: 805\",\"Id: 4114\",\"Id: 416\",\"Id: 2114\",\"Id: 4310\",\"Id: 3410\",\"Id: 1564\",\"Id: 4709\",\"Id: 1992\",\"Id: 3539\",\"Id: 1041\",\"Id: 4358\",\"Id: 4273\",\"Id: 4684\",\"Id: 3012\",\"Id: 3870\",\"Id: 132\",\"Id: 1946\",\"Id: 3429\",\"Id: 3808\",\"Id: 1330\",\"Id: 4817\",\"Id: 2750\",\"Id: 4797\",\"Id: 5026\",\"Id: 1477\",\"Id: 1451\",\"Id: 287\",\"Id: 889\",\"Id: 3277\",\"Id: 1717\",\"Id: 491\",\"Id: 2307\",\"Id: 3246\",\"Id: 2367\",\"Id: 2610\",\"Id: 1052\",\"Id: 1954\",\"Id: 5046\",\"Id: 4718\",\"Id: 1593\",\"Id: 4830\",\"Id: 3649\",\"Id: 4612\",\"Id: 4664\",\"Id: 2702\",\"Id: 109\",\"Id: 4974\",\"Id: 1129\",\"Id: 1808\",\"Id: 4844\",\"Id: 3185\",\"Id: 4828\",\"Id: 3985\",\"Id: 426\",\"Id: 2583\",\"Id: 4059\",\"Id: 4996\",\"Id: 3937\",\"Id: 2339\",\"Id: 3751\",\"Id: 3764\",\"Id: 2389\",\"Id: 2021\",\"Id: 734\",\"Id: 1592\",\"Id: 3168\",\"Id: 3635\",\"Id: 3891\",\"Id: 1049\",\"Id: 5096\",\"Id: 624\",\"Id: 3550\",\"Id: 2942\",\"Id: 811\",\"Id: 2177\",\"Id: 544\",\"Id: 1103\",\"Id: 1746\",\"Id: 4778\",\"Id: 1618\",\"Id: 2754\",\"Id: 1235\",\"Id: 1569\",\"Id: 1209\",\"Id: 414\",\"Id: 3935\",\"Id: 3398\",\"Id: 3309\",\"Id: 4700\",\"Id: 1197\",\"Id: 501\",\"Id: 437\",\"Id: 653\",\"Id: 2095\",\"Id: 3727\",\"Id: 4316\",\"Id: 800\",\"Id: 290\",\"Id: 2623\",\"Id: 1340\",\"Id: 252\",\"Id: 1833\",\"Id: 3411\",\"Id: 350\",\"Id: 3413\",\"Id: 346\",\"Id: 4296\",\"Id: 1614\",\"Id: 457\",\"Id: 2801\",\"Id: 90\",\"Id: 3728\",\"Id: 3197\",\"Id: 26\",\"Id: 181\",\"Id: 4643\",\"Id: 1669\",\"Id: 2187\",\"Id: 2091\",\"Id: 2837\",\"Id: 2457\",\"Id: 4899\",\"Id: 2222\",\"Id: 2622\",\"Id: 4408\",\"Id: 2630\",\"Id: 4751\",\"Id: 1057\",\"Id: 1210\",\"Id: 69\",\"Id: 5107\",\"Id: 5020\",\"Id: 3010\",\"Id: 203\",\"Id: 4783\",\"Id: 3815\",\"Id: 4425\",\"Id: 387\",\"Id: 4541\",\"Id: 4725\",\"Id: 2629\",\"Id: 2291\",\"Id: 798\",\"Id: 2683\",\"Id: 221\",\"Id: 4459\",\"Id: 3963\",\"Id: 657\",\"Id: 3821\",\"Id: 2784\",\"Id: 4773\",\"Id: 4320\",\"Id: 2364\",\"Id: 4634\",\"Id: 177\",\"Id: 1020\",\"Id: 655\",\"Id: 1536\",\"Id: 1751\",\"Id: 5074\",\"Id: 4376\",\"Id: 3133\",\"Id: 1406\",\"Id: 5086\",\"Id: 3392\",\"Id: 1437\",\"Id: 3331\",\"Id: 1361\",\"Id: 681\",\"Id: 1055\",\"Id: 803\",\"Id: 3055\",\"Id: 4098\",\"Id: 4092\",\"Id: 1876\",\"Id: 2767\",\"Id: 2238\",\"Id: 2201\",\"Id: 219\",\"Id: 4503\",\"Id: 4675\",\"Id: 582\",\"Id: 2329\",\"Id: 1255\",\"Id: 43\",\"Id: 210\",\"Id: 1595\",\"Id: 354\",\"Id: 1231\",\"Id: 599\",\"Id: 3379\",\"Id: 2559\",\"Id: 367\",\"Id: 4237\",\"Id: 3903\",\"Id: 1650\",\"Id: 135\",\"Id: 2533\",\"Id: 47\",\"Id: 1818\",\"Id: 3425\",\"Id: 2119\",\"Id: 1835\",\"Id: 2890\",\"Id: 2168\",\"Id: 1934\",\"Id: 61\",\"Id: 2088\",\"Id: 3103\",\"Id: 95\",\"Id: 478\",\"Id: 1839\",\"Id: 2688\",\"Id: 2418\",\"Id: 4946\",\"Id: 3781\",\"Id: 2949\",\"Id: 2072\",\"Id: 4836\",\"Id: 322\",\"Id: 3787\",\"Id: 4444\",\"Id: 4277\",\"Id: 3062\",\"Id: 3435\",\"Id: 2226\",\"Id: 1454\",\"Id: 1242\",\"Id: 996\",\"Id: 291\",\"Id: 2521\",\"Id: 3565\",\"Id: 533\",\"Id: 4471\",\"Id: 3624\",\"Id: 2451\",\"Id: 3352\",\"Id: 2662\",\"Id: 4321\",\"Id: 3964\",\"Id: 4214\",\"Id: 428\",\"Id: 1084\",\"Id: 5084\",\"Id: 4566\",\"Id: 765\",\"Id: 3204\",\"Id: 4728\",\"Id: 1907\",\"Id: 2497\",\"Id: 4734\",\"Id: 3084\",\"Id: 4693\",\"Id: 4662\",\"Id: 2018\",\"Id: 3830\",\"Id: 4626\",\"Id: 5029\",\"Id: 4308\",\"Id: 3048\",\"Id: 1436\",\"Id: 4607\",\"Id: 2663\",\"Id: 5093\",\"Id: 1420\",\"Id: 3303\",\"Id: 2346\",\"Id: 1945\",\"Id: 4110\",\"Id: 2024\",\"Id: 1526\",\"Id: 2098\",\"Id: 3193\",\"Id: 1813\",\"Id: 4078\",\"Id: 2317\",\"Id: 70\",\"Id: 1032\",\"Id: 4319\",\"Id: 2232\",\"Id: 3543\",\"Id: 3403\",\"Id: 1168\",\"Id: 1183\",\"Id: 964\",\"Id: 1173\",\"Id: 4732\",\"Id: 3482\",\"Id: 4856\",\"Id: 1623\",\"Id: 2059\",\"Id: 3702\",\"Id: 3799\",\"Id: 3939\",\"Id: 1392\",\"Id: 1888\",\"Id: 2700\",\"Id: 733\",\"Id: 1741\",\"Id: 2649\",\"Id: 2569\",\"Id: 4731\",\"Id: 2034\",\"Id: 2487\",\"Id: 2543\",\"Id: 381\",\"Id: 1978\",\"Id: 1699\",\"Id: 1321\",\"Id: 2406\",\"Id: 4543\",\"Id: 4794\",\"Id: 2516\",\"Id: 3778\",\"Id: 2867\",\"Id: 233\",\"Id: 1972\",\"Id: 4807\",\"Id: 4667\",\"Id: 5034\",\"Id: 633\",\"Id: 3077\",\"Id: 415\",\"Id: 3153\",\"Id: 1921\",\"Id: 3592\",\"Id: 1090\",\"Id: 1583\",\"Id: 4950\",\"Id: 881\",\"Id: 17\",\"Id: 3839\",\"Id: 1832\",\"Id: 1840\",\"Id: 3720\",\"Id: 596\",\"Id: 1670\",\"Id: 2254\",\"Id: 2142\",\"Id: 1629\",\"Id: 1822\",\"Id: 5075\",\"Id: 371\",\"Id: 1448\",\"Id: 1909\",\"Id: 652\",\"Id: 598\",\"Id: 676\",\"Id: 238\",\"Id: 4347\",\"Id: 2517\",\"Id: 3794\",\"Id: 3831\",\"Id: 3878\",\"Id: 75\",\"Id: 1425\",\"Id: 2948\",\"Id: 3639\",\"Id: 3263\",\"Id: 5071\",\"Id: 5002\",\"Id: 1566\",\"Id: 2985\",\"Id: 1647\",\"Id: 1126\",\"Id: 4349\",\"Id: 2194\",\"Id: 4716\",\"Id: 96\",\"Id: 3408\",\"Id: 3667\",\"Id: 5030\",\"Id: 621\",\"Id: 4961\",\"Id: 3814\",\"Id: 566\",\"Id: 1755\",\"Id: 2714\",\"Id: 748\",\"Id: 4460\",\"Id: 51\",\"Id: 5077\",\"Id: 3013\",\"Id: 1335\",\"Id: 2251\",\"Id: 534\",\"Id: 745\",\"Id: 5079\",\"Id: 3528\",\"Id: 443\",\"Id: 4987\",\"Id: 195\",\"Id: 4826\",\"Id: 893\",\"Id: 1788\",\"Id: 3044\",\"Id: 3904\",\"Id: 3026\",\"Id: 3438\",\"Id: 2685\",\"Id: 3070\",\"Id: 4264\",\"Id: 644\",\"Id: 3755\",\"Id: 3697\",\"Id: 1726\",\"Id: 4501\",\"Id: 120\",\"Id: 1204\",\"Id: 2131\",\"Id: 1253\",\"Id: 4997\",\"Id: 5024\",\"Id: 2351\",\"Id: 134\",\"Id: 2580\",\"Id: 4827\",\"Id: 2011\",\"Id: 3678\",\"Id: 184\",\"Id: 2895\",\"Id: 1780\",\"Id: 511\",\"Id: 4165\",\"Id: 62\",\"Id: 4406\",\"Id: 2802\",\"Id: 4427\",\"Id: 3268\",\"Id: 2053\",\"Id: 251\",\"Id: 625\",\"Id: 1550\",\"Id: 1514\",\"Id: 3895\",\"Id: 3837\",\"Id: 122\",\"Id: 3654\",\"Id: 3518\",\"Id: 2029\",\"Id: 2575\",\"Id: 5085\",\"Id: 567\",\"Id: 2818\",\"Id: 3349\",\"Id: 693\",\"Id: 3686\",\"Id: 1606\",\"Id: 4649\",\"Id: 1293\",\"Id: 2656\",\"Id: 4976\",\"Id: 2807\",\"Id: 720\",\"Id: 4863\",\"Id: 2133\",\"Id: 1789\",\"Id: 1432\",\"Id: 3911\",\"Id: 602\",\"Id: 1281\",\"Id: 1468\",\"Id: 2005\",\"Id: 2266\",\"Id: 3630\",\"Id: 318\",\"Id: 2228\",\"Id: 2834\",\"Id: 274\",\"Id: 2002\",\"Id: 549\",\"Id: 1374\",\"Id: 944\",\"Id: 5001\",\"Id: 4417\",\"Id: 605\",\"Id: 3909\",\"Id: 527\",\"Id: 4825\",\"Id: 2462\",\"Id: 2528\",\"Id: 829\",\"Id: 4481\",\"Id: 4933\",\"Id: 1957\",\"Id: 1815\",\"Id: 298\",\"Id: 68\",\"Id: 4377\",\"Id: 1961\",\"Id: 3758\",\"Id: 3912\",\"Id: 4198\",\"Id: 3014\",\"Id: 4124\",\"Id: 150\",\"Id: 756\",\"Id: 1554\",\"Id: 4423\",\"Id: 3694\",\"Id: 1322\",\"Id: 4620\",\"Id: 1268\",\"Id: 3150\",\"Id: 376\",\"Id: 1096\",\"Id: 1782\",\"Id: 859\",\"Id: 3097\",\"Id: 2987\",\"Id: 2015\",\"Id: 378\",\"Id: 3960\",\"Id: 3305\",\"Id: 3651\",\"Id: 2111\",\"Id: 1434\",\"Id: 2042\",\"Id: 5015\",\"Id: 3172\",\"Id: 1419\",\"Id: 2215\",\"Id: 2384\",\"Id: 4050\",\"Id: 794\",\"Id: 4262\",\"Id: 841\",\"Id: 4724\",\"Id: 2877\",\"Id: 175\",\"Id: 3434\",\"Id: 2876\",\"Id: 927\",\"Id: 2407\",\"Id: 45\",\"Id: 3248\",\"Id: 4439\",\"Id: 4969\",\"Id: 4398\",\"Id: 896\",\"Id: 2373\",\"Id: 3295\",\"Id: 2022\",\"Id: 1879\",\"Id: 2240\",\"Id: 3906\",\"Id: 3258\",\"Id: 1702\",\"Id: 2592\",\"Id: 283\",\"Id: 4823\",\"Id: 1779\",\"Id: 3456\",\"Id: 5007\",\"Id: 5070\",\"Id: 3689\",\"Id: 4247\",\"Id: 4645\",\"Id: 3941\",\"Id: 2576\",\"Id: 2596\",\"Id: 3101\",\"Id: 2678\",\"Id: 1891\",\"Id: 2826\",\"Id: 4683\",\"Id: 4284\",\"Id: 1101\",\"Id: 1047\",\"Id: 4660\",\"Id: 2813\",\"Id: 2492\",\"Id: 3053\",\"Id: 99\",\"Id: 2157\",\"Id: 1421\",\"Id: 2644\",\"Id: 2614\",\"Id: 351\",\"Id: 4030\",\"Id: 3187\",\"Id: 1025\",\"Id: 4025\",\"Id: 718\",\"Id: 2835\",\"Id: 2856\",\"Id: 4487\",\"Id: 2648\",\"Id: 308\",\"Id: 3126\",\"Id: 833\",\"Id: 366\",\"Id: 1784\",\"Id: 3469\",\"Id: 4603\",\"Id: 4640\",\"Id: 2664\",\"Id: 949\",\"Id: 1200\",\"Id: 3154\",\"Id: 19\",\"Id: 2100\",\"Id: 4966\",\"Id: 668\",\"Id: 218\",\"Id: 3137\",\"Id: 438\",\"Id: 3786\",\"Id: 1212\",\"Id: 3669\",\"Id: 3454\",\"Id: 3605\",\"Id: 4934\",\"Id: 4835\",\"Id: 4105\",\"Id: 2902\"],\"mode\":\"markers\",\"x\":[31.0,40.0,8.0,79.0,75.0,79.0,56.0,69.0,7.0,1.48,37.0,3.0,60.0,51.0,57.0,43.0,42.0,10.0,26.0,3.0,42.0,44.0,6.0,16.0,23.0,52.0,9.0,41.0,72.0,12.0,56.0,42.0,39.0,28.0,17.0,1.16,63.0,37.0,66.0,56.0,47.0,43.0,22.0,82.0,46.0,66.0,9.0,63.0,1.24,16.0,19.0,2.0,80.0,5.0,38.0,53.0,46.0,82.0,27.0,52.0,47.0,78.0,71.0,19.0,43.0,31.0,20.0,13.0,47.0,80.0,5.0,23.0,52.0,43.0,23.0,47.0,7.0,67.0,52.0,79.0,54.0,68.0,69.0,44.0,38.0,17.0,54.0,62.0,70.0,5.0,32.0,60.0,78.0,23.0,21.0,51.0,78.0,78.0,23.0,65.0,57.0,50.0,4.0,36.0,71.0,12.0,60.0,1.88,69.0,24.0,20.0,40.0,52.0,52.0,62.0,58.0,65.0,40.0,36.0,60.0,52.0,57.0,32.0,5.0,70.0,52.0,57.0,0.32,50.0,54.0,69.0,58.0,17.0,38.0,59.0,52.0,33.0,65.0,50.0,33.0,49.0,9.0,47.0,38.0,24.0,35.0,51.0,52.0,81.0,8.0,20.0,82.0,82.0,57.0,67.0,58.0,65.0,36.0,21.0,59.0,68.0,19.0,55.0,76.0,61.0,50.0,24.0,77.0,23.0,61.0,28.0,21.0,50.0,1.08,68.0,2.0,51.0,67.0,54.0,52.0,38.0,19.0,18.0,14.0,50.0,81.0,3.0,47.0,32.0,54.0,1.8,47.0,79.0,58.0,38.0,63.0,36.0,74.0,59.0,31.0,7.0,60.0,31.0,74.0,53.0,61.0,20.0,73.0,31.0,7.0,14.0,42.0,32.0,74.0,27.0,4.0,37.0,65.0,38.0,2.0,35.0,18.0,67.0,5.0,61.0,38.0,8.0,32.0,58.0,60.0,51.0,81.0,78.0,61.0,69.0,64.0,61.0,35.0,46.0,15.0,31.0,26.0,39.0,66.0,59.0,26.0,69.0,66.0,12.0,12.0,63.0,71.0,29.0,45.0,67.0,72.0,19.0,56.0,62.0,78.0,50.0,55.0,54.0,18.0,32.0,55.0,75.0,23.0,45.0,55.0,39.0,69.0,82.0,57.0,50.0,18.0,47.0,38.0,65.0,13.0,17.0,67.0,15.0,37.0,19.0,22.0,72.0,53.0,63.0,40.0,62.0,50.0,21.0,9.0,53.0,51.0,43.0,2.0,39.0,22.0,29.0,67.0,60.0,64.0,19.0,76.0,43.0,1.48,34.0,34.0,18.0,3.0,75.0,44.0,53.0,31.0,72.0,61.0,54.0,5.0,1.24,36.0,27.0,47.0,42.0,50.0,64.0,70.0,20.0,53.0,38.0,8.0,82.0,54.0,82.0,58.0,30.0,71.0,2.0,41.0,50.0,81.0,77.0,41.0,13.0,47.0,52.0,48.0,73.0,10.0,30.0,28.0,55.0,39.0,1.16,44.0,54.0,9.0,39.0,35.0,32.0,28.0,42.0,48.0,31.0,65.0,80.0,9.0,57.0,75.0,71.0,20.0,81.0,52.0,80.0,70.0,57.0,58.0,67.0,5.0,26.0,39.0,27.0,61.0,21.0,54.0,80.0,13.0,15.0,21.0,32.0,13.0,9.0,23.0,55.0,59.0,11.0,60.0,69.0,40.0,53.0,24.0,26.0,81.0,23.0,31.0,26.0,3.0,29.0,45.0,38.0,25.0,15.0,64.0,11.0,30.0,26.0,31.0,78.0,49.0,12.0,69.0,58.0,62.0,37.0,37.0,51.0,59.0,48.0,38.0,39.0,79.0,55.0,62.0,32.0,53.0,60.0,49.0,25.0,35.0,69.0,61.0,52.0,44.0,41.0,31.0,22.0,75.0,30.0,32.0,42.0,53.0,78.0,33.0,0.64,4.0,22.0,32.0,49.0,56.0,75.0,24.0,40.0,7.0,43.0,36.0,55.0,3.0,55.0,30.0,57.0,56.0,40.0,77.0,31.0,57.0,65.0,35.0,19.0,41.0,5.0,42.0,59.0,24.0,53.0,56.0,56.0,35.0,54.0,37.0,12.0,50.0,29.0,36.0,47.0,14.0,60.0,2.0,79.0,68.0,54.0,30.0,66.0,13.0,65.0,47.0,70.0,14.0,26.0,79.0,18.0,68.0,64.0,0.08,33.0,0.8,79.0,14.0,60.0,65.0,59.0,33.0,58.0,40.0,11.0,27.0,3.0,65.0,2.0,42.0,81.0,0.8,51.0,34.0,58.0,80.0,35.0,5.0,45.0,78.0,9.0,45.0,54.0,24.0,33.0,46.0,45.0,12.0,25.0,69.0,79.0,49.0,75.0,4.0,64.0,48.0,73.0,44.0,7.0,77.0,78.0,20.0,28.0,13.0,65.0,52.0,76.0,16.0,12.0,51.0,0.24,53.0,5.0,59.0,16.0,57.0,52.0,62.0,51.0,55.0,47.0,27.0,40.0,69.0,73.0,39.0,8.0,26.0,1.8,22.0,63.0,39.0,46.0,32.0,3.0,59.0,41.0,46.0,57.0,63.0,66.0,57.0,71.0,60.0,58.0,60.0,53.0,42.0,52.0,65.0,55.0,57.0,80.0,57.0,66.0,78.0,66.0,82.0,39.0,82.0,55.0,69.0,26.0,63.0,73.0,22.0,18.0,28.0,2.0,56.0,1.48,52.0,62.0,15.0,0.24,4.0,73.0,40.0,51.0,56.0,8.0,57.0,38.0,20.0,65.0,13.0,47.0,40.0,62.0,67.0,43.0,56.0,66.0,41.0,26.0,81.0,78.0,55.0,48.0,14.0,69.0,32.0,33.0,72.0,67.0,62.0,67.0,47.0,2.0,45.0,37.0,37.0,14.0,33.0,66.0,32.0,42.0,43.0,33.0,78.0,51.0,57.0,76.0,8.0,17.0,48.0,5.0,23.0,48.0,73.0,66.0,59.0,45.0,38.0,20.0,15.0,64.0,31.0,40.0,67.0,2.0,32.0,59.0,6.0,39.0,18.0,59.0,23.0,56.0,78.0,13.0,39.0,42.0,47.0,30.0,51.0,49.0,8.0,31.0,19.0,68.0,77.0,39.0,36.0,24.0,79.0,42.0,45.0,33.0,55.0,44.0,34.0,30.0,37.0,17.0,59.0,75.0,45.0,45.0,64.0,64.0,53.0,45.0,16.0,23.0,28.0,25.0,70.0,18.0,78.0,39.0,56.0,15.0,26.0,51.0,30.0,55.0,78.0,55.0,67.0,80.0,17.0,68.0,51.0,75.0,81.0,68.0,76.0,76.0,6.0,61.0,73.0,1.72,82.0,70.0,63.0,28.0,21.0,80.0,2.0,34.0,27.0,65.0,17.0,46.0,51.0,78.0,17.0,45.0,75.0,49.0,20.0,56.0,1.72,61.0,20.0,64.0,59.0,31.0,4.0,48.0,10.0,29.0,40.0,16.0,80.0,57.0,65.0,43.0,22.0,59.0,16.0,7.0,58.0,33.0,39.0,11.0,8.0,33.0,41.0,68.0,39.0,57.0,59.0,5.0,61.0,46.0,81.0,51.0,71.0,67.0,45.0,57.0,61.0,2.0,64.0,8.0,40.0,50.0,35.0,30.0,23.0,80.0,32.0,21.0,72.0,27.0,72.0,25.0,80.0,37.0,13.0,80.0,51.0,8.0,46.0,46.0,18.0,41.0,81.0,18.0,18.0,13.0,1.0,47.0,39.0,8.0,48.0,35.0,56.0,58.0,48.0,48.0,20.0,25.0,80.0,77.0,58.0,69.0,70.0,48.0,5.0,49.0,30.0,14.0,60.0,42.0,61.0,43.0,81.0,1.56,61.0,69.0,59.0,58.0,53.0,8.0,37.0,81.0,55.0,25.0,79.0,18.0,22.0,11.0,28.0,55.0,32.0,20.0,73.0,0.88,41.0,59.0,43.0,1.32,15.0,11.0,14.0,52.0,25.0,7.0,57.0,45.0,8.0,44.0,57.0,43.0,67.0,29.0,26.0,42.0,12.0,53.0,81.0,32.0,72.0,14.0,82.0,64.0,53.0,76.0,35.0,11.0,46.0,4.0,27.0,62.0,0.08,57.0,68.0,1.0,56.0,42.0,3.0,53.0,58.0,79.0,32.0,72.0,59.0,5.0,75.0,23.0,0.48,32.0,78.0,59.0,49.0,48.0,63.0,78.0,68.0,69.0,1.64,5.0,38.0,43.0,48.0,29.0,69.0,6.0,9.0,18.0,58.0,47.0,9.0,24.0,53.0,5.0,22.0,34.0,14.0,17.0,52.0,30.0,54.0,5.0,43.0,37.0,69.0,31.0,1.32,47.0,47.0,76.0,65.0,57.0,52.0,54.0,48.0,76.0,10.0,53.0,1.8,23.0,71.0,62.0,1.88,1.32,49.0,56.0,78.0],\"y\":[-1.7611701128047694,-1.1601922849661594,-1.7650300176904794,1.2819837510098524,1.2672348176425392,1.5025120442433277,0.37817771616294427,1.1877560493626687,-1.7578681028699434,-1.4710837712488465,-2.0538274920126,-2.0317340107897146,0.33199182878659045,-0.1041696008046867,0.43978068438357815,-1.546269601970712,-1.4594680986549293,-2.2756847018601882,-2.777608901721845,-2.4537906483119674,-1.7651476593423734,-1.0932595127679425,-2.1066640021780527,-3.0403364410532574,-2.8692825948058895,-0.07771793830610296,-2.144137645144586,-1.0212891473900672,1.18001521307679,-2.4699574814613894,0.3409661281277948,-1.4590408930916576,-0.9154165343962881,-3.0018338820408523,-2.668034334432582,-2.2263291242786543,0.9771598310522849,-2.261973181174917,0.7425306625141815,0.3165177413484547,-0.7072648327056741,-1.1938407400114763,-2.7401040606795566,0.5836999588104841,-1.0275580047707478,0.4714810754922296,-1.9536984019060246,0.5947359235251277,-1.738213535133324,-2.542027104932,-2.8524104950569917,-2.5233495025912043,1.2379538280711109,-2.049505699054816,-2.0101026792656356,0.11815683660236502,-0.9504252576331541,0.9792981029230932,-2.9762874306431617,-0.29568193388952346,-0.7391867548741701,1.6523371170327383,0.9840931925599817,-2.3764438894611515,-1.3884784310918996,-2.371992118315842,-2.385003739165458,-1.7779617419423661,-0.24735692463932107,1.5913877049266154,-2.262678898039611,-2.441278468914386,-0.08414713265748791,-1.0505063353261206,-2.396684562342972,-0.5339120427916297,-2.305321808943499,0.6309634872786585,-0.11784023956756867,1.7887135661995544,-0.23920666234318164,0.9705269466634295,1.2109993476018193,-0.9529912746807517,-1.9339042311626111,-2.3463963317426666,-0.1665134882248164,0.10348747698011851,1.0841765223323114,-2.165901685909377,-2.9336381198541672,0.6594988261557415,1.5162035002317682,-2.364901905669722,-2.4709863679623085,-0.184513543815423,1.731511494277709,1.7213059215443374,-2.5057280511746174,0.7922463282379517,0.694877759468046,-0.22165852531503732,-2.315674639693117,-2.6915615639084045,0.8529398391320794,-2.5496070208804626,0.004266143631339972,-2.2696470947300407,1.3117128239497353,-2.8903586523314146,-2.410313941070491,-1.6659570912677613,-0.18885942594106273,-0.18157755794574199,0.7658223031845299,0.636432758267331,0.5966767626775226,-1.5101190793421893,-1.9428876685215133,0.9118110972370259,-0.2445223207056616,0.8164351950995233,-2.3862566804754706,-2.2449917171904787,0.9555618202743242,0.0051780702102588476,0.4695512152320536,-2.273243510004264,-0.1426449153568737,0.07224806744330163,1.0632636853183568,0.5373880585044007,-3.0619994573917646,-2.180124136017761,0.31617293623115095,-0.1129515167908968,-2.61111529183828,0.5717408094018727,-0.26453391958981043,-2.7616760125291213,-0.40479612063855647,-2.2756847018601882,-0.5740317865358169,-1.9580724870550092,-2.723277788970048,-2.9069190632491884,-0.24720511886598878,-0.0787011751787466,1.863551960382829,-2.3230493839073434,-2.749457731113948,0.8260379034881672,0.6466660829843164,0.8227024800996836,0.372377647967037,0.17791079093322507,0.2985815782026139,-2.262262300597546,-2.8374436985906453,0.8837884994547471,1.1662725067006472,-2.7893638157115577,-0.07481424977375042,1.385194436459889,0.18619912186711765,-0.7202538651192507,-3.0119324848862044,1.8297239910258825,-2.8754104669834906,0.4159609823939008,-3.000524090071048,-2.234431848764998,-0.13818776124074555,-2.3522875590684573,1.2810398948280526,-2.0289557247302357,-0.07521097325547027,0.2666599201171192,0.0346461811731749,0.11501112987295048,-1.610777920023349,-2.72050614872556,-2.743631350324283,-2.499170579561204,-0.5562809577909308,1.2866875118083,-1.946256972237208,-0.3083859463361098,-2.4621311697408306,-0.22550488988063155,-2.2596774185735677,-0.6277246642645063,1.7195995236446473,0.8520568929528509,-1.8876579834180796,0.6969686184064076,-2.284468749096944,1.6359948969615818,0.989297059444146,-2.9166546079770166,-2.41033956444561,0.5603167265680807,-1.886222224064838,1.0484615206695929,-0.22567842026976956,0.6790863321164269,-2.9769519795913193,1.6011293355189775,-2.8714219092823963,-2.305321808943499,-2.825855440569368,-1.5773947266967345,-2.9017149401291724,1.13305203816608,-2.2976420964111397,-2.633720629753546,-2.601222012266442,0.5147643360973624,-2.0859772188683556,-1.7015947682354213,-2.8032328071014834,-2.834021077616808,0.27211835476283824,-2.3702815411837377,0.7214659693749584,-1.7899232495797635,-1.69850624950459,-2.783974135531537,0.623912679790988,0.7544891076582256,0.22935848188944374,1.5185921037551042,1.6236755877644367,0.5150138606227338,0.963039813822996,0.16428731025404353,0.8736942085491473,-2.837520717922943,-0.816465685218598,-2.4542163208580194,-2.9722337831704153,-2.78937954444206,-1.1554006479164813,0.3052094117575178,0.726928141414258,-2.4989291279679824,1.048154803190169,0.6204143783768915,-2.458414640433315,-2.498152125201443,0.6958447115147425,0.8671700257586356,-2.8111266407725037,-0.7871207849284488,0.8145592483548791,1.5327477252340351,-2.3407948335658446,-0.00536581356618475,0.5273439017861818,1.6124455456969642,-0.8390603272697902,0.2569440844073847,0.1257675375457758,-2.3447265245335243,-2.753619895897357,0.2881176143538402,1.3732290946952324,-2.799473023080651,-0.7897991260543755,-0.07117592525142555,-1.7021855869034643,1.0163146522146325,0.9368532554220106,0.6004411737016245,-0.675893617455385,-2.6990747329175515,-0.7053824744596545,-1.8336283019425992,0.6067032543059477,-2.448193600407841,-2.9828287638289823,0.4445866873761449,-2.516283287071818,-2.834708201324499,-2.527928337784237,-2.556727360087767,1.3079744069855952,-0.2924106192192578,0.04071782261754022,-1.456833894760784,0.5549512263214625,-0.12302490930343417,-2.9287062559956496,-2.2697256063345477,-0.0620970045493435,-0.40515391882228613,-1.4437266158538287,-2.3092418034596,-1.1239028388184658,-2.3927214713534606,-2.4071573490301703,0.6887313256722686,0.36610195132016604,0.5774341437440945,-2.377894299467697,1.5628426648862515,-0.9471062006954595,-1.5121875526652624,-2.922648148753177,-2.3441014198391317,-2.4368007732042716,-1.7650967631291763,1.2381798225893512,-0.9873284846719382,-0.2649326153474778,-2.9145015444276896,1.289170462608944,0.5439643397871836,-0.2732458097799035,-2.3225245324983113,-2.5031502453746435,-2.62865622057486,-2.609909389364354,-0.6985219634344199,-0.8326056761287136,-0.29817337806104277,0.37774485499172855,0.9261168482253176,-2.3983770702541984,-0.10982849822905866,-1.8766804703031912,-2.518681758082607,0.7268732335105509,-0.24778916592785535,0.8082348930712043,0.2856282987866169,-2.83653614093385,0.9887068735319209,-2.44967377310579,-1.2980754865155628,-0.4346966574462456,1.4139580500952709,1.1795071184821622,-1.5831080694435444,-1.765052739166482,-0.4603689605001213,-0.34441857415989785,-0.3961461697334594,1.3536644652155052,-2.508814383663712,-3.012981426169335,-2.8490688822288446,0.4333770458245881,-1.8508304330048482,-1.6752068372651474,-0.9075860863162211,-0.05283755534505236,-2.6273654055683706,-1.5494721051062825,-2.6771795641556153,-2.8545030837891816,-2.3787583540953845,-1.3384875517781012,-0.33765518030667985,-2.8373647482224236,0.6069429856241875,1.8384048754566629,-2.103005604317914,0.3899255230813382,1.0883352437517841,0.8787321004401664,-2.8357130127192174,1.4164221854921502,-0.022593721320824618,1.5571795210082882,1.2046941989593212,0.5561752652026121,0.5924452062354408,0.4686972981757223,-2.196595120011631,-2.8751802294288513,-1.026277379054888,-2.416871969756224,0.7196577565330108,-2.5376092173954743,0.07126634433765798,1.2780010616434392,-2.8233344201207844,-2.0598796576981484,-2.776655891748883,-2.1299850490285066,-1.8357823887316262,-1.704175817157798,-2.640386463454918,0.14645984469062112,0.5775255542788521,-2.6229777781951347,0.460529757983088,1.1479396865815716,-1.6892865244399977,0.027545061037003514,-2.5367980021549927,-2.9769519795913193,1.5571725585289027,-3.061334908443606,-2.9166546079770166,-2.234431848764998,-1.711097458806067,-2.565161367985192,-0.9072527557213459,-2.043634071518454,-2.457335358169225,-2.8233344201207844,0.8042710343806824,-2.1155017427893905,-2.9145353596753867,-2.5667236573717367,-2.397566261898237,1.319178332551736,-0.1276239763983713,-2.3460682781021096,1.249450244773441,0.25726470528674394,0.5187127520262932,-2.123878809306081,-2.7396403262400093,-0.38918440030991974,0.26888336234110094,-0.5464511624904885,-1.922252871403826,-1.3758541873439851,1.4959655530004294,-0.055504449876564506,0.21359550923074144,-2.648771800253766,0.05693628020639391,0.5017523571421162,-0.6318640218655672,-3.018555752093953,-2.414560780575523,1.2988285886033506,0.3722177044009115,-0.134794478785694,-1.3158064325958085,-1.3344100254648033,-2.542169970060971,-2.4589862034067185,1.1779971437106709,-2.973467574000352,-2.3532396819447072,-1.2664719695842275,-0.0729136043644486,1.8211979178011077,-2.856061746507619,-1.6787275954329137,-1.7163442078797149,-2.906259033589622,-2.6133349917671937,-0.7781953012701703,0.623107988574531,1.2247426744370693,-2.51068656493818,-1.393384871096632,-2.2619655057273143,-1.2493535347721068,-2.7313941860916824,0.1964363722465961,-2.302880617087575,0.381583272236951,-2.6082416463475893,0.3951098176794606,0.23354011657129745,-0.8646564247722769,1.1604496770216777,-2.4052433711058003,0.5684938144008684,0.4931918801786809,-2.856484877453235,-2.787325899003896,-1.4174050330168402,-2.293995814466393,-1.702703233937596,0.3042735742254374,-2.6492542681903855,-0.3285592351827931,0.003827003711146171,-0.004563319685685211,-2.908422326046638,-0.13138838943104594,-2.284468749096944,-2.407149404211771,-0.5672762014826401,-2.4075379532751064,-1.8641317364253116,-0.7577556429055684,-2.85484887063414,0.29151849697661675,-2.2425505253345546,1.8068699244019886,1.0336832937678888,-0.16175195419923272,-2.8349901845047847,0.6196251323738057,-2.3460682781021096,0.3929592325873475,-0.5373545688051926,1.0848639191854648,-2.404830951322788,-2.9131272925253726,0.992641242898151,-2.712460600444629,1.2331254803630716,0.21935065938120635,-2.302880617087575,-2.2260966848383896,-2.3449093005992467,1.568712591809946,-2.5733249184586477,0.6216225613928502,0.5255640100213846,0.8677056355232186,-2.127907707704299,0.7232920373831443,-1.0808949098604739,-2.640786964243662,-2.4801483935736024,-1.7022346133629112,0.9116839427036524,-2.3487122130875133,-1.7484999026678147,1.984213628795754,-2.273829685574833,0.017744926385243102,-3.004640338101298,0.0763705204216588,1.2537972265035577,-2.355796465536469,-2.315674639693117,-1.2462126998246008,1.5058003513069018,-1.8373554933004512,-0.9723209356340029,-0.250599331988733,-2.8368546775691232,-2.9111220176134256,-1.004627263585931,-1.2102577329077984,-2.376401430759359,-3.0282315392673076,1.002591598983144,1.7952272947305918,-0.036616443602251594,1.329160578657654,-2.276270877430757,0.2791709374233766,-0.8387439566370719,1.550256301994452,-0.7886318097190405,-2.4146543082939846,1.8167377889122687,1.1731111872159805,-2.958062945826401,-2.336514050504306,-2.4963757957542727,0.47633299710063776,0.0564412870803636,1.3755052521447193,-2.974509098359579,-2.6062686347906827,-0.1849959591986699,-2.289800147504364,-0.234893053957118,-2.6200829656523577,0.5633079692390593,-2.381574453674637,0.6761876367912493,-0.20963594853568074,0.20420843606038935,-0.416708624890594,0.4484904195387315,-0.6453497001218119,-2.9753110462426204,-1.6616202056339566,1.1615021687474447,1.4259482953661742,-1.3749951595600847,-1.8776796795120525,-2.1484387093024617,-2.3350010275991697,-2.722345949072768,0.4124827926861521,-0.9469067878445467,-1.181126943012482,-2.9279746646847005,-2.363566999028585,0.6585420570288133,-1.1213790860976625,-0.7720460526642599,-0.1773599054723507,-0.056950580383972514,0.6939221201598768,0.6992028168261063,1.0751217884113167,0.39150652816378095,0.6869514814860302,0.48054511169064007,0.055755190562608005,-1.1585823112555114,0.1367245063525523,0.962365164731544,0.5139578719067437,0.706823527125642,1.6409698120169456,0.5901371924545227,0.6113581271951029,1.746560470597315,0.3896127905958645,0.6171768551156466,-1.5128515236748017,0.7993575609818996,0.24547482734617473,1.2461676731162286,-2.8257849004049516,0.132866547317265,1.4662375282081486,-2.3802498934321585,-2.8871665911447604,-2.2570293490025417,-2.5226849536430467,0.5001734932484883,-2.501669569539675,-0.13485964885593205,0.770665427166344,-2.377824855625847,-2.3434776477503627,-2.1049146221790593,1.1659155514283277,-0.9871759160716371,-0.33474116192999864,0.26167677322701044,-2.268144969885801,0.16174984001801784,-1.8037024432024196,-2.4131273039940946,0.7209902218680655,-2.7777409107176956,-0.719467197001466,-1.5649330860076858,0.38827992149767176,0.4639767488050695,-0.9498487858633953,0.16868394556760746,0.3606889950970221,-1.0196355816173681,-2.9853725851095123,1.2471883378481843,1.191573059968005,0.5112441953744441,-0.48232828479786394,-2.8177552759590134,1.0906739938870298,-2.5999587748334636,-2.834193889929775,1.5652039358084944,0.3942742871500628,-0.004669018357372187,0.7961338338966774,-0.2299011349532644,-2.218223918305424,-0.5997312003716428,-2.0381581931020087,-2.1221638027843532,-3.0537646389838775,-2.7183445587859008,0.32109927529630905,-2.915377001425477,-1.4375971254444628,-0.8535348908633228,-2.8308257106893073,1.4518243925013536,-0.33005061138864644,0.6767129743594468,1.4661838261573732,-1.6588401342945902,-2.979519074980003,-0.2778050417060197,-2.311682995315524,-2.687717508141998,-0.35796783995751175,1.2554347115182678,0.551447188721985,0.8973861076994925,-1.1570202392164237,-1.5159534670839103,-2.9417638914453024,-2.5036345101543866,0.8982461375508614,-2.7149764184186638,-1.3623629292374528,0.525088090027149,-2.2735450097952294,-3.0864370326110357,0.22336135850568373,-2.1794492584126544,-1.061854307930044,-3.0548890282298795,0.9830591482337928,-2.444256784456058,0.01904864855563015,1.7517283725960757,-1.8420993701851238,-1.3854932543473282,-1.342974331920509,-0.2196757605899431,-2.677997846151875,-0.5430859186657767,-0.4100021557888338,-2.3230493839073434,-2.7355103967615193,-2.471181207012477,0.9565220209052779,1.3288533507627651,-1.6887920841412178,-1.3058648692567372,-3.0282315392673076,1.7513222598955736,-1.0043031222310013,-0.8223381810707412,-2.3860112421763593,0.0913779969870497,-1.2004973320932104,-2.072463054597095,-2.6877017794114955,-2.086812553244341,-2.457335358169225,0.907073134398835,1.1565628886032935,-1.347850208653516,-0.8939538453628394,0.9292190357449283,0.5869004992820095,-0.3684837895893577,-1.1974692746846558,-2.9389389365539964,-2.1414400133998037,-2.886256383342721,-2.638543981832372,1.317798510722866,-2.445461535086669,1.729788130971001,-1.9223172966171336,0.10125359443768295,-2.4349414443794615,-2.9879081723347527,0.22045830623140475,-2.86985097326822,0.31991369041232237,1.8172374773736686,-0.09201188075043955,0.4155413111457808,1.1512414342950268,-2.447303145155355,1.0668953975305597,0.2914226940411956,1.1400968836048477,1.6455754424917048,1.0931357871028875,1.306045515101451,1.53557891292393,-1.6920324974550154,0.7987872115652557,1.7022093884678076,-2.3335079715938902,1.221703908776354,0.8765294003316456,0.5870218052712602,-2.5604985717776096,-2.5220022190145244,1.8002633865907942,-2.1350924986071793,-2.2952543600640616,-2.921367004809183,0.14968141019221354,-2.6027800669798915,-0.8124281301543074,-0.2837354979105224,1.6680854765167148,-2.747355303152433,-1.1752385387985074,0.932032023974087,-0.9135184370620203,-2.9202337910282044,0.2320489584397078,-2.1006918382011355,0.47825170652573507,-2.7961187197804755,0.9269331767692873,0.9985350033848742,-2.321235051722124,-1.8234481059319774,-0.23502132252725597,-2.0417221036053967,-2.8603786445617443,-1.424081166802526,-2.794210807071539,1.5308866400938885,0.49037123970207697,0.12876374534809315,-1.0444437035230612,-2.8233344201207844,0.2962343258846135,-2.334850417127544,-2.1028362890695655,0.32982352327183057,-2.9655392048441755,-0.9460502980182015,-2.297384863790508,-2.2874202334067144,-2.753944765064339,-1.4794390404768365,0.9391339144132661,-1.8234583272730203,0.6844478305100584,0.5568419744300536,-2.3121717017486936,0.953150321456813,-1.4227942234227011,1.247531276181771,0.06652996491594942,0.8896686596097745,0.07743354188411382,-1.2666987066484885,0.3035868685152564,0.656836518199033,-2.2696470947300407,0.7663216777657414,-2.7278385817501345,-1.1564170900178834,-0.6338392707414101,-2.893937171826317,-2.984502149834357,-2.8500651975873006,1.7883010320988766,-2.851719060195004,-2.41725257400116,1.5076096075935626,-2.5823177445406817,1.5584142652121857,-2.857928820653689,1.6324375611126007,-2.2486344140536367,-2.5679936448067644,1.3563343140355357,-0.3437773376912915,-2.345918839606287,-1.196818211861751,-0.9838625039228468,-2.8823083093665067,-1.5861288337095336,1.5034340973562466,-2.1481792981728973,-2.2240335667805886,-2.4486047357113185,-2.313233447837193,-0.5517503561154269,-1.3986574418797797,-2.279073751184305,-0.6291733430566157,-2.7581897750383266,-0.004646037278076634,1.0036198041563478,-0.24937596362677242,-0.7356856743242016,-2.0672955559779735,-2.3814150576354636,1.5900599982033032,1.8244886802856002,0.6404052191235925,0.9131420608038637,1.3596992411288753,-0.5450293927460754,-2.293995814466393,-0.7549748226045835,-3.0402641420516354,-1.692364219422787,0.7675413320074185,-1.1281684063980342,0.7473898541240074,-1.2792879148873737,1.7338552203621305,-2.2935754898792604,0.11374660118523794,1.1858326374427652,0.6374039646777102,0.8904969752802161,-0.27748244314004944,-2.1028362890695655,-2.583603276104189,1.6007699255471426,0.6970285224001245,-2.477112591275952,1.7637908065690704,-2.9762874306431617,-2.3275026891560078,-2.2426079213257917,-2.5618339255516367,0.6970285224001245,-2.711090521274716,-2.731668512161132,1.3714843555127227,-2.2257636502798133,-1.5499443982390597,0.8973861076994925,-1.7078737904466796,-1.658083612443989,-2.385294428122144,-2.4146543082939846,-1.8762847074529643,-0.011821235139333834,-2.4072382295879957,-2.294299726630953,0.6321859977179787,-0.9540437986401485,-2.4231363623095414,-1.1853225581951683,0.40946472722198923,-1.2692299305219714,0.5526015002561658,-2.9040318183898757,-2.4231531162491873,-1.163565811282985,-2.5292790336572732,-0.08922924120413281,1.453217851246234,-2.6365918139635034,1.3674366144986723,-2.0353835745590505,0.6745921889904521,0.3767564680401833,-0.27604629353249016,1.7125886256496632,-2.7393743777854658,-2.3306238989702197,-0.6509776945225068,-2.3511534049434375,-2.8163904711095267,0.09765011368582509,-2.1073686728291077,0.1118011151253781,0.9799430919314807,-2.499237994520905,0.44812885064750063,-1.2383277859290314,-1.8294379838162589,-0.10575916117456491,0.6888145256470593,1.6632772661910367,-2.6826457960129657,1.4698354938128975,0.572270397834165,-1.686645104917106,0.9195309222928582,-2.7314120568216103,-2.2602377061836867,-2.36023128567218,1.3972515270505304,0.31190377767326943,-0.1854644972645344,-0.26322942448084863,0.7130307572601907,1.5269214913639173,0.910734579850208,1.0126116853433509,-1.6554741286476045,-2.2206651101613484,-1.3196174359316626,-1.5168268452490405,-0.27130143198617557,-3.0150061302986026,0.986368673815652,-1.6716344902850615,-2.4473746816614432,-2.6579745566044375,0.5809124936986586,-0.34016411457399537,-2.268144969885801,-2.6013675465910184,0.14810946862972968,-2.3241566937086726,-2.8381733354878547,-2.330970475192484,-2.167632529276072,-2.3495472640063837,-0.13554597538567245,-2.470875784929,-0.3276506015394051,-2.345918839606287,-1.3294083242869554,-2.0950071555368246,0.9971142509732381,-2.6848074051616186,-1.6735405132087122,-0.7167691211229442,-0.4482566059650453,1.5597862071248543,0.34573806788002254,0.7834616097356,-0.025529162663624524,-0.20814905543728812,-0.266455585073675,0.9763807515779375,-2.1470546291106305,-0.2921111372212543,-2.2602377061836867,-2.839762019929859,1.0876374954423773,0.22135042324442578,-2.3434776477503627,-2.418687758130328,-0.6416429544614968,-0.1335639210221727,1.2898500430505444],\"type\":\"scatter\",\"customdata\":[[31.0,4688.0],[40.0,4478.0],[8.0,3849.0],[79.0,4355.0],[75.0,3826.0],[79.0,3951.0],[56.0,3396.0],[69.0,465.0],[7.0,410.0],[1.48,1632.0],[37.0,2859.0],[3.0,1370.0],[60.0,1360.0],[51.0,807.0],[57.0,315.0],[43.0,79.0],[42.0,586.0],[10.0,2892.0],[26.0,3857.0],[3.0,2348.0],[42.0,3161.0],[44.0,1305.0],[6.0,3338.0],[16.0,538.0],[23.0,3121.0],[52.0,1662.0],[9.0,4585.0],[41.0,1417.0],[72.0,2570.0],[12.0,1405.0],[56.0,1864.0],[42.0,4035.0],[39.0,3733.0],[28.0,1672.0],[17.0,1375.0],[1.16,4694.0],[63.0,2846.0],[37.0,711.0],[66.0,296.0],[56.0,3151.0],[47.0,1344.0],[43.0,1261.0],[22.0,2970.0],[82.0,670.0],[46.0,4953.0],[66.0,4678.0],[9.0,1831.0],[63.0,3784.0],[1.24,1244.0],[16.0,4878.0],[19.0,926.0],[2.0,4510.0],[80.0,33.0],[5.0,3809.0],[38.0,4955.0],[53.0,848.0],[46.0,1505.0],[82.0,23.0],[27.0,3279.0],[52.0,691.0],[47.0,1557.0],[78.0,4483.0],[71.0,1480.0],[19.0,969.0],[43.0,3109.0],[31.0,3999.0],[20.0,952.0],[13.0,3483.0],[47.0,254.0],[80.0,5105.0],[5.0,2845.0],[23.0,2915.0],[52.0,626.0],[43.0,1721.0],[23.0,1094.0],[47.0,1345.0],[7.0,2478.0],[67.0,4635.0],[52.0,3123.0],[79.0,4777.0],[54.0,4463.0],[68.0,4228.0],[69.0,2908.0],[44.0,2988.0],[38.0,468.0],[17.0,2276.0],[54.0,3757.0],[62.0,4938.0],[70.0,2718.0],[5.0,4232.0],[32.0,3822.0],[60.0,1295.0],[78.0,1971.0],[23.0,4710.0],[21.0,2344.0],[51.0,1038.0],[78.0,65.0],[78.0,3783.0],[23.0,842.0],[65.0,2422.0],[57.0,4411.0],[50.0,4224.0],[4.0,4133.0],[36.0,2741.0],[71.0,4738.0],[12.0,3094.0],[60.0,3690.0],[1.88,3447.0],[69.0,4125.0],[24.0,3406.0],[20.0,763.0],[40.0,4479.0],[52.0,4353.0],[52.0,505.0],[62.0,4102.0],[58.0,84.0],[65.0,1224.0],[40.0,1966.0],[36.0,4112.0],[60.0,1487.0],[52.0,831.0],[57.0,1723.0],[32.0,3076.0],[5.0,3573.0],[70.0,724.0],[52.0,3825.0],[57.0,2841.0],[0.32,3859.0],[50.0,106.0],[54.0,2153.0],[69.0,1413.0],[58.0,2174.0],[17.0,1338.0],[38.0,1534.0],[59.0,8.0],[52.0,333.0],[33.0,3035.0],[65.0,4685.0],[50.0,1926.0],[33.0,1626.0],[49.0,705.0],[9.0,3555.0],[47.0,4679.0],[38.0,3773.0],[24.0,3541.0],[35.0,1001.0],[51.0,4176.0],[52.0,1128.0],[81.0,179.0],[8.0,1074.0],[20.0,486.0],[82.0,2341.0],[82.0,1769.0],[57.0,157.0],[67.0,3979.0],[58.0,2420.0],[65.0,4880.0],[36.0,4274.0],[21.0,4656.0],[59.0,29.0],[68.0,2319.0],[19.0,3038.0],[55.0,553.0],[76.0,4765.0],[61.0,3264.0],[50.0,731.0],[24.0,4213.0],[77.0,3351.0],[23.0,373.0],[61.0,2722.0],[28.0,2299.0],[21.0,1902.0],[50.0,2822.0],[1.08,2305.0],[68.0,151.0],[2.0,683.0],[51.0,3377.0],[67.0,2642.0],[54.0,2473.0],[52.0,4163.0],[38.0,393.0],[19.0,2394.0],[18.0,1095.0],[14.0,497.0],[50.0,3893.0],[81.0,4211.0],[3.0,877.0],[47.0,3074.0],[32.0,1181.0],[54.0,4892.0],[1.8,4546.0],[47.0,4307.0],[79.0,168.0],[58.0,4986.0],[38.0,1740.0],[63.0,1860.0],[36.0,3271.0],[74.0,2078.0],[59.0,1718.0],[31.0,787.0],[7.0,977.0],[60.0,4526.0],[31.0,1720.0],[74.0,227.0],[53.0,3247.0],[61.0,3820.0],[20.0,1220.0],[73.0,2172.0],[31.0,746.0],[7.0,3921.0],[14.0,2788.0],[42.0,3114.0],[32.0,915.0],[74.0,199.0],[27.0,279.0],[4.0,2972.0],[37.0,1988.0],[65.0,828.0],[38.0,1073.0],[2.0,856.0],[35.0,2581.0],[18.0,4148.0],[67.0,3209.0],[5.0,584.0],[61.0,1503.0],[38.0,4942.0],[8.0,1849.0],[32.0,3437.0],[58.0,2413.0],[60.0,239.0],[51.0,577.0],[81.0,4375.0],[78.0,2527.0],[61.0,4101.0],[69.0,4908.0],[64.0,3919.0],[61.0,642.0],[35.0,3879.0],[46.0,3493.0],[15.0,2498.0],[31.0,764.0],[26.0,3116.0],[39.0,228.0],[66.0,240.0],[59.0,80.0],[26.0,5027.0],[69.0,1730.0],[66.0,4350.0],[12.0,4246.0],[12.0,4508.0],[63.0,422.0],[71.0,2182.0],[29.0,5019.0],[45.0,1149.0],[67.0,561.0],[72.0,3182.0],[19.0,2387.0],[56.0,1872.0],[62.0,1456.0],[78.0,248.0],[50.0,1697.0],[55.0,810.0],[54.0,2025.0],[18.0,2313.0],[32.0,3442.0],[55.0,1010.0],[75.0,1034.0],[23.0,2535.0],[45.0,2534.0],[55.0,1144.0],[39.0,4356.0],[69.0,1117.0],[82.0,1029.0],[57.0,2218.0],[50.0,2220.0],[18.0,3292.0],[47.0,88.0],[38.0,3089.0],[65.0,2746.0],[13.0,4370.0],[17.0,4230.0],[67.0,1912.0],[15.0,4210.0],[37.0,1892.0],[19.0,4490.0],[22.0,4306.0],[72.0,144.0],[53.0,429.0],[63.0,4473.0],[40.0,931.0],[62.0,2974.0],[50.0,2309.0],[21.0,2607.0],[9.0,742.0],[53.0,3479.0],[51.0,4528.0],[43.0,2829.0],[2.0,1371.0],[39.0,4789.0],[22.0,3034.0],[29.0,4346.0],[67.0,2124.0],[60.0,2405.0],[64.0,100.0],[19.0,4717.0],[76.0,2312.0],[43.0,472.0],[1.48,3313.0],[34.0,4080.0],[34.0,4757.0],[18.0,471.0],[3.0,4764.0],[75.0,3455.0],[44.0,2594.0],[53.0,3100.0],[31.0,3698.0],[72.0,530.0],[61.0,4304.0],[54.0,4144.0],[5.0,5050.0],[1.24,1499.0],[36.0,1932.0],[27.0,2943.0],[47.0,1438.0],[42.0,1941.0],[50.0,1770.0],[64.0,1351.0],[70.0,4666.0],[20.0,1192.0],[53.0,4155.0],[38.0,4005.0],[8.0,2921.0],[82.0,5100.0],[54.0,2686.0],[82.0,1412.0],[58.0,297.0],[30.0,4970.0],[71.0,3742.0],[2.0,1483.0],[41.0,2086.0],[50.0,994.0],[81.0,230.0],[77.0,3075.0],[41.0,4054.0],[13.0,2819.0],[47.0,4876.0],[52.0,1578.0],[48.0,1756.0],[73.0,4796.0],[10.0,1942.0],[30.0,776.0],[28.0,721.0],[55.0,555.0],[39.0,907.0],[1.16,2311.0],[44.0,4767.0],[54.0,2518.0],[9.0,3282.0],[39.0,1745.0],[35.0,1175.0],[32.0,4384.0],[28.0,2615.0],[42.0,1504.0],[48.0,677.0],[31.0,485.0],[65.0,864.0],[80.0,2584.0],[9.0,4020.0],[57.0,589.0],[75.0,1786.0],[71.0,879.0],[20.0,3887.0],[81.0,5106.0],[52.0,2654.0],[80.0,1002.0],[70.0,149.0],[57.0,3752.0],[58.0,751.0],[67.0,2173.0],[5.0,4690.0],[26.0,2465.0],[39.0,812.0],[27.0,4229.0],[61.0,3802.0],[21.0,2117.0],[54.0,12.0],[80.0,93.0],[13.0,3414.0],[15.0,1612.0],[21.0,2536.0],[32.0,3872.0],[13.0,4019.0],[9.0,2191.0],[23.0,3873.0],[55.0,4152.0],[59.0,2968.0],[11.0,3488.0],[60.0,3011.0],[69.0,911.0],[40.0,838.0],[53.0,1397.0],[24.0,3163.0],[26.0,2080.0],[81.0,2673.0],[23.0,1545.0],[31.0,805.0],[26.0,4114.0],[3.0,416.0],[29.0,2114.0],[45.0,4310.0],[38.0,3410.0],[25.0,1564.0],[15.0,4709.0],[64.0,1992.0],[11.0,3539.0],[30.0,1041.0],[26.0,4358.0],[31.0,4273.0],[78.0,4684.0],[49.0,3012.0],[12.0,3870.0],[69.0,132.0],[58.0,1946.0],[62.0,3429.0],[37.0,3808.0],[37.0,1330.0],[51.0,4817.0],[59.0,2750.0],[48.0,4797.0],[38.0,5026.0],[39.0,1477.0],[79.0,1451.0],[55.0,287.0],[62.0,889.0],[32.0,3277.0],[53.0,1717.0],[60.0,491.0],[49.0,2307.0],[25.0,3246.0],[35.0,2367.0],[69.0,2610.0],[61.0,1052.0],[52.0,1954.0],[44.0,5046.0],[41.0,4718.0],[31.0,1593.0],[22.0,4830.0],[75.0,3649.0],[30.0,4612.0],[32.0,4664.0],[42.0,2702.0],[53.0,109.0],[78.0,4974.0],[33.0,1129.0],[0.64,1808.0],[4.0,4844.0],[22.0,3185.0],[32.0,4828.0],[49.0,3985.0],[56.0,426.0],[75.0,2583.0],[24.0,4059.0],[40.0,4996.0],[7.0,3937.0],[43.0,2339.0],[36.0,3751.0],[55.0,3764.0],[3.0,2389.0],[55.0,2021.0],[30.0,734.0],[57.0,1592.0],[56.0,3168.0],[40.0,3635.0],[77.0,3891.0],[31.0,1049.0],[57.0,5096.0],[65.0,624.0],[35.0,3550.0],[19.0,2942.0],[41.0,811.0],[5.0,2177.0],[42.0,544.0],[59.0,1103.0],[24.0,1746.0],[53.0,4778.0],[56.0,1618.0],[56.0,2754.0],[35.0,1235.0],[54.0,1569.0],[37.0,1209.0],[12.0,414.0],[50.0,3935.0],[29.0,3398.0],[36.0,3309.0],[47.0,4700.0],[14.0,1197.0],[60.0,501.0],[2.0,437.0],[79.0,653.0],[68.0,2095.0],[54.0,3727.0],[30.0,4316.0],[66.0,800.0],[13.0,290.0],[65.0,2623.0],[47.0,1340.0],[70.0,252.0],[14.0,1833.0],[26.0,3411.0],[79.0,350.0],[18.0,3413.0],[68.0,346.0],[64.0,4296.0],[0.08,1614.0],[33.0,457.0],[0.8,2801.0],[79.0,90.0],[14.0,3728.0],[60.0,3197.0],[65.0,26.0],[59.0,181.0],[33.0,4643.0],[58.0,1669.0],[40.0,2187.0],[11.0,2091.0],[27.0,2837.0],[3.0,2457.0],[65.0,4899.0],[2.0,2222.0],[42.0,2622.0],[81.0,4408.0],[0.8,2630.0],[51.0,4751.0],[34.0,1057.0],[58.0,1210.0],[80.0,69.0],[35.0,5107.0],[5.0,5020.0],[45.0,3010.0],[78.0,203.0],[9.0,4783.0],[45.0,3815.0],[54.0,4425.0],[24.0,387.0],[33.0,4541.0],[46.0,4725.0],[45.0,2629.0],[12.0,2291.0],[25.0,798.0],[69.0,2683.0],[79.0,221.0],[49.0,4459.0],[75.0,3963.0],[4.0,657.0],[64.0,3821.0],[48.0,2784.0],[73.0,4773.0],[44.0,4320.0],[7.0,2364.0],[77.0,4634.0],[78.0,177.0],[20.0,1020.0],[28.0,655.0],[13.0,1536.0],[65.0,1751.0],[52.0,5074.0],[76.0,4376.0],[16.0,3133.0],[12.0,1406.0],[51.0,5086.0],[0.24,3392.0],[53.0,1437.0],[5.0,3331.0],[59.0,1361.0],[16.0,681.0],[57.0,1055.0],[52.0,803.0],[62.0,3055.0],[51.0,4098.0],[55.0,4092.0],[47.0,1876.0],[27.0,2767.0],[40.0,2238.0],[69.0,2201.0],[73.0,219.0],[39.0,4503.0],[8.0,4675.0],[26.0,582.0],[1.8,2329.0],[22.0,1255.0],[63.0,43.0],[39.0,210.0],[46.0,1595.0],[32.0,354.0],[3.0,1231.0],[59.0,599.0],[41.0,3379.0],[46.0,2559.0],[57.0,367.0],[63.0,4237.0],[66.0,3903.0],[57.0,1650.0],[71.0,135.0],[60.0,2533.0],[58.0,47.0],[60.0,1818.0],[53.0,3425.0],[42.0,2119.0],[52.0,1835.0],[65.0,2890.0],[55.0,2168.0],[57.0,1934.0],[80.0,61.0],[57.0,2088.0],[66.0,3103.0],[78.0,95.0],[66.0,478.0],[82.0,1839.0],[39.0,2688.0],[82.0,2418.0],[55.0,4946.0],[69.0,3781.0],[26.0,2949.0],[63.0,2072.0],[73.0,4836.0],[22.0,322.0],[18.0,3787.0],[28.0,4444.0],[2.0,4277.0],[56.0,3062.0],[1.48,3435.0],[52.0,2226.0],[62.0,1454.0],[15.0,1242.0],[0.24,996.0],[4.0,291.0],[73.0,2521.0],[40.0,3565.0],[51.0,533.0],[56.0,4471.0],[8.0,3624.0],[57.0,2451.0],[38.0,3352.0],[20.0,2662.0],[65.0,4321.0],[13.0,3964.0],[47.0,4214.0],[40.0,428.0],[62.0,1084.0],[67.0,5084.0],[43.0,4566.0],[56.0,765.0],[66.0,3204.0],[41.0,4728.0],[26.0,1907.0],[81.0,2497.0],[78.0,4734.0],[55.0,3084.0],[48.0,4693.0],[14.0,4662.0],[69.0,2018.0],[32.0,3830.0],[33.0,4626.0],[72.0,5029.0],[67.0,4308.0],[62.0,3048.0],[67.0,1436.0],[47.0,4607.0],[2.0,2663.0],[45.0,5093.0],[37.0,1420.0],[37.0,3303.0],[14.0,2346.0],[33.0,1945.0],[66.0,4110.0],[32.0,2024.0],[42.0,1526.0],[43.0,2098.0],[33.0,3193.0],[78.0,1813.0],[51.0,4078.0],[57.0,2317.0],[76.0,70.0],[8.0,1032.0],[17.0,4319.0],[48.0,2232.0],[5.0,3543.0],[23.0,3403.0],[48.0,1168.0],[73.0,1183.0],[66.0,964.0],[59.0,1173.0],[45.0,4732.0],[38.0,3482.0],[20.0,4856.0],[15.0,1623.0],[64.0,2059.0],[31.0,3702.0],[40.0,3799.0],[67.0,3939.0],[2.0,1392.0],[32.0,1888.0],[59.0,2700.0],[6.0,733.0],[39.0,1741.0],[18.0,2649.0],[59.0,2569.0],[23.0,4731.0],[56.0,2034.0],[78.0,2487.0],[13.0,2543.0],[39.0,381.0],[42.0,1978.0],[47.0,1699.0],[30.0,1321.0],[51.0,2406.0],[49.0,4543.0],[8.0,4794.0],[31.0,2516.0],[19.0,3778.0],[68.0,2867.0],[77.0,233.0],[39.0,1972.0],[36.0,4807.0],[24.0,4667.0],[79.0,5034.0],[42.0,633.0],[45.0,3077.0],[33.0,415.0],[55.0,3153.0],[44.0,1921.0],[34.0,3592.0],[30.0,1090.0],[37.0,1583.0],[17.0,4950.0],[59.0,881.0],[75.0,17.0],[45.0,3839.0],[45.0,1832.0],[64.0,1840.0],[64.0,3720.0],[53.0,596.0],[45.0,1670.0],[16.0,2254.0],[23.0,2142.0],[28.0,1629.0],[25.0,1822.0],[70.0,5075.0],[18.0,371.0],[78.0,1448.0],[39.0,1909.0],[56.0,652.0],[15.0,598.0],[26.0,676.0],[51.0,238.0],[30.0,4347.0],[55.0,2517.0],[78.0,3794.0],[55.0,3831.0],[67.0,3878.0],[80.0,75.0],[17.0,1425.0],[68.0,2948.0],[51.0,3639.0],[75.0,3263.0],[81.0,5071.0],[68.0,5002.0],[76.0,1566.0],[76.0,2985.0],[6.0,1647.0],[61.0,1126.0],[73.0,4349.0],[1.72,2194.0],[82.0,4716.0],[70.0,96.0],[63.0,3408.0],[28.0,3667.0],[21.0,5030.0],[80.0,621.0],[2.0,4961.0],[34.0,3814.0],[27.0,566.0],[65.0,1755.0],[17.0,2714.0],[46.0,748.0],[51.0,4460.0],[78.0,51.0],[17.0,5077.0],[45.0,3013.0],[75.0,1335.0],[49.0,2251.0],[20.0,534.0],[56.0,745.0],[1.72,5079.0],[61.0,3528.0],[20.0,443.0],[64.0,4987.0],[59.0,195.0],[31.0,4826.0],[4.0,893.0],[48.0,1788.0],[10.0,3044.0],[29.0,3904.0],[40.0,3026.0],[16.0,3438.0],[80.0,2685.0],[57.0,3070.0],[65.0,4264.0],[43.0,644.0],[22.0,3755.0],[59.0,3697.0],[16.0,1726.0],[7.0,4501.0],[58.0,120.0],[33.0,1204.0],[39.0,2131.0],[11.0,1253.0],[8.0,4997.0],[33.0,5024.0],[41.0,2351.0],[68.0,134.0],[39.0,2580.0],[57.0,4827.0],[59.0,2011.0],[5.0,3678.0],[61.0,184.0],[46.0,2895.0],[81.0,1780.0],[51.0,511.0],[71.0,4165.0],[67.0,62.0],[45.0,4406.0],[57.0,2802.0],[61.0,4427.0],[2.0,3268.0],[64.0,2053.0],[8.0,251.0],[40.0,625.0],[50.0,1550.0],[35.0,1514.0],[30.0,3895.0],[23.0,3837.0],[80.0,122.0],[32.0,3654.0],[21.0,3518.0],[72.0,2029.0],[27.0,2575.0],[72.0,5085.0],[25.0,567.0],[80.0,2818.0],[37.0,3349.0],[13.0,693.0],[80.0,3686.0],[51.0,1606.0],[8.0,4649.0],[46.0,1293.0],[46.0,2656.0],[18.0,4976.0],[41.0,2807.0],[81.0,720.0],[18.0,4863.0],[18.0,2133.0],[13.0,1789.0],[1.0,1432.0],[47.0,3911.0],[39.0,602.0],[8.0,1281.0],[48.0,1468.0],[35.0,2005.0],[56.0,2266.0],[58.0,3630.0],[48.0,318.0],[48.0,2228.0],[20.0,2834.0],[25.0,274.0],[80.0,2002.0],[77.0,549.0],[58.0,1374.0],[69.0,944.0],[70.0,5001.0],[48.0,4417.0],[5.0,605.0],[49.0,3909.0],[30.0,527.0],[14.0,4825.0],[60.0,2462.0],[42.0,2528.0],[61.0,829.0],[43.0,4481.0],[81.0,4933.0],[1.56,1957.0],[61.0,1815.0],[69.0,298.0],[59.0,68.0],[58.0,4377.0],[53.0,1961.0],[8.0,3758.0],[37.0,3912.0],[81.0,4198.0],[55.0,3014.0],[25.0,4124.0],[79.0,150.0],[18.0,756.0],[22.0,1554.0],[11.0,4423.0],[28.0,3694.0],[55.0,1322.0],[32.0,4620.0],[20.0,1268.0],[73.0,3150.0],[0.88,376.0],[41.0,1096.0],[59.0,1782.0],[43.0,859.0],[1.32,3097.0],[15.0,2987.0],[11.0,2015.0],[14.0,378.0],[52.0,3960.0],[25.0,3305.0],[7.0,3651.0],[57.0,2111.0],[45.0,1434.0],[8.0,2042.0],[44.0,5015.0],[57.0,3172.0],[43.0,1419.0],[67.0,2215.0],[29.0,2384.0],[26.0,4050.0],[42.0,794.0],[12.0,4262.0],[53.0,841.0],[81.0,4724.0],[32.0,2877.0],[72.0,175.0],[14.0,3434.0],[82.0,2876.0],[64.0,927.0],[53.0,2407.0],[76.0,45.0],[35.0,3248.0],[11.0,4439.0],[46.0,4969.0],[4.0,4398.0],[27.0,896.0],[62.0,2373.0],[0.08,3295.0],[57.0,2022.0],[68.0,1879.0],[1.0,2240.0],[56.0,3906.0],[42.0,3258.0],[3.0,1702.0],[53.0,2592.0],[58.0,283.0],[79.0,4823.0],[32.0,1779.0],[72.0,3456.0],[59.0,5007.0],[5.0,5070.0],[75.0,3689.0],[23.0,4247.0],[0.48,4645.0],[32.0,3941.0],[78.0,2576.0],[59.0,2596.0],[49.0,3101.0],[48.0,2678.0],[63.0,1891.0],[78.0,2826.0],[68.0,4683.0],[69.0,4284.0],[1.64,1101.0],[5.0,1047.0],[38.0,4660.0],[43.0,2813.0],[48.0,2492.0],[29.0,3053.0],[69.0,99.0],[6.0,2157.0],[9.0,1421.0],[18.0,2644.0],[58.0,2614.0],[47.0,351.0],[9.0,4030.0],[24.0,3187.0],[53.0,1025.0],[5.0,4025.0],[22.0,718.0],[34.0,2835.0],[14.0,2856.0],[17.0,4487.0],[52.0,2648.0],[30.0,308.0],[54.0,3126.0],[5.0,833.0],[43.0,366.0],[37.0,1784.0],[69.0,3469.0],[31.0,4603.0],[1.32,4640.0],[47.0,2664.0],[47.0,949.0],[76.0,1200.0],[65.0,3154.0],[57.0,19.0],[52.0,2100.0],[54.0,4966.0],[48.0,668.0],[76.0,218.0],[10.0,3137.0],[53.0,438.0],[1.8,3786.0],[23.0,1212.0],[71.0,3669.0],[62.0,3454.0],[1.88,3605.0],[1.32,4934.0],[49.0,4835.0],[56.0,4105.0],[78.0,2902.0]],\"marker\":{\"color\":[0.05692880432267283,0.08172499291006452,0.20908590367613106,0.4180339766752749,0.7744568319133811,0.6281955299875427,0.47752678478690364,0.6382617462160844,0.04346424744703359,0.14597938173303948,0.19466180872208994,0.051752099596136046,0.5639512109412438,0.4030859984496023,0.2175828487283659,0.049359075379257523,0.168401694027537,0.02798834533595052,0.029489758909071684,0.029822163112889443,0.06099515311378291,0.16024404330693945,0.04543704532473145,0.036065047713815954,0.029822163112889443,0.4663264543949662,0.042777520764648636,0.2973440234151072,0.5770008555006207,0.03578427911605809,0.675608058274855,0.1273521455411318,0.33928700366261344,0.03115141656717547,0.028749311204903538,0.027241643356276175,0.6901935015091654,0.03367300139161416,0.7276958697663443,0.5732625617214719,0.12379532071314306,0.21993050733465486,0.027103376078385175,0.09265315438656198,0.2776254808115279,0.5069230138263171,0.07119999018469926,0.4777995745378388,0.20299153962628727,0.0294171328033296,0.029489758909071684,0.030132177495857605,0.3747668903497538,0.05062525119356492,0.06090182186743339,0.6040284274987298,0.09939896738397193,0.6369903916535832,0.029822163112889443,0.23896884082887504,0.12021265088722273,0.7593245154990973,0.42816012558395483,0.12230715122049028,0.13049362306578513,0.1681447945437589,0.11480113706193384,0.20469826486977558,0.4890609488801013,0.7637114017967834,0.027165018831036846,0.12089867760014422,0.2848546295009393,0.09721534810716798,0.1272091584712322,0.31698492855556226,0.027165018831036846,0.6995174243380644,0.2085562261776709,0.8041098299952567,0.20231354552664743,0.4154495562805673,0.6077151339121682,0.08834398559206169,0.0911802551279823,0.13523979672424802,0.4139125259662929,0.3812118776912816,0.3933412619338004,0.029092275332730004,0.03115141656717547,0.5210000979810997,0.47296713212448016,0.12155848899280183,0.03578427911605809,0.3842031609231132,0.670472838141733,0.5941839917203926,0.12166023985007146,0.42206131879400655,0.4144985940271826,0.43064872959577816,0.02798834533595052,0.03691562285483149,0.5540830390734992,0.029489758909071684,0.16854517793422677,0.027241643356276175,0.674728656053488,0.029489758909071684,0.10433118587738571,0.10606299532010738,0.3248938736267852,0.27732551923961996,0.7483385499349705,0.5235624346640322,0.5037481145698504,0.09661849569363987,0.19798076450580035,0.5193264931804044,0.15424438851962785,0.7613984760850455,0.13998588478617602,0.027165018831036846,0.3423762921680212,0.46926255493311014,0.5923598169416816,0.028067225220636274,0.5711429111775016,0.493522079276127,0.5197401944742382,0.40537241968107046,0.03633043582056241,0.08086893759576229,0.6026122492525926,0.39191394288196046,0.031130003266570467,0.642348697336483,0.4467526795667938,0.02787853135300604,0.43338377227941144,0.02798834533595052,0.2881061524635115,0.06666521202281679,0.02815845805329599,0.029489758909071684,0.2625302937794656,0.37274810336975983,0.8238106601639905,0.02798834533595052,0.028749311204903538,0.7177285969136592,0.3207225583095467,0.760447406976904,0.4496447190997562,0.4418572658680027,0.24012239922121503,0.03486446810546949,0.031186783224105695,0.6901935015091654,0.5183525747012633,0.030432493876019238,0.3137485744235266,0.7766258877076958,0.4796401092664956,0.13360703305276048,0.030132177495857605,0.7962660394675306,0.027904242174590074,0.33423673126128967,0.03115141656717547,0.03365842442506343,0.5830423488956175,0.028954747556775847,0.7374491883858948,0.1941390427945745,0.3076349228533362,0.5323955785369019,0.6060480168397006,0.5751362988874233,0.061596486441663434,0.050352869060784414,0.030432493876019238,0.027904242174590074,0.3283407857636565,0.42407831586162675,0.07135147392135792,0.3224495786773797,0.12556300611443263,0.18482062333225968,0.028103814579597586,0.09390995858309371,0.7315949724558556,0.5865428029512586,0.06551934588020529,0.5055667063710109,0.055170087313447295,0.7419387115326692,0.6817292296624833,0.030820808394657093,0.029822163112889443,0.4863111991661924,0.26862997409327216,0.2890566797061894,0.2839293857805107,0.7090214472995312,0.029822163112889443,0.7580188348977684,0.02917625474362542,0.027165018831036846,0.03074865182687407,0.09444523464872079,0.03008607700290417,0.5564251701494165,0.03831693817126643,0.03633043582056241,0.03725820661908108,0.46257858441731325,0.07189836764233792,0.03970297822542288,0.03935394972425117,0.02963225340310468,0.19443305248359563,0.027945015355543126,0.6636999906125352,0.06781285604679274,0.03072139859923891,0.03152500058246282,0.5429854662511024,0.44786877528680896,0.5328020650600418,0.7378712390844939,0.667448665940484,0.49293915932457366,0.576998427833466,0.27711034473456775,0.6886357643306742,0.030952657712460287,0.3551361034511069,0.029822163112889443,0.03578427911605809,0.030432493876019238,0.16884648502226313,0.29358722134719295,0.4663149871121479,0.13029475077629382,0.5278051551425109,0.4968933433552611,0.029822163112889443,0.029822163112889443,0.5055667063710109,0.47993365030963603,0.05101488688265981,0.4290889906935144,0.5861459687272507,0.6813065896809595,0.13029475077629382,0.2798330069389212,0.40533651808239923,0.7098857582704562,0.12409339905851036,0.34088059509557384,0.6552397250803959,0.04007566712415265,0.05101488688265981,0.43633959462418587,0.7307337460101132,0.030520698949553608,0.20847071849251972,0.18856693497012023,0.11767180491414263,0.6347406915372416,0.4372019335522664,0.546101373878529,0.18113617745730895,0.05101488688265981,0.12379532071314306,0.06551934588020529,0.46336134798786033,0.030132177495857605,0.03634672819941622,0.47372877544330566,0.03115141656717547,0.04469739094504444,0.02890435642712861,0.12192468253496451,0.7267246564627362,0.26466764920729685,0.336390243401877,0.08966625632943048,0.5210000979810997,0.4058543231657629,0.031172728964518157,0.02712292791126764,0.2862924843984768,0.23604019424075898,0.1746642173060199,0.028067225220636274,0.34121298020897073,0.09930879149107909,0.1272091584712322,0.5787688364490517,0.18940468601899169,0.4515643650541555,0.12021847222413772,0.7082863876518538,0.35888625520011563,0.1253500398312109,0.03115141656717547,0.11996998577608792,0.029822163112889443,0.11273250597426963,0.7160170867078853,0.24798069754583207,0.2744191392387044,0.03578427911605809,0.546167465026526,0.3524983143618527,0.2049399008008633,0.027945015355543126,0.027904242174590074,0.035857990610615544,0.06586791655627239,0.18221775326543216,0.4610757560212958,0.5476064422577883,0.5710189769646289,0.3423762921680212,0.10874916478110336,0.44213314316109287,0.06663733041369385,0.03070163802027491,0.4591086490684706,0.2819288247202514,0.44134826902980123,0.11866242127837537,0.031172728964518157,0.5758000946912989,0.028749311204903538,0.06563225176819766,0.363378080712512,0.39355244763419805,0.34603511997304753,0.11912692085672373,0.20908590367613106,0.3045544722829088,0.18756992637745182,0.21436460332546142,0.5845222068995403,0.04175686746389018,0.03115141656717547,0.029822163112889443,0.6163353240375388,0.06051541915756885,0.1235426163847178,0.28357309276812137,0.5680369713769848,0.031130003266570467,0.07039973806520808,0.07040318938780245,0.029822163112889443,0.10080245113677404,0.0751992938917436,0.5218989849829707,0.059517405201640255,0.46336134798786033,0.8698848399866282,0.032147792199828905,0.3122702492767266,0.5545856520257688,0.5862521159287691,0.031172728964518157,0.543328245571766,0.2633270362954523,0.7487263452421145,0.8000435663893034,0.4449252671998392,0.4433368863240496,0.43815729124645697,0.035662414321678514,0.027904242174590074,0.36406356091272435,0.1272091584712322,0.7797329763071303,0.029489758909071684,0.5618958168367079,0.5578361718479111,0.03074865182687407,0.05692880432267283,0.029489758909071684,0.05123235894211669,0.030645572117952297,0.12323604927472541,0.02896119497109571,0.34100820198085363,0.5464382033701378,0.03617756536314009,0.5792561396024252,0.6832318722154833,0.10606299532010738,0.43363231461718715,0.03442949836155597,0.029822163112889443,0.701648075026872,0.03633043582056241,0.030820808394657093,0.03365842442506343,0.12345562238810244,0.07738346979222537,0.3090584229136849,0.057168627875352235,0.09403285368291105,0.03074865182687407,0.4631908707446511,0.03182051216793561,0.05976444647937522,0.07738346979222537,0.13836471268146358,0.6062246126571392,0.32337960948153605,0.02798834533595052,0.5877994051406075,0.41962952459281305,0.6066469917763393,0.18979211448378683,0.038213266867478245,0.23604019424075898,0.3142255121302814,0.27118143531158834,0.14708915569549103,0.14893344018692123,0.7955243920651043,0.26374936870075094,0.06138013101236619,0.03716190830423694,0.6060480168397006,0.4863111991661924,0.12174630951785761,0.03115141656717547,0.04874297783024436,0.7999075340832458,0.5639512109412438,0.14511823526344808,0.08534436700684976,0.10422529595514902,0.03746926576511828,0.14393349089592294,0.5151083495392837,0.03008607700290417,0.13239957461942703,0.18122671839506155,0.40361555100683477,0.8198677159869416,0.030820808394657093,0.1235426163847178,0.12209843228125715,0.030261172879436832,0.04452841803592704,0.1261158895031336,0.6276843038968275,0.723509157249839,0.046075314552604635,0.13756815966279137,0.027165018831036846,0.14435769954156646,0.044712775541949114,0.16126203697016306,0.027241643356276175,0.44978046518462944,0.029489758909071684,0.5047702285925388,0.4272281116561636,0.3768909933464678,0.2334107738913777,0.14254819580441405,0.5455205496460254,0.200445043074789,0.027904242174590074,0.03074865182687407,0.10739196500790578,0.02798834533595052,0.06036755007775771,0.6026122492525926,0.03160606698322682,0.15079406567742273,0.19797773725736614,0.2115932051830619,0.029489758909071684,0.45419136245493424,0.055170087313447295,0.030746267687228726,0.24599269867375836,0.1425420335011313,0.052391069917404685,0.18221775326543216,0.027904242174590074,0.47370381609432244,0.027241643356276175,0.8698848399866282,0.7525631250410155,0.39191394288196046,0.02917625474362542,0.582793164684665,0.02798834533595052,0.5639512109412438,0.31698492855556226,0.7517439646548812,0.028749311204903538,0.030132177495857605,0.2395460223201189,0.030432493876019238,0.6924633917720362,0.5664232979463188,0.027241643356276175,0.11511314106776621,0.04561031068502181,0.8632166180934547,0.048795715587052584,0.4341561683627415,0.6066469917763393,0.6442566936731047,0.14589965870574034,0.5427345423119548,0.07101612997766016,0.029489758909071684,0.039124780828225916,0.12345562238810244,0.6901935015091654,0.028067225220636274,0.06037667390745352,0.8005999571249265,0.027241643356276175,0.6043097478649491,0.03115141656717547,0.20083667887240558,0.6416658485866532,0.07329993845168047,0.02798834533595052,0.08899160281341327,0.7082863876518538,0.0316529763278555,0.2549263568810416,0.25491214117804045,0.029489758909071684,0.03115141656717547,0.2563146901747926,0.2045772331304218,0.027924887922658577,0.03578427911605809,0.43702814986571836,0.8041098299952567,0.40319982169291396,0.6997305908555255,0.027165018831036846,0.1344335687401641,0.12409339905851036,0.7848541156857594,0.13349117627023072,0.028749311204903538,0.7905102663582936,0.16375212561400557,0.03578427911605809,0.11836364939096192,0.03578427911605809,0.5775895014722162,0.537561771000357,0.5838988818076138,0.03634672819941622,0.031172728964518157,0.3681425312501707,0.028067225220636274,0.28803993728318433,0.029489758909071684,0.6134824338434639,0.11480113706193384,0.6248796899321162,0.45419136245493424,0.4697509247041922,0.210151950396989,0.5554293304873674,0.11879616620228298,0.03617756536314009,0.07112374471532353,0.7237363153024401,0.7361415263180223,0.13756815966279137,0.040895417148808115,0.10044510607382344,0.027241643356276175,0.02924687966555981,0.5852369932907316,0.3928294450361581,0.0896997208224497,0.030132177495857605,0.030432493876019238,0.6454072264747062,0.3307357286471977,0.11820764185971797,0.1373193986215544,0.21950266250095263,0.5210000979810997,0.6153361801872705,0.7593264615241713,0.3736899656785133,0.6212633814298355,0.3288884036186775,0.587350072789794,0.08458103824397999,0.40568969904420027,0.6878341756683775,0.5468886031191577,0.5179285620997929,0.7936955973967545,0.5643342027564388,0.5037481145698504,0.8840620662689577,0.42669913464833437,0.3954676911442676,0.09544750965599823,0.31082988358728963,0.3208391360064579,0.7707158328709964,0.03115141656717547,0.3282236315944403,0.7770432082907249,0.11946548923569654,0.029822163112889443,0.0631327908158987,0.030132177495857605,0.5046603778946156,0.027904242174590074,0.35663820025731285,0.6479233653521381,0.034803720098370995,0.028067225220636274,0.036356127263480774,0.23701467555651545,0.43715037262484435,0.218642265071458,0.4461761586781049,0.02798834533595052,0.33703690614838866,0.12703307705117864,0.03620691829667985,0.5481734826188088,0.027442132327986722,0.13492293182887335,0.1727511281790125,0.5852369932907316,0.42912416407062365,0.37830012703512156,0.45474072460724574,0.5664232979463188,0.0760233063118516,0.027904242174590074,0.661366530490827,0.5902391058527608,0.6882905832230837,0.23874212016384724,0.029489758909071684,0.5755372191119312,0.07047866108617047,0.029489758909071684,0.8642089063794064,0.5518332810453089,0.3148075542118751,0.6764646138714784,0.2745700793822845,0.027241643356276175,0.41341709221746886,0.18129818074023835,0.15749617811163205,0.029822163112889443,0.02917625474362542,0.1497661701894988,0.027904242174590074,0.15038195172901295,0.21295710346308921,0.029489758909071684,0.5991383548118183,0.1362323850621304,0.5298180346583016,0.8487257840446406,0.13757554592228866,0.03578427911605809,0.3869793384025887,0.02798834533595052,0.030432493876019238,0.30167523625361536,0.5531610582093126,0.440303978659895,0.7776139992455875,0.18341197006687385,0.22881788045859966,0.030132177495857605,0.13029475077629382,0.5365446393325664,0.02917625474362542,0.14939854863783952,0.4841833912542101,0.027241643356276175,0.03634672819941622,0.4265877496061974,0.03822262106041973,0.4094833195146717,0.03617756536314009,0.6878341756683775,0.15408646263446715,0.1779509280509812,0.604565302619338,0.15903527864832329,0.140206086085998,0.08308277768222747,0.500791818125023,0.031180656107079534,0.1372397069606337,0.22629480985436734,0.02798834533595052,0.028749311204903538,0.13029475077629382,0.6547178424961391,0.46823834571075035,0.10606299532010738,0.1798737832060935,0.03578427911605809,0.8886592916275984,0.34461724024621637,0.20507441877785026,0.10387396948182949,0.3281183442436514,0.14350902251286446,0.15566424056760667,0.030432493876019238,0.15749617811163205,0.09403285368291105,0.7400723813010093,0.5107360550495975,0.06143688360008089,0.3468285770153919,0.6913102689080188,0.5005949660773922,0.21015437605075374,0.08792706374466744,0.03578427911605809,0.11253747461311944,0.029822163112889443,0.059583472358425316,0.6621147741609147,0.11798433686208241,0.7195382323374068,0.05287323236068625,0.4469037957767547,0.03074865182687407,0.027904242174590074,0.5288618499644818,0.030820808394657093,0.29219842993827955,0.792651865158742,0.33108127627555983,0.5835135808604699,0.30192373997138533,0.09403285368291105,0.7077158364601334,0.5785319171958362,0.38401142299718405,0.7206960025214593,0.7417459366337162,0.3826710143911718,0.7384767377327554,0.13828242761244805,0.699877900531266,0.8108292466882582,0.028954747556775847,0.7581064126403138,0.4593954212653553,0.582793164684665,0.05029778277049219,0.03847221138344184,0.8861772043746438,0.07333634553571877,0.1336489825450342,0.029489758909071684,0.24614171756406505,0.028273613585042705,0.06183961436881702,0.2299129429234552,0.7181951447323525,0.028749311204903538,0.10702687082891102,0.5677922359987382,0.11696965287002385,0.059517405201640255,0.5170626287875391,0.032211033283522185,0.5860710991393401,0.02963225340310468,0.5597942741616806,0.6901935015091654,0.13166776593080556,0.15285492657858765,0.5168710368514668,0.04915916436541973,0.029822163112889443,0.06655519604159525,0.028749311204903538,0.6070004260894709,0.5973700536673935,0.08114006950414972,0.06384551961927694,0.03074865182687407,0.5387380640242863,0.12079826528770839,0.032147792199828905,0.5950634570036998,0.027904242174590074,0.21732892233421167,0.027945015355543126,0.02712292791126764,0.05101488688265981,0.14939854863783952,0.4056926577696391,0.05697916898438844,0.5540456802246673,0.4018396580513342,0.02712292791126764,0.4853868346766616,0.08451262863122881,0.4622442585653253,0.6060480168397006,0.4087129862348711,0.24818580704715548,0.18492338041671055,0.5080051670352013,0.732540936334437,0.027241643356276175,0.5953177564699998,0.027442132327986722,0.3415196714316345,0.1905060408897015,0.030261172879436832,0.027904242174590074,0.059517405201640255,0.8270002588336077,0.027904242174590074,0.1425420335011313,0.7527986734623792,0.03150787771334321,0.8357319522020372,0.029489758909071684,0.6152751578804952,0.05355720758445499,0.030820808394657093,0.4397880220878169,0.18756992637745182,0.02798834533595052,0.08860124417284902,0.14069203477823536,0.030820808394657093,0.13223070748738736,0.701648075026872,0.0978238157939359,0.08791655166451974,0.1219757714718355,0.028067225220636274,0.3154371674196867,0.13407150699753698,0.027945015355543126,0.15705684290720787,0.03070163802027491,0.2128487849856664,0.6889556150293303,0.4890609488801013,0.11218109200759141,0.031934934901960484,0.12021847222413772,0.6705007987190612,0.8165757811379266,0.5637213069639841,0.5955998327263985,0.8361829542639387,0.17863507032919418,0.02798834533595052,0.1526302481860273,0.031284634550669745,0.14191317932830388,0.7277355238172308,0.11280591171186274,0.3997665207142445,0.18122671839506155,0.8704160206399703,0.028103814579597586,0.10555486756303409,0.49033359610258914,0.5427345423119548,0.7846555334128882,0.1458735854736088,0.032147792199828905,0.03383060688712462,0.558811216457265,0.642175408800566,0.14393349089592294,0.8911042478531689,0.029822163112889443,0.09403285368291105,0.0314892515288713,0.034424835484945425,0.642175408800566,0.02917625474362542,0.02917625474362542,0.44422514532450513,0.027241643356276175,0.07039973806520808,0.7776139992455875,0.05615015532629509,0.04659645375093464,0.11480113706193384,0.028749311204903538,0.14596735571647462,0.4813175580434725,0.10433118587738571,0.02798834533595052,0.4238571114887753,0.24028175118693385,0.028749311204903538,0.166609043545436,0.6075987206758442,0.12080169111757769,0.4316915759858577,0.048795715587052584,0.15317626820798316,0.18681856474758024,0.03578427911605809,0.29546617500720157,0.5513660865097955,0.035215393834792635,0.5317802840174676,0.044989426082357474,0.4586160471803167,0.3067087201098605,0.24644888945683407,0.8162981203429611,0.03115141656717547,0.049781262181184324,0.37917725169003325,0.02798834533595052,0.029489758909071684,0.3083311258138818,0.032406614567039305,0.3936083642781327,0.5989349158484834,0.030132177495857605,0.5659790504643153,0.18149053199071688,0.032236095627272934,0.2907425383877335,0.7090214472995312,0.8891235968719704,0.05101488688265981,0.7150847761043374,0.6540506215192295,0.12151523718856617,0.4457802473566557,0.03074865182687407,0.027241643356276175,0.13998588478617602,0.36985566348870896,0.6026122492525926,0.5637457349971782,0.5830423488956175,0.49363541031435104,0.5800428190503082,0.39731219316641625,0.4390870113548225,0.037178192561119906,0.027165018831036846,0.26396266278603336,0.07716468613977788,0.5365364759072979,0.03644563974314751,0.7287924790788429,0.035933555084926114,0.03908974108683397,0.027399624127087567,0.6411453823440963,0.4114191120355426,0.02798834533595052,0.028257175300228903,0.6196802615950289,0.02798834533595052,0.059517405201640255,0.0383379854666167,0.029370555260286448,0.06387456552274254,0.2666573395775058,0.10986119899952211,0.155060026003117,0.02798834533595052,0.07797388674781873,0.21264231389900393,0.43962292546988196,0.08406212500274808,0.12413416668245522,0.13492293182887335,0.3022165547517041,0.8205964562188245,0.5586904951164623,0.6597361928589511,0.46846972329494785,0.2946783818033377,0.3706233449217977,0.2343401527347763,0.04849604078694689,0.25786304943933547,0.027241643356276175,0.059517405201640255,0.6398817466111424,0.14733484831715374,0.028067225220636274,0.028749311204903538,0.14304028954609863,0.1449387409126549,0.33056554491799095],\"coloraxis\":\"coloraxis\",\"line\":{\"color\":\"white\",\"width\":0.8},\"opacity\":0.8,\"size\":10}}],                        {\"template\":{\"data\":{\"scatter\":[{\"type\":\"scatter\"}]}},\"coloraxis\":{\"colorscale\":[[0.0,\"rgb(52, 55, 54)\"],[0.0027620143782778024,\"rgb(74, 99, 138)\"],[0.005838438694027894,\"rgb(116, 153, 214)\"],[0.038011537434033564,\"rgb(162, 188, 213)\"],[0.10844463541894948,\"rgb(212, 234, 242)\"],[0.17610057542733523,\"rgb(235, 216, 134)\"],[0.32426016550431147,\"rgb(255, 204, 83)\"],[0.4765096109199821,\"rgb(244, 192, 0)\"],[0.6096815373127558,\"rgb(255, 166, 17)\"],[0.7442898101737669,\"rgb(255, 123, 38)\"],[1.0,\"rgb(255, 77, 7)\"]],\"colorbar\":{\"title\":{\"text\":\"Predicted Proba\"}}},\"title\":{\"font\":{\"size\":24,\"family\":\"Arial\",\"color\":\"rgb(50, 50, 50)\"},\"xanchor\":\"center\",\"yanchor\":\"middle\",\"x\":0.5,\"y\":0.9,\"text\":\"<b>age</b> - Feature Contribution<br><sup>Response: <b>1</b></sup>\"},\"xaxis\":{\"title\":{\"font\":{\"size\":16,\"family\":\"Arial Black\",\"color\":\"rgb(50, 50, 50)\"},\"text\":\"age\"},\"automargin\":true},\"yaxis\":{\"title\":{\"font\":{\"size\":16,\"family\":\"Arial Black\",\"color\":\"rgb(50, 50, 50)\"},\"text\":\"Contribution\"},\"automargin\":true},\"width\":900,\"height\":600,\"hovermode\":\"closest\"},                        {\"responsive\": true}                    ).then(function(){\n",
       "                            \n",
       "var gd = document.getElementById('758068bf-23dc-4964-9fbc-2751d24011ec');\n",
       "var x = new MutationObserver(function (mutations, observer) {{\n",
       "        var display = window.getComputedStyle(gd).display;\n",
       "        if (!display || display === 'none') {{\n",
       "            console.log([gd, 'removed!']);\n",
       "            Plotly.purge(gd);\n",
       "            observer.disconnect();\n",
       "        }}\n",
       "}});\n",
       "\n",
       "// Listen for the removal of the full notebook cells\n",
       "var notebookContainer = gd.closest('#notebook-container');\n",
       "if (notebookContainer) {{\n",
       "    x.observe(notebookContainer, {childList: true});\n",
       "}}\n",
       "\n",
       "// Listen for the clearing of the current output cell\n",
       "var outputEl = gd.closest('.output');\n",
       "if (outputEl) {{\n",
       "    x.observe(outputEl, {childList: true});\n",
       "}}\n",
       "\n",
       "                        })                };                });            </script>        </div>"
      ]
     },
     "metadata": {},
     "output_type": "display_data"
    }
   ],
   "source": [
    "#PDP plot for age \n",
    "xpl.plot.contribution_plot(col=\"age\")"
   ]
  },
  {
   "cell_type": "code",
   "execution_count": 24,
   "id": "b0a1e335",
   "metadata": {
    "ExecuteTime": {
     "end_time": "2022-12-20T07:57:12.937383Z",
     "start_time": "2022-12-20T07:57:10.346388Z"
    }
   },
   "outputs": [
    {
     "name": "stdout",
     "output_type": "stream",
     "text": [
      "\u001b[1m\u001b[4m Dalex Explainer \u001b[0m\n",
      "Start Time: 2023-02-03 14:20:47.077817\n",
      "Preparation of a new explainer is initiated\n",
      "\n",
      "  -> data              : 5110 rows 7 cols\n",
      "  -> target variable   : Parameter 'y' was a pandas.Series. Converted to a numpy.ndarray.\n",
      "  -> target variable   : 5110 values\n",
      "  -> model_class       : lightgbm.sklearn.LGBMClassifier (default)\n",
      "  -> label             : Not specified, model's class short name will be used. (default)\n",
      "  -> predict function  : <function yhat_proba_default at 0x7fa7228be040> will be used (default)\n",
      "  -> predict function  : Accepts pandas.DataFrame and numpy.ndarray.\n",
      "  -> predicted values  : min = 0.0269, mean = 0.279, max = 0.891\n",
      "  -> model type        : classification will be used (default)\n",
      "  -> residual function : difference between y and yhat (default)\n",
      "  -> residuals         : min = -0.889, mean = -0.23, max = 0.951\n",
      "  -> model_info        : package lightgbm\n",
      "\n",
      "A new explainer has been created!\n",
      "End Time: 2023-02-03 14:20:47.255304\n",
      "Total time taken:\u001b[1m0:00:00.177487\u001b[0m\n"
     ]
    }
   ],
   "source": [
    "#create a break down explainer for the model\n",
    "print('\\033[1m'+ '\\033[4m' + \" Dalex Explainer \" +'\\033[0m')\n",
    "start_time = datetime.now()\n",
    "print(\"Start Time: {}\" .format(start_time))\n",
    "\n",
    "exp = dx.Explainer(model,X,y['stroke']) \n",
    "\n",
    "end_time = datetime.now() \n",
    "print(\"End Time: {}\" .format(end_time))\n",
    "print('Total time taken:' + '\\033[1m' + str(end_time - start_time) + '\\033[0m')"
   ]
  },
  {
   "cell_type": "code",
   "execution_count": 25,
   "id": "d2ea0ab5",
   "metadata": {
    "ExecuteTime": {
     "end_time": "2022-11-07T07:40:29.104902Z",
     "start_time": "2022-11-07T07:40:28.350231Z"
    },
    "tags": [
     "remove-output"
    ]
   },
   "outputs": [
    {
     "data": {
      "application/vnd.plotly.v1+json": {
       "config": {
        "displaylogo": false,
        "modeBarButtonsToRemove": [
         "sendDataToCloud",
         "lasso2d",
         "autoScale2d",
         "select2d",
         "zoom2d",
         "pan2d",
         "zoomIn2d",
         "zoomOut2d",
         "resetScale2d",
         "toggleSpikelines",
         "hoverCompareCartesian",
         "hoverClosestCartesian"
        ],
        "plotlyServerURL": "https://plot.ly",
        "staticPlot": false,
        "toImageButtonOptions": {
         "height": null,
         "width": null
        }
       },
       "data": [
        {
         "customdata": [
          [
           0.2892843311390548,
           "LGBMClassifier",
           "age"
          ],
          [
           0.2892843311390548,
           "LGBMClassifier",
           "age"
          ],
          [
           0.2892843311390548,
           "LGBMClassifier",
           "age"
          ],
          [
           0.2892843311390548,
           "LGBMClassifier",
           "age"
          ],
          [
           0.2892843311390548,
           "LGBMClassifier",
           "age"
          ],
          [
           0.2892843311390548,
           "LGBMClassifier",
           "age"
          ],
          [
           0.2892843311390548,
           "LGBMClassifier",
           "age"
          ],
          [
           0.2892843311390548,
           "LGBMClassifier",
           "age"
          ],
          [
           0.2892843311390548,
           "LGBMClassifier",
           "age"
          ],
          [
           0.2892843311390548,
           "LGBMClassifier",
           "age"
          ],
          [
           0.2892843311390548,
           "LGBMClassifier",
           "age"
          ],
          [
           0.2892843311390548,
           "LGBMClassifier",
           "age"
          ],
          [
           0.2892843311390548,
           "LGBMClassifier",
           "age"
          ],
          [
           0.2892843311390548,
           "LGBMClassifier",
           "age"
          ],
          [
           0.2892843311390548,
           "LGBMClassifier",
           "age"
          ],
          [
           0.2892843311390548,
           "LGBMClassifier",
           "age"
          ],
          [
           0.2892843311390548,
           "LGBMClassifier",
           "age"
          ],
          [
           0.2892843311390548,
           "LGBMClassifier",
           "age"
          ],
          [
           0.2892843311390548,
           "LGBMClassifier",
           "age"
          ],
          [
           0.2892843311390548,
           "LGBMClassifier",
           "age"
          ],
          [
           0.2892843311390548,
           "LGBMClassifier",
           "age"
          ],
          [
           0.2892843311390548,
           "LGBMClassifier",
           "age"
          ],
          [
           0.2892843311390548,
           "LGBMClassifier",
           "age"
          ],
          [
           0.2892843311390548,
           "LGBMClassifier",
           "age"
          ],
          [
           0.2892843311390548,
           "LGBMClassifier",
           "age"
          ],
          [
           0.2892843311390548,
           "LGBMClassifier",
           "age"
          ],
          [
           0.2892843311390548,
           "LGBMClassifier",
           "age"
          ],
          [
           0.2892843311390548,
           "LGBMClassifier",
           "age"
          ],
          [
           0.2892843311390548,
           "LGBMClassifier",
           "age"
          ],
          [
           0.2892843311390548,
           "LGBMClassifier",
           "age"
          ],
          [
           0.2892843311390548,
           "LGBMClassifier",
           "age"
          ],
          [
           0.2892843311390548,
           "LGBMClassifier",
           "age"
          ],
          [
           0.2892843311390548,
           "LGBMClassifier",
           "age"
          ],
          [
           0.2892843311390548,
           "LGBMClassifier",
           "age"
          ],
          [
           0.2892843311390548,
           "LGBMClassifier",
           "age"
          ],
          [
           0.2892843311390548,
           "LGBMClassifier",
           "age"
          ],
          [
           0.2892843311390548,
           "LGBMClassifier",
           "age"
          ],
          [
           0.2892843311390548,
           "LGBMClassifier",
           "age"
          ],
          [
           0.2892843311390548,
           "LGBMClassifier",
           "age"
          ],
          [
           0.2892843311390548,
           "LGBMClassifier",
           "age"
          ],
          [
           0.2892843311390548,
           "LGBMClassifier",
           "age"
          ],
          [
           0.2892843311390548,
           "LGBMClassifier",
           "age"
          ],
          [
           0.2892843311390548,
           "LGBMClassifier",
           "age"
          ],
          [
           0.2892843311390548,
           "LGBMClassifier",
           "age"
          ],
          [
           0.2892843311390548,
           "LGBMClassifier",
           "age"
          ],
          [
           0.2892843311390548,
           "LGBMClassifier",
           "age"
          ],
          [
           0.2892843311390548,
           "LGBMClassifier",
           "age"
          ],
          [
           0.2892843311390548,
           "LGBMClassifier",
           "age"
          ],
          [
           0.2892843311390548,
           "LGBMClassifier",
           "age"
          ],
          [
           0.2892843311390548,
           "LGBMClassifier",
           "age"
          ],
          [
           0.2892843311390548,
           "LGBMClassifier",
           "age"
          ],
          [
           0.2892843311390548,
           "LGBMClassifier",
           "age"
          ],
          [
           0.2892843311390548,
           "LGBMClassifier",
           "age"
          ],
          [
           0.2892843311390548,
           "LGBMClassifier",
           "age"
          ],
          [
           0.2892843311390548,
           "LGBMClassifier",
           "age"
          ],
          [
           0.2892843311390548,
           "LGBMClassifier",
           "age"
          ],
          [
           0.2892843311390548,
           "LGBMClassifier",
           "age"
          ],
          [
           0.2892843311390548,
           "LGBMClassifier",
           "age"
          ],
          [
           0.2892843311390548,
           "LGBMClassifier",
           "age"
          ],
          [
           0.2892843311390548,
           "LGBMClassifier",
           "age"
          ],
          [
           0.2892843311390548,
           "LGBMClassifier",
           "age"
          ],
          [
           0.2892843311390548,
           "LGBMClassifier",
           "age"
          ],
          [
           0.2892843311390548,
           "LGBMClassifier",
           "age"
          ],
          [
           0.2892843311390548,
           "LGBMClassifier",
           "age"
          ],
          [
           0.2892843311390548,
           "LGBMClassifier",
           "age"
          ],
          [
           0.2892843311390548,
           "LGBMClassifier",
           "age"
          ],
          [
           0.2892843311390548,
           "LGBMClassifier",
           "age"
          ],
          [
           0.2892843311390548,
           "LGBMClassifier",
           "age"
          ],
          [
           0.2892843311390548,
           "LGBMClassifier",
           "age"
          ],
          [
           0.2892843311390548,
           "LGBMClassifier",
           "age"
          ],
          [
           0.2892843311390548,
           "LGBMClassifier",
           "age"
          ],
          [
           0.2892843311390548,
           "LGBMClassifier",
           "age"
          ],
          [
           0.2892843311390548,
           "LGBMClassifier",
           "age"
          ],
          [
           0.2892843311390548,
           "LGBMClassifier",
           "age"
          ],
          [
           0.2892843311390548,
           "LGBMClassifier",
           "age"
          ],
          [
           0.2892843311390548,
           "LGBMClassifier",
           "age"
          ],
          [
           0.2892843311390548,
           "LGBMClassifier",
           "age"
          ],
          [
           0.2892843311390548,
           "LGBMClassifier",
           "age"
          ],
          [
           0.2892843311390548,
           "LGBMClassifier",
           "age"
          ],
          [
           0.2892843311390548,
           "LGBMClassifier",
           "age"
          ],
          [
           0.2892843311390548,
           "LGBMClassifier",
           "age"
          ],
          [
           0.2892843311390548,
           "LGBMClassifier",
           "age"
          ],
          [
           0.2892843311390548,
           "LGBMClassifier",
           "age"
          ],
          [
           0.2892843311390548,
           "LGBMClassifier",
           "age"
          ],
          [
           0.2892843311390548,
           "LGBMClassifier",
           "age"
          ],
          [
           0.2892843311390548,
           "LGBMClassifier",
           "age"
          ],
          [
           0.2892843311390548,
           "LGBMClassifier",
           "age"
          ],
          [
           0.2892843311390548,
           "LGBMClassifier",
           "age"
          ],
          [
           0.2892843311390548,
           "LGBMClassifier",
           "age"
          ],
          [
           0.2892843311390548,
           "LGBMClassifier",
           "age"
          ],
          [
           0.2892843311390548,
           "LGBMClassifier",
           "age"
          ],
          [
           0.2892843311390548,
           "LGBMClassifier",
           "age"
          ],
          [
           0.2892843311390548,
           "LGBMClassifier",
           "age"
          ],
          [
           0.2892843311390548,
           "LGBMClassifier",
           "age"
          ],
          [
           0.2892843311390548,
           "LGBMClassifier",
           "age"
          ],
          [
           0.2892843311390548,
           "LGBMClassifier",
           "age"
          ],
          [
           0.2892843311390548,
           "LGBMClassifier",
           "age"
          ],
          [
           0.2892843311390548,
           "LGBMClassifier",
           "age"
          ],
          [
           0.2892843311390548,
           "LGBMClassifier",
           "age"
          ],
          [
           0.2892843311390548,
           "LGBMClassifier",
           "age"
          ],
          [
           0.2892843311390548,
           "LGBMClassifier",
           "age"
          ]
         ],
         "hovertemplate": "<b>%{hovertext}</b><br><br>prediction=%{y:.3f}<br>mean_prediction=%{customdata[0]:.3f}<extra></extra>",
         "hovertext": [
          "LGBMClassifier",
          "LGBMClassifier",
          "LGBMClassifier",
          "LGBMClassifier",
          "LGBMClassifier",
          "LGBMClassifier",
          "LGBMClassifier",
          "LGBMClassifier",
          "LGBMClassifier",
          "LGBMClassifier",
          "LGBMClassifier",
          "LGBMClassifier",
          "LGBMClassifier",
          "LGBMClassifier",
          "LGBMClassifier",
          "LGBMClassifier",
          "LGBMClassifier",
          "LGBMClassifier",
          "LGBMClassifier",
          "LGBMClassifier",
          "LGBMClassifier",
          "LGBMClassifier",
          "LGBMClassifier",
          "LGBMClassifier",
          "LGBMClassifier",
          "LGBMClassifier",
          "LGBMClassifier",
          "LGBMClassifier",
          "LGBMClassifier",
          "LGBMClassifier",
          "LGBMClassifier",
          "LGBMClassifier",
          "LGBMClassifier",
          "LGBMClassifier",
          "LGBMClassifier",
          "LGBMClassifier",
          "LGBMClassifier",
          "LGBMClassifier",
          "LGBMClassifier",
          "LGBMClassifier",
          "LGBMClassifier",
          "LGBMClassifier",
          "LGBMClassifier",
          "LGBMClassifier",
          "LGBMClassifier",
          "LGBMClassifier",
          "LGBMClassifier",
          "LGBMClassifier",
          "LGBMClassifier",
          "LGBMClassifier",
          "LGBMClassifier",
          "LGBMClassifier",
          "LGBMClassifier",
          "LGBMClassifier",
          "LGBMClassifier",
          "LGBMClassifier",
          "LGBMClassifier",
          "LGBMClassifier",
          "LGBMClassifier",
          "LGBMClassifier",
          "LGBMClassifier",
          "LGBMClassifier",
          "LGBMClassifier",
          "LGBMClassifier",
          "LGBMClassifier",
          "LGBMClassifier",
          "LGBMClassifier",
          "LGBMClassifier",
          "LGBMClassifier",
          "LGBMClassifier",
          "LGBMClassifier",
          "LGBMClassifier",
          "LGBMClassifier",
          "LGBMClassifier",
          "LGBMClassifier",
          "LGBMClassifier",
          "LGBMClassifier",
          "LGBMClassifier",
          "LGBMClassifier",
          "LGBMClassifier",
          "LGBMClassifier",
          "LGBMClassifier",
          "LGBMClassifier",
          "LGBMClassifier",
          "LGBMClassifier",
          "LGBMClassifier",
          "LGBMClassifier",
          "LGBMClassifier",
          "LGBMClassifier",
          "LGBMClassifier",
          "LGBMClassifier",
          "LGBMClassifier",
          "LGBMClassifier",
          "LGBMClassifier",
          "LGBMClassifier",
          "LGBMClassifier",
          "LGBMClassifier",
          "LGBMClassifier",
          "LGBMClassifier",
          "LGBMClassifier",
          "LGBMClassifier"
         ],
         "legendgroup": "LGBMClassifier",
         "line": {
          "color": "#46bac2",
          "dash": "solid",
          "width": 2
         },
         "marker": {
          "symbol": "circle"
         },
         "mode": "lines",
         "name": "LGBMClassifier",
         "opacity": 1,
         "orientation": "v",
         "showlegend": true,
         "type": "scatter",
         "x": [
          0.08,
          0.8992,
          1.7184000000000001,
          2.5376000000000003,
          3.3568000000000002,
          4.176,
          4.9952000000000005,
          5.8144,
          6.6336,
          7.452800000000001,
          8.272,
          9.0912,
          9.910400000000001,
          10.729600000000001,
          11.5488,
          12.368,
          13.1872,
          14.006400000000001,
          14.825600000000001,
          15.6448,
          16.464,
          17.2832,
          18.1024,
          18.921599999999998,
          19.7408,
          20.56,
          21.3792,
          22.1984,
          23.017599999999998,
          23.8368,
          24.656,
          25.4752,
          26.2944,
          27.113599999999998,
          27.9328,
          28.752,
          29.5712,
          30.3904,
          31.2096,
          32.028800000000004,
          32.848,
          33.6672,
          34.4864,
          35.3056,
          36.1248,
          36.944,
          37.7632,
          38.5824,
          39.4016,
          40.2208,
          41.04,
          41.8592,
          42.6784,
          43.4976,
          44.3168,
          45.136,
          45.9552,
          46.7744,
          47.5936,
          48.4128,
          49.232,
          50.0512,
          50.870400000000004,
          51.6896,
          52.5088,
          53.328,
          54.1472,
          54.9664,
          55.7856,
          56.604800000000004,
          57.424,
          58.2432,
          59.062400000000004,
          59.8816,
          60.7008,
          61.52,
          62.3392,
          63.1584,
          63.9776,
          64.7968,
          65.616,
          66.4352,
          67.2544,
          68.0736,
          68.89280000000001,
          69.712,
          70.5312,
          71.35040000000001,
          72.1696,
          72.9888,
          73.808,
          74.6272,
          75.4464,
          76.2656,
          77.0848,
          77.904,
          78.7232,
          79.5424,
          80.3616,
          81.1808,
          82
         ],
         "xaxis": "x",
         "y": [
          0.056579361437752385,
          0.056579361437752385,
          0.056579361437752385,
          0.056579361437752385,
          0.056579361437752385,
          0.05635098773544128,
          0.05635098773544128,
          0.05635098773544128,
          0.05635098773544128,
          0.05635098773544128,
          0.05635098773544128,
          0.05635098773544128,
          0.05635098773544128,
          0.05635098773544128,
          0.05634121109331569,
          0.05634121109331569,
          0.05634121109331569,
          0.05634121109331569,
          0.05634121109331569,
          0.05634121109331569,
          0.05634121109331569,
          0.05634121109331569,
          0.05634121109331569,
          0.05634121109331569,
          0.05634121109331569,
          0.05634121109331569,
          0.05634121109331569,
          0.05634121109331569,
          0.05634121109331569,
          0.05634121109331569,
          0.05634121109331569,
          0.05634121109331569,
          0.05634121109331569,
          0.05634121109331569,
          0.05634121109331569,
          0.05634121109331569,
          0.05634121109331569,
          0.05829078285619163,
          0.05829078285619163,
          0.058461470800014737,
          0.058461470800014737,
          0.05844529299196266,
          0.05844529299196266,
          0.07762967685550068,
          0.07762967685550068,
          0.07762967685550068,
          0.11753762789816669,
          0.15967930232054514,
          0.15901546885759812,
          0.158962770378971,
          0.18033058888174375,
          0.18033058888174375,
          0.1803242145140042,
          0.19965781483550823,
          0.20395117378559569,
          0.222217187124879,
          0.21566000713709121,
          0.30325623527931894,
          0.30325623527931894,
          0.3028458561524785,
          0.3028458561524785,
          0.3636454337072246,
          0.3636454337072246,
          0.3636454337072246,
          0.36343522057669053,
          0.369240070413432,
          0.46362566191137783,
          0.46068128979956097,
          0.538793765336955,
          0.5891797384617319,
          0.5398202188357579,
          0.5217260534510191,
          0.5250706258142956,
          0.5250706258142956,
          0.5082526608825683,
          0.5082526608825683,
          0.5082233299354255,
          0.5082233299354255,
          0.5075151721855882,
          0.5125109191232123,
          0.5214981450020724,
          0.5423686255273423,
          0.6436857853961444,
          0.6478767062098534,
          0.6478767062098534,
          0.6489764558852917,
          0.6488763380059805,
          0.710369690324536,
          0.7104727146143304,
          0.7104727146143304,
          0.7104727146143304,
          0.7104727146143304,
          0.7312053655949291,
          0.7312037979842934,
          0.7312037979842934,
          0.7312037979842934,
          0.7363312494987959,
          0.7363312494987959,
          0.7363312494987959,
          0.7333931941718383,
          0.5974781840322458
         ],
         "yaxis": "y"
        }
       ],
       "layout": {
        "annotations": [
         {
          "font": {
           "size": 13
          },
          "showarrow": false,
          "text": "age",
          "x": 0.5,
          "xanchor": "center",
          "xref": "paper",
          "y": 1,
          "yanchor": "bottom",
          "yref": "paper"
         },
         {
          "font": {
           "size": 13
          },
          "showarrow": false,
          "text": "prediction",
          "textangle": -90,
          "x": -0.07,
          "xref": "paper",
          "y": 0.5,
          "yref": "paper"
         }
        ],
        "font": {
         "color": "#371ea3"
        },
        "height": 489,
        "hovermode": "x unified",
        "legend": {
         "font": {
          "size": 11
         },
         "itemsizing": "constant",
         "orientation": "h",
         "title": {
          "font": {
           "size": 12
          },
          "text": "label"
         },
         "tracegroupgap": 0,
         "x": 1,
         "xanchor": "right",
         "y": 1.0613496932515338,
         "yanchor": "bottom"
        },
        "margin": {
         "b": 71,
         "r": 30,
         "t": 78
        },
        "template": {
         "data": {
          "scatter": [
           {
            "type": "scatter"
           }
          ]
         }
        },
        "title": {
         "font": {
          "size": 16
         },
         "text": "Aggregated Profiles",
         "x": 0.15
        },
        "xaxis": {
         "anchor": "y",
         "automargin": true,
         "domain": [
          0,
          1
         ],
         "fixedrange": true,
         "gridwidth": 2,
         "showticklabels": true,
         "tickcolor": "white",
         "ticklen": 3,
         "ticks": "outside",
         "title": {
          "text": ""
         },
         "type": "linear",
         "zeroline": false
        },
        "yaxis": {
         "anchor": "x",
         "automargin": true,
         "domain": [
          0,
          1
         ],
         "fixedrange": true,
         "gridwidth": 2,
         "range": [
          -0.011657792747232332,
          0.8043302533393439
         ],
         "tickcolor": "white",
         "ticklen": 3,
         "ticks": "outside",
         "title": {
          "text": ""
         },
         "type": "linear",
         "zeroline": false
        }
       }
      },
      "text/html": [
       "<div>                            <div id=\"18b87238-87f5-4238-bfd3-74411dce57c0\" class=\"plotly-graph-div\" style=\"height:489px; width:100%;\"></div>            <script type=\"text/javascript\">                require([\"plotly\"], function(Plotly) {                    window.PLOTLYENV=window.PLOTLYENV || {};                                    if (document.getElementById(\"18b87238-87f5-4238-bfd3-74411dce57c0\")) {                    Plotly.newPlot(                        \"18b87238-87f5-4238-bfd3-74411dce57c0\",                        [{\"customdata\":[[0.2892843311390548,\"LGBMClassifier\",\"age\"],[0.2892843311390548,\"LGBMClassifier\",\"age\"],[0.2892843311390548,\"LGBMClassifier\",\"age\"],[0.2892843311390548,\"LGBMClassifier\",\"age\"],[0.2892843311390548,\"LGBMClassifier\",\"age\"],[0.2892843311390548,\"LGBMClassifier\",\"age\"],[0.2892843311390548,\"LGBMClassifier\",\"age\"],[0.2892843311390548,\"LGBMClassifier\",\"age\"],[0.2892843311390548,\"LGBMClassifier\",\"age\"],[0.2892843311390548,\"LGBMClassifier\",\"age\"],[0.2892843311390548,\"LGBMClassifier\",\"age\"],[0.2892843311390548,\"LGBMClassifier\",\"age\"],[0.2892843311390548,\"LGBMClassifier\",\"age\"],[0.2892843311390548,\"LGBMClassifier\",\"age\"],[0.2892843311390548,\"LGBMClassifier\",\"age\"],[0.2892843311390548,\"LGBMClassifier\",\"age\"],[0.2892843311390548,\"LGBMClassifier\",\"age\"],[0.2892843311390548,\"LGBMClassifier\",\"age\"],[0.2892843311390548,\"LGBMClassifier\",\"age\"],[0.2892843311390548,\"LGBMClassifier\",\"age\"],[0.2892843311390548,\"LGBMClassifier\",\"age\"],[0.2892843311390548,\"LGBMClassifier\",\"age\"],[0.2892843311390548,\"LGBMClassifier\",\"age\"],[0.2892843311390548,\"LGBMClassifier\",\"age\"],[0.2892843311390548,\"LGBMClassifier\",\"age\"],[0.2892843311390548,\"LGBMClassifier\",\"age\"],[0.2892843311390548,\"LGBMClassifier\",\"age\"],[0.2892843311390548,\"LGBMClassifier\",\"age\"],[0.2892843311390548,\"LGBMClassifier\",\"age\"],[0.2892843311390548,\"LGBMClassifier\",\"age\"],[0.2892843311390548,\"LGBMClassifier\",\"age\"],[0.2892843311390548,\"LGBMClassifier\",\"age\"],[0.2892843311390548,\"LGBMClassifier\",\"age\"],[0.2892843311390548,\"LGBMClassifier\",\"age\"],[0.2892843311390548,\"LGBMClassifier\",\"age\"],[0.2892843311390548,\"LGBMClassifier\",\"age\"],[0.2892843311390548,\"LGBMClassifier\",\"age\"],[0.2892843311390548,\"LGBMClassifier\",\"age\"],[0.2892843311390548,\"LGBMClassifier\",\"age\"],[0.2892843311390548,\"LGBMClassifier\",\"age\"],[0.2892843311390548,\"LGBMClassifier\",\"age\"],[0.2892843311390548,\"LGBMClassifier\",\"age\"],[0.2892843311390548,\"LGBMClassifier\",\"age\"],[0.2892843311390548,\"LGBMClassifier\",\"age\"],[0.2892843311390548,\"LGBMClassifier\",\"age\"],[0.2892843311390548,\"LGBMClassifier\",\"age\"],[0.2892843311390548,\"LGBMClassifier\",\"age\"],[0.2892843311390548,\"LGBMClassifier\",\"age\"],[0.2892843311390548,\"LGBMClassifier\",\"age\"],[0.2892843311390548,\"LGBMClassifier\",\"age\"],[0.2892843311390548,\"LGBMClassifier\",\"age\"],[0.2892843311390548,\"LGBMClassifier\",\"age\"],[0.2892843311390548,\"LGBMClassifier\",\"age\"],[0.2892843311390548,\"LGBMClassifier\",\"age\"],[0.2892843311390548,\"LGBMClassifier\",\"age\"],[0.2892843311390548,\"LGBMClassifier\",\"age\"],[0.2892843311390548,\"LGBMClassifier\",\"age\"],[0.2892843311390548,\"LGBMClassifier\",\"age\"],[0.2892843311390548,\"LGBMClassifier\",\"age\"],[0.2892843311390548,\"LGBMClassifier\",\"age\"],[0.2892843311390548,\"LGBMClassifier\",\"age\"],[0.2892843311390548,\"LGBMClassifier\",\"age\"],[0.2892843311390548,\"LGBMClassifier\",\"age\"],[0.2892843311390548,\"LGBMClassifier\",\"age\"],[0.2892843311390548,\"LGBMClassifier\",\"age\"],[0.2892843311390548,\"LGBMClassifier\",\"age\"],[0.2892843311390548,\"LGBMClassifier\",\"age\"],[0.2892843311390548,\"LGBMClassifier\",\"age\"],[0.2892843311390548,\"LGBMClassifier\",\"age\"],[0.2892843311390548,\"LGBMClassifier\",\"age\"],[0.2892843311390548,\"LGBMClassifier\",\"age\"],[0.2892843311390548,\"LGBMClassifier\",\"age\"],[0.2892843311390548,\"LGBMClassifier\",\"age\"],[0.2892843311390548,\"LGBMClassifier\",\"age\"],[0.2892843311390548,\"LGBMClassifier\",\"age\"],[0.2892843311390548,\"LGBMClassifier\",\"age\"],[0.2892843311390548,\"LGBMClassifier\",\"age\"],[0.2892843311390548,\"LGBMClassifier\",\"age\"],[0.2892843311390548,\"LGBMClassifier\",\"age\"],[0.2892843311390548,\"LGBMClassifier\",\"age\"],[0.2892843311390548,\"LGBMClassifier\",\"age\"],[0.2892843311390548,\"LGBMClassifier\",\"age\"],[0.2892843311390548,\"LGBMClassifier\",\"age\"],[0.2892843311390548,\"LGBMClassifier\",\"age\"],[0.2892843311390548,\"LGBMClassifier\",\"age\"],[0.2892843311390548,\"LGBMClassifier\",\"age\"],[0.2892843311390548,\"LGBMClassifier\",\"age\"],[0.2892843311390548,\"LGBMClassifier\",\"age\"],[0.2892843311390548,\"LGBMClassifier\",\"age\"],[0.2892843311390548,\"LGBMClassifier\",\"age\"],[0.2892843311390548,\"LGBMClassifier\",\"age\"],[0.2892843311390548,\"LGBMClassifier\",\"age\"],[0.2892843311390548,\"LGBMClassifier\",\"age\"],[0.2892843311390548,\"LGBMClassifier\",\"age\"],[0.2892843311390548,\"LGBMClassifier\",\"age\"],[0.2892843311390548,\"LGBMClassifier\",\"age\"],[0.2892843311390548,\"LGBMClassifier\",\"age\"],[0.2892843311390548,\"LGBMClassifier\",\"age\"],[0.2892843311390548,\"LGBMClassifier\",\"age\"],[0.2892843311390548,\"LGBMClassifier\",\"age\"],[0.2892843311390548,\"LGBMClassifier\",\"age\"]],\"hovertemplate\":\"<b>%{hovertext}</b><br><br>prediction=%{y:.3f}<br>mean_prediction=%{customdata[0]:.3f}<extra></extra>\",\"hovertext\":[\"LGBMClassifier\",\"LGBMClassifier\",\"LGBMClassifier\",\"LGBMClassifier\",\"LGBMClassifier\",\"LGBMClassifier\",\"LGBMClassifier\",\"LGBMClassifier\",\"LGBMClassifier\",\"LGBMClassifier\",\"LGBMClassifier\",\"LGBMClassifier\",\"LGBMClassifier\",\"LGBMClassifier\",\"LGBMClassifier\",\"LGBMClassifier\",\"LGBMClassifier\",\"LGBMClassifier\",\"LGBMClassifier\",\"LGBMClassifier\",\"LGBMClassifier\",\"LGBMClassifier\",\"LGBMClassifier\",\"LGBMClassifier\",\"LGBMClassifier\",\"LGBMClassifier\",\"LGBMClassifier\",\"LGBMClassifier\",\"LGBMClassifier\",\"LGBMClassifier\",\"LGBMClassifier\",\"LGBMClassifier\",\"LGBMClassifier\",\"LGBMClassifier\",\"LGBMClassifier\",\"LGBMClassifier\",\"LGBMClassifier\",\"LGBMClassifier\",\"LGBMClassifier\",\"LGBMClassifier\",\"LGBMClassifier\",\"LGBMClassifier\",\"LGBMClassifier\",\"LGBMClassifier\",\"LGBMClassifier\",\"LGBMClassifier\",\"LGBMClassifier\",\"LGBMClassifier\",\"LGBMClassifier\",\"LGBMClassifier\",\"LGBMClassifier\",\"LGBMClassifier\",\"LGBMClassifier\",\"LGBMClassifier\",\"LGBMClassifier\",\"LGBMClassifier\",\"LGBMClassifier\",\"LGBMClassifier\",\"LGBMClassifier\",\"LGBMClassifier\",\"LGBMClassifier\",\"LGBMClassifier\",\"LGBMClassifier\",\"LGBMClassifier\",\"LGBMClassifier\",\"LGBMClassifier\",\"LGBMClassifier\",\"LGBMClassifier\",\"LGBMClassifier\",\"LGBMClassifier\",\"LGBMClassifier\",\"LGBMClassifier\",\"LGBMClassifier\",\"LGBMClassifier\",\"LGBMClassifier\",\"LGBMClassifier\",\"LGBMClassifier\",\"LGBMClassifier\",\"LGBMClassifier\",\"LGBMClassifier\",\"LGBMClassifier\",\"LGBMClassifier\",\"LGBMClassifier\",\"LGBMClassifier\",\"LGBMClassifier\",\"LGBMClassifier\",\"LGBMClassifier\",\"LGBMClassifier\",\"LGBMClassifier\",\"LGBMClassifier\",\"LGBMClassifier\",\"LGBMClassifier\",\"LGBMClassifier\",\"LGBMClassifier\",\"LGBMClassifier\",\"LGBMClassifier\",\"LGBMClassifier\",\"LGBMClassifier\",\"LGBMClassifier\",\"LGBMClassifier\",\"LGBMClassifier\"],\"legendgroup\":\"LGBMClassifier\",\"line\":{\"color\":\"#46bac2\",\"dash\":\"solid\",\"width\":2},\"marker\":{\"symbol\":\"circle\"},\"mode\":\"lines\",\"name\":\"LGBMClassifier\",\"orientation\":\"v\",\"showlegend\":true,\"x\":[0.08,0.8992,1.7184000000000001,2.5376000000000003,3.3568000000000002,4.176,4.9952000000000005,5.8144,6.6336,7.452800000000001,8.272,9.0912,9.910400000000001,10.729600000000001,11.5488,12.368,13.1872,14.006400000000001,14.825600000000001,15.6448,16.464,17.2832,18.1024,18.921599999999998,19.7408,20.56,21.3792,22.1984,23.017599999999998,23.8368,24.656,25.4752,26.2944,27.113599999999998,27.9328,28.752,29.5712,30.3904,31.2096,32.028800000000004,32.848,33.6672,34.4864,35.3056,36.1248,36.944,37.7632,38.5824,39.4016,40.2208,41.04,41.8592,42.6784,43.4976,44.3168,45.136,45.9552,46.7744,47.5936,48.4128,49.232,50.0512,50.870400000000004,51.6896,52.5088,53.328,54.1472,54.9664,55.7856,56.604800000000004,57.424,58.2432,59.062400000000004,59.8816,60.7008,61.52,62.3392,63.1584,63.9776,64.7968,65.616,66.4352,67.2544,68.0736,68.89280000000001,69.712,70.5312,71.35040000000001,72.1696,72.9888,73.808,74.6272,75.4464,76.2656,77.0848,77.904,78.7232,79.5424,80.3616,81.1808,82.0],\"xaxis\":\"x\",\"y\":[0.056579361437752385,0.056579361437752385,0.056579361437752385,0.056579361437752385,0.056579361437752385,0.05635098773544128,0.05635098773544128,0.05635098773544128,0.05635098773544128,0.05635098773544128,0.05635098773544128,0.05635098773544128,0.05635098773544128,0.05635098773544128,0.05634121109331569,0.05634121109331569,0.05634121109331569,0.05634121109331569,0.05634121109331569,0.05634121109331569,0.05634121109331569,0.05634121109331569,0.05634121109331569,0.05634121109331569,0.05634121109331569,0.05634121109331569,0.05634121109331569,0.05634121109331569,0.05634121109331569,0.05634121109331569,0.05634121109331569,0.05634121109331569,0.05634121109331569,0.05634121109331569,0.05634121109331569,0.05634121109331569,0.05634121109331569,0.05829078285619163,0.05829078285619163,0.058461470800014737,0.058461470800014737,0.05844529299196266,0.05844529299196266,0.07762967685550068,0.07762967685550068,0.07762967685550068,0.11753762789816669,0.15967930232054514,0.15901546885759812,0.158962770378971,0.18033058888174375,0.18033058888174375,0.1803242145140042,0.19965781483550823,0.20395117378559569,0.222217187124879,0.21566000713709121,0.30325623527931894,0.30325623527931894,0.3028458561524785,0.3028458561524785,0.3636454337072246,0.3636454337072246,0.3636454337072246,0.36343522057669053,0.369240070413432,0.46362566191137783,0.46068128979956097,0.538793765336955,0.5891797384617319,0.5398202188357579,0.5217260534510191,0.5250706258142956,0.5250706258142956,0.5082526608825683,0.5082526608825683,0.5082233299354255,0.5082233299354255,0.5075151721855882,0.5125109191232123,0.5214981450020724,0.5423686255273423,0.6436857853961444,0.6478767062098534,0.6478767062098534,0.6489764558852917,0.6488763380059805,0.710369690324536,0.7104727146143304,0.7104727146143304,0.7104727146143304,0.7104727146143304,0.7312053655949291,0.7312037979842934,0.7312037979842934,0.7312037979842934,0.7363312494987959,0.7363312494987959,0.7363312494987959,0.7333931941718383,0.5974781840322458],\"yaxis\":\"y\",\"type\":\"scatter\",\"opacity\":1}],                        {\"template\":{\"data\":{\"scatter\":[{\"type\":\"scatter\"}]}},\"xaxis\":{\"anchor\":\"y\",\"domain\":[0.0,1.0],\"title\":{\"text\":\"\"},\"showticklabels\":true,\"type\":\"linear\",\"gridwidth\":2,\"zeroline\":false,\"automargin\":true,\"ticks\":\"outside\",\"tickcolor\":\"white\",\"ticklen\":3,\"fixedrange\":true},\"yaxis\":{\"anchor\":\"x\",\"domain\":[0.0,1.0],\"title\":{\"text\":\"\"},\"range\":[-0.011657792747232332,0.8043302533393439],\"type\":\"linear\",\"gridwidth\":2,\"zeroline\":false,\"automargin\":true,\"ticks\":\"outside\",\"tickcolor\":\"white\",\"ticklen\":3,\"fixedrange\":true},\"annotations\":[{\"font\":{\"size\":13},\"showarrow\":false,\"text\":\"age\",\"x\":0.5,\"xanchor\":\"center\",\"xref\":\"paper\",\"y\":1.0,\"yanchor\":\"bottom\",\"yref\":\"paper\"},{\"font\":{\"size\":13},\"showarrow\":false,\"text\":\"prediction\",\"textangle\":-90,\"x\":-0.07,\"xref\":\"paper\",\"y\":0.5,\"yref\":\"paper\"}],\"legend\":{\"title\":{\"text\":\"label\",\"font\":{\"size\":12}},\"tracegroupgap\":0,\"font\":{\"size\":11},\"orientation\":\"h\",\"yanchor\":\"bottom\",\"y\":1.0613496932515338,\"xanchor\":\"right\",\"x\":1,\"itemsizing\":\"constant\"},\"margin\":{\"t\":78,\"b\":71,\"r\":30},\"font\":{\"color\":\"#371ea3\"},\"title\":{\"font\":{\"size\":16},\"text\":\"Aggregated Profiles\",\"x\":0.15},\"hovermode\":\"x unified\",\"height\":489},                        {\"displaylogo\": false, \"staticPlot\": false, \"toImageButtonOptions\": {\"height\": null, \"width\": null}, \"modeBarButtonsToRemove\": [\"sendDataToCloud\", \"lasso2d\", \"autoScale2d\", \"select2d\", \"zoom2d\", \"pan2d\", \"zoomIn2d\", \"zoomOut2d\", \"resetScale2d\", \"toggleSpikelines\", \"hoverCompareCartesian\", \"hoverClosestCartesian\"], \"responsive\": true}                    ).then(function(){\n",
       "                            \n",
       "var gd = document.getElementById('18b87238-87f5-4238-bfd3-74411dce57c0');\n",
       "var x = new MutationObserver(function (mutations, observer) {{\n",
       "        var display = window.getComputedStyle(gd).display;\n",
       "        if (!display || display === 'none') {{\n",
       "            console.log([gd, 'removed!']);\n",
       "            Plotly.purge(gd);\n",
       "            observer.disconnect();\n",
       "        }}\n",
       "}});\n",
       "\n",
       "// Listen for the removal of the full notebook cells\n",
       "var notebookContainer = gd.closest('#notebook-container');\n",
       "if (notebookContainer) {{\n",
       "    x.observe(notebookContainer, {childList: true});\n",
       "}}\n",
       "\n",
       "// Listen for the clearing of the current output cell\n",
       "var outputEl = gd.closest('.output');\n",
       "if (outputEl) {{\n",
       "    x.observe(outputEl, {childList: true});\n",
       "}}\n",
       "\n",
       "                        })                };                });            </script>        </div>"
      ]
     },
     "metadata": {},
     "output_type": "display_data"
    }
   ],
   "source": [
    "#ALE plot for age \n",
    "exp.model_profile(type = 'accumulated',\n",
    "          variables = [\"age\"],\n",
    "                 verbose=False).plot()"
   ]
  },
  {
   "cell_type": "markdown",
   "id": "65e137aa",
   "metadata": {},
   "source": [
    "** By default, the profile is based on 100 randomly selected observations."
   ]
  },
  {
   "cell_type": "markdown",
   "id": "27367654",
   "metadata": {},
   "source": [
    "<b>Key Insights </b>\n",
    "\n",
    "We can see that the probability of having a stroke increases as age increases. This means that older people have a higher probability of having a stroke compared to younger people. This information can be used by medical professionals to identify the risk of stroke in different age groups and develop preventive measures accordingly.   "
   ]
  },
  {
   "cell_type": "markdown",
   "id": "08b0766f",
   "metadata": {},
   "source": [
    "### PDP vs ALE Plot using Dalex Explainer\n",
    "The Dalex package's explainer object's model_profile() function offers the capability to generate both PD and ALE plots through the use of the \"type\" argument, which defines the type of model profiles. The results of the computation are stored as a data frame in the \"result\" field, which I utilized to generate side-by-side PD and ALE plots, facilitating an in-depth comparison."
   ]
  },
  {
   "cell_type": "code",
   "execution_count": 26,
   "id": "a87a9dc2",
   "metadata": {
    "ExecuteTime": {
     "end_time": "2022-12-20T02:20:21.199020Z",
     "start_time": "2022-12-20T02:20:18.890007Z"
    },
    "scrolled": false
   },
   "outputs": [
    {
     "data": {
      "application/vnd.plotly.v1+json": {
       "config": {
        "plotlyServerURL": "https://plot.ly"
       },
       "data": [
        {
         "line": {
          "color": "#008B8B",
          "width": 3
         },
         "mode": "lines+markers",
         "name": "ALE_age",
         "type": "scatter",
         "x": [
          0.08,
          0.8992,
          1.7184000000000001,
          2.5376000000000003,
          3.3568000000000002,
          4.176,
          4.9952000000000005,
          5.8144,
          6.6336,
          7.452800000000001,
          8.272,
          9.0912,
          9.910400000000001,
          10.729600000000001,
          11.5488,
          12.368,
          13.1872,
          14.006400000000001,
          14.825600000000001,
          15.6448,
          16.464,
          17.2832,
          18.1024,
          18.921599999999998,
          19.7408,
          20.56,
          21.3792,
          22.1984,
          23.017599999999998,
          23.8368,
          24.656,
          25.4752,
          26.2944,
          27.113599999999998,
          27.9328,
          28.752,
          29.5712,
          30.3904,
          31.2096,
          32.028800000000004,
          32.848,
          33.6672,
          34.4864,
          35.3056,
          36.1248,
          36.944,
          37.7632,
          38.5824,
          39.4016,
          40.2208,
          41.04,
          41.8592,
          42.6784,
          43.4976,
          44.3168,
          45.136,
          45.9552,
          46.7744,
          47.5936,
          48.4128,
          49.232,
          50.0512,
          50.870400000000004,
          51.6896,
          52.5088,
          53.328,
          54.1472,
          54.9664,
          55.7856,
          56.604800000000004,
          57.424,
          58.2432,
          59.062400000000004,
          59.8816,
          60.7008,
          61.52,
          62.3392,
          63.1584,
          63.9776,
          64.7968,
          65.616,
          66.4352,
          67.2544,
          68.0736,
          68.89280000000001,
          69.712,
          70.5312,
          71.35040000000001,
          72.1696,
          72.9888,
          73.808,
          74.6272,
          75.4464,
          76.2656,
          77.0848,
          77.904,
          78.7232,
          79.5424,
          80.3616,
          81.1808,
          82
         ],
         "y": [
          0,
          0,
          0,
          0,
          0,
          -0.00030835287285912896,
          -0.00030835287285912896,
          -0.00030835287285912896,
          -0.00030835287285912896,
          -0.00030835287285912896,
          -0.00030835287285912896,
          -0.00030835287285912896,
          -0.00030835287285912896,
          -0.00030835287285912896,
          -0.0003144381420937862,
          -0.0003144381420937862,
          -0.0003144381420937862,
          -0.0003144381420937862,
          -0.0003144381420937862,
          -0.0003144381420937862,
          -0.0003144381420937862,
          -0.0003144381420937862,
          -0.0003144381420937862,
          -0.0003144381420937862,
          -0.0003144381420937862,
          -0.0003144381420937862,
          -0.0003144381420937862,
          -0.0003144381420937862,
          -0.0003144381420937862,
          -0.0003144381420937862,
          -0.0003144381420937862,
          -0.0003144381420937862,
          -0.0003144381420937862,
          -0.0003144381420937862,
          -0.0003144381420937862,
          -0.0003144381420937862,
          -0.0003144381420937862,
          0.001615862567282616,
          0.001615862567282616,
          0.0017881133597315636,
          0.0017881133597315636,
          0.0017679277377545897,
          0.0017679277377545897,
          0.018858884474014327,
          0.018858884474014327,
          0.018858884474014327,
          0.05507965744741113,
          0.09319044811246094,
          0.09248829253892633,
          0.09243245974898338,
          0.11078839091153542,
          0.11078839091153542,
          0.1107837885219177,
          0.12841154737451765,
          0.13263885002425646,
          0.14769446251350493,
          0.14136639755791594,
          0.21610616655996584,
          0.21610616655996584,
          0.2154614990529547,
          0.2154614990529547,
          0.2752800837817669,
          0.2752800837817669,
          0.2752800837817669,
          0.27494510034242636,
          0.2805660211366489,
          0.36597317363265375,
          0.3630613552789269,
          0.4386605264406934,
          0.48829044318822495,
          0.4371180385452465,
          0.4190776454592505,
          0.42272188850576686,
          0.42272188850576686,
          0.4053723709871425,
          0.4053723709871425,
          0.40533890601114175,
          0.40533890601114175,
          0.4044810637455336,
          0.4125815017286662,
          0.42792108054025985,
          0.44904921784816615,
          0.5587393753946788,
          0.5643163029656979,
          0.5643163029656979,
          0.5649311965798346,
          0.564884022997939,
          0.6315229025918497,
          0.631681048527606,
          0.631681048527606,
          0.631681048527606,
          0.631681048527606,
          0.6565475785635392,
          0.6567242320101453,
          0.6567242320101453,
          0.6567242320101453,
          0.6614314840515336,
          0.6614314840515336,
          0.6614314840515336,
          0.658940547354626,
          0.5167348202983125
         ]
        },
        {
         "line": {
          "color": "firebrick",
          "width": 3
         },
         "mode": "lines",
         "name": "PDP_age",
         "type": "scatter",
         "x": [
          0.08,
          0.8992,
          1.7184000000000001,
          2.5376000000000003,
          3.3568000000000002,
          4.176,
          4.9952000000000005,
          5.8144,
          6.6336,
          7.452800000000001,
          8.272,
          9.0912,
          9.910400000000001,
          10.729600000000001,
          11.5488,
          12.368,
          13.1872,
          14.006400000000001,
          14.825600000000001,
          15.6448,
          16.464,
          17.2832,
          18.1024,
          18.921599999999998,
          19.7408,
          20.56,
          21.3792,
          22.1984,
          23.017599999999998,
          23.8368,
          24.656,
          25.4752,
          26.2944,
          27.113599999999998,
          27.9328,
          28.752,
          29.5712,
          30.3904,
          31.2096,
          32.028800000000004,
          32.848,
          33.6672,
          34.4864,
          35.3056,
          36.1248,
          36.944,
          37.7632,
          38.5824,
          39.4016,
          40.2208,
          41.04,
          41.8592,
          42.6784,
          43.4976,
          44.3168,
          45.136,
          45.9552,
          46.7744,
          47.5936,
          48.4128,
          49.232,
          50.0512,
          50.870400000000004,
          51.6896,
          52.5088,
          53.328,
          54.1472,
          54.9664,
          55.7856,
          56.604800000000004,
          57.424,
          58.2432,
          59.062400000000004,
          59.8816,
          60.7008,
          61.52,
          62.3392,
          63.1584,
          63.9776,
          64.7968,
          65.616,
          66.4352,
          67.2544,
          68.0736,
          68.89280000000001,
          69.712,
          70.5312,
          71.35040000000001,
          72.1696,
          72.9888,
          73.808,
          74.6272,
          75.4464,
          76.2656,
          77.0848,
          77.904,
          78.7232,
          79.5424,
          80.3616,
          81.1808,
          82
         ],
         "y": [
          0.056293473292063835,
          0.056293473292063835,
          0.056293473292063835,
          0.056293473292063835,
          0.056293473292063835,
          0.056143046017873954,
          0.056143046017873954,
          0.056143046017873954,
          0.056143046017873954,
          0.056143046017873954,
          0.056143046017873954,
          0.056143046017873954,
          0.056143046017873954,
          0.056143046017873954,
          0.056138223960819966,
          0.056138223960819966,
          0.056138223960819966,
          0.056138223960819966,
          0.056138223960819966,
          0.056138223960819966,
          0.056138223960819966,
          0.056138223960819966,
          0.056138223960819966,
          0.056138223960819966,
          0.056138223960819966,
          0.056138223960819966,
          0.056138223960819966,
          0.056138223960819966,
          0.056138223960819966,
          0.056138223960819966,
          0.056138223960819966,
          0.056138223960819966,
          0.056138223960819966,
          0.056138223960819966,
          0.056138223960819966,
          0.056138223960819966,
          0.056138223960819966,
          0.05810839217280964,
          0.05810839217280964,
          0.058282147917111886,
          0.058282147917111886,
          0.058263451566369695,
          0.058263451566369695,
          0.07799843906823169,
          0.07799843906823169,
          0.07799843906823169,
          0.11344937786198477,
          0.14909646511339325,
          0.14853121238609615,
          0.1484104862929555,
          0.16430291162353816,
          0.16430291162353816,
          0.1642834330653536,
          0.1778544016873576,
          0.18142865003139577,
          0.19342706018485434,
          0.18805736365427247,
          0.24525363502854133,
          0.24525363502854133,
          0.24453472179927932,
          0.24453472179927932,
          0.2940672422274976,
          0.2940672422274976,
          0.2940672422274976,
          0.29370934175425595,
          0.2989385894438073,
          0.37371494138485556,
          0.37097001884758246,
          0.44501844048846106,
          0.4956165655622933,
          0.4457253685767553,
          0.43020100036998327,
          0.43522635730236253,
          0.43522635730236253,
          0.4169393488702584,
          0.4169393488702584,
          0.4168940322025297,
          0.4168940322025297,
          0.416073348920837,
          0.42131521388484966,
          0.4319998935069477,
          0.45037999699513437,
          0.5752611907191413,
          0.5829255672882562,
          0.5829255672882562,
          0.5837011878223369,
          0.5833350154223296,
          0.6555057338176726,
          0.6559095514111535,
          0.6559095514111535,
          0.6559095514111535,
          0.6559095514111535,
          0.6881694297944972,
          0.6888469251898541,
          0.6888469251898541,
          0.6888469251898541,
          0.6934334320267324,
          0.6934334320267324,
          0.6934334320267324,
          0.6907302747381556,
          0.5524295413954758
         ]
        }
       ],
       "layout": {
        "annotations": [
         {
          "showarrow": false,
          "text": "mean prediction",
          "x": 1,
          "xanchor": "right",
          "xref": "x domain",
          "y": 0.27932515419544385,
          "yanchor": "top",
          "yref": "y"
         }
        ],
        "shapes": [
         {
          "line": {
           "color": "black",
           "dash": "dash",
           "width": 2
          },
          "type": "line",
          "x0": 0,
          "x1": 1,
          "xref": "x domain",
          "y0": 0.27932515419544385,
          "y1": 0.27932515419544385,
          "yref": "y"
         }
        ],
        "template": {
         "data": {
          "bar": [
           {
            "error_x": {
             "color": "#2a3f5f"
            },
            "error_y": {
             "color": "#2a3f5f"
            },
            "marker": {
             "line": {
              "color": "white",
              "width": 0.5
             },
             "pattern": {
              "fillmode": "overlay",
              "size": 10,
              "solidity": 0.2
             }
            },
            "type": "bar"
           }
          ],
          "barpolar": [
           {
            "marker": {
             "line": {
              "color": "white",
              "width": 0.5
             },
             "pattern": {
              "fillmode": "overlay",
              "size": 10,
              "solidity": 0.2
             }
            },
            "type": "barpolar"
           }
          ],
          "carpet": [
           {
            "aaxis": {
             "endlinecolor": "#2a3f5f",
             "gridcolor": "#C8D4E3",
             "linecolor": "#C8D4E3",
             "minorgridcolor": "#C8D4E3",
             "startlinecolor": "#2a3f5f"
            },
            "baxis": {
             "endlinecolor": "#2a3f5f",
             "gridcolor": "#C8D4E3",
             "linecolor": "#C8D4E3",
             "minorgridcolor": "#C8D4E3",
             "startlinecolor": "#2a3f5f"
            },
            "type": "carpet"
           }
          ],
          "choropleth": [
           {
            "colorbar": {
             "outlinewidth": 0,
             "ticks": ""
            },
            "type": "choropleth"
           }
          ],
          "contour": [
           {
            "colorbar": {
             "outlinewidth": 0,
             "ticks": ""
            },
            "colorscale": [
             [
              0,
              "#0d0887"
             ],
             [
              0.1111111111111111,
              "#46039f"
             ],
             [
              0.2222222222222222,
              "#7201a8"
             ],
             [
              0.3333333333333333,
              "#9c179e"
             ],
             [
              0.4444444444444444,
              "#bd3786"
             ],
             [
              0.5555555555555556,
              "#d8576b"
             ],
             [
              0.6666666666666666,
              "#ed7953"
             ],
             [
              0.7777777777777778,
              "#fb9f3a"
             ],
             [
              0.8888888888888888,
              "#fdca26"
             ],
             [
              1,
              "#f0f921"
             ]
            ],
            "type": "contour"
           }
          ],
          "contourcarpet": [
           {
            "colorbar": {
             "outlinewidth": 0,
             "ticks": ""
            },
            "type": "contourcarpet"
           }
          ],
          "heatmap": [
           {
            "colorbar": {
             "outlinewidth": 0,
             "ticks": ""
            },
            "colorscale": [
             [
              0,
              "#0d0887"
             ],
             [
              0.1111111111111111,
              "#46039f"
             ],
             [
              0.2222222222222222,
              "#7201a8"
             ],
             [
              0.3333333333333333,
              "#9c179e"
             ],
             [
              0.4444444444444444,
              "#bd3786"
             ],
             [
              0.5555555555555556,
              "#d8576b"
             ],
             [
              0.6666666666666666,
              "#ed7953"
             ],
             [
              0.7777777777777778,
              "#fb9f3a"
             ],
             [
              0.8888888888888888,
              "#fdca26"
             ],
             [
              1,
              "#f0f921"
             ]
            ],
            "type": "heatmap"
           }
          ],
          "heatmapgl": [
           {
            "colorbar": {
             "outlinewidth": 0,
             "ticks": ""
            },
            "colorscale": [
             [
              0,
              "#0d0887"
             ],
             [
              0.1111111111111111,
              "#46039f"
             ],
             [
              0.2222222222222222,
              "#7201a8"
             ],
             [
              0.3333333333333333,
              "#9c179e"
             ],
             [
              0.4444444444444444,
              "#bd3786"
             ],
             [
              0.5555555555555556,
              "#d8576b"
             ],
             [
              0.6666666666666666,
              "#ed7953"
             ],
             [
              0.7777777777777778,
              "#fb9f3a"
             ],
             [
              0.8888888888888888,
              "#fdca26"
             ],
             [
              1,
              "#f0f921"
             ]
            ],
            "type": "heatmapgl"
           }
          ],
          "histogram": [
           {
            "marker": {
             "pattern": {
              "fillmode": "overlay",
              "size": 10,
              "solidity": 0.2
             }
            },
            "type": "histogram"
           }
          ],
          "histogram2d": [
           {
            "colorbar": {
             "outlinewidth": 0,
             "ticks": ""
            },
            "colorscale": [
             [
              0,
              "#0d0887"
             ],
             [
              0.1111111111111111,
              "#46039f"
             ],
             [
              0.2222222222222222,
              "#7201a8"
             ],
             [
              0.3333333333333333,
              "#9c179e"
             ],
             [
              0.4444444444444444,
              "#bd3786"
             ],
             [
              0.5555555555555556,
              "#d8576b"
             ],
             [
              0.6666666666666666,
              "#ed7953"
             ],
             [
              0.7777777777777778,
              "#fb9f3a"
             ],
             [
              0.8888888888888888,
              "#fdca26"
             ],
             [
              1,
              "#f0f921"
             ]
            ],
            "type": "histogram2d"
           }
          ],
          "histogram2dcontour": [
           {
            "colorbar": {
             "outlinewidth": 0,
             "ticks": ""
            },
            "colorscale": [
             [
              0,
              "#0d0887"
             ],
             [
              0.1111111111111111,
              "#46039f"
             ],
             [
              0.2222222222222222,
              "#7201a8"
             ],
             [
              0.3333333333333333,
              "#9c179e"
             ],
             [
              0.4444444444444444,
              "#bd3786"
             ],
             [
              0.5555555555555556,
              "#d8576b"
             ],
             [
              0.6666666666666666,
              "#ed7953"
             ],
             [
              0.7777777777777778,
              "#fb9f3a"
             ],
             [
              0.8888888888888888,
              "#fdca26"
             ],
             [
              1,
              "#f0f921"
             ]
            ],
            "type": "histogram2dcontour"
           }
          ],
          "mesh3d": [
           {
            "colorbar": {
             "outlinewidth": 0,
             "ticks": ""
            },
            "type": "mesh3d"
           }
          ],
          "parcoords": [
           {
            "line": {
             "colorbar": {
              "outlinewidth": 0,
              "ticks": ""
             }
            },
            "type": "parcoords"
           }
          ],
          "pie": [
           {
            "automargin": true,
            "type": "pie"
           }
          ],
          "scatter": [
           {
            "marker": {
             "colorbar": {
              "outlinewidth": 0,
              "ticks": ""
             }
            },
            "type": "scatter"
           }
          ],
          "scatter3d": [
           {
            "line": {
             "colorbar": {
              "outlinewidth": 0,
              "ticks": ""
             }
            },
            "marker": {
             "colorbar": {
              "outlinewidth": 0,
              "ticks": ""
             }
            },
            "type": "scatter3d"
           }
          ],
          "scattercarpet": [
           {
            "marker": {
             "colorbar": {
              "outlinewidth": 0,
              "ticks": ""
             }
            },
            "type": "scattercarpet"
           }
          ],
          "scattergeo": [
           {
            "marker": {
             "colorbar": {
              "outlinewidth": 0,
              "ticks": ""
             }
            },
            "type": "scattergeo"
           }
          ],
          "scattergl": [
           {
            "marker": {
             "colorbar": {
              "outlinewidth": 0,
              "ticks": ""
             }
            },
            "type": "scattergl"
           }
          ],
          "scattermapbox": [
           {
            "marker": {
             "colorbar": {
              "outlinewidth": 0,
              "ticks": ""
             }
            },
            "type": "scattermapbox"
           }
          ],
          "scatterpolar": [
           {
            "marker": {
             "colorbar": {
              "outlinewidth": 0,
              "ticks": ""
             }
            },
            "type": "scatterpolar"
           }
          ],
          "scatterpolargl": [
           {
            "marker": {
             "colorbar": {
              "outlinewidth": 0,
              "ticks": ""
             }
            },
            "type": "scatterpolargl"
           }
          ],
          "scatterternary": [
           {
            "marker": {
             "colorbar": {
              "outlinewidth": 0,
              "ticks": ""
             }
            },
            "type": "scatterternary"
           }
          ],
          "surface": [
           {
            "colorbar": {
             "outlinewidth": 0,
             "ticks": ""
            },
            "colorscale": [
             [
              0,
              "#0d0887"
             ],
             [
              0.1111111111111111,
              "#46039f"
             ],
             [
              0.2222222222222222,
              "#7201a8"
             ],
             [
              0.3333333333333333,
              "#9c179e"
             ],
             [
              0.4444444444444444,
              "#bd3786"
             ],
             [
              0.5555555555555556,
              "#d8576b"
             ],
             [
              0.6666666666666666,
              "#ed7953"
             ],
             [
              0.7777777777777778,
              "#fb9f3a"
             ],
             [
              0.8888888888888888,
              "#fdca26"
             ],
             [
              1,
              "#f0f921"
             ]
            ],
            "type": "surface"
           }
          ],
          "table": [
           {
            "cells": {
             "fill": {
              "color": "#EBF0F8"
             },
             "line": {
              "color": "white"
             }
            },
            "header": {
             "fill": {
              "color": "#C8D4E3"
             },
             "line": {
              "color": "white"
             }
            },
            "type": "table"
           }
          ]
         },
         "layout": {
          "annotationdefaults": {
           "arrowcolor": "#2a3f5f",
           "arrowhead": 0,
           "arrowwidth": 1
          },
          "autotypenumbers": "strict",
          "coloraxis": {
           "colorbar": {
            "outlinewidth": 0,
            "ticks": ""
           }
          },
          "colorscale": {
           "diverging": [
            [
             0,
             "#8e0152"
            ],
            [
             0.1,
             "#c51b7d"
            ],
            [
             0.2,
             "#de77ae"
            ],
            [
             0.3,
             "#f1b6da"
            ],
            [
             0.4,
             "#fde0ef"
            ],
            [
             0.5,
             "#f7f7f7"
            ],
            [
             0.6,
             "#e6f5d0"
            ],
            [
             0.7,
             "#b8e186"
            ],
            [
             0.8,
             "#7fbc41"
            ],
            [
             0.9,
             "#4d9221"
            ],
            [
             1,
             "#276419"
            ]
           ],
           "sequential": [
            [
             0,
             "#0d0887"
            ],
            [
             0.1111111111111111,
             "#46039f"
            ],
            [
             0.2222222222222222,
             "#7201a8"
            ],
            [
             0.3333333333333333,
             "#9c179e"
            ],
            [
             0.4444444444444444,
             "#bd3786"
            ],
            [
             0.5555555555555556,
             "#d8576b"
            ],
            [
             0.6666666666666666,
             "#ed7953"
            ],
            [
             0.7777777777777778,
             "#fb9f3a"
            ],
            [
             0.8888888888888888,
             "#fdca26"
            ],
            [
             1,
             "#f0f921"
            ]
           ],
           "sequentialminus": [
            [
             0,
             "#0d0887"
            ],
            [
             0.1111111111111111,
             "#46039f"
            ],
            [
             0.2222222222222222,
             "#7201a8"
            ],
            [
             0.3333333333333333,
             "#9c179e"
            ],
            [
             0.4444444444444444,
             "#bd3786"
            ],
            [
             0.5555555555555556,
             "#d8576b"
            ],
            [
             0.6666666666666666,
             "#ed7953"
            ],
            [
             0.7777777777777778,
             "#fb9f3a"
            ],
            [
             0.8888888888888888,
             "#fdca26"
            ],
            [
             1,
             "#f0f921"
            ]
           ]
          },
          "colorway": [
           "#636efa",
           "#EF553B",
           "#00cc96",
           "#ab63fa",
           "#FFA15A",
           "#19d3f3",
           "#FF6692",
           "#B6E880",
           "#FF97FF",
           "#FECB52"
          ],
          "font": {
           "color": "#2a3f5f"
          },
          "geo": {
           "bgcolor": "white",
           "lakecolor": "white",
           "landcolor": "white",
           "showlakes": true,
           "showland": true,
           "subunitcolor": "#C8D4E3"
          },
          "hoverlabel": {
           "align": "left"
          },
          "hovermode": "closest",
          "mapbox": {
           "style": "light"
          },
          "paper_bgcolor": "white",
          "plot_bgcolor": "white",
          "polar": {
           "angularaxis": {
            "gridcolor": "#EBF0F8",
            "linecolor": "#EBF0F8",
            "ticks": ""
           },
           "bgcolor": "white",
           "radialaxis": {
            "gridcolor": "#EBF0F8",
            "linecolor": "#EBF0F8",
            "ticks": ""
           }
          },
          "scene": {
           "xaxis": {
            "backgroundcolor": "white",
            "gridcolor": "#DFE8F3",
            "gridwidth": 2,
            "linecolor": "#EBF0F8",
            "showbackground": true,
            "ticks": "",
            "zerolinecolor": "#EBF0F8"
           },
           "yaxis": {
            "backgroundcolor": "white",
            "gridcolor": "#DFE8F3",
            "gridwidth": 2,
            "linecolor": "#EBF0F8",
            "showbackground": true,
            "ticks": "",
            "zerolinecolor": "#EBF0F8"
           },
           "zaxis": {
            "backgroundcolor": "white",
            "gridcolor": "#DFE8F3",
            "gridwidth": 2,
            "linecolor": "#EBF0F8",
            "showbackground": true,
            "ticks": "",
            "zerolinecolor": "#EBF0F8"
           }
          },
          "shapedefaults": {
           "line": {
            "color": "#2a3f5f"
           }
          },
          "ternary": {
           "aaxis": {
            "gridcolor": "#DFE8F3",
            "linecolor": "#A2B1C6",
            "ticks": ""
           },
           "baxis": {
            "gridcolor": "#DFE8F3",
            "linecolor": "#A2B1C6",
            "ticks": ""
           },
           "bgcolor": "white",
           "caxis": {
            "gridcolor": "#DFE8F3",
            "linecolor": "#A2B1C6",
            "ticks": ""
           }
          },
          "title": {
           "x": 0.05
          },
          "xaxis": {
           "automargin": true,
           "gridcolor": "#EBF0F8",
           "linecolor": "#EBF0F8",
           "ticks": "",
           "title": {
            "standoff": 15
           },
           "zerolinecolor": "#EBF0F8",
           "zerolinewidth": 2
          },
          "yaxis": {
           "automargin": true,
           "gridcolor": "#EBF0F8",
           "linecolor": "#EBF0F8",
           "ticks": "",
           "title": {
            "standoff": 15
           },
           "zerolinecolor": "#EBF0F8",
           "zerolinewidth": 2
          }
         }
        },
        "title": {
         "text": "ALE vs PDP - age"
        },
        "xaxis": {
         "anchor": "y",
         "domain": [
          0,
          1
         ],
         "title": {
          "text": "age"
         }
        },
        "yaxis": {
         "anchor": "x",
         "domain": [
          0,
          1
         ],
         "title": {
          "text": "Prediction"
         }
        }
       }
      },
      "text/html": [
       "<div>                            <div id=\"291ded21-2311-48b1-b27b-8140e780f3a9\" class=\"plotly-graph-div\" style=\"height:525px; width:100%;\"></div>            <script type=\"text/javascript\">                require([\"plotly\"], function(Plotly) {                    window.PLOTLYENV=window.PLOTLYENV || {};                                    if (document.getElementById(\"291ded21-2311-48b1-b27b-8140e780f3a9\")) {                    Plotly.newPlot(                        \"291ded21-2311-48b1-b27b-8140e780f3a9\",                        [{\"line\":{\"color\":\"#008B8B\",\"width\":3},\"mode\":\"lines+markers\",\"name\":\"ALE_age\",\"x\":[0.08,0.8992,1.7184000000000001,2.5376000000000003,3.3568000000000002,4.176,4.9952000000000005,5.8144,6.6336,7.452800000000001,8.272,9.0912,9.910400000000001,10.729600000000001,11.5488,12.368,13.1872,14.006400000000001,14.825600000000001,15.6448,16.464,17.2832,18.1024,18.921599999999998,19.7408,20.56,21.3792,22.1984,23.017599999999998,23.8368,24.656,25.4752,26.2944,27.113599999999998,27.9328,28.752,29.5712,30.3904,31.2096,32.028800000000004,32.848,33.6672,34.4864,35.3056,36.1248,36.944,37.7632,38.5824,39.4016,40.2208,41.04,41.8592,42.6784,43.4976,44.3168,45.136,45.9552,46.7744,47.5936,48.4128,49.232,50.0512,50.870400000000004,51.6896,52.5088,53.328,54.1472,54.9664,55.7856,56.604800000000004,57.424,58.2432,59.062400000000004,59.8816,60.7008,61.52,62.3392,63.1584,63.9776,64.7968,65.616,66.4352,67.2544,68.0736,68.89280000000001,69.712,70.5312,71.35040000000001,72.1696,72.9888,73.808,74.6272,75.4464,76.2656,77.0848,77.904,78.7232,79.5424,80.3616,81.1808,82.0],\"y\":[0.0,0.0,0.0,0.0,0.0,-0.00030835287285912896,-0.00030835287285912896,-0.00030835287285912896,-0.00030835287285912896,-0.00030835287285912896,-0.00030835287285912896,-0.00030835287285912896,-0.00030835287285912896,-0.00030835287285912896,-0.0003144381420937862,-0.0003144381420937862,-0.0003144381420937862,-0.0003144381420937862,-0.0003144381420937862,-0.0003144381420937862,-0.0003144381420937862,-0.0003144381420937862,-0.0003144381420937862,-0.0003144381420937862,-0.0003144381420937862,-0.0003144381420937862,-0.0003144381420937862,-0.0003144381420937862,-0.0003144381420937862,-0.0003144381420937862,-0.0003144381420937862,-0.0003144381420937862,-0.0003144381420937862,-0.0003144381420937862,-0.0003144381420937862,-0.0003144381420937862,-0.0003144381420937862,0.001615862567282616,0.001615862567282616,0.0017881133597315636,0.0017881133597315636,0.0017679277377545897,0.0017679277377545897,0.018858884474014327,0.018858884474014327,0.018858884474014327,0.05507965744741113,0.09319044811246094,0.09248829253892633,0.09243245974898338,0.11078839091153542,0.11078839091153542,0.1107837885219177,0.12841154737451765,0.13263885002425646,0.14769446251350493,0.14136639755791594,0.21610616655996584,0.21610616655996584,0.2154614990529547,0.2154614990529547,0.2752800837817669,0.2752800837817669,0.2752800837817669,0.27494510034242636,0.2805660211366489,0.36597317363265375,0.3630613552789269,0.4386605264406934,0.48829044318822495,0.4371180385452465,0.4190776454592505,0.42272188850576686,0.42272188850576686,0.4053723709871425,0.4053723709871425,0.40533890601114175,0.40533890601114175,0.4044810637455336,0.4125815017286662,0.42792108054025985,0.44904921784816615,0.5587393753946788,0.5643163029656979,0.5643163029656979,0.5649311965798346,0.564884022997939,0.6315229025918497,0.631681048527606,0.631681048527606,0.631681048527606,0.631681048527606,0.6565475785635392,0.6567242320101453,0.6567242320101453,0.6567242320101453,0.6614314840515336,0.6614314840515336,0.6614314840515336,0.658940547354626,0.5167348202983125],\"type\":\"scatter\"},{\"line\":{\"color\":\"firebrick\",\"width\":3},\"mode\":\"lines\",\"name\":\"PDP_age\",\"x\":[0.08,0.8992,1.7184000000000001,2.5376000000000003,3.3568000000000002,4.176,4.9952000000000005,5.8144,6.6336,7.452800000000001,8.272,9.0912,9.910400000000001,10.729600000000001,11.5488,12.368,13.1872,14.006400000000001,14.825600000000001,15.6448,16.464,17.2832,18.1024,18.921599999999998,19.7408,20.56,21.3792,22.1984,23.017599999999998,23.8368,24.656,25.4752,26.2944,27.113599999999998,27.9328,28.752,29.5712,30.3904,31.2096,32.028800000000004,32.848,33.6672,34.4864,35.3056,36.1248,36.944,37.7632,38.5824,39.4016,40.2208,41.04,41.8592,42.6784,43.4976,44.3168,45.136,45.9552,46.7744,47.5936,48.4128,49.232,50.0512,50.870400000000004,51.6896,52.5088,53.328,54.1472,54.9664,55.7856,56.604800000000004,57.424,58.2432,59.062400000000004,59.8816,60.7008,61.52,62.3392,63.1584,63.9776,64.7968,65.616,66.4352,67.2544,68.0736,68.89280000000001,69.712,70.5312,71.35040000000001,72.1696,72.9888,73.808,74.6272,75.4464,76.2656,77.0848,77.904,78.7232,79.5424,80.3616,81.1808,82.0],\"y\":[0.056293473292063835,0.056293473292063835,0.056293473292063835,0.056293473292063835,0.056293473292063835,0.056143046017873954,0.056143046017873954,0.056143046017873954,0.056143046017873954,0.056143046017873954,0.056143046017873954,0.056143046017873954,0.056143046017873954,0.056143046017873954,0.056138223960819966,0.056138223960819966,0.056138223960819966,0.056138223960819966,0.056138223960819966,0.056138223960819966,0.056138223960819966,0.056138223960819966,0.056138223960819966,0.056138223960819966,0.056138223960819966,0.056138223960819966,0.056138223960819966,0.056138223960819966,0.056138223960819966,0.056138223960819966,0.056138223960819966,0.056138223960819966,0.056138223960819966,0.056138223960819966,0.056138223960819966,0.056138223960819966,0.056138223960819966,0.05810839217280964,0.05810839217280964,0.058282147917111886,0.058282147917111886,0.058263451566369695,0.058263451566369695,0.07799843906823169,0.07799843906823169,0.07799843906823169,0.11344937786198477,0.14909646511339325,0.14853121238609615,0.1484104862929555,0.16430291162353816,0.16430291162353816,0.1642834330653536,0.1778544016873576,0.18142865003139577,0.19342706018485434,0.18805736365427247,0.24525363502854133,0.24525363502854133,0.24453472179927932,0.24453472179927932,0.2940672422274976,0.2940672422274976,0.2940672422274976,0.29370934175425595,0.2989385894438073,0.37371494138485556,0.37097001884758246,0.44501844048846106,0.4956165655622933,0.4457253685767553,0.43020100036998327,0.43522635730236253,0.43522635730236253,0.4169393488702584,0.4169393488702584,0.4168940322025297,0.4168940322025297,0.416073348920837,0.42131521388484966,0.4319998935069477,0.45037999699513437,0.5752611907191413,0.5829255672882562,0.5829255672882562,0.5837011878223369,0.5833350154223296,0.6555057338176726,0.6559095514111535,0.6559095514111535,0.6559095514111535,0.6559095514111535,0.6881694297944972,0.6888469251898541,0.6888469251898541,0.6888469251898541,0.6934334320267324,0.6934334320267324,0.6934334320267324,0.6907302747381556,0.5524295413954758],\"type\":\"scatter\"}],                        {\"template\":{\"data\":{\"barpolar\":[{\"marker\":{\"line\":{\"color\":\"white\",\"width\":0.5},\"pattern\":{\"fillmode\":\"overlay\",\"size\":10,\"solidity\":0.2}},\"type\":\"barpolar\"}],\"bar\":[{\"error_x\":{\"color\":\"#2a3f5f\"},\"error_y\":{\"color\":\"#2a3f5f\"},\"marker\":{\"line\":{\"color\":\"white\",\"width\":0.5},\"pattern\":{\"fillmode\":\"overlay\",\"size\":10,\"solidity\":0.2}},\"type\":\"bar\"}],\"carpet\":[{\"aaxis\":{\"endlinecolor\":\"#2a3f5f\",\"gridcolor\":\"#C8D4E3\",\"linecolor\":\"#C8D4E3\",\"minorgridcolor\":\"#C8D4E3\",\"startlinecolor\":\"#2a3f5f\"},\"baxis\":{\"endlinecolor\":\"#2a3f5f\",\"gridcolor\":\"#C8D4E3\",\"linecolor\":\"#C8D4E3\",\"minorgridcolor\":\"#C8D4E3\",\"startlinecolor\":\"#2a3f5f\"},\"type\":\"carpet\"}],\"choropleth\":[{\"colorbar\":{\"outlinewidth\":0,\"ticks\":\"\"},\"type\":\"choropleth\"}],\"contourcarpet\":[{\"colorbar\":{\"outlinewidth\":0,\"ticks\":\"\"},\"type\":\"contourcarpet\"}],\"contour\":[{\"colorbar\":{\"outlinewidth\":0,\"ticks\":\"\"},\"colorscale\":[[0.0,\"#0d0887\"],[0.1111111111111111,\"#46039f\"],[0.2222222222222222,\"#7201a8\"],[0.3333333333333333,\"#9c179e\"],[0.4444444444444444,\"#bd3786\"],[0.5555555555555556,\"#d8576b\"],[0.6666666666666666,\"#ed7953\"],[0.7777777777777778,\"#fb9f3a\"],[0.8888888888888888,\"#fdca26\"],[1.0,\"#f0f921\"]],\"type\":\"contour\"}],\"heatmapgl\":[{\"colorbar\":{\"outlinewidth\":0,\"ticks\":\"\"},\"colorscale\":[[0.0,\"#0d0887\"],[0.1111111111111111,\"#46039f\"],[0.2222222222222222,\"#7201a8\"],[0.3333333333333333,\"#9c179e\"],[0.4444444444444444,\"#bd3786\"],[0.5555555555555556,\"#d8576b\"],[0.6666666666666666,\"#ed7953\"],[0.7777777777777778,\"#fb9f3a\"],[0.8888888888888888,\"#fdca26\"],[1.0,\"#f0f921\"]],\"type\":\"heatmapgl\"}],\"heatmap\":[{\"colorbar\":{\"outlinewidth\":0,\"ticks\":\"\"},\"colorscale\":[[0.0,\"#0d0887\"],[0.1111111111111111,\"#46039f\"],[0.2222222222222222,\"#7201a8\"],[0.3333333333333333,\"#9c179e\"],[0.4444444444444444,\"#bd3786\"],[0.5555555555555556,\"#d8576b\"],[0.6666666666666666,\"#ed7953\"],[0.7777777777777778,\"#fb9f3a\"],[0.8888888888888888,\"#fdca26\"],[1.0,\"#f0f921\"]],\"type\":\"heatmap\"}],\"histogram2dcontour\":[{\"colorbar\":{\"outlinewidth\":0,\"ticks\":\"\"},\"colorscale\":[[0.0,\"#0d0887\"],[0.1111111111111111,\"#46039f\"],[0.2222222222222222,\"#7201a8\"],[0.3333333333333333,\"#9c179e\"],[0.4444444444444444,\"#bd3786\"],[0.5555555555555556,\"#d8576b\"],[0.6666666666666666,\"#ed7953\"],[0.7777777777777778,\"#fb9f3a\"],[0.8888888888888888,\"#fdca26\"],[1.0,\"#f0f921\"]],\"type\":\"histogram2dcontour\"}],\"histogram2d\":[{\"colorbar\":{\"outlinewidth\":0,\"ticks\":\"\"},\"colorscale\":[[0.0,\"#0d0887\"],[0.1111111111111111,\"#46039f\"],[0.2222222222222222,\"#7201a8\"],[0.3333333333333333,\"#9c179e\"],[0.4444444444444444,\"#bd3786\"],[0.5555555555555556,\"#d8576b\"],[0.6666666666666666,\"#ed7953\"],[0.7777777777777778,\"#fb9f3a\"],[0.8888888888888888,\"#fdca26\"],[1.0,\"#f0f921\"]],\"type\":\"histogram2d\"}],\"histogram\":[{\"marker\":{\"pattern\":{\"fillmode\":\"overlay\",\"size\":10,\"solidity\":0.2}},\"type\":\"histogram\"}],\"mesh3d\":[{\"colorbar\":{\"outlinewidth\":0,\"ticks\":\"\"},\"type\":\"mesh3d\"}],\"parcoords\":[{\"line\":{\"colorbar\":{\"outlinewidth\":0,\"ticks\":\"\"}},\"type\":\"parcoords\"}],\"pie\":[{\"automargin\":true,\"type\":\"pie\"}],\"scatter3d\":[{\"line\":{\"colorbar\":{\"outlinewidth\":0,\"ticks\":\"\"}},\"marker\":{\"colorbar\":{\"outlinewidth\":0,\"ticks\":\"\"}},\"type\":\"scatter3d\"}],\"scattercarpet\":[{\"marker\":{\"colorbar\":{\"outlinewidth\":0,\"ticks\":\"\"}},\"type\":\"scattercarpet\"}],\"scattergeo\":[{\"marker\":{\"colorbar\":{\"outlinewidth\":0,\"ticks\":\"\"}},\"type\":\"scattergeo\"}],\"scattergl\":[{\"marker\":{\"colorbar\":{\"outlinewidth\":0,\"ticks\":\"\"}},\"type\":\"scattergl\"}],\"scattermapbox\":[{\"marker\":{\"colorbar\":{\"outlinewidth\":0,\"ticks\":\"\"}},\"type\":\"scattermapbox\"}],\"scatterpolargl\":[{\"marker\":{\"colorbar\":{\"outlinewidth\":0,\"ticks\":\"\"}},\"type\":\"scatterpolargl\"}],\"scatterpolar\":[{\"marker\":{\"colorbar\":{\"outlinewidth\":0,\"ticks\":\"\"}},\"type\":\"scatterpolar\"}],\"scatter\":[{\"marker\":{\"colorbar\":{\"outlinewidth\":0,\"ticks\":\"\"}},\"type\":\"scatter\"}],\"scatterternary\":[{\"marker\":{\"colorbar\":{\"outlinewidth\":0,\"ticks\":\"\"}},\"type\":\"scatterternary\"}],\"surface\":[{\"colorbar\":{\"outlinewidth\":0,\"ticks\":\"\"},\"colorscale\":[[0.0,\"#0d0887\"],[0.1111111111111111,\"#46039f\"],[0.2222222222222222,\"#7201a8\"],[0.3333333333333333,\"#9c179e\"],[0.4444444444444444,\"#bd3786\"],[0.5555555555555556,\"#d8576b\"],[0.6666666666666666,\"#ed7953\"],[0.7777777777777778,\"#fb9f3a\"],[0.8888888888888888,\"#fdca26\"],[1.0,\"#f0f921\"]],\"type\":\"surface\"}],\"table\":[{\"cells\":{\"fill\":{\"color\":\"#EBF0F8\"},\"line\":{\"color\":\"white\"}},\"header\":{\"fill\":{\"color\":\"#C8D4E3\"},\"line\":{\"color\":\"white\"}},\"type\":\"table\"}]},\"layout\":{\"annotationdefaults\":{\"arrowcolor\":\"#2a3f5f\",\"arrowhead\":0,\"arrowwidth\":1},\"autotypenumbers\":\"strict\",\"coloraxis\":{\"colorbar\":{\"outlinewidth\":0,\"ticks\":\"\"}},\"colorscale\":{\"diverging\":[[0,\"#8e0152\"],[0.1,\"#c51b7d\"],[0.2,\"#de77ae\"],[0.3,\"#f1b6da\"],[0.4,\"#fde0ef\"],[0.5,\"#f7f7f7\"],[0.6,\"#e6f5d0\"],[0.7,\"#b8e186\"],[0.8,\"#7fbc41\"],[0.9,\"#4d9221\"],[1,\"#276419\"]],\"sequential\":[[0.0,\"#0d0887\"],[0.1111111111111111,\"#46039f\"],[0.2222222222222222,\"#7201a8\"],[0.3333333333333333,\"#9c179e\"],[0.4444444444444444,\"#bd3786\"],[0.5555555555555556,\"#d8576b\"],[0.6666666666666666,\"#ed7953\"],[0.7777777777777778,\"#fb9f3a\"],[0.8888888888888888,\"#fdca26\"],[1.0,\"#f0f921\"]],\"sequentialminus\":[[0.0,\"#0d0887\"],[0.1111111111111111,\"#46039f\"],[0.2222222222222222,\"#7201a8\"],[0.3333333333333333,\"#9c179e\"],[0.4444444444444444,\"#bd3786\"],[0.5555555555555556,\"#d8576b\"],[0.6666666666666666,\"#ed7953\"],[0.7777777777777778,\"#fb9f3a\"],[0.8888888888888888,\"#fdca26\"],[1.0,\"#f0f921\"]]},\"colorway\":[\"#636efa\",\"#EF553B\",\"#00cc96\",\"#ab63fa\",\"#FFA15A\",\"#19d3f3\",\"#FF6692\",\"#B6E880\",\"#FF97FF\",\"#FECB52\"],\"font\":{\"color\":\"#2a3f5f\"},\"geo\":{\"bgcolor\":\"white\",\"lakecolor\":\"white\",\"landcolor\":\"white\",\"showlakes\":true,\"showland\":true,\"subunitcolor\":\"#C8D4E3\"},\"hoverlabel\":{\"align\":\"left\"},\"hovermode\":\"closest\",\"mapbox\":{\"style\":\"light\"},\"paper_bgcolor\":\"white\",\"plot_bgcolor\":\"white\",\"polar\":{\"angularaxis\":{\"gridcolor\":\"#EBF0F8\",\"linecolor\":\"#EBF0F8\",\"ticks\":\"\"},\"bgcolor\":\"white\",\"radialaxis\":{\"gridcolor\":\"#EBF0F8\",\"linecolor\":\"#EBF0F8\",\"ticks\":\"\"}},\"scene\":{\"xaxis\":{\"backgroundcolor\":\"white\",\"gridcolor\":\"#DFE8F3\",\"gridwidth\":2,\"linecolor\":\"#EBF0F8\",\"showbackground\":true,\"ticks\":\"\",\"zerolinecolor\":\"#EBF0F8\"},\"yaxis\":{\"backgroundcolor\":\"white\",\"gridcolor\":\"#DFE8F3\",\"gridwidth\":2,\"linecolor\":\"#EBF0F8\",\"showbackground\":true,\"ticks\":\"\",\"zerolinecolor\":\"#EBF0F8\"},\"zaxis\":{\"backgroundcolor\":\"white\",\"gridcolor\":\"#DFE8F3\",\"gridwidth\":2,\"linecolor\":\"#EBF0F8\",\"showbackground\":true,\"ticks\":\"\",\"zerolinecolor\":\"#EBF0F8\"}},\"shapedefaults\":{\"line\":{\"color\":\"#2a3f5f\"}},\"ternary\":{\"aaxis\":{\"gridcolor\":\"#DFE8F3\",\"linecolor\":\"#A2B1C6\",\"ticks\":\"\"},\"baxis\":{\"gridcolor\":\"#DFE8F3\",\"linecolor\":\"#A2B1C6\",\"ticks\":\"\"},\"bgcolor\":\"white\",\"caxis\":{\"gridcolor\":\"#DFE8F3\",\"linecolor\":\"#A2B1C6\",\"ticks\":\"\"}},\"title\":{\"x\":0.05},\"xaxis\":{\"automargin\":true,\"gridcolor\":\"#EBF0F8\",\"linecolor\":\"#EBF0F8\",\"ticks\":\"\",\"title\":{\"standoff\":15},\"zerolinecolor\":\"#EBF0F8\",\"zerolinewidth\":2},\"yaxis\":{\"automargin\":true,\"gridcolor\":\"#EBF0F8\",\"linecolor\":\"#EBF0F8\",\"ticks\":\"\",\"title\":{\"standoff\":15},\"zerolinecolor\":\"#EBF0F8\",\"zerolinewidth\":2}}},\"xaxis\":{\"anchor\":\"y\",\"domain\":[0.0,1.0],\"title\":{\"text\":\"age\"}},\"yaxis\":{\"anchor\":\"x\",\"domain\":[0.0,1.0],\"title\":{\"text\":\"Prediction\"}},\"shapes\":[{\"line\":{\"color\":\"black\",\"dash\":\"dash\",\"width\":2},\"type\":\"line\",\"x0\":0,\"x1\":1,\"xref\":\"x domain\",\"y0\":0.27932515419544385,\"y1\":0.27932515419544385,\"yref\":\"y\"}],\"annotations\":[{\"showarrow\":false,\"text\":\"mean prediction\",\"x\":1,\"xanchor\":\"right\",\"xref\":\"x domain\",\"y\":0.27932515419544385,\"yanchor\":\"top\",\"yref\":\"y\"}],\"title\":{\"text\":\"ALE vs PDP - age\"}},                        {\"responsive\": true}                    ).then(function(){\n",
       "                            \n",
       "var gd = document.getElementById('291ded21-2311-48b1-b27b-8140e780f3a9');\n",
       "var x = new MutationObserver(function (mutations, observer) {{\n",
       "        var display = window.getComputedStyle(gd).display;\n",
       "        if (!display || display === 'none') {{\n",
       "            console.log([gd, 'removed!']);\n",
       "            Plotly.purge(gd);\n",
       "            observer.disconnect();\n",
       "        }}\n",
       "}});\n",
       "\n",
       "// Listen for the removal of the full notebook cells\n",
       "var notebookContainer = gd.closest('#notebook-container');\n",
       "if (notebookContainer) {{\n",
       "    x.observe(notebookContainer, {childList: true});\n",
       "}}\n",
       "\n",
       "// Listen for the clearing of the current output cell\n",
       "var outputEl = gd.closest('.output');\n",
       "if (outputEl) {{\n",
       "    x.observe(outputEl, {childList: true});\n",
       "}}\n",
       "\n",
       "                        })                };                });            </script>        </div>"
      ]
     },
     "metadata": {},
     "output_type": "display_data"
    }
   ],
   "source": [
    "utils.pdp_vs_ale_plot_continous(exp, 'age', 'ALE_age','PDP_age','ALE vs PDP - age','age',y_test)"
   ]
  },
  {
   "cell_type": "markdown",
   "id": "c2b1e048",
   "metadata": {},
   "source": [
    "### Summary Comparison\n"
   ]
  },
  {
   "cell_type": "markdown",
   "id": "333a98b1",
   "metadata": {
    "ExecuteTime": {
     "end_time": "2022-10-10T15:07:23.568618Z",
     "start_time": "2022-10-10T15:07:23.563621Z"
    }
   },
   "source": [
    "| About                                   | PDP                                                                                                                                                                                                                                                                                                                                                                                                                       | ALE                                                                                                                                                                                                                                                                                                                                                                                              |\n",
    "|:----------------------------------------|:-------------------------------------------------------------------------------------------------------------------------------------------------------------------------------------------------------------------------------------------------------------------------------------------------------------------------------------------------------------------------------------------------------------------------------------|:---------------------------------------------------------------------------------------------------------------------------------------------------------------------------------------------------------------------------------------------------------------------------------------------------------------------------------------------------------------------------------------------------------|\n",
    "| 🚩 [Method](https://christophm.github.io/interpretable-ml-book/ale.html)        | Let me show you what the model predicts on average when each data instance has the value v for that feature. I ignore whether the value v makes sense for all data instances.                                                                                                                                                                                                                                                                                                                                                    | Let me show you how the model predictions change in a small “window” of the feature around v for data instances in that window.                                                                                                                                                                                                                                                                                                          |\n",
    "| ⏰ Run Time for dataset used | few milliseconds to upto 2 sec                                                                                                                                                                                                                                                                                                                                                                                                                      | few milliseconds to upto 2 sec                                                                                                                                                                                                                                                                                                                                                                                            |\n",
    "| ✔️ Packages             | Dalex, Shapash, explainerdashboard, Alibi Explain, Skater,PDPBox,sklearn.inspection module                                                                                                                                                                                                                                                                                                                                                                   | Dalex, Alibi Explain,ALEPython                                                                                                                                                                                                                                                                                                                                                                                                   |\n",
    "| ⭐  Advantages                      | 1. Computation of PDP is intuitive. <br> 2. In the uncorrelated case, the interpretation is clear <br> 3. Easy to implement    | 1. ALE plots are unbiased as they work when features are correlated <br> 2.  Interpretation of ALE plots is clear as they are centered at zero <br> 3. Far less computationally expensive than PD plots                                                                |\n",
    "| 💥  Limitation                       | 1. The realistic maximum number of features in a partial dependence function is two <br> 2. Not suitable when features are correlated.  <br> 3. Heterogeneous effects might be hidden. <br> 4. Computation heavy                                                      | 1. Feature values need to have an “order” <br> 2. The concept of ALE is less intuitive   <br>   3. Interpretation remains difficult when features are strongly correlated. <br> 4.  Need to set the number of interval, if the interval setting is not good, the result will be unstable |"
   ]
  },
  {
   "cell_type": "markdown",
   "id": "5a2fc924",
   "metadata": {},
   "source": [
    "[back](#Table-of-Contents)"
   ]
  },
  {
   "cell_type": "markdown",
   "id": "10843e3d",
   "metadata": {},
   "source": [
    "## SHAP vs Breakdown"
   ]
  },
  {
   "cell_type": "markdown",
   "id": "42ee4ab8",
   "metadata": {},
   "source": [
    "### Understanding these Methods"
   ]
  },
  {
   "cell_type": "markdown",
   "id": "7fb4cdcf",
   "metadata": {},
   "source": [
    "#### SHAP Waterfall"
   ]
  },
  {
   "cell_type": "code",
   "execution_count": 27,
   "id": "2c986fbc",
   "metadata": {
    "ExecuteTime": {
     "end_time": "2022-12-20T07:57:00.527807Z",
     "start_time": "2022-12-20T07:57:00.503806Z"
    }
   },
   "outputs": [],
   "source": [
    "shap_theory_md = \"\"\" <font size = 4  color = '#008B8B'><b>What is SHAP?</b></font>\n",
    "<ul>\n",
    "  <li>SHAP — which stands for SHapley Additive exPlanations — is a <b>brilliant way to reverse-engineer the output of any predictive algorithm</b></li>\n",
    "  <li>Published in 2017 by Lundberg and Lee, SHAP is probably the state of the art in Machine Learning explainability</li>\n",
    "  <li>Three main “explainer” classes - </li>\n",
    "   <ul>\n",
    "\t  <li>TreeExplainer (Model Specific)</li>\n",
    "\t  <li>DeepExplainer (Model Specific)</li>\n",
    "      <li>KernelExplainer (Model Agnostic)</li>\n",
    "   </ul>\n",
    "</ul>\n",
    "\n",
    "<font size = 4  color = '#008B8B'> <b>Idea behind SHAP - Shapely Values</b></font>\n",
    "<ul>\n",
    "\t<li>SHAP values are based on Shapley values - a solution concept in cooperative game theory.</li>\n",
    "\t<li>Shapley value is the average expected <a href=\"https://www.igi-global.com/dictionary/marginal-contribution/39781\">marginal contribution</a> of one player after <b>all possible combinations</b> have been considered.</li>\n",
    "\t<li>Shapley value helps to determine a payoff for all of the players when each player might have contributed more or less than the others.</li>\n",
    "</ul>\n",
    "\n",
    "<font size = 4  color = '#008B8B'> <b>How it relate to the explainability of machine learning?</b></font>\n",
    "<br>  \n",
    "Suppose we have a predictive model; in that case:\n",
    "<ul>\n",
    "<li>the <b>game</b> is reproducing the <b>outcome</b> of the model</li>\n",
    "<li>the <b>players</b> are the <b>features</b> included in the model.</li>\n",
    "</ul>\n",
    "\n",
    "What Shapley does is <b>quantify each player's contribution to the game</b>. \n",
    "What SHAP does is <b>quantify the contribution that each feature makes to the model's prediction</b>.\n",
    "<br>\n",
    "<i>To be clear,game only refers to one observation</i>\n",
    "\n",
    "<br>\n",
    "<br>\n",
    "<div style=\"float: left;\">\n",
    "<img src = \"https://shap.readthedocs.io/en/latest/_images/shap_header.png\" width = 450 length = 450 >\n",
    "</div>\n",
    "    \n",
    "<br clear=\"left\"/>\n",
    "\n",
    "<i>A simple <a href=\"https://shap.readthedocs.io/en/latest/_images/shap_header.png\">infographic</a> above shows SHAP helps us   understand the magnitude of impact (length of the bar) and direction(colour)</i>\n",
    "\n",
    "<br>\n",
    "\n",
    "Properties of SHAP Values -\n",
    "\n",
    "\n",
    "<ul>\n",
    "  <li>The shap_values is a 2D array.</b></li>\n",
    "  <li>Each column represents a feature used in the model and its on different scale than actual feature value</li>\n",
    "  <li> Each SHAP value represents how much this feature contributes to the output of this row’s prediction</li>\n",
    "</ul>\n",
    "\n",
    "<br>\n",
    "\n",
    "<font size = 4  color = '#008B8B'><b>How Shapley Value is calculated?</b> </font>\n",
    "<ol type=\"1\">\n",
    "    <li>Create the set of all possible feature combinations (called coalitions)</li>\n",
    "    <li>Calculate the average model prediction</li>\n",
    "    <li>For each coalition, calculate the difference between the model’s prediction without F and the average prediction.</li>\n",
    "    <li>For each coalition, calculate the difference between the model’s prediction with F and the average prediction.</li>\n",
    "    <li>For each coalition, calculate how much F changed the model’s prediction from the average (i.e., step 4 – step 3) – this is the marginal contribution of F </li>\n",
    "    <li>Shapley value = the average of all the values calculated in step 5 (i.e., the average of F’s marginal contributions) </li>\n",
    "</ol>\n",
    "\n",
    "\n",
    "\"\"\""
   ]
  },
  {
   "cell_type": "code",
   "execution_count": 28,
   "id": "6858519a",
   "metadata": {
    "ExecuteTime": {
     "end_time": "2022-12-20T07:57:00.570806Z",
     "start_time": "2022-12-20T07:57:00.530804Z"
    }
   },
   "outputs": [],
   "source": [
    "shap_eg_md = \"\"\" \n",
    "<font size = 4  color = '#008B8B'> <b>How Shapley values are calculated?</b></font>\n",
    "<br>\n",
    "<b>Below <a href=\"https://towardsdatascience.com/shap-explain-any-machine-learning-model-in-python-24207127cad7\">series of images</a> can help us understand how Shapley values are calculated.</b>\n",
    "\n",
    "<br>\n",
    "\n",
    "<img align=\"left\" src=\"https://miro.medium.com/max/4800/1*USvWgOflrKaDd76tv_9eWA.png\" width = 450 length = 450>\n",
    "<br clear=\"left\"/>\n",
    "\n",
    "<i><a href=\"https://shap.readthedocs.io/en/latest/_images/shap_header.png\">infographic</a> above shows the revenues for each strategy in a specific month </i>\n",
    "\n",
    "<br>\n",
    "<br>\n",
    "\n",
    "<img align=\"left\" src=\"https://miro.medium.com/max/4800/1*ne7amGdQ7DOOS6ia0Kc_OA.png\" width = 450 length = 450>\n",
    "<br clear=\"left\"/>\n",
    "\n",
    "<i><a href=\"https://miro.medium.com/max/4800/1*ne7amGdQ7DOOS6ia0Kc_OA.png\">infographic</a> above shows the difference in revenues between using three ads and using no ad</i>\n",
    "\n",
    "\n",
    "<br>\n",
    "<br>\n",
    "\n",
    "<font size = 3  color = '#008B8B'> <b>How much does each ad contribute to this difference?</b> </font>🤔\n",
    "    \n",
    "<br>\n",
    "    \n",
    "<img align=\"left\" src=\"https://miro.medium.com/max/4800/1*w62Q_L1UEFTUO7hoAKu1EA.png\" width = 450 length = 450>\n",
    "<br clear=\"left\"/>    \n",
    "<img align=\"left\" src=\"https://miro.medium.com/max/4800/1*CfuMK37v-xBroLN_7WPrFQ.png\" width = 450 length = 450>\n",
    "<br clear=\"left\"/>\n",
    "\n",
    "<i><a href=\"https://miro.medium.com/max/4800/1*ne7amGdQ7DOOS6ia0Kc_OA.png\">infographic</a> above show total contribution of Google advertisement could be calculated by the formula</i>\n",
    "\n",
    "<br>\n",
    "\n",
    "<b>What is Marginal contributions of a feature?</b>\n",
    "<br>\n",
    "<i>As seen above, two nodes connected by an edge differ for just one feature. Therefore, the gap between the predictions of two connected nodes can be imputed to the effect of that additional feature. \n",
    "This is called “marginal contribution” of a feature.</i>\n",
    "    \n",
    "<br>\n",
    "<br>\n",
    "\n",
    "<img align=\"left\" src=\"https://miro.medium.com/max/640/1*-fEDnX3JSeHzZNUm7YMyDg.png\" width = 450 length = 450>\n",
    "<br clear=\"left\"/>\n",
    "\n",
    "<i><a href=\"https://miro.medium.com/max/4800/1*ne7amGdQ7DOOS6ia0Kc_OA.png\">infographic</a> above shows the total Contribution of Google Advertisement</i>\n",
    "\n",
    "    \n",
    "<br>\n",
    "<br>\n",
    "\n",
    "<img align=\"left\" src=\"https://miro.medium.com/max/4800/1*64XofqQSmiG7JcEMewRT3Q.png\" width = 450 length = 450>\n",
    "<br clear=\"left\"/>\n",
    "\n",
    "<i><a href=\"https://miro.medium.com/max/4800/1*64XofqQSmiG7JcEMewRT3Q.png\">infographic</a> above shows that the Total contribution 300 $=$ difference in revenues between using three ads and using no ad</i>\"\"\" \n"
   ]
  },
  {
   "cell_type": "code",
   "execution_count": 29,
   "id": "87b07271",
   "metadata": {
    "ExecuteTime": {
     "end_time": "2022-12-20T07:57:00.613806Z",
     "start_time": "2022-12-20T07:57:00.574806Z"
    },
    "scrolled": false
   },
   "outputs": [
    {
     "data": {
      "text/html": [
       "<div class=\"tab\">\n",
       "<button id = \"defaultOpen-1465\" onclick = \"OpenTab_1465(event, 'Theory-1465')\" class=\"tablinks-1465\">Theory</button>\n",
       "<button onclick = \"OpenTab_1465(event, 'Example-1465')\" class=\"tablinks-1465\">Example</button>\n",
       "</div><div id = \"Theory-1465\" class=\"tabcontent-1465\">\n",
       " <font size = 4  color = '#008B8B'><b>What is SHAP?</b></font>\n",
       "<ul>\n",
       "  <li>SHAP — which stands for SHapley Additive exPlanations — is a <b>brilliant way to reverse-engineer the output of any predictive algorithm</b></li>\n",
       "  <li>Published in 2017 by Lundberg and Lee, SHAP is probably the state of the art in Machine Learning explainability</li>\n",
       "  <li>Three main “explainer” classes - </li>\n",
       "   <ul>\n",
       "\t  <li>TreeExplainer (Model Specific)</li>\n",
       "\t  <li>DeepExplainer (Model Specific)</li>\n",
       "      <li>KernelExplainer (Model Agnostic)</li>\n",
       "   </ul>\n",
       "</ul>\n",
       "\n",
       "<font size = 4  color = '#008B8B'> <b>Idea behind SHAP - Shapely Values</b></font>\n",
       "<ul>\n",
       "\t<li>SHAP values are based on Shapley values - a solution concept in cooperative game theory.</li>\n",
       "\t<li>Shapley value is the average expected <a href=\"https://www.igi-global.com/dictionary/marginal-contribution/39781\">marginal contribution</a> of one player after <b>all possible combinations</b> have been considered.</li>\n",
       "\t<li>Shapley value helps to determine a payoff for all of the players when each player might have contributed more or less than the others.</li>\n",
       "</ul>\n",
       "\n",
       "<font size = 4  color = '#008B8B'> <b>How it relate to the explainability of machine learning?</b></font>\n",
       "<br>  \n",
       "Suppose we have a predictive model; in that case:\n",
       "<ul>\n",
       "<li>the <b>game</b> is reproducing the <b>outcome</b> of the model</li>\n",
       "<li>the <b>players</b> are the <b>features</b> included in the model.</li>\n",
       "</ul>\n",
       "\n",
       "What Shapley does is <b>quantify each player's contribution to the game</b>. \n",
       "What SHAP does is <b>quantify the contribution that each feature makes to the model's prediction</b>.\n",
       "<br>\n",
       "<i>To be clear,game only refers to one observation</i>\n",
       "\n",
       "<br>\n",
       "<br>\n",
       "<div style=\"float: left;\">\n",
       "<img src = \"https://shap.readthedocs.io/en/latest/_images/shap_header.png\" width = 450 length = 450 >\n",
       "</div>\n",
       "    \n",
       "<br clear=\"left\"/>\n",
       "\n",
       "<i>A simple <a href=\"https://shap.readthedocs.io/en/latest/_images/shap_header.png\">infographic</a> above shows SHAP helps us   understand the magnitude of impact (length of the bar) and direction(colour)</i>\n",
       "\n",
       "<br>\n",
       "\n",
       "Properties of SHAP Values -\n",
       "\n",
       "\n",
       "<ul>\n",
       "  <li>The shap_values is a 2D array.</b></li>\n",
       "  <li>Each column represents a feature used in the model and its on different scale than actual feature value</li>\n",
       "  <li> Each SHAP value represents how much this feature contributes to the output of this row’s prediction</li>\n",
       "</ul>\n",
       "\n",
       "<br>\n",
       "\n",
       "<font size = 4  color = '#008B8B'><b>How Shapley Value is calculated?</b> </font>\n",
       "<ol type=\"1\">\n",
       "    <li>Create the set of all possible feature combinations (called coalitions)</li>\n",
       "    <li>Calculate the average model prediction</li>\n",
       "    <li>For each coalition, calculate the difference between the model’s prediction without F and the average prediction.</li>\n",
       "    <li>For each coalition, calculate the difference between the model’s prediction with F and the average prediction.</li>\n",
       "    <li>For each coalition, calculate how much F changed the model’s prediction from the average (i.e., step 4 – step 3) – this is the marginal contribution of F </li>\n",
       "    <li>Shapley value = the average of all the values calculated in step 5 (i.e., the average of F’s marginal contributions) </li>\n",
       "</ol>\n",
       "\n",
       "\n",
       "\n",
       "</div>\n",
       "<div id = \"Example-1465\" class=\"tabcontent-1465\">\n",
       " \n",
       "<font size = 4  color = '#008B8B'> <b>How Shapley values are calculated?</b></font>\n",
       "<br>\n",
       "<b>Below <a href=\"https://towardsdatascience.com/shap-explain-any-machine-learning-model-in-python-24207127cad7\">series of images</a> can help us understand how Shapley values are calculated.</b>\n",
       "\n",
       "<br>\n",
       "\n",
       "<img align=\"left\" src=\"https://miro.medium.com/max/4800/1*USvWgOflrKaDd76tv_9eWA.png\" width = 450 length = 450>\n",
       "<br clear=\"left\"/>\n",
       "\n",
       "<i><a href=\"https://shap.readthedocs.io/en/latest/_images/shap_header.png\">infographic</a> above shows the revenues for each strategy in a specific month </i>\n",
       "\n",
       "<br>\n",
       "<br>\n",
       "\n",
       "<img align=\"left\" src=\"https://miro.medium.com/max/4800/1*ne7amGdQ7DOOS6ia0Kc_OA.png\" width = 450 length = 450>\n",
       "<br clear=\"left\"/>\n",
       "\n",
       "<i><a href=\"https://miro.medium.com/max/4800/1*ne7amGdQ7DOOS6ia0Kc_OA.png\">infographic</a> above shows the difference in revenues between using three ads and using no ad</i>\n",
       "\n",
       "\n",
       "<br>\n",
       "<br>\n",
       "\n",
       "<font size = 3  color = '#008B8B'> <b>How much does each ad contribute to this difference?</b> </font>🤔\n",
       "    \n",
       "<br>\n",
       "    \n",
       "<img align=\"left\" src=\"https://miro.medium.com/max/4800/1*w62Q_L1UEFTUO7hoAKu1EA.png\" width = 450 length = 450>\n",
       "<br clear=\"left\"/>    \n",
       "<img align=\"left\" src=\"https://miro.medium.com/max/4800/1*CfuMK37v-xBroLN_7WPrFQ.png\" width = 450 length = 450>\n",
       "<br clear=\"left\"/>\n",
       "\n",
       "<i><a href=\"https://miro.medium.com/max/4800/1*ne7amGdQ7DOOS6ia0Kc_OA.png\">infographic</a> above show total contribution of Google advertisement could be calculated by the formula</i>\n",
       "\n",
       "<br>\n",
       "\n",
       "<b>What is Marginal contributions of a feature?</b>\n",
       "<br>\n",
       "<i>As seen above, two nodes connected by an edge differ for just one feature. Therefore, the gap between the predictions of two connected nodes can be imputed to the effect of that additional feature. \n",
       "This is called “marginal contribution” of a feature.</i>\n",
       "    \n",
       "<br>\n",
       "<br>\n",
       "\n",
       "<img align=\"left\" src=\"https://miro.medium.com/max/640/1*-fEDnX3JSeHzZNUm7YMyDg.png\" width = 450 length = 450>\n",
       "<br clear=\"left\"/>\n",
       "\n",
       "<i><a href=\"https://miro.medium.com/max/4800/1*ne7amGdQ7DOOS6ia0Kc_OA.png\">infographic</a> above shows the total Contribution of Google Advertisement</i>\n",
       "\n",
       "    \n",
       "<br>\n",
       "<br>\n",
       "\n",
       "<img align=\"left\" src=\"https://miro.medium.com/max/4800/1*64XofqQSmiG7JcEMewRT3Q.png\" width = 450 length = 450>\n",
       "<br clear=\"left\"/>\n",
       "\n",
       "<i><a href=\"https://miro.medium.com/max/4800/1*64XofqQSmiG7JcEMewRT3Q.png\">infographic</a> above shows that the Total contribution 300 $=$ difference in revenues between using three ads and using no ad</i>\n",
       "</div>\n",
       "<style>\n",
       "    /* Style the tab */\n",
       "    .tab {\n",
       "      border-bottom: 1px solid #ccc;\n",
       "      display: flex;\n",
       "      flex-wrap: wrap;\n",
       "    }\n",
       "\n",
       "    /* Style the buttons inside the tab */\n",
       "    .tab>button {\n",
       "      background-color: inherit;\n",
       "      border: none;\n",
       "      outline: none;\n",
       "      cursor: pointer;\n",
       "      padding: 1rem;\n",
       "      transition: 0.1s;\n",
       "      font-size: 15px;\n",
       "      border-top-left-radius: 0.25rem;\n",
       "      border-top-right-radius: 0.25rem;\n",
       "      color: #0d6efd;\n",
       "    }\n",
       "\n",
       "    /* Change background color of buttons on hover */\n",
       "    .tab>button:hover {\n",
       "      background-color: #ccc;\n",
       "    }\n",
       "\n",
       "    /* Create an active/current tablink class */\n",
       "    .tab>button.active-tab {\n",
       "      background-color: white;\n",
       "      border: 1px solid #ccc;\n",
       "      border-bottom: none;\n",
       "      margin-bottom: -1px;\n",
       "      color: #495057;\n",
       "\n",
       "    }\n",
       "    /* Style the tab content */\n",
       "    .tabcontent-1465 {\n",
       "      display: none;\n",
       "      padding: 0 0.5rem;\n",
       "    }\n",
       "    </style>\n",
       "    <script>\n",
       "    function OpenTab_1465(evt, cityName) {\n",
       "      var i, tabcontent, tablinks;\n",
       "      tabcontent = document.getElementsByClassName(\"tabcontent-1465\");\n",
       "      for (i = 0; i < tabcontent.length; i++) {\n",
       "        tabcontent[i].style.display = \"none\";\n",
       "      }\n",
       "      tablinks = document.getElementsByClassName(\"tablinks-1465\");\n",
       "      for (i = 0; i < tablinks.length; i++) {\n",
       "        tablinks[i].className = tablinks[i].className.replace(\" active-tab\", \"\");\n",
       "      }\n",
       "      document.getElementById(cityName).style.display = \"block\";\n",
       "      evt.currentTarget.className += \" active-tab\";\n",
       "    }\n",
       "\n",
       "    // Get the element with id=\"defaultOpen\" and click on it\n",
       "    document.getElementById(\"defaultOpen-1465\").click();\n",
       "    </script>"
      ],
      "text/plain": [
       "<IPython.core.display.HTML object>"
      ]
     },
     "metadata": {},
     "output_type": "display_data"
    }
   ],
   "source": [
    "tabset({\n",
    "    'Theory': shap_theory_md,\n",
    "    'Example': shap_eg_md,\n",
    "})"
   ]
  },
  {
   "cell_type": "markdown",
   "id": "0264e165",
   "metadata": {},
   "source": [
    "#### Break Down"
   ]
  },
  {
   "cell_type": "code",
   "execution_count": 30,
   "id": "b019fc11",
   "metadata": {
    "ExecuteTime": {
     "end_time": "2022-12-20T07:57:00.654803Z",
     "start_time": "2022-12-20T07:57:00.616807Z"
    },
    "tags": [
     "remove-cell"
    ]
   },
   "outputs": [],
   "source": [
    "bd_theory_md = \"\"\"\n",
    "<font size = 4  color = '#008B8B'> <b>What is Break Down?</b></font>\n",
    "<ul>\n",
    "   <li>Break Down  is Model Agnostic and instance specific method </li>\n",
    "   <li>Published in 2018 by Mateusz Staniak and Przemysław Biecek</li>\n",
    "   <li>Uses a greedy strategy to identify and remove features iteratively based on their influence on the overall average predicted response meaning it starts with the mean expected model response and then successively add variables in a sequence of their increasing\n",
    "contributions.</li>\n",
    "   <li> Consecutive rows present changes in the mean prediction induced by fixing the value of a particular explanatory variable. \n",
    "   <li>Order-Dependence: The ordering of variables influences the contribution values</li>\n",
    "   <li>Break down interaction: It is based on notion of interaction (deviation from additivity) which means that the effect of an explanatory variable depends on the value(s) of other variable(s)</li>\n",
    "</ul>\n",
    "    \n",
    "\n",
    "<font size = 4  color = '#008B8B'><b>How it relate to the explainability of machine learning?</b> </font>\n",
    "<ul>\n",
    "<li>By providing posible answer to the question, \"Which variables contribute the most to the single observation result?\" </li>\n",
    "</ul>\n",
    "\n",
    "<font size = 4  color = '#008B8B'><b>How it is calculated?</b> </font>\n",
    "<ol type=\"1\">\n",
    "    <li>Starting point is mean prediction </li>\n",
    "    <li>Fix explanatory variable (X1) with the current instance value, calculate all prediction and take the mean </li>\n",
    "    <li>Fix X1 and X2 at the value and calculate all prediction and take mean </li>\n",
    "    <li>Continue this process with all features </li>\n",
    "    <li>Last row represents  model’s prediction for the current instance </li>\n",
    "</ol>\n",
    "\"\"\""
   ]
  },
  {
   "cell_type": "code",
   "execution_count": 31,
   "id": "9a1549f4",
   "metadata": {
    "ExecuteTime": {
     "end_time": "2022-12-20T07:57:00.692806Z",
     "start_time": "2022-12-20T07:57:00.657807Z"
    },
    "tags": [
     "remove-cell"
    ]
   },
   "outputs": [],
   "source": [
    "bd_eg_md = \"\"\"<img align=\"left\" src=\"xai_img/BD_exp.png\" width = 700 length = 700>\n",
    "<br clear=\"left\"/>\n",
    "\n",
    "<i>infographic above illustrate how break down plot is generated </i>\n",
    "<br>\n",
    "\n",
    "<img align=\"left\" src=\"xai_img/BD_simple.png\" width = 700 length = 700>\n",
    "<br clear=\"left\"/>\n",
    "\n",
    "<br>\n",
    "\n",
    "\n",
    "<img align=\"left\" src=\"xai_img/breakdown_exp.png\" width = 700 length = 700>\n",
    "<br clear=\"left\"/>\n",
    "\n",
    "<i><a href=\"https://ema.drwhy.ai/iBreakDown.html\">infographic</a> above illustrate order-dependence and interaction in break down. </i>\n",
    "<br>\n",
    "Thus, by considering the effects of class and age in a different order, we get very different attributions (contributions attributed to the variables). This is because there is an interaction: the effect of class depends on age and vice versa\n",
    "\n",
    "<br>\n",
    "<br clear=\"left\"/>\n",
    "\"\"\""
   ]
  },
  {
   "cell_type": "code",
   "execution_count": 32,
   "id": "bd9151e3",
   "metadata": {
    "ExecuteTime": {
     "end_time": "2022-12-20T07:57:01.785805Z",
     "start_time": "2022-12-20T07:57:01.778804Z"
    }
   },
   "outputs": [
    {
     "data": {
      "text/html": [
       "<div class=\"tab\">\n",
       "<button id = \"defaultOpen-1492\" onclick = \"OpenTab_1492(event, 'Theory-1492')\" class=\"tablinks-1492\">Theory</button>\n",
       "<button onclick = \"OpenTab_1492(event, 'Example-1492')\" class=\"tablinks-1492\">Example</button>\n",
       "</div><div id = \"Theory-1492\" class=\"tabcontent-1492\">\n",
       "\n",
       "<font size = 4  color = '#008B8B'> <b>What is Break Down?</b></font>\n",
       "<ul>\n",
       "   <li>Break Down  is Model Agnostic and instance specific method </li>\n",
       "   <li>Published in 2018 by Mateusz Staniak and Przemysław Biecek</li>\n",
       "   <li>Uses a greedy strategy to identify and remove features iteratively based on their influence on the overall average predicted response meaning it starts with the mean expected model response and then successively add variables in a sequence of their increasing\n",
       "contributions.</li>\n",
       "   <li> Consecutive rows present changes in the mean prediction induced by fixing the value of a particular explanatory variable. \n",
       "   <li>Order-Dependence: The ordering of variables influences the contribution values</li>\n",
       "   <li>Break down interaction: It is based on notion of interaction (deviation from additivity) which means that the effect of an explanatory variable depends on the value(s) of other variable(s)</li>\n",
       "</ul>\n",
       "    \n",
       "\n",
       "<font size = 4  color = '#008B8B'><b>How it relate to the explainability of machine learning?</b> </font>\n",
       "<ul>\n",
       "<li>By providing posible answer to the question, \"Which variables contribute the most to the single observation result?\" </li>\n",
       "</ul>\n",
       "\n",
       "<font size = 4  color = '#008B8B'><b>How it is calculated?</b> </font>\n",
       "<ol type=\"1\">\n",
       "    <li>Starting point is mean prediction </li>\n",
       "    <li>Fix explanatory variable (X1) with the current instance value, calculate all prediction and take the mean </li>\n",
       "    <li>Fix X1 and X2 at the value and calculate all prediction and take mean </li>\n",
       "    <li>Continue this process with all features </li>\n",
       "    <li>Last row represents  model’s prediction for the current instance </li>\n",
       "</ol>\n",
       "\n",
       "</div>\n",
       "<div id = \"Example-1492\" class=\"tabcontent-1492\">\n",
       "<img align=\"left\" src=\"xai_img/BD_exp.png\" width = 700 length = 700>\n",
       "<br clear=\"left\"/>\n",
       "\n",
       "<i>infographic above illustrate how break down plot is generated </i>\n",
       "<br>\n",
       "\n",
       "<img align=\"left\" src=\"xai_img/BD_simple.png\" width = 700 length = 700>\n",
       "<br clear=\"left\"/>\n",
       "\n",
       "<br>\n",
       "\n",
       "\n",
       "<img align=\"left\" src=\"xai_img/breakdown_exp.png\" width = 700 length = 700>\n",
       "<br clear=\"left\"/>\n",
       "\n",
       "<i><a href=\"https://ema.drwhy.ai/iBreakDown.html\">infographic</a> above illustrate order-dependence and interaction in break down. </i>\n",
       "<br>\n",
       "Thus, by considering the effects of class and age in a different order, we get very different attributions (contributions attributed to the variables). This is because there is an interaction: the effect of class depends on age and vice versa\n",
       "\n",
       "<br>\n",
       "<br clear=\"left\"/>\n",
       "\n",
       "</div>\n",
       "<style>\n",
       "    /* Style the tab */\n",
       "    .tab {\n",
       "      border-bottom: 1px solid #ccc;\n",
       "      display: flex;\n",
       "      flex-wrap: wrap;\n",
       "    }\n",
       "\n",
       "    /* Style the buttons inside the tab */\n",
       "    .tab>button {\n",
       "      background-color: inherit;\n",
       "      border: none;\n",
       "      outline: none;\n",
       "      cursor: pointer;\n",
       "      padding: 1rem;\n",
       "      transition: 0.1s;\n",
       "      font-size: 15px;\n",
       "      border-top-left-radius: 0.25rem;\n",
       "      border-top-right-radius: 0.25rem;\n",
       "      color: #0d6efd;\n",
       "    }\n",
       "\n",
       "    /* Change background color of buttons on hover */\n",
       "    .tab>button:hover {\n",
       "      background-color: #ccc;\n",
       "    }\n",
       "\n",
       "    /* Create an active/current tablink class */\n",
       "    .tab>button.active-tab {\n",
       "      background-color: white;\n",
       "      border: 1px solid #ccc;\n",
       "      border-bottom: none;\n",
       "      margin-bottom: -1px;\n",
       "      color: #495057;\n",
       "\n",
       "    }\n",
       "    /* Style the tab content */\n",
       "    .tabcontent-1492 {\n",
       "      display: none;\n",
       "      padding: 0 0.5rem;\n",
       "    }\n",
       "    </style>\n",
       "    <script>\n",
       "    function OpenTab_1492(evt, cityName) {\n",
       "      var i, tabcontent, tablinks;\n",
       "      tabcontent = document.getElementsByClassName(\"tabcontent-1492\");\n",
       "      for (i = 0; i < tabcontent.length; i++) {\n",
       "        tabcontent[i].style.display = \"none\";\n",
       "      }\n",
       "      tablinks = document.getElementsByClassName(\"tablinks-1492\");\n",
       "      for (i = 0; i < tablinks.length; i++) {\n",
       "        tablinks[i].className = tablinks[i].className.replace(\" active-tab\", \"\");\n",
       "      }\n",
       "      document.getElementById(cityName).style.display = \"block\";\n",
       "      evt.currentTarget.className += \" active-tab\";\n",
       "    }\n",
       "\n",
       "    // Get the element with id=\"defaultOpen\" and click on it\n",
       "    document.getElementById(\"defaultOpen-1492\").click();\n",
       "    </script>"
      ],
      "text/plain": [
       "<IPython.core.display.HTML object>"
      ]
     },
     "metadata": {},
     "output_type": "display_data"
    }
   ],
   "source": [
    "tabset({\n",
    "    'Theory': bd_theory_md,\n",
    "    'Example': bd_eg_md,\n",
    "})"
   ]
  },
  {
   "cell_type": "code",
   "execution_count": 33,
   "id": "ba0952ef",
   "metadata": {
    "ExecuteTime": {
     "end_time": "2022-12-20T02:17:14.827424Z",
     "start_time": "2022-12-20T02:14:16.853681Z"
    }
   },
   "outputs": [
    {
     "name": "stdout",
     "output_type": "stream",
     "text": [
      "\u001b[1m\u001b[4mSHAP TreeExplainer\u001b[0m\n",
      "Start Time: 2023-02-03 14:20:49.284572\n",
      "End Time: 2023-02-03 14:20:51.052350\n",
      "Total time taken:\u001b[1m0:00:01.767778\u001b[0m\n"
     ]
    }
   ],
   "source": [
    "# compute the SHAP values for the LightGBM boosting classifier model\n",
    "print('\\033[1m'+ '\\033[4m' + \"SHAP TreeExplainer\" +'\\033[0m')\n",
    "start_time = datetime.now()\n",
    "print(\"Start Time: {}\" .format(start_time))\n",
    "\n",
    "# Fits the explainer\n",
    "explainer = shap.TreeExplainer(model)\n",
    "# Calculates the SHAP values\n",
    "shap_values = explainer.shap_values(X)\n",
    "expected_value = explainer.expected_value\n",
    "\n",
    "end_time = datetime.now() \n",
    "print(\"End Time: {}\" .format(end_time))\n",
    "print('Total time taken:' + '\\033[1m' + str(end_time - start_time) + '\\033[0m')\n"
   ]
  },
  {
   "cell_type": "markdown",
   "id": "b9ce11b0",
   "metadata": {},
   "source": [
    "### Getting into Examples and comparing"
   ]
  },
  {
   "cell_type": "code",
   "execution_count": 34,
   "id": "b2bbeb27",
   "metadata": {
    "ExecuteTime": {
     "end_time": "2022-12-20T07:57:13.894398Z",
     "start_time": "2022-12-20T07:57:13.857397Z"
    }
   },
   "outputs": [],
   "source": [
    "y_test=y_test.reset_index(drop=True)\n",
    "X_test=X_test.reset_index(drop=True)"
   ]
  },
  {
   "cell_type": "code",
   "execution_count": 35,
   "id": "2af14847",
   "metadata": {
    "ExecuteTime": {
     "end_time": "2022-12-20T07:57:14.604827Z",
     "start_time": "2022-12-20T07:57:14.576829Z"
    }
   },
   "outputs": [],
   "source": [
    "#dividing the cases into 4 classes (TP, TN, FP & FN) to pick out few examples. \n",
    "TP = y_test.loc[(y_test['predicted'] == 1) & (y_test['stroke'] == 1)]\n",
    "FN = y_test.loc[(y_test['predicted'] == 0) & (y_test['stroke'] == 1)]\n",
    "TN = y_test.loc[(y_test['predicted'] == 0) & (y_test['stroke'] == 0)]\n",
    "FP = y_test.loc[(y_test['predicted'] == 1) & (y_test['stroke'] == 0)]"
   ]
  },
  {
   "cell_type": "code",
   "execution_count": 36,
   "id": "50cd49bc",
   "metadata": {
    "ExecuteTime": {
     "end_time": "2022-12-19T09:20:04.789548Z",
     "start_time": "2022-12-19T09:20:02.620141Z"
    },
    "tags": [
     "remove-output"
    ]
   },
   "outputs": [
    {
     "data": {
      "image/png": "[encoded data removed]",
      "text/plain": [
       "<Figure size 576x360 with 3 Axes>"
      ]
     },
     "metadata": {},
     "output_type": "display_data"
    }
   ],
   "source": [
    "#SHAP plot for True Positive\n",
    "class ShapInput(object):\n",
    "    def __init__(self, expectation, shap_values, features, feat_names):\n",
    "        self.base_values = expectation\n",
    "        self.values = shap_values\n",
    "        self.data = features\n",
    "        self.display_data = features\n",
    "        self.feature_names = feat_names\n",
    "\n",
    "shap_input = ShapInput(explainer.expected_value[1], shap_values[1][148],\n",
    "                       (X_test.loc[148].astype(str)),\n",
    "                       feat_names=X.columns)\n",
    "\n",
    "\n",
    "\n",
    "shap.waterfall_plot(shap_input)"
   ]
  },
  {
   "cell_type": "markdown",
   "id": "b3724045",
   "metadata": {},
   "source": [
    "<font size = 4 color = '#008B8B'> <b>Key Insights </b> </font>\n",
    "\n",
    "A waterfall plot is a powerful visual tool that shows why a case receives a specific prediction based on its variable values. The plot starts at the bottom and builds up the prediction step by step by either adding (represented in red) or subtracting (represented in blue) values.\n",
    "\n",
    "The graph above demonstrates how this works for an individual in the X_test dataset who was classified as a True Positive case. The base value at the bottom of the plot is -0.192, which is the average of all observations. As the plot progresses, values are added or subtracted until the final prediction of 0.14 is reached at the top of the plot."
   ]
  },
  {
   "cell_type": "code",
   "execution_count": 37,
   "id": "35fed56e",
   "metadata": {
    "scrolled": false,
    "tags": [
     "remove-output"
    ]
   },
   "outputs": [
    {
     "name": "stdout",
     "output_type": "stream",
     "text": [
      "Start Time: 2023-02-03 14:20:51.983548\n"
     ]
    },
    {
     "data": {
      "application/vnd.plotly.v1+json": {
       "config": {
        "displaylogo": false,
        "modeBarButtonsToRemove": [
         "sendDataToCloud",
         "lasso2d",
         "autoScale2d",
         "select2d",
         "zoom2d",
         "pan2d",
         "zoomIn2d",
         "zoomOut2d",
         "resetScale2d",
         "toggleSpikelines",
         "hoverCompareCartesian",
         "hoverClosestCartesian"
        ],
        "plotlyServerURL": "https://plot.ly",
        "staticPlot": false,
        "toImageButtonOptions": {
         "height": null,
         "width": null
        }
       },
       "data": [
        {
         "base": 0.27896845187728925,
         "connector": {
          "line": {
           "color": "#371ea3",
           "dash": "solid",
           "width": 1
          },
          "mode": "spanning"
         },
         "decreasing": {
          "marker": {
           "color": "#f05a71"
          }
         },
         "hoverinfo": "text+delta",
         "hoverlabel": {
          "bgcolor": "rgba(0,0,0,0.8)"
         },
         "hovertext": [
          "Average response: 0.279<br>Prediction: 0.824",
          "age = 81.0<br>increases average response by",
          "gender = 1.0<br>decreases average response by",
          "work_type = 2.0<br>increases average response by",
          "avg_glucose_level = 213.2<br>increases average response by",
          "hypertension = 0.0<br>increases average response by",
          "heart_disease = 0.0<br>increases average response by",
          "bmi = 26.1<br>increases average response by",
          "Average response: 0.279<br>Prediction: 0.824"
         ],
         "increasing": {
          "marker": {
           "color": "#8bdcbe"
          }
         },
         "measure": [
          "relative",
          "relative",
          "relative",
          "relative",
          "relative",
          "relative",
          "relative",
          "relative",
          "total"
         ],
         "orientation": "h",
         "showlegend": false,
         "text": [
          "0.279",
          "+0.423",
          "-0.053",
          "+0.066",
          "+0.061",
          "+0.018",
          "+0.003",
          "+0.027",
          "0.824"
         ],
         "textposition": "outside",
         "totals": {
          "marker": {
           "color": "#371ea3"
          }
         },
         "type": "waterfall",
         "x": [
          0,
          0.423,
          -0.053,
          0.066,
          0.061,
          0.018,
          0.003,
          0.027,
          0.545
         ],
         "xaxis": "x",
         "y": [
          "intercept",
          "age = 81.0",
          "gender = 1.0",
          "work_type = 2.0",
          "avg_glucose_level = 213.2",
          "hypertension = 0.0",
          "heart_disease = 0.0",
          "bmi = 26.1",
          "prediction"
         ],
         "yaxis": "y"
        }
       ],
       "layout": {
        "annotations": [
         {
          "font": {
           "size": 16
          },
          "showarrow": false,
          "text": "LGBMClassifier",
          "x": 0.5,
          "xanchor": "center",
          "xref": "paper",
          "y": 1,
          "yanchor": "bottom",
          "yref": "paper"
         },
         {
          "font": {
           "size": 16
          },
          "showarrow": false,
          "text": "contribution",
          "x": 0.5,
          "xanchor": "center",
          "xref": "paper",
          "y": 0,
          "yanchor": "top",
          "yref": "paper",
          "yshift": -30
         }
        ],
        "font": {
         "color": "#371ea3"
        },
        "height": 333,
        "margin": {
         "b": 71,
         "r": 30,
         "t": 78
        },
        "shapes": [
         {
          "line": {
           "color": "#371ea3",
           "dash": "dot",
           "width": 1.5
          },
          "type": "line",
          "x0": 0.27896845187728925,
          "x1": 0.27896845187728925,
          "xref": "x",
          "y0": -1,
          "y1": 9,
          "yref": "y"
         }
        ],
        "template": {
         "data": {
          "scatter": [
           {
            "type": "scatter"
           }
          ]
         }
        },
        "title": {
         "text": "Break Down",
         "x": 0.15
        },
        "xaxis": {
         "anchor": "y",
         "automargin": true,
         "domain": [
          0,
          1
         ],
         "fixedrange": true,
         "gridwidth": 2,
         "range": [
          0.19725000000000004,
          0.9057499999999999
         ],
         "tickcolor": "white",
         "ticklen": 3,
         "ticks": "outside",
         "type": "linear",
         "zeroline": false
        },
        "yaxis": {
         "anchor": "x",
         "automargin": true,
         "autorange": "reversed",
         "domain": [
          0,
          1
         ],
         "fixedrange": true,
         "gridwidth": 2,
         "tickcolor": "white",
         "ticklen": 10,
         "ticks": "outside",
         "type": "category"
        }
       }
      },
      "text/html": [
       "<div>                            <div id=\"23bad0c1-bdf4-4efa-9128-bccd607b18a0\" class=\"plotly-graph-div\" style=\"height:333.0px; width:100%;\"></div>            <script type=\"text/javascript\">                require([\"plotly\"], function(Plotly) {                    window.PLOTLYENV=window.PLOTLYENV || {};                                    if (document.getElementById(\"23bad0c1-bdf4-4efa-9128-bccd607b18a0\")) {                    Plotly.newPlot(                        \"23bad0c1-bdf4-4efa-9128-bccd607b18a0\",                        [{\"base\":0.27896845187728925,\"connector\":{\"line\":{\"color\":\"#371ea3\",\"dash\":\"solid\",\"width\":1},\"mode\":\"spanning\"},\"decreasing\":{\"marker\":{\"color\":\"#f05a71\"}},\"hoverinfo\":\"text+delta\",\"hoverlabel\":{\"bgcolor\":\"rgba(0,0,0,0.8)\"},\"hovertext\":[\"Average response: 0.279<br>Prediction: 0.824\",\"age = 81.0<br>increases average response by\",\"gender = 1.0<br>decreases average response by\",\"work_type = 2.0<br>increases average response by\",\"avg_glucose_level = 213.2<br>increases average response by\",\"hypertension = 0.0<br>increases average response by\",\"heart_disease = 0.0<br>increases average response by\",\"bmi = 26.1<br>increases average response by\",\"Average response: 0.279<br>Prediction: 0.824\"],\"increasing\":{\"marker\":{\"color\":\"#8bdcbe\"}},\"measure\":[\"relative\",\"relative\",\"relative\",\"relative\",\"relative\",\"relative\",\"relative\",\"relative\",\"total\"],\"orientation\":\"h\",\"showlegend\":false,\"text\":[\"0.279\",\"+0.423\",\"-0.053\",\"+0.066\",\"+0.061\",\"+0.018\",\"+0.003\",\"+0.027\",\"0.824\"],\"textposition\":\"outside\",\"totals\":{\"marker\":{\"color\":\"#371ea3\"}},\"x\":[0.0,0.423,-0.053,0.066,0.061,0.018,0.003,0.027,0.545],\"y\":[\"intercept\",\"age = 81.0\",\"gender = 1.0\",\"work_type = 2.0\",\"avg_glucose_level = 213.2\",\"hypertension = 0.0\",\"heart_disease = 0.0\",\"bmi = 26.1\",\"prediction\"],\"type\":\"waterfall\",\"xaxis\":\"x\",\"yaxis\":\"y\"}],                        {\"template\":{\"data\":{\"scatter\":[{\"type\":\"scatter\"}]}},\"xaxis\":{\"anchor\":\"y\",\"domain\":[0.0,1.0],\"type\":\"linear\",\"gridwidth\":2,\"zeroline\":false,\"automargin\":true,\"ticks\":\"outside\",\"tickcolor\":\"white\",\"ticklen\":3,\"fixedrange\":true,\"range\":[0.19725000000000004,0.9057499999999999]},\"yaxis\":{\"anchor\":\"x\",\"domain\":[0.0,1.0],\"type\":\"category\",\"autorange\":\"reversed\",\"gridwidth\":2,\"automargin\":true,\"ticks\":\"outside\",\"tickcolor\":\"white\",\"ticklen\":10,\"fixedrange\":true},\"annotations\":[{\"font\":{\"size\":16},\"showarrow\":false,\"text\":\"LGBMClassifier\",\"x\":0.5,\"xanchor\":\"center\",\"xref\":\"paper\",\"y\":1.0,\"yanchor\":\"bottom\",\"yref\":\"paper\"},{\"font\":{\"size\":16},\"showarrow\":false,\"text\":\"contribution\",\"x\":0.5,\"xanchor\":\"center\",\"xref\":\"paper\",\"y\":0,\"yanchor\":\"top\",\"yref\":\"paper\",\"yshift\":-30}],\"shapes\":[{\"line\":{\"color\":\"#371ea3\",\"dash\":\"dot\",\"width\":1.5},\"type\":\"line\",\"x0\":0.27896845187728925,\"x1\":0.27896845187728925,\"xref\":\"x\",\"y0\":-1,\"y1\":9,\"yref\":\"y\"}],\"title\":{\"text\":\"Break Down\",\"x\":0.15},\"font\":{\"color\":\"#371ea3\"},\"margin\":{\"t\":78,\"b\":71,\"r\":30},\"height\":333.0},                        {\"displaylogo\": false, \"staticPlot\": false, \"toImageButtonOptions\": {\"height\": null, \"width\": null}, \"modeBarButtonsToRemove\": [\"sendDataToCloud\", \"lasso2d\", \"autoScale2d\", \"select2d\", \"zoom2d\", \"pan2d\", \"zoomIn2d\", \"zoomOut2d\", \"resetScale2d\", \"toggleSpikelines\", \"hoverCompareCartesian\", \"hoverClosestCartesian\"], \"responsive\": true}                    ).then(function(){\n",
       "                            \n",
       "var gd = document.getElementById('23bad0c1-bdf4-4efa-9128-bccd607b18a0');\n",
       "var x = new MutationObserver(function (mutations, observer) {{\n",
       "        var display = window.getComputedStyle(gd).display;\n",
       "        if (!display || display === 'none') {{\n",
       "            console.log([gd, 'removed!']);\n",
       "            Plotly.purge(gd);\n",
       "            observer.disconnect();\n",
       "        }}\n",
       "}});\n",
       "\n",
       "// Listen for the removal of the full notebook cells\n",
       "var notebookContainer = gd.closest('#notebook-container');\n",
       "if (notebookContainer) {{\n",
       "    x.observe(notebookContainer, {childList: true});\n",
       "}}\n",
       "\n",
       "// Listen for the clearing of the current output cell\n",
       "var outputEl = gd.closest('.output');\n",
       "if (outputEl) {{\n",
       "    x.observe(outputEl, {childList: true});\n",
       "}}\n",
       "\n",
       "                        })                };                });            </script>        </div>"
      ]
     },
     "metadata": {},
     "output_type": "display_data"
    },
    {
     "name": "stdout",
     "output_type": "stream",
     "text": [
      "End Time: 2023-02-03 14:20:53.447372\n",
      "Total time taken:\u001b[1m0:00:01.463824\u001b[0m\n"
     ]
    }
   ],
   "source": [
    "#Break Down interaction plot for a True Positive case(Stroke ==1 and predicted ==1) \n",
    "start_time = datetime.now()\n",
    "print(\"Start Time: {}\" .format(start_time))\n",
    "\n",
    "exp.predict_parts(X_test.iloc[148, :],type='break_down_interactions').plot() #1007\n",
    "\n",
    "end_time = datetime.now() \n",
    "print(\"End Time: {}\" .format(end_time))\n",
    "print('Total time taken:' + '\\033[1m' + str(end_time - start_time) + '\\033[0m')"
   ]
  },
  {
   "cell_type": "markdown",
   "id": "c5b25924",
   "metadata": {},
   "source": [
    "<font size = 4 color = '#008B8B'> <b>Key Insights </b> </font>\n",
    "\n",
    "The mean prediction for the LightGBM model for the stroke prediction dataset is 26.7%. This value represents the average predicted probability of stroke over all individuals in the dataset. It is important to note that this is not the percentage of individuals who actually had a stroke, but rather the average model prediction.\n",
    "\n",
    "For a specific individual, the model's prediction is 83%, which is much higher than the mean prediction. The explanatory variable that has the largest impact on this prediction is age. By holding the value of this variable constant, the mean prediction is increased by 46 percentage points. The effect of all other explanatory variables is smaller in comparison."
   ]
  },
  {
   "cell_type": "markdown",
   "id": "086c9212",
   "metadata": {},
   "source": [
    "### Summary comparison "
   ]
  },
  {
   "cell_type": "markdown",
   "id": "2b85d79e",
   "metadata": {},
   "source": [
    "| About                                   | SHAP waterfall Plot                                                                                                                                                                                                                                                                                                                                                                                                                     | Breakdown interaction Plot                                                                                                                                                                                                                                                                                                                                                                                          |\n",
    "|:----------------------------------------|:-------------------------------------------------------------------------------------------------------------------------------------------------------------------------------------------------------------------------------------------------------------------------------------------------------------------------------------------------------------------------------------------------------------------------------------|:---------------------------------------------------------------------------------------------------------------------------------------------------------------------------------------------------------------------------------------------------------------------------------------------------------------------------------------------------------------------------------------------------------|\n",
    "| 🚩 Method        | 1. SHAP averages across all possible combinations of variable contributions.    <br> 2.  Shows additive local representation                                                                                                                                                                                                                                                                                                                                                    | 1. Is greedy and only takes into account one set of nested conditionings.  <br> 2. Captures local interactions and generate non-additive explanations                                                                                                                                                                                                                                                                                                        |\n",
    "| ⏰ Run Time for dataset used | 1-2 seconds for this dataset, 4-5 sec for dataset with 54 features                                                                                                                                                                                                                                                                                                                                                                                                                      | 2-3 seconds for this dataset, <b>20 - 25 mins</b> for dataset with 54 features                                                                                                                                                                                                                                                                                                                                                                                            |\n",
    "| ✔️  Packages             | SHAP, Dalex, Shapash, explainerdashboard, AIX360,Alibi Explain                                                                                                                                                                                                                                                                                                                                                                       | Dalex                                                                                                                                                                                                                                                                                                                                                                                                    |\n",
    "| ⭐  Advantages                      | 1. Quick to generate. <br> 2. The method has got a strong formal foundation derived from the cooperative games theory. <br> 3. Wide sources of documentation and explanation. <br>4.  Available in both Python and R <br> 5. Works with  Different Explainers -TreeExplainer, DeepExplainer and KernelExplainer <br > 6. It considers all possible conditioning  | 1. Intituative , easy to understand and interactive plots <br>  2. Available in both R and Python <br> 3. Are compact; results for many explanatory variables can be presented in a limited space. <br> 4. an be applied to any predictive model <br> 5. It captures  feature interaction                                                                |\n",
    "| 💥  Limitation                       | 1. Not as intituative as  breakdown <br> 2. Multicollinearity Issue: If there are variables with high degree of multicollinearity, the SHAP values would be high for one of the variables and zero/very low for the other. <br> 3. It generates matplotlib based plots which are not interactive. <br> 4. For large models, the calculation of Shapley values is time-consuming                                                      | 1. Only suitable for small dataset due to high run time <br> 2.  Less documentation and references <br>   3. It consider only  a single series of nested conditionings <br> 4. does  not work well for models with heavy components related to interactions between features.  |"
   ]
  },
  {
   "cell_type": "markdown",
   "id": "3e28f9b8",
   "metadata": {},
   "source": [
    "<font size = 4 color = '#008B8B'> Recommendation </font>\n",
    "  - Breakdown interaction plot are more intuitive and probably suitable for small datasets with less sparsity and size for now due to its heavy computation run time.\n",
    "  - SHAP has strong foundation and widely used as compared to break down. Hence, easier to research and implement.\n",
    "  "
   ]
  },
  {
   "cell_type": "markdown",
   "id": "7434d150",
   "metadata": {},
   "source": [
    "[back](#Table-of-Contents)"
   ]
  },
  {
   "cell_type": "markdown",
   "id": "3bc878e8",
   "metadata": {},
   "source": [
    "<hr color='#008B8B'>"
   ]
  },
  {
   "cell_type": "markdown",
   "id": "0e5994d9",
   "metadata": {},
   "source": [
    "# Conclusion"
   ]
  },
  {
   "cell_type": "markdown",
   "id": "05e815bb",
   "metadata": {},
   "source": [
    "1. Partial Dependence Plot (PDP) vs Accumulated Local Effects (ALE)\n",
    "      - ALE appears to have  a competitive edge over PD because it addresses the bias that arises in PD when the feature of interest is highly correlated with other features\n",
    "      - The runtime for both methods is similar. \n",
    "\n",
    "<br>\n",
    "\n",
    "2. SHAP waterfall plot vs Breakdown plot  \n",
    "    - SHAP is faster in terms of computation time.\n",
    "    - However, the Breakdown plot is more intuitive and easier to understand.\n",
    "    - Both methods have limitations, and it may be necessary to consider the specific use case and requirements before choosing one over the other.\n",
    "\n",
    "<br>\n",
    "\n",
    "3. Suggestions  \n",
    "    - ALE can be explored further given its advantages over PDP. \n",
    "    - SHAP shows additive local represenation(complex models are usually non-additive). Break Down capture local interactions and generate non-additive explanations.\n",
    "    - Currently, Breakdown may be more suitable for smaller datasets with less sparsity and size, due to its heavy computational runtime.\n",
    "\n",
    "    \n"
   ]
  },
  {
   "cell_type": "markdown",
   "id": "d64a2875",
   "metadata": {},
   "source": [
    "[back](#Table-of-Contents)"
   ]
  },
  {
   "cell_type": "markdown",
   "id": "5ce3b988",
   "metadata": {},
   "source": [
    "<hr color='#008B8B'>"
   ]
  },
  {
   "cell_type": "markdown",
   "id": "4b34726f",
   "metadata": {
    "ExecuteTime": {
     "end_time": "2022-10-10T05:50:54.811493Z",
     "start_time": "2022-10-10T05:50:54.210106Z"
    }
   },
   "source": [
    "# References"
   ]
  },
  {
   "cell_type": "markdown",
   "id": "edcc2e88",
   "metadata": {},
   "source": [
    "1. https://christophm.github.io/interpretable-ml-book/\n",
    "\n",
    "2. https://www.darpa.mil/program/explainable-artificial-intelligence\n",
    "\n",
    "3. https://www.forbes.com/sites/cognitiveworld/2019/07/23/understanding-explainable-ai/?sh=3c062d987c9e\n",
    "\n",
    "4. https://towardsdatascience.com/shap-explain-any-machine-learning-model-in-python-24207127cad7\n",
    "\n",
    "5. https://www.youtube.com/watch?v=u7Om2joZWYs\n",
    "\n",
    "6. https://towardsdatascience.com/shap-explained-the-way-i-wish-someone-explained-it-to-me-ab81cc69ef30\n",
    "\n",
    "7. https://www.sciencedirect.com/science/article/pii/S0740624X21001027\n",
    "\n",
    "8. https://christophm.github.io/interpretable-ml-book/ale.html\n",
    "\n",
    "9. https://towardsdatascience.com/explainable-ai-xai-methods-part-3-accumulated-local-effects-ale-cf6ba3387fde\n",
    "\n",
    "10. https://docs.oracle.com/en-us/iaas/tools/ads-sdk/latest/user_guide/mlx/accumulated_local_effects.html\n",
    "\n",
    "11. https://towardsdatascience.com/partial-dependence-plots-with-scikit-learn-966ace4864fc\n",
    "\n",
    "12. https://towardsdatascience.com/explainable-ai-xai-methods-part-1-partial-dependence-plot-pdp-349441901a3d\n",
    "\n",
    "13. https://shap.readthedocs.io/en/latest/index.html\n",
    "\n",
    "14. https://ema.drwhy.ai/breakDown.html\n",
    "\n",
    "15. https://medium.com/responsibleml/basic-xai-with-dalex-part-4-break-down-method-2cd4de43abdd\n",
    "\n",
    "16. https://uc-r.github.io/dalex\n",
    "\n",
    "17. https://arxiv.org/abs/1903.11420\n"
   ]
  },
  {
   "cell_type": "markdown",
   "id": "6a21fef1",
   "metadata": {},
   "source": [
    "<hr color='#008B8B'>"
   ]
  }
 ],
 "metadata": {
  "kernelspec": {
   "display_name": "Python 3 (ipykernel)",
   "language": "python",
   "name": "python3"
  },
  "language_info": {
   "codemirror_mode": {
    "name": "ipython",
    "version": 3
   },
   "file_extension": ".py",
   "mimetype": "text/x-python",
   "name": "python",
   "nbconvert_exporter": "python",
   "pygments_lexer": "ipython3",
   "version": "3.9.7"
  },
  "toc": {
   "base_numbering": 1,
   "nav_menu": {},
   "number_sections": true,
   "sideBar": true,
   "skip_h1_title": false,
   "title_cell": "Table of Contents",
   "title_sidebar": "Contents",
   "toc_cell": false,
   "toc_position": {
    "height": "calc(100% - 180px)",
    "left": "10px",
    "top": "150px",
    "width": "247.75px"
   },
   "toc_section_display": true,
   "toc_window_display": true
  },
  "varInspector": {
   "cols": {
    "lenName": 16,
    "lenType": 16,
    "lenVar": 40
   },
   "kernels_config": {
    "python": {
     "delete_cmd_postfix": "",
     "delete_cmd_prefix": "del ",
     "library": "var_list.py",
     "varRefreshCmd": "print(var_dic_list())"
    },
    "r": {
     "delete_cmd_postfix": ") ",
     "delete_cmd_prefix": "rm(",
     "library": "var_list.r",
     "varRefreshCmd": "cat(var_dic_list()) "
    }
   },
   "types_to_exclude": [
    "module",
    "function",
    "builtin_function_or_method",
    "instance",
    "_Feature"
   ],
   "window_display": false
  }
 },
 "nbformat": 4,
 "nbformat_minor": 5
}
