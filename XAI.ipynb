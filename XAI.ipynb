{
 "cells": [
  {
   "cell_type": "markdown",
   "id": "0d5eb1db",
   "metadata": {},
   "source": [
    "## Table of Contents\n",
    "<ul class=\"toc-item\">\n",
    "<li><span><i class=\"fa fa-fw\"></i><a href=\"#Background\" data-toc-modified-id=\"Background\"><span class=\"toc-item-num\">1&nbsp;&nbsp;</span>Background</a></span></li>\n",
    "<li>\n",
    "   <span><i class=\"fa fa-fw \"></i><a href=\"#About-the-Dataset\" data-toc-modified-id=\"About-the-Dataset\"><span class=\"toc-item-num\">2&nbsp;&nbsp;</span>About the Dataset</a></span>\n",
    "   <ul class=\"toc-item\">\n",
    "      <li><span><i class=\"fa fa-fw\"></i><a href=\"#Data-Preprocessing\" data-toc-modified-id=\"Data-Preprocessing\"><span class=\"toc-item-num\">2.1&nbsp;&nbsp;</span>Data Preprocessing</a></span></li>\n",
    "      <li><span><i class=\"fa fa-fw\"></i><a href=\"#Train-Test-Split\" data-toc-modified-id=\"Train-Test-Split\"><span class=\"toc-item-num\">2.2&nbsp;&nbsp;</span>Train-Test Split</a></span></li>\n",
    "      <li><span><i class=\"fa fa-fw\"></i><a href=\"#Upsampling-the-dataset\" data-toc-modified-id=\"Upsampling-the-dataset\"><span class=\"toc-item-num\">2.3&nbsp;&nbsp;</span>Upsampling the dataset</a></span></li>\n",
    "   </ul>\n",
    "<li>\n",
    "   <span><i class=\"fa fa-fw \"></i><a href=\"#Building-the-model\" data-toc-modified-id=\"Building the model\"><span class=\"toc-item-num\">3&nbsp;&nbsp;</span>Building the model</a></span>\n",
    "   <ul class=\"toc-item\">\n",
    "      <li><span><i class=\"fa fa-fw\"></i><a href=\"#Key-model-outputs\" data-toc-modified-id=\"Key-model-outputs\"><span class=\"toc-item-num\">3.1&nbsp;&nbsp;</span>Key model outputs</a></span></li>\n",
    "   </ul>\n",
    "<li><span><i class=\"fa fa-fw\"></i><a href=\"#Model-Interpretability\" data-toc-modified-id=\"Model-Interpretability\"><span class=\"toc-item-num\">4&nbsp;&nbsp;</span>Model Interpretability</a></span></li>\n",
    "<li>\n",
    "   <span><i class=\"fa fa-fw \"></i><a href=\"#Comparisons-XAI\" data-toc-modified-id=\"Comparisons-XAI\"><span class=\"toc-item-num\">5&nbsp;&nbsp;</span>Comparisons XAI</a></span>\n",
    "   <ul class=\"toc-item\">\n",
    "      <li><span><i class=\"fa fa-fw\"></i><a href=\"#PDP-vs-ALE\" data-toc-modified-id=\"PDP-vs-ALE\"><span class=\"toc-item-num\">5.1&nbsp;&nbsp;</span>PDP vs ALE</a></span></li>\n",
    "      <ul class=\"toc-item\">\n",
    "         <li><span><i class=\"fa fa-fw\"></i><a href=\"#Understanding-these-methods\" data-toc-modified-id=\"Understanding-these-methods\"><span class=\"toc-item-num\">5.1.1&nbsp;&nbsp;</span>Understanding these methods</a></span></li>\n",
    "         <li><span><i class=\"fa fa-fw\"></i><a href=\"#Getting-into-examples-and-comparing\" data-toc-modified-id=\"Getting-into-examples-and-comparing\"><span class=\"toc-item-num\">5.1.2&nbsp;&nbsp;</span>Getting into examples and comparing</a></span></li>\n",
    "         <li><span><i class=\"fa fa-fw\"></i><a href=\"#PDP-vs-ALE-Plot-using-Dalex-Explainer\" data-toc-modified-id=\"PDP-vs-ALE-Plot-using-Dalex-Explainer\"><span class=\"toc-item-num\">5.1.3&nbsp;&nbsp;</span>PDP vs ALE Plot using Dalex Explainer</a></span></li>\n",
    "         <li><span><i class=\"fa fa-fw\"></i><a href=\"#Summary-Comparison\" data-toc-modified-id=\"Summary-Comparison\"><span class=\"toc-item-num\">5.1.4&nbsp;&nbsp;</span>Summary Comparison</a></span></li>\n",
    "      </ul>\n",
    "      <li><span><i class=\"fa fa-fw\"></i><a href=\"#SHAP-vs-Breakdown\" data-toc-modified-id=\"SHAP-vs-Breakdown\"><span class=\"toc-item-num\">5.2&nbsp;&nbsp;</span>SHAP vs Breakdown</a></span></li>\n",
    "      <ul class=\"toc-item\">\n",
    "         <li><span><i class=\"fa fa-fw\"></i><a href=\"#Understanding-these-Methods\" data-toc-modified-id=\"Understanding-these-methods\"><span class=\"toc-item-num\">5.2.1&nbsp;&nbsp;</span>Understanding these methods</a></span></li>\n",
    "         <li><span><i class=\"fa fa-fw\"></i><a href=\"#Getting-into-Examples-and-comparing\" data-toc-modified-id=\"Getting-into-examples-and-comparing\"><span class=\"toc-item-num\">5.2.2&nbsp;&nbsp;</span>Getting into examples and comparing</a></span></li>\n",
    "         <li><span><i class=\"fa fa-fw\"></i><a href=\"#Summary-comparison\" data-toc-modified-id=\"Summary-Comparison\"><span class=\"toc-item-num\">5.2.3&nbsp;&nbsp;</span>Summary Comparison</a></span></li>\n",
    "      </ul>\n",
    "   </ul>\n",
    "<li><span><i class=\"fa fa-fw\"></i><a href=\"#Conclusion\" data-toc-modified-id=\"Conclusion\"><span class=\"toc-item-num\">6&nbsp;&nbsp;</span>Conclusion</a></span></li>"
   ]
  },
  {
   "cell_type": "markdown",
   "id": "19770fad",
   "metadata": {},
   "source": [
    "# Background"
   ]
  },
  {
   "cell_type": "markdown",
   "id": "a19ecd4e",
   "metadata": {},
   "source": [
    "In this notebook, I've conducted a comparative case study to examine the two most common approaches to global explanation: accumulated local effects and partial dependence and two local explanation strategies SHAP Waterfall Plots and Breakdown Interaction Plots. These methods each provide distinctive insights that are essential to comprehending our models."
   ]
  },
  {
   "cell_type": "markdown",
   "id": "5f8a534a",
   "metadata": {},
   "source": [
    "<font size = 5  color = '#008B8B'> <b>XAI why?</b> </font>\n",
    "-  ML/AI models are getting more complex and challenging and hence the need to interpret and explain is even more\n",
    "-  XAI is a regulartory requirement and a key transparency pillar for most of the industries deploying AI\n",
    "\n",
    "\n",
    "<img src=\"https://www.darpa.mil/ddm_gallery/xai-figure1-inline-graphic.png\" align = 'left' width = 500 length = 500>\n",
    "\n",
    "<br clear=\"left\"/>\n",
    "    \n",
    "*A simple [infographic](https://www.darpa.mil/ddm_gallery/xai-figure1-inline-graphic.png) above shows the flow of AI to Questions*"
   ]
  },
  {
   "cell_type": "markdown",
   "id": "10e3e191",
   "metadata": {},
   "source": [
    "<font size = 5  color = '#008B8B'> <b>What does XAI answer?</b> </font>\n",
    "- Why did the AI system make a specific prediction or decision?\n",
    "- Why didn’t the AI system do something else?\n",
    "- When do AI systems give enough confidence in the decision that you can trust it, and how can the AI system correct errors that arise?\n",
    "    \n",
    "<img src=\"https://miro.medium.com/max/1100/1*jQXEEEOWuSGJT9KwD8DEhA.png\" align = 'left' width = 500 length = 500> \n",
    "<br clear=\"left\"/>\n",
    "\n",
    "*A simple [infographic](https://www.researchgate.net/profile/Jordi-Vallverdu/publication/339079867/figure/fig1/AS:855646786297857@1581013499668/Explainability-in-deep-learning-DL.ppm) above illustrates some of state-of-the-art techniques in the accuracy-interpretability trade-off map*\n"
   ]
  },
  {
   "cell_type": "markdown",
   "id": "20dc4895",
   "metadata": {},
   "source": [
    " <font size = 5 color = '#008B8B'> <b>Questions on XAI</b> </font>\n",
    " 1. Are the methods to interpret model patterns and decisions used by us the best available so far ? E.g. [SHAP](https://shap.readthedocs.io/en/latest/index.html) or [PDP](https://christophm.github.io/interpretable-ml-book/pdp.html)\n",
    " \n",
    " 2. What are the other new/alternative methods that are worth exploring and considered as the new cutting edge from the academics?\n",
    " "
   ]
  },
  {
   "cell_type": "markdown",
   "id": "6a884f28",
   "metadata": {
    "ExecuteTime": {
     "end_time": "2022-10-12T07:56:44.474524Z",
     "start_time": "2022-10-12T07:56:44.468523Z"
    }
   },
   "source": [
    "<font size = 5 color = '#008B8B'> <b>XAI family of packages out there</b> </font>"
   ]
  },
  {
   "cell_type": "markdown",
   "id": "8adb67a5",
   "metadata": {},
   "source": [
    "Below is a table which gives an overview of the whole landscape of frameworks/packages on XAI that have come up in Python/R. This includes big brands such as IBM, google, Microsoft etc"
   ]
  },
  {
   "cell_type": "markdown",
   "id": "77383a9f",
   "metadata": {},
   "source": [
    "| Name                                                                                                                                                                                                                                                                                                                   | Short Description                                                                                                                                                                                                                                | Developed by                                                    | Explainable Type                                                                                           | Supported ML Models                                                                                                                                                      | Available In                                 | \n",
    "| ---------------------------------------------------------------------------------------------------------------------------------------------------------------------------------------------------------------------------------------------------------------------------------------------------------------------- | ------------------------------------------------------------------------------------------------------------------------------------------------------------------------------------------------------------------------------------------------ | --------------------------------------------------------------- | ---------------------------------------------------------------------------------------------------------- | ------------------------------------------------------------------------------------------------------------------------------------------------------------------------ | -------------------------------------------- | \n",
    "| <figure><center><img src=\"https://miro.medium.com/max/602/1*d3R7xA7KH9mi-nrmp0t2UA.png\" width=\"120\" height=\"120\"><a href=\"https://shap.readthedocs.io/en/latest/index.html\">SHAP</a></center></figure>                                                                                                                          | <p style='text-align: left;'> SHAP (SHapley Additive exPlanations) </p>                                                                                                                                                                          | <p style='text-align: left;'> Scott Lundberg and Su-In Lee </p> | <p style='text-align: left;'> Local & Global </p>                                                          | <p style='text-align: left;'> TreeExplainer, DeepExplainer and KernelExplainer </p>                                                                                      | <p style='text-align: left;'> Python,R </p>  | \n",
    "| <figure><center><img src=\"https://www.data-imaginist.com/assets/images/lime_logo_small.jpg\" width=\"120\" height=\"120\"><a href=\"https://lime-ml.readthedocs.io/en/latest\">LIME</a></center></figure>                                                                                                                              | <p style='text-align: left;'> LIME, the acronym for local interpretable model-agnostic explanations </p>                                                                                                                                         | <p style='text-align: left;'> Marco Ribeiro </p>                | <p style='text-align: left;'> Local </p>                                                                   | <p style='text-align: left;'> tabular models, NLP models, and image classifiers</p>                                                                                      | <p style='text-align: left;'> Python,R </p>  | \n",
    "| <figure><center><img src=\"https://dalex.drwhy.ai/misc/dalex_even.png\" width=\"120\" height=\"120\"><a href=\"https://dalex.drwhy.ai/\">Dalex </a></center></figure>                                                                                                                                            | <p style='text-align: left;'>Dalex is a comprehensive XAI framework with multiple algorithms </p>                                                                                                                                                | <p style='text-align: left;'> dalex.drwhy.ai </p>               | <p style='text-align: left;'> Local & Global <br>(SHAP, Break Down, PDP, ALE)</p>                                                 | <p style='text-align: left;'> Scikit-Learn,catboost, xgboost, keras, h2o </p>                                                                                | <p style='text-align: left;'> Python,R </p>  | \n",
    "| <figure><center><img src=\"https://interpret.ml/images/interpretml-meta-image.jpg\" width=\"80\" height=\"80\"><a href=\"https://interpret.ml/docs/getting-started\">InterpretML</a></center></figure>                                                                                                                                | <p style='text-align: left;'> InterpretML is an new open-source Python package introducing glassbox methods. One more package by microsoft - <a href=\"https://learn.microsoft.com/en-us/azure/machine-learning/how-to-machine-learning-interpretability\">Azure .interpret</a></p>   | <p style='text-align: left;'> Microsoft </p>     | <p style='text-align: left;'>Glassbox - Global & Local, Blackbox - Local </p>          | <p style='text-align: left;'> Glassbox - Scikit Learn, blackbox - models compatible with LIME & Kernel SHAP </p>                                                         | <p style='text-align: left;'> Python </p>    | \n",
    "| <figure><center><img src=\"https://www.tensorflow.org/static/site-assets/images/marketing/cards/tile_tool_what_if.jpg\" width=\"120\" height=\"120\"><a href=\"https://pair-code.github.io/what-if-tool/\"> What-If tool </a></center></figure>                                                                                        | <p style='text-align: left;'> What-If tool is a visualization tool that is designed to interactively probe the machine learning models. </p>                                                                                                     | <p style='text-align: left;'> Google </p>                        | <p style='text-align: left;'> Local & Global </p>                                                          | <p style='text-align: left;'> XGBoost , Scikit-Learn, TensorFlow </p>                                                                                                    | <p style='text-align: left;'> Python </p>    | \n",
    "| <figure><center><img src=\"https://www.akira.ai/hubfs/Imported_Blog_Media/eli5-python-library-akira-ai.png\" width=\"120\" height=\"120\"><a href=\"https://eli5.readthedocs.io/en/latest/\"> ELI5 </a></center></figure>                                                                                                               | <p style='text-align: left;'> ELI5 uses Lime and other permutation importance methods </p>                                                                                                                                                       | <p style='text-align: left;'> MIT </p>                          | <p style='text-align: left;'> Local & Global </p>                                                          | <p style='text-align: left;'> scikit-learn, XGBoost, LightGBM, CatBoost, lightning, sklearn-crfsuite, Keras </p>                                                         | <p style='text-align: left;'> Python </p>    | \n",
    "| <figure><center><img src=\"https://www.bloorresearch.com/wp-content/uploads/2020/07/YELLOWBRICK-logo-300-x-470px--x.png\" width=\"80\" height=\"80\"><a href=\"https://www.scikit-yb.org/en/latest/\"> Yellowbrick </a></center></figure>                                                                                             | <p style='text-align: left;'> The Yellowbrick library is based on the scikit-learn and matplotlib libraries. </p>                                                                                                                                | <p style='text-align: left;'> Ankit Dhir and Rob Kingyens </p>  | <p style='text-align: left;'> Global </p>                                                                  | <p style='text-align: left;'> scikit-learn </p>                                                                                                                          | <p style='text-align: left;'> Python </p>    | \n",
    "| <figure><center><img src=\"https://raw.githubusercontent.com/SeldonIO/alibi/master/doc/source/_static/Alibi_Explain_Logo_rgb.png\" width=\"120\" height=\"120\"><a href=\"https://github.com/SeldonIO/alibi#model-explanations\"> Alibi Explain </a></center></figure>                                                                        | <p style='text-align: left;'> Cover both the model-agnostic (black-box) and model-specific (white-box) setting </p>                                                                                                                              | <p style='text-align: left;'> Janis Klaise </p>           | <p style='text-align: left;'> Local & Global <br>(SHAP, PDP, ALE) </p>                                     | <p style='text-align: left;'> scikit-learn, XGBoost, LightGBM, CatBoost, tensorflow, Keras </p>                                                                          | <p style='text-align: left;'> Python </p>    | \n",
    "| <figure><center><img src=\"https://aix360.mybluemix.net/static/images/logo.png\" width=\"120\" height=\"120\"><a href=\"https://aix360.mybluemix.net/\">AI Explainability 360 (AIX360)</a></center></figure>                                                                                                                            | <p style='text-align: left;'> It includes algorithms that span the different dimensions of ways of explaining along with proxy explainability metrics </p>                                                                                       | <p style='text-align: left;'> IBM Research </p>                 | <p style='text-align: left;'> Local & Global <br>(SHAP) </p>                                               | <p style='text-align: left;'> scikit-learn,Pytorch,Tensorflow  </p>                                                                                                      | <p style='text-align: left;'> Python </p>    | \n",
    "| <figure><center><img src=\"https://oracle.github.io/Skater/_static/skater-logo.svg\" width=\"120\" height=\"120\"><a href=\"https://oracle.github.io/Skater/overview.html\">Skater</a></center></figure>                                                                                                                                | <p style='text-align: left;'> Skater is a unified framework to enable Model Interpretation for all forms of model </p>                                                                                                                           | <p style='text-align: left;'> Aaron Kramer</p>                  | <p style='text-align: left;'> Local & Global <br>(PDP) </p>                                                | <p style='text-align: left;'> scikit-learn,tensorflow,keras </p>                                                                                                         | <p style='text-align: left;'> Python </p>    | \n",
    "| <figure><center><img src=\"https://venturebeat.com/wp-content/uploads/2019/03/activation_atlas_zoomed_out.png?fit=780%2C372&strip=all\" width=\"120\" height=\"120\"><a href=\"https://ai.googleblog.com/2019/03/exploring-neural-networks.html\">Activation Atlases</a></center></figure>                                              | <p style='text-align: left;'> Visualize how neural networks interact with each other. Other python packages for NN - <a href=\"https://github.com/kundajelab/deeplift\">DeepLIFT</a> <a href=\"https://github.com/tensorflow/lucid\">Lucid </a> </p> | <p style='text-align: left;'> OpenAI and Google </p>            | <p style='text-align: left;'> Local & Global </p>                                                          | <p style='text-align: left;'> tensorflow </p>                                                                                                                            | <p style='text-align: left;'> Python </p>    | \n",
    "| <figure><center><img src=\"https://shapash.readthedocs.io/en/latest/_images/shapash-resize.png\" width=\"120\" height=\"120\"><a href=\"https://shapash.readthedocs.io/en/latest/\">Shapash</a></center></figure>                                                                                                                       | <p style='text-align: left;'> Visualization based ml interpretor compatible with Shap & Lime</p>                                                                                                                                                 | <p style='text-align: left;'> MAIF Data Scientists </p>         | <p style='text-align: left;'> Local & Global <br>(SHAP, PDP) </p>                                          | <p style='text-align: left;'> sklearn, lightgbm, catboost, xgboost</p>                                                                                                   | <p style='text-align: left;'> Python </p>    | \n",
    "| <figure><center><img src=\"https://explainerdashboard.readthedocs.io/en/latest/_images/screenshot.gif\"  width=\"80\" height=\"80\"><a href=\"https://explainerdashboard.readthedocs.io/en/latest/index.html\">ExplainerDashboard</a></center></figure>                                                                               | <p style='text-align: left;'> Interactive dashboards for analyzing and explaining the predictions </p>                                                                                                                                           | <p style='text-align: left;'> Oege Dijk </p>                    | <p style='text-align: left;'> Local & Global <br>(SHAP, PDP) </p>                                          | <p style='text-align: left;'> xgboost, catboost and lightgbm, sklearn</p>                                                                                                | <p style='text-align: left;'> Python </p>    | \n"
   ]
  },
  {
   "cell_type": "markdown",
   "id": "e4ee99bc",
   "metadata": {},
   "source": [
    "[back](#Table-of-Contents)"
   ]
  },
  {
   "cell_type": "markdown",
   "id": "11861c7c",
   "metadata": {},
   "source": [
    "<hr color='#008B8B'>"
   ]
  },
  {
   "cell_type": "code",
   "execution_count": 1,
   "id": "a3e89e76",
   "metadata": {
    "ExecuteTime": {
     "end_time": "2022-12-20T07:56:45.522833Z",
     "start_time": "2022-12-20T07:56:33.213349Z"
    },
    "scrolled": true
   },
   "outputs": [
    {
     "data": {
      "text/html": [
       "        <script type=\"text/javascript\">\n",
       "        window.PlotlyConfig = {MathJaxConfig: 'local'};\n",
       "        if (window.MathJax) {MathJax.Hub.Config({SVG: {font: \"STIX-Web\"}});}\n",
       "        if (typeof require !== 'undefined') {\n",
       "        require.undef(\"plotly\");\n",
       "        requirejs.config({\n",
       "            paths: {\n",
       "                'plotly': ['https://cdn.plot.ly/plotly-2.8.3.min']\n",
       "            }\n",
       "        });\n",
       "        require(['plotly'], function(Plotly) {\n",
       "            window._Plotly = Plotly;\n",
       "        });\n",
       "        }\n",
       "        </script>\n",
       "        "
      ]
     },
     "metadata": {},
     "output_type": "display_data"
    },
    {
     "data": {
      "text/html": [
       "        <script type=\"text/javascript\">\n",
       "        window.PlotlyConfig = {MathJaxConfig: 'local'};\n",
       "        if (window.MathJax) {MathJax.Hub.Config({SVG: {font: \"STIX-Web\"}});}\n",
       "        if (typeof require !== 'undefined') {\n",
       "        require.undef(\"plotly\");\n",
       "        requirejs.config({\n",
       "            paths: {\n",
       "                'plotly': ['https://cdn.plot.ly/plotly-2.8.3.min']\n",
       "            }\n",
       "        });\n",
       "        require(['plotly'], function(Plotly) {\n",
       "            window._Plotly = Plotly;\n",
       "        });\n",
       "        }\n",
       "        </script>\n",
       "        "
      ]
     },
     "metadata": {},
     "output_type": "display_data"
    },
    {
     "data": {
      "text/html": [
       "        <script type=\"text/javascript\">\n",
       "        window.PlotlyConfig = {MathJaxConfig: 'local'};\n",
       "        if (window.MathJax) {MathJax.Hub.Config({SVG: {font: \"STIX-Web\"}});}\n",
       "        if (typeof require !== 'undefined') {\n",
       "        require.undef(\"plotly\");\n",
       "        requirejs.config({\n",
       "            paths: {\n",
       "                'plotly': ['https://cdn.plot.ly/plotly-2.8.3.min']\n",
       "            }\n",
       "        });\n",
       "        require(['plotly'], function(Plotly) {\n",
       "            window._Plotly = Plotly;\n",
       "        });\n",
       "        }\n",
       "        </script>\n",
       "        "
      ]
     },
     "metadata": {},
     "output_type": "display_data"
    }
   ],
   "source": [
    "#Import libraries\n",
    "import pandas as pd\n",
    "import numpy as np \n",
    "from datetime import datetime\n",
    "\n",
    "from sklearn.model_selection import train_test_split\n",
    "from sklearn.pipeline import Pipeline\n",
    "from sklearn.preprocessing import LabelEncoder\n",
    "from sklearn.preprocessing import StandardScaler, OneHotEncoder\n",
    "from sklearn.impute import SimpleImputer\n",
    "from sklearn.compose import ColumnTransformer\n",
    "\n",
    "from sklearn.tree import DecisionTreeRegressor\n",
    "from lightgbm import LGBMClassifier\n",
    "\n",
    "from imblearn.over_sampling import SMOTE\n",
    "\n",
    "import importlib\n",
    "import utils\n",
    "importlib.reload(utils)\n",
    "\n",
    "import plotly.figure_factory as ff\n",
    "import plotly.express as px\n",
    "from plotly.offline import init_notebook_mode, iplot, plot\n",
    "import plotly as py\n",
    "init_notebook_mode(connected = True)\n",
    "import plotly.graph_objs as go\n",
    "from plotly.subplots import make_subplots\n",
    "from plotly import tools\n",
    "import matplotlib.pyplot as plt\n",
    "%matplotlib inline\n",
    "\n",
    "import shap\n",
    "import dalex as dx\n",
    "import shapash\n",
    "\n",
    "import summarytools as st\n",
    "from IPython.display import HTML\n",
    "from summarytools import dfSummary, collapsible, tabset\n",
    "\n",
    "import warnings\n",
    "warnings.filterwarnings('ignore')\n",
    "import pickle"
   ]
  },
  {
   "cell_type": "markdown",
   "id": "e558b6bb",
   "metadata": {},
   "source": [
    "<hr color='#008B8B'>"
   ]
  },
  {
   "cell_type": "markdown",
   "id": "84851b05",
   "metadata": {},
   "source": [
    "# About the Dataset\n"
   ]
  },
  {
   "cell_type": "markdown",
   "id": "aba598fb",
   "metadata": {},
   "source": [
    "The [Stroke Prediction Dataset](https://www.kaggle.com/datasets/fedesoriano/stroke-prediction-dataset?datasetId=1120859&language=Python) is available on Kaggle. This dataset provides information on individuals and their potential risk of stroke.\n",
    "\n",
    "Attributes\n",
    "`id`: unique identifier for each individual <br>\n",
    "`gender`: gender of the individual (male or female or other)<br>\n",
    "`age`: age of the individual<br>\n",
    "`hypertension`: presence of hypertension (1 = yes, 0 = no)<br>\n",
    "`heart_disease`: presence of heart disease (1 = yes, 0 = no)<br>\n",
    "`ever_married`: marital status of the individual (yes or no)<br>\n",
    "`work_type`: type of work the individual is involved in, \"children\", \"Govt_jov\", \"Never_worked\", \"Private\" or \"Self-employed\"<br>\n",
    "`residence_type`: type of residence the individual lives in, \"Rural\" or \"Urban\"<br>\n",
    "`avg_glucose_level`: average glucose level of the individual<br>\n",
    "`bmi: body mass` body mass index of the individual<br>\n",
    "`smoking_status`: smoking status of the individual, \"formerly smoked\", \"never smoked\", \"smokes\" or \"Unknown\"<br>\n",
    "`stroke`: whether the individual has had a stroke (1 = yes, 0 = no)<br>\n"
   ]
  },
  {
   "cell_type": "markdown",
   "id": "0a852e6e",
   "metadata": {},
   "source": [
    "<div class=\"alert alert-block alert-info\">\n",
    "<b>Note:  </b>\"Unknown\" in smoking_status means that the information is unavailable for this patient</div>"
   ]
  },
  {
   "cell_type": "code",
   "execution_count": 2,
   "id": "672bfccc",
   "metadata": {
    "ExecuteTime": {
     "end_time": "2022-12-20T07:56:56.512812Z",
     "start_time": "2022-12-20T07:56:46.831829Z"
    }
   },
   "outputs": [
    {
     "data": {
      "text/html": [
       "<div>\n",
       "<style scoped>\n",
       "    .dataframe tbody tr th:only-of-type {\n",
       "        vertical-align: middle;\n",
       "    }\n",
       "\n",
       "    .dataframe tbody tr th {\n",
       "        vertical-align: top;\n",
       "    }\n",
       "\n",
       "    .dataframe thead th {\n",
       "        text-align: right;\n",
       "    }\n",
       "</style>\n",
       "<table border=\"1\" class=\"dataframe\">\n",
       "  <thead>\n",
       "    <tr style=\"text-align: right;\">\n",
       "      <th></th>\n",
       "      <th>gender</th>\n",
       "      <th>age</th>\n",
       "      <th>hypertension</th>\n",
       "      <th>heart_disease</th>\n",
       "      <th>ever_married</th>\n",
       "      <th>work_type</th>\n",
       "      <th>Residence_type</th>\n",
       "      <th>avg_glucose_level</th>\n",
       "      <th>bmi</th>\n",
       "      <th>smoking_status</th>\n",
       "      <th>stroke</th>\n",
       "    </tr>\n",
       "  </thead>\n",
       "  <tbody>\n",
       "    <tr>\n",
       "      <th>0</th>\n",
       "      <td>Male</td>\n",
       "      <td>67.0</td>\n",
       "      <td>0</td>\n",
       "      <td>1</td>\n",
       "      <td>Yes</td>\n",
       "      <td>Private</td>\n",
       "      <td>Urban</td>\n",
       "      <td>228.69</td>\n",
       "      <td>36.6</td>\n",
       "      <td>formerly smoked</td>\n",
       "      <td>1</td>\n",
       "    </tr>\n",
       "    <tr>\n",
       "      <th>1</th>\n",
       "      <td>Female</td>\n",
       "      <td>61.0</td>\n",
       "      <td>0</td>\n",
       "      <td>0</td>\n",
       "      <td>Yes</td>\n",
       "      <td>Self-employed</td>\n",
       "      <td>Rural</td>\n",
       "      <td>202.21</td>\n",
       "      <td>NaN</td>\n",
       "      <td>never smoked</td>\n",
       "      <td>1</td>\n",
       "    </tr>\n",
       "    <tr>\n",
       "      <th>2</th>\n",
       "      <td>Male</td>\n",
       "      <td>80.0</td>\n",
       "      <td>0</td>\n",
       "      <td>1</td>\n",
       "      <td>Yes</td>\n",
       "      <td>Private</td>\n",
       "      <td>Rural</td>\n",
       "      <td>105.92</td>\n",
       "      <td>32.5</td>\n",
       "      <td>never smoked</td>\n",
       "      <td>1</td>\n",
       "    </tr>\n",
       "    <tr>\n",
       "      <th>3</th>\n",
       "      <td>Female</td>\n",
       "      <td>49.0</td>\n",
       "      <td>0</td>\n",
       "      <td>0</td>\n",
       "      <td>Yes</td>\n",
       "      <td>Private</td>\n",
       "      <td>Urban</td>\n",
       "      <td>171.23</td>\n",
       "      <td>34.4</td>\n",
       "      <td>smokes</td>\n",
       "      <td>1</td>\n",
       "    </tr>\n",
       "    <tr>\n",
       "      <th>4</th>\n",
       "      <td>Female</td>\n",
       "      <td>79.0</td>\n",
       "      <td>1</td>\n",
       "      <td>0</td>\n",
       "      <td>Yes</td>\n",
       "      <td>Self-employed</td>\n",
       "      <td>Rural</td>\n",
       "      <td>174.12</td>\n",
       "      <td>24.0</td>\n",
       "      <td>never smoked</td>\n",
       "      <td>1</td>\n",
       "    </tr>\n",
       "  </tbody>\n",
       "</table>\n",
       "</div>"
      ],
      "text/plain": [
       "   gender   age  hypertension  heart_disease ever_married      work_type  \\\n",
       "0    Male  67.0             0              1          Yes        Private   \n",
       "1  Female  61.0             0              0          Yes  Self-employed   \n",
       "2    Male  80.0             0              1          Yes        Private   \n",
       "3  Female  49.0             0              0          Yes        Private   \n",
       "4  Female  79.0             1              0          Yes  Self-employed   \n",
       "\n",
       "  Residence_type  avg_glucose_level   bmi   smoking_status  stroke  \n",
       "0          Urban             228.69  36.6  formerly smoked       1  \n",
       "1          Rural             202.21   NaN     never smoked       1  \n",
       "2          Rural             105.92  32.5     never smoked       1  \n",
       "3          Urban             171.23  34.4           smokes       1  \n",
       "4          Rural             174.12  24.0     never smoked       1  "
      ]
     },
     "execution_count": 2,
     "metadata": {},
     "output_type": "execute_result"
    }
   ],
   "source": [
    "#Read stroke prediction dataset\n",
    "df = pd.read_csv(\"dataset/healthcare-dataset-stroke-data.csv\")\n",
    "#drop column id \n",
    "df.drop(['id'], axis=1,inplace=True)\n",
    "df.head()"
   ]
  },
  {
   "cell_type": "markdown",
   "id": "0f5a44cd",
   "metadata": {},
   "source": [
    "## Data Preprocessing \n",
    "\n",
    "In this section, simple data preprocessing will be performed to train the model. Since the focus of this notebook is to understand the inner workings of popular XAI techniques, in-depth visualization and preprocessing will not be performed."
   ]
  },
  {
   "cell_type": "code",
   "execution_count": 3,
   "id": "e41061dc",
   "metadata": {},
   "outputs": [
    {
     "data": {
      "text/html": [
       "<div>\n",
       "<style scoped>\n",
       "    .dataframe tbody tr th:only-of-type {\n",
       "        vertical-align: middle;\n",
       "    }\n",
       "\n",
       "    .dataframe tbody tr th {\n",
       "        vertical-align: top;\n",
       "    }\n",
       "\n",
       "    .dataframe thead th {\n",
       "        text-align: right;\n",
       "    }\n",
       "</style>\n",
       "<table border=\"1\" class=\"dataframe\">\n",
       "  <thead>\n",
       "    <tr style=\"text-align: right;\">\n",
       "      <th></th>\n",
       "      <th>Variable</th>\n",
       "      <th>Type</th>\n",
       "      <th>Missing Values</th>\n",
       "      <th>Unique Values</th>\n",
       "      <th>Distinct Unique Values</th>\n",
       "    </tr>\n",
       "  </thead>\n",
       "  <tbody>\n",
       "    <tr>\n",
       "      <th>0</th>\n",
       "      <td>gender</td>\n",
       "      <td>object</td>\n",
       "      <td>0</td>\n",
       "      <td>3</td>\n",
       "      <td>[Male, Female, Other]</td>\n",
       "    </tr>\n",
       "    <tr>\n",
       "      <th>1</th>\n",
       "      <td>age</td>\n",
       "      <td>float64</td>\n",
       "      <td>0</td>\n",
       "      <td>104</td>\n",
       "      <td>[67.0, 61.0, 80.0, 49.0, 79.0, 81.0, 74.0, 69....</td>\n",
       "    </tr>\n",
       "    <tr>\n",
       "      <th>2</th>\n",
       "      <td>hypertension</td>\n",
       "      <td>int64</td>\n",
       "      <td>0</td>\n",
       "      <td>2</td>\n",
       "      <td>[0, 1]</td>\n",
       "    </tr>\n",
       "    <tr>\n",
       "      <th>3</th>\n",
       "      <td>heart_disease</td>\n",
       "      <td>int64</td>\n",
       "      <td>0</td>\n",
       "      <td>2</td>\n",
       "      <td>[1, 0]</td>\n",
       "    </tr>\n",
       "    <tr>\n",
       "      <th>4</th>\n",
       "      <td>ever_married</td>\n",
       "      <td>object</td>\n",
       "      <td>0</td>\n",
       "      <td>2</td>\n",
       "      <td>[Yes, No]</td>\n",
       "    </tr>\n",
       "    <tr>\n",
       "      <th>5</th>\n",
       "      <td>work_type</td>\n",
       "      <td>object</td>\n",
       "      <td>0</td>\n",
       "      <td>5</td>\n",
       "      <td>[Private, Self-employed, Govt_job, children, N...</td>\n",
       "    </tr>\n",
       "    <tr>\n",
       "      <th>6</th>\n",
       "      <td>Residence_type</td>\n",
       "      <td>object</td>\n",
       "      <td>0</td>\n",
       "      <td>2</td>\n",
       "      <td>[Urban, Rural]</td>\n",
       "    </tr>\n",
       "    <tr>\n",
       "      <th>7</th>\n",
       "      <td>avg_glucose_level</td>\n",
       "      <td>float64</td>\n",
       "      <td>0</td>\n",
       "      <td>3979</td>\n",
       "      <td>[228.69, 202.21, 105.92, 171.23, 174.12, 186.2...</td>\n",
       "    </tr>\n",
       "    <tr>\n",
       "      <th>8</th>\n",
       "      <td>bmi</td>\n",
       "      <td>float64</td>\n",
       "      <td>201</td>\n",
       "      <td>418</td>\n",
       "      <td>[36.6, nan, 32.5, 34.4, 24.0, 29.0, 27.4, 22.8...</td>\n",
       "    </tr>\n",
       "    <tr>\n",
       "      <th>9</th>\n",
       "      <td>smoking_status</td>\n",
       "      <td>object</td>\n",
       "      <td>0</td>\n",
       "      <td>4</td>\n",
       "      <td>[formerly smoked, never smoked, smokes, Unknown]</td>\n",
       "    </tr>\n",
       "    <tr>\n",
       "      <th>10</th>\n",
       "      <td>stroke</td>\n",
       "      <td>int64</td>\n",
       "      <td>0</td>\n",
       "      <td>2</td>\n",
       "      <td>[1, 0]</td>\n",
       "    </tr>\n",
       "  </tbody>\n",
       "</table>\n",
       "</div>"
      ],
      "text/plain": [
       "             Variable     Type Missing Values Unique Values  \\\n",
       "0              gender   object              0             3   \n",
       "1                 age  float64              0           104   \n",
       "2        hypertension    int64              0             2   \n",
       "3       heart_disease    int64              0             2   \n",
       "4        ever_married   object              0             2   \n",
       "5           work_type   object              0             5   \n",
       "6      Residence_type   object              0             2   \n",
       "7   avg_glucose_level  float64              0          3979   \n",
       "8                 bmi  float64            201           418   \n",
       "9      smoking_status   object              0             4   \n",
       "10             stroke    int64              0             2   \n",
       "\n",
       "                               Distinct Unique Values  \n",
       "0                               [Male, Female, Other]  \n",
       "1   [67.0, 61.0, 80.0, 49.0, 79.0, 81.0, 74.0, 69....  \n",
       "2                                              [0, 1]  \n",
       "3                                              [1, 0]  \n",
       "4                                           [Yes, No]  \n",
       "5   [Private, Self-employed, Govt_job, children, N...  \n",
       "6                                      [Urban, Rural]  \n",
       "7   [228.69, 202.21, 105.92, 171.23, 174.12, 186.2...  \n",
       "8   [36.6, nan, 32.5, 34.4, 24.0, 29.0, 27.4, 22.8...  \n",
       "9    [formerly smoked, never smoked, smokes, Unknown]  \n",
       "10                                             [1, 0]  "
      ]
     },
     "execution_count": 3,
     "metadata": {},
     "output_type": "execute_result"
    }
   ],
   "source": [
    "#display a brief insight of dataset\n",
    "utils.df_summary(df)"
   ]
  },
  {
   "cell_type": "markdown",
   "id": "ee679505",
   "metadata": {},
   "source": [
    "<b>Initial Overview of the Dataset</b>\n",
    "\n",
    "A simple function was used to gain insight into the dataset, including the data type, missing values, unique values, and a preview of the dataset. The following findings were made:\n",
    "\n",
    "- There are 201 missing values for BMI.\n",
    "- The dataset contains both categorical and numerical features.\n",
    "- The categorical features include: gender, ever_married, work_type, residence_type, and smoking_status.\n",
    "- The binary numerical features include: hypertension, heart_disease, and stroke.\n",
    "- The continuous numerical features include: age, avg_glucose_level, and bmi."
   ]
  },
  {
   "cell_type": "code",
   "execution_count": 4,
   "id": "a365902f",
   "metadata": {},
   "outputs": [
    {
     "data": {
      "application/vnd.plotly.v1+json": {
       "config": {
        "plotlyServerURL": "https://plot.ly"
       },
       "data": [
        {
         "branchvalues": "total",
         "domain": {
          "x": [
           0,
           1
          ],
          "y": [
           0,
           1
          ]
         },
         "hovertemplate": "labels=%{label}<br>count=%{value}<br>parent=%{parent}<br>id=%{id}<extra></extra>",
         "ids": [
          "0/Female",
          "1/Female",
          "0/Male",
          "1/Male",
          "0/Other",
          "0",
          "1"
         ],
         "labels": [
          "Female",
          "Female",
          "Male",
          "Male",
          "Other",
          "0",
          "1"
         ],
         "name": "",
         "parents": [
          "0",
          "1",
          "0",
          "1",
          "0",
          "",
          ""
         ],
         "textinfo": "label+percent parent",
         "type": "sunburst",
         "values": [
          2853,
          141,
          2007,
          108,
          1,
          4861,
          249
         ]
        }
       ],
       "layout": {
        "annotations": [
         {
          "font": {
           "color": "#008B8B",
           "size": 20
          },
          "showarrow": false,
          "text": "Distribution of stroke by gender",
          "x": 0.5,
          "y": 1.1
         }
        ],
        "height": 500,
        "legend": {
         "tracegroupgap": 0
        },
        "margin": {
         "t": 60
        },
        "sunburstcolorway": [
         "green",
         "red"
        ],
        "template": {
         "data": {
          "bar": [
           {
            "error_x": {
             "color": "#2a3f5f"
            },
            "error_y": {
             "color": "#2a3f5f"
            },
            "marker": {
             "line": {
              "color": "#E5ECF6",
              "width": 0.5
             },
             "pattern": {
              "fillmode": "overlay",
              "size": 10,
              "solidity": 0.2
             }
            },
            "type": "bar"
           }
          ],
          "barpolar": [
           {
            "marker": {
             "line": {
              "color": "#E5ECF6",
              "width": 0.5
             },
             "pattern": {
              "fillmode": "overlay",
              "size": 10,
              "solidity": 0.2
             }
            },
            "type": "barpolar"
           }
          ],
          "carpet": [
           {
            "aaxis": {
             "endlinecolor": "#2a3f5f",
             "gridcolor": "white",
             "linecolor": "white",
             "minorgridcolor": "white",
             "startlinecolor": "#2a3f5f"
            },
            "baxis": {
             "endlinecolor": "#2a3f5f",
             "gridcolor": "white",
             "linecolor": "white",
             "minorgridcolor": "white",
             "startlinecolor": "#2a3f5f"
            },
            "type": "carpet"
           }
          ],
          "choropleth": [
           {
            "colorbar": {
             "outlinewidth": 0,
             "ticks": ""
            },
            "type": "choropleth"
           }
          ],
          "contour": [
           {
            "colorbar": {
             "outlinewidth": 0,
             "ticks": ""
            },
            "colorscale": [
             [
              0,
              "#0d0887"
             ],
             [
              0.1111111111111111,
              "#46039f"
             ],
             [
              0.2222222222222222,
              "#7201a8"
             ],
             [
              0.3333333333333333,
              "#9c179e"
             ],
             [
              0.4444444444444444,
              "#bd3786"
             ],
             [
              0.5555555555555556,
              "#d8576b"
             ],
             [
              0.6666666666666666,
              "#ed7953"
             ],
             [
              0.7777777777777778,
              "#fb9f3a"
             ],
             [
              0.8888888888888888,
              "#fdca26"
             ],
             [
              1,
              "#f0f921"
             ]
            ],
            "type": "contour"
           }
          ],
          "contourcarpet": [
           {
            "colorbar": {
             "outlinewidth": 0,
             "ticks": ""
            },
            "type": "contourcarpet"
           }
          ],
          "heatmap": [
           {
            "colorbar": {
             "outlinewidth": 0,
             "ticks": ""
            },
            "colorscale": [
             [
              0,
              "#0d0887"
             ],
             [
              0.1111111111111111,
              "#46039f"
             ],
             [
              0.2222222222222222,
              "#7201a8"
             ],
             [
              0.3333333333333333,
              "#9c179e"
             ],
             [
              0.4444444444444444,
              "#bd3786"
             ],
             [
              0.5555555555555556,
              "#d8576b"
             ],
             [
              0.6666666666666666,
              "#ed7953"
             ],
             [
              0.7777777777777778,
              "#fb9f3a"
             ],
             [
              0.8888888888888888,
              "#fdca26"
             ],
             [
              1,
              "#f0f921"
             ]
            ],
            "type": "heatmap"
           }
          ],
          "heatmapgl": [
           {
            "colorbar": {
             "outlinewidth": 0,
             "ticks": ""
            },
            "colorscale": [
             [
              0,
              "#0d0887"
             ],
             [
              0.1111111111111111,
              "#46039f"
             ],
             [
              0.2222222222222222,
              "#7201a8"
             ],
             [
              0.3333333333333333,
              "#9c179e"
             ],
             [
              0.4444444444444444,
              "#bd3786"
             ],
             [
              0.5555555555555556,
              "#d8576b"
             ],
             [
              0.6666666666666666,
              "#ed7953"
             ],
             [
              0.7777777777777778,
              "#fb9f3a"
             ],
             [
              0.8888888888888888,
              "#fdca26"
             ],
             [
              1,
              "#f0f921"
             ]
            ],
            "type": "heatmapgl"
           }
          ],
          "histogram": [
           {
            "marker": {
             "pattern": {
              "fillmode": "overlay",
              "size": 10,
              "solidity": 0.2
             }
            },
            "type": "histogram"
           }
          ],
          "histogram2d": [
           {
            "colorbar": {
             "outlinewidth": 0,
             "ticks": ""
            },
            "colorscale": [
             [
              0,
              "#0d0887"
             ],
             [
              0.1111111111111111,
              "#46039f"
             ],
             [
              0.2222222222222222,
              "#7201a8"
             ],
             [
              0.3333333333333333,
              "#9c179e"
             ],
             [
              0.4444444444444444,
              "#bd3786"
             ],
             [
              0.5555555555555556,
              "#d8576b"
             ],
             [
              0.6666666666666666,
              "#ed7953"
             ],
             [
              0.7777777777777778,
              "#fb9f3a"
             ],
             [
              0.8888888888888888,
              "#fdca26"
             ],
             [
              1,
              "#f0f921"
             ]
            ],
            "type": "histogram2d"
           }
          ],
          "histogram2dcontour": [
           {
            "colorbar": {
             "outlinewidth": 0,
             "ticks": ""
            },
            "colorscale": [
             [
              0,
              "#0d0887"
             ],
             [
              0.1111111111111111,
              "#46039f"
             ],
             [
              0.2222222222222222,
              "#7201a8"
             ],
             [
              0.3333333333333333,
              "#9c179e"
             ],
             [
              0.4444444444444444,
              "#bd3786"
             ],
             [
              0.5555555555555556,
              "#d8576b"
             ],
             [
              0.6666666666666666,
              "#ed7953"
             ],
             [
              0.7777777777777778,
              "#fb9f3a"
             ],
             [
              0.8888888888888888,
              "#fdca26"
             ],
             [
              1,
              "#f0f921"
             ]
            ],
            "type": "histogram2dcontour"
           }
          ],
          "mesh3d": [
           {
            "colorbar": {
             "outlinewidth": 0,
             "ticks": ""
            },
            "type": "mesh3d"
           }
          ],
          "parcoords": [
           {
            "line": {
             "colorbar": {
              "outlinewidth": 0,
              "ticks": ""
             }
            },
            "type": "parcoords"
           }
          ],
          "pie": [
           {
            "automargin": true,
            "type": "pie"
           }
          ],
          "scatter": [
           {
            "marker": {
             "colorbar": {
              "outlinewidth": 0,
              "ticks": ""
             }
            },
            "type": "scatter"
           }
          ],
          "scatter3d": [
           {
            "line": {
             "colorbar": {
              "outlinewidth": 0,
              "ticks": ""
             }
            },
            "marker": {
             "colorbar": {
              "outlinewidth": 0,
              "ticks": ""
             }
            },
            "type": "scatter3d"
           }
          ],
          "scattercarpet": [
           {
            "marker": {
             "colorbar": {
              "outlinewidth": 0,
              "ticks": ""
             }
            },
            "type": "scattercarpet"
           }
          ],
          "scattergeo": [
           {
            "marker": {
             "colorbar": {
              "outlinewidth": 0,
              "ticks": ""
             }
            },
            "type": "scattergeo"
           }
          ],
          "scattergl": [
           {
            "marker": {
             "colorbar": {
              "outlinewidth": 0,
              "ticks": ""
             }
            },
            "type": "scattergl"
           }
          ],
          "scattermapbox": [
           {
            "marker": {
             "colorbar": {
              "outlinewidth": 0,
              "ticks": ""
             }
            },
            "type": "scattermapbox"
           }
          ],
          "scatterpolar": [
           {
            "marker": {
             "colorbar": {
              "outlinewidth": 0,
              "ticks": ""
             }
            },
            "type": "scatterpolar"
           }
          ],
          "scatterpolargl": [
           {
            "marker": {
             "colorbar": {
              "outlinewidth": 0,
              "ticks": ""
             }
            },
            "type": "scatterpolargl"
           }
          ],
          "scatterternary": [
           {
            "marker": {
             "colorbar": {
              "outlinewidth": 0,
              "ticks": ""
             }
            },
            "type": "scatterternary"
           }
          ],
          "surface": [
           {
            "colorbar": {
             "outlinewidth": 0,
             "ticks": ""
            },
            "colorscale": [
             [
              0,
              "#0d0887"
             ],
             [
              0.1111111111111111,
              "#46039f"
             ],
             [
              0.2222222222222222,
              "#7201a8"
             ],
             [
              0.3333333333333333,
              "#9c179e"
             ],
             [
              0.4444444444444444,
              "#bd3786"
             ],
             [
              0.5555555555555556,
              "#d8576b"
             ],
             [
              0.6666666666666666,
              "#ed7953"
             ],
             [
              0.7777777777777778,
              "#fb9f3a"
             ],
             [
              0.8888888888888888,
              "#fdca26"
             ],
             [
              1,
              "#f0f921"
             ]
            ],
            "type": "surface"
           }
          ],
          "table": [
           {
            "cells": {
             "fill": {
              "color": "#EBF0F8"
             },
             "line": {
              "color": "white"
             }
            },
            "header": {
             "fill": {
              "color": "#C8D4E3"
             },
             "line": {
              "color": "white"
             }
            },
            "type": "table"
           }
          ]
         },
         "layout": {
          "annotationdefaults": {
           "arrowcolor": "#2a3f5f",
           "arrowhead": 0,
           "arrowwidth": 1
          },
          "autotypenumbers": "strict",
          "coloraxis": {
           "colorbar": {
            "outlinewidth": 0,
            "ticks": ""
           }
          },
          "colorscale": {
           "diverging": [
            [
             0,
             "#8e0152"
            ],
            [
             0.1,
             "#c51b7d"
            ],
            [
             0.2,
             "#de77ae"
            ],
            [
             0.3,
             "#f1b6da"
            ],
            [
             0.4,
             "#fde0ef"
            ],
            [
             0.5,
             "#f7f7f7"
            ],
            [
             0.6,
             "#e6f5d0"
            ],
            [
             0.7,
             "#b8e186"
            ],
            [
             0.8,
             "#7fbc41"
            ],
            [
             0.9,
             "#4d9221"
            ],
            [
             1,
             "#276419"
            ]
           ],
           "sequential": [
            [
             0,
             "#0d0887"
            ],
            [
             0.1111111111111111,
             "#46039f"
            ],
            [
             0.2222222222222222,
             "#7201a8"
            ],
            [
             0.3333333333333333,
             "#9c179e"
            ],
            [
             0.4444444444444444,
             "#bd3786"
            ],
            [
             0.5555555555555556,
             "#d8576b"
            ],
            [
             0.6666666666666666,
             "#ed7953"
            ],
            [
             0.7777777777777778,
             "#fb9f3a"
            ],
            [
             0.8888888888888888,
             "#fdca26"
            ],
            [
             1,
             "#f0f921"
            ]
           ],
           "sequentialminus": [
            [
             0,
             "#0d0887"
            ],
            [
             0.1111111111111111,
             "#46039f"
            ],
            [
             0.2222222222222222,
             "#7201a8"
            ],
            [
             0.3333333333333333,
             "#9c179e"
            ],
            [
             0.4444444444444444,
             "#bd3786"
            ],
            [
             0.5555555555555556,
             "#d8576b"
            ],
            [
             0.6666666666666666,
             "#ed7953"
            ],
            [
             0.7777777777777778,
             "#fb9f3a"
            ],
            [
             0.8888888888888888,
             "#fdca26"
            ],
            [
             1,
             "#f0f921"
            ]
           ]
          },
          "colorway": [
           "#636efa",
           "#EF553B",
           "#00cc96",
           "#ab63fa",
           "#FFA15A",
           "#19d3f3",
           "#FF6692",
           "#B6E880",
           "#FF97FF",
           "#FECB52"
          ],
          "font": {
           "color": "#2a3f5f"
          },
          "geo": {
           "bgcolor": "white",
           "lakecolor": "white",
           "landcolor": "#E5ECF6",
           "showlakes": true,
           "showland": true,
           "subunitcolor": "white"
          },
          "hoverlabel": {
           "align": "left"
          },
          "hovermode": "closest",
          "mapbox": {
           "style": "light"
          },
          "paper_bgcolor": "white",
          "plot_bgcolor": "#E5ECF6",
          "polar": {
           "angularaxis": {
            "gridcolor": "white",
            "linecolor": "white",
            "ticks": ""
           },
           "bgcolor": "#E5ECF6",
           "radialaxis": {
            "gridcolor": "white",
            "linecolor": "white",
            "ticks": ""
           }
          },
          "scene": {
           "xaxis": {
            "backgroundcolor": "#E5ECF6",
            "gridcolor": "white",
            "gridwidth": 2,
            "linecolor": "white",
            "showbackground": true,
            "ticks": "",
            "zerolinecolor": "white"
           },
           "yaxis": {
            "backgroundcolor": "#E5ECF6",
            "gridcolor": "white",
            "gridwidth": 2,
            "linecolor": "white",
            "showbackground": true,
            "ticks": "",
            "zerolinecolor": "white"
           },
           "zaxis": {
            "backgroundcolor": "#E5ECF6",
            "gridcolor": "white",
            "gridwidth": 2,
            "linecolor": "white",
            "showbackground": true,
            "ticks": "",
            "zerolinecolor": "white"
           }
          },
          "shapedefaults": {
           "line": {
            "color": "#2a3f5f"
           }
          },
          "ternary": {
           "aaxis": {
            "gridcolor": "white",
            "linecolor": "white",
            "ticks": ""
           },
           "baxis": {
            "gridcolor": "white",
            "linecolor": "white",
            "ticks": ""
           },
           "bgcolor": "#E5ECF6",
           "caxis": {
            "gridcolor": "white",
            "linecolor": "white",
            "ticks": ""
           }
          },
          "title": {
           "x": 0.05
          },
          "xaxis": {
           "automargin": true,
           "gridcolor": "white",
           "linecolor": "white",
           "ticks": "",
           "title": {
            "standoff": 15
           },
           "zerolinecolor": "white",
           "zerolinewidth": 2
          },
          "yaxis": {
           "automargin": true,
           "gridcolor": "white",
           "linecolor": "white",
           "ticks": "",
           "title": {
            "standoff": 15
           },
           "zerolinecolor": "white",
           "zerolinewidth": 2
          }
         }
        },
        "width": 500
       }
      },
      "text/html": [
       "<div>                            <div id=\"1e3fb0aa-9ef1-473e-a52f-c8cb427d64ec\" class=\"plotly-graph-div\" style=\"height:500px; width:500px;\"></div>            <script type=\"text/javascript\">                require([\"plotly\"], function(Plotly) {                    window.PLOTLYENV=window.PLOTLYENV || {};                                    if (document.getElementById(\"1e3fb0aa-9ef1-473e-a52f-c8cb427d64ec\")) {                    Plotly.newPlot(                        \"1e3fb0aa-9ef1-473e-a52f-c8cb427d64ec\",                        [{\"branchvalues\":\"total\",\"domain\":{\"x\":[0.0,1.0],\"y\":[0.0,1.0]},\"hovertemplate\":\"labels=%{label}<br>count=%{value}<br>parent=%{parent}<br>id=%{id}<extra></extra>\",\"ids\":[\"0/Female\",\"1/Female\",\"0/Male\",\"1/Male\",\"0/Other\",\"0\",\"1\"],\"labels\":[\"Female\",\"Female\",\"Male\",\"Male\",\"Other\",\"0\",\"1\"],\"name\":\"\",\"parents\":[\"0\",\"1\",\"0\",\"1\",\"0\",\"\",\"\"],\"values\":[2853,141,2007,108,1,4861,249],\"type\":\"sunburst\",\"textinfo\":\"label+percent parent\"}],                        {\"template\":{\"data\":{\"bar\":[{\"error_x\":{\"color\":\"#2a3f5f\"},\"error_y\":{\"color\":\"#2a3f5f\"},\"marker\":{\"line\":{\"color\":\"#E5ECF6\",\"width\":0.5},\"pattern\":{\"fillmode\":\"overlay\",\"size\":10,\"solidity\":0.2}},\"type\":\"bar\"}],\"barpolar\":[{\"marker\":{\"line\":{\"color\":\"#E5ECF6\",\"width\":0.5},\"pattern\":{\"fillmode\":\"overlay\",\"size\":10,\"solidity\":0.2}},\"type\":\"barpolar\"}],\"carpet\":[{\"aaxis\":{\"endlinecolor\":\"#2a3f5f\",\"gridcolor\":\"white\",\"linecolor\":\"white\",\"minorgridcolor\":\"white\",\"startlinecolor\":\"#2a3f5f\"},\"baxis\":{\"endlinecolor\":\"#2a3f5f\",\"gridcolor\":\"white\",\"linecolor\":\"white\",\"minorgridcolor\":\"white\",\"startlinecolor\":\"#2a3f5f\"},\"type\":\"carpet\"}],\"choropleth\":[{\"colorbar\":{\"outlinewidth\":0,\"ticks\":\"\"},\"type\":\"choropleth\"}],\"contour\":[{\"colorbar\":{\"outlinewidth\":0,\"ticks\":\"\"},\"colorscale\":[[0.0,\"#0d0887\"],[0.1111111111111111,\"#46039f\"],[0.2222222222222222,\"#7201a8\"],[0.3333333333333333,\"#9c179e\"],[0.4444444444444444,\"#bd3786\"],[0.5555555555555556,\"#d8576b\"],[0.6666666666666666,\"#ed7953\"],[0.7777777777777778,\"#fb9f3a\"],[0.8888888888888888,\"#fdca26\"],[1.0,\"#f0f921\"]],\"type\":\"contour\"}],\"contourcarpet\":[{\"colorbar\":{\"outlinewidth\":0,\"ticks\":\"\"},\"type\":\"contourcarpet\"}],\"heatmap\":[{\"colorbar\":{\"outlinewidth\":0,\"ticks\":\"\"},\"colorscale\":[[0.0,\"#0d0887\"],[0.1111111111111111,\"#46039f\"],[0.2222222222222222,\"#7201a8\"],[0.3333333333333333,\"#9c179e\"],[0.4444444444444444,\"#bd3786\"],[0.5555555555555556,\"#d8576b\"],[0.6666666666666666,\"#ed7953\"],[0.7777777777777778,\"#fb9f3a\"],[0.8888888888888888,\"#fdca26\"],[1.0,\"#f0f921\"]],\"type\":\"heatmap\"}],\"heatmapgl\":[{\"colorbar\":{\"outlinewidth\":0,\"ticks\":\"\"},\"colorscale\":[[0.0,\"#0d0887\"],[0.1111111111111111,\"#46039f\"],[0.2222222222222222,\"#7201a8\"],[0.3333333333333333,\"#9c179e\"],[0.4444444444444444,\"#bd3786\"],[0.5555555555555556,\"#d8576b\"],[0.6666666666666666,\"#ed7953\"],[0.7777777777777778,\"#fb9f3a\"],[0.8888888888888888,\"#fdca26\"],[1.0,\"#f0f921\"]],\"type\":\"heatmapgl\"}],\"histogram\":[{\"marker\":{\"pattern\":{\"fillmode\":\"overlay\",\"size\":10,\"solidity\":0.2}},\"type\":\"histogram\"}],\"histogram2d\":[{\"colorbar\":{\"outlinewidth\":0,\"ticks\":\"\"},\"colorscale\":[[0.0,\"#0d0887\"],[0.1111111111111111,\"#46039f\"],[0.2222222222222222,\"#7201a8\"],[0.3333333333333333,\"#9c179e\"],[0.4444444444444444,\"#bd3786\"],[0.5555555555555556,\"#d8576b\"],[0.6666666666666666,\"#ed7953\"],[0.7777777777777778,\"#fb9f3a\"],[0.8888888888888888,\"#fdca26\"],[1.0,\"#f0f921\"]],\"type\":\"histogram2d\"}],\"histogram2dcontour\":[{\"colorbar\":{\"outlinewidth\":0,\"ticks\":\"\"},\"colorscale\":[[0.0,\"#0d0887\"],[0.1111111111111111,\"#46039f\"],[0.2222222222222222,\"#7201a8\"],[0.3333333333333333,\"#9c179e\"],[0.4444444444444444,\"#bd3786\"],[0.5555555555555556,\"#d8576b\"],[0.6666666666666666,\"#ed7953\"],[0.7777777777777778,\"#fb9f3a\"],[0.8888888888888888,\"#fdca26\"],[1.0,\"#f0f921\"]],\"type\":\"histogram2dcontour\"}],\"mesh3d\":[{\"colorbar\":{\"outlinewidth\":0,\"ticks\":\"\"},\"type\":\"mesh3d\"}],\"parcoords\":[{\"line\":{\"colorbar\":{\"outlinewidth\":0,\"ticks\":\"\"}},\"type\":\"parcoords\"}],\"pie\":[{\"automargin\":true,\"type\":\"pie\"}],\"scatter\":[{\"marker\":{\"colorbar\":{\"outlinewidth\":0,\"ticks\":\"\"}},\"type\":\"scatter\"}],\"scatter3d\":[{\"line\":{\"colorbar\":{\"outlinewidth\":0,\"ticks\":\"\"}},\"marker\":{\"colorbar\":{\"outlinewidth\":0,\"ticks\":\"\"}},\"type\":\"scatter3d\"}],\"scattercarpet\":[{\"marker\":{\"colorbar\":{\"outlinewidth\":0,\"ticks\":\"\"}},\"type\":\"scattercarpet\"}],\"scattergeo\":[{\"marker\":{\"colorbar\":{\"outlinewidth\":0,\"ticks\":\"\"}},\"type\":\"scattergeo\"}],\"scattergl\":[{\"marker\":{\"colorbar\":{\"outlinewidth\":0,\"ticks\":\"\"}},\"type\":\"scattergl\"}],\"scattermapbox\":[{\"marker\":{\"colorbar\":{\"outlinewidth\":0,\"ticks\":\"\"}},\"type\":\"scattermapbox\"}],\"scatterpolar\":[{\"marker\":{\"colorbar\":{\"outlinewidth\":0,\"ticks\":\"\"}},\"type\":\"scatterpolar\"}],\"scatterpolargl\":[{\"marker\":{\"colorbar\":{\"outlinewidth\":0,\"ticks\":\"\"}},\"type\":\"scatterpolargl\"}],\"scatterternary\":[{\"marker\":{\"colorbar\":{\"outlinewidth\":0,\"ticks\":\"\"}},\"type\":\"scatterternary\"}],\"surface\":[{\"colorbar\":{\"outlinewidth\":0,\"ticks\":\"\"},\"colorscale\":[[0.0,\"#0d0887\"],[0.1111111111111111,\"#46039f\"],[0.2222222222222222,\"#7201a8\"],[0.3333333333333333,\"#9c179e\"],[0.4444444444444444,\"#bd3786\"],[0.5555555555555556,\"#d8576b\"],[0.6666666666666666,\"#ed7953\"],[0.7777777777777778,\"#fb9f3a\"],[0.8888888888888888,\"#fdca26\"],[1.0,\"#f0f921\"]],\"type\":\"surface\"}],\"table\":[{\"cells\":{\"fill\":{\"color\":\"#EBF0F8\"},\"line\":{\"color\":\"white\"}},\"header\":{\"fill\":{\"color\":\"#C8D4E3\"},\"line\":{\"color\":\"white\"}},\"type\":\"table\"}]},\"layout\":{\"annotationdefaults\":{\"arrowcolor\":\"#2a3f5f\",\"arrowhead\":0,\"arrowwidth\":1},\"autotypenumbers\":\"strict\",\"coloraxis\":{\"colorbar\":{\"outlinewidth\":0,\"ticks\":\"\"}},\"colorscale\":{\"diverging\":[[0,\"#8e0152\"],[0.1,\"#c51b7d\"],[0.2,\"#de77ae\"],[0.3,\"#f1b6da\"],[0.4,\"#fde0ef\"],[0.5,\"#f7f7f7\"],[0.6,\"#e6f5d0\"],[0.7,\"#b8e186\"],[0.8,\"#7fbc41\"],[0.9,\"#4d9221\"],[1,\"#276419\"]],\"sequential\":[[0.0,\"#0d0887\"],[0.1111111111111111,\"#46039f\"],[0.2222222222222222,\"#7201a8\"],[0.3333333333333333,\"#9c179e\"],[0.4444444444444444,\"#bd3786\"],[0.5555555555555556,\"#d8576b\"],[0.6666666666666666,\"#ed7953\"],[0.7777777777777778,\"#fb9f3a\"],[0.8888888888888888,\"#fdca26\"],[1.0,\"#f0f921\"]],\"sequentialminus\":[[0.0,\"#0d0887\"],[0.1111111111111111,\"#46039f\"],[0.2222222222222222,\"#7201a8\"],[0.3333333333333333,\"#9c179e\"],[0.4444444444444444,\"#bd3786\"],[0.5555555555555556,\"#d8576b\"],[0.6666666666666666,\"#ed7953\"],[0.7777777777777778,\"#fb9f3a\"],[0.8888888888888888,\"#fdca26\"],[1.0,\"#f0f921\"]]},\"colorway\":[\"#636efa\",\"#EF553B\",\"#00cc96\",\"#ab63fa\",\"#FFA15A\",\"#19d3f3\",\"#FF6692\",\"#B6E880\",\"#FF97FF\",\"#FECB52\"],\"font\":{\"color\":\"#2a3f5f\"},\"geo\":{\"bgcolor\":\"white\",\"lakecolor\":\"white\",\"landcolor\":\"#E5ECF6\",\"showlakes\":true,\"showland\":true,\"subunitcolor\":\"white\"},\"hoverlabel\":{\"align\":\"left\"},\"hovermode\":\"closest\",\"mapbox\":{\"style\":\"light\"},\"paper_bgcolor\":\"white\",\"plot_bgcolor\":\"#E5ECF6\",\"polar\":{\"angularaxis\":{\"gridcolor\":\"white\",\"linecolor\":\"white\",\"ticks\":\"\"},\"bgcolor\":\"#E5ECF6\",\"radialaxis\":{\"gridcolor\":\"white\",\"linecolor\":\"white\",\"ticks\":\"\"}},\"scene\":{\"xaxis\":{\"backgroundcolor\":\"#E5ECF6\",\"gridcolor\":\"white\",\"gridwidth\":2,\"linecolor\":\"white\",\"showbackground\":true,\"ticks\":\"\",\"zerolinecolor\":\"white\"},\"yaxis\":{\"backgroundcolor\":\"#E5ECF6\",\"gridcolor\":\"white\",\"gridwidth\":2,\"linecolor\":\"white\",\"showbackground\":true,\"ticks\":\"\",\"zerolinecolor\":\"white\"},\"zaxis\":{\"backgroundcolor\":\"#E5ECF6\",\"gridcolor\":\"white\",\"gridwidth\":2,\"linecolor\":\"white\",\"showbackground\":true,\"ticks\":\"\",\"zerolinecolor\":\"white\"}},\"shapedefaults\":{\"line\":{\"color\":\"#2a3f5f\"}},\"ternary\":{\"aaxis\":{\"gridcolor\":\"white\",\"linecolor\":\"white\",\"ticks\":\"\"},\"baxis\":{\"gridcolor\":\"white\",\"linecolor\":\"white\",\"ticks\":\"\"},\"bgcolor\":\"#E5ECF6\",\"caxis\":{\"gridcolor\":\"white\",\"linecolor\":\"white\",\"ticks\":\"\"}},\"title\":{\"x\":0.05},\"xaxis\":{\"automargin\":true,\"gridcolor\":\"white\",\"linecolor\":\"white\",\"ticks\":\"\",\"title\":{\"standoff\":15},\"zerolinecolor\":\"white\",\"zerolinewidth\":2},\"yaxis\":{\"automargin\":true,\"gridcolor\":\"white\",\"linecolor\":\"white\",\"ticks\":\"\",\"title\":{\"standoff\":15},\"zerolinecolor\":\"white\",\"zerolinewidth\":2}}},\"legend\":{\"tracegroupgap\":0},\"margin\":{\"t\":60},\"sunburstcolorway\":[\"green\",\"red\"],\"height\":500,\"width\":500,\"annotations\":[{\"showarrow\":false,\"text\":\"Distribution of stroke by gender\",\"x\":0.5,\"y\":1.1,\"font\":{\"size\":20,\"color\":\"#008B8B\"}}]},                        {\"responsive\": true}                    ).then(function(){\n",
       "                            \n",
       "var gd = document.getElementById('1e3fb0aa-9ef1-473e-a52f-c8cb427d64ec');\n",
       "var x = new MutationObserver(function (mutations, observer) {{\n",
       "        var display = window.getComputedStyle(gd).display;\n",
       "        if (!display || display === 'none') {{\n",
       "            console.log([gd, 'removed!']);\n",
       "            Plotly.purge(gd);\n",
       "            observer.disconnect();\n",
       "        }}\n",
       "}});\n",
       "\n",
       "// Listen for the removal of the full notebook cells\n",
       "var notebookContainer = gd.closest('#notebook-container');\n",
       "if (notebookContainer) {{\n",
       "    x.observe(notebookContainer, {childList: true});\n",
       "}}\n",
       "\n",
       "// Listen for the clearing of the current output cell\n",
       "var outputEl = gd.closest('.output');\n",
       "if (outputEl) {{\n",
       "    x.observe(outputEl, {childList: true});\n",
       "}}\n",
       "\n",
       "                        })                };                });            </script>        </div>"
      ]
     },
     "metadata": {},
     "output_type": "display_data"
    }
   ],
   "source": [
    "#create a sunburst chart to view the distribution of data \n",
    "df_stroke= df.groupby(['stroke', 'gender']).agg({'gender': 'count'}).rename(columns = {'gender': 'count'}).reset_index()\n",
    "\n",
    "fig = px.sunburst(df_stroke, path = ['stroke', 'gender'], values = 'count', color_discrete_sequence=[\"green\", \"red\"], height=500, width=500)\n",
    "\n",
    "fig.update_layout(annotations = [dict(text = 'Distribution of stroke by gender', \n",
    "                                      x = 0.5, y = 1.1, font_size = 20, showarrow = False, \n",
    "                                      font_color = '#008B8B')])\n",
    "\n",
    "fig.update_traces(textinfo = 'label + percent parent')\n",
    "                  \n",
    "fig.show()"
   ]
  },
  {
   "cell_type": "markdown",
   "id": "a455aa32",
   "metadata": {},
   "source": [
    "<b> Distribution of target variable </b>\n",
    "\n",
    "From the distribution, it is evident that only 5 out of every 100 people in our sample data have had strokes. This data distribution is highly unbalanced and has a null accuracy score of 95%. This means that even a basic model that makes random predictions of stroke can reach high accuracy. Therefore, when modeling and training the data, either oversampling or undersampling should be performed to achieve the best results."
   ]
  },
  {
   "cell_type": "code",
   "execution_count": 5,
   "id": "d5f5f66c",
   "metadata": {},
   "outputs": [],
   "source": [
    "#Missing value imputation logic is referenced from https://www.kaggle.com/thomaskonstantin/analyzing-and-modeling-stroke-data\n",
    "DT_bmi_pipe = Pipeline( steps=[ \n",
    "                               ('scale',StandardScaler()),\n",
    "                               ('lr',DecisionTreeRegressor(random_state=42))\n",
    "                              ])\n",
    "X = df[['age','gender','bmi']].copy()\n",
    "X.gender = X.gender.replace({'Male':0,'Female':1,'Other':-1}).astype(np.uint8)\n",
    "\n",
    "Missing = X[X.bmi.isna()]\n",
    "X = X[~X.bmi.isna()]\n",
    "Y = X.pop('bmi')\n",
    "DT_bmi_pipe.fit(X,Y)\n",
    "predicted_bmi = pd.Series(DT_bmi_pipe.predict(Missing[['age','gender']]),index=Missing.index)\n",
    "df.loc[Missing.index,'bmi'] = predicted_bmi"
   ]
  },
  {
   "cell_type": "code",
   "execution_count": 6,
   "id": "0366c2db",
   "metadata": {},
   "outputs": [],
   "source": [
    "#categorical feature transformation using label Encoding\n",
    "le=LabelEncoder()\n",
    "df['gender']=le.fit_transform(df['gender']) # Female = 0, Male =1\n",
    "df['ever_married']=le.fit_transform(df['ever_married']) # Yes =1, No=0\n",
    "df['Residence_type']=le.fit_transform(df['Residence_type']) # Urban =1, Rural =0\n",
    "df['work_type']=le.fit_transform(df['work_type']) "
   ]
  },
  {
   "cell_type": "code",
   "execution_count": 7,
   "id": "0b511880",
   "metadata": {},
   "outputs": [
    {
     "data": {
      "text/html": [
       "<div>\n",
       "<style scoped>\n",
       "    .dataframe tbody tr th:only-of-type {\n",
       "        vertical-align: middle;\n",
       "    }\n",
       "\n",
       "    .dataframe tbody tr th {\n",
       "        vertical-align: top;\n",
       "    }\n",
       "\n",
       "    .dataframe thead th {\n",
       "        text-align: right;\n",
       "    }\n",
       "</style>\n",
       "<table border=\"1\" class=\"dataframe\">\n",
       "  <thead>\n",
       "    <tr style=\"text-align: right;\">\n",
       "      <th></th>\n",
       "      <th>Variable</th>\n",
       "      <th>Type</th>\n",
       "      <th>Missing Values</th>\n",
       "      <th>Unique Values</th>\n",
       "      <th>Distinct Unique Values</th>\n",
       "    </tr>\n",
       "  </thead>\n",
       "  <tbody>\n",
       "    <tr>\n",
       "      <th>0</th>\n",
       "      <td>gender</td>\n",
       "      <td>int64</td>\n",
       "      <td>0</td>\n",
       "      <td>3</td>\n",
       "      <td>[1, 0, 2]</td>\n",
       "    </tr>\n",
       "    <tr>\n",
       "      <th>1</th>\n",
       "      <td>age</td>\n",
       "      <td>float64</td>\n",
       "      <td>0</td>\n",
       "      <td>104</td>\n",
       "      <td>[67.0, 61.0, 80.0, 49.0, 79.0, 81.0, 74.0, 69....</td>\n",
       "    </tr>\n",
       "    <tr>\n",
       "      <th>2</th>\n",
       "      <td>hypertension</td>\n",
       "      <td>int64</td>\n",
       "      <td>0</td>\n",
       "      <td>2</td>\n",
       "      <td>[0, 1]</td>\n",
       "    </tr>\n",
       "    <tr>\n",
       "      <th>3</th>\n",
       "      <td>heart_disease</td>\n",
       "      <td>int64</td>\n",
       "      <td>0</td>\n",
       "      <td>2</td>\n",
       "      <td>[1, 0]</td>\n",
       "    </tr>\n",
       "    <tr>\n",
       "      <th>4</th>\n",
       "      <td>ever_married</td>\n",
       "      <td>int64</td>\n",
       "      <td>0</td>\n",
       "      <td>2</td>\n",
       "      <td>[1, 0]</td>\n",
       "    </tr>\n",
       "    <tr>\n",
       "      <th>5</th>\n",
       "      <td>work_type</td>\n",
       "      <td>int64</td>\n",
       "      <td>0</td>\n",
       "      <td>5</td>\n",
       "      <td>[2, 3, 0, 4, 1]</td>\n",
       "    </tr>\n",
       "    <tr>\n",
       "      <th>6</th>\n",
       "      <td>Residence_type</td>\n",
       "      <td>int64</td>\n",
       "      <td>0</td>\n",
       "      <td>2</td>\n",
       "      <td>[1, 0]</td>\n",
       "    </tr>\n",
       "    <tr>\n",
       "      <th>7</th>\n",
       "      <td>avg_glucose_level</td>\n",
       "      <td>float64</td>\n",
       "      <td>0</td>\n",
       "      <td>3979</td>\n",
       "      <td>[228.69, 202.21, 105.92, 171.23, 174.12, 186.2...</td>\n",
       "    </tr>\n",
       "    <tr>\n",
       "      <th>8</th>\n",
       "      <td>bmi</td>\n",
       "      <td>float64</td>\n",
       "      <td>0</td>\n",
       "      <td>528</td>\n",
       "      <td>[36.6, 29.879487179487185, 32.5, 34.4, 24.0, 2...</td>\n",
       "    </tr>\n",
       "    <tr>\n",
       "      <th>9</th>\n",
       "      <td>smoking_status</td>\n",
       "      <td>object</td>\n",
       "      <td>0</td>\n",
       "      <td>4</td>\n",
       "      <td>[formerly smoked, never smoked, smokes, Unknown]</td>\n",
       "    </tr>\n",
       "    <tr>\n",
       "      <th>10</th>\n",
       "      <td>stroke</td>\n",
       "      <td>int64</td>\n",
       "      <td>0</td>\n",
       "      <td>2</td>\n",
       "      <td>[1, 0]</td>\n",
       "    </tr>\n",
       "  </tbody>\n",
       "</table>\n",
       "</div>"
      ],
      "text/plain": [
       "             Variable     Type Missing Values Unique Values  \\\n",
       "0              gender    int64              0             3   \n",
       "1                 age  float64              0           104   \n",
       "2        hypertension    int64              0             2   \n",
       "3       heart_disease    int64              0             2   \n",
       "4        ever_married    int64              0             2   \n",
       "5           work_type    int64              0             5   \n",
       "6      Residence_type    int64              0             2   \n",
       "7   avg_glucose_level  float64              0          3979   \n",
       "8                 bmi  float64              0           528   \n",
       "9      smoking_status   object              0             4   \n",
       "10             stroke    int64              0             2   \n",
       "\n",
       "                               Distinct Unique Values  \n",
       "0                                           [1, 0, 2]  \n",
       "1   [67.0, 61.0, 80.0, 49.0, 79.0, 81.0, 74.0, 69....  \n",
       "2                                              [0, 1]  \n",
       "3                                              [1, 0]  \n",
       "4                                              [1, 0]  \n",
       "5                                     [2, 3, 0, 4, 1]  \n",
       "6                                              [1, 0]  \n",
       "7   [228.69, 202.21, 105.92, 171.23, 174.12, 186.2...  \n",
       "8   [36.6, 29.879487179487185, 32.5, 34.4, 24.0, 2...  \n",
       "9    [formerly smoked, never smoked, smokes, Unknown]  \n",
       "10                                             [1, 0]  "
      ]
     },
     "execution_count": 7,
     "metadata": {},
     "output_type": "execute_result"
    }
   ],
   "source": [
    "#Summary post feature engineering \n",
    "utils.df_summary(df)"
   ]
  },
  {
   "cell_type": "markdown",
   "id": "e3ac9381",
   "metadata": {},
   "source": [
    "## Train-Test Split"
   ]
  },
  {
   "cell_type": "code",
   "execution_count": 8,
   "id": "8f8bc0a5",
   "metadata": {},
   "outputs": [
    {
     "name": "stdout",
     "output_type": "stream",
     "text": [
      "(5110, 7), (4088, 7), (1022, 7)\n"
     ]
    }
   ],
   "source": [
    "#train test split\n",
    "X = df.drop(columns=['stroke','smoking_status','ever_married','Residence_type'])\n",
    "y = df[['stroke']]\n",
    "\n",
    "#80% train and 20% test\n",
    "X_train, X_test, y_train, y_test = train_test_split(X, y, test_size=0.2, random_state=42)\n",
    "print(\"%r, %r, %r\" % (X.shape, X_train.shape, X_test.shape))"
   ]
  },
  {
   "cell_type": "markdown",
   "id": "5a4da10c",
   "metadata": {},
   "source": [
    "## Upsampling the dataset"
   ]
  },
  {
   "cell_type": "code",
   "execution_count": 9,
   "id": "0172e405",
   "metadata": {},
   "outputs": [],
   "source": [
    "oversample = SMOTE()\n",
    "X_train_sample, y_train_sample = oversample.fit_resample(X_train, y_train['stroke'])"
   ]
  },
  {
   "cell_type": "code",
   "execution_count": 10,
   "id": "a1297187",
   "metadata": {},
   "outputs": [
    {
     "data": {
      "text/plain": [
       "0    3901\n",
       "1    3901\n",
       "Name: stroke, dtype: int64"
      ]
     },
     "execution_count": 10,
     "metadata": {},
     "output_type": "execute_result"
    }
   ],
   "source": [
    "#sampled data\n",
    "y_train_sample.value_counts()"
   ]
  },
  {
   "cell_type": "markdown",
   "id": "3347022d",
   "metadata": {},
   "source": [
    "[back](#Table-of-Contents)"
   ]
  },
  {
   "cell_type": "markdown",
   "id": "73656c8d",
   "metadata": {},
   "source": [
    "<hr color='#008B8B'>"
   ]
  },
  {
   "cell_type": "markdown",
   "id": "c424ffc1",
   "metadata": {},
   "source": [
    "# Building the model\n"
   ]
  },
  {
   "cell_type": "markdown",
   "id": "3d810261",
   "metadata": {},
   "source": [
    "For the demo purpose, the LightGBM algorithm is used to train the model. The size of the dataset is small, and other basic models such as Random Forest could have also been used. "
   ]
  },
  {
   "cell_type": "markdown",
   "id": "0a5c0a71",
   "metadata": {},
   "source": [
    "<font size = 5 color = '#008B8B'> <b>Light GBM and package details</b> </font>"
   ]
  },
  {
   "cell_type": "markdown",
   "id": "d5f852e6",
   "metadata": {
    "ExecuteTime": {
     "end_time": "2022-10-12T09:14:52.346630Z",
     "start_time": "2022-10-12T09:14:52.338630Z"
    }
   },
   "source": [
    "For this demo, we have used [`LightGBM classifier`](https://lightgbm.readthedocs.io/en/latest/pythonapi/lightgbm.LGBMClassifier.html). \n",
    "\n",
    "1. LightGBM is a fast, distributed, high performance **gradient boosting framework** based on **decision tree** algorithms. \n",
    "2. Handle the large size of data and takes lower memory to run and focuses on accuracy of results. \n",
    "3. Faster training speed and accuracy resulting from it being a **histogram-based algorithm** that performs bucketing of values.\n",
    "4. It **grows tree vertically**(leaf-wise) while other algorithm grows trees horizontally(level-wise).\n",
    "5. It will **choose the leaf with max delta loss to grow**. \n",
    "    When growing the same leaf, Leaf-wise algorithm can reduce more loss than a level-wise algorithm.\n",
    "\n",
    "Below diagrams explain the implementation of LightGBM and other boosting algorithms.\n",
    "\n",
    "<div style=\"float: left;\">\n",
    "<img src = \"https://cdn.analyticsvidhya.com/wp-content/uploads/2017/06/11194110/leaf.png\" width = 450 length = 450 ><center>How other boosting algorithm works</center>\n",
    "</div>\n",
    "\n",
    "<br>\n",
    "\n",
    "\n",
    "<div style=\"float: left;\">\n",
    "<img src = \"https://cdn.analyticsvidhya.com/wp-content/uploads/2017/06/11194227/depth.png\" width = 450 length = 450 ><center>How other boosting algorithm works</center>\n",
    "</div>\n",
    "\n",
    "\n"
   ]
  },
  {
   "cell_type": "markdown",
   "id": "5ad2cde0",
   "metadata": {},
   "source": [
    "## Key model outputs"
   ]
  },
  {
   "cell_type": "code",
   "execution_count": 11,
   "id": "738fa726",
   "metadata": {
    "ExecuteTime": {
     "end_time": "2022-12-19T12:28:52.040295Z",
     "start_time": "2022-12-19T12:28:41.233356Z"
    }
   },
   "outputs": [
    {
     "name": "stdout",
     "output_type": "stream",
     "text": [
      "\u001b[1m\u001b[4mLGBM Classifier\u001b[0m\n",
      "Start Time: 2023-02-05 04:01:11.093356\n",
      "End Time: 2023-02-05 04:01:11.332695\n",
      "Total time taken:\u001b[1m0:00:00.239339\u001b[0m\n"
     ]
    }
   ],
   "source": [
    "#fit lgbm and save using pickle \n",
    "classifier = LGBMClassifier(random_state=42,learning_rate = 0.01,\n",
    "                             max_depth= 4,\n",
    "                             n_estimators= 300)\n",
    "utils.fit_model(classifier,'LGBM Classifier','trained_classifier.sav',X_train_sample,y_train_sample)"
   ]
  },
  {
   "cell_type": "code",
   "execution_count": 12,
   "id": "faf5359d",
   "metadata": {
    "ExecuteTime": {
     "end_time": "2022-12-20T07:57:00.423806Z",
     "start_time": "2022-12-20T07:56:57.242810Z"
    }
   },
   "outputs": [],
   "source": [
    "f1 = utils.c_matrix('trained_classifier.sav','Confusion Matrix',y_test,X_test)\n",
    "f2 = utils.plot_auc('trained_classifier.sav',y_test,X_test)\n",
    "f3 = utils.feature_importance('trained_classifier.sav',\"Top 20 Important Features\",X,X.columns)"
   ]
  },
  {
   "cell_type": "code",
   "execution_count": 13,
   "id": "8dccf4db",
   "metadata": {},
   "outputs": [
    {
     "data": {
      "text/plain": [
       "array([[742, 218],\n",
       "       [ 18,  44]])"
      ]
     },
     "execution_count": 13,
     "metadata": {},
     "output_type": "execute_result"
    }
   ],
   "source": [
    "from sklearn.metrics import confusion_matrix\n",
    "confusion_matrix(y_test['stroke'], y_test['predicted'])"
   ]
  },
  {
   "cell_type": "code",
   "execution_count": 14,
   "id": "b12cee87",
   "metadata": {},
   "outputs": [
    {
     "data": {
      "text/html": [
       "<div class=\"tab\">\n",
       "<button id = \"defaultOpen-8600\" onclick = \"OpenTab_8600(event, 'Confusion matrix-8600')\" class=\"tablinks-8600\">Confusion matrix</button>\n",
       "<button onclick = \"OpenTab_8600(event, 'Area Under the Curve(AUC)-8600')\" class=\"tablinks-8600\">Area Under the Curve(AUC)</button>\n",
       "<button onclick = \"OpenTab_8600(event, 'Feature Importance-8600')\" class=\"tablinks-8600\">Feature Importance</button>\n",
       "</div><div id = \"Confusion matrix-8600\" class=\"tabcontent-8600\">\n",
       "<div>                            <div id=\"c0af5aa4-8d42-482b-98c2-bfedc37f5d86\" class=\"plotly-graph-div\" style=\"height:400px; width:600px;\"></div>            <script type=\"text/javascript\">                require([\"plotly\"], function(Plotly) {                    window.PLOTLYENV=window.PLOTLYENV || {};                                    if (document.getElementById(\"c0af5aa4-8d42-482b-98c2-bfedc37f5d86\")) {                    Plotly.newPlot(                        \"c0af5aa4-8d42-482b-98c2-bfedc37f5d86\",                        [{\"colorscale\":[[0.0,\"rgb(210, 251, 212)\"],[0.16666666666666666,\"rgb(165, 219, 194)\"],[0.3333333333333333,\"rgb(123, 188, 176)\"],[0.5,\"rgb(85, 156, 158)\"],[0.6666666666666666,\"rgb(58, 124, 137)\"],[0.8333333333333334,\"rgb(35, 93, 114)\"],[1.0,\"rgb(18, 63, 90)\"]],\"reversescale\":false,\"showscale\":true,\"x\":[\"Predicted No Stroke\",\"Predicted Stroke\"],\"y\":[\"Stroke\",\"No Stroke\"],\"z\":[[18,44],[742,218]],\"type\":\"heatmap\"}],                        {\"annotations\":[{\"font\":{\"color\":\"#000000\"},\"showarrow\":false,\"text\":\"18\",\"x\":\"Predicted No Stroke\",\"xref\":\"x\",\"y\":\"Stroke\",\"yref\":\"y\"},{\"font\":{\"color\":\"#000000\"},\"showarrow\":false,\"text\":\"44\",\"x\":\"Predicted Stroke\",\"xref\":\"x\",\"y\":\"Stroke\",\"yref\":\"y\"},{\"font\":{\"color\":\"#FFFFFF\"},\"showarrow\":false,\"text\":\"742\",\"x\":\"Predicted No Stroke\",\"xref\":\"x\",\"y\":\"No Stroke\",\"yref\":\"y\"},{\"font\":{\"color\":\"#000000\"},\"showarrow\":false,\"text\":\"218\",\"x\":\"Predicted Stroke\",\"xref\":\"x\",\"y\":\"No Stroke\",\"yref\":\"y\"}],\"xaxis\":{\"dtick\":1,\"gridcolor\":\"rgb(0, 0, 0)\",\"side\":\"top\",\"ticks\":\"\"},\"yaxis\":{\"dtick\":1,\"ticks\":\"\",\"ticksuffix\":\"  \"},\"template\":{\"data\":{\"bar\":[{\"error_x\":{\"color\":\"#2a3f5f\"},\"error_y\":{\"color\":\"#2a3f5f\"},\"marker\":{\"line\":{\"color\":\"#E5ECF6\",\"width\":0.5},\"pattern\":{\"fillmode\":\"overlay\",\"size\":10,\"solidity\":0.2}},\"type\":\"bar\"}],\"barpolar\":[{\"marker\":{\"line\":{\"color\":\"#E5ECF6\",\"width\":0.5},\"pattern\":{\"fillmode\":\"overlay\",\"size\":10,\"solidity\":0.2}},\"type\":\"barpolar\"}],\"carpet\":[{\"aaxis\":{\"endlinecolor\":\"#2a3f5f\",\"gridcolor\":\"white\",\"linecolor\":\"white\",\"minorgridcolor\":\"white\",\"startlinecolor\":\"#2a3f5f\"},\"baxis\":{\"endlinecolor\":\"#2a3f5f\",\"gridcolor\":\"white\",\"linecolor\":\"white\",\"minorgridcolor\":\"white\",\"startlinecolor\":\"#2a3f5f\"},\"type\":\"carpet\"}],\"choropleth\":[{\"colorbar\":{\"outlinewidth\":0,\"ticks\":\"\"},\"type\":\"choropleth\"}],\"contour\":[{\"colorbar\":{\"outlinewidth\":0,\"ticks\":\"\"},\"colorscale\":[[0.0,\"#0d0887\"],[0.1111111111111111,\"#46039f\"],[0.2222222222222222,\"#7201a8\"],[0.3333333333333333,\"#9c179e\"],[0.4444444444444444,\"#bd3786\"],[0.5555555555555556,\"#d8576b\"],[0.6666666666666666,\"#ed7953\"],[0.7777777777777778,\"#fb9f3a\"],[0.8888888888888888,\"#fdca26\"],[1.0,\"#f0f921\"]],\"type\":\"contour\"}],\"contourcarpet\":[{\"colorbar\":{\"outlinewidth\":0,\"ticks\":\"\"},\"type\":\"contourcarpet\"}],\"heatmap\":[{\"colorbar\":{\"outlinewidth\":0,\"ticks\":\"\"},\"colorscale\":[[0.0,\"#0d0887\"],[0.1111111111111111,\"#46039f\"],[0.2222222222222222,\"#7201a8\"],[0.3333333333333333,\"#9c179e\"],[0.4444444444444444,\"#bd3786\"],[0.5555555555555556,\"#d8576b\"],[0.6666666666666666,\"#ed7953\"],[0.7777777777777778,\"#fb9f3a\"],[0.8888888888888888,\"#fdca26\"],[1.0,\"#f0f921\"]],\"type\":\"heatmap\"}],\"heatmapgl\":[{\"colorbar\":{\"outlinewidth\":0,\"ticks\":\"\"},\"colorscale\":[[0.0,\"#0d0887\"],[0.1111111111111111,\"#46039f\"],[0.2222222222222222,\"#7201a8\"],[0.3333333333333333,\"#9c179e\"],[0.4444444444444444,\"#bd3786\"],[0.5555555555555556,\"#d8576b\"],[0.6666666666666666,\"#ed7953\"],[0.7777777777777778,\"#fb9f3a\"],[0.8888888888888888,\"#fdca26\"],[1.0,\"#f0f921\"]],\"type\":\"heatmapgl\"}],\"histogram\":[{\"marker\":{\"pattern\":{\"fillmode\":\"overlay\",\"size\":10,\"solidity\":0.2}},\"type\":\"histogram\"}],\"histogram2d\":[{\"colorbar\":{\"outlinewidth\":0,\"ticks\":\"\"},\"colorscale\":[[0.0,\"#0d0887\"],[0.1111111111111111,\"#46039f\"],[0.2222222222222222,\"#7201a8\"],[0.3333333333333333,\"#9c179e\"],[0.4444444444444444,\"#bd3786\"],[0.5555555555555556,\"#d8576b\"],[0.6666666666666666,\"#ed7953\"],[0.7777777777777778,\"#fb9f3a\"],[0.8888888888888888,\"#fdca26\"],[1.0,\"#f0f921\"]],\"type\":\"histogram2d\"}],\"histogram2dcontour\":[{\"colorbar\":{\"outlinewidth\":0,\"ticks\":\"\"},\"colorscale\":[[0.0,\"#0d0887\"],[0.1111111111111111,\"#46039f\"],[0.2222222222222222,\"#7201a8\"],[0.3333333333333333,\"#9c179e\"],[0.4444444444444444,\"#bd3786\"],[0.5555555555555556,\"#d8576b\"],[0.6666666666666666,\"#ed7953\"],[0.7777777777777778,\"#fb9f3a\"],[0.8888888888888888,\"#fdca26\"],[1.0,\"#f0f921\"]],\"type\":\"histogram2dcontour\"}],\"mesh3d\":[{\"colorbar\":{\"outlinewidth\":0,\"ticks\":\"\"},\"type\":\"mesh3d\"}],\"parcoords\":[{\"line\":{\"colorbar\":{\"outlinewidth\":0,\"ticks\":\"\"}},\"type\":\"parcoords\"}],\"pie\":[{\"automargin\":true,\"type\":\"pie\"}],\"scatter\":[{\"marker\":{\"colorbar\":{\"outlinewidth\":0,\"ticks\":\"\"}},\"type\":\"scatter\"}],\"scatter3d\":[{\"line\":{\"colorbar\":{\"outlinewidth\":0,\"ticks\":\"\"}},\"marker\":{\"colorbar\":{\"outlinewidth\":0,\"ticks\":\"\"}},\"type\":\"scatter3d\"}],\"scattercarpet\":[{\"marker\":{\"colorbar\":{\"outlinewidth\":0,\"ticks\":\"\"}},\"type\":\"scattercarpet\"}],\"scattergeo\":[{\"marker\":{\"colorbar\":{\"outlinewidth\":0,\"ticks\":\"\"}},\"type\":\"scattergeo\"}],\"scattergl\":[{\"marker\":{\"colorbar\":{\"outlinewidth\":0,\"ticks\":\"\"}},\"type\":\"scattergl\"}],\"scattermapbox\":[{\"marker\":{\"colorbar\":{\"outlinewidth\":0,\"ticks\":\"\"}},\"type\":\"scattermapbox\"}],\"scatterpolar\":[{\"marker\":{\"colorbar\":{\"outlinewidth\":0,\"ticks\":\"\"}},\"type\":\"scatterpolar\"}],\"scatterpolargl\":[{\"marker\":{\"colorbar\":{\"outlinewidth\":0,\"ticks\":\"\"}},\"type\":\"scatterpolargl\"}],\"scatterternary\":[{\"marker\":{\"colorbar\":{\"outlinewidth\":0,\"ticks\":\"\"}},\"type\":\"scatterternary\"}],\"surface\":[{\"colorbar\":{\"outlinewidth\":0,\"ticks\":\"\"},\"colorscale\":[[0.0,\"#0d0887\"],[0.1111111111111111,\"#46039f\"],[0.2222222222222222,\"#7201a8\"],[0.3333333333333333,\"#9c179e\"],[0.4444444444444444,\"#bd3786\"],[0.5555555555555556,\"#d8576b\"],[0.6666666666666666,\"#ed7953\"],[0.7777777777777778,\"#fb9f3a\"],[0.8888888888888888,\"#fdca26\"],[1.0,\"#f0f921\"]],\"type\":\"surface\"}],\"table\":[{\"cells\":{\"fill\":{\"color\":\"#EBF0F8\"},\"line\":{\"color\":\"white\"}},\"header\":{\"fill\":{\"color\":\"#C8D4E3\"},\"line\":{\"color\":\"white\"}},\"type\":\"table\"}]},\"layout\":{\"annotationdefaults\":{\"arrowcolor\":\"#2a3f5f\",\"arrowhead\":0,\"arrowwidth\":1},\"autotypenumbers\":\"strict\",\"coloraxis\":{\"colorbar\":{\"outlinewidth\":0,\"ticks\":\"\"}},\"colorscale\":{\"diverging\":[[0,\"#8e0152\"],[0.1,\"#c51b7d\"],[0.2,\"#de77ae\"],[0.3,\"#f1b6da\"],[0.4,\"#fde0ef\"],[0.5,\"#f7f7f7\"],[0.6,\"#e6f5d0\"],[0.7,\"#b8e186\"],[0.8,\"#7fbc41\"],[0.9,\"#4d9221\"],[1,\"#276419\"]],\"sequential\":[[0.0,\"#0d0887\"],[0.1111111111111111,\"#46039f\"],[0.2222222222222222,\"#7201a8\"],[0.3333333333333333,\"#9c179e\"],[0.4444444444444444,\"#bd3786\"],[0.5555555555555556,\"#d8576b\"],[0.6666666666666666,\"#ed7953\"],[0.7777777777777778,\"#fb9f3a\"],[0.8888888888888888,\"#fdca26\"],[1.0,\"#f0f921\"]],\"sequentialminus\":[[0.0,\"#0d0887\"],[0.1111111111111111,\"#46039f\"],[0.2222222222222222,\"#7201a8\"],[0.3333333333333333,\"#9c179e\"],[0.4444444444444444,\"#bd3786\"],[0.5555555555555556,\"#d8576b\"],[0.6666666666666666,\"#ed7953\"],[0.7777777777777778,\"#fb9f3a\"],[0.8888888888888888,\"#fdca26\"],[1.0,\"#f0f921\"]]},\"colorway\":[\"#636efa\",\"#EF553B\",\"#00cc96\",\"#ab63fa\",\"#FFA15A\",\"#19d3f3\",\"#FF6692\",\"#B6E880\",\"#FF97FF\",\"#FECB52\"],\"font\":{\"color\":\"#2a3f5f\"},\"geo\":{\"bgcolor\":\"white\",\"lakecolor\":\"white\",\"landcolor\":\"#E5ECF6\",\"showlakes\":true,\"showland\":true,\"subunitcolor\":\"white\"},\"hoverlabel\":{\"align\":\"left\"},\"hovermode\":\"closest\",\"mapbox\":{\"style\":\"light\"},\"paper_bgcolor\":\"white\",\"plot_bgcolor\":\"#E5ECF6\",\"polar\":{\"angularaxis\":{\"gridcolor\":\"white\",\"linecolor\":\"white\",\"ticks\":\"\"},\"bgcolor\":\"#E5ECF6\",\"radialaxis\":{\"gridcolor\":\"white\",\"linecolor\":\"white\",\"ticks\":\"\"}},\"scene\":{\"xaxis\":{\"backgroundcolor\":\"#E5ECF6\",\"gridcolor\":\"white\",\"gridwidth\":2,\"linecolor\":\"white\",\"showbackground\":true,\"ticks\":\"\",\"zerolinecolor\":\"white\"},\"yaxis\":{\"backgroundcolor\":\"#E5ECF6\",\"gridcolor\":\"white\",\"gridwidth\":2,\"linecolor\":\"white\",\"showbackground\":true,\"ticks\":\"\",\"zerolinecolor\":\"white\"},\"zaxis\":{\"backgroundcolor\":\"#E5ECF6\",\"gridcolor\":\"white\",\"gridwidth\":2,\"linecolor\":\"white\",\"showbackground\":true,\"ticks\":\"\",\"zerolinecolor\":\"white\"}},\"shapedefaults\":{\"line\":{\"color\":\"#2a3f5f\"}},\"ternary\":{\"aaxis\":{\"gridcolor\":\"white\",\"linecolor\":\"white\",\"ticks\":\"\"},\"baxis\":{\"gridcolor\":\"white\",\"linecolor\":\"white\",\"ticks\":\"\"},\"bgcolor\":\"#E5ECF6\",\"caxis\":{\"gridcolor\":\"white\",\"linecolor\":\"white\",\"ticks\":\"\"}},\"title\":{\"x\":0.05},\"xaxis\":{\"automargin\":true,\"gridcolor\":\"white\",\"linecolor\":\"white\",\"ticks\":\"\",\"title\":{\"standoff\":15},\"zerolinecolor\":\"white\",\"zerolinewidth\":2},\"yaxis\":{\"automargin\":true,\"gridcolor\":\"white\",\"linecolor\":\"white\",\"ticks\":\"\",\"title\":{\"standoff\":15},\"zerolinecolor\":\"white\",\"zerolinewidth\":2}}},\"title\":{\"text\":\"Confusion Matrix\"},\"height\":400,\"width\":600,\"margin\":{\"t\":50,\"l\":200}},                        {\"responsive\": true}                    )                };                });            </script>        </div>\n",
       "</div>\n",
       "<div id = \"Area Under the Curve(AUC)-8600\" class=\"tabcontent-8600\">\n",
       "<div>                            <div id=\"ff392ab5-5a8f-41c4-83ff-0a50046544df\" class=\"plotly-graph-div\" style=\"height:400px; width:400px;\"></div>            <script type=\"text/javascript\">                require([\"plotly\"], function(Plotly) {                    window.PLOTLYENV=window.PLOTLYENV || {};                                    if (document.getElementById(\"ff392ab5-5a8f-41c4-83ff-0a50046544df\")) {                    Plotly.newPlot(                        \"ff392ab5-5a8f-41c4-83ff-0a50046544df\",                        [{\"hovertemplate\":\"False Positive Rate=%{x}<br>True Positive Rate=%{y}<extra></extra>\",\"legendgroup\":\"\",\"line\":{\"color\":\"#008B8B\"},\"marker\":{\"symbol\":\"circle\"},\"mode\":\"lines\",\"name\":\"\",\"orientation\":\"v\",\"showlegend\":false,\"stackgroup\":\"1\",\"x\":[0.0,0.0,0.0010416666666666667,0.0010416666666666667,0.00625,0.00625,0.010416666666666666,0.010416666666666666,0.011458333333333333,0.011458333333333333,0.013541666666666667,0.014583333333333334,0.016666666666666666,0.025,0.025,0.029166666666666667,0.029166666666666667,0.03333333333333333,0.03333333333333333,0.036458333333333336,0.036458333333333336,0.051041666666666666,0.051041666666666666,0.05625,0.05625,0.058333333333333334,0.058333333333333334,0.06041666666666667,0.06145833333333333,0.06770833333333333,0.06770833333333333,0.07083333333333333,0.07083333333333333,0.071875,0.07395833333333333,0.078125,0.078125,0.08125,0.08333333333333333,0.090625,0.09270833333333334,0.10520833333333333,0.10520833333333333,0.11354166666666667,0.11458333333333333,0.11666666666666667,0.11666666666666667,0.11979166666666667,0.121875,0.121875,0.12604166666666666,0.12916666666666668,0.13333333333333333,0.13645833333333332,0.1375,0.1375,0.14791666666666667,0.14791666666666667,0.15520833333333334,0.15729166666666666,0.16875,0.16875,0.175,0.17708333333333334,0.17708333333333334,0.178125,0.178125,0.18020833333333333,0.18020833333333333,0.18645833333333334,0.18854166666666666,0.18958333333333333,0.190625,0.196875,0.2,0.21458333333333332,0.21666666666666667,0.21770833333333334,0.21770833333333334,0.21979166666666666,0.21979166666666666,0.221875,0.221875,0.228125,0.23229166666666667,0.23333333333333334,0.23541666666666666,0.23541666666666666,0.240625,0.240625,0.25729166666666664,0.25729166666666664,0.2604166666666667,0.2604166666666667,0.26666666666666666,0.26666666666666666,0.2677083333333333,0.26979166666666665,0.2875,0.2875,0.29270833333333335,0.2947916666666667,0.31145833333333334,0.31145833333333334,0.33958333333333335,0.33958333333333335,0.34270833333333334,0.34479166666666666,0.346875,0.346875,0.35520833333333335,0.35520833333333335,0.36354166666666665,0.365625,0.3770833333333333,0.3770833333333333,0.38125,0.38333333333333336,0.4010416666666667,0.4010416666666667,0.41458333333333336,0.41458333333333336,0.42604166666666665,0.4270833333333333,0.42916666666666664,0.43645833333333334,0.43854166666666666,0.4552083333333333,0.45729166666666665,0.4583333333333333,0.46041666666666664,0.4635416666666667,0.46875,0.48020833333333335,0.48020833333333335,0.4875,0.4895833333333333,0.49375,0.4979166666666667,0.5072916666666667,0.5104166666666666,0.528125,0.5322916666666667,0.5354166666666667,0.5375,0.5395833333333333,0.54375,0.5458333333333333,0.5520833333333334,0.553125,0.5552083333333333,0.5635416666666667,0.5677083333333334,0.5697916666666667,0.5739583333333333,0.575,0.575,0.5864583333333333,0.5885416666666666,0.590625,0.5927083333333333,0.5979166666666667,0.6010416666666667,0.6052083333333333,0.6083333333333333,0.615625,0.6177083333333333,0.6197916666666666,0.625,0.6270833333333333,0.6291666666666667,0.63125,0.6333333333333333,0.65,0.6520833333333333,0.6583333333333333,0.6604166666666667,0.6708333333333333,0.675,0.6760416666666667,0.6760416666666667,0.6958333333333333,0.7,0.7010416666666667,0.7052083333333333,0.70625,0.7114583333333333,0.73125,0.7364583333333333,0.7375,0.74375,0.7458333333333333,0.7510416666666667,0.7552083333333334,0.7625,0.7645833333333333,0.7739583333333333,0.7885416666666667,0.7895833333333333,0.79375,0.7979166666666667,0.8,0.80625,0.8072916666666666,0.8145833333333333,0.81875,0.8208333333333333,0.828125,0.8322916666666667,0.8354166666666667,0.8395833333333333,0.840625,0.85,0.8520833333333333,0.8583333333333333,0.8614583333333333,0.86875,0.8697916666666666,0.8760416666666667,0.8802083333333334,0.8854166666666666,0.9458333333333333,0.9989583333333333,1.0],\"xaxis\":\"x\",\"y\":[0.0,0.016129032258064516,0.016129032258064516,0.03225806451612903,0.03225806451612903,0.04838709677419355,0.04838709677419355,0.06451612903225806,0.06451612903225806,0.08064516129032258,0.11290322580645161,0.11290322580645161,0.12903225806451613,0.12903225806451613,0.14516129032258066,0.14516129032258066,0.1774193548387097,0.1774193548387097,0.22580645161290322,0.22580645161290322,0.24193548387096775,0.24193548387096775,0.25806451612903225,0.25806451612903225,0.27419354838709675,0.27419354838709675,0.3225806451612903,0.3225806451612903,0.3387096774193548,0.3387096774193548,0.3548387096774194,0.3548387096774194,0.3709677419354839,0.3709677419354839,0.3709677419354839,0.3709677419354839,0.3870967741935484,0.3870967741935484,0.3870967741935484,0.3870967741935484,0.4032258064516129,0.4032258064516129,0.43548387096774194,0.43548387096774194,0.45161290322580644,0.45161290322580644,0.46774193548387094,0.46774193548387094,0.46774193548387094,0.4838709677419355,0.4838709677419355,0.4838709677419355,0.4838709677419355,0.5,0.5,0.5161290322580645,0.5161290322580645,0.532258064516129,0.532258064516129,0.532258064516129,0.532258064516129,0.5645161290322581,0.5645161290322581,0.5645161290322581,0.5806451612903226,0.5806451612903226,0.5967741935483871,0.5967741935483871,0.6290322580645161,0.6290322580645161,0.6290322580645161,0.6290322580645161,0.6451612903225806,0.6451612903225806,0.6451612903225806,0.6451612903225806,0.6612903225806451,0.6612903225806451,0.6774193548387096,0.6774193548387096,0.6935483870967742,0.6935483870967742,0.7096774193548387,0.7096774193548387,0.7096774193548387,0.7096774193548387,0.7096774193548387,0.7258064516129032,0.7258064516129032,0.7419354838709677,0.7419354838709677,0.7580645161290323,0.7580645161290323,0.7741935483870968,0.7741935483870968,0.7903225806451613,0.7903225806451613,0.7903225806451613,0.7903225806451613,0.8064516129032258,0.8064516129032258,0.8064516129032258,0.8064516129032258,0.8225806451612904,0.8225806451612904,0.8387096774193549,0.8387096774193549,0.8387096774193549,0.8387096774193549,0.8548387096774194,0.8548387096774194,0.8709677419354839,0.8709677419354839,0.8709677419354839,0.8709677419354839,0.8870967741935484,0.8870967741935484,0.8870967741935484,0.8870967741935484,0.9032258064516129,0.9032258064516129,0.9193548387096774,0.9193548387096774,0.9354838709677419,0.9354838709677419,0.9354838709677419,0.9354838709677419,0.9354838709677419,0.9354838709677419,0.9354838709677419,0.9354838709677419,0.9354838709677419,0.9354838709677419,0.9354838709677419,0.9516129032258065,0.9516129032258065,0.9516129032258065,0.9516129032258065,0.9516129032258065,0.9516129032258065,0.9516129032258065,0.9516129032258065,0.9516129032258065,0.9516129032258065,0.9516129032258065,0.9516129032258065,0.9516129032258065,0.9516129032258065,0.9516129032258065,0.9516129032258065,0.967741935483871,0.967741935483871,0.967741935483871,0.967741935483871,0.967741935483871,0.967741935483871,0.9838709677419355,0.9838709677419355,0.9838709677419355,0.9838709677419355,0.9838709677419355,0.9838709677419355,0.9838709677419355,0.9838709677419355,0.9838709677419355,0.9838709677419355,0.9838709677419355,0.9838709677419355,0.9838709677419355,0.9838709677419355,0.9838709677419355,0.9838709677419355,0.9838709677419355,0.9838709677419355,0.9838709677419355,0.9838709677419355,0.9838709677419355,0.9838709677419355,0.9838709677419355,0.9838709677419355,1.0,1.0,1.0,1.0,1.0,1.0,1.0,1.0,1.0,1.0,1.0,1.0,1.0,1.0,1.0,1.0,1.0,1.0,1.0,1.0,1.0,1.0,1.0,1.0,1.0,1.0,1.0,1.0,1.0,1.0,1.0,1.0,1.0,1.0,1.0,1.0,1.0,1.0,1.0,1.0,1.0,1.0,1.0,1.0],\"yaxis\":\"y\",\"type\":\"scatter\"}],                        {\"template\":{\"data\":{\"barpolar\":[{\"marker\":{\"line\":{\"color\":\"white\",\"width\":0.5},\"pattern\":{\"fillmode\":\"overlay\",\"size\":10,\"solidity\":0.2}},\"type\":\"barpolar\"}],\"bar\":[{\"error_x\":{\"color\":\"#2a3f5f\"},\"error_y\":{\"color\":\"#2a3f5f\"},\"marker\":{\"line\":{\"color\":\"white\",\"width\":0.5},\"pattern\":{\"fillmode\":\"overlay\",\"size\":10,\"solidity\":0.2}},\"type\":\"bar\"}],\"carpet\":[{\"aaxis\":{\"endlinecolor\":\"#2a3f5f\",\"gridcolor\":\"#C8D4E3\",\"linecolor\":\"#C8D4E3\",\"minorgridcolor\":\"#C8D4E3\",\"startlinecolor\":\"#2a3f5f\"},\"baxis\":{\"endlinecolor\":\"#2a3f5f\",\"gridcolor\":\"#C8D4E3\",\"linecolor\":\"#C8D4E3\",\"minorgridcolor\":\"#C8D4E3\",\"startlinecolor\":\"#2a3f5f\"},\"type\":\"carpet\"}],\"choropleth\":[{\"colorbar\":{\"outlinewidth\":0,\"ticks\":\"\"},\"type\":\"choropleth\"}],\"contourcarpet\":[{\"colorbar\":{\"outlinewidth\":0,\"ticks\":\"\"},\"type\":\"contourcarpet\"}],\"contour\":[{\"colorbar\":{\"outlinewidth\":0,\"ticks\":\"\"},\"colorscale\":[[0.0,\"#0d0887\"],[0.1111111111111111,\"#46039f\"],[0.2222222222222222,\"#7201a8\"],[0.3333333333333333,\"#9c179e\"],[0.4444444444444444,\"#bd3786\"],[0.5555555555555556,\"#d8576b\"],[0.6666666666666666,\"#ed7953\"],[0.7777777777777778,\"#fb9f3a\"],[0.8888888888888888,\"#fdca26\"],[1.0,\"#f0f921\"]],\"type\":\"contour\"}],\"heatmapgl\":[{\"colorbar\":{\"outlinewidth\":0,\"ticks\":\"\"},\"colorscale\":[[0.0,\"#0d0887\"],[0.1111111111111111,\"#46039f\"],[0.2222222222222222,\"#7201a8\"],[0.3333333333333333,\"#9c179e\"],[0.4444444444444444,\"#bd3786\"],[0.5555555555555556,\"#d8576b\"],[0.6666666666666666,\"#ed7953\"],[0.7777777777777778,\"#fb9f3a\"],[0.8888888888888888,\"#fdca26\"],[1.0,\"#f0f921\"]],\"type\":\"heatmapgl\"}],\"heatmap\":[{\"colorbar\":{\"outlinewidth\":0,\"ticks\":\"\"},\"colorscale\":[[0.0,\"#0d0887\"],[0.1111111111111111,\"#46039f\"],[0.2222222222222222,\"#7201a8\"],[0.3333333333333333,\"#9c179e\"],[0.4444444444444444,\"#bd3786\"],[0.5555555555555556,\"#d8576b\"],[0.6666666666666666,\"#ed7953\"],[0.7777777777777778,\"#fb9f3a\"],[0.8888888888888888,\"#fdca26\"],[1.0,\"#f0f921\"]],\"type\":\"heatmap\"}],\"histogram2dcontour\":[{\"colorbar\":{\"outlinewidth\":0,\"ticks\":\"\"},\"colorscale\":[[0.0,\"#0d0887\"],[0.1111111111111111,\"#46039f\"],[0.2222222222222222,\"#7201a8\"],[0.3333333333333333,\"#9c179e\"],[0.4444444444444444,\"#bd3786\"],[0.5555555555555556,\"#d8576b\"],[0.6666666666666666,\"#ed7953\"],[0.7777777777777778,\"#fb9f3a\"],[0.8888888888888888,\"#fdca26\"],[1.0,\"#f0f921\"]],\"type\":\"histogram2dcontour\"}],\"histogram2d\":[{\"colorbar\":{\"outlinewidth\":0,\"ticks\":\"\"},\"colorscale\":[[0.0,\"#0d0887\"],[0.1111111111111111,\"#46039f\"],[0.2222222222222222,\"#7201a8\"],[0.3333333333333333,\"#9c179e\"],[0.4444444444444444,\"#bd3786\"],[0.5555555555555556,\"#d8576b\"],[0.6666666666666666,\"#ed7953\"],[0.7777777777777778,\"#fb9f3a\"],[0.8888888888888888,\"#fdca26\"],[1.0,\"#f0f921\"]],\"type\":\"histogram2d\"}],\"histogram\":[{\"marker\":{\"pattern\":{\"fillmode\":\"overlay\",\"size\":10,\"solidity\":0.2}},\"type\":\"histogram\"}],\"mesh3d\":[{\"colorbar\":{\"outlinewidth\":0,\"ticks\":\"\"},\"type\":\"mesh3d\"}],\"parcoords\":[{\"line\":{\"colorbar\":{\"outlinewidth\":0,\"ticks\":\"\"}},\"type\":\"parcoords\"}],\"pie\":[{\"automargin\":true,\"type\":\"pie\"}],\"scatter3d\":[{\"line\":{\"colorbar\":{\"outlinewidth\":0,\"ticks\":\"\"}},\"marker\":{\"colorbar\":{\"outlinewidth\":0,\"ticks\":\"\"}},\"type\":\"scatter3d\"}],\"scattercarpet\":[{\"marker\":{\"colorbar\":{\"outlinewidth\":0,\"ticks\":\"\"}},\"type\":\"scattercarpet\"}],\"scattergeo\":[{\"marker\":{\"colorbar\":{\"outlinewidth\":0,\"ticks\":\"\"}},\"type\":\"scattergeo\"}],\"scattergl\":[{\"marker\":{\"colorbar\":{\"outlinewidth\":0,\"ticks\":\"\"}},\"type\":\"scattergl\"}],\"scattermapbox\":[{\"marker\":{\"colorbar\":{\"outlinewidth\":0,\"ticks\":\"\"}},\"type\":\"scattermapbox\"}],\"scatterpolargl\":[{\"marker\":{\"colorbar\":{\"outlinewidth\":0,\"ticks\":\"\"}},\"type\":\"scatterpolargl\"}],\"scatterpolar\":[{\"marker\":{\"colorbar\":{\"outlinewidth\":0,\"ticks\":\"\"}},\"type\":\"scatterpolar\"}],\"scatter\":[{\"marker\":{\"colorbar\":{\"outlinewidth\":0,\"ticks\":\"\"}},\"type\":\"scatter\"}],\"scatterternary\":[{\"marker\":{\"colorbar\":{\"outlinewidth\":0,\"ticks\":\"\"}},\"type\":\"scatterternary\"}],\"surface\":[{\"colorbar\":{\"outlinewidth\":0,\"ticks\":\"\"},\"colorscale\":[[0.0,\"#0d0887\"],[0.1111111111111111,\"#46039f\"],[0.2222222222222222,\"#7201a8\"],[0.3333333333333333,\"#9c179e\"],[0.4444444444444444,\"#bd3786\"],[0.5555555555555556,\"#d8576b\"],[0.6666666666666666,\"#ed7953\"],[0.7777777777777778,\"#fb9f3a\"],[0.8888888888888888,\"#fdca26\"],[1.0,\"#f0f921\"]],\"type\":\"surface\"}],\"table\":[{\"cells\":{\"fill\":{\"color\":\"#EBF0F8\"},\"line\":{\"color\":\"white\"}},\"header\":{\"fill\":{\"color\":\"#C8D4E3\"},\"line\":{\"color\":\"white\"}},\"type\":\"table\"}]},\"layout\":{\"annotationdefaults\":{\"arrowcolor\":\"#2a3f5f\",\"arrowhead\":0,\"arrowwidth\":1},\"autotypenumbers\":\"strict\",\"coloraxis\":{\"colorbar\":{\"outlinewidth\":0,\"ticks\":\"\"}},\"colorscale\":{\"diverging\":[[0,\"#8e0152\"],[0.1,\"#c51b7d\"],[0.2,\"#de77ae\"],[0.3,\"#f1b6da\"],[0.4,\"#fde0ef\"],[0.5,\"#f7f7f7\"],[0.6,\"#e6f5d0\"],[0.7,\"#b8e186\"],[0.8,\"#7fbc41\"],[0.9,\"#4d9221\"],[1,\"#276419\"]],\"sequential\":[[0.0,\"#0d0887\"],[0.1111111111111111,\"#46039f\"],[0.2222222222222222,\"#7201a8\"],[0.3333333333333333,\"#9c179e\"],[0.4444444444444444,\"#bd3786\"],[0.5555555555555556,\"#d8576b\"],[0.6666666666666666,\"#ed7953\"],[0.7777777777777778,\"#fb9f3a\"],[0.8888888888888888,\"#fdca26\"],[1.0,\"#f0f921\"]],\"sequentialminus\":[[0.0,\"#0d0887\"],[0.1111111111111111,\"#46039f\"],[0.2222222222222222,\"#7201a8\"],[0.3333333333333333,\"#9c179e\"],[0.4444444444444444,\"#bd3786\"],[0.5555555555555556,\"#d8576b\"],[0.6666666666666666,\"#ed7953\"],[0.7777777777777778,\"#fb9f3a\"],[0.8888888888888888,\"#fdca26\"],[1.0,\"#f0f921\"]]},\"colorway\":[\"#636efa\",\"#EF553B\",\"#00cc96\",\"#ab63fa\",\"#FFA15A\",\"#19d3f3\",\"#FF6692\",\"#B6E880\",\"#FF97FF\",\"#FECB52\"],\"font\":{\"color\":\"#2a3f5f\"},\"geo\":{\"bgcolor\":\"white\",\"lakecolor\":\"white\",\"landcolor\":\"white\",\"showlakes\":true,\"showland\":true,\"subunitcolor\":\"#C8D4E3\"},\"hoverlabel\":{\"align\":\"left\"},\"hovermode\":\"closest\",\"mapbox\":{\"style\":\"light\"},\"paper_bgcolor\":\"white\",\"plot_bgcolor\":\"white\",\"polar\":{\"angularaxis\":{\"gridcolor\":\"#EBF0F8\",\"linecolor\":\"#EBF0F8\",\"ticks\":\"\"},\"bgcolor\":\"white\",\"radialaxis\":{\"gridcolor\":\"#EBF0F8\",\"linecolor\":\"#EBF0F8\",\"ticks\":\"\"}},\"scene\":{\"xaxis\":{\"backgroundcolor\":\"white\",\"gridcolor\":\"#DFE8F3\",\"gridwidth\":2,\"linecolor\":\"#EBF0F8\",\"showbackground\":true,\"ticks\":\"\",\"zerolinecolor\":\"#EBF0F8\"},\"yaxis\":{\"backgroundcolor\":\"white\",\"gridcolor\":\"#DFE8F3\",\"gridwidth\":2,\"linecolor\":\"#EBF0F8\",\"showbackground\":true,\"ticks\":\"\",\"zerolinecolor\":\"#EBF0F8\"},\"zaxis\":{\"backgroundcolor\":\"white\",\"gridcolor\":\"#DFE8F3\",\"gridwidth\":2,\"linecolor\":\"#EBF0F8\",\"showbackground\":true,\"ticks\":\"\",\"zerolinecolor\":\"#EBF0F8\"}},\"shapedefaults\":{\"line\":{\"color\":\"#2a3f5f\"}},\"ternary\":{\"aaxis\":{\"gridcolor\":\"#DFE8F3\",\"linecolor\":\"#A2B1C6\",\"ticks\":\"\"},\"baxis\":{\"gridcolor\":\"#DFE8F3\",\"linecolor\":\"#A2B1C6\",\"ticks\":\"\"},\"bgcolor\":\"white\",\"caxis\":{\"gridcolor\":\"#DFE8F3\",\"linecolor\":\"#A2B1C6\",\"ticks\":\"\"}},\"title\":{\"x\":0.05},\"xaxis\":{\"automargin\":true,\"gridcolor\":\"#EBF0F8\",\"linecolor\":\"#EBF0F8\",\"ticks\":\"\",\"title\":{\"standoff\":15},\"zerolinecolor\":\"#EBF0F8\",\"zerolinewidth\":2},\"yaxis\":{\"automargin\":true,\"gridcolor\":\"#EBF0F8\",\"linecolor\":\"#EBF0F8\",\"ticks\":\"\",\"title\":{\"standoff\":15},\"zerolinecolor\":\"#EBF0F8\",\"zerolinewidth\":2}}},\"xaxis\":{\"anchor\":\"y\",\"domain\":[0.0,1.0],\"title\":{\"text\":\"False Positive Rate\"},\"constrain\":\"domain\"},\"yaxis\":{\"anchor\":\"x\",\"domain\":[0.0,1.0],\"title\":{\"text\":\"True Positive Rate\"}},\"legend\":{\"tracegroupgap\":0},\"title\":{\"text\":\"ROC Curve (AUC=0.8250)\"},\"height\":400,\"width\":400,\"shapes\":[{\"line\":{\"dash\":\"dash\"},\"type\":\"line\",\"x0\":0,\"x1\":1,\"y0\":0,\"y1\":1}]},                        {\"responsive\": true}                    )                };                });            </script>        </div>\n",
       "</div>\n",
       "<div id = \"Feature Importance-8600\" class=\"tabcontent-8600\">\n",
       "<div>                            <div id=\"c6fd9fbc-4442-4c6c-ace5-246426ca2f26\" class=\"plotly-graph-div\" style=\"height:100%; width:100%;\"></div>            <script type=\"text/javascript\">                require([\"plotly\"], function(Plotly) {                    window.PLOTLYENV=window.PLOTLYENV || {};                                    if (document.getElementById(\"c6fd9fbc-4442-4c6c-ace5-246426ca2f26\")) {                    Plotly.newPlot(                        \"c6fd9fbc-4442-4c6c-ace5-246426ca2f26\",                        [{\"alignmentgroup\":\"True\",\"hovertemplate\":\"x=%{x}<br>y=%{y}<extra></extra>\",\"legendgroup\":\"\",\"marker\":{\"color\":\"rgb(0, 139, 139)\",\"pattern\":{\"shape\":\"\"},\"line\":{\"color\":\"rgb(125, 196, 196)\",\"width\":1.5}},\"name\":\"\",\"offsetgroup\":\"\",\"orientation\":\"h\",\"showlegend\":false,\"textposition\":\"auto\",\"texttemplate\":\"%{x}\",\"x\":[91,106,450,460,793,1211,1297],\"xaxis\":\"x\",\"y\":[\"hypertension\",\"heart_disease\",\"work_type\",\"gender\",\"bmi\",\"avg_glucose_level\",\"age\"],\"yaxis\":\"y\",\"type\":\"bar\",\"opacity\":1}],                        {\"template\":{\"data\":{\"barpolar\":[{\"marker\":{\"line\":{\"color\":\"white\",\"width\":0.5},\"pattern\":{\"fillmode\":\"overlay\",\"size\":10,\"solidity\":0.2}},\"type\":\"barpolar\"}],\"bar\":[{\"error_x\":{\"color\":\"#2a3f5f\"},\"error_y\":{\"color\":\"#2a3f5f\"},\"marker\":{\"line\":{\"color\":\"white\",\"width\":0.5},\"pattern\":{\"fillmode\":\"overlay\",\"size\":10,\"solidity\":0.2}},\"type\":\"bar\"}],\"carpet\":[{\"aaxis\":{\"endlinecolor\":\"#2a3f5f\",\"gridcolor\":\"#C8D4E3\",\"linecolor\":\"#C8D4E3\",\"minorgridcolor\":\"#C8D4E3\",\"startlinecolor\":\"#2a3f5f\"},\"baxis\":{\"endlinecolor\":\"#2a3f5f\",\"gridcolor\":\"#C8D4E3\",\"linecolor\":\"#C8D4E3\",\"minorgridcolor\":\"#C8D4E3\",\"startlinecolor\":\"#2a3f5f\"},\"type\":\"carpet\"}],\"choropleth\":[{\"colorbar\":{\"outlinewidth\":0,\"ticks\":\"\"},\"type\":\"choropleth\"}],\"contourcarpet\":[{\"colorbar\":{\"outlinewidth\":0,\"ticks\":\"\"},\"type\":\"contourcarpet\"}],\"contour\":[{\"colorbar\":{\"outlinewidth\":0,\"ticks\":\"\"},\"colorscale\":[[0.0,\"#0d0887\"],[0.1111111111111111,\"#46039f\"],[0.2222222222222222,\"#7201a8\"],[0.3333333333333333,\"#9c179e\"],[0.4444444444444444,\"#bd3786\"],[0.5555555555555556,\"#d8576b\"],[0.6666666666666666,\"#ed7953\"],[0.7777777777777778,\"#fb9f3a\"],[0.8888888888888888,\"#fdca26\"],[1.0,\"#f0f921\"]],\"type\":\"contour\"}],\"heatmapgl\":[{\"colorbar\":{\"outlinewidth\":0,\"ticks\":\"\"},\"colorscale\":[[0.0,\"#0d0887\"],[0.1111111111111111,\"#46039f\"],[0.2222222222222222,\"#7201a8\"],[0.3333333333333333,\"#9c179e\"],[0.4444444444444444,\"#bd3786\"],[0.5555555555555556,\"#d8576b\"],[0.6666666666666666,\"#ed7953\"],[0.7777777777777778,\"#fb9f3a\"],[0.8888888888888888,\"#fdca26\"],[1.0,\"#f0f921\"]],\"type\":\"heatmapgl\"}],\"heatmap\":[{\"colorbar\":{\"outlinewidth\":0,\"ticks\":\"\"},\"colorscale\":[[0.0,\"#0d0887\"],[0.1111111111111111,\"#46039f\"],[0.2222222222222222,\"#7201a8\"],[0.3333333333333333,\"#9c179e\"],[0.4444444444444444,\"#bd3786\"],[0.5555555555555556,\"#d8576b\"],[0.6666666666666666,\"#ed7953\"],[0.7777777777777778,\"#fb9f3a\"],[0.8888888888888888,\"#fdca26\"],[1.0,\"#f0f921\"]],\"type\":\"heatmap\"}],\"histogram2dcontour\":[{\"colorbar\":{\"outlinewidth\":0,\"ticks\":\"\"},\"colorscale\":[[0.0,\"#0d0887\"],[0.1111111111111111,\"#46039f\"],[0.2222222222222222,\"#7201a8\"],[0.3333333333333333,\"#9c179e\"],[0.4444444444444444,\"#bd3786\"],[0.5555555555555556,\"#d8576b\"],[0.6666666666666666,\"#ed7953\"],[0.7777777777777778,\"#fb9f3a\"],[0.8888888888888888,\"#fdca26\"],[1.0,\"#f0f921\"]],\"type\":\"histogram2dcontour\"}],\"histogram2d\":[{\"colorbar\":{\"outlinewidth\":0,\"ticks\":\"\"},\"colorscale\":[[0.0,\"#0d0887\"],[0.1111111111111111,\"#46039f\"],[0.2222222222222222,\"#7201a8\"],[0.3333333333333333,\"#9c179e\"],[0.4444444444444444,\"#bd3786\"],[0.5555555555555556,\"#d8576b\"],[0.6666666666666666,\"#ed7953\"],[0.7777777777777778,\"#fb9f3a\"],[0.8888888888888888,\"#fdca26\"],[1.0,\"#f0f921\"]],\"type\":\"histogram2d\"}],\"histogram\":[{\"marker\":{\"pattern\":{\"fillmode\":\"overlay\",\"size\":10,\"solidity\":0.2}},\"type\":\"histogram\"}],\"mesh3d\":[{\"colorbar\":{\"outlinewidth\":0,\"ticks\":\"\"},\"type\":\"mesh3d\"}],\"parcoords\":[{\"line\":{\"colorbar\":{\"outlinewidth\":0,\"ticks\":\"\"}},\"type\":\"parcoords\"}],\"pie\":[{\"automargin\":true,\"type\":\"pie\"}],\"scatter3d\":[{\"line\":{\"colorbar\":{\"outlinewidth\":0,\"ticks\":\"\"}},\"marker\":{\"colorbar\":{\"outlinewidth\":0,\"ticks\":\"\"}},\"type\":\"scatter3d\"}],\"scattercarpet\":[{\"marker\":{\"colorbar\":{\"outlinewidth\":0,\"ticks\":\"\"}},\"type\":\"scattercarpet\"}],\"scattergeo\":[{\"marker\":{\"colorbar\":{\"outlinewidth\":0,\"ticks\":\"\"}},\"type\":\"scattergeo\"}],\"scattergl\":[{\"marker\":{\"colorbar\":{\"outlinewidth\":0,\"ticks\":\"\"}},\"type\":\"scattergl\"}],\"scattermapbox\":[{\"marker\":{\"colorbar\":{\"outlinewidth\":0,\"ticks\":\"\"}},\"type\":\"scattermapbox\"}],\"scatterpolargl\":[{\"marker\":{\"colorbar\":{\"outlinewidth\":0,\"ticks\":\"\"}},\"type\":\"scatterpolargl\"}],\"scatterpolar\":[{\"marker\":{\"colorbar\":{\"outlinewidth\":0,\"ticks\":\"\"}},\"type\":\"scatterpolar\"}],\"scatter\":[{\"marker\":{\"colorbar\":{\"outlinewidth\":0,\"ticks\":\"\"}},\"type\":\"scatter\"}],\"scatterternary\":[{\"marker\":{\"colorbar\":{\"outlinewidth\":0,\"ticks\":\"\"}},\"type\":\"scatterternary\"}],\"surface\":[{\"colorbar\":{\"outlinewidth\":0,\"ticks\":\"\"},\"colorscale\":[[0.0,\"#0d0887\"],[0.1111111111111111,\"#46039f\"],[0.2222222222222222,\"#7201a8\"],[0.3333333333333333,\"#9c179e\"],[0.4444444444444444,\"#bd3786\"],[0.5555555555555556,\"#d8576b\"],[0.6666666666666666,\"#ed7953\"],[0.7777777777777778,\"#fb9f3a\"],[0.8888888888888888,\"#fdca26\"],[1.0,\"#f0f921\"]],\"type\":\"surface\"}],\"table\":[{\"cells\":{\"fill\":{\"color\":\"#EBF0F8\"},\"line\":{\"color\":\"white\"}},\"header\":{\"fill\":{\"color\":\"#C8D4E3\"},\"line\":{\"color\":\"white\"}},\"type\":\"table\"}]},\"layout\":{\"annotationdefaults\":{\"arrowcolor\":\"#2a3f5f\",\"arrowhead\":0,\"arrowwidth\":1},\"autotypenumbers\":\"strict\",\"coloraxis\":{\"colorbar\":{\"outlinewidth\":0,\"ticks\":\"\"}},\"colorscale\":{\"diverging\":[[0,\"#8e0152\"],[0.1,\"#c51b7d\"],[0.2,\"#de77ae\"],[0.3,\"#f1b6da\"],[0.4,\"#fde0ef\"],[0.5,\"#f7f7f7\"],[0.6,\"#e6f5d0\"],[0.7,\"#b8e186\"],[0.8,\"#7fbc41\"],[0.9,\"#4d9221\"],[1,\"#276419\"]],\"sequential\":[[0.0,\"#0d0887\"],[0.1111111111111111,\"#46039f\"],[0.2222222222222222,\"#7201a8\"],[0.3333333333333333,\"#9c179e\"],[0.4444444444444444,\"#bd3786\"],[0.5555555555555556,\"#d8576b\"],[0.6666666666666666,\"#ed7953\"],[0.7777777777777778,\"#fb9f3a\"],[0.8888888888888888,\"#fdca26\"],[1.0,\"#f0f921\"]],\"sequentialminus\":[[0.0,\"#0d0887\"],[0.1111111111111111,\"#46039f\"],[0.2222222222222222,\"#7201a8\"],[0.3333333333333333,\"#9c179e\"],[0.4444444444444444,\"#bd3786\"],[0.5555555555555556,\"#d8576b\"],[0.6666666666666666,\"#ed7953\"],[0.7777777777777778,\"#fb9f3a\"],[0.8888888888888888,\"#fdca26\"],[1.0,\"#f0f921\"]]},\"colorway\":[\"#636efa\",\"#EF553B\",\"#00cc96\",\"#ab63fa\",\"#FFA15A\",\"#19d3f3\",\"#FF6692\",\"#B6E880\",\"#FF97FF\",\"#FECB52\"],\"font\":{\"color\":\"#2a3f5f\"},\"geo\":{\"bgcolor\":\"white\",\"lakecolor\":\"white\",\"landcolor\":\"white\",\"showlakes\":true,\"showland\":true,\"subunitcolor\":\"#C8D4E3\"},\"hoverlabel\":{\"align\":\"left\"},\"hovermode\":\"closest\",\"mapbox\":{\"style\":\"light\"},\"paper_bgcolor\":\"white\",\"plot_bgcolor\":\"white\",\"polar\":{\"angularaxis\":{\"gridcolor\":\"#EBF0F8\",\"linecolor\":\"#EBF0F8\",\"ticks\":\"\"},\"bgcolor\":\"white\",\"radialaxis\":{\"gridcolor\":\"#EBF0F8\",\"linecolor\":\"#EBF0F8\",\"ticks\":\"\"}},\"scene\":{\"xaxis\":{\"backgroundcolor\":\"white\",\"gridcolor\":\"#DFE8F3\",\"gridwidth\":2,\"linecolor\":\"#EBF0F8\",\"showbackground\":true,\"ticks\":\"\",\"zerolinecolor\":\"#EBF0F8\"},\"yaxis\":{\"backgroundcolor\":\"white\",\"gridcolor\":\"#DFE8F3\",\"gridwidth\":2,\"linecolor\":\"#EBF0F8\",\"showbackground\":true,\"ticks\":\"\",\"zerolinecolor\":\"#EBF0F8\"},\"zaxis\":{\"backgroundcolor\":\"white\",\"gridcolor\":\"#DFE8F3\",\"gridwidth\":2,\"linecolor\":\"#EBF0F8\",\"showbackground\":true,\"ticks\":\"\",\"zerolinecolor\":\"#EBF0F8\"}},\"shapedefaults\":{\"line\":{\"color\":\"#2a3f5f\"}},\"ternary\":{\"aaxis\":{\"gridcolor\":\"#DFE8F3\",\"linecolor\":\"#A2B1C6\",\"ticks\":\"\"},\"baxis\":{\"gridcolor\":\"#DFE8F3\",\"linecolor\":\"#A2B1C6\",\"ticks\":\"\"},\"bgcolor\":\"white\",\"caxis\":{\"gridcolor\":\"#DFE8F3\",\"linecolor\":\"#A2B1C6\",\"ticks\":\"\"}},\"title\":{\"x\":0.05},\"xaxis\":{\"automargin\":true,\"gridcolor\":\"#EBF0F8\",\"linecolor\":\"#EBF0F8\",\"ticks\":\"\",\"title\":{\"standoff\":15},\"zerolinecolor\":\"#EBF0F8\",\"zerolinewidth\":2},\"yaxis\":{\"automargin\":true,\"gridcolor\":\"#EBF0F8\",\"linecolor\":\"#EBF0F8\",\"ticks\":\"\",\"title\":{\"standoff\":15},\"zerolinecolor\":\"#EBF0F8\",\"zerolinewidth\":2}}},\"xaxis\":{\"anchor\":\"y\",\"domain\":[0.0,1.0],\"title\":{\"text\":\"Importance\"}},\"yaxis\":{\"anchor\":\"x\",\"domain\":[0.0,1.0],\"title\":{\"text\":\"Features\"}},\"legend\":{\"tracegroupgap\":0},\"margin\":{\"t\":60},\"barmode\":\"relative\",\"title\":{\"text\":\"Top 20 Important Features\"}},                        {\"responsive\": true}                    )                };                });            </script>        </div>\n",
       "</div>\n",
       "<style>\n",
       "    /* Style the tab */\n",
       "    .tab {\n",
       "      border-bottom: 1px solid #ccc;\n",
       "      display: flex;\n",
       "      flex-wrap: wrap;\n",
       "    }\n",
       "\n",
       "    /* Style the buttons inside the tab */\n",
       "    .tab>button {\n",
       "      background-color: inherit;\n",
       "      border: none;\n",
       "      outline: none;\n",
       "      cursor: pointer;\n",
       "      padding: 1rem;\n",
       "      transition: 0.1s;\n",
       "      font-size: 15px;\n",
       "      border-top-left-radius: 0.25rem;\n",
       "      border-top-right-radius: 0.25rem;\n",
       "      color: #0d6efd;\n",
       "    }\n",
       "\n",
       "    /* Change background color of buttons on hover */\n",
       "    .tab>button:hover {\n",
       "      background-color: #ccc;\n",
       "    }\n",
       "\n",
       "    /* Create an active/current tablink class */\n",
       "    .tab>button.active-tab {\n",
       "      background-color: white;\n",
       "      border: 1px solid #ccc;\n",
       "      border-bottom: none;\n",
       "      margin-bottom: -1px;\n",
       "      color: #495057;\n",
       "\n",
       "    }\n",
       "    /* Style the tab content */\n",
       "    .tabcontent-8600 {\n",
       "      display: none;\n",
       "      padding: 0 0.5rem;\n",
       "    }\n",
       "    </style>\n",
       "    <script>\n",
       "    function OpenTab_8600(evt, cityName) {\n",
       "      var i, tabcontent, tablinks;\n",
       "      tabcontent = document.getElementsByClassName(\"tabcontent-8600\");\n",
       "      for (i = 0; i < tabcontent.length; i++) {\n",
       "        tabcontent[i].style.display = \"none\";\n",
       "      }\n",
       "      tablinks = document.getElementsByClassName(\"tablinks-8600\");\n",
       "      for (i = 0; i < tablinks.length; i++) {\n",
       "        tablinks[i].className = tablinks[i].className.replace(\" active-tab\", \"\");\n",
       "      }\n",
       "      document.getElementById(cityName).style.display = \"block\";\n",
       "      evt.currentTarget.className += \" active-tab\";\n",
       "    }\n",
       "\n",
       "    // Get the element with id=\"defaultOpen\" and click on it\n",
       "    document.getElementById(\"defaultOpen-8600\").click();\n",
       "    </script>"
      ],
      "text/plain": [
       "<IPython.core.display.HTML object>"
      ]
     },
     "metadata": {},
     "output_type": "display_data"
    }
   ],
   "source": [
    "html1 = (f1.to_html(include_plotlyjs='require', full_html=False))\n",
    "html2 = (f2.to_html(include_plotlyjs='require', full_html=False))\n",
    "html3 = (f3.to_html(include_plotlyjs='require', full_html=False))\n",
    "tabset({\n",
    "    'Confusion matrix': html1,\n",
    "    'Area Under the Curve(AUC)': html2,\n",
    "    'Feature Importance': html3\n",
    "})\n"
   ]
  },
  {
   "cell_type": "markdown",
   "id": "a5647d1e",
   "metadata": {},
   "source": [
    "<font size = 4 color = '#008B8B'> <b>Key Insights </b> </font>\n",
    "\n",
    "The model trained with LightGBM was able to predict 44 out of 62 stroke-prone individuals with an AUC-ROC score of 0.83. It is important to conduct further analysis to ensure that these results are not due to chance or any biases introduced during the modeling stage.\n",
    "\n",
    "Based on the current dataset, the most important features for predicting stroke-prone individuals were found to be age, BMI, and glucose level. These findings suggest that these factors should be closely monitored and considered when assessing the risk of stroke."
   ]
  },
  {
   "cell_type": "markdown",
   "id": "55384335",
   "metadata": {},
   "source": [
    "[back](#Table-of-Contents)"
   ]
  },
  {
   "cell_type": "markdown",
   "id": "cb4bdcf9",
   "metadata": {},
   "source": [
    "<hr color='#008B8B'>"
   ]
  },
  {
   "cell_type": "markdown",
   "id": "a73510ed",
   "metadata": {},
   "source": [
    "# Model Interpretability\n",
    "\n",
    "**Interpretabilit**y is the degree to which a human can understand the cause of a decision. So, the **model interpretability** is the degree to which a human can consistently predict the model’s result."
   ]
  },
  {
   "cell_type": "markdown",
   "id": "a7845ee1",
   "metadata": {},
   "source": [
    "<font size = 4 color = '#008B8B'> <b>Key terminology in XAI </b> </font>\n",
    "  - **Globally** : This is the overall explanation of model behavior. It shows us a big picture view of the model, and **how features in the data collectively affect the result**.\n",
    "  - **Locally** : This tells us about each instance and feature in the data individually (kind of like explaining observations seen at certain points in the model), and **how features individually affect the result**.\n",
    "  - **Model Agnostic** : It provide easy-to-understand explanations of predictions made by any ML model.  \n",
    "  - **Model Specific** : These are designed to interpret predictions generated by a specific model, such as a neural network"
   ]
  },
  {
   "cell_type": "markdown",
   "id": "bfaaec67",
   "metadata": {},
   "source": [
    "<div style=\"float: left;\">\n",
    "<img src = \"https://wires.onlinelibrary.wiley.com/cms/asset/60dc00c2-0acb-4f26-868b-7488892dc92e/widm1379-toc-0001-m.jpg\" width = 700 length = 700 >\n",
    "</div>\n",
    "<br clear=\"left\"/>\n",
    "\n",
    "*A simple [infographic](https://wires.onlinelibrary.wiley.com/doi/10.1002/widm.1379) above shows Global vs local explanation*"
   ]
  },
  {
   "cell_type": "markdown",
   "id": "448f02fb",
   "metadata": {},
   "source": [
    "[back](#Table-of-Contents)"
   ]
  },
  {
   "cell_type": "markdown",
   "id": "128a12b4",
   "metadata": {},
   "source": [
    "<hr color='#008B8B'>"
   ]
  },
  {
   "cell_type": "markdown",
   "id": "54c84e52",
   "metadata": {},
   "source": [
    "# Comparisons XAI \n"
   ]
  },
  {
   "cell_type": "markdown",
   "id": "bbe19920",
   "metadata": {},
   "source": [
    "## PDP vs ALE"
   ]
  },
  {
   "cell_type": "markdown",
   "id": "6a5c595d",
   "metadata": {},
   "source": [
    "### Understanding these methods"
   ]
  },
  {
   "cell_type": "markdown",
   "id": "2debcffe",
   "metadata": {},
   "source": [
    "####  PDP"
   ]
  },
  {
   "cell_type": "code",
   "execution_count": 15,
   "id": "55268d27",
   "metadata": {
    "ExecuteTime": {
     "end_time": "2022-12-20T07:57:39.178118Z",
     "start_time": "2022-12-20T07:57:39.171117Z"
    }
   },
   "outputs": [],
   "source": [
    "pdp_theory_md = \"\"\" \n",
    "<font size = 4  color = '#008B8B'> <b>What is PDP?</b></font>\n",
    "<ul>\n",
    "   <li>The partial dependence plot (short PDP) is a global, model-agnostic interpretation method introduced by Friedman in 2001.</li>\n",
    "   <li>Shows the marginal effect one or two features have on the predicted outcome.</li>\n",
    "   <li>Shows whether the relationship between the target and a feature is linear, monotonic or more complex</li>\n",
    "   <li>How it is derived? </li>\n",
    "   <ul>\n",
    "       <li>Select a feature. </li>\n",
    "       <li>Define the grid values.</li>\n",
    "       <li>Per grid value: </li>\n",
    "       <ul>\n",
    "           <li>Replace feature with grid value</li>\n",
    "           <li>Average the predictions</li>\n",
    "      </ul>\n",
    "      <li>Draw the curve.</li>\n",
    "   </ul>\n",
    "</ul>\n",
    "\n",
    "<img align=\"left\" src=\"https://blogs.sas.com/content/subconsciousmusings/files/2018/06/blackboxmodels.png\" width = 600 length = 600>\n",
    "<br clear=\"left\"/>\n",
    "\n",
    "<i><a href=\"https://blogs.sas.com/content/subconsciousmusings/files/2018/06/blackboxmodels.png\">infographic</a> above illustrate the relationship between features and prediction </i>\n",
    "\"\"\" "
   ]
  },
  {
   "cell_type": "code",
   "execution_count": 16,
   "id": "0ce1fd90",
   "metadata": {
    "ExecuteTime": {
     "end_time": "2022-12-20T07:57:39.782119Z",
     "start_time": "2022-12-20T07:57:39.778118Z"
    }
   },
   "outputs": [],
   "source": [
    "pdp_eg_md = \"\"\" \n",
    "<font size = 4  color = '#008B8B'> <b>How Partial Dependence is calculated?</b></font>\n",
    "<br>\n",
    "<b>Below series of images can help us understand how PD is calculated.</b>\n",
    "\n",
    "<br>\n",
    "<br>\n",
    "\n",
    "<img align=\"left\" src=\"xai_img/PD_STEP.png\" width = 450 length = 450>\n",
    "<br clear=\"left\"/>\n",
    "\n",
    "<i>Infographic above shows steps to plot PD </i>\n",
    "\n",
    "<br>\n",
    "<br>\n",
    "\n",
    "<img align=\"left\" src=\"xai_img/PD_DATA.png\" width = 450 length = 450>\n",
    "<br clear=\"left\"/>\n",
    "\n",
    "<i>Fig above illustrate the data used to calculate PD</i>\n",
    "<br>\n",
    "<br>\n",
    "\n",
    "<img align=\"left\" src=\"xai_img/PD_EG.png\" width = 450 length = 450>\n",
    "<br clear=\"left\"/>\n",
    "\n",
    "<i>Fig above shows average prediction calculated per grid value</i>\n",
    "\n",
    "<br>\n",
    "<br>\n",
    "   \n",
    "<img align=\"left\" src=\"xai_img/PD_GRAPH.png\" width = 450 length = 450>\n",
    "<br clear=\"left\"/>\n",
    "\n",
    "<i>Fig above shows the PD plot for feature AGE</i>\n",
    "\"\"\" "
   ]
  },
  {
   "cell_type": "code",
   "execution_count": 17,
   "id": "50773d8f",
   "metadata": {
    "ExecuteTime": {
     "end_time": "2022-12-20T07:57:40.735403Z",
     "start_time": "2022-12-20T07:57:40.729401Z"
    }
   },
   "outputs": [
    {
     "data": {
      "text/html": [
       "<div class=\"tab\">\n",
       "<button id = \"defaultOpen-2234\" onclick = \"OpenTab_2234(event, 'Theory-2234')\" class=\"tablinks-2234\">Theory</button>\n",
       "<button onclick = \"OpenTab_2234(event, 'Example-2234')\" class=\"tablinks-2234\">Example</button>\n",
       "</div><div id = \"Theory-2234\" class=\"tabcontent-2234\">\n",
       " \n",
       "<font size = 4  color = '#008B8B'> <b>What is PDP?</b></font>\n",
       "<ul>\n",
       "   <li>The partial dependence plot (short PDP) is a global, model-agnostic interpretation method introduced by Friedman in 2001.</li>\n",
       "   <li>Shows the marginal effect one or two features have on the predicted outcome.</li>\n",
       "   <li>Shows whether the relationship between the target and a feature is linear, monotonic or more complex</li>\n",
       "   <li>How it is derived? </li>\n",
       "   <ul>\n",
       "       <li>Select a feature. </li>\n",
       "       <li>Define the grid values.</li>\n",
       "       <li>Per grid value: </li>\n",
       "       <ul>\n",
       "           <li>Replace feature with grid value</li>\n",
       "           <li>Average the predictions</li>\n",
       "      </ul>\n",
       "      <li>Draw the curve.</li>\n",
       "   </ul>\n",
       "</ul>\n",
       "\n",
       "<img align=\"left\" src=\"https://blogs.sas.com/content/subconsciousmusings/files/2018/06/blackboxmodels.png\" width = 600 length = 600>\n",
       "<br clear=\"left\"/>\n",
       "\n",
       "<i><a href=\"https://blogs.sas.com/content/subconsciousmusings/files/2018/06/blackboxmodels.png\">infographic</a> above illustrate the relationship between features and prediction </i>\n",
       "\n",
       "</div>\n",
       "<div id = \"Example-2234\" class=\"tabcontent-2234\">\n",
       " \n",
       "<font size = 4  color = '#008B8B'> <b>How Partial Dependence is calculated?</b></font>\n",
       "<br>\n",
       "<b>Below series of images can help us understand how PD is calculated.</b>\n",
       "\n",
       "<br>\n",
       "<br>\n",
       "\n",
       "<img align=\"left\" src=\"xai_img/PD_STEP.png\" width = 450 length = 450>\n",
       "<br clear=\"left\"/>\n",
       "\n",
       "<i>Infographic above shows steps to plot PD </i>\n",
       "\n",
       "<br>\n",
       "<br>\n",
       "\n",
       "<img align=\"left\" src=\"xai_img/PD_DATA.png\" width = 450 length = 450>\n",
       "<br clear=\"left\"/>\n",
       "\n",
       "<i>Fig above illustrate the data used to calculate PD</i>\n",
       "<br>\n",
       "<br>\n",
       "\n",
       "<img align=\"left\" src=\"xai_img/PD_EG.png\" width = 450 length = 450>\n",
       "<br clear=\"left\"/>\n",
       "\n",
       "<i>Fig above shows average prediction calculated per grid value</i>\n",
       "\n",
       "<br>\n",
       "<br>\n",
       "   \n",
       "<img align=\"left\" src=\"xai_img/PD_GRAPH.png\" width = 450 length = 450>\n",
       "<br clear=\"left\"/>\n",
       "\n",
       "<i>Fig above shows the PD plot for feature AGE</i>\n",
       "\n",
       "</div>\n",
       "<style>\n",
       "    /* Style the tab */\n",
       "    .tab {\n",
       "      border-bottom: 1px solid #ccc;\n",
       "      display: flex;\n",
       "      flex-wrap: wrap;\n",
       "    }\n",
       "\n",
       "    /* Style the buttons inside the tab */\n",
       "    .tab>button {\n",
       "      background-color: inherit;\n",
       "      border: none;\n",
       "      outline: none;\n",
       "      cursor: pointer;\n",
       "      padding: 1rem;\n",
       "      transition: 0.1s;\n",
       "      font-size: 15px;\n",
       "      border-top-left-radius: 0.25rem;\n",
       "      border-top-right-radius: 0.25rem;\n",
       "      color: #0d6efd;\n",
       "    }\n",
       "\n",
       "    /* Change background color of buttons on hover */\n",
       "    .tab>button:hover {\n",
       "      background-color: #ccc;\n",
       "    }\n",
       "\n",
       "    /* Create an active/current tablink class */\n",
       "    .tab>button.active-tab {\n",
       "      background-color: white;\n",
       "      border: 1px solid #ccc;\n",
       "      border-bottom: none;\n",
       "      margin-bottom: -1px;\n",
       "      color: #495057;\n",
       "\n",
       "    }\n",
       "    /* Style the tab content */\n",
       "    .tabcontent-2234 {\n",
       "      display: none;\n",
       "      padding: 0 0.5rem;\n",
       "    }\n",
       "    </style>\n",
       "    <script>\n",
       "    function OpenTab_2234(evt, cityName) {\n",
       "      var i, tabcontent, tablinks;\n",
       "      tabcontent = document.getElementsByClassName(\"tabcontent-2234\");\n",
       "      for (i = 0; i < tabcontent.length; i++) {\n",
       "        tabcontent[i].style.display = \"none\";\n",
       "      }\n",
       "      tablinks = document.getElementsByClassName(\"tablinks-2234\");\n",
       "      for (i = 0; i < tablinks.length; i++) {\n",
       "        tablinks[i].className = tablinks[i].className.replace(\" active-tab\", \"\");\n",
       "      }\n",
       "      document.getElementById(cityName).style.display = \"block\";\n",
       "      evt.currentTarget.className += \" active-tab\";\n",
       "    }\n",
       "\n",
       "    // Get the element with id=\"defaultOpen\" and click on it\n",
       "    document.getElementById(\"defaultOpen-2234\").click();\n",
       "    </script>"
      ],
      "text/plain": [
       "<IPython.core.display.HTML object>"
      ]
     },
     "metadata": {},
     "output_type": "display_data"
    }
   ],
   "source": [
    "#checkout both the tabs\n",
    "tabset({\n",
    "    'Theory': pdp_theory_md,\n",
    "    'Example': pdp_eg_md,\n",
    "})"
   ]
  },
  {
   "cell_type": "markdown",
   "id": "6da3af1e",
   "metadata": {},
   "source": [
    "#### ALE"
   ]
  },
  {
   "cell_type": "code",
   "execution_count": 18,
   "id": "2d6c5d04",
   "metadata": {
    "ExecuteTime": {
     "end_time": "2022-12-20T07:57:43.518407Z",
     "start_time": "2022-12-20T07:57:43.513405Z"
    }
   },
   "outputs": [],
   "source": [
    "ale_theory_md = \"\"\" \n",
    "<font size = 4  color = '#008B8B'> <b>What is ALE?</b></font>\n",
    "<ul>\n",
    "   <li>Accumulated Local Effects(ALE) is also a global, model-agnostic interpretation method proposed by Apley in 2018.</li>\n",
    "   <li>Calculates the differences in predictions instead of averages. Using “differences” instead of “averages” allows it to block the effect of correlated features.</li>\n",
    "   <li>ALE plots are a faster and unbiased alternative to partial dependence plots (PDPs)</li>\n",
    "   <li>To estimate local effects, we divide the feature into many intervals and compute the differences in the predictions.  \n",
    "   <li>How it is derived? </li>\n",
    "   <ul>\n",
    "       <li>Select a feature. </li>\n",
    "       <li>Define interval/ neighbor regions</li>\n",
    "       <li>Per interval (local neighborhood) : </li>\n",
    "       <ul>\n",
    "           <li>Replace feature with lower limit value and calculate predictions</li>\n",
    "           <li>Replace feature with upper limit value and calculate predictions</li>\n",
    "           <li>Average the difference in predictions between a and b</li>\n",
    "           <li>Accumulate the effects across all intervals so that effect of internal X3 is a accumulated effect of X1,X2 and X3</li>\n",
    "      </ul>\n",
    "      <li>Finally, the accumulated feature effects at each interval is centered, such that the mean effect is zero.</li>\n",
    "      <li>Draw the curve</li>\n",
    "   </ul>\n",
    "</ul>\n",
    "\n",
    "\"\"\" "
   ]
  },
  {
   "cell_type": "code",
   "execution_count": 19,
   "id": "fa1c7b32",
   "metadata": {
    "ExecuteTime": {
     "end_time": "2022-12-20T07:57:44.270221Z",
     "start_time": "2022-12-20T07:57:44.266225Z"
    }
   },
   "outputs": [],
   "source": [
    "ale_eg_md = \"\"\" \n",
    "<font size = 4  color = '#008B8B'> <b>How Accumulated Local effect is calculated?</b></font>\n",
    "<br>\n",
    "<b>Below series of images can help us understand how ALE is calculated.</b>\n",
    "\n",
    "<br>\n",
    "<br>\n",
    "\n",
    "<img align=\"left\" src=\"xai_img/ALE_STEP.png\" width = 650 length = 550>\n",
    "<br clear=\"left\"/>\n",
    "\n",
    "<i>Infographic above shows steps to plot ALE </i>\n",
    "\n",
    "<br>\n",
    "<br>\n",
    "\n",
    "<img align=\"left\" src=\"xai_img/ALE_DATA.png\" width = 450 length = 400>\n",
    "<br clear=\"left\"/>\n",
    "\n",
    "<i>Fig above illustrate the data used to calculate ALE</i>\n",
    "<br>\n",
    "<br>\n",
    "\n",
    "<img align=\"left\" src=\"xai_img/ALE_EG.png\" width = 550 length = 550>\n",
    "<br clear=\"left\"/>\n",
    "\n",
    "<i>Fig above shows estimated calculation of ALE</i>\n",
    "\n",
    "<br>\n",
    "<br>\n",
    "\n",
    "<img align=\"left\" src=\"xai_img/ALE_FOR.png\" width = 450 length = 450>\n",
    "<br clear=\"left\"/>\n",
    "\n",
    "\n",
    "<br>\n",
    "<br>\n",
    "   \n",
    "<img align=\"left\" src=\"xai_img/ALE_GRAPH.png\" width = 500 length = 500>\n",
    "<br clear=\"left\"/>\n",
    "\n",
    "<i>Fig above shows the ALE plot for feature AGE</i>\n",
    "\n",
    "<br>\n",
    "<br>\n",
    "   \n",
    "<img align=\"left\" src=\"xai_img/ALE_NOTE.png\" width = 700 length = 500>\n",
    "<br clear=\"left\"/>\n",
    "\n",
    "<i>Important notes for ALE</i>\n",
    "\"\"\" "
   ]
  },
  {
   "cell_type": "code",
   "execution_count": 20,
   "id": "35171522",
   "metadata": {
    "ExecuteTime": {
     "end_time": "2022-12-20T06:11:51.893209Z",
     "start_time": "2022-12-20T06:11:51.886208Z"
    }
   },
   "outputs": [
    {
     "data": {
      "text/html": [
       "<div class=\"tab\">\n",
       "<button id = \"defaultOpen-6727\" onclick = \"OpenTab_6727(event, 'Theory-6727')\" class=\"tablinks-6727\">Theory</button>\n",
       "<button onclick = \"OpenTab_6727(event, 'Example-6727')\" class=\"tablinks-6727\">Example</button>\n",
       "</div><div id = \"Theory-6727\" class=\"tabcontent-6727\">\n",
       " \n",
       "<font size = 4  color = '#008B8B'> <b>What is ALE?</b></font>\n",
       "<ul>\n",
       "   <li>Accumulated Local Effects(ALE) is also a global, model-agnostic interpretation method proposed by Apley in 2018.</li>\n",
       "   <li>Calculates the differences in predictions instead of averages. Using “differences” instead of “averages” allows it to block the effect of correlated features.</li>\n",
       "   <li>ALE plots are a faster and unbiased alternative to partial dependence plots (PDPs)</li>\n",
       "   <li>To estimate local effects, we divide the feature into many intervals and compute the differences in the predictions.  \n",
       "   <li>How it is derived? </li>\n",
       "   <ul>\n",
       "       <li>Select a feature. </li>\n",
       "       <li>Define interval/ neighbor regions</li>\n",
       "       <li>Per interval (local neighborhood) : </li>\n",
       "       <ul>\n",
       "           <li>Replace feature with lower limit value and calculate predictions</li>\n",
       "           <li>Replace feature with upper limit value and calculate predictions</li>\n",
       "           <li>Average the difference in predictions between a and b</li>\n",
       "           <li>Accumulate the effects across all intervals so that effect of internal X3 is a accumulated effect of X1,X2 and X3</li>\n",
       "      </ul>\n",
       "      <li>Finally, the accumulated feature effects at each interval is centered, such that the mean effect is zero.</li>\n",
       "      <li>Draw the curve</li>\n",
       "   </ul>\n",
       "</ul>\n",
       "\n",
       "\n",
       "</div>\n",
       "<div id = \"Example-6727\" class=\"tabcontent-6727\">\n",
       " \n",
       "<font size = 4  color = '#008B8B'> <b>How Accumulated Local effect is calculated?</b></font>\n",
       "<br>\n",
       "<b>Below series of images can help us understand how ALE is calculated.</b>\n",
       "\n",
       "<br>\n",
       "<br>\n",
       "\n",
       "<img align=\"left\" src=\"xai_img/ALE_STEP.png\" width = 650 length = 550>\n",
       "<br clear=\"left\"/>\n",
       "\n",
       "<i>Infographic above shows steps to plot ALE </i>\n",
       "\n",
       "<br>\n",
       "<br>\n",
       "\n",
       "<img align=\"left\" src=\"xai_img/ALE_DATA.png\" width = 450 length = 400>\n",
       "<br clear=\"left\"/>\n",
       "\n",
       "<i>Fig above illustrate the data used to calculate ALE</i>\n",
       "<br>\n",
       "<br>\n",
       "\n",
       "<img align=\"left\" src=\"xai_img/ALE_EG.png\" width = 550 length = 550>\n",
       "<br clear=\"left\"/>\n",
       "\n",
       "<i>Fig above shows estimated calculation of ALE</i>\n",
       "\n",
       "<br>\n",
       "<br>\n",
       "\n",
       "<img align=\"left\" src=\"xai_img/ALE_FOR.png\" width = 450 length = 450>\n",
       "<br clear=\"left\"/>\n",
       "\n",
       "\n",
       "<br>\n",
       "<br>\n",
       "   \n",
       "<img align=\"left\" src=\"xai_img/ALE_GRAPH.png\" width = 500 length = 500>\n",
       "<br clear=\"left\"/>\n",
       "\n",
       "<i>Fig above shows the ALE plot for feature AGE</i>\n",
       "\n",
       "<br>\n",
       "<br>\n",
       "   \n",
       "<img align=\"left\" src=\"xai_img/ALE_NOTE.png\" width = 700 length = 500>\n",
       "<br clear=\"left\"/>\n",
       "\n",
       "<i>Important notes for ALE</i>\n",
       "\n",
       "</div>\n",
       "<style>\n",
       "    /* Style the tab */\n",
       "    .tab {\n",
       "      border-bottom: 1px solid #ccc;\n",
       "      display: flex;\n",
       "      flex-wrap: wrap;\n",
       "    }\n",
       "\n",
       "    /* Style the buttons inside the tab */\n",
       "    .tab>button {\n",
       "      background-color: inherit;\n",
       "      border: none;\n",
       "      outline: none;\n",
       "      cursor: pointer;\n",
       "      padding: 1rem;\n",
       "      transition: 0.1s;\n",
       "      font-size: 15px;\n",
       "      border-top-left-radius: 0.25rem;\n",
       "      border-top-right-radius: 0.25rem;\n",
       "      color: #0d6efd;\n",
       "    }\n",
       "\n",
       "    /* Change background color of buttons on hover */\n",
       "    .tab>button:hover {\n",
       "      background-color: #ccc;\n",
       "    }\n",
       "\n",
       "    /* Create an active/current tablink class */\n",
       "    .tab>button.active-tab {\n",
       "      background-color: white;\n",
       "      border: 1px solid #ccc;\n",
       "      border-bottom: none;\n",
       "      margin-bottom: -1px;\n",
       "      color: #495057;\n",
       "\n",
       "    }\n",
       "    /* Style the tab content */\n",
       "    .tabcontent-6727 {\n",
       "      display: none;\n",
       "      padding: 0 0.5rem;\n",
       "    }\n",
       "    </style>\n",
       "    <script>\n",
       "    function OpenTab_6727(evt, cityName) {\n",
       "      var i, tabcontent, tablinks;\n",
       "      tabcontent = document.getElementsByClassName(\"tabcontent-6727\");\n",
       "      for (i = 0; i < tabcontent.length; i++) {\n",
       "        tabcontent[i].style.display = \"none\";\n",
       "      }\n",
       "      tablinks = document.getElementsByClassName(\"tablinks-6727\");\n",
       "      for (i = 0; i < tablinks.length; i++) {\n",
       "        tablinks[i].className = tablinks[i].className.replace(\" active-tab\", \"\");\n",
       "      }\n",
       "      document.getElementById(cityName).style.display = \"block\";\n",
       "      evt.currentTarget.className += \" active-tab\";\n",
       "    }\n",
       "\n",
       "    // Get the element with id=\"defaultOpen\" and click on it\n",
       "    document.getElementById(\"defaultOpen-6727\").click();\n",
       "    </script>"
      ],
      "text/plain": [
       "<IPython.core.display.HTML object>"
      ]
     },
     "metadata": {},
     "output_type": "display_data"
    }
   ],
   "source": [
    "tabset({\n",
    "    'Theory': ale_theory_md,\n",
    "    'Example': ale_eg_md,\n",
    "})"
   ]
  },
  {
   "cell_type": "markdown",
   "id": "68c706cd",
   "metadata": {},
   "source": [
    "### Getting into examples and comparing\n",
    "I have utilized the [Shapash](https://shapash.readthedocs.io/en/latest/tutorials/plot/tuto-plot02-contribution_plot.html) package to create Partial Dependence Plots and the [Dalex](https://ema.drwhy.ai/accumulatedLocalProfiles.html) package to generate insightful Accumulated Local Effects Plots."
   ]
  },
  {
   "cell_type": "code",
   "execution_count": 21,
   "id": "395a3868",
   "metadata": {
    "ExecuteTime": {
     "end_time": "2022-12-20T07:57:08.420549Z",
     "start_time": "2022-12-20T07:57:08.393548Z"
    }
   },
   "outputs": [],
   "source": [
    "#load model to create SHAP and breakdown plots\n",
    "model = pickle.load(open('trained_classifier.sav', 'rb'))"
   ]
  },
  {
   "cell_type": "code",
   "execution_count": 22,
   "id": "9b74ae4c",
   "metadata": {
    "ExecuteTime": {
     "end_time": "2022-12-20T02:20:18.750002Z",
     "start_time": "2022-12-20T02:17:17.909458Z"
    }
   },
   "outputs": [],
   "source": [
    "# create the smart explainer \n",
    "from shapash import SmartExplainer\n",
    "xpl = SmartExplainer( \n",
    "  model=model,\n",
    ")\n",
    "\n",
    "xpl.compile(\n",
    "    x=X_test,   \n",
    ")"
   ]
  },
  {
   "cell_type": "code",
   "execution_count": 23,
   "id": "c5495e8b",
   "metadata": {
    "ExecuteTime": {
     "end_time": "2022-11-08T03:22:52.369923Z",
     "start_time": "2022-11-08T03:22:51.056910Z"
    },
    "scrolled": false,
    "tags": [
     "remove-output"
    ]
   },
   "outputs": [
    {
     "data": {
      "application/vnd.plotly.v1+json": {
       "config": {
        "plotlyServerURL": "https://plot.ly"
       },
       "data": [
        {
         "customdata": [
          [
           31,
           4688
          ],
          [
           40,
           4478
          ],
          [
           8,
           3849
          ],
          [
           79,
           4355
          ],
          [
           75,
           3826
          ],
          [
           79,
           3951
          ],
          [
           56,
           3396
          ],
          [
           69,
           465
          ],
          [
           7,
           410
          ],
          [
           1.48,
           1632
          ],
          [
           37,
           2859
          ],
          [
           3,
           1370
          ],
          [
           60,
           1360
          ],
          [
           51,
           807
          ],
          [
           57,
           315
          ],
          [
           43,
           79
          ],
          [
           42,
           586
          ],
          [
           10,
           2892
          ],
          [
           26,
           3857
          ],
          [
           3,
           2348
          ],
          [
           42,
           3161
          ],
          [
           44,
           1305
          ],
          [
           6,
           3338
          ],
          [
           16,
           538
          ],
          [
           23,
           3121
          ],
          [
           52,
           1662
          ],
          [
           9,
           4585
          ],
          [
           41,
           1417
          ],
          [
           72,
           2570
          ],
          [
           12,
           1405
          ],
          [
           56,
           1864
          ],
          [
           42,
           4035
          ],
          [
           39,
           3733
          ],
          [
           28,
           1672
          ],
          [
           17,
           1375
          ],
          [
           1.16,
           4694
          ],
          [
           63,
           2846
          ],
          [
           37,
           711
          ],
          [
           66,
           296
          ],
          [
           56,
           3151
          ],
          [
           47,
           1344
          ],
          [
           43,
           1261
          ],
          [
           22,
           2970
          ],
          [
           82,
           670
          ],
          [
           46,
           4953
          ],
          [
           66,
           4678
          ],
          [
           9,
           1831
          ],
          [
           63,
           3784
          ],
          [
           1.24,
           1244
          ],
          [
           16,
           4878
          ],
          [
           19,
           926
          ],
          [
           2,
           4510
          ],
          [
           80,
           33
          ],
          [
           5,
           3809
          ],
          [
           38,
           4955
          ],
          [
           53,
           848
          ],
          [
           46,
           1505
          ],
          [
           82,
           23
          ],
          [
           27,
           3279
          ],
          [
           52,
           691
          ],
          [
           47,
           1557
          ],
          [
           78,
           4483
          ],
          [
           71,
           1480
          ],
          [
           19,
           969
          ],
          [
           43,
           3109
          ],
          [
           31,
           3999
          ],
          [
           20,
           952
          ],
          [
           13,
           3483
          ],
          [
           47,
           254
          ],
          [
           80,
           5105
          ],
          [
           5,
           2845
          ],
          [
           23,
           2915
          ],
          [
           52,
           626
          ],
          [
           43,
           1721
          ],
          [
           23,
           1094
          ],
          [
           47,
           1345
          ],
          [
           7,
           2478
          ],
          [
           67,
           4635
          ],
          [
           52,
           3123
          ],
          [
           79,
           4777
          ],
          [
           54,
           4463
          ],
          [
           68,
           4228
          ],
          [
           69,
           2908
          ],
          [
           44,
           2988
          ],
          [
           38,
           468
          ],
          [
           17,
           2276
          ],
          [
           54,
           3757
          ],
          [
           62,
           4938
          ],
          [
           70,
           2718
          ],
          [
           5,
           4232
          ],
          [
           32,
           3822
          ],
          [
           60,
           1295
          ],
          [
           78,
           1971
          ],
          [
           23,
           4710
          ],
          [
           21,
           2344
          ],
          [
           51,
           1038
          ],
          [
           78,
           65
          ],
          [
           78,
           3783
          ],
          [
           23,
           842
          ],
          [
           65,
           2422
          ],
          [
           57,
           4411
          ],
          [
           50,
           4224
          ],
          [
           4,
           4133
          ],
          [
           36,
           2741
          ],
          [
           71,
           4738
          ],
          [
           12,
           3094
          ],
          [
           60,
           3690
          ],
          [
           1.88,
           3447
          ],
          [
           69,
           4125
          ],
          [
           24,
           3406
          ],
          [
           20,
           763
          ],
          [
           40,
           4479
          ],
          [
           52,
           4353
          ],
          [
           52,
           505
          ],
          [
           62,
           4102
          ],
          [
           58,
           84
          ],
          [
           65,
           1224
          ],
          [
           40,
           1966
          ],
          [
           36,
           4112
          ],
          [
           60,
           1487
          ],
          [
           52,
           831
          ],
          [
           57,
           1723
          ],
          [
           32,
           3076
          ],
          [
           5,
           3573
          ],
          [
           70,
           724
          ],
          [
           52,
           3825
          ],
          [
           57,
           2841
          ],
          [
           0.32,
           3859
          ],
          [
           50,
           106
          ],
          [
           54,
           2153
          ],
          [
           69,
           1413
          ],
          [
           58,
           2174
          ],
          [
           17,
           1338
          ],
          [
           38,
           1534
          ],
          [
           59,
           8
          ],
          [
           52,
           333
          ],
          [
           33,
           3035
          ],
          [
           65,
           4685
          ],
          [
           50,
           1926
          ],
          [
           33,
           1626
          ],
          [
           49,
           705
          ],
          [
           9,
           3555
          ],
          [
           47,
           4679
          ],
          [
           38,
           3773
          ],
          [
           24,
           3541
          ],
          [
           35,
           1001
          ],
          [
           51,
           4176
          ],
          [
           52,
           1128
          ],
          [
           81,
           179
          ],
          [
           8,
           1074
          ],
          [
           20,
           486
          ],
          [
           82,
           2341
          ],
          [
           82,
           1769
          ],
          [
           57,
           157
          ],
          [
           67,
           3979
          ],
          [
           58,
           2420
          ],
          [
           65,
           4880
          ],
          [
           36,
           4274
          ],
          [
           21,
           4656
          ],
          [
           59,
           29
          ],
          [
           68,
           2319
          ],
          [
           19,
           3038
          ],
          [
           55,
           553
          ],
          [
           76,
           4765
          ],
          [
           61,
           3264
          ],
          [
           50,
           731
          ],
          [
           24,
           4213
          ],
          [
           77,
           3351
          ],
          [
           23,
           373
          ],
          [
           61,
           2722
          ],
          [
           28,
           2299
          ],
          [
           21,
           1902
          ],
          [
           50,
           2822
          ],
          [
           1.08,
           2305
          ],
          [
           68,
           151
          ],
          [
           2,
           683
          ],
          [
           51,
           3377
          ],
          [
           67,
           2642
          ],
          [
           54,
           2473
          ],
          [
           52,
           4163
          ],
          [
           38,
           393
          ],
          [
           19,
           2394
          ],
          [
           18,
           1095
          ],
          [
           14,
           497
          ],
          [
           50,
           3893
          ],
          [
           81,
           4211
          ],
          [
           3,
           877
          ],
          [
           47,
           3074
          ],
          [
           32,
           1181
          ],
          [
           54,
           4892
          ],
          [
           1.8,
           4546
          ],
          [
           47,
           4307
          ],
          [
           79,
           168
          ],
          [
           58,
           4986
          ],
          [
           38,
           1740
          ],
          [
           63,
           1860
          ],
          [
           36,
           3271
          ],
          [
           74,
           2078
          ],
          [
           59,
           1718
          ],
          [
           31,
           787
          ],
          [
           7,
           977
          ],
          [
           60,
           4526
          ],
          [
           31,
           1720
          ],
          [
           74,
           227
          ],
          [
           53,
           3247
          ],
          [
           61,
           3820
          ],
          [
           20,
           1220
          ],
          [
           73,
           2172
          ],
          [
           31,
           746
          ],
          [
           7,
           3921
          ],
          [
           14,
           2788
          ],
          [
           42,
           3114
          ],
          [
           32,
           915
          ],
          [
           74,
           199
          ],
          [
           27,
           279
          ],
          [
           4,
           2972
          ],
          [
           37,
           1988
          ],
          [
           65,
           828
          ],
          [
           38,
           1073
          ],
          [
           2,
           856
          ],
          [
           35,
           2581
          ],
          [
           18,
           4148
          ],
          [
           67,
           3209
          ],
          [
           5,
           584
          ],
          [
           61,
           1503
          ],
          [
           38,
           4942
          ],
          [
           8,
           1849
          ],
          [
           32,
           3437
          ],
          [
           58,
           2413
          ],
          [
           60,
           239
          ],
          [
           51,
           577
          ],
          [
           81,
           4375
          ],
          [
           78,
           2527
          ],
          [
           61,
           4101
          ],
          [
           69,
           4908
          ],
          [
           64,
           3919
          ],
          [
           61,
           642
          ],
          [
           35,
           3879
          ],
          [
           46,
           3493
          ],
          [
           15,
           2498
          ],
          [
           31,
           764
          ],
          [
           26,
           3116
          ],
          [
           39,
           228
          ],
          [
           66,
           240
          ],
          [
           59,
           80
          ],
          [
           26,
           5027
          ],
          [
           69,
           1730
          ],
          [
           66,
           4350
          ],
          [
           12,
           4246
          ],
          [
           12,
           4508
          ],
          [
           63,
           422
          ],
          [
           71,
           2182
          ],
          [
           29,
           5019
          ],
          [
           45,
           1149
          ],
          [
           67,
           561
          ],
          [
           72,
           3182
          ],
          [
           19,
           2387
          ],
          [
           56,
           1872
          ],
          [
           62,
           1456
          ],
          [
           78,
           248
          ],
          [
           50,
           1697
          ],
          [
           55,
           810
          ],
          [
           54,
           2025
          ],
          [
           18,
           2313
          ],
          [
           32,
           3442
          ],
          [
           55,
           1010
          ],
          [
           75,
           1034
          ],
          [
           23,
           2535
          ],
          [
           45,
           2534
          ],
          [
           55,
           1144
          ],
          [
           39,
           4356
          ],
          [
           69,
           1117
          ],
          [
           82,
           1029
          ],
          [
           57,
           2218
          ],
          [
           50,
           2220
          ],
          [
           18,
           3292
          ],
          [
           47,
           88
          ],
          [
           38,
           3089
          ],
          [
           65,
           2746
          ],
          [
           13,
           4370
          ],
          [
           17,
           4230
          ],
          [
           67,
           1912
          ],
          [
           15,
           4210
          ],
          [
           37,
           1892
          ],
          [
           19,
           4490
          ],
          [
           22,
           4306
          ],
          [
           72,
           144
          ],
          [
           53,
           429
          ],
          [
           63,
           4473
          ],
          [
           40,
           931
          ],
          [
           62,
           2974
          ],
          [
           50,
           2309
          ],
          [
           21,
           2607
          ],
          [
           9,
           742
          ],
          [
           53,
           3479
          ],
          [
           51,
           4528
          ],
          [
           43,
           2829
          ],
          [
           2,
           1371
          ],
          [
           39,
           4789
          ],
          [
           22,
           3034
          ],
          [
           29,
           4346
          ],
          [
           67,
           2124
          ],
          [
           60,
           2405
          ],
          [
           64,
           100
          ],
          [
           19,
           4717
          ],
          [
           76,
           2312
          ],
          [
           43,
           472
          ],
          [
           1.48,
           3313
          ],
          [
           34,
           4080
          ],
          [
           34,
           4757
          ],
          [
           18,
           471
          ],
          [
           3,
           4764
          ],
          [
           75,
           3455
          ],
          [
           44,
           2594
          ],
          [
           53,
           3100
          ],
          [
           31,
           3698
          ],
          [
           72,
           530
          ],
          [
           61,
           4304
          ],
          [
           54,
           4144
          ],
          [
           5,
           5050
          ],
          [
           1.24,
           1499
          ],
          [
           36,
           1932
          ],
          [
           27,
           2943
          ],
          [
           47,
           1438
          ],
          [
           42,
           1941
          ],
          [
           50,
           1770
          ],
          [
           64,
           1351
          ],
          [
           70,
           4666
          ],
          [
           20,
           1192
          ],
          [
           53,
           4155
          ],
          [
           38,
           4005
          ],
          [
           8,
           2921
          ],
          [
           82,
           5100
          ],
          [
           54,
           2686
          ],
          [
           82,
           1412
          ],
          [
           58,
           297
          ],
          [
           30,
           4970
          ],
          [
           71,
           3742
          ],
          [
           2,
           1483
          ],
          [
           41,
           2086
          ],
          [
           50,
           994
          ],
          [
           81,
           230
          ],
          [
           77,
           3075
          ],
          [
           41,
           4054
          ],
          [
           13,
           2819
          ],
          [
           47,
           4876
          ],
          [
           52,
           1578
          ],
          [
           48,
           1756
          ],
          [
           73,
           4796
          ],
          [
           10,
           1942
          ],
          [
           30,
           776
          ],
          [
           28,
           721
          ],
          [
           55,
           555
          ],
          [
           39,
           907
          ],
          [
           1.16,
           2311
          ],
          [
           44,
           4767
          ],
          [
           54,
           2518
          ],
          [
           9,
           3282
          ],
          [
           39,
           1745
          ],
          [
           35,
           1175
          ],
          [
           32,
           4384
          ],
          [
           28,
           2615
          ],
          [
           42,
           1504
          ],
          [
           48,
           677
          ],
          [
           31,
           485
          ],
          [
           65,
           864
          ],
          [
           80,
           2584
          ],
          [
           9,
           4020
          ],
          [
           57,
           589
          ],
          [
           75,
           1786
          ],
          [
           71,
           879
          ],
          [
           20,
           3887
          ],
          [
           81,
           5106
          ],
          [
           52,
           2654
          ],
          [
           80,
           1002
          ],
          [
           70,
           149
          ],
          [
           57,
           3752
          ],
          [
           58,
           751
          ],
          [
           67,
           2173
          ],
          [
           5,
           4690
          ],
          [
           26,
           2465
          ],
          [
           39,
           812
          ],
          [
           27,
           4229
          ],
          [
           61,
           3802
          ],
          [
           21,
           2117
          ],
          [
           54,
           12
          ],
          [
           80,
           93
          ],
          [
           13,
           3414
          ],
          [
           15,
           1612
          ],
          [
           21,
           2536
          ],
          [
           32,
           3872
          ],
          [
           13,
           4019
          ],
          [
           9,
           2191
          ],
          [
           23,
           3873
          ],
          [
           55,
           4152
          ],
          [
           59,
           2968
          ],
          [
           11,
           3488
          ],
          [
           60,
           3011
          ],
          [
           69,
           911
          ],
          [
           40,
           838
          ],
          [
           53,
           1397
          ],
          [
           24,
           3163
          ],
          [
           26,
           2080
          ],
          [
           81,
           2673
          ],
          [
           23,
           1545
          ],
          [
           31,
           805
          ],
          [
           26,
           4114
          ],
          [
           3,
           416
          ],
          [
           29,
           2114
          ],
          [
           45,
           4310
          ],
          [
           38,
           3410
          ],
          [
           25,
           1564
          ],
          [
           15,
           4709
          ],
          [
           64,
           1992
          ],
          [
           11,
           3539
          ],
          [
           30,
           1041
          ],
          [
           26,
           4358
          ],
          [
           31,
           4273
          ],
          [
           78,
           4684
          ],
          [
           49,
           3012
          ],
          [
           12,
           3870
          ],
          [
           69,
           132
          ],
          [
           58,
           1946
          ],
          [
           62,
           3429
          ],
          [
           37,
           3808
          ],
          [
           37,
           1330
          ],
          [
           51,
           4817
          ],
          [
           59,
           2750
          ],
          [
           48,
           4797
          ],
          [
           38,
           5026
          ],
          [
           39,
           1477
          ],
          [
           79,
           1451
          ],
          [
           55,
           287
          ],
          [
           62,
           889
          ],
          [
           32,
           3277
          ],
          [
           53,
           1717
          ],
          [
           60,
           491
          ],
          [
           49,
           2307
          ],
          [
           25,
           3246
          ],
          [
           35,
           2367
          ],
          [
           69,
           2610
          ],
          [
           61,
           1052
          ],
          [
           52,
           1954
          ],
          [
           44,
           5046
          ],
          [
           41,
           4718
          ],
          [
           31,
           1593
          ],
          [
           22,
           4830
          ],
          [
           75,
           3649
          ],
          [
           30,
           4612
          ],
          [
           32,
           4664
          ],
          [
           42,
           2702
          ],
          [
           53,
           109
          ],
          [
           78,
           4974
          ],
          [
           33,
           1129
          ],
          [
           0.64,
           1808
          ],
          [
           4,
           4844
          ],
          [
           22,
           3185
          ],
          [
           32,
           4828
          ],
          [
           49,
           3985
          ],
          [
           56,
           426
          ],
          [
           75,
           2583
          ],
          [
           24,
           4059
          ],
          [
           40,
           4996
          ],
          [
           7,
           3937
          ],
          [
           43,
           2339
          ],
          [
           36,
           3751
          ],
          [
           55,
           3764
          ],
          [
           3,
           2389
          ],
          [
           55,
           2021
          ],
          [
           30,
           734
          ],
          [
           57,
           1592
          ],
          [
           56,
           3168
          ],
          [
           40,
           3635
          ],
          [
           77,
           3891
          ],
          [
           31,
           1049
          ],
          [
           57,
           5096
          ],
          [
           65,
           624
          ],
          [
           35,
           3550
          ],
          [
           19,
           2942
          ],
          [
           41,
           811
          ],
          [
           5,
           2177
          ],
          [
           42,
           544
          ],
          [
           59,
           1103
          ],
          [
           24,
           1746
          ],
          [
           53,
           4778
          ],
          [
           56,
           1618
          ],
          [
           56,
           2754
          ],
          [
           35,
           1235
          ],
          [
           54,
           1569
          ],
          [
           37,
           1209
          ],
          [
           12,
           414
          ],
          [
           50,
           3935
          ],
          [
           29,
           3398
          ],
          [
           36,
           3309
          ],
          [
           47,
           4700
          ],
          [
           14,
           1197
          ],
          [
           60,
           501
          ],
          [
           2,
           437
          ],
          [
           79,
           653
          ],
          [
           68,
           2095
          ],
          [
           54,
           3727
          ],
          [
           30,
           4316
          ],
          [
           66,
           800
          ],
          [
           13,
           290
          ],
          [
           65,
           2623
          ],
          [
           47,
           1340
          ],
          [
           70,
           252
          ],
          [
           14,
           1833
          ],
          [
           26,
           3411
          ],
          [
           79,
           350
          ],
          [
           18,
           3413
          ],
          [
           68,
           346
          ],
          [
           64,
           4296
          ],
          [
           0.08,
           1614
          ],
          [
           33,
           457
          ],
          [
           0.8,
           2801
          ],
          [
           79,
           90
          ],
          [
           14,
           3728
          ],
          [
           60,
           3197
          ],
          [
           65,
           26
          ],
          [
           59,
           181
          ],
          [
           33,
           4643
          ],
          [
           58,
           1669
          ],
          [
           40,
           2187
          ],
          [
           11,
           2091
          ],
          [
           27,
           2837
          ],
          [
           3,
           2457
          ],
          [
           65,
           4899
          ],
          [
           2,
           2222
          ],
          [
           42,
           2622
          ],
          [
           81,
           4408
          ],
          [
           0.8,
           2630
          ],
          [
           51,
           4751
          ],
          [
           34,
           1057
          ],
          [
           58,
           1210
          ],
          [
           80,
           69
          ],
          [
           35,
           5107
          ],
          [
           5,
           5020
          ],
          [
           45,
           3010
          ],
          [
           78,
           203
          ],
          [
           9,
           4783
          ],
          [
           45,
           3815
          ],
          [
           54,
           4425
          ],
          [
           24,
           387
          ],
          [
           33,
           4541
          ],
          [
           46,
           4725
          ],
          [
           45,
           2629
          ],
          [
           12,
           2291
          ],
          [
           25,
           798
          ],
          [
           69,
           2683
          ],
          [
           79,
           221
          ],
          [
           49,
           4459
          ],
          [
           75,
           3963
          ],
          [
           4,
           657
          ],
          [
           64,
           3821
          ],
          [
           48,
           2784
          ],
          [
           73,
           4773
          ],
          [
           44,
           4320
          ],
          [
           7,
           2364
          ],
          [
           77,
           4634
          ],
          [
           78,
           177
          ],
          [
           20,
           1020
          ],
          [
           28,
           655
          ],
          [
           13,
           1536
          ],
          [
           65,
           1751
          ],
          [
           52,
           5074
          ],
          [
           76,
           4376
          ],
          [
           16,
           3133
          ],
          [
           12,
           1406
          ],
          [
           51,
           5086
          ],
          [
           0.24,
           3392
          ],
          [
           53,
           1437
          ],
          [
           5,
           3331
          ],
          [
           59,
           1361
          ],
          [
           16,
           681
          ],
          [
           57,
           1055
          ],
          [
           52,
           803
          ],
          [
           62,
           3055
          ],
          [
           51,
           4098
          ],
          [
           55,
           4092
          ],
          [
           47,
           1876
          ],
          [
           27,
           2767
          ],
          [
           40,
           2238
          ],
          [
           69,
           2201
          ],
          [
           73,
           219
          ],
          [
           39,
           4503
          ],
          [
           8,
           4675
          ],
          [
           26,
           582
          ],
          [
           1.8,
           2329
          ],
          [
           22,
           1255
          ],
          [
           63,
           43
          ],
          [
           39,
           210
          ],
          [
           46,
           1595
          ],
          [
           32,
           354
          ],
          [
           3,
           1231
          ],
          [
           59,
           599
          ],
          [
           41,
           3379
          ],
          [
           46,
           2559
          ],
          [
           57,
           367
          ],
          [
           63,
           4237
          ],
          [
           66,
           3903
          ],
          [
           57,
           1650
          ],
          [
           71,
           135
          ],
          [
           60,
           2533
          ],
          [
           58,
           47
          ],
          [
           60,
           1818
          ],
          [
           53,
           3425
          ],
          [
           42,
           2119
          ],
          [
           52,
           1835
          ],
          [
           65,
           2890
          ],
          [
           55,
           2168
          ],
          [
           57,
           1934
          ],
          [
           80,
           61
          ],
          [
           57,
           2088
          ],
          [
           66,
           3103
          ],
          [
           78,
           95
          ],
          [
           66,
           478
          ],
          [
           82,
           1839
          ],
          [
           39,
           2688
          ],
          [
           82,
           2418
          ],
          [
           55,
           4946
          ],
          [
           69,
           3781
          ],
          [
           26,
           2949
          ],
          [
           63,
           2072
          ],
          [
           73,
           4836
          ],
          [
           22,
           322
          ],
          [
           18,
           3787
          ],
          [
           28,
           4444
          ],
          [
           2,
           4277
          ],
          [
           56,
           3062
          ],
          [
           1.48,
           3435
          ],
          [
           52,
           2226
          ],
          [
           62,
           1454
          ],
          [
           15,
           1242
          ],
          [
           0.24,
           996
          ],
          [
           4,
           291
          ],
          [
           73,
           2521
          ],
          [
           40,
           3565
          ],
          [
           51,
           533
          ],
          [
           56,
           4471
          ],
          [
           8,
           3624
          ],
          [
           57,
           2451
          ],
          [
           38,
           3352
          ],
          [
           20,
           2662
          ],
          [
           65,
           4321
          ],
          [
           13,
           3964
          ],
          [
           47,
           4214
          ],
          [
           40,
           428
          ],
          [
           62,
           1084
          ],
          [
           67,
           5084
          ],
          [
           43,
           4566
          ],
          [
           56,
           765
          ],
          [
           66,
           3204
          ],
          [
           41,
           4728
          ],
          [
           26,
           1907
          ],
          [
           81,
           2497
          ],
          [
           78,
           4734
          ],
          [
           55,
           3084
          ],
          [
           48,
           4693
          ],
          [
           14,
           4662
          ],
          [
           69,
           2018
          ],
          [
           32,
           3830
          ],
          [
           33,
           4626
          ],
          [
           72,
           5029
          ],
          [
           67,
           4308
          ],
          [
           62,
           3048
          ],
          [
           67,
           1436
          ],
          [
           47,
           4607
          ],
          [
           2,
           2663
          ],
          [
           45,
           5093
          ],
          [
           37,
           1420
          ],
          [
           37,
           3303
          ],
          [
           14,
           2346
          ],
          [
           33,
           1945
          ],
          [
           66,
           4110
          ],
          [
           32,
           2024
          ],
          [
           42,
           1526
          ],
          [
           43,
           2098
          ],
          [
           33,
           3193
          ],
          [
           78,
           1813
          ],
          [
           51,
           4078
          ],
          [
           57,
           2317
          ],
          [
           76,
           70
          ],
          [
           8,
           1032
          ],
          [
           17,
           4319
          ],
          [
           48,
           2232
          ],
          [
           5,
           3543
          ],
          [
           23,
           3403
          ],
          [
           48,
           1168
          ],
          [
           73,
           1183
          ],
          [
           66,
           964
          ],
          [
           59,
           1173
          ],
          [
           45,
           4732
          ],
          [
           38,
           3482
          ],
          [
           20,
           4856
          ],
          [
           15,
           1623
          ],
          [
           64,
           2059
          ],
          [
           31,
           3702
          ],
          [
           40,
           3799
          ],
          [
           67,
           3939
          ],
          [
           2,
           1392
          ],
          [
           32,
           1888
          ],
          [
           59,
           2700
          ],
          [
           6,
           733
          ],
          [
           39,
           1741
          ],
          [
           18,
           2649
          ],
          [
           59,
           2569
          ],
          [
           23,
           4731
          ],
          [
           56,
           2034
          ],
          [
           78,
           2487
          ],
          [
           13,
           2543
          ],
          [
           39,
           381
          ],
          [
           42,
           1978
          ],
          [
           47,
           1699
          ],
          [
           30,
           1321
          ],
          [
           51,
           2406
          ],
          [
           49,
           4543
          ],
          [
           8,
           4794
          ],
          [
           31,
           2516
          ],
          [
           19,
           3778
          ],
          [
           68,
           2867
          ],
          [
           77,
           233
          ],
          [
           39,
           1972
          ],
          [
           36,
           4807
          ],
          [
           24,
           4667
          ],
          [
           79,
           5034
          ],
          [
           42,
           633
          ],
          [
           45,
           3077
          ],
          [
           33,
           415
          ],
          [
           55,
           3153
          ],
          [
           44,
           1921
          ],
          [
           34,
           3592
          ],
          [
           30,
           1090
          ],
          [
           37,
           1583
          ],
          [
           17,
           4950
          ],
          [
           59,
           881
          ],
          [
           75,
           17
          ],
          [
           45,
           3839
          ],
          [
           45,
           1832
          ],
          [
           64,
           1840
          ],
          [
           64,
           3720
          ],
          [
           53,
           596
          ],
          [
           45,
           1670
          ],
          [
           16,
           2254
          ],
          [
           23,
           2142
          ],
          [
           28,
           1629
          ],
          [
           25,
           1822
          ],
          [
           70,
           5075
          ],
          [
           18,
           371
          ],
          [
           78,
           1448
          ],
          [
           39,
           1909
          ],
          [
           56,
           652
          ],
          [
           15,
           598
          ],
          [
           26,
           676
          ],
          [
           51,
           238
          ],
          [
           30,
           4347
          ],
          [
           55,
           2517
          ],
          [
           78,
           3794
          ],
          [
           55,
           3831
          ],
          [
           67,
           3878
          ],
          [
           80,
           75
          ],
          [
           17,
           1425
          ],
          [
           68,
           2948
          ],
          [
           51,
           3639
          ],
          [
           75,
           3263
          ],
          [
           81,
           5071
          ],
          [
           68,
           5002
          ],
          [
           76,
           1566
          ],
          [
           76,
           2985
          ],
          [
           6,
           1647
          ],
          [
           61,
           1126
          ],
          [
           73,
           4349
          ],
          [
           1.72,
           2194
          ],
          [
           82,
           4716
          ],
          [
           70,
           96
          ],
          [
           63,
           3408
          ],
          [
           28,
           3667
          ],
          [
           21,
           5030
          ],
          [
           80,
           621
          ],
          [
           2,
           4961
          ],
          [
           34,
           3814
          ],
          [
           27,
           566
          ],
          [
           65,
           1755
          ],
          [
           17,
           2714
          ],
          [
           46,
           748
          ],
          [
           51,
           4460
          ],
          [
           78,
           51
          ],
          [
           17,
           5077
          ],
          [
           45,
           3013
          ],
          [
           75,
           1335
          ],
          [
           49,
           2251
          ],
          [
           20,
           534
          ],
          [
           56,
           745
          ],
          [
           1.72,
           5079
          ],
          [
           61,
           3528
          ],
          [
           20,
           443
          ],
          [
           64,
           4987
          ],
          [
           59,
           195
          ],
          [
           31,
           4826
          ],
          [
           4,
           893
          ],
          [
           48,
           1788
          ],
          [
           10,
           3044
          ],
          [
           29,
           3904
          ],
          [
           40,
           3026
          ],
          [
           16,
           3438
          ],
          [
           80,
           2685
          ],
          [
           57,
           3070
          ],
          [
           65,
           4264
          ],
          [
           43,
           644
          ],
          [
           22,
           3755
          ],
          [
           59,
           3697
          ],
          [
           16,
           1726
          ],
          [
           7,
           4501
          ],
          [
           58,
           120
          ],
          [
           33,
           1204
          ],
          [
           39,
           2131
          ],
          [
           11,
           1253
          ],
          [
           8,
           4997
          ],
          [
           33,
           5024
          ],
          [
           41,
           2351
          ],
          [
           68,
           134
          ],
          [
           39,
           2580
          ],
          [
           57,
           4827
          ],
          [
           59,
           2011
          ],
          [
           5,
           3678
          ],
          [
           61,
           184
          ],
          [
           46,
           2895
          ],
          [
           81,
           1780
          ],
          [
           51,
           511
          ],
          [
           71,
           4165
          ],
          [
           67,
           62
          ],
          [
           45,
           4406
          ],
          [
           57,
           2802
          ],
          [
           61,
           4427
          ],
          [
           2,
           3268
          ],
          [
           64,
           2053
          ],
          [
           8,
           251
          ],
          [
           40,
           625
          ],
          [
           50,
           1550
          ],
          [
           35,
           1514
          ],
          [
           30,
           3895
          ],
          [
           23,
           3837
          ],
          [
           80,
           122
          ],
          [
           32,
           3654
          ],
          [
           21,
           3518
          ],
          [
           72,
           2029
          ],
          [
           27,
           2575
          ],
          [
           72,
           5085
          ],
          [
           25,
           567
          ],
          [
           80,
           2818
          ],
          [
           37,
           3349
          ],
          [
           13,
           693
          ],
          [
           80,
           3686
          ],
          [
           51,
           1606
          ],
          [
           8,
           4649
          ],
          [
           46,
           1293
          ],
          [
           46,
           2656
          ],
          [
           18,
           4976
          ],
          [
           41,
           2807
          ],
          [
           81,
           720
          ],
          [
           18,
           4863
          ],
          [
           18,
           2133
          ],
          [
           13,
           1789
          ],
          [
           1,
           1432
          ],
          [
           47,
           3911
          ],
          [
           39,
           602
          ],
          [
           8,
           1281
          ],
          [
           48,
           1468
          ],
          [
           35,
           2005
          ],
          [
           56,
           2266
          ],
          [
           58,
           3630
          ],
          [
           48,
           318
          ],
          [
           48,
           2228
          ],
          [
           20,
           2834
          ],
          [
           25,
           274
          ],
          [
           80,
           2002
          ],
          [
           77,
           549
          ],
          [
           58,
           1374
          ],
          [
           69,
           944
          ],
          [
           70,
           5001
          ],
          [
           48,
           4417
          ],
          [
           5,
           605
          ],
          [
           49,
           3909
          ],
          [
           30,
           527
          ],
          [
           14,
           4825
          ],
          [
           60,
           2462
          ],
          [
           42,
           2528
          ],
          [
           61,
           829
          ],
          [
           43,
           4481
          ],
          [
           81,
           4933
          ],
          [
           1.56,
           1957
          ],
          [
           61,
           1815
          ],
          [
           69,
           298
          ],
          [
           59,
           68
          ],
          [
           58,
           4377
          ],
          [
           53,
           1961
          ],
          [
           8,
           3758
          ],
          [
           37,
           3912
          ],
          [
           81,
           4198
          ],
          [
           55,
           3014
          ],
          [
           25,
           4124
          ],
          [
           79,
           150
          ],
          [
           18,
           756
          ],
          [
           22,
           1554
          ],
          [
           11,
           4423
          ],
          [
           28,
           3694
          ],
          [
           55,
           1322
          ],
          [
           32,
           4620
          ],
          [
           20,
           1268
          ],
          [
           73,
           3150
          ],
          [
           0.88,
           376
          ],
          [
           41,
           1096
          ],
          [
           59,
           1782
          ],
          [
           43,
           859
          ],
          [
           1.32,
           3097
          ],
          [
           15,
           2987
          ],
          [
           11,
           2015
          ],
          [
           14,
           378
          ],
          [
           52,
           3960
          ],
          [
           25,
           3305
          ],
          [
           7,
           3651
          ],
          [
           57,
           2111
          ],
          [
           45,
           1434
          ],
          [
           8,
           2042
          ],
          [
           44,
           5015
          ],
          [
           57,
           3172
          ],
          [
           43,
           1419
          ],
          [
           67,
           2215
          ],
          [
           29,
           2384
          ],
          [
           26,
           4050
          ],
          [
           42,
           794
          ],
          [
           12,
           4262
          ],
          [
           53,
           841
          ],
          [
           81,
           4724
          ],
          [
           32,
           2877
          ],
          [
           72,
           175
          ],
          [
           14,
           3434
          ],
          [
           82,
           2876
          ],
          [
           64,
           927
          ],
          [
           53,
           2407
          ],
          [
           76,
           45
          ],
          [
           35,
           3248
          ],
          [
           11,
           4439
          ],
          [
           46,
           4969
          ],
          [
           4,
           4398
          ],
          [
           27,
           896
          ],
          [
           62,
           2373
          ],
          [
           0.08,
           3295
          ],
          [
           57,
           2022
          ],
          [
           68,
           1879
          ],
          [
           1,
           2240
          ],
          [
           56,
           3906
          ],
          [
           42,
           3258
          ],
          [
           3,
           1702
          ],
          [
           53,
           2592
          ],
          [
           58,
           283
          ],
          [
           79,
           4823
          ],
          [
           32,
           1779
          ],
          [
           72,
           3456
          ],
          [
           59,
           5007
          ],
          [
           5,
           5070
          ],
          [
           75,
           3689
          ],
          [
           23,
           4247
          ],
          [
           0.48,
           4645
          ],
          [
           32,
           3941
          ],
          [
           78,
           2576
          ],
          [
           59,
           2596
          ],
          [
           49,
           3101
          ],
          [
           48,
           2678
          ],
          [
           63,
           1891
          ],
          [
           78,
           2826
          ],
          [
           68,
           4683
          ],
          [
           69,
           4284
          ],
          [
           1.64,
           1101
          ],
          [
           5,
           1047
          ],
          [
           38,
           4660
          ],
          [
           43,
           2813
          ],
          [
           48,
           2492
          ],
          [
           29,
           3053
          ],
          [
           69,
           99
          ],
          [
           6,
           2157
          ],
          [
           9,
           1421
          ],
          [
           18,
           2644
          ],
          [
           58,
           2614
          ],
          [
           47,
           351
          ],
          [
           9,
           4030
          ],
          [
           24,
           3187
          ],
          [
           53,
           1025
          ],
          [
           5,
           4025
          ],
          [
           22,
           718
          ],
          [
           34,
           2835
          ],
          [
           14,
           2856
          ],
          [
           17,
           4487
          ],
          [
           52,
           2648
          ],
          [
           30,
           308
          ],
          [
           54,
           3126
          ],
          [
           5,
           833
          ],
          [
           43,
           366
          ],
          [
           37,
           1784
          ],
          [
           69,
           3469
          ],
          [
           31,
           4603
          ],
          [
           1.32,
           4640
          ],
          [
           47,
           2664
          ],
          [
           47,
           949
          ],
          [
           76,
           1200
          ],
          [
           65,
           3154
          ],
          [
           57,
           19
          ],
          [
           52,
           2100
          ],
          [
           54,
           4966
          ],
          [
           48,
           668
          ],
          [
           76,
           218
          ],
          [
           10,
           3137
          ],
          [
           53,
           438
          ],
          [
           1.8,
           3786
          ],
          [
           23,
           1212
          ],
          [
           71,
           3669
          ],
          [
           62,
           3454
          ],
          [
           1.88,
           3605
          ],
          [
           1.32,
           4934
          ],
          [
           49,
           4835
          ],
          [
           56,
           4105
          ],
          [
           78,
           2902
          ]
         ],
         "hovertemplate": "<b>%{hovertext}</b><br />age: %{customdata[0]}<br />Contribution: %{y:.4f}<extra></extra>",
         "hovertext": [
          "Id: 4688",
          "Id: 4478",
          "Id: 3849",
          "Id: 4355",
          "Id: 3826",
          "Id: 3951",
          "Id: 3396",
          "Id: 465",
          "Id: 410",
          "Id: 1632",
          "Id: 2859",
          "Id: 1370",
          "Id: 1360",
          "Id: 807",
          "Id: 315",
          "Id: 79",
          "Id: 586",
          "Id: 2892",
          "Id: 3857",
          "Id: 2348",
          "Id: 3161",
          "Id: 1305",
          "Id: 3338",
          "Id: 538",
          "Id: 3121",
          "Id: 1662",
          "Id: 4585",
          "Id: 1417",
          "Id: 2570",
          "Id: 1405",
          "Id: 1864",
          "Id: 4035",
          "Id: 3733",
          "Id: 1672",
          "Id: 1375",
          "Id: 4694",
          "Id: 2846",
          "Id: 711",
          "Id: 296",
          "Id: 3151",
          "Id: 1344",
          "Id: 1261",
          "Id: 2970",
          "Id: 670",
          "Id: 4953",
          "Id: 4678",
          "Id: 1831",
          "Id: 3784",
          "Id: 1244",
          "Id: 4878",
          "Id: 926",
          "Id: 4510",
          "Id: 33",
          "Id: 3809",
          "Id: 4955",
          "Id: 848",
          "Id: 1505",
          "Id: 23",
          "Id: 3279",
          "Id: 691",
          "Id: 1557",
          "Id: 4483",
          "Id: 1480",
          "Id: 969",
          "Id: 3109",
          "Id: 3999",
          "Id: 952",
          "Id: 3483",
          "Id: 254",
          "Id: 5105",
          "Id: 2845",
          "Id: 2915",
          "Id: 626",
          "Id: 1721",
          "Id: 1094",
          "Id: 1345",
          "Id: 2478",
          "Id: 4635",
          "Id: 3123",
          "Id: 4777",
          "Id: 4463",
          "Id: 4228",
          "Id: 2908",
          "Id: 2988",
          "Id: 468",
          "Id: 2276",
          "Id: 3757",
          "Id: 4938",
          "Id: 2718",
          "Id: 4232",
          "Id: 3822",
          "Id: 1295",
          "Id: 1971",
          "Id: 4710",
          "Id: 2344",
          "Id: 1038",
          "Id: 65",
          "Id: 3783",
          "Id: 842",
          "Id: 2422",
          "Id: 4411",
          "Id: 4224",
          "Id: 4133",
          "Id: 2741",
          "Id: 4738",
          "Id: 3094",
          "Id: 3690",
          "Id: 3447",
          "Id: 4125",
          "Id: 3406",
          "Id: 763",
          "Id: 4479",
          "Id: 4353",
          "Id: 505",
          "Id: 4102",
          "Id: 84",
          "Id: 1224",
          "Id: 1966",
          "Id: 4112",
          "Id: 1487",
          "Id: 831",
          "Id: 1723",
          "Id: 3076",
          "Id: 3573",
          "Id: 724",
          "Id: 3825",
          "Id: 2841",
          "Id: 3859",
          "Id: 106",
          "Id: 2153",
          "Id: 1413",
          "Id: 2174",
          "Id: 1338",
          "Id: 1534",
          "Id: 8",
          "Id: 333",
          "Id: 3035",
          "Id: 4685",
          "Id: 1926",
          "Id: 1626",
          "Id: 705",
          "Id: 3555",
          "Id: 4679",
          "Id: 3773",
          "Id: 3541",
          "Id: 1001",
          "Id: 4176",
          "Id: 1128",
          "Id: 179",
          "Id: 1074",
          "Id: 486",
          "Id: 2341",
          "Id: 1769",
          "Id: 157",
          "Id: 3979",
          "Id: 2420",
          "Id: 4880",
          "Id: 4274",
          "Id: 4656",
          "Id: 29",
          "Id: 2319",
          "Id: 3038",
          "Id: 553",
          "Id: 4765",
          "Id: 3264",
          "Id: 731",
          "Id: 4213",
          "Id: 3351",
          "Id: 373",
          "Id: 2722",
          "Id: 2299",
          "Id: 1902",
          "Id: 2822",
          "Id: 2305",
          "Id: 151",
          "Id: 683",
          "Id: 3377",
          "Id: 2642",
          "Id: 2473",
          "Id: 4163",
          "Id: 393",
          "Id: 2394",
          "Id: 1095",
          "Id: 497",
          "Id: 3893",
          "Id: 4211",
          "Id: 877",
          "Id: 3074",
          "Id: 1181",
          "Id: 4892",
          "Id: 4546",
          "Id: 4307",
          "Id: 168",
          "Id: 4986",
          "Id: 1740",
          "Id: 1860",
          "Id: 3271",
          "Id: 2078",
          "Id: 1718",
          "Id: 787",
          "Id: 977",
          "Id: 4526",
          "Id: 1720",
          "Id: 227",
          "Id: 3247",
          "Id: 3820",
          "Id: 1220",
          "Id: 2172",
          "Id: 746",
          "Id: 3921",
          "Id: 2788",
          "Id: 3114",
          "Id: 915",
          "Id: 199",
          "Id: 279",
          "Id: 2972",
          "Id: 1988",
          "Id: 828",
          "Id: 1073",
          "Id: 856",
          "Id: 2581",
          "Id: 4148",
          "Id: 3209",
          "Id: 584",
          "Id: 1503",
          "Id: 4942",
          "Id: 1849",
          "Id: 3437",
          "Id: 2413",
          "Id: 239",
          "Id: 577",
          "Id: 4375",
          "Id: 2527",
          "Id: 4101",
          "Id: 4908",
          "Id: 3919",
          "Id: 642",
          "Id: 3879",
          "Id: 3493",
          "Id: 2498",
          "Id: 764",
          "Id: 3116",
          "Id: 228",
          "Id: 240",
          "Id: 80",
          "Id: 5027",
          "Id: 1730",
          "Id: 4350",
          "Id: 4246",
          "Id: 4508",
          "Id: 422",
          "Id: 2182",
          "Id: 5019",
          "Id: 1149",
          "Id: 561",
          "Id: 3182",
          "Id: 2387",
          "Id: 1872",
          "Id: 1456",
          "Id: 248",
          "Id: 1697",
          "Id: 810",
          "Id: 2025",
          "Id: 2313",
          "Id: 3442",
          "Id: 1010",
          "Id: 1034",
          "Id: 2535",
          "Id: 2534",
          "Id: 1144",
          "Id: 4356",
          "Id: 1117",
          "Id: 1029",
          "Id: 2218",
          "Id: 2220",
          "Id: 3292",
          "Id: 88",
          "Id: 3089",
          "Id: 2746",
          "Id: 4370",
          "Id: 4230",
          "Id: 1912",
          "Id: 4210",
          "Id: 1892",
          "Id: 4490",
          "Id: 4306",
          "Id: 144",
          "Id: 429",
          "Id: 4473",
          "Id: 931",
          "Id: 2974",
          "Id: 2309",
          "Id: 2607",
          "Id: 742",
          "Id: 3479",
          "Id: 4528",
          "Id: 2829",
          "Id: 1371",
          "Id: 4789",
          "Id: 3034",
          "Id: 4346",
          "Id: 2124",
          "Id: 2405",
          "Id: 100",
          "Id: 4717",
          "Id: 2312",
          "Id: 472",
          "Id: 3313",
          "Id: 4080",
          "Id: 4757",
          "Id: 471",
          "Id: 4764",
          "Id: 3455",
          "Id: 2594",
          "Id: 3100",
          "Id: 3698",
          "Id: 530",
          "Id: 4304",
          "Id: 4144",
          "Id: 5050",
          "Id: 1499",
          "Id: 1932",
          "Id: 2943",
          "Id: 1438",
          "Id: 1941",
          "Id: 1770",
          "Id: 1351",
          "Id: 4666",
          "Id: 1192",
          "Id: 4155",
          "Id: 4005",
          "Id: 2921",
          "Id: 5100",
          "Id: 2686",
          "Id: 1412",
          "Id: 297",
          "Id: 4970",
          "Id: 3742",
          "Id: 1483",
          "Id: 2086",
          "Id: 994",
          "Id: 230",
          "Id: 3075",
          "Id: 4054",
          "Id: 2819",
          "Id: 4876",
          "Id: 1578",
          "Id: 1756",
          "Id: 4796",
          "Id: 1942",
          "Id: 776",
          "Id: 721",
          "Id: 555",
          "Id: 907",
          "Id: 2311",
          "Id: 4767",
          "Id: 2518",
          "Id: 3282",
          "Id: 1745",
          "Id: 1175",
          "Id: 4384",
          "Id: 2615",
          "Id: 1504",
          "Id: 677",
          "Id: 485",
          "Id: 864",
          "Id: 2584",
          "Id: 4020",
          "Id: 589",
          "Id: 1786",
          "Id: 879",
          "Id: 3887",
          "Id: 5106",
          "Id: 2654",
          "Id: 1002",
          "Id: 149",
          "Id: 3752",
          "Id: 751",
          "Id: 2173",
          "Id: 4690",
          "Id: 2465",
          "Id: 812",
          "Id: 4229",
          "Id: 3802",
          "Id: 2117",
          "Id: 12",
          "Id: 93",
          "Id: 3414",
          "Id: 1612",
          "Id: 2536",
          "Id: 3872",
          "Id: 4019",
          "Id: 2191",
          "Id: 3873",
          "Id: 4152",
          "Id: 2968",
          "Id: 3488",
          "Id: 3011",
          "Id: 911",
          "Id: 838",
          "Id: 1397",
          "Id: 3163",
          "Id: 2080",
          "Id: 2673",
          "Id: 1545",
          "Id: 805",
          "Id: 4114",
          "Id: 416",
          "Id: 2114",
          "Id: 4310",
          "Id: 3410",
          "Id: 1564",
          "Id: 4709",
          "Id: 1992",
          "Id: 3539",
          "Id: 1041",
          "Id: 4358",
          "Id: 4273",
          "Id: 4684",
          "Id: 3012",
          "Id: 3870",
          "Id: 132",
          "Id: 1946",
          "Id: 3429",
          "Id: 3808",
          "Id: 1330",
          "Id: 4817",
          "Id: 2750",
          "Id: 4797",
          "Id: 5026",
          "Id: 1477",
          "Id: 1451",
          "Id: 287",
          "Id: 889",
          "Id: 3277",
          "Id: 1717",
          "Id: 491",
          "Id: 2307",
          "Id: 3246",
          "Id: 2367",
          "Id: 2610",
          "Id: 1052",
          "Id: 1954",
          "Id: 5046",
          "Id: 4718",
          "Id: 1593",
          "Id: 4830",
          "Id: 3649",
          "Id: 4612",
          "Id: 4664",
          "Id: 2702",
          "Id: 109",
          "Id: 4974",
          "Id: 1129",
          "Id: 1808",
          "Id: 4844",
          "Id: 3185",
          "Id: 4828",
          "Id: 3985",
          "Id: 426",
          "Id: 2583",
          "Id: 4059",
          "Id: 4996",
          "Id: 3937",
          "Id: 2339",
          "Id: 3751",
          "Id: 3764",
          "Id: 2389",
          "Id: 2021",
          "Id: 734",
          "Id: 1592",
          "Id: 3168",
          "Id: 3635",
          "Id: 3891",
          "Id: 1049",
          "Id: 5096",
          "Id: 624",
          "Id: 3550",
          "Id: 2942",
          "Id: 811",
          "Id: 2177",
          "Id: 544",
          "Id: 1103",
          "Id: 1746",
          "Id: 4778",
          "Id: 1618",
          "Id: 2754",
          "Id: 1235",
          "Id: 1569",
          "Id: 1209",
          "Id: 414",
          "Id: 3935",
          "Id: 3398",
          "Id: 3309",
          "Id: 4700",
          "Id: 1197",
          "Id: 501",
          "Id: 437",
          "Id: 653",
          "Id: 2095",
          "Id: 3727",
          "Id: 4316",
          "Id: 800",
          "Id: 290",
          "Id: 2623",
          "Id: 1340",
          "Id: 252",
          "Id: 1833",
          "Id: 3411",
          "Id: 350",
          "Id: 3413",
          "Id: 346",
          "Id: 4296",
          "Id: 1614",
          "Id: 457",
          "Id: 2801",
          "Id: 90",
          "Id: 3728",
          "Id: 3197",
          "Id: 26",
          "Id: 181",
          "Id: 4643",
          "Id: 1669",
          "Id: 2187",
          "Id: 2091",
          "Id: 2837",
          "Id: 2457",
          "Id: 4899",
          "Id: 2222",
          "Id: 2622",
          "Id: 4408",
          "Id: 2630",
          "Id: 4751",
          "Id: 1057",
          "Id: 1210",
          "Id: 69",
          "Id: 5107",
          "Id: 5020",
          "Id: 3010",
          "Id: 203",
          "Id: 4783",
          "Id: 3815",
          "Id: 4425",
          "Id: 387",
          "Id: 4541",
          "Id: 4725",
          "Id: 2629",
          "Id: 2291",
          "Id: 798",
          "Id: 2683",
          "Id: 221",
          "Id: 4459",
          "Id: 3963",
          "Id: 657",
          "Id: 3821",
          "Id: 2784",
          "Id: 4773",
          "Id: 4320",
          "Id: 2364",
          "Id: 4634",
          "Id: 177",
          "Id: 1020",
          "Id: 655",
          "Id: 1536",
          "Id: 1751",
          "Id: 5074",
          "Id: 4376",
          "Id: 3133",
          "Id: 1406",
          "Id: 5086",
          "Id: 3392",
          "Id: 1437",
          "Id: 3331",
          "Id: 1361",
          "Id: 681",
          "Id: 1055",
          "Id: 803",
          "Id: 3055",
          "Id: 4098",
          "Id: 4092",
          "Id: 1876",
          "Id: 2767",
          "Id: 2238",
          "Id: 2201",
          "Id: 219",
          "Id: 4503",
          "Id: 4675",
          "Id: 582",
          "Id: 2329",
          "Id: 1255",
          "Id: 43",
          "Id: 210",
          "Id: 1595",
          "Id: 354",
          "Id: 1231",
          "Id: 599",
          "Id: 3379",
          "Id: 2559",
          "Id: 367",
          "Id: 4237",
          "Id: 3903",
          "Id: 1650",
          "Id: 135",
          "Id: 2533",
          "Id: 47",
          "Id: 1818",
          "Id: 3425",
          "Id: 2119",
          "Id: 1835",
          "Id: 2890",
          "Id: 2168",
          "Id: 1934",
          "Id: 61",
          "Id: 2088",
          "Id: 3103",
          "Id: 95",
          "Id: 478",
          "Id: 1839",
          "Id: 2688",
          "Id: 2418",
          "Id: 4946",
          "Id: 3781",
          "Id: 2949",
          "Id: 2072",
          "Id: 4836",
          "Id: 322",
          "Id: 3787",
          "Id: 4444",
          "Id: 4277",
          "Id: 3062",
          "Id: 3435",
          "Id: 2226",
          "Id: 1454",
          "Id: 1242",
          "Id: 996",
          "Id: 291",
          "Id: 2521",
          "Id: 3565",
          "Id: 533",
          "Id: 4471",
          "Id: 3624",
          "Id: 2451",
          "Id: 3352",
          "Id: 2662",
          "Id: 4321",
          "Id: 3964",
          "Id: 4214",
          "Id: 428",
          "Id: 1084",
          "Id: 5084",
          "Id: 4566",
          "Id: 765",
          "Id: 3204",
          "Id: 4728",
          "Id: 1907",
          "Id: 2497",
          "Id: 4734",
          "Id: 3084",
          "Id: 4693",
          "Id: 4662",
          "Id: 2018",
          "Id: 3830",
          "Id: 4626",
          "Id: 5029",
          "Id: 4308",
          "Id: 3048",
          "Id: 1436",
          "Id: 4607",
          "Id: 2663",
          "Id: 5093",
          "Id: 1420",
          "Id: 3303",
          "Id: 2346",
          "Id: 1945",
          "Id: 4110",
          "Id: 2024",
          "Id: 1526",
          "Id: 2098",
          "Id: 3193",
          "Id: 1813",
          "Id: 4078",
          "Id: 2317",
          "Id: 70",
          "Id: 1032",
          "Id: 4319",
          "Id: 2232",
          "Id: 3543",
          "Id: 3403",
          "Id: 1168",
          "Id: 1183",
          "Id: 964",
          "Id: 1173",
          "Id: 4732",
          "Id: 3482",
          "Id: 4856",
          "Id: 1623",
          "Id: 2059",
          "Id: 3702",
          "Id: 3799",
          "Id: 3939",
          "Id: 1392",
          "Id: 1888",
          "Id: 2700",
          "Id: 733",
          "Id: 1741",
          "Id: 2649",
          "Id: 2569",
          "Id: 4731",
          "Id: 2034",
          "Id: 2487",
          "Id: 2543",
          "Id: 381",
          "Id: 1978",
          "Id: 1699",
          "Id: 1321",
          "Id: 2406",
          "Id: 4543",
          "Id: 4794",
          "Id: 2516",
          "Id: 3778",
          "Id: 2867",
          "Id: 233",
          "Id: 1972",
          "Id: 4807",
          "Id: 4667",
          "Id: 5034",
          "Id: 633",
          "Id: 3077",
          "Id: 415",
          "Id: 3153",
          "Id: 1921",
          "Id: 3592",
          "Id: 1090",
          "Id: 1583",
          "Id: 4950",
          "Id: 881",
          "Id: 17",
          "Id: 3839",
          "Id: 1832",
          "Id: 1840",
          "Id: 3720",
          "Id: 596",
          "Id: 1670",
          "Id: 2254",
          "Id: 2142",
          "Id: 1629",
          "Id: 1822",
          "Id: 5075",
          "Id: 371",
          "Id: 1448",
          "Id: 1909",
          "Id: 652",
          "Id: 598",
          "Id: 676",
          "Id: 238",
          "Id: 4347",
          "Id: 2517",
          "Id: 3794",
          "Id: 3831",
          "Id: 3878",
          "Id: 75",
          "Id: 1425",
          "Id: 2948",
          "Id: 3639",
          "Id: 3263",
          "Id: 5071",
          "Id: 5002",
          "Id: 1566",
          "Id: 2985",
          "Id: 1647",
          "Id: 1126",
          "Id: 4349",
          "Id: 2194",
          "Id: 4716",
          "Id: 96",
          "Id: 3408",
          "Id: 3667",
          "Id: 5030",
          "Id: 621",
          "Id: 4961",
          "Id: 3814",
          "Id: 566",
          "Id: 1755",
          "Id: 2714",
          "Id: 748",
          "Id: 4460",
          "Id: 51",
          "Id: 5077",
          "Id: 3013",
          "Id: 1335",
          "Id: 2251",
          "Id: 534",
          "Id: 745",
          "Id: 5079",
          "Id: 3528",
          "Id: 443",
          "Id: 4987",
          "Id: 195",
          "Id: 4826",
          "Id: 893",
          "Id: 1788",
          "Id: 3044",
          "Id: 3904",
          "Id: 3026",
          "Id: 3438",
          "Id: 2685",
          "Id: 3070",
          "Id: 4264",
          "Id: 644",
          "Id: 3755",
          "Id: 3697",
          "Id: 1726",
          "Id: 4501",
          "Id: 120",
          "Id: 1204",
          "Id: 2131",
          "Id: 1253",
          "Id: 4997",
          "Id: 5024",
          "Id: 2351",
          "Id: 134",
          "Id: 2580",
          "Id: 4827",
          "Id: 2011",
          "Id: 3678",
          "Id: 184",
          "Id: 2895",
          "Id: 1780",
          "Id: 511",
          "Id: 4165",
          "Id: 62",
          "Id: 4406",
          "Id: 2802",
          "Id: 4427",
          "Id: 3268",
          "Id: 2053",
          "Id: 251",
          "Id: 625",
          "Id: 1550",
          "Id: 1514",
          "Id: 3895",
          "Id: 3837",
          "Id: 122",
          "Id: 3654",
          "Id: 3518",
          "Id: 2029",
          "Id: 2575",
          "Id: 5085",
          "Id: 567",
          "Id: 2818",
          "Id: 3349",
          "Id: 693",
          "Id: 3686",
          "Id: 1606",
          "Id: 4649",
          "Id: 1293",
          "Id: 2656",
          "Id: 4976",
          "Id: 2807",
          "Id: 720",
          "Id: 4863",
          "Id: 2133",
          "Id: 1789",
          "Id: 1432",
          "Id: 3911",
          "Id: 602",
          "Id: 1281",
          "Id: 1468",
          "Id: 2005",
          "Id: 2266",
          "Id: 3630",
          "Id: 318",
          "Id: 2228",
          "Id: 2834",
          "Id: 274",
          "Id: 2002",
          "Id: 549",
          "Id: 1374",
          "Id: 944",
          "Id: 5001",
          "Id: 4417",
          "Id: 605",
          "Id: 3909",
          "Id: 527",
          "Id: 4825",
          "Id: 2462",
          "Id: 2528",
          "Id: 829",
          "Id: 4481",
          "Id: 4933",
          "Id: 1957",
          "Id: 1815",
          "Id: 298",
          "Id: 68",
          "Id: 4377",
          "Id: 1961",
          "Id: 3758",
          "Id: 3912",
          "Id: 4198",
          "Id: 3014",
          "Id: 4124",
          "Id: 150",
          "Id: 756",
          "Id: 1554",
          "Id: 4423",
          "Id: 3694",
          "Id: 1322",
          "Id: 4620",
          "Id: 1268",
          "Id: 3150",
          "Id: 376",
          "Id: 1096",
          "Id: 1782",
          "Id: 859",
          "Id: 3097",
          "Id: 2987",
          "Id: 2015",
          "Id: 378",
          "Id: 3960",
          "Id: 3305",
          "Id: 3651",
          "Id: 2111",
          "Id: 1434",
          "Id: 2042",
          "Id: 5015",
          "Id: 3172",
          "Id: 1419",
          "Id: 2215",
          "Id: 2384",
          "Id: 4050",
          "Id: 794",
          "Id: 4262",
          "Id: 841",
          "Id: 4724",
          "Id: 2877",
          "Id: 175",
          "Id: 3434",
          "Id: 2876",
          "Id: 927",
          "Id: 2407",
          "Id: 45",
          "Id: 3248",
          "Id: 4439",
          "Id: 4969",
          "Id: 4398",
          "Id: 896",
          "Id: 2373",
          "Id: 3295",
          "Id: 2022",
          "Id: 1879",
          "Id: 2240",
          "Id: 3906",
          "Id: 3258",
          "Id: 1702",
          "Id: 2592",
          "Id: 283",
          "Id: 4823",
          "Id: 1779",
          "Id: 3456",
          "Id: 5007",
          "Id: 5070",
          "Id: 3689",
          "Id: 4247",
          "Id: 4645",
          "Id: 3941",
          "Id: 2576",
          "Id: 2596",
          "Id: 3101",
          "Id: 2678",
          "Id: 1891",
          "Id: 2826",
          "Id: 4683",
          "Id: 4284",
          "Id: 1101",
          "Id: 1047",
          "Id: 4660",
          "Id: 2813",
          "Id: 2492",
          "Id: 3053",
          "Id: 99",
          "Id: 2157",
          "Id: 1421",
          "Id: 2644",
          "Id: 2614",
          "Id: 351",
          "Id: 4030",
          "Id: 3187",
          "Id: 1025",
          "Id: 4025",
          "Id: 718",
          "Id: 2835",
          "Id: 2856",
          "Id: 4487",
          "Id: 2648",
          "Id: 308",
          "Id: 3126",
          "Id: 833",
          "Id: 366",
          "Id: 1784",
          "Id: 3469",
          "Id: 4603",
          "Id: 4640",
          "Id: 2664",
          "Id: 949",
          "Id: 1200",
          "Id: 3154",
          "Id: 19",
          "Id: 2100",
          "Id: 4966",
          "Id: 668",
          "Id: 218",
          "Id: 3137",
          "Id: 438",
          "Id: 3786",
          "Id: 1212",
          "Id: 3669",
          "Id: 3454",
          "Id: 3605",
          "Id: 4934",
          "Id: 4835",
          "Id: 4105",
          "Id: 2902"
         ],
         "marker": {
          "color": [
           0.03705543142757898,
           0.07251333808281334,
           0.1769631554851816,
           0.4056712722941544,
           0.7820937696955298,
           0.6441229124864432,
           0.5179360508306745,
           0.6528268764960039,
           0.03752528047621537,
           0.1509301312395831,
           0.17286341367040917,
           0.06388876340430338,
           0.5835689236335317,
           0.30645836597525855,
           0.18951425867743982,
           0.06363183085223802,
           0.12199853220475135,
           0.02538204654609354,
           0.028810554780151938,
           0.02611239015119674,
           0.08918778731729099,
           0.13308674827566247,
           0.04405937057017874,
           0.03307243735271492,
           0.02611239015119674,
           0.4412055891460216,
           0.04724195975291668,
           0.2900748540668512,
           0.5908455322494783,
           0.032930026199125884,
           0.6883280939813806,
           0.10549590666313038,
           0.2565018089687796,
           0.03214576858445185,
           0.02538204654609354,
           0.02611239015119674,
           0.7116913582834984,
           0.030233218934939035,
           0.7177962087292918,
           0.5420522834379219,
           0.12656819320048696,
           0.17560559598925016,
           0.02611239015119674,
           0.06155921060441408,
           0.42544390744348304,
           0.52168653006826,
           0.1104627586345667,
           0.498009682643119,
           0.14461534110410737,
           0.029610004178276767,
           0.028810554780151938,
           0.029689845520181717,
           0.27816693003653586,
           0.05892423283530798,
           0.05630393447711394,
           0.4567718382801203,
           0.18162584310995034,
           0.6389415310903154,
           0.02611239015119674,
           0.2234806785783158,
           0.1443505245282599,
           0.7893679918585812,
           0.4199912037218164,
           0.12770560436984368,
           0.0959197124914502,
           0.16313018626069056,
           0.12770560436984368,
           0.1579413306867741,
           0.4806162206641261,
           0.7941841472133475,
           0.02611239015119674,
           0.12597427381981163,
           0.2911596913627409,
           0.08182970071845498,
           0.13088069020892493,
           0.2573559888847308,
           0.02611239015119674,
           0.6635540445954285,
           0.16678400195519455,
           0.8071144461302555,
           0.1994521981216939,
           0.37801978986541285,
           0.564982692543406,
           0.10171017828020493,
           0.08574027427930427,
           0.09522929899362609,
           0.3769804039889715,
           0.3718338169540077,
           0.4275604230428509,
           0.03173829706169644,
           0.031270722147915035,
           0.5505165736417384,
           0.47369504570463755,
           0.1366915805445304,
           0.032930026199125884,
           0.273769808259196,
           0.6904458224394674,
           0.5764548896415047,
           0.11272070160980513,
           0.4654883873595381,
           0.38623081519714886,
           0.4616472843264387,
           0.02538204654609354,
           0.04655102836904046,
           0.6558434237742555,
           0.028810554780151938,
           0.1574649803868725,
           0.02611239015119674,
           0.6730886434419696,
           0.03043188429002411,
           0.09764895840669759,
           0.08517298777698996,
           0.23967702678589287,
           0.2653271419744298,
           0.6810454922210387,
           0.5206025022514155,
           0.526651362899425,
           0.09487589819602178,
           0.18814780943701476,
           0.5950515355501926,
           0.11498179093132606,
           0.7807178247149008,
           0.13653903296119357,
           0.02611239015119674,
           0.3068582591619012,
           0.458226569340795,
           0.6033802681175006,
           0.02538204654609354,
           0.5975892469569405,
           0.5015066287222095,
           0.5828008689404117,
           0.3349946899017583,
           0.03307243735271492,
           0.08569298943905806,
           0.5980382031649363,
           0.3716527040061184,
           0.03834459560066273,
           0.6120787621347747,
           0.43689806594930913,
           0.02846943819504895,
           0.36845957694931913,
           0.02538204654609354,
           0.2519976026082788,
           0.0778537252973487,
           0.027402351847310474,
           0.02946404894086588,
           0.2636521557341558,
           0.3034965211722732,
           0.8183891927628543,
           0.02538204654609354,
           0.02538204654609354,
           0.6645124950467174,
           0.23720425939756162,
           0.7774437228954331,
           0.5126083199320097,
           0.335134829089159,
           0.30333095629723816,
           0.0355490914416688,
           0.030841096710926563,
           0.7076939696902664,
           0.5390891827816703,
           0.02538204654609354,
           0.28639472866627,
           0.7792252371297698,
           0.4722003560839701,
           0.20667234894894349,
           0.029378551861101797,
           0.8071144461302555,
           0.02611239015119674,
           0.29323913922759753,
           0.03214576858445185,
           0.029107825206048085,
           0.6179833004282295,
           0.02538204654609354,
           0.7144112412112957,
           0.14007154547664696,
           0.26795397385050995,
           0.5826581217234555,
           0.6079785112218905,
           0.5458627443033242,
           0.05571384995857529,
           0.05289416870475435,
           0.02538204654609354,
           0.02611239015119674,
           0.32210215814720916,
           0.4153564732868672,
           0.09684802384742601,
           0.3071110022540132,
           0.11408484861245244,
           0.1554322717459224,
           0.02611239015119674,
           0.14108011170784127,
           0.7763587412847293,
           0.5471135799909433,
           0.06553704104020086,
           0.5337744481238511,
           0.0467795366756609,
           0.7281655592328187,
           0.7021515523657006,
           0.03096264536716822,
           0.02611239015119674,
           0.5206025022514155,
           0.26413820544829186,
           0.24621364140558172,
           0.1964709290131354,
           0.6459728103713475,
           0.02611239015119674,
           0.7570135782452548,
           0.030131814623610254,
           0.02611239015119674,
           0.02732322887865856,
           0.08555303941749769,
           0.032930026199125884,
           0.4859578791231667,
           0.031949972611296146,
           0.03307243735271492,
           0.04203801050619634,
           0.4788859652945867,
           0.06212552948479095,
           0.03752528047621537,
           0.041201128458452314,
           0.03042080474180096,
           0.19257719000816145,
           0.02538204654609354,
           0.7131785091685826,
           0.06566535021236385,
           0.036212707637333155,
           0.031181231910738728,
           0.5090966944688231,
           0.5096072403637426,
           0.5252549789860691,
           0.7617246181564139,
           0.6788931469513305,
           0.498009682643119,
           0.47783394373412014,
           0.2995394868559643,
           0.7076939696902664,
           0.030690716260946115,
           0.32032347973779274,
           0.02611239015119674,
           0.032930026199125884,
           0.02538204654609354,
           0.12134932234663097,
           0.30525985340461376,
           0.47718057993623425,
           0.13240240839525946,
           0.5323230771578827,
           0.5387620267402687,
           0.02611239015119674,
           0.029378551861101797,
           0.5337744481238511,
           0.4339657045195607,
           0.03869986179619622,
           0.48537876555535575,
           0.6389528794623374,
           0.6703073350273189,
           0.22006200375487125,
           0.2745625585798369,
           0.36303423631884596,
           0.8336581648135821,
           0.20842771640256508,
           0.3031210048625442,
           0.6697393767004305,
           0.03802019716171288,
           0.03794055363257716,
           0.4383746054073399,
           0.7333853600449803,
           0.03040676053712832,
           0.22625450261228014,
           0.23015858067481085,
           0.11271780756847447,
           0.5939286410420773,
           0.35894562031696114,
           0.5035649066312525,
           0.2911596913627409,
           0.03794055363257716,
           0.12656819320048696,
           0.06553704104020086,
           0.4920148764215404,
           0.032930026199125884,
           0.03307243735271492,
           0.5385879234694736,
           0.03096264536716822,
           0.047676364039377736,
           0.030737631039951602,
           0.1017440524320809,
           0.7741622899177385,
           0.26210556794178425,
           0.3610692800435585,
           0.06566535021236385,
           0.5505165736417384,
           0.37568164392759834,
           0.03038861680822892,
           0.02611239015119674,
           0.2809815626077941,
           0.20529017421254978,
           0.12199853220475135,
           0.02538204654609354,
           0.23393786633726998,
           0.10202707163236165,
           0.13088069020892493,
           0.5691647745064408,
           0.1687048550442385,
           0.5158833594651633,
           0.12203794008141143,
           0.6722599086308991,
           0.30394853860418103,
           0.1285962494624131,
           0.031270722147915035,
           0.15219235308830836,
           0.02611239015119674,
           0.09684802384742601,
           0.7186464649819088,
           0.17027845597327806,
           0.2592774156001304,
           0.032930026199125884,
           0.5443730348631984,
           0.2889607263571589,
           0.18296135362038982,
           0.02538204654609354,
           0.02611239015119674,
           0.03540714392258485,
           0.09522929899362609,
           0.22978812012188052,
           0.3832486156105091,
           0.5250465628801823,
           0.6003702740304808,
           0.3068582591619012,
           0.09522929899362609,
           0.4178401562912519,
           0.06954998628863097,
           0.030313199320410864,
           0.34869879426516337,
           0.31361842684910096,
           0.5618772532097279,
           0.10737090216832972,
           0.030841096710926563,
           0.611814651982004,
           0.02538204654609354,
           0.07612046976724264,
           0.3602557245442662,
           0.4372864499991104,
           0.3268249255509277,
           0.1061333345504323,
           0.1769631554851816,
           0.3071172473111938,
           0.18157098708744665,
           0.19557631053136065,
           0.5699299592752305,
           0.03794055363257716,
           0.03214576858445185,
           0.02611239015119674,
           0.5952486231444847,
           0.054689792487325674,
           0.12308043591800281,
           0.21312069904630787,
           0.5360827733861164,
           0.030459913924318686,
           0.07971346553133872,
           0.06154484521912469,
           0.02611239015119674,
           0.10671420140293916,
           0.07346937234307542,
           0.5145840918816027,
           0.044340599345512176,
           0.4920148764215404,
           0.8749090770308694,
           0.04557273340518328,
           0.3195694791261286,
           0.5323177129844376,
           0.6080544815459944,
           0.030841096710926563,
           0.5097032251536054,
           0.1806875470720108,
           0.7752218590827441,
           0.7635143894071387,
           0.46016592531594736,
           0.4416804296198146,
           0.5242667409734969,
           0.04129537737295402,
           0.02611239015119674,
           0.28901048260383605,
           0.13088069020892493,
           0.778064418356352,
           0.028810554780151938,
           0.5589331238955005,
           0.5504296613620657,
           0.02703605745672477,
           0.041461472457777405,
           0.028810554780151938,
           0.07108545285864988,
           0.035758682548298226,
           0.15136712302192232,
           0.029829842299175676,
           0.2878163721639553,
           0.540020446734184,
           0.03307243735271492,
           0.6033802681175006,
           0.6327137277705696,
           0.09334184961020879,
           0.3733312631777753,
           0.03719394686170317,
           0.02611239015119674,
           0.6722581802131846,
           0.03307243735271492,
           0.03096264536716822,
           0.029107825206048085,
           0.15136712302192232,
           0.09522929899362609,
           0.31480106855533385,
           0.05492036885630367,
           0.13248399752594134,
           0.02703605745672477,
           0.5245692174902162,
           0.04001694247591328,
           0.044306030874396815,
           0.09522929899362609,
           0.11345287832165081,
           0.6625393586546868,
           0.2993472835791526,
           0.02538204654609354,
           0.6128676461922362,
           0.3872642290808501,
           0.6139441138341235,
           0.18534360880937795,
           0.04245145902136095,
           0.20529017421254978,
           0.29766852410014066,
           0.28249207790403297,
           0.13837853439691386,
           0.11017015813998499,
           0.8332688585886254,
           0.17957411577645244,
           0.0370828025807562,
           0.03824674272839561,
           0.590282822774618,
           0.5206025022514155,
           0.12596458203220384,
           0.031270722147915035,
           0.043683124767164426,
           0.7785320934848606,
           0.577902938232583,
           0.14525658740899083,
           0.09370592830873506,
           0.10711629025435919,
           0.033531218341715185,
           0.13240240839525946,
           0.3924526333038388,
           0.032930026199125884,
           0.12727417995394066,
           0.15472904090359074,
           0.3542270670993309,
           0.8203644837945772,
           0.03096264536716822,
           0.12308043591800281,
           0.15136712302192232,
           0.029427955635743065,
           0.03714025000882871,
           0.15423134194102397,
           0.6713654983720199,
           0.7509896408910115,
           0.029829842299175676,
           0.08962609331136223,
           0.02611239015119674,
           0.12415325150542006,
           0.05021493212752268,
           0.14981704936576992,
           0.02611239015119674,
           0.43393048517808236,
           0.02946404894086588,
           0.5511900212769177,
           0.4652802855103896,
           0.3579595887456769,
           0.22875083184961434,
           0.13240240839525946,
           0.540020446734184,
           0.1692876003593719,
           0.02611239015119674,
           0.02703605745672477,
           0.11567267692665978,
           0.02538204654609354,
           0.10722900777998431,
           0.5980382031649363,
           0.03179759857517806,
           0.1249767446560981,
           0.21453660237883607,
           0.18295931478635122,
           0.02946404894086588,
           0.45986877619232647,
           0.0467795366756609,
           0.030313199320410864,
           0.2603069169891883,
           0.110103401717526,
           0.04434673374834145,
           0.1951136124912893,
           0.02611239015119674,
           0.4956453504617391,
           0.02611239015119674,
           0.8526579670404412,
           0.7475877049556394,
           0.3769804039889715,
           0.028526001667599284,
           0.5954093117681976,
           0.02538204654609354,
           0.5778633139942073,
           0.28050241875567206,
           0.7575858143856259,
           0.02538204654609354,
           0.029378551861101797,
           0.22132779512317974,
           0.02538204654609354,
           0.6663784256089816,
           0.5980382031649363,
           0.02611239015119674,
           0.13441931694445822,
           0.037731483959955674,
           0.829432344172175,
           0.044340599345512176,
           0.34747039209045005,
           0.6083753908228546,
           0.6628764801104429,
           0.1644795907221662,
           0.539518892907857,
           0.07633724279403742,
           0.02946404894086588,
           0.03719394686170317,
           0.15136712302192232,
           0.7028229764630743,
           0.02538204654609354,
           0.0793873523411026,
           0.8091752288066977,
           0.02611239015119674,
           0.6086524347982973,
           0.031270722147915035,
           0.2548301847593181,
           0.6379016413914156,
           0.08240157250098089,
           0.02538204654609354,
           0.10268838516336963,
           0.678121065776764,
           0.035758682548298226,
           0.2788511305720147,
           0.22638179734877575,
           0.028526001667599284,
           0.031270722147915035,
           0.39826090705405603,
           0.2811600543075891,
           0.02821481995403673,
           0.032930026199125884,
           0.5285285614278192,
           0.8071144461302555,
           0.3427957315330199,
           0.715941157975645,
           0.02611239015119674,
           0.13807464412999618,
           0.11800030732910892,
           0.7727361577681301,
           0.2310973036369297,
           0.02538204654609354,
           0.7930130191911697,
           0.16428577401483258,
           0.032930026199125884,
           0.10202707163236165,
           0.032930026199125884,
           0.5977590007717875,
           0.4326786140636061,
           0.5946639267234171,
           0.03307243735271492,
           0.030841096710926563,
           0.273769808259196,
           0.02538204654609354,
           0.29223101460809275,
           0.02946404894086588,
           0.6033802681175006,
           0.12770560436984368,
           0.6628764801104429,
           0.44796200760729793,
           0.37514056965240994,
           0.19691357724146716,
           0.5754312339873909,
           0.1216686063535874,
           0.03307243735271492,
           0.08307028778374763,
           0.7205766766996521,
           0.7108297768488303,
           0.08962609331136223,
           0.03752528047621537,
           0.10671420140293916,
           0.02611239015119674,
           0.02459655607099628,
           0.6161519571629607,
           0.30009609999098646,
           0.12656819320048696,
           0.029689845520181717,
           0.02538204654609354,
           0.6963859119997229,
           0.32573559500318094,
           0.22550269116892294,
           0.10933783241068441,
           0.1980772647501723,
           0.5495892764816017,
           0.6940756338554162,
           0.7816431112166259,
           0.3741966574025041,
           0.5582838200624355,
           0.3157139840540492,
           0.5779196462261588,
           0.0786959348522675,
           0.3808864480301688,
           0.7045154581640941,
           0.5986591520937655,
           0.5337744481238511,
           0.7740948945541837,
           0.6326095772824828,
           0.5315563142962714,
           0.8911370082456204,
           0.3738739093371649,
           0.30110683979211317,
           0.0833217924130902,
           0.2747861236580522,
           0.31541123100856905,
           0.7882402416728469,
           0.03214576858445185,
           0.3298328955410033,
           0.7653574646853221,
           0.11324993664745332,
           0.02611239015119674,
           0.05954869041349259,
           0.029378551861101797,
           0.6002518140348733,
           0.02611239015119674,
           0.2828792436414354,
           0.6628764801104429,
           0.03411318529134913,
           0.02538204654609354,
           0.03166429372616153,
           0.23901657291928136,
           0.3421774556711263,
           0.21048582278637776,
           0.4842168843654349,
           0.02538204654609354,
           0.30841865701394583,
           0.08495198832332378,
           0.030737631039951602,
           0.5534420236330246,
           0.02611239015119674,
           0.13150843144974161,
           0.16737165368401788,
           0.6161519571629607,
           0.5003226159055586,
           0.3804963215686087,
           0.4128402033477564,
           0.5839296514641457,
           0.06909144440860873,
           0.02611239015119674,
           0.7042346213830216,
           0.5642812998649207,
           0.7025655659895944,
           0.2950280222301225,
           0.02946404894086588,
           0.6119563390088032,
           0.07203636150430544,
           0.02946404894086588,
           0.8477245865794757,
           0.553689654430878,
           0.358318961731099,
           0.7151302184662124,
           0.30280799320594337,
           0.02611239015119674,
           0.49245528520925613,
           0.1974555109857618,
           0.16555431284360778,
           0.02611239015119674,
           0.028526001667599284,
           0.15366067390817384,
           0.02611239015119674,
           0.15748132198929407,
           0.22167620394404047,
           0.02946404894086588,
           0.6469602494001949,
           0.1025570907316305,
           0.5151190382065827,
           0.8588482586139752,
           0.14461534110410737,
           0.032930026199125884,
           0.34237599922339446,
           0.02538204654609354,
           0.02538204654609354,
           0.3272862963615538,
           0.5405832231297797,
           0.4641431445837377,
           0.7756706129358358,
           0.22624704471333662,
           0.22640922902246438,
           0.029378551861101797,
           0.14651841049127748,
           0.615076168432764,
           0.028526001667599284,
           0.10959746096672371,
           0.5425829344079979,
           0.02611239015119674,
           0.0337377359720131,
           0.39834440894687584,
           0.04217096787398719,
           0.276140750981786,
           0.03307243735271492,
           0.7082096141933532,
           0.23323136605225872,
           0.12306085324930044,
           0.582968428805863,
           0.1769631554851816,
           0.10959746096672371,
           0.08068805883543899,
           0.4317673133168846,
           0.030331299429368103,
           0.10036189607342876,
           0.1708313057259861,
           0.02538204654609354,
           0.02538204654609354,
           0.22006200375487125,
           0.6551590396209398,
           0.4324033748742606,
           0.09334184961020879,
           0.14689036128410138,
           0.032930026199125884,
           0.8897215800972564,
           0.2621694392608742,
           0.19740975023721818,
           0.13715001948867833,
           0.29495246618198495,
           0.20907758063532064,
           0.1314124358642189,
           0.02538204654609354,
           0.16744625703197089,
           0.13248399752594134,
           0.7080066154928694,
           0.5473803640242476,
           0.08159805700567911,
           0.3002812388436183,
           0.7172515122118721,
           0.5324891560291256,
           0.1403285873160144,
           0.11295604921033212,
           0.032930026199125884,
           0.12770560436984368,
           0.02611239015119674,
           0.06194945321658919,
           0.6766674119499124,
           0.11485862781108219,
           0.7966195920374286,
           0.06939577648668545,
           0.4611753262027569,
           0.02703605745672477,
           0.02611239015119674,
           0.5141846558290749,
           0.03096264536716822,
           0.24358123682133265,
           0.8050280837962398,
           0.29748943426198604,
           0.619429166645771,
           0.3094290835138672,
           0.13248399752594134,
           0.7419089238855697,
           0.5917993477418649,
           0.34365957559087773,
           0.7715928244440446,
           0.7312157673614198,
           0.3764583113198135,
           0.7752218590827441,
           0.1313094446652799,
           0.6811297173272584,
           0.7629447338330455,
           0.02538204654609354,
           0.7009848830860501,
           0.44254562578559675,
           0.5963115659961935,
           0.032405332892480765,
           0.035109865212696274,
           0.884170384897653,
           0.1104627586345667,
           0.1512402101273437,
           0.02946404894086588,
           0.2559123548753513,
           0.02538204654609354,
           0.07466573923603355,
           0.13467245961574717,
           0.7116618029069826,
           0.02538204654609354,
           0.12479984060421348,
           0.539830539915203,
           0.09918474725706716,
           0.044340599345512176,
           0.5379914112579582,
           0.04557273340518328,
           0.5580849626370673,
           0.030029593130772744,
           0.6238356526419734,
           0.7103168037495052,
           0.13088069020892493,
           0.14461534110410737,
           0.4317673133168846,
           0.04232052917692005,
           0.02611239015119674,
           0.07612046976724264,
           0.02538204654609354,
           0.6057584401319339,
           0.577902938232583,
           0.053007978590335667,
           0.0683355593967638,
           0.02703605745672477,
           0.5445790342315121,
           0.10671420140293916,
           0.04557273340518328,
           0.5850696872738715,
           0.02611239015119674,
           0.2322966423543414,
           0.02538204654609354,
           0.02611239015119674,
           0.03794055363257716,
           0.12284035229807194,
           0.3846863464430136,
           0.052784675706561444,
           0.5720471713026143,
           0.3535887426650486,
           0.02611239015119674,
           0.5453700778629755,
           0.14276118936482932,
           0.43188308179622664,
           0.6086524347982973,
           0.47455242150565263,
           0.22978956165065867,
           0.23127552624785513,
           0.4956453504617391,
           0.7292814800328227,
           0.02611239015119674,
           0.509174825379616,
           0.02611239015119674,
           0.3182543044552696,
           0.20067918456595224,
           0.029427955635743065,
           0.02611239015119674,
           0.044340599345512176,
           0.8203644837945772,
           0.02611239015119674,
           0.11735219250704351,
           0.7629351820732262,
           0.03627348750092042,
           0.8416870685484825,
           0.028810554780151938,
           0.6542273819065747,
           0.060309672792601195,
           0.03096264536716822,
           0.42255893858472404,
           0.18157098708744665,
           0.02538204654609354,
           0.12373762461788923,
           0.1803825630000421,
           0.03096264536716822,
           0.08429893765216134,
           0.6722581802131846,
           0.10202707163236165,
           0.08331625954303025,
           0.12770560436984368,
           0.02538204654609354,
           0.2613919616644484,
           0.08937131601602097,
           0.02538204654609354,
           0.15270383131646767,
           0.030313199320410864,
           0.18295931478635122,
           0.6938469351487814,
           0.4346517468326143,
           0.09206585022968891,
           0.029107825206048085,
           0.12203794008141143,
           0.6425797615246136,
           0.8183891927628543,
           0.5697242887740757,
           0.5519860020526479,
           0.8496935615349992,
           0.1502845615472762,
           0.02538204654609354,
           0.19929164123489834,
           0.03212038780686914,
           0.1769631554851816,
           0.6792805343115565,
           0.10108899399727167,
           0.43242341439981696,
           0.15472904090359074,
           0.87167668980557,
           0.02611239015119674,
           0.06864201990096216,
           0.3867523411811639,
           0.539518892907857,
           0.788800199135388,
           0.0928608179828809,
           0.04557273340518328,
           0.03834865535537879,
           0.541216278952442,
           0.6840296127403317,
           0.1248183770909872,
           0.8923940419645079,
           0.02611239015119674,
           0.13248399752594134,
           0.03166429372616153,
           0.033531218341715185,
           0.6840296127403317,
           0.028526001667599284,
           0.028526001667599284,
           0.341035468948762,
           0.02611239015119674,
           0.07971346553133872,
           0.7756706129358358,
           0.0772656351111986,
           0.03752528047621537,
           0.12770560436984368,
           0.02538204654609354,
           0.1769631554851816,
           0.4687381966257207,
           0.12983221814885287,
           0.02538204654609354,
           0.39128751471942746,
           0.26791942616987197,
           0.02538204654609354,
           0.09833365525036374,
           0.6265861538132099,
           0.15041996017881407,
           0.5255131230856073,
           0.0355618444865338,
           0.23570711461668745,
           0.14630463806426505,
           0.032930026199125884,
           0.22973280369504512,
           0.5579532180372707,
           0.03700601012641876,
           0.5455418091643031,
           0.04724195975291668,
           0.37977470873682734,
           0.27438248542519295,
           0.13527047225661426,
           0.7727955804726684,
           0.031270722147915035,
           0.043366411799502055,
           0.49852830078285615,
           0.02538204654609354,
           0.028810554780151938,
           0.36209310646816056,
           0.040673268657096834,
           0.3443707594669944,
           0.6189434804571197,
           0.029378551861101797,
           0.6226309805706439,
           0.15760415876128525,
           0.036212707637333155,
           0.25729402116109557,
           0.6721094576800547,
           0.8921902740245381,
           0.03794055363257716,
           0.7424792667343508,
           0.644641506275636,
           0.12308043591800281,
           0.4270835817875285,
           0.030313199320410864,
           0.02611239015119674,
           0.1354990642716163,
           0.3533601648833936,
           0.5980382031649363,
           0.5250475558040054,
           0.5882475951729657,
           0.5228271783880845,
           0.5655972254101098,
           0.30518028467389363,
           0.4460310802003649,
           0.03752528047621537,
           0.02611239015119674,
           0.2296646074931798,
           0.09568638158709267,
           0.5387890478184231,
           0.03473745399462814,
           0.7204261273625561,
           0.03752528047621537,
           0.04978984718665301,
           0.02611239015119674,
           0.6042354787185915,
           0.34120875332841993,
           0.02538204654609354,
           0.02538204654609354,
           0.5997636642028106,
           0.02538204654609354,
           0.044340599345512176,
           0.06147422410036017,
           0.028742987393903296,
           0.06347773827096022,
           0.21662323386649224,
           0.15667389033712023,
           0.18630638525238102,
           0.02538204654609354,
           0.08151073094895706,
           0.23809440070724008,
           0.42174598039262723,
           0.10724716312577348,
           0.12308043591800281,
           0.13150843144974161,
           0.2681451458931987,
           0.8785217998704016,
           0.5793698188444671,
           0.7007506396745239,
           0.457710613433995,
           0.3063282930485914,
           0.32909698283662847,
           0.22132779512317974,
           0.042633553670058125,
           0.23610236094873036,
           0.02611239015119674,
           0.07690058968598816,
           0.6444320099517762,
           0.13957596397650174,
           0.02538204654609354,
           0.02538204654609354,
           0.14147603945513115,
           0.12525504796996167,
           0.3418431463832907
          ],
          "coloraxis": "coloraxis",
          "line": {
           "color": "white",
           "width": 0.8
          },
          "opacity": 0.8,
          "size": 10
         },
         "mode": "markers",
         "type": "scatter",
         "x": [
          31,
          40,
          8,
          79,
          75,
          79,
          56,
          69,
          7,
          1.48,
          37,
          3,
          60,
          51,
          57,
          43,
          42,
          10,
          26,
          3,
          42,
          44,
          6,
          16,
          23,
          52,
          9,
          41,
          72,
          12,
          56,
          42,
          39,
          28,
          17,
          1.16,
          63,
          37,
          66,
          56,
          47,
          43,
          22,
          82,
          46,
          66,
          9,
          63,
          1.24,
          16,
          19,
          2,
          80,
          5,
          38,
          53,
          46,
          82,
          27,
          52,
          47,
          78,
          71,
          19,
          43,
          31,
          20,
          13,
          47,
          80,
          5,
          23,
          52,
          43,
          23,
          47,
          7,
          67,
          52,
          79,
          54,
          68,
          69,
          44,
          38,
          17,
          54,
          62,
          70,
          5,
          32,
          60,
          78,
          23,
          21,
          51,
          78,
          78,
          23,
          65,
          57,
          50,
          4,
          36,
          71,
          12,
          60,
          1.88,
          69,
          24,
          20,
          40,
          52,
          52,
          62,
          58,
          65,
          40,
          36,
          60,
          52,
          57,
          32,
          5,
          70,
          52,
          57,
          0.32,
          50,
          54,
          69,
          58,
          17,
          38,
          59,
          52,
          33,
          65,
          50,
          33,
          49,
          9,
          47,
          38,
          24,
          35,
          51,
          52,
          81,
          8,
          20,
          82,
          82,
          57,
          67,
          58,
          65,
          36,
          21,
          59,
          68,
          19,
          55,
          76,
          61,
          50,
          24,
          77,
          23,
          61,
          28,
          21,
          50,
          1.08,
          68,
          2,
          51,
          67,
          54,
          52,
          38,
          19,
          18,
          14,
          50,
          81,
          3,
          47,
          32,
          54,
          1.8,
          47,
          79,
          58,
          38,
          63,
          36,
          74,
          59,
          31,
          7,
          60,
          31,
          74,
          53,
          61,
          20,
          73,
          31,
          7,
          14,
          42,
          32,
          74,
          27,
          4,
          37,
          65,
          38,
          2,
          35,
          18,
          67,
          5,
          61,
          38,
          8,
          32,
          58,
          60,
          51,
          81,
          78,
          61,
          69,
          64,
          61,
          35,
          46,
          15,
          31,
          26,
          39,
          66,
          59,
          26,
          69,
          66,
          12,
          12,
          63,
          71,
          29,
          45,
          67,
          72,
          19,
          56,
          62,
          78,
          50,
          55,
          54,
          18,
          32,
          55,
          75,
          23,
          45,
          55,
          39,
          69,
          82,
          57,
          50,
          18,
          47,
          38,
          65,
          13,
          17,
          67,
          15,
          37,
          19,
          22,
          72,
          53,
          63,
          40,
          62,
          50,
          21,
          9,
          53,
          51,
          43,
          2,
          39,
          22,
          29,
          67,
          60,
          64,
          19,
          76,
          43,
          1.48,
          34,
          34,
          18,
          3,
          75,
          44,
          53,
          31,
          72,
          61,
          54,
          5,
          1.24,
          36,
          27,
          47,
          42,
          50,
          64,
          70,
          20,
          53,
          38,
          8,
          82,
          54,
          82,
          58,
          30,
          71,
          2,
          41,
          50,
          81,
          77,
          41,
          13,
          47,
          52,
          48,
          73,
          10,
          30,
          28,
          55,
          39,
          1.16,
          44,
          54,
          9,
          39,
          35,
          32,
          28,
          42,
          48,
          31,
          65,
          80,
          9,
          57,
          75,
          71,
          20,
          81,
          52,
          80,
          70,
          57,
          58,
          67,
          5,
          26,
          39,
          27,
          61,
          21,
          54,
          80,
          13,
          15,
          21,
          32,
          13,
          9,
          23,
          55,
          59,
          11,
          60,
          69,
          40,
          53,
          24,
          26,
          81,
          23,
          31,
          26,
          3,
          29,
          45,
          38,
          25,
          15,
          64,
          11,
          30,
          26,
          31,
          78,
          49,
          12,
          69,
          58,
          62,
          37,
          37,
          51,
          59,
          48,
          38,
          39,
          79,
          55,
          62,
          32,
          53,
          60,
          49,
          25,
          35,
          69,
          61,
          52,
          44,
          41,
          31,
          22,
          75,
          30,
          32,
          42,
          53,
          78,
          33,
          0.64,
          4,
          22,
          32,
          49,
          56,
          75,
          24,
          40,
          7,
          43,
          36,
          55,
          3,
          55,
          30,
          57,
          56,
          40,
          77,
          31,
          57,
          65,
          35,
          19,
          41,
          5,
          42,
          59,
          24,
          53,
          56,
          56,
          35,
          54,
          37,
          12,
          50,
          29,
          36,
          47,
          14,
          60,
          2,
          79,
          68,
          54,
          30,
          66,
          13,
          65,
          47,
          70,
          14,
          26,
          79,
          18,
          68,
          64,
          0.08,
          33,
          0.8,
          79,
          14,
          60,
          65,
          59,
          33,
          58,
          40,
          11,
          27,
          3,
          65,
          2,
          42,
          81,
          0.8,
          51,
          34,
          58,
          80,
          35,
          5,
          45,
          78,
          9,
          45,
          54,
          24,
          33,
          46,
          45,
          12,
          25,
          69,
          79,
          49,
          75,
          4,
          64,
          48,
          73,
          44,
          7,
          77,
          78,
          20,
          28,
          13,
          65,
          52,
          76,
          16,
          12,
          51,
          0.24,
          53,
          5,
          59,
          16,
          57,
          52,
          62,
          51,
          55,
          47,
          27,
          40,
          69,
          73,
          39,
          8,
          26,
          1.8,
          22,
          63,
          39,
          46,
          32,
          3,
          59,
          41,
          46,
          57,
          63,
          66,
          57,
          71,
          60,
          58,
          60,
          53,
          42,
          52,
          65,
          55,
          57,
          80,
          57,
          66,
          78,
          66,
          82,
          39,
          82,
          55,
          69,
          26,
          63,
          73,
          22,
          18,
          28,
          2,
          56,
          1.48,
          52,
          62,
          15,
          0.24,
          4,
          73,
          40,
          51,
          56,
          8,
          57,
          38,
          20,
          65,
          13,
          47,
          40,
          62,
          67,
          43,
          56,
          66,
          41,
          26,
          81,
          78,
          55,
          48,
          14,
          69,
          32,
          33,
          72,
          67,
          62,
          67,
          47,
          2,
          45,
          37,
          37,
          14,
          33,
          66,
          32,
          42,
          43,
          33,
          78,
          51,
          57,
          76,
          8,
          17,
          48,
          5,
          23,
          48,
          73,
          66,
          59,
          45,
          38,
          20,
          15,
          64,
          31,
          40,
          67,
          2,
          32,
          59,
          6,
          39,
          18,
          59,
          23,
          56,
          78,
          13,
          39,
          42,
          47,
          30,
          51,
          49,
          8,
          31,
          19,
          68,
          77,
          39,
          36,
          24,
          79,
          42,
          45,
          33,
          55,
          44,
          34,
          30,
          37,
          17,
          59,
          75,
          45,
          45,
          64,
          64,
          53,
          45,
          16,
          23,
          28,
          25,
          70,
          18,
          78,
          39,
          56,
          15,
          26,
          51,
          30,
          55,
          78,
          55,
          67,
          80,
          17,
          68,
          51,
          75,
          81,
          68,
          76,
          76,
          6,
          61,
          73,
          1.72,
          82,
          70,
          63,
          28,
          21,
          80,
          2,
          34,
          27,
          65,
          17,
          46,
          51,
          78,
          17,
          45,
          75,
          49,
          20,
          56,
          1.72,
          61,
          20,
          64,
          59,
          31,
          4,
          48,
          10,
          29,
          40,
          16,
          80,
          57,
          65,
          43,
          22,
          59,
          16,
          7,
          58,
          33,
          39,
          11,
          8,
          33,
          41,
          68,
          39,
          57,
          59,
          5,
          61,
          46,
          81,
          51,
          71,
          67,
          45,
          57,
          61,
          2,
          64,
          8,
          40,
          50,
          35,
          30,
          23,
          80,
          32,
          21,
          72,
          27,
          72,
          25,
          80,
          37,
          13,
          80,
          51,
          8,
          46,
          46,
          18,
          41,
          81,
          18,
          18,
          13,
          1,
          47,
          39,
          8,
          48,
          35,
          56,
          58,
          48,
          48,
          20,
          25,
          80,
          77,
          58,
          69,
          70,
          48,
          5,
          49,
          30,
          14,
          60,
          42,
          61,
          43,
          81,
          1.56,
          61,
          69,
          59,
          58,
          53,
          8,
          37,
          81,
          55,
          25,
          79,
          18,
          22,
          11,
          28,
          55,
          32,
          20,
          73,
          0.88,
          41,
          59,
          43,
          1.32,
          15,
          11,
          14,
          52,
          25,
          7,
          57,
          45,
          8,
          44,
          57,
          43,
          67,
          29,
          26,
          42,
          12,
          53,
          81,
          32,
          72,
          14,
          82,
          64,
          53,
          76,
          35,
          11,
          46,
          4,
          27,
          62,
          0.08,
          57,
          68,
          1,
          56,
          42,
          3,
          53,
          58,
          79,
          32,
          72,
          59,
          5,
          75,
          23,
          0.48,
          32,
          78,
          59,
          49,
          48,
          63,
          78,
          68,
          69,
          1.64,
          5,
          38,
          43,
          48,
          29,
          69,
          6,
          9,
          18,
          58,
          47,
          9,
          24,
          53,
          5,
          22,
          34,
          14,
          17,
          52,
          30,
          54,
          5,
          43,
          37,
          69,
          31,
          1.32,
          47,
          47,
          76,
          65,
          57,
          52,
          54,
          48,
          76,
          10,
          53,
          1.8,
          23,
          71,
          62,
          1.88,
          1.32,
          49,
          56,
          78
         ],
         "y": [
          -1.7813036116947853,
          -1.2209376205198268,
          -1.7542398203222334,
          1.3192143451674239,
          1.314164941462909,
          1.5307050751699978,
          0.43523123932897134,
          1.1620696897204779,
          -1.701306524264327,
          -1.4042016652128277,
          -2.084803970840452,
          -2.0374776984313288,
          0.35612852074399054,
          -0.2726448855840801,
          0.32274964657169153,
          -1.4326810776117591,
          -1.6425830943867903,
          -2.2826498961102955,
          -2.8249242507842847,
          -2.4202439320635385,
          -1.6480566317059995,
          -1.2603230619030659,
          -2.1049205049265676,
          -3.0707798460390587,
          -2.8531938045591168,
          -0.19293914619394148,
          -2.0817523448480513,
          -1.194713360935411,
          1.2105501486193884,
          -2.4465803029666118,
          0.44194526903926473,
          -1.6221327383212858,
          -1.232492592381678,
          -2.984020902795618,
          -2.7012117061234204,
          -2.225281731497942,
          0.9440848242025478,
          -2.1884250922529183,
          0.7513924218724589,
          0.3727168167165605,
          -0.7990744978508757,
          -1.326240525903376,
          -2.824842739474487,
          0.4494344094505827,
          -0.4535334474268642,
          0.5709983382195877,
          -1.8371778145370945,
          0.6203423796753108,
          -1.7225753215905588,
          -2.5101514229845163,
          -2.8943114102997027,
          -2.439301678442674,
          1.1684509205192886,
          -1.9931962683002,
          -2.1195707693116366,
          -0.17798537775486453,
          -0.4033277264234708,
          1.0692964062346864,
          -2.9409992041830653,
          -0.307524607615814,
          -0.6380181573955614,
          1.7226889443500757,
          1.0950331117049577,
          -2.3147813108028803,
          -1.527855812764892,
          -2.438635962958669,
          -2.2937510207876466,
          -1.7582323201610726,
          -0.4166478904881344,
          1.6655238569591826,
          -2.2588575557345507,
          -2.4234584656847264,
          -0.17808100340023456,
          -1.0783881786122438,
          -2.3174354559253336,
          -0.6426219677378647,
          -2.2714193193601835,
          0.6919347631999213,
          -0.3021682455939393,
          1.7458187308037922,
          -0.32942449560849735,
          0.9494709714880168,
          1.1387765910993322,
          -0.8997970048004333,
          -1.9601845713853963,
          -2.4302933837684066,
          -0.2349437129399807,
          0.07259298237368839,
          1.088056028728089,
          -2.148588869457619,
          -2.949646495639904,
          0.6966796538124619,
          1.6075516678445019,
          -2.301423393121084,
          -2.4354620222394465,
          -0.377229952031463,
          1.8499544127776666,
          1.8136442811727254,
          -2.534869226767372,
          0.8447711712136845,
          0.6971674862511261,
          -0.06734218815785291,
          -2.317189664886023,
          -2.5801218241582204,
          0.9614594470766548,
          -2.559898331140325,
          0.04012231222433961,
          -2.2589275455046707,
          1.2338583832082546,
          -2.9421615946175566,
          -2.4439368572134486,
          -1.8939162589868515,
          -0.4208561454695599,
          -0.3041378334031046,
          0.689426831150626,
          0.5664357582895739,
          0.631824917919477,
          -1.6874763263156445,
          -1.9412828345184738,
          0.9821300173502694,
          -0.42423241909014336,
          0.8230311932463972,
          -2.3711483520589143,
          -2.2330126975672435,
          0.8736534933491793,
          -0.08651050595319902,
          0.49028414284169014,
          -2.28553866356314,
          -0.03351765672230857,
          0.029507672796966426,
          1.0583836566008131,
          0.44158536399734705,
          -3.0494922881761286,
          -2.1651626309629988,
          0.2241721769025986,
          -0.21644014116516974,
          -2.5431496144843786,
          0.5673431237066545,
          -0.1273400784670557,
          -2.7981095511073404,
          -0.572025847759628,
          -2.284542919857927,
          -0.6545052818388158,
          -1.8061417285766679,
          -2.7494145146040414,
          -2.9276546631197236,
          -0.38942088672061953,
          -0.29084600105242636,
          1.8956635743360069,
          -2.3176644932638353,
          -2.749396686931096,
          0.7277821486275532,
          0.7101779176880717,
          0.7930867642937088,
          0.5429814500392494,
          -0.028576566274425577,
          0.4224586141463688,
          -2.113198976969998,
          -2.8631701355441477,
          0.857423142031089,
          1.1057612499337925,
          -2.796111570219101,
          -0.07636096279926224,
          1.4373307677127614,
          0.19088409021831357,
          -0.4154811967384175,
          -2.9493634230980774,
          1.834352955104575,
          -2.8531938045591168,
          0.36265370341971304,
          -2.98360256961798,
          -2.1802117217466432,
          0.06651150242038684,
          -2.3398580636874913,
          1.2154756491377545,
          -2.0891688250688762,
          -0.1753075990632538,
          0.38949717388678484,
          -0.032003056369884875,
          0.004918686995054235,
          -1.5726114778926483,
          -2.650140180078117,
          -2.729462365037181,
          -2.4121150640707865,
          -0.44629957162252953,
          1.28834229145727,
          -1.803375865406881,
          -0.3873441225978067,
          -2.471150230686955,
          -0.3539071391713438,
          -2.2513893153742086,
          -0.47485377251173355,
          1.8929000768671245,
          0.7888266982579036,
          -1.9315528964626405,
          0.7144276737416371,
          -2.336261570853339,
          1.643730110216398,
          0.9842947865948736,
          -2.9086667269190247,
          -2.381663846804765,
          0.6160623526691167,
          -1.8734326650491382,
          1.0243263107584744,
          -0.5018620779546481,
          0.6177761631090917,
          -2.9418654686871992,
          1.565871490757771,
          -2.9376543826119947,
          -2.2714193193601835,
          -2.8057788574224474,
          -1.6261156831720083,
          -2.890836926362869,
          1.1166174936063742,
          -2.287992349421807,
          -2.5916898154165433,
          -2.538906937134401,
          0.5593556550018453,
          -2.0155657074061257,
          -1.646918698249984,
          -2.8051892652304624,
          -2.8348223913823705,
          0.37999757639310977,
          -2.3396831099550024,
          0.8229924198336289,
          -1.8097800592469386,
          -1.6081285459599433,
          -2.775543546354783,
          0.514784188125226,
          0.8011083073105694,
          0.12643637449701373,
          1.558393414049229,
          1.6429986091894617,
          0.5266783107302537,
          0.8636813397531518,
          0.19874869487219676,
          0.8661569892087766,
          -2.8325188345193033,
          -0.5929742020514139,
          -2.4208397949619136,
          -2.989357915058561,
          -2.796111570219101,
          -1.429628404818793,
          0.2983603567211437,
          0.6508009085786848,
          -2.482020910179649,
          0.9862169658822078,
          0.7170056134272133,
          -2.418420749773824,
          -2.4356073540034675,
          0.7137910173917108,
          0.9291895146486779,
          -2.933823633203444,
          -0.6153985573519839,
          0.9607690079484965,
          1.534565478605642,
          -2.1391677556681237,
          0.035252431216417704,
          0.580960238012825,
          1.8821981337211386,
          -0.4509097712314362,
          0.182931354528984,
          0.15560767870260572,
          -2.3090879708667407,
          -2.8671867111486775,
          0.2844722555518961,
          1.3961917634105487,
          -2.8315706690342552,
          -0.7201177327464582,
          -0.066585666310364,
          -1.9250150394747874,
          0.8965002787269937,
          0.7388660597402245,
          0.5662156673580033,
          -0.2639396474049323,
          -2.8202058445661944,
          -0.7982409430669442,
          -1.8683342092365083,
          0.7184169307961734,
          -2.3727624776901943,
          -3.008087092031632,
          0.6502546618685554,
          -2.439739412263827,
          -2.763679616797274,
          -2.503376484400415,
          -2.6111624881055957,
          1.38866480991137,
          -0.42800471734697004,
          0.11689093560941963,
          -1.7190691342003124,
          0.6084130187655636,
          -0.04998022807317088,
          -2.936121937310598,
          -2.2500476397279234,
          -0.22962431885237677,
          -0.4672092108619426,
          -1.6437371832937093,
          -2.3152595195325336,
          -1.4901082160413313,
          -2.2615974848954155,
          -2.321585156615018,
          0.7634302016727529,
          0.37664722807103523,
          0.6342849841845718,
          -2.2811736273622043,
          1.5299096646254289,
          -1.0894802007466968,
          -1.45529286139179,
          -2.9413688914693257,
          -2.2679958887181177,
          -2.418905380072676,
          -1.8061345605068428,
          1.267857633853149,
          -1.2866348048950946,
          -0.4123935253268422,
          -2.920661249007083,
          1.2695478572623902,
          0.5089338046657682,
          -0.3150950786466154,
          -2.3225371092327665,
          -2.432995313927453,
          -2.550795930415122,
          -2.432490686279432,
          -0.6170357238549474,
          -1.091620100170827,
          -0.2487073550050587,
          0.48387607415315026,
          0.8695567242739939,
          -2.408069048094206,
          -0.2642563900419998,
          -1.805716022088301,
          -2.473265841921996,
          0.5468436469911898,
          -0.24586224891282132,
          0.9607797929433972,
          0.1815437211793594,
          -2.842827448749039,
          1.0588168424869195,
          -2.3944286886656743,
          -1.4459813608657406,
          -0.25932683052643674,
          1.5419139983967876,
          1.1649444509955043,
          -1.8372904505890748,
          -1.7560297288795739,
          -0.46791336914592363,
          -0.46909886570723025,
          -0.4329890432506135,
          1.3119871279667878,
          -2.5259411836544308,
          -2.9927117989956353,
          -2.8473119700421377,
          0.4030985107984962,
          -2.023289959645747,
          -1.6069550299230366,
          -1.1014602998522895,
          -0.1798195736136329,
          -2.61371317157264,
          -1.6746568606704935,
          -2.7258667417381726,
          -2.8457390522878616,
          -2.245585422091165,
          -1.3555413319097724,
          -0.4264113990078814,
          -2.9645812280641346,
          0.7143940839714552,
          1.9025986202441583,
          -2.035917815253529,
          0.4035779110907926,
          1.090461612551677,
          1.0021379690594538,
          -2.842825242905511,
          1.4590074471245866,
          -0.24951121676791668,
          1.569376873901899,
          1.2447631184904635,
          0.5502635158274575,
          0.5087706246787291,
          0.6350531002526136,
          -2.138325248281739,
          -2.852780512529678,
          -1.3158887342661374,
          -2.3906429224760055,
          0.7383197065638081,
          -2.5536082173556234,
          0.07116411624188379,
          1.3813666144901604,
          -2.80168224978332,
          -2.083954936129553,
          -2.8274719612111636,
          -2.0186208494718447,
          -1.72265084682742,
          -1.6521009297247509,
          -2.6300632674776345,
          0.0997560415895192,
          0.5330949027844433,
          -2.6087162947019102,
          0.5283071138845572,
          1.0939731945974893,
          -1.909023037535,
          -0.15349205482219322,
          -2.4937867386784682,
          -2.9418334369432215,
          1.5343269552173895,
          -3.0486260236719946,
          -2.9166557339991432,
          -2.1802117217466432,
          -1.6416120952879256,
          -2.435797370441663,
          -0.7870610033541491,
          -2.075859042510015,
          -2.323581587916873,
          -2.8022568745350744,
          0.8333796378349119,
          -2.028439057649252,
          -2.9918485283946668,
          -2.432490686279432,
          -2.4866545850601267,
          1.398924481607255,
          -0.20567149823443642,
          -2.3272421243993358,
          1.1752997500657276,
          0.1443521294228201,
          0.5485373396836494,
          -2.120882819452877,
          -2.6862597884703017,
          -0.46970072681481806,
          0.2330542598572466,
          -0.541355353721325,
          -1.9538374219825263,
          -1.672588892622143,
          1.6224433205639455,
          -0.2178563640335752,
          0.07022526211941121,
          -2.6682243623158333,
          -0.07165625700304606,
          0.5311238403865596,
          -0.601559875999267,
          -3.0173089638951764,
          -2.5570192845936126,
          1.1928518999489566,
          0.4203917785088606,
          -0.21569992031647411,
          -1.4647859180706757,
          -1.4217825046161605,
          -2.5679599041980006,
          -2.482020910179649,
          1.0526968356981126,
          -2.934294592517735,
          -2.297636844777829,
          -1.4254098607593306,
          -0.2649217495541272,
          1.8417243451461447,
          -2.859841695951545,
          -1.6097461723322373,
          -1.6423044371172744,
          -2.8581102535202008,
          -2.6451032669342394,
          -0.6445643402865275,
          0.6348068922278314,
          1.2865048980819107,
          -2.6370795103704503,
          -1.6608193366226378,
          -2.25874888131603,
          -1.355793260907506,
          -2.6782700325862074,
          0.15336106864404656,
          -2.270844694608428,
          0.37606633037655685,
          -2.586404978733071,
          0.43307807699476963,
          0.3314630470349806,
          -1.0923592583956006,
          1.2129566939866907,
          -2.4419552474181914,
          0.5525720130972016,
          0.4914046359699468,
          -2.825097172292978,
          -2.7350330446014004,
          -1.520087022856128,
          -2.2912790864843435,
          -1.5826663842323334,
          0.23100173641098543,
          -2.60420318034933,
          -0.46402628925282996,
          0.091457236879358,
          0.055481984448052156,
          -2.9270800383679685,
          -0.19441844009012324,
          -2.336261570853339,
          -2.3884661541365477,
          -0.3626941371525266,
          -2.4746278013450476,
          -1.9929051954692298,
          -0.780036200837329,
          -2.8525047515505517,
          0.29959716704922423,
          -2.2330169671029902,
          1.8415835587170446,
          1.012454221318738,
          -0.22222063628560432,
          -2.882392421447037,
          0.6300982544555969,
          -2.332720335609751,
          0.38294552941952475,
          -0.6232217429264645,
          1.0908817535470825,
          -2.3812493389960236,
          -2.8640920924804605,
          1.0292398104508942,
          -2.7416201118091923,
          1.2001886727123174,
          0.2987980001419267,
          -2.270844694608428,
          -2.1806135484080773,
          -2.3394295786195145,
          1.5378035657669273,
          -2.560432219320148,
          0.6429179002145238,
          0.5442039386595735,
          0.8422290560945547,
          -2.07652009094533,
          0.6521819912005894,
          -1.1265392645648176,
          -2.6061031114866773,
          -2.500414571550932,
          -1.6416120952879256,
          0.9040961635901407,
          -2.3328284857481103,
          -1.698860236130752,
          2.081812124325906,
          -2.25654269709254,
          -0.11890487122649655,
          -3.0091895293522875,
          0.0014695858773092338,
          1.2748739436170364,
          -2.308898428174855,
          -2.317189664886023,
          -1.0537354470947913,
          1.5283501449225763,
          -1.7257834636787384,
          -0.8324170833721051,
          -0.34667159185132085,
          -2.8819291137192025,
          -2.93485040060242,
          -0.43424163382693776,
          -1.0016064389364427,
          -2.4203405943108285,
          -3.0302174140232596,
          1.0071828462851518,
          1.7783736489797268,
          -0.2462599470086143,
          1.3625622767506869,
          -2.256508500316581,
          0.30204291896148094,
          -0.9631232854055436,
          1.4820092018739794,
          -0.5994722612012822,
          -2.3787898678035875,
          1.8281948476294199,
          1.238483520763361,
          -2.982935235080653,
          -2.2838218205696155,
          -2.4614850908129604,
          0.5255397065691402,
          -0.12019462533918224,
          1.44272045703388,
          -3.0015952312596665,
          -2.565117383153268,
          -0.3824523186611884,
          -2.28553866356314,
          -0.36768786292812106,
          -2.5952081453498694,
          0.5111991369425798,
          -2.2941394308079976,
          0.7538775514184205,
          -0.2799827819562144,
          0.1023313242870774,
          -0.5322620476833265,
          0.4401205647814858,
          -0.6604468776498168,
          -3.0093559892553357,
          -1.751377090507478,
          1.1495918683953037,
          1.4006948783368018,
          -1.6319046323224056,
          -1.7759252904759137,
          -2.160086120748893,
          -2.3026494487441695,
          -2.7402120361032867,
          0.4965302773905123,
          -1.231378769642812,
          -0.7913449209189897,
          -2.8839157301846856,
          -2.352604077086481,
          0.6853203057718573,
          -1.250487204729677,
          -0.22611696992348354,
          -0.2788479940471078,
          -0.004581489482902853,
          0.7188295267501018,
          0.7666582187944325,
          1.1226626650765172,
          0.3972881530432468,
          0.5579097796243159,
          0.4873379566293847,
          -0.07753971484032574,
          -1.2034496680138853,
          -0.0031778376298156525,
          0.9075733258031503,
          0.5713752041342818,
          0.6847422100593452,
          1.6785217558559353,
          0.6819987337722565,
          0.6604514138826436,
          1.784529044434182,
          0.3711228656594057,
          0.5044300439246651,
          -1.7022668010426443,
          0.92579736292639,
          0.29063891908361855,
          1.1897600175746694,
          -2.840403746866654,
          0.14372454701734705,
          1.454293233816763,
          -2.3181926517117,
          -2.8821053852039284,
          -2.2384649364056464,
          -2.440525300082308,
          0.6619308110199115,
          -2.4050024742410505,
          -0.30642148699079136,
          0.8139091159553972,
          -2.343209859669608,
          -2.326641991965214,
          -2.1840798140092597,
          1.2100626341625258,
          -1.3217399407084514,
          -0.4510127771798843,
          0.3754944721778821,
          -2.2806145090535153,
          0.16950570065148404,
          -1.9342270763544238,
          -2.5102567329001055,
          0.7963224001667264,
          -2.801456370175046,
          -0.7079858607285093,
          -1.7461569927828997,
          0.4618626354799578,
          0.6285008201421811,
          -0.9854907129856864,
          0.22365509608566939,
          0.41044298239950205,
          -1.0323711114061742,
          -2.8330783843504634,
          1.304295709199876,
          1.26124350150861,
          0.5710992436516644,
          -0.5469861830329851,
          -2.841065256230807,
          1.0465117123640282,
          -2.572572145640165,
          -2.8602359224560368,
          1.563124157981636,
          0.49952873023377803,
          0.12877212973267724,
          0.923322448792888,
          -0.1521926315250918,
          -2.2290349888479524,
          -0.3878011826945814,
          -2.0359565179291668,
          -2.0922662590329595,
          -2.9905056000638,
          -2.778362552003839,
          0.37973412289711145,
          -2.8417201890845956,
          -1.49748800736007,
          -0.8432408829969027,
          -2.8598226304265975,
          1.6257161011630696,
          -0.49268916376224564,
          0.6248133053722232,
          1.4919763426042283,
          -1.5558638337440744,
          -2.9178057464004343,
          -0.43396195351269945,
          -2.315255249996787,
          -2.7087660939866947,
          -0.27911603238215404,
          1.204895053281463,
          0.625379276000309,
          0.7889622677422203,
          -0.9828066508656357,
          -1.3691156122909791,
          -2.8924071426636013,
          -2.4498627376599185,
          0.9132160608917725,
          -2.77740273657244,
          -1.6371672464725395,
          0.6815083630803193,
          -2.2564686585321323,
          -3.116307999641719,
          0.07865251924675401,
          -2.0704694882851857,
          -1.423910976521307,
          -3.0705840005645877,
          0.9089336628052902,
          -2.3050482562753465,
          -0.017683628276863386,
          1.8258023013999862,
          -1.744086774764176,
          -1.6505933115422402,
          -1.3895004606657595,
          -0.35352736859253264,
          -2.690599951035129,
          -0.7270348060692594,
          -0.5965572331795322,
          -2.317626026952129,
          -2.7538840843282575,
          -2.2633083428534992,
          0.9326146581119924,
          1.3498404686602885,
          -1.9077271364492299,
          -1.3464519679565692,
          -3.0307920387750147,
          1.7723139973345694,
          -1.1909269015442603,
          -0.7198347644426507,
          -2.2975466114493,
          0.05638521816414449,
          -1.141269591951343,
          -2.077959493643111,
          -2.7103577005902832,
          -2.0675974851708823,
          -2.322686882465879,
          0.8205210891900074,
          1.2323059764068556,
          -1.1027170114609293,
          -0.9226404862367388,
          0.9724852382313725,
          0.653772746805033,
          -0.6071209332370351,
          -1.0550386261480924,
          -2.9266512717390967,
          -2.1405386670609623,
          -2.886885396837967,
          -2.6280322544663313,
          1.2999553384742386,
          -2.4247069631300424,
          1.950533384121224,
          -1.9632027084739498,
          0.1285275971737891,
          -2.3379462831113265,
          -2.9409992041830653,
          0.09115566055470017,
          -2.8668831561933614,
          0.2517512541867886,
          1.9106851670914617,
          -0.116446334037727,
          0.547887800648118,
          1.2482862954462224,
          -2.323867196261111,
          1.115360812032682,
          0.20096271033118251,
          1.106671316542655,
          1.7490982196729576,
          1.0663414162106422,
          1.2908380490469118,
          1.6067820399110573,
          -1.7611090124932152,
          0.7569856782220227,
          1.618395305820315,
          -2.3229118853012416,
          1.140606635985282,
          0.9258386895667711,
          0.5985577236342963,
          -2.710488443674623,
          -2.518123752649154,
          1.8275548034207467,
          -1.9049804087566153,
          -2.250825481383925,
          -2.936871357383538,
          0.23832618468272043,
          -2.6596372723519983,
          -0.42822935311011084,
          -0.5822194630675052,
          1.6536176015844009,
          -2.7419677669593576,
          -0.9902568277103783,
          0.9506969397914073,
          -1.0012307862310255,
          -3.0038801880864665,
          0.24350315733278088,
          -2.0345366840371297,
          0.45598596626877114,
          -2.7716115833200674,
          0.9480913827880053,
          0.9232034127078473,
          -2.3177740715983877,
          -1.6994809148595291,
          -0.3988797355590855,
          -2.068215537637252,
          -2.8503384490251147,
          -1.5617290998012552,
          -2.790677783005603,
          1.5263355309929296,
          0.3862377548836819,
          0.08080068421240338,
          -1.0259888130271677,
          -2.80168224978332,
          0.29522599734681587,
          -2.2678097577653658,
          -2.0345409535728765,
          0.25811435786168396,
          -2.9345976778479184,
          -0.9848115037219087,
          -2.2972181241937153,
          -2.2333507545342344,
          -2.8873718603461196,
          -1.7224190963134514,
          0.9289093164142782,
          -1.9817755075102788,
          0.6940057397120325,
          0.4650802910317643,
          -2.297826878512496,
          0.9778299253796678,
          -0.8918942744595187,
          1.2790171748222612,
          -0.03043546322135386,
          0.9939949132817122,
          0.1803132109463725,
          -1.0710256860952925,
          0.2523780518402258,
          0.6888750212237573,
          -2.2589275455046707,
          0.7026794072179416,
          -2.7585008466793024,
          -1.3840144180528497,
          -0.44260889311798024,
          -2.8571773055122374,
          -2.920357324188182,
          -2.9645812280641346,
          1.7153459264206021,
          -2.8457390522878616,
          -2.5046504265788,
          1.4977700813751278,
          -2.5522088049648706,
          1.5929355163023315,
          -2.9000239859157464,
          1.672072433028042,
          -2.214681157923232,
          -2.504121435882522,
          1.3545629753107915,
          -0.4684800643290644,
          -2.326641991965214,
          -0.813942607258079,
          -0.611233593006385,
          -2.8755740523933797,
          -1.8545667500978118,
          1.5127624527229024,
          -2.133480275642467,
          -2.2915505854841216,
          -2.3584470713993837,
          -2.31719393442177,
          -0.5827640934580522,
          -1.6597204180281548,
          -2.2818085568991666,
          -0.5336922169345988,
          -2.759052366443371,
          0.055481984448052156,
          0.9340991283659085,
          -0.47381923205449794,
          -0.8821126031624628,
          -2.0400208091254095,
          -2.2818778522752754,
          1.5789448178896177,
          1.8862736706450443,
          0.6295166811388775,
          0.8173149392739503,
          1.3544312433201537,
          -0.6527143363036626,
          -2.291274816948597,
          -0.7574900716614901,
          -3.0272692692309464,
          -1.5894864115009786,
          0.6902139266142951,
          -1.2497557539993527,
          0.811108899865261,
          -1.4331004258661875,
          1.7170971024058215,
          -2.2986931430166306,
          0.011771608646114828,
          1.071181837223542,
          0.6049569078589605,
          0.8279988119427558,
          -0.540981292505939,
          -2.0345366840371297,
          -2.4384821855162873,
          1.6337875959872992,
          0.6651289973014337,
          -2.5227111606891497,
          1.800479978985721,
          -2.9409992041830653,
          -2.2050634933141993,
          -2.2205601483558466,
          -2.5659433547037316,
          0.6572852992096868,
          -2.77008494783326,
          -2.7826756598089926,
          1.2506576987916764,
          -2.2272765441817857,
          -1.6746568606704935,
          0.7809732606621025,
          -1.6591165620220665,
          -1.6492067481845654,
          -2.3254552811236078,
          -2.3630515577924176,
          -1.7286909819131087,
          -0.10095532900086326,
          -2.32113740564644,
          -2.291274816948597,
          0.5655732153748853,
          -0.8435768128585159,
          -2.3766724305367135,
          -1.6011817648574573,
          0.3931491155007213,
          -1.22967142008737,
          0.7556184827523913,
          -3.000261991868525,
          -2.2393432617921025,
          -1.2849072622541955,
          -2.468522034373996,
          -0.2760873933866682,
          1.5322493459632127,
          -2.6322033592503495,
          1.3349245872884041,
          -2.0069704904798997,
          0.5266894642304629,
          0.3765328423393175,
          -0.6183317502707133,
          1.666954538909147,
          -2.80006922109435,
          -2.327850930208886,
          -0.21761965955619153,
          -2.332832755283857,
          -2.84987120410175,
          0.26151841812167237,
          -2.0404347783596943,
          -0.007468065735590842,
          0.9536828637727297,
          -2.387778265164039,
          0.5916711813931607,
          -1.4109857506410932,
          -1.7200665267868132,
          -0.30913005476412414,
          0.6131958764588651,
          1.7026721726878273,
          -2.809721984418071,
          1.4985764093441756,
          0.5526442807581367,
          -1.6076592548361082,
          0.9900467527839152,
          -2.694313671876533,
          -2.2569931306154327,
          -2.3968703170715715,
          1.5070610291756812,
          0.2846114836602322,
          -0.23776912685627483,
          -0.2879755654518962,
          0.752314084403303,
          1.6324324158753831,
          0.7764616584486977,
          1.0010923616628675,
          -1.6298331259453478,
          -2.225281731497942,
          -1.3601663762568839,
          -1.4885388419718928,
          -0.3003761359754359,
          -3.034487436868193,
          0.9407859245608473,
          -1.6298331259453478,
          -2.3910758989863554,
          -2.728767107569395,
          0.4978920508705042,
          -0.5573308684928903,
          -2.286403153460305,
          -2.6779345259434724,
          0.0037127928283425707,
          -2.3131386295549694,
          -2.955250397957446,
          -2.1553360584001955,
          -2.1163743024261894,
          -2.448477372706296,
          -0.331257311179652,
          -2.3368793044219545,
          -0.25786757632232515,
          -2.3391414909328847,
          -1.3218210414007838,
          -2.097869791713924,
          0.9653878073733123,
          -2.558251808723922,
          -1.6069550299230366,
          -0.7060126065639792,
          -0.49443978996421756,
          1.7122554937374035,
          0.3735216897853604,
          0.9129560733644625,
          -0.11593120074606646,
          -0.23741495288776754,
          -0.462485617944624,
          0.9829796492874391,
          -2.1458545649464504,
          -0.4487617492607487,
          -2.2569900069600095,
          -2.767001779208449,
          1.1019501329259003,
          0.21772061453488892,
          -2.3272166167169694,
          -2.387710751641194,
          -0.6389127603826915,
          -0.08141093553645441,
          1.2737383166344998
         ]
        }
       ],
       "layout": {
        "coloraxis": {
         "colorbar": {
          "title": {
           "text": "Predicted Proba"
          }
         },
         "colorscale": [
          [
           0,
           "rgb(52, 55, 54)"
          ],
          [
           0.0017467601656389999,
           "rgb(74, 99, 138)"
          ],
          [
           0.009603012527224829,
           "rgb(116, 153, 214)"
          ],
          [
           0.04258205326058035,
           "rgb(162, 188, 213)"
          ],
          [
           0.10917680542433333,
           "rgb(212, 234, 242)"
          ],
          [
           0.16819399358866835,
           "rgb(235, 216, 134)"
          ],
          [
           0.30266411572217344,
           "rgb(255, 204, 83)"
          ],
          [
           0.4692002038086715,
           "rgb(244, 192, 0)"
          ],
          [
           0.6060200031270219,
           "rgb(255, 166, 17)"
          ],
          [
           0.7463280715492457,
           "rgb(255, 123, 38)"
          ],
          [
           1,
           "rgb(255, 77, 7)"
          ]
         ]
        },
        "height": 600,
        "hovermode": "closest",
        "template": {
         "data": {
          "scatter": [
           {
            "type": "scatter"
           }
          ]
         }
        },
        "title": {
         "font": {
          "color": "rgb(50, 50, 50)",
          "family": "Arial",
          "size": 24
         },
         "text": "<b>age</b> - Feature Contribution<br><sup>Response: <b>1</b></sup>",
         "x": 0.5,
         "xanchor": "center",
         "y": 0.9,
         "yanchor": "middle"
        },
        "width": 900,
        "xaxis": {
         "automargin": true,
         "title": {
          "font": {
           "color": "rgb(50, 50, 50)",
           "family": "Arial Black",
           "size": 16
          },
          "text": "age"
         }
        },
        "yaxis": {
         "automargin": true,
         "title": {
          "font": {
           "color": "rgb(50, 50, 50)",
           "family": "Arial Black",
           "size": 16
          },
          "text": "Contribution"
         }
        }
       }
      },
      "text/html": [
       "<div>                            <div id=\"1583d930-f9a2-4cac-878f-3e0a0dc0cfd5\" class=\"plotly-graph-div\" style=\"height:600px; width:900px;\"></div>            <script type=\"text/javascript\">                require([\"plotly\"], function(Plotly) {                    window.PLOTLYENV=window.PLOTLYENV || {};                                    if (document.getElementById(\"1583d930-f9a2-4cac-878f-3e0a0dc0cfd5\")) {                    Plotly.newPlot(                        \"1583d930-f9a2-4cac-878f-3e0a0dc0cfd5\",                        [{\"hovertemplate\":\"<b>%{hovertext}</b><br />age: %{customdata[0]}<br />Contribution: %{y:.4f}<extra></extra>\",\"hovertext\":[\"Id: 4688\",\"Id: 4478\",\"Id: 3849\",\"Id: 4355\",\"Id: 3826\",\"Id: 3951\",\"Id: 3396\",\"Id: 465\",\"Id: 410\",\"Id: 1632\",\"Id: 2859\",\"Id: 1370\",\"Id: 1360\",\"Id: 807\",\"Id: 315\",\"Id: 79\",\"Id: 586\",\"Id: 2892\",\"Id: 3857\",\"Id: 2348\",\"Id: 3161\",\"Id: 1305\",\"Id: 3338\",\"Id: 538\",\"Id: 3121\",\"Id: 1662\",\"Id: 4585\",\"Id: 1417\",\"Id: 2570\",\"Id: 1405\",\"Id: 1864\",\"Id: 4035\",\"Id: 3733\",\"Id: 1672\",\"Id: 1375\",\"Id: 4694\",\"Id: 2846\",\"Id: 711\",\"Id: 296\",\"Id: 3151\",\"Id: 1344\",\"Id: 1261\",\"Id: 2970\",\"Id: 670\",\"Id: 4953\",\"Id: 4678\",\"Id: 1831\",\"Id: 3784\",\"Id: 1244\",\"Id: 4878\",\"Id: 926\",\"Id: 4510\",\"Id: 33\",\"Id: 3809\",\"Id: 4955\",\"Id: 848\",\"Id: 1505\",\"Id: 23\",\"Id: 3279\",\"Id: 691\",\"Id: 1557\",\"Id: 4483\",\"Id: 1480\",\"Id: 969\",\"Id: 3109\",\"Id: 3999\",\"Id: 952\",\"Id: 3483\",\"Id: 254\",\"Id: 5105\",\"Id: 2845\",\"Id: 2915\",\"Id: 626\",\"Id: 1721\",\"Id: 1094\",\"Id: 1345\",\"Id: 2478\",\"Id: 4635\",\"Id: 3123\",\"Id: 4777\",\"Id: 4463\",\"Id: 4228\",\"Id: 2908\",\"Id: 2988\",\"Id: 468\",\"Id: 2276\",\"Id: 3757\",\"Id: 4938\",\"Id: 2718\",\"Id: 4232\",\"Id: 3822\",\"Id: 1295\",\"Id: 1971\",\"Id: 4710\",\"Id: 2344\",\"Id: 1038\",\"Id: 65\",\"Id: 3783\",\"Id: 842\",\"Id: 2422\",\"Id: 4411\",\"Id: 4224\",\"Id: 4133\",\"Id: 2741\",\"Id: 4738\",\"Id: 3094\",\"Id: 3690\",\"Id: 3447\",\"Id: 4125\",\"Id: 3406\",\"Id: 763\",\"Id: 4479\",\"Id: 4353\",\"Id: 505\",\"Id: 4102\",\"Id: 84\",\"Id: 1224\",\"Id: 1966\",\"Id: 4112\",\"Id: 1487\",\"Id: 831\",\"Id: 1723\",\"Id: 3076\",\"Id: 3573\",\"Id: 724\",\"Id: 3825\",\"Id: 2841\",\"Id: 3859\",\"Id: 106\",\"Id: 2153\",\"Id: 1413\",\"Id: 2174\",\"Id: 1338\",\"Id: 1534\",\"Id: 8\",\"Id: 333\",\"Id: 3035\",\"Id: 4685\",\"Id: 1926\",\"Id: 1626\",\"Id: 705\",\"Id: 3555\",\"Id: 4679\",\"Id: 3773\",\"Id: 3541\",\"Id: 1001\",\"Id: 4176\",\"Id: 1128\",\"Id: 179\",\"Id: 1074\",\"Id: 486\",\"Id: 2341\",\"Id: 1769\",\"Id: 157\",\"Id: 3979\",\"Id: 2420\",\"Id: 4880\",\"Id: 4274\",\"Id: 4656\",\"Id: 29\",\"Id: 2319\",\"Id: 3038\",\"Id: 553\",\"Id: 4765\",\"Id: 3264\",\"Id: 731\",\"Id: 4213\",\"Id: 3351\",\"Id: 373\",\"Id: 2722\",\"Id: 2299\",\"Id: 1902\",\"Id: 2822\",\"Id: 2305\",\"Id: 151\",\"Id: 683\",\"Id: 3377\",\"Id: 2642\",\"Id: 2473\",\"Id: 4163\",\"Id: 393\",\"Id: 2394\",\"Id: 1095\",\"Id: 497\",\"Id: 3893\",\"Id: 4211\",\"Id: 877\",\"Id: 3074\",\"Id: 1181\",\"Id: 4892\",\"Id: 4546\",\"Id: 4307\",\"Id: 168\",\"Id: 4986\",\"Id: 1740\",\"Id: 1860\",\"Id: 3271\",\"Id: 2078\",\"Id: 1718\",\"Id: 787\",\"Id: 977\",\"Id: 4526\",\"Id: 1720\",\"Id: 227\",\"Id: 3247\",\"Id: 3820\",\"Id: 1220\",\"Id: 2172\",\"Id: 746\",\"Id: 3921\",\"Id: 2788\",\"Id: 3114\",\"Id: 915\",\"Id: 199\",\"Id: 279\",\"Id: 2972\",\"Id: 1988\",\"Id: 828\",\"Id: 1073\",\"Id: 856\",\"Id: 2581\",\"Id: 4148\",\"Id: 3209\",\"Id: 584\",\"Id: 1503\",\"Id: 4942\",\"Id: 1849\",\"Id: 3437\",\"Id: 2413\",\"Id: 239\",\"Id: 577\",\"Id: 4375\",\"Id: 2527\",\"Id: 4101\",\"Id: 4908\",\"Id: 3919\",\"Id: 642\",\"Id: 3879\",\"Id: 3493\",\"Id: 2498\",\"Id: 764\",\"Id: 3116\",\"Id: 228\",\"Id: 240\",\"Id: 80\",\"Id: 5027\",\"Id: 1730\",\"Id: 4350\",\"Id: 4246\",\"Id: 4508\",\"Id: 422\",\"Id: 2182\",\"Id: 5019\",\"Id: 1149\",\"Id: 561\",\"Id: 3182\",\"Id: 2387\",\"Id: 1872\",\"Id: 1456\",\"Id: 248\",\"Id: 1697\",\"Id: 810\",\"Id: 2025\",\"Id: 2313\",\"Id: 3442\",\"Id: 1010\",\"Id: 1034\",\"Id: 2535\",\"Id: 2534\",\"Id: 1144\",\"Id: 4356\",\"Id: 1117\",\"Id: 1029\",\"Id: 2218\",\"Id: 2220\",\"Id: 3292\",\"Id: 88\",\"Id: 3089\",\"Id: 2746\",\"Id: 4370\",\"Id: 4230\",\"Id: 1912\",\"Id: 4210\",\"Id: 1892\",\"Id: 4490\",\"Id: 4306\",\"Id: 144\",\"Id: 429\",\"Id: 4473\",\"Id: 931\",\"Id: 2974\",\"Id: 2309\",\"Id: 2607\",\"Id: 742\",\"Id: 3479\",\"Id: 4528\",\"Id: 2829\",\"Id: 1371\",\"Id: 4789\",\"Id: 3034\",\"Id: 4346\",\"Id: 2124\",\"Id: 2405\",\"Id: 100\",\"Id: 4717\",\"Id: 2312\",\"Id: 472\",\"Id: 3313\",\"Id: 4080\",\"Id: 4757\",\"Id: 471\",\"Id: 4764\",\"Id: 3455\",\"Id: 2594\",\"Id: 3100\",\"Id: 3698\",\"Id: 530\",\"Id: 4304\",\"Id: 4144\",\"Id: 5050\",\"Id: 1499\",\"Id: 1932\",\"Id: 2943\",\"Id: 1438\",\"Id: 1941\",\"Id: 1770\",\"Id: 1351\",\"Id: 4666\",\"Id: 1192\",\"Id: 4155\",\"Id: 4005\",\"Id: 2921\",\"Id: 5100\",\"Id: 2686\",\"Id: 1412\",\"Id: 297\",\"Id: 4970\",\"Id: 3742\",\"Id: 1483\",\"Id: 2086\",\"Id: 994\",\"Id: 230\",\"Id: 3075\",\"Id: 4054\",\"Id: 2819\",\"Id: 4876\",\"Id: 1578\",\"Id: 1756\",\"Id: 4796\",\"Id: 1942\",\"Id: 776\",\"Id: 721\",\"Id: 555\",\"Id: 907\",\"Id: 2311\",\"Id: 4767\",\"Id: 2518\",\"Id: 3282\",\"Id: 1745\",\"Id: 1175\",\"Id: 4384\",\"Id: 2615\",\"Id: 1504\",\"Id: 677\",\"Id: 485\",\"Id: 864\",\"Id: 2584\",\"Id: 4020\",\"Id: 589\",\"Id: 1786\",\"Id: 879\",\"Id: 3887\",\"Id: 5106\",\"Id: 2654\",\"Id: 1002\",\"Id: 149\",\"Id: 3752\",\"Id: 751\",\"Id: 2173\",\"Id: 4690\",\"Id: 2465\",\"Id: 812\",\"Id: 4229\",\"Id: 3802\",\"Id: 2117\",\"Id: 12\",\"Id: 93\",\"Id: 3414\",\"Id: 1612\",\"Id: 2536\",\"Id: 3872\",\"Id: 4019\",\"Id: 2191\",\"Id: 3873\",\"Id: 4152\",\"Id: 2968\",\"Id: 3488\",\"Id: 3011\",\"Id: 911\",\"Id: 838\",\"Id: 1397\",\"Id: 3163\",\"Id: 2080\",\"Id: 2673\",\"Id: 1545\",\"Id: 805\",\"Id: 4114\",\"Id: 416\",\"Id: 2114\",\"Id: 4310\",\"Id: 3410\",\"Id: 1564\",\"Id: 4709\",\"Id: 1992\",\"Id: 3539\",\"Id: 1041\",\"Id: 4358\",\"Id: 4273\",\"Id: 4684\",\"Id: 3012\",\"Id: 3870\",\"Id: 132\",\"Id: 1946\",\"Id: 3429\",\"Id: 3808\",\"Id: 1330\",\"Id: 4817\",\"Id: 2750\",\"Id: 4797\",\"Id: 5026\",\"Id: 1477\",\"Id: 1451\",\"Id: 287\",\"Id: 889\",\"Id: 3277\",\"Id: 1717\",\"Id: 491\",\"Id: 2307\",\"Id: 3246\",\"Id: 2367\",\"Id: 2610\",\"Id: 1052\",\"Id: 1954\",\"Id: 5046\",\"Id: 4718\",\"Id: 1593\",\"Id: 4830\",\"Id: 3649\",\"Id: 4612\",\"Id: 4664\",\"Id: 2702\",\"Id: 109\",\"Id: 4974\",\"Id: 1129\",\"Id: 1808\",\"Id: 4844\",\"Id: 3185\",\"Id: 4828\",\"Id: 3985\",\"Id: 426\",\"Id: 2583\",\"Id: 4059\",\"Id: 4996\",\"Id: 3937\",\"Id: 2339\",\"Id: 3751\",\"Id: 3764\",\"Id: 2389\",\"Id: 2021\",\"Id: 734\",\"Id: 1592\",\"Id: 3168\",\"Id: 3635\",\"Id: 3891\",\"Id: 1049\",\"Id: 5096\",\"Id: 624\",\"Id: 3550\",\"Id: 2942\",\"Id: 811\",\"Id: 2177\",\"Id: 544\",\"Id: 1103\",\"Id: 1746\",\"Id: 4778\",\"Id: 1618\",\"Id: 2754\",\"Id: 1235\",\"Id: 1569\",\"Id: 1209\",\"Id: 414\",\"Id: 3935\",\"Id: 3398\",\"Id: 3309\",\"Id: 4700\",\"Id: 1197\",\"Id: 501\",\"Id: 437\",\"Id: 653\",\"Id: 2095\",\"Id: 3727\",\"Id: 4316\",\"Id: 800\",\"Id: 290\",\"Id: 2623\",\"Id: 1340\",\"Id: 252\",\"Id: 1833\",\"Id: 3411\",\"Id: 350\",\"Id: 3413\",\"Id: 346\",\"Id: 4296\",\"Id: 1614\",\"Id: 457\",\"Id: 2801\",\"Id: 90\",\"Id: 3728\",\"Id: 3197\",\"Id: 26\",\"Id: 181\",\"Id: 4643\",\"Id: 1669\",\"Id: 2187\",\"Id: 2091\",\"Id: 2837\",\"Id: 2457\",\"Id: 4899\",\"Id: 2222\",\"Id: 2622\",\"Id: 4408\",\"Id: 2630\",\"Id: 4751\",\"Id: 1057\",\"Id: 1210\",\"Id: 69\",\"Id: 5107\",\"Id: 5020\",\"Id: 3010\",\"Id: 203\",\"Id: 4783\",\"Id: 3815\",\"Id: 4425\",\"Id: 387\",\"Id: 4541\",\"Id: 4725\",\"Id: 2629\",\"Id: 2291\",\"Id: 798\",\"Id: 2683\",\"Id: 221\",\"Id: 4459\",\"Id: 3963\",\"Id: 657\",\"Id: 3821\",\"Id: 2784\",\"Id: 4773\",\"Id: 4320\",\"Id: 2364\",\"Id: 4634\",\"Id: 177\",\"Id: 1020\",\"Id: 655\",\"Id: 1536\",\"Id: 1751\",\"Id: 5074\",\"Id: 4376\",\"Id: 3133\",\"Id: 1406\",\"Id: 5086\",\"Id: 3392\",\"Id: 1437\",\"Id: 3331\",\"Id: 1361\",\"Id: 681\",\"Id: 1055\",\"Id: 803\",\"Id: 3055\",\"Id: 4098\",\"Id: 4092\",\"Id: 1876\",\"Id: 2767\",\"Id: 2238\",\"Id: 2201\",\"Id: 219\",\"Id: 4503\",\"Id: 4675\",\"Id: 582\",\"Id: 2329\",\"Id: 1255\",\"Id: 43\",\"Id: 210\",\"Id: 1595\",\"Id: 354\",\"Id: 1231\",\"Id: 599\",\"Id: 3379\",\"Id: 2559\",\"Id: 367\",\"Id: 4237\",\"Id: 3903\",\"Id: 1650\",\"Id: 135\",\"Id: 2533\",\"Id: 47\",\"Id: 1818\",\"Id: 3425\",\"Id: 2119\",\"Id: 1835\",\"Id: 2890\",\"Id: 2168\",\"Id: 1934\",\"Id: 61\",\"Id: 2088\",\"Id: 3103\",\"Id: 95\",\"Id: 478\",\"Id: 1839\",\"Id: 2688\",\"Id: 2418\",\"Id: 4946\",\"Id: 3781\",\"Id: 2949\",\"Id: 2072\",\"Id: 4836\",\"Id: 322\",\"Id: 3787\",\"Id: 4444\",\"Id: 4277\",\"Id: 3062\",\"Id: 3435\",\"Id: 2226\",\"Id: 1454\",\"Id: 1242\",\"Id: 996\",\"Id: 291\",\"Id: 2521\",\"Id: 3565\",\"Id: 533\",\"Id: 4471\",\"Id: 3624\",\"Id: 2451\",\"Id: 3352\",\"Id: 2662\",\"Id: 4321\",\"Id: 3964\",\"Id: 4214\",\"Id: 428\",\"Id: 1084\",\"Id: 5084\",\"Id: 4566\",\"Id: 765\",\"Id: 3204\",\"Id: 4728\",\"Id: 1907\",\"Id: 2497\",\"Id: 4734\",\"Id: 3084\",\"Id: 4693\",\"Id: 4662\",\"Id: 2018\",\"Id: 3830\",\"Id: 4626\",\"Id: 5029\",\"Id: 4308\",\"Id: 3048\",\"Id: 1436\",\"Id: 4607\",\"Id: 2663\",\"Id: 5093\",\"Id: 1420\",\"Id: 3303\",\"Id: 2346\",\"Id: 1945\",\"Id: 4110\",\"Id: 2024\",\"Id: 1526\",\"Id: 2098\",\"Id: 3193\",\"Id: 1813\",\"Id: 4078\",\"Id: 2317\",\"Id: 70\",\"Id: 1032\",\"Id: 4319\",\"Id: 2232\",\"Id: 3543\",\"Id: 3403\",\"Id: 1168\",\"Id: 1183\",\"Id: 964\",\"Id: 1173\",\"Id: 4732\",\"Id: 3482\",\"Id: 4856\",\"Id: 1623\",\"Id: 2059\",\"Id: 3702\",\"Id: 3799\",\"Id: 3939\",\"Id: 1392\",\"Id: 1888\",\"Id: 2700\",\"Id: 733\",\"Id: 1741\",\"Id: 2649\",\"Id: 2569\",\"Id: 4731\",\"Id: 2034\",\"Id: 2487\",\"Id: 2543\",\"Id: 381\",\"Id: 1978\",\"Id: 1699\",\"Id: 1321\",\"Id: 2406\",\"Id: 4543\",\"Id: 4794\",\"Id: 2516\",\"Id: 3778\",\"Id: 2867\",\"Id: 233\",\"Id: 1972\",\"Id: 4807\",\"Id: 4667\",\"Id: 5034\",\"Id: 633\",\"Id: 3077\",\"Id: 415\",\"Id: 3153\",\"Id: 1921\",\"Id: 3592\",\"Id: 1090\",\"Id: 1583\",\"Id: 4950\",\"Id: 881\",\"Id: 17\",\"Id: 3839\",\"Id: 1832\",\"Id: 1840\",\"Id: 3720\",\"Id: 596\",\"Id: 1670\",\"Id: 2254\",\"Id: 2142\",\"Id: 1629\",\"Id: 1822\",\"Id: 5075\",\"Id: 371\",\"Id: 1448\",\"Id: 1909\",\"Id: 652\",\"Id: 598\",\"Id: 676\",\"Id: 238\",\"Id: 4347\",\"Id: 2517\",\"Id: 3794\",\"Id: 3831\",\"Id: 3878\",\"Id: 75\",\"Id: 1425\",\"Id: 2948\",\"Id: 3639\",\"Id: 3263\",\"Id: 5071\",\"Id: 5002\",\"Id: 1566\",\"Id: 2985\",\"Id: 1647\",\"Id: 1126\",\"Id: 4349\",\"Id: 2194\",\"Id: 4716\",\"Id: 96\",\"Id: 3408\",\"Id: 3667\",\"Id: 5030\",\"Id: 621\",\"Id: 4961\",\"Id: 3814\",\"Id: 566\",\"Id: 1755\",\"Id: 2714\",\"Id: 748\",\"Id: 4460\",\"Id: 51\",\"Id: 5077\",\"Id: 3013\",\"Id: 1335\",\"Id: 2251\",\"Id: 534\",\"Id: 745\",\"Id: 5079\",\"Id: 3528\",\"Id: 443\",\"Id: 4987\",\"Id: 195\",\"Id: 4826\",\"Id: 893\",\"Id: 1788\",\"Id: 3044\",\"Id: 3904\",\"Id: 3026\",\"Id: 3438\",\"Id: 2685\",\"Id: 3070\",\"Id: 4264\",\"Id: 644\",\"Id: 3755\",\"Id: 3697\",\"Id: 1726\",\"Id: 4501\",\"Id: 120\",\"Id: 1204\",\"Id: 2131\",\"Id: 1253\",\"Id: 4997\",\"Id: 5024\",\"Id: 2351\",\"Id: 134\",\"Id: 2580\",\"Id: 4827\",\"Id: 2011\",\"Id: 3678\",\"Id: 184\",\"Id: 2895\",\"Id: 1780\",\"Id: 511\",\"Id: 4165\",\"Id: 62\",\"Id: 4406\",\"Id: 2802\",\"Id: 4427\",\"Id: 3268\",\"Id: 2053\",\"Id: 251\",\"Id: 625\",\"Id: 1550\",\"Id: 1514\",\"Id: 3895\",\"Id: 3837\",\"Id: 122\",\"Id: 3654\",\"Id: 3518\",\"Id: 2029\",\"Id: 2575\",\"Id: 5085\",\"Id: 567\",\"Id: 2818\",\"Id: 3349\",\"Id: 693\",\"Id: 3686\",\"Id: 1606\",\"Id: 4649\",\"Id: 1293\",\"Id: 2656\",\"Id: 4976\",\"Id: 2807\",\"Id: 720\",\"Id: 4863\",\"Id: 2133\",\"Id: 1789\",\"Id: 1432\",\"Id: 3911\",\"Id: 602\",\"Id: 1281\",\"Id: 1468\",\"Id: 2005\",\"Id: 2266\",\"Id: 3630\",\"Id: 318\",\"Id: 2228\",\"Id: 2834\",\"Id: 274\",\"Id: 2002\",\"Id: 549\",\"Id: 1374\",\"Id: 944\",\"Id: 5001\",\"Id: 4417\",\"Id: 605\",\"Id: 3909\",\"Id: 527\",\"Id: 4825\",\"Id: 2462\",\"Id: 2528\",\"Id: 829\",\"Id: 4481\",\"Id: 4933\",\"Id: 1957\",\"Id: 1815\",\"Id: 298\",\"Id: 68\",\"Id: 4377\",\"Id: 1961\",\"Id: 3758\",\"Id: 3912\",\"Id: 4198\",\"Id: 3014\",\"Id: 4124\",\"Id: 150\",\"Id: 756\",\"Id: 1554\",\"Id: 4423\",\"Id: 3694\",\"Id: 1322\",\"Id: 4620\",\"Id: 1268\",\"Id: 3150\",\"Id: 376\",\"Id: 1096\",\"Id: 1782\",\"Id: 859\",\"Id: 3097\",\"Id: 2987\",\"Id: 2015\",\"Id: 378\",\"Id: 3960\",\"Id: 3305\",\"Id: 3651\",\"Id: 2111\",\"Id: 1434\",\"Id: 2042\",\"Id: 5015\",\"Id: 3172\",\"Id: 1419\",\"Id: 2215\",\"Id: 2384\",\"Id: 4050\",\"Id: 794\",\"Id: 4262\",\"Id: 841\",\"Id: 4724\",\"Id: 2877\",\"Id: 175\",\"Id: 3434\",\"Id: 2876\",\"Id: 927\",\"Id: 2407\",\"Id: 45\",\"Id: 3248\",\"Id: 4439\",\"Id: 4969\",\"Id: 4398\",\"Id: 896\",\"Id: 2373\",\"Id: 3295\",\"Id: 2022\",\"Id: 1879\",\"Id: 2240\",\"Id: 3906\",\"Id: 3258\",\"Id: 1702\",\"Id: 2592\",\"Id: 283\",\"Id: 4823\",\"Id: 1779\",\"Id: 3456\",\"Id: 5007\",\"Id: 5070\",\"Id: 3689\",\"Id: 4247\",\"Id: 4645\",\"Id: 3941\",\"Id: 2576\",\"Id: 2596\",\"Id: 3101\",\"Id: 2678\",\"Id: 1891\",\"Id: 2826\",\"Id: 4683\",\"Id: 4284\",\"Id: 1101\",\"Id: 1047\",\"Id: 4660\",\"Id: 2813\",\"Id: 2492\",\"Id: 3053\",\"Id: 99\",\"Id: 2157\",\"Id: 1421\",\"Id: 2644\",\"Id: 2614\",\"Id: 351\",\"Id: 4030\",\"Id: 3187\",\"Id: 1025\",\"Id: 4025\",\"Id: 718\",\"Id: 2835\",\"Id: 2856\",\"Id: 4487\",\"Id: 2648\",\"Id: 308\",\"Id: 3126\",\"Id: 833\",\"Id: 366\",\"Id: 1784\",\"Id: 3469\",\"Id: 4603\",\"Id: 4640\",\"Id: 2664\",\"Id: 949\",\"Id: 1200\",\"Id: 3154\",\"Id: 19\",\"Id: 2100\",\"Id: 4966\",\"Id: 668\",\"Id: 218\",\"Id: 3137\",\"Id: 438\",\"Id: 3786\",\"Id: 1212\",\"Id: 3669\",\"Id: 3454\",\"Id: 3605\",\"Id: 4934\",\"Id: 4835\",\"Id: 4105\",\"Id: 2902\"],\"mode\":\"markers\",\"x\":[31.0,40.0,8.0,79.0,75.0,79.0,56.0,69.0,7.0,1.48,37.0,3.0,60.0,51.0,57.0,43.0,42.0,10.0,26.0,3.0,42.0,44.0,6.0,16.0,23.0,52.0,9.0,41.0,72.0,12.0,56.0,42.0,39.0,28.0,17.0,1.16,63.0,37.0,66.0,56.0,47.0,43.0,22.0,82.0,46.0,66.0,9.0,63.0,1.24,16.0,19.0,2.0,80.0,5.0,38.0,53.0,46.0,82.0,27.0,52.0,47.0,78.0,71.0,19.0,43.0,31.0,20.0,13.0,47.0,80.0,5.0,23.0,52.0,43.0,23.0,47.0,7.0,67.0,52.0,79.0,54.0,68.0,69.0,44.0,38.0,17.0,54.0,62.0,70.0,5.0,32.0,60.0,78.0,23.0,21.0,51.0,78.0,78.0,23.0,65.0,57.0,50.0,4.0,36.0,71.0,12.0,60.0,1.88,69.0,24.0,20.0,40.0,52.0,52.0,62.0,58.0,65.0,40.0,36.0,60.0,52.0,57.0,32.0,5.0,70.0,52.0,57.0,0.32,50.0,54.0,69.0,58.0,17.0,38.0,59.0,52.0,33.0,65.0,50.0,33.0,49.0,9.0,47.0,38.0,24.0,35.0,51.0,52.0,81.0,8.0,20.0,82.0,82.0,57.0,67.0,58.0,65.0,36.0,21.0,59.0,68.0,19.0,55.0,76.0,61.0,50.0,24.0,77.0,23.0,61.0,28.0,21.0,50.0,1.08,68.0,2.0,51.0,67.0,54.0,52.0,38.0,19.0,18.0,14.0,50.0,81.0,3.0,47.0,32.0,54.0,1.8,47.0,79.0,58.0,38.0,63.0,36.0,74.0,59.0,31.0,7.0,60.0,31.0,74.0,53.0,61.0,20.0,73.0,31.0,7.0,14.0,42.0,32.0,74.0,27.0,4.0,37.0,65.0,38.0,2.0,35.0,18.0,67.0,5.0,61.0,38.0,8.0,32.0,58.0,60.0,51.0,81.0,78.0,61.0,69.0,64.0,61.0,35.0,46.0,15.0,31.0,26.0,39.0,66.0,59.0,26.0,69.0,66.0,12.0,12.0,63.0,71.0,29.0,45.0,67.0,72.0,19.0,56.0,62.0,78.0,50.0,55.0,54.0,18.0,32.0,55.0,75.0,23.0,45.0,55.0,39.0,69.0,82.0,57.0,50.0,18.0,47.0,38.0,65.0,13.0,17.0,67.0,15.0,37.0,19.0,22.0,72.0,53.0,63.0,40.0,62.0,50.0,21.0,9.0,53.0,51.0,43.0,2.0,39.0,22.0,29.0,67.0,60.0,64.0,19.0,76.0,43.0,1.48,34.0,34.0,18.0,3.0,75.0,44.0,53.0,31.0,72.0,61.0,54.0,5.0,1.24,36.0,27.0,47.0,42.0,50.0,64.0,70.0,20.0,53.0,38.0,8.0,82.0,54.0,82.0,58.0,30.0,71.0,2.0,41.0,50.0,81.0,77.0,41.0,13.0,47.0,52.0,48.0,73.0,10.0,30.0,28.0,55.0,39.0,1.16,44.0,54.0,9.0,39.0,35.0,32.0,28.0,42.0,48.0,31.0,65.0,80.0,9.0,57.0,75.0,71.0,20.0,81.0,52.0,80.0,70.0,57.0,58.0,67.0,5.0,26.0,39.0,27.0,61.0,21.0,54.0,80.0,13.0,15.0,21.0,32.0,13.0,9.0,23.0,55.0,59.0,11.0,60.0,69.0,40.0,53.0,24.0,26.0,81.0,23.0,31.0,26.0,3.0,29.0,45.0,38.0,25.0,15.0,64.0,11.0,30.0,26.0,31.0,78.0,49.0,12.0,69.0,58.0,62.0,37.0,37.0,51.0,59.0,48.0,38.0,39.0,79.0,55.0,62.0,32.0,53.0,60.0,49.0,25.0,35.0,69.0,61.0,52.0,44.0,41.0,31.0,22.0,75.0,30.0,32.0,42.0,53.0,78.0,33.0,0.64,4.0,22.0,32.0,49.0,56.0,75.0,24.0,40.0,7.0,43.0,36.0,55.0,3.0,55.0,30.0,57.0,56.0,40.0,77.0,31.0,57.0,65.0,35.0,19.0,41.0,5.0,42.0,59.0,24.0,53.0,56.0,56.0,35.0,54.0,37.0,12.0,50.0,29.0,36.0,47.0,14.0,60.0,2.0,79.0,68.0,54.0,30.0,66.0,13.0,65.0,47.0,70.0,14.0,26.0,79.0,18.0,68.0,64.0,0.08,33.0,0.8,79.0,14.0,60.0,65.0,59.0,33.0,58.0,40.0,11.0,27.0,3.0,65.0,2.0,42.0,81.0,0.8,51.0,34.0,58.0,80.0,35.0,5.0,45.0,78.0,9.0,45.0,54.0,24.0,33.0,46.0,45.0,12.0,25.0,69.0,79.0,49.0,75.0,4.0,64.0,48.0,73.0,44.0,7.0,77.0,78.0,20.0,28.0,13.0,65.0,52.0,76.0,16.0,12.0,51.0,0.24,53.0,5.0,59.0,16.0,57.0,52.0,62.0,51.0,55.0,47.0,27.0,40.0,69.0,73.0,39.0,8.0,26.0,1.8,22.0,63.0,39.0,46.0,32.0,3.0,59.0,41.0,46.0,57.0,63.0,66.0,57.0,71.0,60.0,58.0,60.0,53.0,42.0,52.0,65.0,55.0,57.0,80.0,57.0,66.0,78.0,66.0,82.0,39.0,82.0,55.0,69.0,26.0,63.0,73.0,22.0,18.0,28.0,2.0,56.0,1.48,52.0,62.0,15.0,0.24,4.0,73.0,40.0,51.0,56.0,8.0,57.0,38.0,20.0,65.0,13.0,47.0,40.0,62.0,67.0,43.0,56.0,66.0,41.0,26.0,81.0,78.0,55.0,48.0,14.0,69.0,32.0,33.0,72.0,67.0,62.0,67.0,47.0,2.0,45.0,37.0,37.0,14.0,33.0,66.0,32.0,42.0,43.0,33.0,78.0,51.0,57.0,76.0,8.0,17.0,48.0,5.0,23.0,48.0,73.0,66.0,59.0,45.0,38.0,20.0,15.0,64.0,31.0,40.0,67.0,2.0,32.0,59.0,6.0,39.0,18.0,59.0,23.0,56.0,78.0,13.0,39.0,42.0,47.0,30.0,51.0,49.0,8.0,31.0,19.0,68.0,77.0,39.0,36.0,24.0,79.0,42.0,45.0,33.0,55.0,44.0,34.0,30.0,37.0,17.0,59.0,75.0,45.0,45.0,64.0,64.0,53.0,45.0,16.0,23.0,28.0,25.0,70.0,18.0,78.0,39.0,56.0,15.0,26.0,51.0,30.0,55.0,78.0,55.0,67.0,80.0,17.0,68.0,51.0,75.0,81.0,68.0,76.0,76.0,6.0,61.0,73.0,1.72,82.0,70.0,63.0,28.0,21.0,80.0,2.0,34.0,27.0,65.0,17.0,46.0,51.0,78.0,17.0,45.0,75.0,49.0,20.0,56.0,1.72,61.0,20.0,64.0,59.0,31.0,4.0,48.0,10.0,29.0,40.0,16.0,80.0,57.0,65.0,43.0,22.0,59.0,16.0,7.0,58.0,33.0,39.0,11.0,8.0,33.0,41.0,68.0,39.0,57.0,59.0,5.0,61.0,46.0,81.0,51.0,71.0,67.0,45.0,57.0,61.0,2.0,64.0,8.0,40.0,50.0,35.0,30.0,23.0,80.0,32.0,21.0,72.0,27.0,72.0,25.0,80.0,37.0,13.0,80.0,51.0,8.0,46.0,46.0,18.0,41.0,81.0,18.0,18.0,13.0,1.0,47.0,39.0,8.0,48.0,35.0,56.0,58.0,48.0,48.0,20.0,25.0,80.0,77.0,58.0,69.0,70.0,48.0,5.0,49.0,30.0,14.0,60.0,42.0,61.0,43.0,81.0,1.56,61.0,69.0,59.0,58.0,53.0,8.0,37.0,81.0,55.0,25.0,79.0,18.0,22.0,11.0,28.0,55.0,32.0,20.0,73.0,0.88,41.0,59.0,43.0,1.32,15.0,11.0,14.0,52.0,25.0,7.0,57.0,45.0,8.0,44.0,57.0,43.0,67.0,29.0,26.0,42.0,12.0,53.0,81.0,32.0,72.0,14.0,82.0,64.0,53.0,76.0,35.0,11.0,46.0,4.0,27.0,62.0,0.08,57.0,68.0,1.0,56.0,42.0,3.0,53.0,58.0,79.0,32.0,72.0,59.0,5.0,75.0,23.0,0.48,32.0,78.0,59.0,49.0,48.0,63.0,78.0,68.0,69.0,1.64,5.0,38.0,43.0,48.0,29.0,69.0,6.0,9.0,18.0,58.0,47.0,9.0,24.0,53.0,5.0,22.0,34.0,14.0,17.0,52.0,30.0,54.0,5.0,43.0,37.0,69.0,31.0,1.32,47.0,47.0,76.0,65.0,57.0,52.0,54.0,48.0,76.0,10.0,53.0,1.8,23.0,71.0,62.0,1.88,1.32,49.0,56.0,78.0],\"y\":[-1.7813036116947853,-1.2209376205198268,-1.7542398203222334,1.3192143451674239,1.314164941462909,1.5307050751699978,0.43523123932897134,1.1620696897204779,-1.701306524264327,-1.4042016652128277,-2.084803970840452,-2.0374776984313288,0.35612852074399054,-0.2726448855840801,0.32274964657169153,-1.4326810776117591,-1.6425830943867903,-2.2826498961102955,-2.8249242507842847,-2.4202439320635385,-1.6480566317059995,-1.2603230619030659,-2.1049205049265676,-3.0707798460390587,-2.8531938045591168,-0.19293914619394148,-2.0817523448480513,-1.194713360935411,1.2105501486193884,-2.4465803029666118,0.44194526903926473,-1.6221327383212858,-1.232492592381678,-2.984020902795618,-2.7012117061234204,-2.225281731497942,0.9440848242025478,-2.1884250922529183,0.7513924218724589,0.3727168167165605,-0.7990744978508757,-1.326240525903376,-2.824842739474487,0.4494344094505827,-0.4535334474268642,0.5709983382195877,-1.8371778145370945,0.6203423796753108,-1.7225753215905588,-2.5101514229845163,-2.8943114102997027,-2.439301678442674,1.1684509205192886,-1.9931962683002,-2.1195707693116366,-0.17798537775486453,-0.4033277264234708,1.0692964062346864,-2.9409992041830653,-0.307524607615814,-0.6380181573955614,1.7226889443500757,1.0950331117049577,-2.3147813108028803,-1.527855812764892,-2.438635962958669,-2.2937510207876466,-1.7582323201610726,-0.4166478904881344,1.6655238569591826,-2.2588575557345507,-2.4234584656847264,-0.17808100340023456,-1.0783881786122438,-2.3174354559253336,-0.6426219677378647,-2.2714193193601835,0.6919347631999213,-0.3021682455939393,1.7458187308037922,-0.32942449560849735,0.9494709714880168,1.1387765910993322,-0.8997970048004333,-1.9601845713853963,-2.4302933837684066,-0.2349437129399807,0.07259298237368839,1.088056028728089,-2.148588869457619,-2.949646495639904,0.6966796538124619,1.6075516678445019,-2.301423393121084,-2.4354620222394465,-0.377229952031463,1.8499544127776666,1.8136442811727254,-2.534869226767372,0.8447711712136845,0.6971674862511261,-0.06734218815785291,-2.317189664886023,-2.5801218241582204,0.9614594470766548,-2.559898331140325,0.04012231222433961,-2.2589275455046707,1.2338583832082546,-2.9421615946175566,-2.4439368572134486,-1.8939162589868515,-0.4208561454695599,-0.3041378334031046,0.689426831150626,0.5664357582895739,0.631824917919477,-1.6874763263156445,-1.9412828345184738,0.9821300173502694,-0.42423241909014336,0.8230311932463972,-2.3711483520589143,-2.2330126975672435,0.8736534933491793,-0.08651050595319902,0.49028414284169014,-2.28553866356314,-0.03351765672230857,0.029507672796966426,1.0583836566008131,0.44158536399734705,-3.0494922881761286,-2.1651626309629988,0.2241721769025986,-0.21644014116516974,-2.5431496144843786,0.5673431237066545,-0.1273400784670557,-2.7981095511073404,-0.572025847759628,-2.284542919857927,-0.6545052818388158,-1.8061417285766679,-2.7494145146040414,-2.9276546631197236,-0.38942088672061953,-0.29084600105242636,1.8956635743360069,-2.3176644932638353,-2.749396686931096,0.7277821486275532,0.7101779176880717,0.7930867642937088,0.5429814500392494,-0.028576566274425577,0.4224586141463688,-2.113198976969998,-2.8631701355441477,0.857423142031089,1.1057612499337925,-2.796111570219101,-0.07636096279926224,1.4373307677127614,0.19088409021831357,-0.4154811967384175,-2.9493634230980774,1.834352955104575,-2.8531938045591168,0.36265370341971304,-2.98360256961798,-2.1802117217466432,0.06651150242038684,-2.3398580636874913,1.2154756491377545,-2.0891688250688762,-0.1753075990632538,0.38949717388678484,-0.032003056369884875,0.004918686995054235,-1.5726114778926483,-2.650140180078117,-2.729462365037181,-2.4121150640707865,-0.44629957162252953,1.28834229145727,-1.803375865406881,-0.3873441225978067,-2.471150230686955,-0.3539071391713438,-2.2513893153742086,-0.47485377251173355,1.8929000768671245,0.7888266982579036,-1.9315528964626405,0.7144276737416371,-2.336261570853339,1.643730110216398,0.9842947865948736,-2.9086667269190247,-2.381663846804765,0.6160623526691167,-1.8734326650491382,1.0243263107584744,-0.5018620779546481,0.6177761631090917,-2.9418654686871992,1.565871490757771,-2.9376543826119947,-2.2714193193601835,-2.8057788574224474,-1.6261156831720083,-2.890836926362869,1.1166174936063742,-2.287992349421807,-2.5916898154165433,-2.538906937134401,0.5593556550018453,-2.0155657074061257,-1.646918698249984,-2.8051892652304624,-2.8348223913823705,0.37999757639310977,-2.3396831099550024,0.8229924198336289,-1.8097800592469386,-1.6081285459599433,-2.775543546354783,0.514784188125226,0.8011083073105694,0.12643637449701373,1.558393414049229,1.6429986091894617,0.5266783107302537,0.8636813397531518,0.19874869487219676,0.8661569892087766,-2.8325188345193033,-0.5929742020514139,-2.4208397949619136,-2.989357915058561,-2.796111570219101,-1.429628404818793,0.2983603567211437,0.6508009085786848,-2.482020910179649,0.9862169658822078,0.7170056134272133,-2.418420749773824,-2.4356073540034675,0.7137910173917108,0.9291895146486779,-2.933823633203444,-0.6153985573519839,0.9607690079484965,1.534565478605642,-2.1391677556681237,0.035252431216417704,0.580960238012825,1.8821981337211386,-0.4509097712314362,0.182931354528984,0.15560767870260572,-2.3090879708667407,-2.8671867111486775,0.2844722555518961,1.3961917634105487,-2.8315706690342552,-0.7201177327464582,-0.066585666310364,-1.9250150394747874,0.8965002787269937,0.7388660597402245,0.5662156673580033,-0.2639396474049323,-2.8202058445661944,-0.7982409430669442,-1.8683342092365083,0.7184169307961734,-2.3727624776901943,-3.008087092031632,0.6502546618685554,-2.439739412263827,-2.763679616797274,-2.503376484400415,-2.6111624881055957,1.38866480991137,-0.42800471734697004,0.11689093560941963,-1.7190691342003124,0.6084130187655636,-0.04998022807317088,-2.936121937310598,-2.2500476397279234,-0.22962431885237677,-0.4672092108619426,-1.6437371832937093,-2.3152595195325336,-1.4901082160413313,-2.2615974848954155,-2.321585156615018,0.7634302016727529,0.37664722807103523,0.6342849841845718,-2.2811736273622043,1.5299096646254289,-1.0894802007466968,-1.45529286139179,-2.9413688914693257,-2.2679958887181177,-2.418905380072676,-1.8061345605068428,1.267857633853149,-1.2866348048950946,-0.4123935253268422,-2.920661249007083,1.2695478572623902,0.5089338046657682,-0.3150950786466154,-2.3225371092327665,-2.432995313927453,-2.550795930415122,-2.432490686279432,-0.6170357238549474,-1.091620100170827,-0.2487073550050587,0.48387607415315026,0.8695567242739939,-2.408069048094206,-0.2642563900419998,-1.805716022088301,-2.473265841921996,0.5468436469911898,-0.24586224891282132,0.9607797929433972,0.1815437211793594,-2.842827448749039,1.0588168424869195,-2.3944286886656743,-1.4459813608657406,-0.25932683052643674,1.5419139983967876,1.1649444509955043,-1.8372904505890748,-1.7560297288795739,-0.46791336914592363,-0.46909886570723025,-0.4329890432506135,1.3119871279667878,-2.5259411836544308,-2.9927117989956353,-2.8473119700421377,0.4030985107984962,-2.023289959645747,-1.6069550299230366,-1.1014602998522895,-0.1798195736136329,-2.61371317157264,-1.6746568606704935,-2.7258667417381726,-2.8457390522878616,-2.245585422091165,-1.3555413319097724,-0.4264113990078814,-2.9645812280641346,0.7143940839714552,1.9025986202441583,-2.035917815253529,0.4035779110907926,1.090461612551677,1.0021379690594538,-2.842825242905511,1.4590074471245866,-0.24951121676791668,1.569376873901899,1.2447631184904635,0.5502635158274575,0.5087706246787291,0.6350531002526136,-2.138325248281739,-2.852780512529678,-1.3158887342661374,-2.3906429224760055,0.7383197065638081,-2.5536082173556234,0.07116411624188379,1.3813666144901604,-2.80168224978332,-2.083954936129553,-2.8274719612111636,-2.0186208494718447,-1.72265084682742,-1.6521009297247509,-2.6300632674776345,0.0997560415895192,0.5330949027844433,-2.6087162947019102,0.5283071138845572,1.0939731945974893,-1.909023037535,-0.15349205482219322,-2.4937867386784682,-2.9418334369432215,1.5343269552173895,-3.0486260236719946,-2.9166557339991432,-2.1802117217466432,-1.6416120952879256,-2.435797370441663,-0.7870610033541491,-2.075859042510015,-2.323581587916873,-2.8022568745350744,0.8333796378349119,-2.028439057649252,-2.9918485283946668,-2.432490686279432,-2.4866545850601267,1.398924481607255,-0.20567149823443642,-2.3272421243993358,1.1752997500657276,0.1443521294228201,0.5485373396836494,-2.120882819452877,-2.6862597884703017,-0.46970072681481806,0.2330542598572466,-0.541355353721325,-1.9538374219825263,-1.672588892622143,1.6224433205639455,-0.2178563640335752,0.07022526211941121,-2.6682243623158333,-0.07165625700304606,0.5311238403865596,-0.601559875999267,-3.0173089638951764,-2.5570192845936126,1.1928518999489566,0.4203917785088606,-0.21569992031647411,-1.4647859180706757,-1.4217825046161605,-2.5679599041980006,-2.482020910179649,1.0526968356981126,-2.934294592517735,-2.297636844777829,-1.4254098607593306,-0.2649217495541272,1.8417243451461447,-2.859841695951545,-1.6097461723322373,-1.6423044371172744,-2.8581102535202008,-2.6451032669342394,-0.6445643402865275,0.6348068922278314,1.2865048980819107,-2.6370795103704503,-1.6608193366226378,-2.25874888131603,-1.355793260907506,-2.6782700325862074,0.15336106864404656,-2.270844694608428,0.37606633037655685,-2.586404978733071,0.43307807699476963,0.3314630470349806,-1.0923592583956006,1.2129566939866907,-2.4419552474181914,0.5525720130972016,0.4914046359699468,-2.825097172292978,-2.7350330446014004,-1.520087022856128,-2.2912790864843435,-1.5826663842323334,0.23100173641098543,-2.60420318034933,-0.46402628925282996,0.091457236879358,0.055481984448052156,-2.9270800383679685,-0.19441844009012324,-2.336261570853339,-2.3884661541365477,-0.3626941371525266,-2.4746278013450476,-1.9929051954692298,-0.780036200837329,-2.8525047515505517,0.29959716704922423,-2.2330169671029902,1.8415835587170446,1.012454221318738,-0.22222063628560432,-2.882392421447037,0.6300982544555969,-2.332720335609751,0.38294552941952475,-0.6232217429264645,1.0908817535470825,-2.3812493389960236,-2.8640920924804605,1.0292398104508942,-2.7416201118091923,1.2001886727123174,0.2987980001419267,-2.270844694608428,-2.1806135484080773,-2.3394295786195145,1.5378035657669273,-2.560432219320148,0.6429179002145238,0.5442039386595735,0.8422290560945547,-2.07652009094533,0.6521819912005894,-1.1265392645648176,-2.6061031114866773,-2.500414571550932,-1.6416120952879256,0.9040961635901407,-2.3328284857481103,-1.698860236130752,2.081812124325906,-2.25654269709254,-0.11890487122649655,-3.0091895293522875,0.0014695858773092338,1.2748739436170364,-2.308898428174855,-2.317189664886023,-1.0537354470947913,1.5283501449225763,-1.7257834636787384,-0.8324170833721051,-0.34667159185132085,-2.8819291137192025,-2.93485040060242,-0.43424163382693776,-1.0016064389364427,-2.4203405943108285,-3.0302174140232596,1.0071828462851518,1.7783736489797268,-0.2462599470086143,1.3625622767506869,-2.256508500316581,0.30204291896148094,-0.9631232854055436,1.4820092018739794,-0.5994722612012822,-2.3787898678035875,1.8281948476294199,1.238483520763361,-2.982935235080653,-2.2838218205696155,-2.4614850908129604,0.5255397065691402,-0.12019462533918224,1.44272045703388,-3.0015952312596665,-2.565117383153268,-0.3824523186611884,-2.28553866356314,-0.36768786292812106,-2.5952081453498694,0.5111991369425798,-2.2941394308079976,0.7538775514184205,-0.2799827819562144,0.1023313242870774,-0.5322620476833265,0.4401205647814858,-0.6604468776498168,-3.0093559892553357,-1.751377090507478,1.1495918683953037,1.4006948783368018,-1.6319046323224056,-1.7759252904759137,-2.160086120748893,-2.3026494487441695,-2.7402120361032867,0.4965302773905123,-1.231378769642812,-0.7913449209189897,-2.8839157301846856,-2.352604077086481,0.6853203057718573,-1.250487204729677,-0.22611696992348354,-0.2788479940471078,-0.004581489482902853,0.7188295267501018,0.7666582187944325,1.1226626650765172,0.3972881530432468,0.5579097796243159,0.4873379566293847,-0.07753971484032574,-1.2034496680138853,-0.0031778376298156525,0.9075733258031503,0.5713752041342818,0.6847422100593452,1.6785217558559353,0.6819987337722565,0.6604514138826436,1.784529044434182,0.3711228656594057,0.5044300439246651,-1.7022668010426443,0.92579736292639,0.29063891908361855,1.1897600175746694,-2.840403746866654,0.14372454701734705,1.454293233816763,-2.3181926517117,-2.8821053852039284,-2.2384649364056464,-2.440525300082308,0.6619308110199115,-2.4050024742410505,-0.30642148699079136,0.8139091159553972,-2.343209859669608,-2.326641991965214,-2.1840798140092597,1.2100626341625258,-1.3217399407084514,-0.4510127771798843,0.3754944721778821,-2.2806145090535153,0.16950570065148404,-1.9342270763544238,-2.5102567329001055,0.7963224001667264,-2.801456370175046,-0.7079858607285093,-1.7461569927828997,0.4618626354799578,0.6285008201421811,-0.9854907129856864,0.22365509608566939,0.41044298239950205,-1.0323711114061742,-2.8330783843504634,1.304295709199876,1.26124350150861,0.5710992436516644,-0.5469861830329851,-2.841065256230807,1.0465117123640282,-2.572572145640165,-2.8602359224560368,1.563124157981636,0.49952873023377803,0.12877212973267724,0.923322448792888,-0.1521926315250918,-2.2290349888479524,-0.3878011826945814,-2.0359565179291668,-2.0922662590329595,-2.9905056000638,-2.778362552003839,0.37973412289711145,-2.8417201890845956,-1.49748800736007,-0.8432408829969027,-2.8598226304265975,1.6257161011630696,-0.49268916376224564,0.6248133053722232,1.4919763426042283,-1.5558638337440744,-2.9178057464004343,-0.43396195351269945,-2.315255249996787,-2.7087660939866947,-0.27911603238215404,1.204895053281463,0.625379276000309,0.7889622677422203,-0.9828066508656357,-1.3691156122909791,-2.8924071426636013,-2.4498627376599185,0.9132160608917725,-2.77740273657244,-1.6371672464725395,0.6815083630803193,-2.2564686585321323,-3.116307999641719,0.07865251924675401,-2.0704694882851857,-1.423910976521307,-3.0705840005645877,0.9089336628052902,-2.3050482562753465,-0.017683628276863386,1.8258023013999862,-1.744086774764176,-1.6505933115422402,-1.3895004606657595,-0.35352736859253264,-2.690599951035129,-0.7270348060692594,-0.5965572331795322,-2.317626026952129,-2.7538840843282575,-2.2633083428534992,0.9326146581119924,1.3498404686602885,-1.9077271364492299,-1.3464519679565692,-3.0307920387750147,1.7723139973345694,-1.1909269015442603,-0.7198347644426507,-2.2975466114493,0.05638521816414449,-1.141269591951343,-2.077959493643111,-2.7103577005902832,-2.0675974851708823,-2.322686882465879,0.8205210891900074,1.2323059764068556,-1.1027170114609293,-0.9226404862367388,0.9724852382313725,0.653772746805033,-0.6071209332370351,-1.0550386261480924,-2.9266512717390967,-2.1405386670609623,-2.886885396837967,-2.6280322544663313,1.2999553384742386,-2.4247069631300424,1.950533384121224,-1.9632027084739498,0.1285275971737891,-2.3379462831113265,-2.9409992041830653,0.09115566055470017,-2.8668831561933614,0.2517512541867886,1.9106851670914617,-0.116446334037727,0.547887800648118,1.2482862954462224,-2.323867196261111,1.115360812032682,0.20096271033118251,1.106671316542655,1.7490982196729576,1.0663414162106422,1.2908380490469118,1.6067820399110573,-1.7611090124932152,0.7569856782220227,1.618395305820315,-2.3229118853012416,1.140606635985282,0.9258386895667711,0.5985577236342963,-2.710488443674623,-2.518123752649154,1.8275548034207467,-1.9049804087566153,-2.250825481383925,-2.936871357383538,0.23832618468272043,-2.6596372723519983,-0.42822935311011084,-0.5822194630675052,1.6536176015844009,-2.7419677669593576,-0.9902568277103783,0.9506969397914073,-1.0012307862310255,-3.0038801880864665,0.24350315733278088,-2.0345366840371297,0.45598596626877114,-2.7716115833200674,0.9480913827880053,0.9232034127078473,-2.3177740715983877,-1.6994809148595291,-0.3988797355590855,-2.068215537637252,-2.8503384490251147,-1.5617290998012552,-2.790677783005603,1.5263355309929296,0.3862377548836819,0.08080068421240338,-1.0259888130271677,-2.80168224978332,0.29522599734681587,-2.2678097577653658,-2.0345409535728765,0.25811435786168396,-2.9345976778479184,-0.9848115037219087,-2.2972181241937153,-2.2333507545342344,-2.8873718603461196,-1.7224190963134514,0.9289093164142782,-1.9817755075102788,0.6940057397120325,0.4650802910317643,-2.297826878512496,0.9778299253796678,-0.8918942744595187,1.2790171748222612,-0.03043546322135386,0.9939949132817122,0.1803132109463725,-1.0710256860952925,0.2523780518402258,0.6888750212237573,-2.2589275455046707,0.7026794072179416,-2.7585008466793024,-1.3840144180528497,-0.44260889311798024,-2.8571773055122374,-2.920357324188182,-2.9645812280641346,1.7153459264206021,-2.8457390522878616,-2.5046504265788,1.4977700813751278,-2.5522088049648706,1.5929355163023315,-2.9000239859157464,1.672072433028042,-2.214681157923232,-2.504121435882522,1.3545629753107915,-0.4684800643290644,-2.326641991965214,-0.813942607258079,-0.611233593006385,-2.8755740523933797,-1.8545667500978118,1.5127624527229024,-2.133480275642467,-2.2915505854841216,-2.3584470713993837,-2.31719393442177,-0.5827640934580522,-1.6597204180281548,-2.2818085568991666,-0.5336922169345988,-2.759052366443371,0.055481984448052156,0.9340991283659085,-0.47381923205449794,-0.8821126031624628,-2.0400208091254095,-2.2818778522752754,1.5789448178896177,1.8862736706450443,0.6295166811388775,0.8173149392739503,1.3544312433201537,-0.6527143363036626,-2.291274816948597,-0.7574900716614901,-3.0272692692309464,-1.5894864115009786,0.6902139266142951,-1.2497557539993527,0.811108899865261,-1.4331004258661875,1.7170971024058215,-2.2986931430166306,0.011771608646114828,1.071181837223542,0.6049569078589605,0.8279988119427558,-0.540981292505939,-2.0345366840371297,-2.4384821855162873,1.6337875959872992,0.6651289973014337,-2.5227111606891497,1.800479978985721,-2.9409992041830653,-2.2050634933141993,-2.2205601483558466,-2.5659433547037316,0.6572852992096868,-2.77008494783326,-2.7826756598089926,1.2506576987916764,-2.2272765441817857,-1.6746568606704935,0.7809732606621025,-1.6591165620220665,-1.6492067481845654,-2.3254552811236078,-2.3630515577924176,-1.7286909819131087,-0.10095532900086326,-2.32113740564644,-2.291274816948597,0.5655732153748853,-0.8435768128585159,-2.3766724305367135,-1.6011817648574573,0.3931491155007213,-1.22967142008737,0.7556184827523913,-3.000261991868525,-2.2393432617921025,-1.2849072622541955,-2.468522034373996,-0.2760873933866682,1.5322493459632127,-2.6322033592503495,1.3349245872884041,-2.0069704904798997,0.5266894642304629,0.3765328423393175,-0.6183317502707133,1.666954538909147,-2.80006922109435,-2.327850930208886,-0.21761965955619153,-2.332832755283857,-2.84987120410175,0.26151841812167237,-2.0404347783596943,-0.007468065735590842,0.9536828637727297,-2.387778265164039,0.5916711813931607,-1.4109857506410932,-1.7200665267868132,-0.30913005476412414,0.6131958764588651,1.7026721726878273,-2.809721984418071,1.4985764093441756,0.5526442807581367,-1.6076592548361082,0.9900467527839152,-2.694313671876533,-2.2569931306154327,-2.3968703170715715,1.5070610291756812,0.2846114836602322,-0.23776912685627483,-0.2879755654518962,0.752314084403303,1.6324324158753831,0.7764616584486977,1.0010923616628675,-1.6298331259453478,-2.225281731497942,-1.3601663762568839,-1.4885388419718928,-0.3003761359754359,-3.034487436868193,0.9407859245608473,-1.6298331259453478,-2.3910758989863554,-2.728767107569395,0.4978920508705042,-0.5573308684928903,-2.286403153460305,-2.6779345259434724,0.0037127928283425707,-2.3131386295549694,-2.955250397957446,-2.1553360584001955,-2.1163743024261894,-2.448477372706296,-0.331257311179652,-2.3368793044219545,-0.25786757632232515,-2.3391414909328847,-1.3218210414007838,-2.097869791713924,0.9653878073733123,-2.558251808723922,-1.6069550299230366,-0.7060126065639792,-0.49443978996421756,1.7122554937374035,0.3735216897853604,0.9129560733644625,-0.11593120074606646,-0.23741495288776754,-0.462485617944624,0.9829796492874391,-2.1458545649464504,-0.4487617492607487,-2.2569900069600095,-2.767001779208449,1.1019501329259003,0.21772061453488892,-2.3272166167169694,-2.387710751641194,-0.6389127603826915,-0.08141093553645441,1.2737383166344998],\"type\":\"scatter\",\"customdata\":[[31.0,4688.0],[40.0,4478.0],[8.0,3849.0],[79.0,4355.0],[75.0,3826.0],[79.0,3951.0],[56.0,3396.0],[69.0,465.0],[7.0,410.0],[1.48,1632.0],[37.0,2859.0],[3.0,1370.0],[60.0,1360.0],[51.0,807.0],[57.0,315.0],[43.0,79.0],[42.0,586.0],[10.0,2892.0],[26.0,3857.0],[3.0,2348.0],[42.0,3161.0],[44.0,1305.0],[6.0,3338.0],[16.0,538.0],[23.0,3121.0],[52.0,1662.0],[9.0,4585.0],[41.0,1417.0],[72.0,2570.0],[12.0,1405.0],[56.0,1864.0],[42.0,4035.0],[39.0,3733.0],[28.0,1672.0],[17.0,1375.0],[1.16,4694.0],[63.0,2846.0],[37.0,711.0],[66.0,296.0],[56.0,3151.0],[47.0,1344.0],[43.0,1261.0],[22.0,2970.0],[82.0,670.0],[46.0,4953.0],[66.0,4678.0],[9.0,1831.0],[63.0,3784.0],[1.24,1244.0],[16.0,4878.0],[19.0,926.0],[2.0,4510.0],[80.0,33.0],[5.0,3809.0],[38.0,4955.0],[53.0,848.0],[46.0,1505.0],[82.0,23.0],[27.0,3279.0],[52.0,691.0],[47.0,1557.0],[78.0,4483.0],[71.0,1480.0],[19.0,969.0],[43.0,3109.0],[31.0,3999.0],[20.0,952.0],[13.0,3483.0],[47.0,254.0],[80.0,5105.0],[5.0,2845.0],[23.0,2915.0],[52.0,626.0],[43.0,1721.0],[23.0,1094.0],[47.0,1345.0],[7.0,2478.0],[67.0,4635.0],[52.0,3123.0],[79.0,4777.0],[54.0,4463.0],[68.0,4228.0],[69.0,2908.0],[44.0,2988.0],[38.0,468.0],[17.0,2276.0],[54.0,3757.0],[62.0,4938.0],[70.0,2718.0],[5.0,4232.0],[32.0,3822.0],[60.0,1295.0],[78.0,1971.0],[23.0,4710.0],[21.0,2344.0],[51.0,1038.0],[78.0,65.0],[78.0,3783.0],[23.0,842.0],[65.0,2422.0],[57.0,4411.0],[50.0,4224.0],[4.0,4133.0],[36.0,2741.0],[71.0,4738.0],[12.0,3094.0],[60.0,3690.0],[1.88,3447.0],[69.0,4125.0],[24.0,3406.0],[20.0,763.0],[40.0,4479.0],[52.0,4353.0],[52.0,505.0],[62.0,4102.0],[58.0,84.0],[65.0,1224.0],[40.0,1966.0],[36.0,4112.0],[60.0,1487.0],[52.0,831.0],[57.0,1723.0],[32.0,3076.0],[5.0,3573.0],[70.0,724.0],[52.0,3825.0],[57.0,2841.0],[0.32,3859.0],[50.0,106.0],[54.0,2153.0],[69.0,1413.0],[58.0,2174.0],[17.0,1338.0],[38.0,1534.0],[59.0,8.0],[52.0,333.0],[33.0,3035.0],[65.0,4685.0],[50.0,1926.0],[33.0,1626.0],[49.0,705.0],[9.0,3555.0],[47.0,4679.0],[38.0,3773.0],[24.0,3541.0],[35.0,1001.0],[51.0,4176.0],[52.0,1128.0],[81.0,179.0],[8.0,1074.0],[20.0,486.0],[82.0,2341.0],[82.0,1769.0],[57.0,157.0],[67.0,3979.0],[58.0,2420.0],[65.0,4880.0],[36.0,4274.0],[21.0,4656.0],[59.0,29.0],[68.0,2319.0],[19.0,3038.0],[55.0,553.0],[76.0,4765.0],[61.0,3264.0],[50.0,731.0],[24.0,4213.0],[77.0,3351.0],[23.0,373.0],[61.0,2722.0],[28.0,2299.0],[21.0,1902.0],[50.0,2822.0],[1.08,2305.0],[68.0,151.0],[2.0,683.0],[51.0,3377.0],[67.0,2642.0],[54.0,2473.0],[52.0,4163.0],[38.0,393.0],[19.0,2394.0],[18.0,1095.0],[14.0,497.0],[50.0,3893.0],[81.0,4211.0],[3.0,877.0],[47.0,3074.0],[32.0,1181.0],[54.0,4892.0],[1.8,4546.0],[47.0,4307.0],[79.0,168.0],[58.0,4986.0],[38.0,1740.0],[63.0,1860.0],[36.0,3271.0],[74.0,2078.0],[59.0,1718.0],[31.0,787.0],[7.0,977.0],[60.0,4526.0],[31.0,1720.0],[74.0,227.0],[53.0,3247.0],[61.0,3820.0],[20.0,1220.0],[73.0,2172.0],[31.0,746.0],[7.0,3921.0],[14.0,2788.0],[42.0,3114.0],[32.0,915.0],[74.0,199.0],[27.0,279.0],[4.0,2972.0],[37.0,1988.0],[65.0,828.0],[38.0,1073.0],[2.0,856.0],[35.0,2581.0],[18.0,4148.0],[67.0,3209.0],[5.0,584.0],[61.0,1503.0],[38.0,4942.0],[8.0,1849.0],[32.0,3437.0],[58.0,2413.0],[60.0,239.0],[51.0,577.0],[81.0,4375.0],[78.0,2527.0],[61.0,4101.0],[69.0,4908.0],[64.0,3919.0],[61.0,642.0],[35.0,3879.0],[46.0,3493.0],[15.0,2498.0],[31.0,764.0],[26.0,3116.0],[39.0,228.0],[66.0,240.0],[59.0,80.0],[26.0,5027.0],[69.0,1730.0],[66.0,4350.0],[12.0,4246.0],[12.0,4508.0],[63.0,422.0],[71.0,2182.0],[29.0,5019.0],[45.0,1149.0],[67.0,561.0],[72.0,3182.0],[19.0,2387.0],[56.0,1872.0],[62.0,1456.0],[78.0,248.0],[50.0,1697.0],[55.0,810.0],[54.0,2025.0],[18.0,2313.0],[32.0,3442.0],[55.0,1010.0],[75.0,1034.0],[23.0,2535.0],[45.0,2534.0],[55.0,1144.0],[39.0,4356.0],[69.0,1117.0],[82.0,1029.0],[57.0,2218.0],[50.0,2220.0],[18.0,3292.0],[47.0,88.0],[38.0,3089.0],[65.0,2746.0],[13.0,4370.0],[17.0,4230.0],[67.0,1912.0],[15.0,4210.0],[37.0,1892.0],[19.0,4490.0],[22.0,4306.0],[72.0,144.0],[53.0,429.0],[63.0,4473.0],[40.0,931.0],[62.0,2974.0],[50.0,2309.0],[21.0,2607.0],[9.0,742.0],[53.0,3479.0],[51.0,4528.0],[43.0,2829.0],[2.0,1371.0],[39.0,4789.0],[22.0,3034.0],[29.0,4346.0],[67.0,2124.0],[60.0,2405.0],[64.0,100.0],[19.0,4717.0],[76.0,2312.0],[43.0,472.0],[1.48,3313.0],[34.0,4080.0],[34.0,4757.0],[18.0,471.0],[3.0,4764.0],[75.0,3455.0],[44.0,2594.0],[53.0,3100.0],[31.0,3698.0],[72.0,530.0],[61.0,4304.0],[54.0,4144.0],[5.0,5050.0],[1.24,1499.0],[36.0,1932.0],[27.0,2943.0],[47.0,1438.0],[42.0,1941.0],[50.0,1770.0],[64.0,1351.0],[70.0,4666.0],[20.0,1192.0],[53.0,4155.0],[38.0,4005.0],[8.0,2921.0],[82.0,5100.0],[54.0,2686.0],[82.0,1412.0],[58.0,297.0],[30.0,4970.0],[71.0,3742.0],[2.0,1483.0],[41.0,2086.0],[50.0,994.0],[81.0,230.0],[77.0,3075.0],[41.0,4054.0],[13.0,2819.0],[47.0,4876.0],[52.0,1578.0],[48.0,1756.0],[73.0,4796.0],[10.0,1942.0],[30.0,776.0],[28.0,721.0],[55.0,555.0],[39.0,907.0],[1.16,2311.0],[44.0,4767.0],[54.0,2518.0],[9.0,3282.0],[39.0,1745.0],[35.0,1175.0],[32.0,4384.0],[28.0,2615.0],[42.0,1504.0],[48.0,677.0],[31.0,485.0],[65.0,864.0],[80.0,2584.0],[9.0,4020.0],[57.0,589.0],[75.0,1786.0],[71.0,879.0],[20.0,3887.0],[81.0,5106.0],[52.0,2654.0],[80.0,1002.0],[70.0,149.0],[57.0,3752.0],[58.0,751.0],[67.0,2173.0],[5.0,4690.0],[26.0,2465.0],[39.0,812.0],[27.0,4229.0],[61.0,3802.0],[21.0,2117.0],[54.0,12.0],[80.0,93.0],[13.0,3414.0],[15.0,1612.0],[21.0,2536.0],[32.0,3872.0],[13.0,4019.0],[9.0,2191.0],[23.0,3873.0],[55.0,4152.0],[59.0,2968.0],[11.0,3488.0],[60.0,3011.0],[69.0,911.0],[40.0,838.0],[53.0,1397.0],[24.0,3163.0],[26.0,2080.0],[81.0,2673.0],[23.0,1545.0],[31.0,805.0],[26.0,4114.0],[3.0,416.0],[29.0,2114.0],[45.0,4310.0],[38.0,3410.0],[25.0,1564.0],[15.0,4709.0],[64.0,1992.0],[11.0,3539.0],[30.0,1041.0],[26.0,4358.0],[31.0,4273.0],[78.0,4684.0],[49.0,3012.0],[12.0,3870.0],[69.0,132.0],[58.0,1946.0],[62.0,3429.0],[37.0,3808.0],[37.0,1330.0],[51.0,4817.0],[59.0,2750.0],[48.0,4797.0],[38.0,5026.0],[39.0,1477.0],[79.0,1451.0],[55.0,287.0],[62.0,889.0],[32.0,3277.0],[53.0,1717.0],[60.0,491.0],[49.0,2307.0],[25.0,3246.0],[35.0,2367.0],[69.0,2610.0],[61.0,1052.0],[52.0,1954.0],[44.0,5046.0],[41.0,4718.0],[31.0,1593.0],[22.0,4830.0],[75.0,3649.0],[30.0,4612.0],[32.0,4664.0],[42.0,2702.0],[53.0,109.0],[78.0,4974.0],[33.0,1129.0],[0.64,1808.0],[4.0,4844.0],[22.0,3185.0],[32.0,4828.0],[49.0,3985.0],[56.0,426.0],[75.0,2583.0],[24.0,4059.0],[40.0,4996.0],[7.0,3937.0],[43.0,2339.0],[36.0,3751.0],[55.0,3764.0],[3.0,2389.0],[55.0,2021.0],[30.0,734.0],[57.0,1592.0],[56.0,3168.0],[40.0,3635.0],[77.0,3891.0],[31.0,1049.0],[57.0,5096.0],[65.0,624.0],[35.0,3550.0],[19.0,2942.0],[41.0,811.0],[5.0,2177.0],[42.0,544.0],[59.0,1103.0],[24.0,1746.0],[53.0,4778.0],[56.0,1618.0],[56.0,2754.0],[35.0,1235.0],[54.0,1569.0],[37.0,1209.0],[12.0,414.0],[50.0,3935.0],[29.0,3398.0],[36.0,3309.0],[47.0,4700.0],[14.0,1197.0],[60.0,501.0],[2.0,437.0],[79.0,653.0],[68.0,2095.0],[54.0,3727.0],[30.0,4316.0],[66.0,800.0],[13.0,290.0],[65.0,2623.0],[47.0,1340.0],[70.0,252.0],[14.0,1833.0],[26.0,3411.0],[79.0,350.0],[18.0,3413.0],[68.0,346.0],[64.0,4296.0],[0.08,1614.0],[33.0,457.0],[0.8,2801.0],[79.0,90.0],[14.0,3728.0],[60.0,3197.0],[65.0,26.0],[59.0,181.0],[33.0,4643.0],[58.0,1669.0],[40.0,2187.0],[11.0,2091.0],[27.0,2837.0],[3.0,2457.0],[65.0,4899.0],[2.0,2222.0],[42.0,2622.0],[81.0,4408.0],[0.8,2630.0],[51.0,4751.0],[34.0,1057.0],[58.0,1210.0],[80.0,69.0],[35.0,5107.0],[5.0,5020.0],[45.0,3010.0],[78.0,203.0],[9.0,4783.0],[45.0,3815.0],[54.0,4425.0],[24.0,387.0],[33.0,4541.0],[46.0,4725.0],[45.0,2629.0],[12.0,2291.0],[25.0,798.0],[69.0,2683.0],[79.0,221.0],[49.0,4459.0],[75.0,3963.0],[4.0,657.0],[64.0,3821.0],[48.0,2784.0],[73.0,4773.0],[44.0,4320.0],[7.0,2364.0],[77.0,4634.0],[78.0,177.0],[20.0,1020.0],[28.0,655.0],[13.0,1536.0],[65.0,1751.0],[52.0,5074.0],[76.0,4376.0],[16.0,3133.0],[12.0,1406.0],[51.0,5086.0],[0.24,3392.0],[53.0,1437.0],[5.0,3331.0],[59.0,1361.0],[16.0,681.0],[57.0,1055.0],[52.0,803.0],[62.0,3055.0],[51.0,4098.0],[55.0,4092.0],[47.0,1876.0],[27.0,2767.0],[40.0,2238.0],[69.0,2201.0],[73.0,219.0],[39.0,4503.0],[8.0,4675.0],[26.0,582.0],[1.8,2329.0],[22.0,1255.0],[63.0,43.0],[39.0,210.0],[46.0,1595.0],[32.0,354.0],[3.0,1231.0],[59.0,599.0],[41.0,3379.0],[46.0,2559.0],[57.0,367.0],[63.0,4237.0],[66.0,3903.0],[57.0,1650.0],[71.0,135.0],[60.0,2533.0],[58.0,47.0],[60.0,1818.0],[53.0,3425.0],[42.0,2119.0],[52.0,1835.0],[65.0,2890.0],[55.0,2168.0],[57.0,1934.0],[80.0,61.0],[57.0,2088.0],[66.0,3103.0],[78.0,95.0],[66.0,478.0],[82.0,1839.0],[39.0,2688.0],[82.0,2418.0],[55.0,4946.0],[69.0,3781.0],[26.0,2949.0],[63.0,2072.0],[73.0,4836.0],[22.0,322.0],[18.0,3787.0],[28.0,4444.0],[2.0,4277.0],[56.0,3062.0],[1.48,3435.0],[52.0,2226.0],[62.0,1454.0],[15.0,1242.0],[0.24,996.0],[4.0,291.0],[73.0,2521.0],[40.0,3565.0],[51.0,533.0],[56.0,4471.0],[8.0,3624.0],[57.0,2451.0],[38.0,3352.0],[20.0,2662.0],[65.0,4321.0],[13.0,3964.0],[47.0,4214.0],[40.0,428.0],[62.0,1084.0],[67.0,5084.0],[43.0,4566.0],[56.0,765.0],[66.0,3204.0],[41.0,4728.0],[26.0,1907.0],[81.0,2497.0],[78.0,4734.0],[55.0,3084.0],[48.0,4693.0],[14.0,4662.0],[69.0,2018.0],[32.0,3830.0],[33.0,4626.0],[72.0,5029.0],[67.0,4308.0],[62.0,3048.0],[67.0,1436.0],[47.0,4607.0],[2.0,2663.0],[45.0,5093.0],[37.0,1420.0],[37.0,3303.0],[14.0,2346.0],[33.0,1945.0],[66.0,4110.0],[32.0,2024.0],[42.0,1526.0],[43.0,2098.0],[33.0,3193.0],[78.0,1813.0],[51.0,4078.0],[57.0,2317.0],[76.0,70.0],[8.0,1032.0],[17.0,4319.0],[48.0,2232.0],[5.0,3543.0],[23.0,3403.0],[48.0,1168.0],[73.0,1183.0],[66.0,964.0],[59.0,1173.0],[45.0,4732.0],[38.0,3482.0],[20.0,4856.0],[15.0,1623.0],[64.0,2059.0],[31.0,3702.0],[40.0,3799.0],[67.0,3939.0],[2.0,1392.0],[32.0,1888.0],[59.0,2700.0],[6.0,733.0],[39.0,1741.0],[18.0,2649.0],[59.0,2569.0],[23.0,4731.0],[56.0,2034.0],[78.0,2487.0],[13.0,2543.0],[39.0,381.0],[42.0,1978.0],[47.0,1699.0],[30.0,1321.0],[51.0,2406.0],[49.0,4543.0],[8.0,4794.0],[31.0,2516.0],[19.0,3778.0],[68.0,2867.0],[77.0,233.0],[39.0,1972.0],[36.0,4807.0],[24.0,4667.0],[79.0,5034.0],[42.0,633.0],[45.0,3077.0],[33.0,415.0],[55.0,3153.0],[44.0,1921.0],[34.0,3592.0],[30.0,1090.0],[37.0,1583.0],[17.0,4950.0],[59.0,881.0],[75.0,17.0],[45.0,3839.0],[45.0,1832.0],[64.0,1840.0],[64.0,3720.0],[53.0,596.0],[45.0,1670.0],[16.0,2254.0],[23.0,2142.0],[28.0,1629.0],[25.0,1822.0],[70.0,5075.0],[18.0,371.0],[78.0,1448.0],[39.0,1909.0],[56.0,652.0],[15.0,598.0],[26.0,676.0],[51.0,238.0],[30.0,4347.0],[55.0,2517.0],[78.0,3794.0],[55.0,3831.0],[67.0,3878.0],[80.0,75.0],[17.0,1425.0],[68.0,2948.0],[51.0,3639.0],[75.0,3263.0],[81.0,5071.0],[68.0,5002.0],[76.0,1566.0],[76.0,2985.0],[6.0,1647.0],[61.0,1126.0],[73.0,4349.0],[1.72,2194.0],[82.0,4716.0],[70.0,96.0],[63.0,3408.0],[28.0,3667.0],[21.0,5030.0],[80.0,621.0],[2.0,4961.0],[34.0,3814.0],[27.0,566.0],[65.0,1755.0],[17.0,2714.0],[46.0,748.0],[51.0,4460.0],[78.0,51.0],[17.0,5077.0],[45.0,3013.0],[75.0,1335.0],[49.0,2251.0],[20.0,534.0],[56.0,745.0],[1.72,5079.0],[61.0,3528.0],[20.0,443.0],[64.0,4987.0],[59.0,195.0],[31.0,4826.0],[4.0,893.0],[48.0,1788.0],[10.0,3044.0],[29.0,3904.0],[40.0,3026.0],[16.0,3438.0],[80.0,2685.0],[57.0,3070.0],[65.0,4264.0],[43.0,644.0],[22.0,3755.0],[59.0,3697.0],[16.0,1726.0],[7.0,4501.0],[58.0,120.0],[33.0,1204.0],[39.0,2131.0],[11.0,1253.0],[8.0,4997.0],[33.0,5024.0],[41.0,2351.0],[68.0,134.0],[39.0,2580.0],[57.0,4827.0],[59.0,2011.0],[5.0,3678.0],[61.0,184.0],[46.0,2895.0],[81.0,1780.0],[51.0,511.0],[71.0,4165.0],[67.0,62.0],[45.0,4406.0],[57.0,2802.0],[61.0,4427.0],[2.0,3268.0],[64.0,2053.0],[8.0,251.0],[40.0,625.0],[50.0,1550.0],[35.0,1514.0],[30.0,3895.0],[23.0,3837.0],[80.0,122.0],[32.0,3654.0],[21.0,3518.0],[72.0,2029.0],[27.0,2575.0],[72.0,5085.0],[25.0,567.0],[80.0,2818.0],[37.0,3349.0],[13.0,693.0],[80.0,3686.0],[51.0,1606.0],[8.0,4649.0],[46.0,1293.0],[46.0,2656.0],[18.0,4976.0],[41.0,2807.0],[81.0,720.0],[18.0,4863.0],[18.0,2133.0],[13.0,1789.0],[1.0,1432.0],[47.0,3911.0],[39.0,602.0],[8.0,1281.0],[48.0,1468.0],[35.0,2005.0],[56.0,2266.0],[58.0,3630.0],[48.0,318.0],[48.0,2228.0],[20.0,2834.0],[25.0,274.0],[80.0,2002.0],[77.0,549.0],[58.0,1374.0],[69.0,944.0],[70.0,5001.0],[48.0,4417.0],[5.0,605.0],[49.0,3909.0],[30.0,527.0],[14.0,4825.0],[60.0,2462.0],[42.0,2528.0],[61.0,829.0],[43.0,4481.0],[81.0,4933.0],[1.56,1957.0],[61.0,1815.0],[69.0,298.0],[59.0,68.0],[58.0,4377.0],[53.0,1961.0],[8.0,3758.0],[37.0,3912.0],[81.0,4198.0],[55.0,3014.0],[25.0,4124.0],[79.0,150.0],[18.0,756.0],[22.0,1554.0],[11.0,4423.0],[28.0,3694.0],[55.0,1322.0],[32.0,4620.0],[20.0,1268.0],[73.0,3150.0],[0.88,376.0],[41.0,1096.0],[59.0,1782.0],[43.0,859.0],[1.32,3097.0],[15.0,2987.0],[11.0,2015.0],[14.0,378.0],[52.0,3960.0],[25.0,3305.0],[7.0,3651.0],[57.0,2111.0],[45.0,1434.0],[8.0,2042.0],[44.0,5015.0],[57.0,3172.0],[43.0,1419.0],[67.0,2215.0],[29.0,2384.0],[26.0,4050.0],[42.0,794.0],[12.0,4262.0],[53.0,841.0],[81.0,4724.0],[32.0,2877.0],[72.0,175.0],[14.0,3434.0],[82.0,2876.0],[64.0,927.0],[53.0,2407.0],[76.0,45.0],[35.0,3248.0],[11.0,4439.0],[46.0,4969.0],[4.0,4398.0],[27.0,896.0],[62.0,2373.0],[0.08,3295.0],[57.0,2022.0],[68.0,1879.0],[1.0,2240.0],[56.0,3906.0],[42.0,3258.0],[3.0,1702.0],[53.0,2592.0],[58.0,283.0],[79.0,4823.0],[32.0,1779.0],[72.0,3456.0],[59.0,5007.0],[5.0,5070.0],[75.0,3689.0],[23.0,4247.0],[0.48,4645.0],[32.0,3941.0],[78.0,2576.0],[59.0,2596.0],[49.0,3101.0],[48.0,2678.0],[63.0,1891.0],[78.0,2826.0],[68.0,4683.0],[69.0,4284.0],[1.64,1101.0],[5.0,1047.0],[38.0,4660.0],[43.0,2813.0],[48.0,2492.0],[29.0,3053.0],[69.0,99.0],[6.0,2157.0],[9.0,1421.0],[18.0,2644.0],[58.0,2614.0],[47.0,351.0],[9.0,4030.0],[24.0,3187.0],[53.0,1025.0],[5.0,4025.0],[22.0,718.0],[34.0,2835.0],[14.0,2856.0],[17.0,4487.0],[52.0,2648.0],[30.0,308.0],[54.0,3126.0],[5.0,833.0],[43.0,366.0],[37.0,1784.0],[69.0,3469.0],[31.0,4603.0],[1.32,4640.0],[47.0,2664.0],[47.0,949.0],[76.0,1200.0],[65.0,3154.0],[57.0,19.0],[52.0,2100.0],[54.0,4966.0],[48.0,668.0],[76.0,218.0],[10.0,3137.0],[53.0,438.0],[1.8,3786.0],[23.0,1212.0],[71.0,3669.0],[62.0,3454.0],[1.88,3605.0],[1.32,4934.0],[49.0,4835.0],[56.0,4105.0],[78.0,2902.0]],\"marker\":{\"color\":[0.03705543142757898,0.07251333808281334,0.1769631554851816,0.4056712722941544,0.7820937696955298,0.6441229124864432,0.5179360508306745,0.6528268764960039,0.03752528047621537,0.1509301312395831,0.17286341367040917,0.06388876340430338,0.5835689236335317,0.30645836597525855,0.18951425867743982,0.06363183085223802,0.12199853220475135,0.02538204654609354,0.028810554780151938,0.02611239015119674,0.08918778731729099,0.13308674827566247,0.04405937057017874,0.03307243735271492,0.02611239015119674,0.4412055891460216,0.04724195975291668,0.2900748540668512,0.5908455322494783,0.032930026199125884,0.6883280939813806,0.10549590666313038,0.2565018089687796,0.03214576858445185,0.02538204654609354,0.02611239015119674,0.7116913582834984,0.030233218934939035,0.7177962087292918,0.5420522834379219,0.12656819320048696,0.17560559598925016,0.02611239015119674,0.06155921060441408,0.42544390744348304,0.52168653006826,0.1104627586345667,0.498009682643119,0.14461534110410737,0.029610004178276767,0.028810554780151938,0.029689845520181717,0.27816693003653586,0.05892423283530798,0.05630393447711394,0.4567718382801203,0.18162584310995034,0.6389415310903154,0.02611239015119674,0.2234806785783158,0.1443505245282599,0.7893679918585812,0.4199912037218164,0.12770560436984368,0.0959197124914502,0.16313018626069056,0.12770560436984368,0.1579413306867741,0.4806162206641261,0.7941841472133475,0.02611239015119674,0.12597427381981163,0.2911596913627409,0.08182970071845498,0.13088069020892493,0.2573559888847308,0.02611239015119674,0.6635540445954285,0.16678400195519455,0.8071144461302555,0.1994521981216939,0.37801978986541285,0.564982692543406,0.10171017828020493,0.08574027427930427,0.09522929899362609,0.3769804039889715,0.3718338169540077,0.4275604230428509,0.03173829706169644,0.031270722147915035,0.5505165736417384,0.47369504570463755,0.1366915805445304,0.032930026199125884,0.273769808259196,0.6904458224394674,0.5764548896415047,0.11272070160980513,0.4654883873595381,0.38623081519714886,0.4616472843264387,0.02538204654609354,0.04655102836904046,0.6558434237742555,0.028810554780151938,0.1574649803868725,0.02611239015119674,0.6730886434419696,0.03043188429002411,0.09764895840669759,0.08517298777698996,0.23967702678589287,0.2653271419744298,0.6810454922210387,0.5206025022514155,0.526651362899425,0.09487589819602178,0.18814780943701476,0.5950515355501926,0.11498179093132606,0.7807178247149008,0.13653903296119357,0.02611239015119674,0.3068582591619012,0.458226569340795,0.6033802681175006,0.02538204654609354,0.5975892469569405,0.5015066287222095,0.5828008689404117,0.3349946899017583,0.03307243735271492,0.08569298943905806,0.5980382031649363,0.3716527040061184,0.03834459560066273,0.6120787621347747,0.43689806594930913,0.02846943819504895,0.36845957694931913,0.02538204654609354,0.2519976026082788,0.0778537252973487,0.027402351847310474,0.02946404894086588,0.2636521557341558,0.3034965211722732,0.8183891927628543,0.02538204654609354,0.02538204654609354,0.6645124950467174,0.23720425939756162,0.7774437228954331,0.5126083199320097,0.335134829089159,0.30333095629723816,0.0355490914416688,0.030841096710926563,0.7076939696902664,0.5390891827816703,0.02538204654609354,0.28639472866627,0.7792252371297698,0.4722003560839701,0.20667234894894349,0.029378551861101797,0.8071144461302555,0.02611239015119674,0.29323913922759753,0.03214576858445185,0.029107825206048085,0.6179833004282295,0.02538204654609354,0.7144112412112957,0.14007154547664696,0.26795397385050995,0.5826581217234555,0.6079785112218905,0.5458627443033242,0.05571384995857529,0.05289416870475435,0.02538204654609354,0.02611239015119674,0.32210215814720916,0.4153564732868672,0.09684802384742601,0.3071110022540132,0.11408484861245244,0.1554322717459224,0.02611239015119674,0.14108011170784127,0.7763587412847293,0.5471135799909433,0.06553704104020086,0.5337744481238511,0.0467795366756609,0.7281655592328187,0.7021515523657006,0.03096264536716822,0.02611239015119674,0.5206025022514155,0.26413820544829186,0.24621364140558172,0.1964709290131354,0.6459728103713475,0.02611239015119674,0.7570135782452548,0.030131814623610254,0.02611239015119674,0.02732322887865856,0.08555303941749769,0.032930026199125884,0.4859578791231667,0.031949972611296146,0.03307243735271492,0.04203801050619634,0.4788859652945867,0.06212552948479095,0.03752528047621537,0.041201128458452314,0.03042080474180096,0.19257719000816145,0.02538204654609354,0.7131785091685826,0.06566535021236385,0.036212707637333155,0.031181231910738728,0.5090966944688231,0.5096072403637426,0.5252549789860691,0.7617246181564139,0.6788931469513305,0.498009682643119,0.47783394373412014,0.2995394868559643,0.7076939696902664,0.030690716260946115,0.32032347973779274,0.02611239015119674,0.032930026199125884,0.02538204654609354,0.12134932234663097,0.30525985340461376,0.47718057993623425,0.13240240839525946,0.5323230771578827,0.5387620267402687,0.02611239015119674,0.029378551861101797,0.5337744481238511,0.4339657045195607,0.03869986179619622,0.48537876555535575,0.6389528794623374,0.6703073350273189,0.22006200375487125,0.2745625585798369,0.36303423631884596,0.8336581648135821,0.20842771640256508,0.3031210048625442,0.6697393767004305,0.03802019716171288,0.03794055363257716,0.4383746054073399,0.7333853600449803,0.03040676053712832,0.22625450261228014,0.23015858067481085,0.11271780756847447,0.5939286410420773,0.35894562031696114,0.5035649066312525,0.2911596913627409,0.03794055363257716,0.12656819320048696,0.06553704104020086,0.4920148764215404,0.032930026199125884,0.03307243735271492,0.5385879234694736,0.03096264536716822,0.047676364039377736,0.030737631039951602,0.1017440524320809,0.7741622899177385,0.26210556794178425,0.3610692800435585,0.06566535021236385,0.5505165736417384,0.37568164392759834,0.03038861680822892,0.02611239015119674,0.2809815626077941,0.20529017421254978,0.12199853220475135,0.02538204654609354,0.23393786633726998,0.10202707163236165,0.13088069020892493,0.5691647745064408,0.1687048550442385,0.5158833594651633,0.12203794008141143,0.6722599086308991,0.30394853860418103,0.1285962494624131,0.031270722147915035,0.15219235308830836,0.02611239015119674,0.09684802384742601,0.7186464649819088,0.17027845597327806,0.2592774156001304,0.032930026199125884,0.5443730348631984,0.2889607263571589,0.18296135362038982,0.02538204654609354,0.02611239015119674,0.03540714392258485,0.09522929899362609,0.22978812012188052,0.3832486156105091,0.5250465628801823,0.6003702740304808,0.3068582591619012,0.09522929899362609,0.4178401562912519,0.06954998628863097,0.030313199320410864,0.34869879426516337,0.31361842684910096,0.5618772532097279,0.10737090216832972,0.030841096710926563,0.611814651982004,0.02538204654609354,0.07612046976724264,0.3602557245442662,0.4372864499991104,0.3268249255509277,0.1061333345504323,0.1769631554851816,0.3071172473111938,0.18157098708744665,0.19557631053136065,0.5699299592752305,0.03794055363257716,0.03214576858445185,0.02611239015119674,0.5952486231444847,0.054689792487325674,0.12308043591800281,0.21312069904630787,0.5360827733861164,0.030459913924318686,0.07971346553133872,0.06154484521912469,0.02611239015119674,0.10671420140293916,0.07346937234307542,0.5145840918816027,0.044340599345512176,0.4920148764215404,0.8749090770308694,0.04557273340518328,0.3195694791261286,0.5323177129844376,0.6080544815459944,0.030841096710926563,0.5097032251536054,0.1806875470720108,0.7752218590827441,0.7635143894071387,0.46016592531594736,0.4416804296198146,0.5242667409734969,0.04129537737295402,0.02611239015119674,0.28901048260383605,0.13088069020892493,0.778064418356352,0.028810554780151938,0.5589331238955005,0.5504296613620657,0.02703605745672477,0.041461472457777405,0.028810554780151938,0.07108545285864988,0.035758682548298226,0.15136712302192232,0.029829842299175676,0.2878163721639553,0.540020446734184,0.03307243735271492,0.6033802681175006,0.6327137277705696,0.09334184961020879,0.3733312631777753,0.03719394686170317,0.02611239015119674,0.6722581802131846,0.03307243735271492,0.03096264536716822,0.029107825206048085,0.15136712302192232,0.09522929899362609,0.31480106855533385,0.05492036885630367,0.13248399752594134,0.02703605745672477,0.5245692174902162,0.04001694247591328,0.044306030874396815,0.09522929899362609,0.11345287832165081,0.6625393586546868,0.2993472835791526,0.02538204654609354,0.6128676461922362,0.3872642290808501,0.6139441138341235,0.18534360880937795,0.04245145902136095,0.20529017421254978,0.29766852410014066,0.28249207790403297,0.13837853439691386,0.11017015813998499,0.8332688585886254,0.17957411577645244,0.0370828025807562,0.03824674272839561,0.590282822774618,0.5206025022514155,0.12596458203220384,0.031270722147915035,0.043683124767164426,0.7785320934848606,0.577902938232583,0.14525658740899083,0.09370592830873506,0.10711629025435919,0.033531218341715185,0.13240240839525946,0.3924526333038388,0.032930026199125884,0.12727417995394066,0.15472904090359074,0.3542270670993309,0.8203644837945772,0.03096264536716822,0.12308043591800281,0.15136712302192232,0.029427955635743065,0.03714025000882871,0.15423134194102397,0.6713654983720199,0.7509896408910115,0.029829842299175676,0.08962609331136223,0.02611239015119674,0.12415325150542006,0.05021493212752268,0.14981704936576992,0.02611239015119674,0.43393048517808236,0.02946404894086588,0.5511900212769177,0.4652802855103896,0.3579595887456769,0.22875083184961434,0.13240240839525946,0.540020446734184,0.1692876003593719,0.02611239015119674,0.02703605745672477,0.11567267692665978,0.02538204654609354,0.10722900777998431,0.5980382031649363,0.03179759857517806,0.1249767446560981,0.21453660237883607,0.18295931478635122,0.02946404894086588,0.45986877619232647,0.0467795366756609,0.030313199320410864,0.2603069169891883,0.110103401717526,0.04434673374834145,0.1951136124912893,0.02611239015119674,0.4956453504617391,0.02611239015119674,0.8526579670404412,0.7475877049556394,0.3769804039889715,0.028526001667599284,0.5954093117681976,0.02538204654609354,0.5778633139942073,0.28050241875567206,0.7575858143856259,0.02538204654609354,0.029378551861101797,0.22132779512317974,0.02538204654609354,0.6663784256089816,0.5980382031649363,0.02611239015119674,0.13441931694445822,0.037731483959955674,0.829432344172175,0.044340599345512176,0.34747039209045005,0.6083753908228546,0.6628764801104429,0.1644795907221662,0.539518892907857,0.07633724279403742,0.02946404894086588,0.03719394686170317,0.15136712302192232,0.7028229764630743,0.02538204654609354,0.0793873523411026,0.8091752288066977,0.02611239015119674,0.6086524347982973,0.031270722147915035,0.2548301847593181,0.6379016413914156,0.08240157250098089,0.02538204654609354,0.10268838516336963,0.678121065776764,0.035758682548298226,0.2788511305720147,0.22638179734877575,0.028526001667599284,0.031270722147915035,0.39826090705405603,0.2811600543075891,0.02821481995403673,0.032930026199125884,0.5285285614278192,0.8071144461302555,0.3427957315330199,0.715941157975645,0.02611239015119674,0.13807464412999618,0.11800030732910892,0.7727361577681301,0.2310973036369297,0.02538204654609354,0.7930130191911697,0.16428577401483258,0.032930026199125884,0.10202707163236165,0.032930026199125884,0.5977590007717875,0.4326786140636061,0.5946639267234171,0.03307243735271492,0.030841096710926563,0.273769808259196,0.02538204654609354,0.29223101460809275,0.02946404894086588,0.6033802681175006,0.12770560436984368,0.6628764801104429,0.44796200760729793,0.37514056965240994,0.19691357724146716,0.5754312339873909,0.1216686063535874,0.03307243735271492,0.08307028778374763,0.7205766766996521,0.7108297768488303,0.08962609331136223,0.03752528047621537,0.10671420140293916,0.02611239015119674,0.02459655607099628,0.6161519571629607,0.30009609999098646,0.12656819320048696,0.029689845520181717,0.02538204654609354,0.6963859119997229,0.32573559500318094,0.22550269116892294,0.10933783241068441,0.1980772647501723,0.5495892764816017,0.6940756338554162,0.7816431112166259,0.3741966574025041,0.5582838200624355,0.3157139840540492,0.5779196462261588,0.0786959348522675,0.3808864480301688,0.7045154581640941,0.5986591520937655,0.5337744481238511,0.7740948945541837,0.6326095772824828,0.5315563142962714,0.8911370082456204,0.3738739093371649,0.30110683979211317,0.0833217924130902,0.2747861236580522,0.31541123100856905,0.7882402416728469,0.03214576858445185,0.3298328955410033,0.7653574646853221,0.11324993664745332,0.02611239015119674,0.05954869041349259,0.029378551861101797,0.6002518140348733,0.02611239015119674,0.2828792436414354,0.6628764801104429,0.03411318529134913,0.02538204654609354,0.03166429372616153,0.23901657291928136,0.3421774556711263,0.21048582278637776,0.4842168843654349,0.02538204654609354,0.30841865701394583,0.08495198832332378,0.030737631039951602,0.5534420236330246,0.02611239015119674,0.13150843144974161,0.16737165368401788,0.6161519571629607,0.5003226159055586,0.3804963215686087,0.4128402033477564,0.5839296514641457,0.06909144440860873,0.02611239015119674,0.7042346213830216,0.5642812998649207,0.7025655659895944,0.2950280222301225,0.02946404894086588,0.6119563390088032,0.07203636150430544,0.02946404894086588,0.8477245865794757,0.553689654430878,0.358318961731099,0.7151302184662124,0.30280799320594337,0.02611239015119674,0.49245528520925613,0.1974555109857618,0.16555431284360778,0.02611239015119674,0.028526001667599284,0.15366067390817384,0.02611239015119674,0.15748132198929407,0.22167620394404047,0.02946404894086588,0.6469602494001949,0.1025570907316305,0.5151190382065827,0.8588482586139752,0.14461534110410737,0.032930026199125884,0.34237599922339446,0.02538204654609354,0.02538204654609354,0.3272862963615538,0.5405832231297797,0.4641431445837377,0.7756706129358358,0.22624704471333662,0.22640922902246438,0.029378551861101797,0.14651841049127748,0.615076168432764,0.028526001667599284,0.10959746096672371,0.5425829344079979,0.02611239015119674,0.0337377359720131,0.39834440894687584,0.04217096787398719,0.276140750981786,0.03307243735271492,0.7082096141933532,0.23323136605225872,0.12306085324930044,0.582968428805863,0.1769631554851816,0.10959746096672371,0.08068805883543899,0.4317673133168846,0.030331299429368103,0.10036189607342876,0.1708313057259861,0.02538204654609354,0.02538204654609354,0.22006200375487125,0.6551590396209398,0.4324033748742606,0.09334184961020879,0.14689036128410138,0.032930026199125884,0.8897215800972564,0.2621694392608742,0.19740975023721818,0.13715001948867833,0.29495246618198495,0.20907758063532064,0.1314124358642189,0.02538204654609354,0.16744625703197089,0.13248399752594134,0.7080066154928694,0.5473803640242476,0.08159805700567911,0.3002812388436183,0.7172515122118721,0.5324891560291256,0.1403285873160144,0.11295604921033212,0.032930026199125884,0.12770560436984368,0.02611239015119674,0.06194945321658919,0.6766674119499124,0.11485862781108219,0.7966195920374286,0.06939577648668545,0.4611753262027569,0.02703605745672477,0.02611239015119674,0.5141846558290749,0.03096264536716822,0.24358123682133265,0.8050280837962398,0.29748943426198604,0.619429166645771,0.3094290835138672,0.13248399752594134,0.7419089238855697,0.5917993477418649,0.34365957559087773,0.7715928244440446,0.7312157673614198,0.3764583113198135,0.7752218590827441,0.1313094446652799,0.6811297173272584,0.7629447338330455,0.02538204654609354,0.7009848830860501,0.44254562578559675,0.5963115659961935,0.032405332892480765,0.035109865212696274,0.884170384897653,0.1104627586345667,0.1512402101273437,0.02946404894086588,0.2559123548753513,0.02538204654609354,0.07466573923603355,0.13467245961574717,0.7116618029069826,0.02538204654609354,0.12479984060421348,0.539830539915203,0.09918474725706716,0.044340599345512176,0.5379914112579582,0.04557273340518328,0.5580849626370673,0.030029593130772744,0.6238356526419734,0.7103168037495052,0.13088069020892493,0.14461534110410737,0.4317673133168846,0.04232052917692005,0.02611239015119674,0.07612046976724264,0.02538204654609354,0.6057584401319339,0.577902938232583,0.053007978590335667,0.0683355593967638,0.02703605745672477,0.5445790342315121,0.10671420140293916,0.04557273340518328,0.5850696872738715,0.02611239015119674,0.2322966423543414,0.02538204654609354,0.02611239015119674,0.03794055363257716,0.12284035229807194,0.3846863464430136,0.052784675706561444,0.5720471713026143,0.3535887426650486,0.02611239015119674,0.5453700778629755,0.14276118936482932,0.43188308179622664,0.6086524347982973,0.47455242150565263,0.22978956165065867,0.23127552624785513,0.4956453504617391,0.7292814800328227,0.02611239015119674,0.509174825379616,0.02611239015119674,0.3182543044552696,0.20067918456595224,0.029427955635743065,0.02611239015119674,0.044340599345512176,0.8203644837945772,0.02611239015119674,0.11735219250704351,0.7629351820732262,0.03627348750092042,0.8416870685484825,0.028810554780151938,0.6542273819065747,0.060309672792601195,0.03096264536716822,0.42255893858472404,0.18157098708744665,0.02538204654609354,0.12373762461788923,0.1803825630000421,0.03096264536716822,0.08429893765216134,0.6722581802131846,0.10202707163236165,0.08331625954303025,0.12770560436984368,0.02538204654609354,0.2613919616644484,0.08937131601602097,0.02538204654609354,0.15270383131646767,0.030313199320410864,0.18295931478635122,0.6938469351487814,0.4346517468326143,0.09206585022968891,0.029107825206048085,0.12203794008141143,0.6425797615246136,0.8183891927628543,0.5697242887740757,0.5519860020526479,0.8496935615349992,0.1502845615472762,0.02538204654609354,0.19929164123489834,0.03212038780686914,0.1769631554851816,0.6792805343115565,0.10108899399727167,0.43242341439981696,0.15472904090359074,0.87167668980557,0.02611239015119674,0.06864201990096216,0.3867523411811639,0.539518892907857,0.788800199135388,0.0928608179828809,0.04557273340518328,0.03834865535537879,0.541216278952442,0.6840296127403317,0.1248183770909872,0.8923940419645079,0.02611239015119674,0.13248399752594134,0.03166429372616153,0.033531218341715185,0.6840296127403317,0.028526001667599284,0.028526001667599284,0.341035468948762,0.02611239015119674,0.07971346553133872,0.7756706129358358,0.0772656351111986,0.03752528047621537,0.12770560436984368,0.02538204654609354,0.1769631554851816,0.4687381966257207,0.12983221814885287,0.02538204654609354,0.39128751471942746,0.26791942616987197,0.02538204654609354,0.09833365525036374,0.6265861538132099,0.15041996017881407,0.5255131230856073,0.0355618444865338,0.23570711461668745,0.14630463806426505,0.032930026199125884,0.22973280369504512,0.5579532180372707,0.03700601012641876,0.5455418091643031,0.04724195975291668,0.37977470873682734,0.27438248542519295,0.13527047225661426,0.7727955804726684,0.031270722147915035,0.043366411799502055,0.49852830078285615,0.02538204654609354,0.028810554780151938,0.36209310646816056,0.040673268657096834,0.3443707594669944,0.6189434804571197,0.029378551861101797,0.6226309805706439,0.15760415876128525,0.036212707637333155,0.25729402116109557,0.6721094576800547,0.8921902740245381,0.03794055363257716,0.7424792667343508,0.644641506275636,0.12308043591800281,0.4270835817875285,0.030313199320410864,0.02611239015119674,0.1354990642716163,0.3533601648833936,0.5980382031649363,0.5250475558040054,0.5882475951729657,0.5228271783880845,0.5655972254101098,0.30518028467389363,0.4460310802003649,0.03752528047621537,0.02611239015119674,0.2296646074931798,0.09568638158709267,0.5387890478184231,0.03473745399462814,0.7204261273625561,0.03752528047621537,0.04978984718665301,0.02611239015119674,0.6042354787185915,0.34120875332841993,0.02538204654609354,0.02538204654609354,0.5997636642028106,0.02538204654609354,0.044340599345512176,0.06147422410036017,0.028742987393903296,0.06347773827096022,0.21662323386649224,0.15667389033712023,0.18630638525238102,0.02538204654609354,0.08151073094895706,0.23809440070724008,0.42174598039262723,0.10724716312577348,0.12308043591800281,0.13150843144974161,0.2681451458931987,0.8785217998704016,0.5793698188444671,0.7007506396745239,0.457710613433995,0.3063282930485914,0.32909698283662847,0.22132779512317974,0.042633553670058125,0.23610236094873036,0.02611239015119674,0.07690058968598816,0.6444320099517762,0.13957596397650174,0.02538204654609354,0.02538204654609354,0.14147603945513115,0.12525504796996167,0.3418431463832907],\"coloraxis\":\"coloraxis\",\"line\":{\"color\":\"white\",\"width\":0.8},\"opacity\":0.8,\"size\":10}}],                        {\"template\":{\"data\":{\"scatter\":[{\"type\":\"scatter\"}]}},\"coloraxis\":{\"colorscale\":[[0.0,\"rgb(52, 55, 54)\"],[0.0017467601656389999,\"rgb(74, 99, 138)\"],[0.009603012527224829,\"rgb(116, 153, 214)\"],[0.04258205326058035,\"rgb(162, 188, 213)\"],[0.10917680542433333,\"rgb(212, 234, 242)\"],[0.16819399358866835,\"rgb(235, 216, 134)\"],[0.30266411572217344,\"rgb(255, 204, 83)\"],[0.4692002038086715,\"rgb(244, 192, 0)\"],[0.6060200031270219,\"rgb(255, 166, 17)\"],[0.7463280715492457,\"rgb(255, 123, 38)\"],[1.0,\"rgb(255, 77, 7)\"]],\"colorbar\":{\"title\":{\"text\":\"Predicted Proba\"}}},\"title\":{\"font\":{\"size\":24,\"family\":\"Arial\",\"color\":\"rgb(50, 50, 50)\"},\"xanchor\":\"center\",\"yanchor\":\"middle\",\"x\":0.5,\"y\":0.9,\"text\":\"<b>age</b> - Feature Contribution<br><sup>Response: <b>1</b></sup>\"},\"xaxis\":{\"title\":{\"font\":{\"size\":16,\"family\":\"Arial Black\",\"color\":\"rgb(50, 50, 50)\"},\"text\":\"age\"},\"automargin\":true},\"yaxis\":{\"title\":{\"font\":{\"size\":16,\"family\":\"Arial Black\",\"color\":\"rgb(50, 50, 50)\"},\"text\":\"Contribution\"},\"automargin\":true},\"width\":900,\"height\":600,\"hovermode\":\"closest\"},                        {\"responsive\": true}                    ).then(function(){\n",
       "                            \n",
       "var gd = document.getElementById('1583d930-f9a2-4cac-878f-3e0a0dc0cfd5');\n",
       "var x = new MutationObserver(function (mutations, observer) {{\n",
       "        var display = window.getComputedStyle(gd).display;\n",
       "        if (!display || display === 'none') {{\n",
       "            console.log([gd, 'removed!']);\n",
       "            Plotly.purge(gd);\n",
       "            observer.disconnect();\n",
       "        }}\n",
       "}});\n",
       "\n",
       "// Listen for the removal of the full notebook cells\n",
       "var notebookContainer = gd.closest('#notebook-container');\n",
       "if (notebookContainer) {{\n",
       "    x.observe(notebookContainer, {childList: true});\n",
       "}}\n",
       "\n",
       "// Listen for the clearing of the current output cell\n",
       "var outputEl = gd.closest('.output');\n",
       "if (outputEl) {{\n",
       "    x.observe(outputEl, {childList: true});\n",
       "}}\n",
       "\n",
       "                        })                };                });            </script>        </div>"
      ]
     },
     "metadata": {},
     "output_type": "display_data"
    }
   ],
   "source": [
    "#PDP plot for age \n",
    "xpl.plot.contribution_plot(col=\"age\")"
   ]
  },
  {
   "cell_type": "code",
   "execution_count": 24,
   "id": "b0a1e335",
   "metadata": {
    "ExecuteTime": {
     "end_time": "2022-12-20T07:57:12.937383Z",
     "start_time": "2022-12-20T07:57:10.346388Z"
    }
   },
   "outputs": [
    {
     "name": "stdout",
     "output_type": "stream",
     "text": [
      "\u001b[1m\u001b[4m Dalex Explainer \u001b[0m\n",
      "Start Time: 2023-02-05 04:01:12.891799\n",
      "Preparation of a new explainer is initiated\n",
      "\n",
      "  -> data              : 5110 rows 7 cols\n",
      "  -> target variable   : Parameter 'y' was a pandas.Series. Converted to a numpy.ndarray.\n",
      "  -> target variable   : 5110 values\n",
      "  -> model_class       : lightgbm.sklearn.LGBMClassifier (default)\n",
      "  -> label             : Not specified, model's class short name will be used. (default)\n",
      "  -> predict function  : <function yhat_proba_default at 0x7fecf88bc1f0> will be used (default)\n",
      "  -> predict function  : Accepts pandas.DataFrame and numpy.ndarray.\n",
      "  -> predicted values  : min = 0.0246, mean = 0.275, max = 0.892\n",
      "  -> model type        : classification will be used (default)\n",
      "  -> residual function : difference between y and yhat (default)\n",
      "  -> residuals         : min = -0.892, mean = -0.227, max = 0.936\n",
      "  -> model_info        : package lightgbm\n",
      "\n",
      "A new explainer has been created!\n",
      "End Time: 2023-02-05 04:01:13.061541\n",
      "Total time taken:\u001b[1m0:00:00.169742\u001b[0m\n"
     ]
    }
   ],
   "source": [
    "#create a break down explainer for the model\n",
    "print('\\033[1m'+ '\\033[4m' + \" Dalex Explainer \" +'\\033[0m')\n",
    "start_time = datetime.now()\n",
    "print(\"Start Time: {}\" .format(start_time))\n",
    "\n",
    "exp = dx.Explainer(model,X,y['stroke']) \n",
    "\n",
    "end_time = datetime.now() \n",
    "print(\"End Time: {}\" .format(end_time))\n",
    "print('Total time taken:' + '\\033[1m' + str(end_time - start_time) + '\\033[0m')"
   ]
  },
  {
   "cell_type": "code",
   "execution_count": 25,
   "id": "d2ea0ab5",
   "metadata": {
    "ExecuteTime": {
     "end_time": "2022-11-07T07:40:29.104902Z",
     "start_time": "2022-11-07T07:40:28.350231Z"
    },
    "tags": [
     "remove-output"
    ]
   },
   "outputs": [
    {
     "data": {
      "application/vnd.plotly.v1+json": {
       "config": {
        "displaylogo": false,
        "modeBarButtonsToRemove": [
         "sendDataToCloud",
         "lasso2d",
         "autoScale2d",
         "select2d",
         "zoom2d",
         "pan2d",
         "zoomIn2d",
         "zoomOut2d",
         "resetScale2d",
         "toggleSpikelines",
         "hoverCompareCartesian",
         "hoverClosestCartesian"
        ],
        "plotlyServerURL": "https://plot.ly",
        "staticPlot": false,
        "toImageButtonOptions": {
         "height": null,
         "width": null
        }
       },
       "data": [
        {
         "customdata": [
          [
           0.2521457525732498,
           "LGBMClassifier",
           "age"
          ],
          [
           0.2521457525732498,
           "LGBMClassifier",
           "age"
          ],
          [
           0.2521457525732498,
           "LGBMClassifier",
           "age"
          ],
          [
           0.2521457525732498,
           "LGBMClassifier",
           "age"
          ],
          [
           0.2521457525732498,
           "LGBMClassifier",
           "age"
          ],
          [
           0.2521457525732498,
           "LGBMClassifier",
           "age"
          ],
          [
           0.2521457525732498,
           "LGBMClassifier",
           "age"
          ],
          [
           0.2521457525732498,
           "LGBMClassifier",
           "age"
          ],
          [
           0.2521457525732498,
           "LGBMClassifier",
           "age"
          ],
          [
           0.2521457525732498,
           "LGBMClassifier",
           "age"
          ],
          [
           0.2521457525732498,
           "LGBMClassifier",
           "age"
          ],
          [
           0.2521457525732498,
           "LGBMClassifier",
           "age"
          ],
          [
           0.2521457525732498,
           "LGBMClassifier",
           "age"
          ],
          [
           0.2521457525732498,
           "LGBMClassifier",
           "age"
          ],
          [
           0.2521457525732498,
           "LGBMClassifier",
           "age"
          ],
          [
           0.2521457525732498,
           "LGBMClassifier",
           "age"
          ],
          [
           0.2521457525732498,
           "LGBMClassifier",
           "age"
          ],
          [
           0.2521457525732498,
           "LGBMClassifier",
           "age"
          ],
          [
           0.2521457525732498,
           "LGBMClassifier",
           "age"
          ],
          [
           0.2521457525732498,
           "LGBMClassifier",
           "age"
          ],
          [
           0.2521457525732498,
           "LGBMClassifier",
           "age"
          ],
          [
           0.2521457525732498,
           "LGBMClassifier",
           "age"
          ],
          [
           0.2521457525732498,
           "LGBMClassifier",
           "age"
          ],
          [
           0.2521457525732498,
           "LGBMClassifier",
           "age"
          ],
          [
           0.2521457525732498,
           "LGBMClassifier",
           "age"
          ],
          [
           0.2521457525732498,
           "LGBMClassifier",
           "age"
          ],
          [
           0.2521457525732498,
           "LGBMClassifier",
           "age"
          ],
          [
           0.2521457525732498,
           "LGBMClassifier",
           "age"
          ],
          [
           0.2521457525732498,
           "LGBMClassifier",
           "age"
          ],
          [
           0.2521457525732498,
           "LGBMClassifier",
           "age"
          ],
          [
           0.2521457525732498,
           "LGBMClassifier",
           "age"
          ],
          [
           0.2521457525732498,
           "LGBMClassifier",
           "age"
          ],
          [
           0.2521457525732498,
           "LGBMClassifier",
           "age"
          ],
          [
           0.2521457525732498,
           "LGBMClassifier",
           "age"
          ],
          [
           0.2521457525732498,
           "LGBMClassifier",
           "age"
          ],
          [
           0.2521457525732498,
           "LGBMClassifier",
           "age"
          ],
          [
           0.2521457525732498,
           "LGBMClassifier",
           "age"
          ],
          [
           0.2521457525732498,
           "LGBMClassifier",
           "age"
          ],
          [
           0.2521457525732498,
           "LGBMClassifier",
           "age"
          ],
          [
           0.2521457525732498,
           "LGBMClassifier",
           "age"
          ],
          [
           0.2521457525732498,
           "LGBMClassifier",
           "age"
          ],
          [
           0.2521457525732498,
           "LGBMClassifier",
           "age"
          ],
          [
           0.2521457525732498,
           "LGBMClassifier",
           "age"
          ],
          [
           0.2521457525732498,
           "LGBMClassifier",
           "age"
          ],
          [
           0.2521457525732498,
           "LGBMClassifier",
           "age"
          ],
          [
           0.2521457525732498,
           "LGBMClassifier",
           "age"
          ],
          [
           0.2521457525732498,
           "LGBMClassifier",
           "age"
          ],
          [
           0.2521457525732498,
           "LGBMClassifier",
           "age"
          ],
          [
           0.2521457525732498,
           "LGBMClassifier",
           "age"
          ],
          [
           0.2521457525732498,
           "LGBMClassifier",
           "age"
          ],
          [
           0.2521457525732498,
           "LGBMClassifier",
           "age"
          ],
          [
           0.2521457525732498,
           "LGBMClassifier",
           "age"
          ],
          [
           0.2521457525732498,
           "LGBMClassifier",
           "age"
          ],
          [
           0.2521457525732498,
           "LGBMClassifier",
           "age"
          ],
          [
           0.2521457525732498,
           "LGBMClassifier",
           "age"
          ],
          [
           0.2521457525732498,
           "LGBMClassifier",
           "age"
          ],
          [
           0.2521457525732498,
           "LGBMClassifier",
           "age"
          ],
          [
           0.2521457525732498,
           "LGBMClassifier",
           "age"
          ],
          [
           0.2521457525732498,
           "LGBMClassifier",
           "age"
          ],
          [
           0.2521457525732498,
           "LGBMClassifier",
           "age"
          ],
          [
           0.2521457525732498,
           "LGBMClassifier",
           "age"
          ],
          [
           0.2521457525732498,
           "LGBMClassifier",
           "age"
          ],
          [
           0.2521457525732498,
           "LGBMClassifier",
           "age"
          ],
          [
           0.2521457525732498,
           "LGBMClassifier",
           "age"
          ],
          [
           0.2521457525732498,
           "LGBMClassifier",
           "age"
          ],
          [
           0.2521457525732498,
           "LGBMClassifier",
           "age"
          ],
          [
           0.2521457525732498,
           "LGBMClassifier",
           "age"
          ],
          [
           0.2521457525732498,
           "LGBMClassifier",
           "age"
          ],
          [
           0.2521457525732498,
           "LGBMClassifier",
           "age"
          ],
          [
           0.2521457525732498,
           "LGBMClassifier",
           "age"
          ],
          [
           0.2521457525732498,
           "LGBMClassifier",
           "age"
          ],
          [
           0.2521457525732498,
           "LGBMClassifier",
           "age"
          ],
          [
           0.2521457525732498,
           "LGBMClassifier",
           "age"
          ],
          [
           0.2521457525732498,
           "LGBMClassifier",
           "age"
          ],
          [
           0.2521457525732498,
           "LGBMClassifier",
           "age"
          ],
          [
           0.2521457525732498,
           "LGBMClassifier",
           "age"
          ],
          [
           0.2521457525732498,
           "LGBMClassifier",
           "age"
          ],
          [
           0.2521457525732498,
           "LGBMClassifier",
           "age"
          ],
          [
           0.2521457525732498,
           "LGBMClassifier",
           "age"
          ],
          [
           0.2521457525732498,
           "LGBMClassifier",
           "age"
          ],
          [
           0.2521457525732498,
           "LGBMClassifier",
           "age"
          ],
          [
           0.2521457525732498,
           "LGBMClassifier",
           "age"
          ],
          [
           0.2521457525732498,
           "LGBMClassifier",
           "age"
          ],
          [
           0.2521457525732498,
           "LGBMClassifier",
           "age"
          ],
          [
           0.2521457525732498,
           "LGBMClassifier",
           "age"
          ],
          [
           0.2521457525732498,
           "LGBMClassifier",
           "age"
          ],
          [
           0.2521457525732498,
           "LGBMClassifier",
           "age"
          ],
          [
           0.2521457525732498,
           "LGBMClassifier",
           "age"
          ],
          [
           0.2521457525732498,
           "LGBMClassifier",
           "age"
          ],
          [
           0.2521457525732498,
           "LGBMClassifier",
           "age"
          ],
          [
           0.2521457525732498,
           "LGBMClassifier",
           "age"
          ],
          [
           0.2521457525732498,
           "LGBMClassifier",
           "age"
          ],
          [
           0.2521457525732498,
           "LGBMClassifier",
           "age"
          ],
          [
           0.2521457525732498,
           "LGBMClassifier",
           "age"
          ],
          [
           0.2521457525732498,
           "LGBMClassifier",
           "age"
          ],
          [
           0.2521457525732498,
           "LGBMClassifier",
           "age"
          ],
          [
           0.2521457525732498,
           "LGBMClassifier",
           "age"
          ],
          [
           0.2521457525732498,
           "LGBMClassifier",
           "age"
          ],
          [
           0.2521457525732498,
           "LGBMClassifier",
           "age"
          ],
          [
           0.2521457525732498,
           "LGBMClassifier",
           "age"
          ],
          [
           0.2521457525732498,
           "LGBMClassifier",
           "age"
          ]
         ],
         "hovertemplate": "<b>%{hovertext}</b><br><br>prediction=%{y:.3f}<br>mean_prediction=%{customdata[0]:.3f}<extra></extra>",
         "hovertext": [
          "LGBMClassifier",
          "LGBMClassifier",
          "LGBMClassifier",
          "LGBMClassifier",
          "LGBMClassifier",
          "LGBMClassifier",
          "LGBMClassifier",
          "LGBMClassifier",
          "LGBMClassifier",
          "LGBMClassifier",
          "LGBMClassifier",
          "LGBMClassifier",
          "LGBMClassifier",
          "LGBMClassifier",
          "LGBMClassifier",
          "LGBMClassifier",
          "LGBMClassifier",
          "LGBMClassifier",
          "LGBMClassifier",
          "LGBMClassifier",
          "LGBMClassifier",
          "LGBMClassifier",
          "LGBMClassifier",
          "LGBMClassifier",
          "LGBMClassifier",
          "LGBMClassifier",
          "LGBMClassifier",
          "LGBMClassifier",
          "LGBMClassifier",
          "LGBMClassifier",
          "LGBMClassifier",
          "LGBMClassifier",
          "LGBMClassifier",
          "LGBMClassifier",
          "LGBMClassifier",
          "LGBMClassifier",
          "LGBMClassifier",
          "LGBMClassifier",
          "LGBMClassifier",
          "LGBMClassifier",
          "LGBMClassifier",
          "LGBMClassifier",
          "LGBMClassifier",
          "LGBMClassifier",
          "LGBMClassifier",
          "LGBMClassifier",
          "LGBMClassifier",
          "LGBMClassifier",
          "LGBMClassifier",
          "LGBMClassifier",
          "LGBMClassifier",
          "LGBMClassifier",
          "LGBMClassifier",
          "LGBMClassifier",
          "LGBMClassifier",
          "LGBMClassifier",
          "LGBMClassifier",
          "LGBMClassifier",
          "LGBMClassifier",
          "LGBMClassifier",
          "LGBMClassifier",
          "LGBMClassifier",
          "LGBMClassifier",
          "LGBMClassifier",
          "LGBMClassifier",
          "LGBMClassifier",
          "LGBMClassifier",
          "LGBMClassifier",
          "LGBMClassifier",
          "LGBMClassifier",
          "LGBMClassifier",
          "LGBMClassifier",
          "LGBMClassifier",
          "LGBMClassifier",
          "LGBMClassifier",
          "LGBMClassifier",
          "LGBMClassifier",
          "LGBMClassifier",
          "LGBMClassifier",
          "LGBMClassifier",
          "LGBMClassifier",
          "LGBMClassifier",
          "LGBMClassifier",
          "LGBMClassifier",
          "LGBMClassifier",
          "LGBMClassifier",
          "LGBMClassifier",
          "LGBMClassifier",
          "LGBMClassifier",
          "LGBMClassifier",
          "LGBMClassifier",
          "LGBMClassifier",
          "LGBMClassifier",
          "LGBMClassifier",
          "LGBMClassifier",
          "LGBMClassifier",
          "LGBMClassifier",
          "LGBMClassifier",
          "LGBMClassifier",
          "LGBMClassifier",
          "LGBMClassifier"
         ],
         "legendgroup": "LGBMClassifier",
         "line": {
          "color": "#46bac2",
          "dash": "solid",
          "width": 2
         },
         "marker": {
          "symbol": "circle"
         },
         "mode": "lines",
         "name": "LGBMClassifier",
         "opacity": 1,
         "orientation": "v",
         "showlegend": true,
         "type": "scatter",
         "x": [
          0.08,
          0.8992,
          1.7184000000000001,
          2.5376000000000003,
          3.3568000000000002,
          4.176,
          4.9952000000000005,
          5.8144,
          6.6336,
          7.452800000000001,
          8.272,
          9.0912,
          9.910400000000001,
          10.729600000000001,
          11.5488,
          12.368,
          13.1872,
          14.006400000000001,
          14.825600000000001,
          15.6448,
          16.464,
          17.2832,
          18.1024,
          18.921599999999998,
          19.7408,
          20.56,
          21.3792,
          22.1984,
          23.017599999999998,
          23.8368,
          24.656,
          25.4752,
          26.2944,
          27.113599999999998,
          27.9328,
          28.752,
          29.5712,
          30.3904,
          31.2096,
          32.028800000000004,
          32.848,
          33.6672,
          34.4864,
          35.3056,
          36.1248,
          36.944,
          37.7632,
          38.5824,
          39.4016,
          40.2208,
          41.04,
          41.8592,
          42.6784,
          43.4976,
          44.3168,
          45.136,
          45.9552,
          46.7744,
          47.5936,
          48.4128,
          49.232,
          50.0512,
          50.870400000000004,
          51.6896,
          52.5088,
          53.328,
          54.1472,
          54.9664,
          55.7856,
          56.604800000000004,
          57.424,
          58.2432,
          59.062400000000004,
          59.8816,
          60.7008,
          61.52,
          62.3392,
          63.1584,
          63.9776,
          64.7968,
          65.616,
          66.4352,
          67.2544,
          68.0736,
          68.89280000000001,
          69.712,
          70.5312,
          71.35040000000001,
          72.1696,
          72.9888,
          73.808,
          74.6272,
          75.4464,
          76.2656,
          77.0848,
          77.904,
          78.7232,
          79.5424,
          80.3616,
          81.1808,
          82
         ],
         "xaxis": "x",
         "y": [
          0.044745558696692056,
          0.044745558696692056,
          0.044745558696692056,
          0.044745558696692056,
          0.044745558696692056,
          0.044745558696692056,
          0.044745558696692056,
          0.044745558696692056,
          0.044745558696692056,
          0.044745558696692056,
          0.044595614794034816,
          0.044595614794034816,
          0.044595614794034816,
          0.044595614794034816,
          0.044595614794034816,
          0.044595614794034816,
          0.044595614794034816,
          0.044595614794034816,
          0.044595614794034816,
          0.044595614794034816,
          0.044595614794034816,
          0.044595614794034816,
          0.044595614794034816,
          0.044595614794034816,
          0.044595614794034816,
          0.044595614794034816,
          0.044595614794034816,
          0.044595614794034816,
          0.044595614794034816,
          0.044595614794034816,
          0.044595614794034816,
          0.044595614794034816,
          0.044595614794034816,
          0.044595614794034816,
          0.044595614794034816,
          0.044595614794034816,
          0.044595614794034816,
          0.044595614794034816,
          0.044595614794034816,
          0.045565228371901634,
          0.045565228371901634,
          0.045565228371901634,
          0.045565228371901634,
          0.045565228371901634,
          0.05998880970944473,
          0.05998880970944473,
          0.10225283539664434,
          0.11107346202259397,
          0.11107346202259397,
          0.11107346202259397,
          0.13886225921203232,
          0.13886225921203232,
          0.13886225921203232,
          0.13886225921203232,
          0.18639479725335378,
          0.2405510786860316,
          0.2405510786860316,
          0.2405510786860316,
          0.24248550400426028,
          0.24469940381514382,
          0.28476576516511964,
          0.2839692157357465,
          0.2839692157357465,
          0.2826651804280811,
          0.28641988555502856,
          0.3008751016293572,
          0.4009186206832078,
          0.3841554453588174,
          0.45171969157284236,
          0.45014128741295417,
          0.426299677062804,
          0.426299677062804,
          0.4396473574379992,
          0.4396473574379992,
          0.4396473574379992,
          0.4396473574379992,
          0.4396473574379992,
          0.44969005940631085,
          0.44969005940631085,
          0.44969005940631085,
          0.46123036771089765,
          0.4610521660942647,
          0.5764287764826846,
          0.5790819590444818,
          0.5790819590444818,
          0.6011352853479734,
          0.6012561167185445,
          0.6492568798352688,
          0.6492568798352688,
          0.6440904618101166,
          0.6558524799508837,
          0.6556615360217403,
          0.6992515505261281,
          0.6942892207399328,
          0.6957770915149353,
          0.6963659209480606,
          0.6963659209480606,
          0.6963659209480606,
          0.6963659209480606,
          0.6963659209480606,
          0.4979955689531535
         ],
         "yaxis": "y"
        }
       ],
       "layout": {
        "annotations": [
         {
          "font": {
           "size": 13
          },
          "showarrow": false,
          "text": "age",
          "x": 0.5,
          "xanchor": "center",
          "xref": "paper",
          "y": 1,
          "yanchor": "bottom",
          "yref": "paper"
         },
         {
          "font": {
           "size": 13
          },
          "showarrow": false,
          "text": "prediction",
          "textangle": -90,
          "x": -0.07,
          "xref": "paper",
          "y": 0.5,
          "yref": "paper"
         }
        ],
        "font": {
         "color": "#371ea3"
        },
        "height": 489,
        "hovermode": "x unified",
        "legend": {
         "font": {
          "size": 11
         },
         "itemsizing": "constant",
         "orientation": "h",
         "title": {
          "font": {
           "size": 12
          },
          "text": "label"
         },
         "tracegroupgap": 0,
         "x": 1,
         "xanchor": "right",
         "y": 1.0613496932515338,
         "yanchor": "bottom"
        },
        "margin": {
         "b": 71,
         "r": 30,
         "t": 78
        },
        "template": {
         "data": {
          "scatter": [
           {
            "type": "scatter"
           }
          ]
         }
        },
        "title": {
         "font": {
          "size": 16
         },
         "text": "Aggregated Profiles",
         "x": 0.15
        },
        "xaxis": {
         "anchor": "y",
         "automargin": true,
         "domain": [
          0,
          1
         ],
         "fixedrange": true,
         "gridwidth": 2,
         "showticklabels": true,
         "tickcolor": "white",
         "ticklen": 3,
         "ticks": "outside",
         "title": {
          "text": ""
         },
         "type": "linear",
         "zeroline": false
        },
        "yaxis": {
         "anchor": "x",
         "automargin": true,
         "domain": [
          0,
          1
         ],
         "fixedrange": true,
         "gridwidth": 2,
         "range": [
          -0.020869978779174514,
          0.7647171440993374
         ],
         "tickcolor": "white",
         "ticklen": 3,
         "ticks": "outside",
         "title": {
          "text": ""
         },
         "type": "linear",
         "zeroline": false
        }
       }
      },
      "text/html": [
       "<div>                            <div id=\"aa85156f-b3b6-4060-b5be-b2d093dd3aeb\" class=\"plotly-graph-div\" style=\"height:489px; width:100%;\"></div>            <script type=\"text/javascript\">                require([\"plotly\"], function(Plotly) {                    window.PLOTLYENV=window.PLOTLYENV || {};                                    if (document.getElementById(\"aa85156f-b3b6-4060-b5be-b2d093dd3aeb\")) {                    Plotly.newPlot(                        \"aa85156f-b3b6-4060-b5be-b2d093dd3aeb\",                        [{\"customdata\":[[0.2521457525732498,\"LGBMClassifier\",\"age\"],[0.2521457525732498,\"LGBMClassifier\",\"age\"],[0.2521457525732498,\"LGBMClassifier\",\"age\"],[0.2521457525732498,\"LGBMClassifier\",\"age\"],[0.2521457525732498,\"LGBMClassifier\",\"age\"],[0.2521457525732498,\"LGBMClassifier\",\"age\"],[0.2521457525732498,\"LGBMClassifier\",\"age\"],[0.2521457525732498,\"LGBMClassifier\",\"age\"],[0.2521457525732498,\"LGBMClassifier\",\"age\"],[0.2521457525732498,\"LGBMClassifier\",\"age\"],[0.2521457525732498,\"LGBMClassifier\",\"age\"],[0.2521457525732498,\"LGBMClassifier\",\"age\"],[0.2521457525732498,\"LGBMClassifier\",\"age\"],[0.2521457525732498,\"LGBMClassifier\",\"age\"],[0.2521457525732498,\"LGBMClassifier\",\"age\"],[0.2521457525732498,\"LGBMClassifier\",\"age\"],[0.2521457525732498,\"LGBMClassifier\",\"age\"],[0.2521457525732498,\"LGBMClassifier\",\"age\"],[0.2521457525732498,\"LGBMClassifier\",\"age\"],[0.2521457525732498,\"LGBMClassifier\",\"age\"],[0.2521457525732498,\"LGBMClassifier\",\"age\"],[0.2521457525732498,\"LGBMClassifier\",\"age\"],[0.2521457525732498,\"LGBMClassifier\",\"age\"],[0.2521457525732498,\"LGBMClassifier\",\"age\"],[0.2521457525732498,\"LGBMClassifier\",\"age\"],[0.2521457525732498,\"LGBMClassifier\",\"age\"],[0.2521457525732498,\"LGBMClassifier\",\"age\"],[0.2521457525732498,\"LGBMClassifier\",\"age\"],[0.2521457525732498,\"LGBMClassifier\",\"age\"],[0.2521457525732498,\"LGBMClassifier\",\"age\"],[0.2521457525732498,\"LGBMClassifier\",\"age\"],[0.2521457525732498,\"LGBMClassifier\",\"age\"],[0.2521457525732498,\"LGBMClassifier\",\"age\"],[0.2521457525732498,\"LGBMClassifier\",\"age\"],[0.2521457525732498,\"LGBMClassifier\",\"age\"],[0.2521457525732498,\"LGBMClassifier\",\"age\"],[0.2521457525732498,\"LGBMClassifier\",\"age\"],[0.2521457525732498,\"LGBMClassifier\",\"age\"],[0.2521457525732498,\"LGBMClassifier\",\"age\"],[0.2521457525732498,\"LGBMClassifier\",\"age\"],[0.2521457525732498,\"LGBMClassifier\",\"age\"],[0.2521457525732498,\"LGBMClassifier\",\"age\"],[0.2521457525732498,\"LGBMClassifier\",\"age\"],[0.2521457525732498,\"LGBMClassifier\",\"age\"],[0.2521457525732498,\"LGBMClassifier\",\"age\"],[0.2521457525732498,\"LGBMClassifier\",\"age\"],[0.2521457525732498,\"LGBMClassifier\",\"age\"],[0.2521457525732498,\"LGBMClassifier\",\"age\"],[0.2521457525732498,\"LGBMClassifier\",\"age\"],[0.2521457525732498,\"LGBMClassifier\",\"age\"],[0.2521457525732498,\"LGBMClassifier\",\"age\"],[0.2521457525732498,\"LGBMClassifier\",\"age\"],[0.2521457525732498,\"LGBMClassifier\",\"age\"],[0.2521457525732498,\"LGBMClassifier\",\"age\"],[0.2521457525732498,\"LGBMClassifier\",\"age\"],[0.2521457525732498,\"LGBMClassifier\",\"age\"],[0.2521457525732498,\"LGBMClassifier\",\"age\"],[0.2521457525732498,\"LGBMClassifier\",\"age\"],[0.2521457525732498,\"LGBMClassifier\",\"age\"],[0.2521457525732498,\"LGBMClassifier\",\"age\"],[0.2521457525732498,\"LGBMClassifier\",\"age\"],[0.2521457525732498,\"LGBMClassifier\",\"age\"],[0.2521457525732498,\"LGBMClassifier\",\"age\"],[0.2521457525732498,\"LGBMClassifier\",\"age\"],[0.2521457525732498,\"LGBMClassifier\",\"age\"],[0.2521457525732498,\"LGBMClassifier\",\"age\"],[0.2521457525732498,\"LGBMClassifier\",\"age\"],[0.2521457525732498,\"LGBMClassifier\",\"age\"],[0.2521457525732498,\"LGBMClassifier\",\"age\"],[0.2521457525732498,\"LGBMClassifier\",\"age\"],[0.2521457525732498,\"LGBMClassifier\",\"age\"],[0.2521457525732498,\"LGBMClassifier\",\"age\"],[0.2521457525732498,\"LGBMClassifier\",\"age\"],[0.2521457525732498,\"LGBMClassifier\",\"age\"],[0.2521457525732498,\"LGBMClassifier\",\"age\"],[0.2521457525732498,\"LGBMClassifier\",\"age\"],[0.2521457525732498,\"LGBMClassifier\",\"age\"],[0.2521457525732498,\"LGBMClassifier\",\"age\"],[0.2521457525732498,\"LGBMClassifier\",\"age\"],[0.2521457525732498,\"LGBMClassifier\",\"age\"],[0.2521457525732498,\"LGBMClassifier\",\"age\"],[0.2521457525732498,\"LGBMClassifier\",\"age\"],[0.2521457525732498,\"LGBMClassifier\",\"age\"],[0.2521457525732498,\"LGBMClassifier\",\"age\"],[0.2521457525732498,\"LGBMClassifier\",\"age\"],[0.2521457525732498,\"LGBMClassifier\",\"age\"],[0.2521457525732498,\"LGBMClassifier\",\"age\"],[0.2521457525732498,\"LGBMClassifier\",\"age\"],[0.2521457525732498,\"LGBMClassifier\",\"age\"],[0.2521457525732498,\"LGBMClassifier\",\"age\"],[0.2521457525732498,\"LGBMClassifier\",\"age\"],[0.2521457525732498,\"LGBMClassifier\",\"age\"],[0.2521457525732498,\"LGBMClassifier\",\"age\"],[0.2521457525732498,\"LGBMClassifier\",\"age\"],[0.2521457525732498,\"LGBMClassifier\",\"age\"],[0.2521457525732498,\"LGBMClassifier\",\"age\"],[0.2521457525732498,\"LGBMClassifier\",\"age\"],[0.2521457525732498,\"LGBMClassifier\",\"age\"],[0.2521457525732498,\"LGBMClassifier\",\"age\"],[0.2521457525732498,\"LGBMClassifier\",\"age\"],[0.2521457525732498,\"LGBMClassifier\",\"age\"]],\"hovertemplate\":\"<b>%{hovertext}</b><br><br>prediction=%{y:.3f}<br>mean_prediction=%{customdata[0]:.3f}<extra></extra>\",\"hovertext\":[\"LGBMClassifier\",\"LGBMClassifier\",\"LGBMClassifier\",\"LGBMClassifier\",\"LGBMClassifier\",\"LGBMClassifier\",\"LGBMClassifier\",\"LGBMClassifier\",\"LGBMClassifier\",\"LGBMClassifier\",\"LGBMClassifier\",\"LGBMClassifier\",\"LGBMClassifier\",\"LGBMClassifier\",\"LGBMClassifier\",\"LGBMClassifier\",\"LGBMClassifier\",\"LGBMClassifier\",\"LGBMClassifier\",\"LGBMClassifier\",\"LGBMClassifier\",\"LGBMClassifier\",\"LGBMClassifier\",\"LGBMClassifier\",\"LGBMClassifier\",\"LGBMClassifier\",\"LGBMClassifier\",\"LGBMClassifier\",\"LGBMClassifier\",\"LGBMClassifier\",\"LGBMClassifier\",\"LGBMClassifier\",\"LGBMClassifier\",\"LGBMClassifier\",\"LGBMClassifier\",\"LGBMClassifier\",\"LGBMClassifier\",\"LGBMClassifier\",\"LGBMClassifier\",\"LGBMClassifier\",\"LGBMClassifier\",\"LGBMClassifier\",\"LGBMClassifier\",\"LGBMClassifier\",\"LGBMClassifier\",\"LGBMClassifier\",\"LGBMClassifier\",\"LGBMClassifier\",\"LGBMClassifier\",\"LGBMClassifier\",\"LGBMClassifier\",\"LGBMClassifier\",\"LGBMClassifier\",\"LGBMClassifier\",\"LGBMClassifier\",\"LGBMClassifier\",\"LGBMClassifier\",\"LGBMClassifier\",\"LGBMClassifier\",\"LGBMClassifier\",\"LGBMClassifier\",\"LGBMClassifier\",\"LGBMClassifier\",\"LGBMClassifier\",\"LGBMClassifier\",\"LGBMClassifier\",\"LGBMClassifier\",\"LGBMClassifier\",\"LGBMClassifier\",\"LGBMClassifier\",\"LGBMClassifier\",\"LGBMClassifier\",\"LGBMClassifier\",\"LGBMClassifier\",\"LGBMClassifier\",\"LGBMClassifier\",\"LGBMClassifier\",\"LGBMClassifier\",\"LGBMClassifier\",\"LGBMClassifier\",\"LGBMClassifier\",\"LGBMClassifier\",\"LGBMClassifier\",\"LGBMClassifier\",\"LGBMClassifier\",\"LGBMClassifier\",\"LGBMClassifier\",\"LGBMClassifier\",\"LGBMClassifier\",\"LGBMClassifier\",\"LGBMClassifier\",\"LGBMClassifier\",\"LGBMClassifier\",\"LGBMClassifier\",\"LGBMClassifier\",\"LGBMClassifier\",\"LGBMClassifier\",\"LGBMClassifier\",\"LGBMClassifier\",\"LGBMClassifier\",\"LGBMClassifier\"],\"legendgroup\":\"LGBMClassifier\",\"line\":{\"color\":\"#46bac2\",\"dash\":\"solid\",\"width\":2},\"marker\":{\"symbol\":\"circle\"},\"mode\":\"lines\",\"name\":\"LGBMClassifier\",\"orientation\":\"v\",\"showlegend\":true,\"x\":[0.08,0.8992,1.7184000000000001,2.5376000000000003,3.3568000000000002,4.176,4.9952000000000005,5.8144,6.6336,7.452800000000001,8.272,9.0912,9.910400000000001,10.729600000000001,11.5488,12.368,13.1872,14.006400000000001,14.825600000000001,15.6448,16.464,17.2832,18.1024,18.921599999999998,19.7408,20.56,21.3792,22.1984,23.017599999999998,23.8368,24.656,25.4752,26.2944,27.113599999999998,27.9328,28.752,29.5712,30.3904,31.2096,32.028800000000004,32.848,33.6672,34.4864,35.3056,36.1248,36.944,37.7632,38.5824,39.4016,40.2208,41.04,41.8592,42.6784,43.4976,44.3168,45.136,45.9552,46.7744,47.5936,48.4128,49.232,50.0512,50.870400000000004,51.6896,52.5088,53.328,54.1472,54.9664,55.7856,56.604800000000004,57.424,58.2432,59.062400000000004,59.8816,60.7008,61.52,62.3392,63.1584,63.9776,64.7968,65.616,66.4352,67.2544,68.0736,68.89280000000001,69.712,70.5312,71.35040000000001,72.1696,72.9888,73.808,74.6272,75.4464,76.2656,77.0848,77.904,78.7232,79.5424,80.3616,81.1808,82.0],\"xaxis\":\"x\",\"y\":[0.044745558696692056,0.044745558696692056,0.044745558696692056,0.044745558696692056,0.044745558696692056,0.044745558696692056,0.044745558696692056,0.044745558696692056,0.044745558696692056,0.044745558696692056,0.044595614794034816,0.044595614794034816,0.044595614794034816,0.044595614794034816,0.044595614794034816,0.044595614794034816,0.044595614794034816,0.044595614794034816,0.044595614794034816,0.044595614794034816,0.044595614794034816,0.044595614794034816,0.044595614794034816,0.044595614794034816,0.044595614794034816,0.044595614794034816,0.044595614794034816,0.044595614794034816,0.044595614794034816,0.044595614794034816,0.044595614794034816,0.044595614794034816,0.044595614794034816,0.044595614794034816,0.044595614794034816,0.044595614794034816,0.044595614794034816,0.044595614794034816,0.044595614794034816,0.045565228371901634,0.045565228371901634,0.045565228371901634,0.045565228371901634,0.045565228371901634,0.05998880970944473,0.05998880970944473,0.10225283539664434,0.11107346202259397,0.11107346202259397,0.11107346202259397,0.13886225921203232,0.13886225921203232,0.13886225921203232,0.13886225921203232,0.18639479725335378,0.2405510786860316,0.2405510786860316,0.2405510786860316,0.24248550400426028,0.24469940381514382,0.28476576516511964,0.2839692157357465,0.2839692157357465,0.2826651804280811,0.28641988555502856,0.3008751016293572,0.4009186206832078,0.3841554453588174,0.45171969157284236,0.45014128741295417,0.426299677062804,0.426299677062804,0.4396473574379992,0.4396473574379992,0.4396473574379992,0.4396473574379992,0.4396473574379992,0.44969005940631085,0.44969005940631085,0.44969005940631085,0.46123036771089765,0.4610521660942647,0.5764287764826846,0.5790819590444818,0.5790819590444818,0.6011352853479734,0.6012561167185445,0.6492568798352688,0.6492568798352688,0.6440904618101166,0.6558524799508837,0.6556615360217403,0.6992515505261281,0.6942892207399328,0.6957770915149353,0.6963659209480606,0.6963659209480606,0.6963659209480606,0.6963659209480606,0.6963659209480606,0.4979955689531535],\"yaxis\":\"y\",\"type\":\"scatter\",\"opacity\":1}],                        {\"template\":{\"data\":{\"scatter\":[{\"type\":\"scatter\"}]}},\"xaxis\":{\"anchor\":\"y\",\"domain\":[0.0,1.0],\"title\":{\"text\":\"\"},\"showticklabels\":true,\"type\":\"linear\",\"gridwidth\":2,\"zeroline\":false,\"automargin\":true,\"ticks\":\"outside\",\"tickcolor\":\"white\",\"ticklen\":3,\"fixedrange\":true},\"yaxis\":{\"anchor\":\"x\",\"domain\":[0.0,1.0],\"title\":{\"text\":\"\"},\"range\":[-0.020869978779174514,0.7647171440993374],\"type\":\"linear\",\"gridwidth\":2,\"zeroline\":false,\"automargin\":true,\"ticks\":\"outside\",\"tickcolor\":\"white\",\"ticklen\":3,\"fixedrange\":true},\"annotations\":[{\"font\":{\"size\":13},\"showarrow\":false,\"text\":\"age\",\"x\":0.5,\"xanchor\":\"center\",\"xref\":\"paper\",\"y\":1.0,\"yanchor\":\"bottom\",\"yref\":\"paper\"},{\"font\":{\"size\":13},\"showarrow\":false,\"text\":\"prediction\",\"textangle\":-90,\"x\":-0.07,\"xref\":\"paper\",\"y\":0.5,\"yref\":\"paper\"}],\"legend\":{\"title\":{\"text\":\"label\",\"font\":{\"size\":12}},\"tracegroupgap\":0,\"font\":{\"size\":11},\"orientation\":\"h\",\"yanchor\":\"bottom\",\"y\":1.0613496932515338,\"xanchor\":\"right\",\"x\":1,\"itemsizing\":\"constant\"},\"margin\":{\"t\":78,\"b\":71,\"r\":30},\"font\":{\"color\":\"#371ea3\"},\"title\":{\"font\":{\"size\":16},\"text\":\"Aggregated Profiles\",\"x\":0.15},\"hovermode\":\"x unified\",\"height\":489},                        {\"displaylogo\": false, \"staticPlot\": false, \"toImageButtonOptions\": {\"height\": null, \"width\": null}, \"modeBarButtonsToRemove\": [\"sendDataToCloud\", \"lasso2d\", \"autoScale2d\", \"select2d\", \"zoom2d\", \"pan2d\", \"zoomIn2d\", \"zoomOut2d\", \"resetScale2d\", \"toggleSpikelines\", \"hoverCompareCartesian\", \"hoverClosestCartesian\"], \"responsive\": true}                    ).then(function(){\n",
       "                            \n",
       "var gd = document.getElementById('aa85156f-b3b6-4060-b5be-b2d093dd3aeb');\n",
       "var x = new MutationObserver(function (mutations, observer) {{\n",
       "        var display = window.getComputedStyle(gd).display;\n",
       "        if (!display || display === 'none') {{\n",
       "            console.log([gd, 'removed!']);\n",
       "            Plotly.purge(gd);\n",
       "            observer.disconnect();\n",
       "        }}\n",
       "}});\n",
       "\n",
       "// Listen for the removal of the full notebook cells\n",
       "var notebookContainer = gd.closest('#notebook-container');\n",
       "if (notebookContainer) {{\n",
       "    x.observe(notebookContainer, {childList: true});\n",
       "}}\n",
       "\n",
       "// Listen for the clearing of the current output cell\n",
       "var outputEl = gd.closest('.output');\n",
       "if (outputEl) {{\n",
       "    x.observe(outputEl, {childList: true});\n",
       "}}\n",
       "\n",
       "                        })                };                });            </script>        </div>"
      ]
     },
     "metadata": {},
     "output_type": "display_data"
    }
   ],
   "source": [
    "#ALE plot for age \n",
    "exp.model_profile(type = 'accumulated',\n",
    "          variables = [\"age\"],\n",
    "                 verbose=False).plot()"
   ]
  },
  {
   "cell_type": "markdown",
   "id": "65e137aa",
   "metadata": {},
   "source": [
    "** By default, the profile is based on 100 randomly selected observations."
   ]
  },
  {
   "cell_type": "markdown",
   "id": "27367654",
   "metadata": {},
   "source": [
    "<b>Key Insights </b>\n",
    "\n",
    "We can see that the probability of having a stroke increases as age increases. This means that older people have a higher probability of having a stroke compared to younger people. This information can be used by medical professionals to identify the risk of stroke in different age groups and develop preventive measures accordingly.   "
   ]
  },
  {
   "cell_type": "markdown",
   "id": "08b0766f",
   "metadata": {},
   "source": [
    "### PDP vs ALE Plot using Dalex Explainer\n",
    "The Dalex package's explainer object's model_profile() function offers the capability to generate both PD and ALE plots through the use of the \"type\" argument, which defines the type of model profiles. The results of the computation are stored as a data frame in the \"result\" field, which I utilized to generate side-by-side PD and ALE plots, facilitating an in-depth comparison."
   ]
  },
  {
   "cell_type": "code",
   "execution_count": 26,
   "id": "a87a9dc2",
   "metadata": {
    "ExecuteTime": {
     "end_time": "2022-12-20T02:20:21.199020Z",
     "start_time": "2022-12-20T02:20:18.890007Z"
    },
    "scrolled": false
   },
   "outputs": [
    {
     "data": {
      "application/vnd.plotly.v1+json": {
       "config": {
        "plotlyServerURL": "https://plot.ly"
       },
       "data": [
        {
         "line": {
          "color": "#008B8B",
          "width": 3
         },
         "mode": "lines+markers",
         "name": "ALE_age",
         "type": "scatter",
         "x": [
          0.08,
          0.8992,
          1.7184000000000001,
          2.5376000000000003,
          3.3568000000000002,
          4.176,
          4.9952000000000005,
          5.8144,
          6.6336,
          7.452800000000001,
          8.272,
          9.0912,
          9.910400000000001,
          10.729600000000001,
          11.5488,
          12.368,
          13.1872,
          14.006400000000001,
          14.825600000000001,
          15.6448,
          16.464,
          17.2832,
          18.1024,
          18.921599999999998,
          19.7408,
          20.56,
          21.3792,
          22.1984,
          23.017599999999998,
          23.8368,
          24.656,
          25.4752,
          26.2944,
          27.113599999999998,
          27.9328,
          28.752,
          29.5712,
          30.3904,
          31.2096,
          32.028800000000004,
          32.848,
          33.6672,
          34.4864,
          35.3056,
          36.1248,
          36.944,
          37.7632,
          38.5824,
          39.4016,
          40.2208,
          41.04,
          41.8592,
          42.6784,
          43.4976,
          44.3168,
          45.136,
          45.9552,
          46.7744,
          47.5936,
          48.4128,
          49.232,
          50.0512,
          50.870400000000004,
          51.6896,
          52.5088,
          53.328,
          54.1472,
          54.9664,
          55.7856,
          56.604800000000004,
          57.424,
          58.2432,
          59.062400000000004,
          59.8816,
          60.7008,
          61.52,
          62.3392,
          63.1584,
          63.9776,
          64.7968,
          65.616,
          66.4352,
          67.2544,
          68.0736,
          68.89280000000001,
          69.712,
          70.5312,
          71.35040000000001,
          72.1696,
          72.9888,
          73.808,
          74.6272,
          75.4464,
          76.2656,
          77.0848,
          77.904,
          78.7232,
          79.5424,
          80.3616,
          81.1808,
          82
         ],
         "y": [
          0,
          0,
          0,
          0,
          0,
          0,
          0,
          0,
          0,
          0,
          -0.00013151861852720627,
          -0.00013151861852720627,
          -0.00013151861852720627,
          -0.00013151861852720627,
          -0.00013151861852720627,
          -0.00013151861852720627,
          -0.00013151861852720627,
          -0.00013151861852720627,
          -0.00013151861852720627,
          -0.00013151861852720627,
          -0.00013151861852720627,
          -0.00013151861852720627,
          -0.00013151861852720627,
          -0.00013151861852720627,
          -0.00013151861852720627,
          -0.00013151861852720627,
          -0.00013151861852720627,
          -0.00013151861852720627,
          -0.00013151861852720627,
          -0.00013151861852720627,
          -0.00013151861852720627,
          -0.00013151861852720627,
          -0.00013151861852720627,
          -0.00013151861852720627,
          -0.00013151861852720627,
          -0.00013151861852720627,
          -0.00013151861852720627,
          -0.00013151861852720627,
          -0.00013151861852720627,
          0.0009373531910980435,
          0.0009373531910980435,
          0.0009373531910980435,
          0.0009373531910980435,
          0.0009373531910980435,
          0.01658434263410744,
          0.01658434263410744,
          0.05472831721363873,
          0.06371276282151794,
          0.06371276282151794,
          0.06371276282151794,
          0.08868634082773336,
          0.08868634082773336,
          0.08868634082773336,
          0.08868634082773336,
          0.13621793130161525,
          0.19156600742021096,
          0.19156600742021096,
          0.19156600742021096,
          0.19407105598083857,
          0.19643344858010778,
          0.24502872897338188,
          0.2447266209466362,
          0.2447266209466362,
          0.24423507038148365,
          0.24824818103752502,
          0.26447897718166186,
          0.374671493303543,
          0.35763816172641044,
          0.4298941025493337,
          0.4288254079801282,
          0.40547982502912455,
          0.40547982502912455,
          0.4205576485449099,
          0.4205576485449099,
          0.4205576485449099,
          0.4205576485449099,
          0.4205576485449099,
          0.43209287725045437,
          0.43209287725045437,
          0.43209287725045437,
          0.44624485656974416,
          0.4461017465754209,
          0.5448618983418262,
          0.5472428927323478,
          0.5472428927323478,
          0.5666051042417827,
          0.5667310989701605,
          0.6054809546349424,
          0.6054809546349424,
          0.6003017028623349,
          0.6099417473083258,
          0.6098646403086664,
          0.6486303101608317,
          0.6436067373041192,
          0.6467647837059961,
          0.6475861230943508,
          0.6475861230943508,
          0.6475861230943508,
          0.6475861230943508,
          0.6475861230943508,
          0.46196548698206286
         ]
        },
        {
         "line": {
          "color": "firebrick",
          "width": 3
         },
         "mode": "lines",
         "name": "PDP_age",
         "type": "scatter",
         "x": [
          0.08,
          0.8992,
          1.7184000000000001,
          2.5376000000000003,
          3.3568000000000002,
          4.176,
          4.9952000000000005,
          5.8144,
          6.6336,
          7.452800000000001,
          8.272,
          9.0912,
          9.910400000000001,
          10.729600000000001,
          11.5488,
          12.368,
          13.1872,
          14.006400000000001,
          14.825600000000001,
          15.6448,
          16.464,
          17.2832,
          18.1024,
          18.921599999999998,
          19.7408,
          20.56,
          21.3792,
          22.1984,
          23.017599999999998,
          23.8368,
          24.656,
          25.4752,
          26.2944,
          27.113599999999998,
          27.9328,
          28.752,
          29.5712,
          30.3904,
          31.2096,
          32.028800000000004,
          32.848,
          33.6672,
          34.4864,
          35.3056,
          36.1248,
          36.944,
          37.7632,
          38.5824,
          39.4016,
          40.2208,
          41.04,
          41.8592,
          42.6784,
          43.4976,
          44.3168,
          45.136,
          45.9552,
          46.7744,
          47.5936,
          48.4128,
          49.232,
          50.0512,
          50.870400000000004,
          51.6896,
          52.5088,
          53.328,
          54.1472,
          54.9664,
          55.7856,
          56.604800000000004,
          57.424,
          58.2432,
          59.062400000000004,
          59.8816,
          60.7008,
          61.52,
          62.3392,
          63.1584,
          63.9776,
          64.7968,
          65.616,
          66.4352,
          67.2544,
          68.0736,
          68.89280000000001,
          69.712,
          70.5312,
          71.35040000000001,
          72.1696,
          72.9888,
          73.808,
          74.6272,
          75.4464,
          76.2656,
          77.0848,
          77.904,
          78.7232,
          79.5424,
          80.3616,
          81.1808,
          82
         ],
         "y": [
          0.05807585154519426,
          0.05807585154519426,
          0.05807585154519426,
          0.05807585154519426,
          0.05807585154519426,
          0.05807585154519426,
          0.05807585154519426,
          0.05807585154519426,
          0.05807585154519426,
          0.05807585154519426,
          0.05800710780719861,
          0.05800710780719861,
          0.05800710780719861,
          0.05800710780719861,
          0.05800710780719861,
          0.05800710780719861,
          0.05800710780719861,
          0.05800710780719861,
          0.05800710780719861,
          0.05800710780719861,
          0.05800710780719861,
          0.05800710780719861,
          0.05800710780719861,
          0.05800710780719861,
          0.05800710780719861,
          0.05800710780719861,
          0.05800710780719861,
          0.05800710780719861,
          0.05800710780719861,
          0.05800710780719861,
          0.05800710780719861,
          0.05800710780719861,
          0.05800710780719861,
          0.05800710780719861,
          0.05800710780719861,
          0.05800710780719861,
          0.05800710780719861,
          0.05800710780719861,
          0.05800710780719861,
          0.05908892563201955,
          0.05908892563201955,
          0.05908892563201955,
          0.05908892563201955,
          0.05908892563201955,
          0.07544141907379635,
          0.07544141907379635,
          0.11884566129322376,
          0.12762291257741273,
          0.12762291257741273,
          0.12762291257741273,
          0.15356097293147125,
          0.15356097293147125,
          0.15356097293147125,
          0.15356097293147125,
          0.19545130475845218,
          0.242903067773459,
          0.242903067773459,
          0.242903067773459,
          0.24464237507801442,
          0.24663037080231026,
          0.281133241658393,
          0.28071989121071605,
          0.28071989121071605,
          0.2800507068573731,
          0.2836829719953796,
          0.29708877003780143,
          0.39238590268806006,
          0.37670910047705725,
          0.44020957610755357,
          0.4387501272709152,
          0.416695012761924,
          0.416695012761924,
          0.436119041822734,
          0.436119041822734,
          0.436119041822734,
          0.436119041822734,
          0.436119041822734,
          0.4483386228905955,
          0.4483386228905955,
          0.4483386228905955,
          0.4605275122878455,
          0.4603293062756504,
          0.5815577949250937,
          0.5840460023015447,
          0.5840460023015447,
          0.6087277707244957,
          0.6088337924286521,
          0.6516829222034914,
          0.6516829222034914,
          0.6467814302268786,
          0.6581484272816902,
          0.6580305113035596,
          0.7069716667722237,
          0.702043116712303,
          0.7078263862292726,
          0.7090297334383244,
          0.7090297334383244,
          0.7090297334383244,
          0.7090297334383244,
          0.7090297334383244,
          0.5073431294454981
         ]
        }
       ],
       "layout": {
        "annotations": [
         {
          "showarrow": false,
          "text": "mean prediction",
          "x": 1,
          "xanchor": "right",
          "xref": "x domain",
          "y": 0.2768122271074937,
          "yanchor": "top",
          "yref": "y"
         }
        ],
        "shapes": [
         {
          "line": {
           "color": "black",
           "dash": "dash",
           "width": 2
          },
          "type": "line",
          "x0": 0,
          "x1": 1,
          "xref": "x domain",
          "y0": 0.2768122271074937,
          "y1": 0.2768122271074937,
          "yref": "y"
         }
        ],
        "template": {
         "data": {
          "bar": [
           {
            "error_x": {
             "color": "#2a3f5f"
            },
            "error_y": {
             "color": "#2a3f5f"
            },
            "marker": {
             "line": {
              "color": "white",
              "width": 0.5
             },
             "pattern": {
              "fillmode": "overlay",
              "size": 10,
              "solidity": 0.2
             }
            },
            "type": "bar"
           }
          ],
          "barpolar": [
           {
            "marker": {
             "line": {
              "color": "white",
              "width": 0.5
             },
             "pattern": {
              "fillmode": "overlay",
              "size": 10,
              "solidity": 0.2
             }
            },
            "type": "barpolar"
           }
          ],
          "carpet": [
           {
            "aaxis": {
             "endlinecolor": "#2a3f5f",
             "gridcolor": "#C8D4E3",
             "linecolor": "#C8D4E3",
             "minorgridcolor": "#C8D4E3",
             "startlinecolor": "#2a3f5f"
            },
            "baxis": {
             "endlinecolor": "#2a3f5f",
             "gridcolor": "#C8D4E3",
             "linecolor": "#C8D4E3",
             "minorgridcolor": "#C8D4E3",
             "startlinecolor": "#2a3f5f"
            },
            "type": "carpet"
           }
          ],
          "choropleth": [
           {
            "colorbar": {
             "outlinewidth": 0,
             "ticks": ""
            },
            "type": "choropleth"
           }
          ],
          "contour": [
           {
            "colorbar": {
             "outlinewidth": 0,
             "ticks": ""
            },
            "colorscale": [
             [
              0,
              "#0d0887"
             ],
             [
              0.1111111111111111,
              "#46039f"
             ],
             [
              0.2222222222222222,
              "#7201a8"
             ],
             [
              0.3333333333333333,
              "#9c179e"
             ],
             [
              0.4444444444444444,
              "#bd3786"
             ],
             [
              0.5555555555555556,
              "#d8576b"
             ],
             [
              0.6666666666666666,
              "#ed7953"
             ],
             [
              0.7777777777777778,
              "#fb9f3a"
             ],
             [
              0.8888888888888888,
              "#fdca26"
             ],
             [
              1,
              "#f0f921"
             ]
            ],
            "type": "contour"
           }
          ],
          "contourcarpet": [
           {
            "colorbar": {
             "outlinewidth": 0,
             "ticks": ""
            },
            "type": "contourcarpet"
           }
          ],
          "heatmap": [
           {
            "colorbar": {
             "outlinewidth": 0,
             "ticks": ""
            },
            "colorscale": [
             [
              0,
              "#0d0887"
             ],
             [
              0.1111111111111111,
              "#46039f"
             ],
             [
              0.2222222222222222,
              "#7201a8"
             ],
             [
              0.3333333333333333,
              "#9c179e"
             ],
             [
              0.4444444444444444,
              "#bd3786"
             ],
             [
              0.5555555555555556,
              "#d8576b"
             ],
             [
              0.6666666666666666,
              "#ed7953"
             ],
             [
              0.7777777777777778,
              "#fb9f3a"
             ],
             [
              0.8888888888888888,
              "#fdca26"
             ],
             [
              1,
              "#f0f921"
             ]
            ],
            "type": "heatmap"
           }
          ],
          "heatmapgl": [
           {
            "colorbar": {
             "outlinewidth": 0,
             "ticks": ""
            },
            "colorscale": [
             [
              0,
              "#0d0887"
             ],
             [
              0.1111111111111111,
              "#46039f"
             ],
             [
              0.2222222222222222,
              "#7201a8"
             ],
             [
              0.3333333333333333,
              "#9c179e"
             ],
             [
              0.4444444444444444,
              "#bd3786"
             ],
             [
              0.5555555555555556,
              "#d8576b"
             ],
             [
              0.6666666666666666,
              "#ed7953"
             ],
             [
              0.7777777777777778,
              "#fb9f3a"
             ],
             [
              0.8888888888888888,
              "#fdca26"
             ],
             [
              1,
              "#f0f921"
             ]
            ],
            "type": "heatmapgl"
           }
          ],
          "histogram": [
           {
            "marker": {
             "pattern": {
              "fillmode": "overlay",
              "size": 10,
              "solidity": 0.2
             }
            },
            "type": "histogram"
           }
          ],
          "histogram2d": [
           {
            "colorbar": {
             "outlinewidth": 0,
             "ticks": ""
            },
            "colorscale": [
             [
              0,
              "#0d0887"
             ],
             [
              0.1111111111111111,
              "#46039f"
             ],
             [
              0.2222222222222222,
              "#7201a8"
             ],
             [
              0.3333333333333333,
              "#9c179e"
             ],
             [
              0.4444444444444444,
              "#bd3786"
             ],
             [
              0.5555555555555556,
              "#d8576b"
             ],
             [
              0.6666666666666666,
              "#ed7953"
             ],
             [
              0.7777777777777778,
              "#fb9f3a"
             ],
             [
              0.8888888888888888,
              "#fdca26"
             ],
             [
              1,
              "#f0f921"
             ]
            ],
            "type": "histogram2d"
           }
          ],
          "histogram2dcontour": [
           {
            "colorbar": {
             "outlinewidth": 0,
             "ticks": ""
            },
            "colorscale": [
             [
              0,
              "#0d0887"
             ],
             [
              0.1111111111111111,
              "#46039f"
             ],
             [
              0.2222222222222222,
              "#7201a8"
             ],
             [
              0.3333333333333333,
              "#9c179e"
             ],
             [
              0.4444444444444444,
              "#bd3786"
             ],
             [
              0.5555555555555556,
              "#d8576b"
             ],
             [
              0.6666666666666666,
              "#ed7953"
             ],
             [
              0.7777777777777778,
              "#fb9f3a"
             ],
             [
              0.8888888888888888,
              "#fdca26"
             ],
             [
              1,
              "#f0f921"
             ]
            ],
            "type": "histogram2dcontour"
           }
          ],
          "mesh3d": [
           {
            "colorbar": {
             "outlinewidth": 0,
             "ticks": ""
            },
            "type": "mesh3d"
           }
          ],
          "parcoords": [
           {
            "line": {
             "colorbar": {
              "outlinewidth": 0,
              "ticks": ""
             }
            },
            "type": "parcoords"
           }
          ],
          "pie": [
           {
            "automargin": true,
            "type": "pie"
           }
          ],
          "scatter": [
           {
            "marker": {
             "colorbar": {
              "outlinewidth": 0,
              "ticks": ""
             }
            },
            "type": "scatter"
           }
          ],
          "scatter3d": [
           {
            "line": {
             "colorbar": {
              "outlinewidth": 0,
              "ticks": ""
             }
            },
            "marker": {
             "colorbar": {
              "outlinewidth": 0,
              "ticks": ""
             }
            },
            "type": "scatter3d"
           }
          ],
          "scattercarpet": [
           {
            "marker": {
             "colorbar": {
              "outlinewidth": 0,
              "ticks": ""
             }
            },
            "type": "scattercarpet"
           }
          ],
          "scattergeo": [
           {
            "marker": {
             "colorbar": {
              "outlinewidth": 0,
              "ticks": ""
             }
            },
            "type": "scattergeo"
           }
          ],
          "scattergl": [
           {
            "marker": {
             "colorbar": {
              "outlinewidth": 0,
              "ticks": ""
             }
            },
            "type": "scattergl"
           }
          ],
          "scattermapbox": [
           {
            "marker": {
             "colorbar": {
              "outlinewidth": 0,
              "ticks": ""
             }
            },
            "type": "scattermapbox"
           }
          ],
          "scatterpolar": [
           {
            "marker": {
             "colorbar": {
              "outlinewidth": 0,
              "ticks": ""
             }
            },
            "type": "scatterpolar"
           }
          ],
          "scatterpolargl": [
           {
            "marker": {
             "colorbar": {
              "outlinewidth": 0,
              "ticks": ""
             }
            },
            "type": "scatterpolargl"
           }
          ],
          "scatterternary": [
           {
            "marker": {
             "colorbar": {
              "outlinewidth": 0,
              "ticks": ""
             }
            },
            "type": "scatterternary"
           }
          ],
          "surface": [
           {
            "colorbar": {
             "outlinewidth": 0,
             "ticks": ""
            },
            "colorscale": [
             [
              0,
              "#0d0887"
             ],
             [
              0.1111111111111111,
              "#46039f"
             ],
             [
              0.2222222222222222,
              "#7201a8"
             ],
             [
              0.3333333333333333,
              "#9c179e"
             ],
             [
              0.4444444444444444,
              "#bd3786"
             ],
             [
              0.5555555555555556,
              "#d8576b"
             ],
             [
              0.6666666666666666,
              "#ed7953"
             ],
             [
              0.7777777777777778,
              "#fb9f3a"
             ],
             [
              0.8888888888888888,
              "#fdca26"
             ],
             [
              1,
              "#f0f921"
             ]
            ],
            "type": "surface"
           }
          ],
          "table": [
           {
            "cells": {
             "fill": {
              "color": "#EBF0F8"
             },
             "line": {
              "color": "white"
             }
            },
            "header": {
             "fill": {
              "color": "#C8D4E3"
             },
             "line": {
              "color": "white"
             }
            },
            "type": "table"
           }
          ]
         },
         "layout": {
          "annotationdefaults": {
           "arrowcolor": "#2a3f5f",
           "arrowhead": 0,
           "arrowwidth": 1
          },
          "autotypenumbers": "strict",
          "coloraxis": {
           "colorbar": {
            "outlinewidth": 0,
            "ticks": ""
           }
          },
          "colorscale": {
           "diverging": [
            [
             0,
             "#8e0152"
            ],
            [
             0.1,
             "#c51b7d"
            ],
            [
             0.2,
             "#de77ae"
            ],
            [
             0.3,
             "#f1b6da"
            ],
            [
             0.4,
             "#fde0ef"
            ],
            [
             0.5,
             "#f7f7f7"
            ],
            [
             0.6,
             "#e6f5d0"
            ],
            [
             0.7,
             "#b8e186"
            ],
            [
             0.8,
             "#7fbc41"
            ],
            [
             0.9,
             "#4d9221"
            ],
            [
             1,
             "#276419"
            ]
           ],
           "sequential": [
            [
             0,
             "#0d0887"
            ],
            [
             0.1111111111111111,
             "#46039f"
            ],
            [
             0.2222222222222222,
             "#7201a8"
            ],
            [
             0.3333333333333333,
             "#9c179e"
            ],
            [
             0.4444444444444444,
             "#bd3786"
            ],
            [
             0.5555555555555556,
             "#d8576b"
            ],
            [
             0.6666666666666666,
             "#ed7953"
            ],
            [
             0.7777777777777778,
             "#fb9f3a"
            ],
            [
             0.8888888888888888,
             "#fdca26"
            ],
            [
             1,
             "#f0f921"
            ]
           ],
           "sequentialminus": [
            [
             0,
             "#0d0887"
            ],
            [
             0.1111111111111111,
             "#46039f"
            ],
            [
             0.2222222222222222,
             "#7201a8"
            ],
            [
             0.3333333333333333,
             "#9c179e"
            ],
            [
             0.4444444444444444,
             "#bd3786"
            ],
            [
             0.5555555555555556,
             "#d8576b"
            ],
            [
             0.6666666666666666,
             "#ed7953"
            ],
            [
             0.7777777777777778,
             "#fb9f3a"
            ],
            [
             0.8888888888888888,
             "#fdca26"
            ],
            [
             1,
             "#f0f921"
            ]
           ]
          },
          "colorway": [
           "#636efa",
           "#EF553B",
           "#00cc96",
           "#ab63fa",
           "#FFA15A",
           "#19d3f3",
           "#FF6692",
           "#B6E880",
           "#FF97FF",
           "#FECB52"
          ],
          "font": {
           "color": "#2a3f5f"
          },
          "geo": {
           "bgcolor": "white",
           "lakecolor": "white",
           "landcolor": "white",
           "showlakes": true,
           "showland": true,
           "subunitcolor": "#C8D4E3"
          },
          "hoverlabel": {
           "align": "left"
          },
          "hovermode": "closest",
          "mapbox": {
           "style": "light"
          },
          "paper_bgcolor": "white",
          "plot_bgcolor": "white",
          "polar": {
           "angularaxis": {
            "gridcolor": "#EBF0F8",
            "linecolor": "#EBF0F8",
            "ticks": ""
           },
           "bgcolor": "white",
           "radialaxis": {
            "gridcolor": "#EBF0F8",
            "linecolor": "#EBF0F8",
            "ticks": ""
           }
          },
          "scene": {
           "xaxis": {
            "backgroundcolor": "white",
            "gridcolor": "#DFE8F3",
            "gridwidth": 2,
            "linecolor": "#EBF0F8",
            "showbackground": true,
            "ticks": "",
            "zerolinecolor": "#EBF0F8"
           },
           "yaxis": {
            "backgroundcolor": "white",
            "gridcolor": "#DFE8F3",
            "gridwidth": 2,
            "linecolor": "#EBF0F8",
            "showbackground": true,
            "ticks": "",
            "zerolinecolor": "#EBF0F8"
           },
           "zaxis": {
            "backgroundcolor": "white",
            "gridcolor": "#DFE8F3",
            "gridwidth": 2,
            "linecolor": "#EBF0F8",
            "showbackground": true,
            "ticks": "",
            "zerolinecolor": "#EBF0F8"
           }
          },
          "shapedefaults": {
           "line": {
            "color": "#2a3f5f"
           }
          },
          "ternary": {
           "aaxis": {
            "gridcolor": "#DFE8F3",
            "linecolor": "#A2B1C6",
            "ticks": ""
           },
           "baxis": {
            "gridcolor": "#DFE8F3",
            "linecolor": "#A2B1C6",
            "ticks": ""
           },
           "bgcolor": "white",
           "caxis": {
            "gridcolor": "#DFE8F3",
            "linecolor": "#A2B1C6",
            "ticks": ""
           }
          },
          "title": {
           "x": 0.05
          },
          "xaxis": {
           "automargin": true,
           "gridcolor": "#EBF0F8",
           "linecolor": "#EBF0F8",
           "ticks": "",
           "title": {
            "standoff": 15
           },
           "zerolinecolor": "#EBF0F8",
           "zerolinewidth": 2
          },
          "yaxis": {
           "automargin": true,
           "gridcolor": "#EBF0F8",
           "linecolor": "#EBF0F8",
           "ticks": "",
           "title": {
            "standoff": 15
           },
           "zerolinecolor": "#EBF0F8",
           "zerolinewidth": 2
          }
         }
        },
        "title": {
         "text": "ALE vs PDP - age"
        },
        "xaxis": {
         "anchor": "y",
         "domain": [
          0,
          1
         ],
         "title": {
          "text": "age"
         }
        },
        "yaxis": {
         "anchor": "x",
         "domain": [
          0,
          1
         ],
         "title": {
          "text": "Prediction"
         }
        }
       }
      },
      "text/html": [
       "<div>                            <div id=\"a51954b3-bc9f-4b88-87c9-c15d1c873821\" class=\"plotly-graph-div\" style=\"height:525px; width:100%;\"></div>            <script type=\"text/javascript\">                require([\"plotly\"], function(Plotly) {                    window.PLOTLYENV=window.PLOTLYENV || {};                                    if (document.getElementById(\"a51954b3-bc9f-4b88-87c9-c15d1c873821\")) {                    Plotly.newPlot(                        \"a51954b3-bc9f-4b88-87c9-c15d1c873821\",                        [{\"line\":{\"color\":\"#008B8B\",\"width\":3},\"mode\":\"lines+markers\",\"name\":\"ALE_age\",\"x\":[0.08,0.8992,1.7184000000000001,2.5376000000000003,3.3568000000000002,4.176,4.9952000000000005,5.8144,6.6336,7.452800000000001,8.272,9.0912,9.910400000000001,10.729600000000001,11.5488,12.368,13.1872,14.006400000000001,14.825600000000001,15.6448,16.464,17.2832,18.1024,18.921599999999998,19.7408,20.56,21.3792,22.1984,23.017599999999998,23.8368,24.656,25.4752,26.2944,27.113599999999998,27.9328,28.752,29.5712,30.3904,31.2096,32.028800000000004,32.848,33.6672,34.4864,35.3056,36.1248,36.944,37.7632,38.5824,39.4016,40.2208,41.04,41.8592,42.6784,43.4976,44.3168,45.136,45.9552,46.7744,47.5936,48.4128,49.232,50.0512,50.870400000000004,51.6896,52.5088,53.328,54.1472,54.9664,55.7856,56.604800000000004,57.424,58.2432,59.062400000000004,59.8816,60.7008,61.52,62.3392,63.1584,63.9776,64.7968,65.616,66.4352,67.2544,68.0736,68.89280000000001,69.712,70.5312,71.35040000000001,72.1696,72.9888,73.808,74.6272,75.4464,76.2656,77.0848,77.904,78.7232,79.5424,80.3616,81.1808,82.0],\"y\":[0.0,0.0,0.0,0.0,0.0,0.0,0.0,0.0,0.0,0.0,-0.00013151861852720627,-0.00013151861852720627,-0.00013151861852720627,-0.00013151861852720627,-0.00013151861852720627,-0.00013151861852720627,-0.00013151861852720627,-0.00013151861852720627,-0.00013151861852720627,-0.00013151861852720627,-0.00013151861852720627,-0.00013151861852720627,-0.00013151861852720627,-0.00013151861852720627,-0.00013151861852720627,-0.00013151861852720627,-0.00013151861852720627,-0.00013151861852720627,-0.00013151861852720627,-0.00013151861852720627,-0.00013151861852720627,-0.00013151861852720627,-0.00013151861852720627,-0.00013151861852720627,-0.00013151861852720627,-0.00013151861852720627,-0.00013151861852720627,-0.00013151861852720627,-0.00013151861852720627,0.0009373531910980435,0.0009373531910980435,0.0009373531910980435,0.0009373531910980435,0.0009373531910980435,0.01658434263410744,0.01658434263410744,0.05472831721363873,0.06371276282151794,0.06371276282151794,0.06371276282151794,0.08868634082773336,0.08868634082773336,0.08868634082773336,0.08868634082773336,0.13621793130161525,0.19156600742021096,0.19156600742021096,0.19156600742021096,0.19407105598083857,0.19643344858010778,0.24502872897338188,0.2447266209466362,0.2447266209466362,0.24423507038148365,0.24824818103752502,0.26447897718166186,0.374671493303543,0.35763816172641044,0.4298941025493337,0.4288254079801282,0.40547982502912455,0.40547982502912455,0.4205576485449099,0.4205576485449099,0.4205576485449099,0.4205576485449099,0.4205576485449099,0.43209287725045437,0.43209287725045437,0.43209287725045437,0.44624485656974416,0.4461017465754209,0.5448618983418262,0.5472428927323478,0.5472428927323478,0.5666051042417827,0.5667310989701605,0.6054809546349424,0.6054809546349424,0.6003017028623349,0.6099417473083258,0.6098646403086664,0.6486303101608317,0.6436067373041192,0.6467647837059961,0.6475861230943508,0.6475861230943508,0.6475861230943508,0.6475861230943508,0.6475861230943508,0.46196548698206286],\"type\":\"scatter\"},{\"line\":{\"color\":\"firebrick\",\"width\":3},\"mode\":\"lines\",\"name\":\"PDP_age\",\"x\":[0.08,0.8992,1.7184000000000001,2.5376000000000003,3.3568000000000002,4.176,4.9952000000000005,5.8144,6.6336,7.452800000000001,8.272,9.0912,9.910400000000001,10.729600000000001,11.5488,12.368,13.1872,14.006400000000001,14.825600000000001,15.6448,16.464,17.2832,18.1024,18.921599999999998,19.7408,20.56,21.3792,22.1984,23.017599999999998,23.8368,24.656,25.4752,26.2944,27.113599999999998,27.9328,28.752,29.5712,30.3904,31.2096,32.028800000000004,32.848,33.6672,34.4864,35.3056,36.1248,36.944,37.7632,38.5824,39.4016,40.2208,41.04,41.8592,42.6784,43.4976,44.3168,45.136,45.9552,46.7744,47.5936,48.4128,49.232,50.0512,50.870400000000004,51.6896,52.5088,53.328,54.1472,54.9664,55.7856,56.604800000000004,57.424,58.2432,59.062400000000004,59.8816,60.7008,61.52,62.3392,63.1584,63.9776,64.7968,65.616,66.4352,67.2544,68.0736,68.89280000000001,69.712,70.5312,71.35040000000001,72.1696,72.9888,73.808,74.6272,75.4464,76.2656,77.0848,77.904,78.7232,79.5424,80.3616,81.1808,82.0],\"y\":[0.05807585154519426,0.05807585154519426,0.05807585154519426,0.05807585154519426,0.05807585154519426,0.05807585154519426,0.05807585154519426,0.05807585154519426,0.05807585154519426,0.05807585154519426,0.05800710780719861,0.05800710780719861,0.05800710780719861,0.05800710780719861,0.05800710780719861,0.05800710780719861,0.05800710780719861,0.05800710780719861,0.05800710780719861,0.05800710780719861,0.05800710780719861,0.05800710780719861,0.05800710780719861,0.05800710780719861,0.05800710780719861,0.05800710780719861,0.05800710780719861,0.05800710780719861,0.05800710780719861,0.05800710780719861,0.05800710780719861,0.05800710780719861,0.05800710780719861,0.05800710780719861,0.05800710780719861,0.05800710780719861,0.05800710780719861,0.05800710780719861,0.05800710780719861,0.05908892563201955,0.05908892563201955,0.05908892563201955,0.05908892563201955,0.05908892563201955,0.07544141907379635,0.07544141907379635,0.11884566129322376,0.12762291257741273,0.12762291257741273,0.12762291257741273,0.15356097293147125,0.15356097293147125,0.15356097293147125,0.15356097293147125,0.19545130475845218,0.242903067773459,0.242903067773459,0.242903067773459,0.24464237507801442,0.24663037080231026,0.281133241658393,0.28071989121071605,0.28071989121071605,0.2800507068573731,0.2836829719953796,0.29708877003780143,0.39238590268806006,0.37670910047705725,0.44020957610755357,0.4387501272709152,0.416695012761924,0.416695012761924,0.436119041822734,0.436119041822734,0.436119041822734,0.436119041822734,0.436119041822734,0.4483386228905955,0.4483386228905955,0.4483386228905955,0.4605275122878455,0.4603293062756504,0.5815577949250937,0.5840460023015447,0.5840460023015447,0.6087277707244957,0.6088337924286521,0.6516829222034914,0.6516829222034914,0.6467814302268786,0.6581484272816902,0.6580305113035596,0.7069716667722237,0.702043116712303,0.7078263862292726,0.7090297334383244,0.7090297334383244,0.7090297334383244,0.7090297334383244,0.7090297334383244,0.5073431294454981],\"type\":\"scatter\"}],                        {\"template\":{\"data\":{\"barpolar\":[{\"marker\":{\"line\":{\"color\":\"white\",\"width\":0.5},\"pattern\":{\"fillmode\":\"overlay\",\"size\":10,\"solidity\":0.2}},\"type\":\"barpolar\"}],\"bar\":[{\"error_x\":{\"color\":\"#2a3f5f\"},\"error_y\":{\"color\":\"#2a3f5f\"},\"marker\":{\"line\":{\"color\":\"white\",\"width\":0.5},\"pattern\":{\"fillmode\":\"overlay\",\"size\":10,\"solidity\":0.2}},\"type\":\"bar\"}],\"carpet\":[{\"aaxis\":{\"endlinecolor\":\"#2a3f5f\",\"gridcolor\":\"#C8D4E3\",\"linecolor\":\"#C8D4E3\",\"minorgridcolor\":\"#C8D4E3\",\"startlinecolor\":\"#2a3f5f\"},\"baxis\":{\"endlinecolor\":\"#2a3f5f\",\"gridcolor\":\"#C8D4E3\",\"linecolor\":\"#C8D4E3\",\"minorgridcolor\":\"#C8D4E3\",\"startlinecolor\":\"#2a3f5f\"},\"type\":\"carpet\"}],\"choropleth\":[{\"colorbar\":{\"outlinewidth\":0,\"ticks\":\"\"},\"type\":\"choropleth\"}],\"contourcarpet\":[{\"colorbar\":{\"outlinewidth\":0,\"ticks\":\"\"},\"type\":\"contourcarpet\"}],\"contour\":[{\"colorbar\":{\"outlinewidth\":0,\"ticks\":\"\"},\"colorscale\":[[0.0,\"#0d0887\"],[0.1111111111111111,\"#46039f\"],[0.2222222222222222,\"#7201a8\"],[0.3333333333333333,\"#9c179e\"],[0.4444444444444444,\"#bd3786\"],[0.5555555555555556,\"#d8576b\"],[0.6666666666666666,\"#ed7953\"],[0.7777777777777778,\"#fb9f3a\"],[0.8888888888888888,\"#fdca26\"],[1.0,\"#f0f921\"]],\"type\":\"contour\"}],\"heatmapgl\":[{\"colorbar\":{\"outlinewidth\":0,\"ticks\":\"\"},\"colorscale\":[[0.0,\"#0d0887\"],[0.1111111111111111,\"#46039f\"],[0.2222222222222222,\"#7201a8\"],[0.3333333333333333,\"#9c179e\"],[0.4444444444444444,\"#bd3786\"],[0.5555555555555556,\"#d8576b\"],[0.6666666666666666,\"#ed7953\"],[0.7777777777777778,\"#fb9f3a\"],[0.8888888888888888,\"#fdca26\"],[1.0,\"#f0f921\"]],\"type\":\"heatmapgl\"}],\"heatmap\":[{\"colorbar\":{\"outlinewidth\":0,\"ticks\":\"\"},\"colorscale\":[[0.0,\"#0d0887\"],[0.1111111111111111,\"#46039f\"],[0.2222222222222222,\"#7201a8\"],[0.3333333333333333,\"#9c179e\"],[0.4444444444444444,\"#bd3786\"],[0.5555555555555556,\"#d8576b\"],[0.6666666666666666,\"#ed7953\"],[0.7777777777777778,\"#fb9f3a\"],[0.8888888888888888,\"#fdca26\"],[1.0,\"#f0f921\"]],\"type\":\"heatmap\"}],\"histogram2dcontour\":[{\"colorbar\":{\"outlinewidth\":0,\"ticks\":\"\"},\"colorscale\":[[0.0,\"#0d0887\"],[0.1111111111111111,\"#46039f\"],[0.2222222222222222,\"#7201a8\"],[0.3333333333333333,\"#9c179e\"],[0.4444444444444444,\"#bd3786\"],[0.5555555555555556,\"#d8576b\"],[0.6666666666666666,\"#ed7953\"],[0.7777777777777778,\"#fb9f3a\"],[0.8888888888888888,\"#fdca26\"],[1.0,\"#f0f921\"]],\"type\":\"histogram2dcontour\"}],\"histogram2d\":[{\"colorbar\":{\"outlinewidth\":0,\"ticks\":\"\"},\"colorscale\":[[0.0,\"#0d0887\"],[0.1111111111111111,\"#46039f\"],[0.2222222222222222,\"#7201a8\"],[0.3333333333333333,\"#9c179e\"],[0.4444444444444444,\"#bd3786\"],[0.5555555555555556,\"#d8576b\"],[0.6666666666666666,\"#ed7953\"],[0.7777777777777778,\"#fb9f3a\"],[0.8888888888888888,\"#fdca26\"],[1.0,\"#f0f921\"]],\"type\":\"histogram2d\"}],\"histogram\":[{\"marker\":{\"pattern\":{\"fillmode\":\"overlay\",\"size\":10,\"solidity\":0.2}},\"type\":\"histogram\"}],\"mesh3d\":[{\"colorbar\":{\"outlinewidth\":0,\"ticks\":\"\"},\"type\":\"mesh3d\"}],\"parcoords\":[{\"line\":{\"colorbar\":{\"outlinewidth\":0,\"ticks\":\"\"}},\"type\":\"parcoords\"}],\"pie\":[{\"automargin\":true,\"type\":\"pie\"}],\"scatter3d\":[{\"line\":{\"colorbar\":{\"outlinewidth\":0,\"ticks\":\"\"}},\"marker\":{\"colorbar\":{\"outlinewidth\":0,\"ticks\":\"\"}},\"type\":\"scatter3d\"}],\"scattercarpet\":[{\"marker\":{\"colorbar\":{\"outlinewidth\":0,\"ticks\":\"\"}},\"type\":\"scattercarpet\"}],\"scattergeo\":[{\"marker\":{\"colorbar\":{\"outlinewidth\":0,\"ticks\":\"\"}},\"type\":\"scattergeo\"}],\"scattergl\":[{\"marker\":{\"colorbar\":{\"outlinewidth\":0,\"ticks\":\"\"}},\"type\":\"scattergl\"}],\"scattermapbox\":[{\"marker\":{\"colorbar\":{\"outlinewidth\":0,\"ticks\":\"\"}},\"type\":\"scattermapbox\"}],\"scatterpolargl\":[{\"marker\":{\"colorbar\":{\"outlinewidth\":0,\"ticks\":\"\"}},\"type\":\"scatterpolargl\"}],\"scatterpolar\":[{\"marker\":{\"colorbar\":{\"outlinewidth\":0,\"ticks\":\"\"}},\"type\":\"scatterpolar\"}],\"scatter\":[{\"marker\":{\"colorbar\":{\"outlinewidth\":0,\"ticks\":\"\"}},\"type\":\"scatter\"}],\"scatterternary\":[{\"marker\":{\"colorbar\":{\"outlinewidth\":0,\"ticks\":\"\"}},\"type\":\"scatterternary\"}],\"surface\":[{\"colorbar\":{\"outlinewidth\":0,\"ticks\":\"\"},\"colorscale\":[[0.0,\"#0d0887\"],[0.1111111111111111,\"#46039f\"],[0.2222222222222222,\"#7201a8\"],[0.3333333333333333,\"#9c179e\"],[0.4444444444444444,\"#bd3786\"],[0.5555555555555556,\"#d8576b\"],[0.6666666666666666,\"#ed7953\"],[0.7777777777777778,\"#fb9f3a\"],[0.8888888888888888,\"#fdca26\"],[1.0,\"#f0f921\"]],\"type\":\"surface\"}],\"table\":[{\"cells\":{\"fill\":{\"color\":\"#EBF0F8\"},\"line\":{\"color\":\"white\"}},\"header\":{\"fill\":{\"color\":\"#C8D4E3\"},\"line\":{\"color\":\"white\"}},\"type\":\"table\"}]},\"layout\":{\"annotationdefaults\":{\"arrowcolor\":\"#2a3f5f\",\"arrowhead\":0,\"arrowwidth\":1},\"autotypenumbers\":\"strict\",\"coloraxis\":{\"colorbar\":{\"outlinewidth\":0,\"ticks\":\"\"}},\"colorscale\":{\"diverging\":[[0,\"#8e0152\"],[0.1,\"#c51b7d\"],[0.2,\"#de77ae\"],[0.3,\"#f1b6da\"],[0.4,\"#fde0ef\"],[0.5,\"#f7f7f7\"],[0.6,\"#e6f5d0\"],[0.7,\"#b8e186\"],[0.8,\"#7fbc41\"],[0.9,\"#4d9221\"],[1,\"#276419\"]],\"sequential\":[[0.0,\"#0d0887\"],[0.1111111111111111,\"#46039f\"],[0.2222222222222222,\"#7201a8\"],[0.3333333333333333,\"#9c179e\"],[0.4444444444444444,\"#bd3786\"],[0.5555555555555556,\"#d8576b\"],[0.6666666666666666,\"#ed7953\"],[0.7777777777777778,\"#fb9f3a\"],[0.8888888888888888,\"#fdca26\"],[1.0,\"#f0f921\"]],\"sequentialminus\":[[0.0,\"#0d0887\"],[0.1111111111111111,\"#46039f\"],[0.2222222222222222,\"#7201a8\"],[0.3333333333333333,\"#9c179e\"],[0.4444444444444444,\"#bd3786\"],[0.5555555555555556,\"#d8576b\"],[0.6666666666666666,\"#ed7953\"],[0.7777777777777778,\"#fb9f3a\"],[0.8888888888888888,\"#fdca26\"],[1.0,\"#f0f921\"]]},\"colorway\":[\"#636efa\",\"#EF553B\",\"#00cc96\",\"#ab63fa\",\"#FFA15A\",\"#19d3f3\",\"#FF6692\",\"#B6E880\",\"#FF97FF\",\"#FECB52\"],\"font\":{\"color\":\"#2a3f5f\"},\"geo\":{\"bgcolor\":\"white\",\"lakecolor\":\"white\",\"landcolor\":\"white\",\"showlakes\":true,\"showland\":true,\"subunitcolor\":\"#C8D4E3\"},\"hoverlabel\":{\"align\":\"left\"},\"hovermode\":\"closest\",\"mapbox\":{\"style\":\"light\"},\"paper_bgcolor\":\"white\",\"plot_bgcolor\":\"white\",\"polar\":{\"angularaxis\":{\"gridcolor\":\"#EBF0F8\",\"linecolor\":\"#EBF0F8\",\"ticks\":\"\"},\"bgcolor\":\"white\",\"radialaxis\":{\"gridcolor\":\"#EBF0F8\",\"linecolor\":\"#EBF0F8\",\"ticks\":\"\"}},\"scene\":{\"xaxis\":{\"backgroundcolor\":\"white\",\"gridcolor\":\"#DFE8F3\",\"gridwidth\":2,\"linecolor\":\"#EBF0F8\",\"showbackground\":true,\"ticks\":\"\",\"zerolinecolor\":\"#EBF0F8\"},\"yaxis\":{\"backgroundcolor\":\"white\",\"gridcolor\":\"#DFE8F3\",\"gridwidth\":2,\"linecolor\":\"#EBF0F8\",\"showbackground\":true,\"ticks\":\"\",\"zerolinecolor\":\"#EBF0F8\"},\"zaxis\":{\"backgroundcolor\":\"white\",\"gridcolor\":\"#DFE8F3\",\"gridwidth\":2,\"linecolor\":\"#EBF0F8\",\"showbackground\":true,\"ticks\":\"\",\"zerolinecolor\":\"#EBF0F8\"}},\"shapedefaults\":{\"line\":{\"color\":\"#2a3f5f\"}},\"ternary\":{\"aaxis\":{\"gridcolor\":\"#DFE8F3\",\"linecolor\":\"#A2B1C6\",\"ticks\":\"\"},\"baxis\":{\"gridcolor\":\"#DFE8F3\",\"linecolor\":\"#A2B1C6\",\"ticks\":\"\"},\"bgcolor\":\"white\",\"caxis\":{\"gridcolor\":\"#DFE8F3\",\"linecolor\":\"#A2B1C6\",\"ticks\":\"\"}},\"title\":{\"x\":0.05},\"xaxis\":{\"automargin\":true,\"gridcolor\":\"#EBF0F8\",\"linecolor\":\"#EBF0F8\",\"ticks\":\"\",\"title\":{\"standoff\":15},\"zerolinecolor\":\"#EBF0F8\",\"zerolinewidth\":2},\"yaxis\":{\"automargin\":true,\"gridcolor\":\"#EBF0F8\",\"linecolor\":\"#EBF0F8\",\"ticks\":\"\",\"title\":{\"standoff\":15},\"zerolinecolor\":\"#EBF0F8\",\"zerolinewidth\":2}}},\"xaxis\":{\"anchor\":\"y\",\"domain\":[0.0,1.0],\"title\":{\"text\":\"age\"}},\"yaxis\":{\"anchor\":\"x\",\"domain\":[0.0,1.0],\"title\":{\"text\":\"Prediction\"}},\"shapes\":[{\"line\":{\"color\":\"black\",\"dash\":\"dash\",\"width\":2},\"type\":\"line\",\"x0\":0,\"x1\":1,\"xref\":\"x domain\",\"y0\":0.2768122271074937,\"y1\":0.2768122271074937,\"yref\":\"y\"}],\"annotations\":[{\"showarrow\":false,\"text\":\"mean prediction\",\"x\":1,\"xanchor\":\"right\",\"xref\":\"x domain\",\"y\":0.2768122271074937,\"yanchor\":\"top\",\"yref\":\"y\"}],\"title\":{\"text\":\"ALE vs PDP - age\"}},                        {\"responsive\": true}                    ).then(function(){\n",
       "                            \n",
       "var gd = document.getElementById('a51954b3-bc9f-4b88-87c9-c15d1c873821');\n",
       "var x = new MutationObserver(function (mutations, observer) {{\n",
       "        var display = window.getComputedStyle(gd).display;\n",
       "        if (!display || display === 'none') {{\n",
       "            console.log([gd, 'removed!']);\n",
       "            Plotly.purge(gd);\n",
       "            observer.disconnect();\n",
       "        }}\n",
       "}});\n",
       "\n",
       "// Listen for the removal of the full notebook cells\n",
       "var notebookContainer = gd.closest('#notebook-container');\n",
       "if (notebookContainer) {{\n",
       "    x.observe(notebookContainer, {childList: true});\n",
       "}}\n",
       "\n",
       "// Listen for the clearing of the current output cell\n",
       "var outputEl = gd.closest('.output');\n",
       "if (outputEl) {{\n",
       "    x.observe(outputEl, {childList: true});\n",
       "}}\n",
       "\n",
       "                        })                };                });            </script>        </div>"
      ]
     },
     "metadata": {},
     "output_type": "display_data"
    }
   ],
   "source": [
    "utils.pdp_vs_ale_plot_continous(exp, 'age', 'ALE_age','PDP_age','ALE vs PDP - age','age',y_test)"
   ]
  },
  {
   "cell_type": "markdown",
   "id": "c2b1e048",
   "metadata": {},
   "source": [
    "### Summary Comparison\n"
   ]
  },
  {
   "cell_type": "markdown",
   "id": "333a98b1",
   "metadata": {
    "ExecuteTime": {
     "end_time": "2022-10-10T15:07:23.568618Z",
     "start_time": "2022-10-10T15:07:23.563621Z"
    }
   },
   "source": [
    "| About                                   | PDP                                                                                                                                                                                                                                                                                                                                                                                                                       | ALE                                                                                                                                                                                                                                                                                                                                                                                              |\n",
    "|:----------------------------------------|:-------------------------------------------------------------------------------------------------------------------------------------------------------------------------------------------------------------------------------------------------------------------------------------------------------------------------------------------------------------------------------------------------------------------------------------|:---------------------------------------------------------------------------------------------------------------------------------------------------------------------------------------------------------------------------------------------------------------------------------------------------------------------------------------------------------------------------------------------------------|\n",
    "| 🚩 [Method](https://christophm.github.io/interpretable-ml-book/ale.html)        | Let me show you what the model predicts on average when each data instance has the value v for that feature. I ignore whether the value v makes sense for all data instances.                                                                                                                                                                                                                                                                                                                                                    | Let me show you how the model predictions change in a small “window” of the feature around v for data instances in that window.                                                                                                                                                                                                                                                                                                          |\n",
    "| ⏰ Run Time for dataset used | few milliseconds to upto 2 sec                                                                                                                                                                                                                                                                                                                                                                                                                      | few milliseconds to upto 2 sec                                                                                                                                                                                                                                                                                                                                                                                            |\n",
    "| ✔️ Packages             | Dalex, Shapash, explainerdashboard, Alibi Explain, Skater,PDPBox,sklearn.inspection module                                                                                                                                                                                                                                                                                                                                                                   | Dalex, Alibi Explain,ALEPython                                                                                                                                                                                                                                                                                                                                                                                                   |\n",
    "| ⭐  Advantages                      | 1. Computation of PDP is intuitive. <br> 2. In the uncorrelated case, the interpretation is clear <br> 3. Easy to implement    | 1. ALE plots are unbiased as they work when features are correlated <br> 2.  Interpretation of ALE plots is clear as they are centered at zero <br> 3. Far less computationally expensive than PD plots                                                                |\n",
    "| 💥  Limitation                       | 1. The realistic maximum number of features in a partial dependence function is two <br> 2. Not suitable when features are correlated.  <br> 3. Heterogeneous effects might be hidden. <br> 4. Computation heavy                                                      | 1. Feature values need to have an “order” <br> 2. The concept of ALE is less intuitive   <br>   3. Interpretation remains difficult when features are strongly correlated. <br> 4.  Need to set the number of interval, if the interval setting is not good, the result will be unstable |"
   ]
  },
  {
   "cell_type": "markdown",
   "id": "5a2fc924",
   "metadata": {},
   "source": [
    "[back](#Table-of-Contents)"
   ]
  },
  {
   "cell_type": "markdown",
   "id": "10843e3d",
   "metadata": {},
   "source": [
    "## SHAP vs Breakdown"
   ]
  },
  {
   "cell_type": "markdown",
   "id": "42ee4ab8",
   "metadata": {},
   "source": [
    "### Understanding these Methods"
   ]
  },
  {
   "cell_type": "markdown",
   "id": "7fb4cdcf",
   "metadata": {},
   "source": [
    "#### SHAP Waterfall"
   ]
  },
  {
   "cell_type": "code",
   "execution_count": 27,
   "id": "2c986fbc",
   "metadata": {
    "ExecuteTime": {
     "end_time": "2022-12-20T07:57:00.527807Z",
     "start_time": "2022-12-20T07:57:00.503806Z"
    }
   },
   "outputs": [],
   "source": [
    "shap_theory_md = \"\"\" <font size = 4  color = '#008B8B'><b>What is SHAP?</b></font>\n",
    "<ul>\n",
    "  <li>SHAP — which stands for SHapley Additive exPlanations — is a <b>brilliant way to reverse-engineer the output of any predictive algorithm</b></li>\n",
    "  <li>Published in 2017 by Lundberg and Lee, SHAP is probably the state of the art in Machine Learning explainability</li>\n",
    "  <li>Three main “explainer” classes - </li>\n",
    "   <ul>\n",
    "\t  <li>TreeExplainer (Model Specific)</li>\n",
    "\t  <li>DeepExplainer (Model Specific)</li>\n",
    "      <li>KernelExplainer (Model Agnostic)</li>\n",
    "   </ul>\n",
    "</ul>\n",
    "\n",
    "<font size = 4  color = '#008B8B'> <b>Idea behind SHAP - Shapely Values</b></font>\n",
    "<ul>\n",
    "\t<li>SHAP values are based on Shapley values - a solution concept in cooperative game theory.</li>\n",
    "\t<li>Shapley value is the average expected <a href=\"https://www.igi-global.com/dictionary/marginal-contribution/39781\">marginal contribution</a> of one player after <b>all possible combinations</b> have been considered.</li>\n",
    "\t<li>Shapley value helps to determine a payoff for all of the players when each player might have contributed more or less than the others.</li>\n",
    "</ul>\n",
    "\n",
    "<font size = 4  color = '#008B8B'> <b>How it relate to the explainability of machine learning?</b></font>\n",
    "<br>  \n",
    "Suppose we have a predictive model; in that case:\n",
    "<ul>\n",
    "<li>the <b>game</b> is reproducing the <b>outcome</b> of the model</li>\n",
    "<li>the <b>players</b> are the <b>features</b> included in the model.</li>\n",
    "</ul>\n",
    "\n",
    "What Shapley does is <b>quantify each player's contribution to the game</b>. \n",
    "What SHAP does is <b>quantify the contribution that each feature makes to the model's prediction</b>.\n",
    "<br>\n",
    "<i>To be clear,game only refers to one observation</i>\n",
    "\n",
    "<br>\n",
    "<br>\n",
    "<div style=\"float: left;\">\n",
    "<img src = \"https://shap.readthedocs.io/en/latest/_images/shap_header.png\" width = 450 length = 450 >\n",
    "</div>\n",
    "    \n",
    "<br clear=\"left\"/>\n",
    "\n",
    "<i>A simple <a href=\"https://shap.readthedocs.io/en/latest/_images/shap_header.png\">infographic</a> above shows SHAP helps us   understand the magnitude of impact (length of the bar) and direction(colour)</i>\n",
    "\n",
    "<br>\n",
    "\n",
    "Properties of SHAP Values -\n",
    "\n",
    "\n",
    "<ul>\n",
    "  <li>The shap_values is a 2D array.</b></li>\n",
    "  <li>Each column represents a feature used in the model and its on different scale than actual feature value</li>\n",
    "  <li> Each SHAP value represents how much this feature contributes to the output of this row’s prediction</li>\n",
    "</ul>\n",
    "\n",
    "<br>\n",
    "\n",
    "<font size = 4  color = '#008B8B'><b>How Shapley Value is calculated?</b> </font>\n",
    "<ol type=\"1\">\n",
    "    <li>Create the set of all possible feature combinations (called coalitions)</li>\n",
    "    <li>Calculate the average model prediction</li>\n",
    "    <li>For each coalition, calculate the difference between the model’s prediction without F and the average prediction.</li>\n",
    "    <li>For each coalition, calculate the difference between the model’s prediction with F and the average prediction.</li>\n",
    "    <li>For each coalition, calculate how much F changed the model’s prediction from the average (i.e., step 4 – step 3) – this is the marginal contribution of F </li>\n",
    "    <li>Shapley value = the average of all the values calculated in step 5 (i.e., the average of F’s marginal contributions) </li>\n",
    "</ol>\n",
    "\n",
    "\n",
    "\"\"\""
   ]
  },
  {
   "cell_type": "code",
   "execution_count": 28,
   "id": "6858519a",
   "metadata": {
    "ExecuteTime": {
     "end_time": "2022-12-20T07:57:00.570806Z",
     "start_time": "2022-12-20T07:57:00.530804Z"
    }
   },
   "outputs": [],
   "source": [
    "shap_eg_md = \"\"\" \n",
    "<font size = 4  color = '#008B8B'> <b>How Shapley values are calculated?</b></font>\n",
    "<br>\n",
    "<b>Below <a href=\"https://towardsdatascience.com/shap-explain-any-machine-learning-model-in-python-24207127cad7\">series of images</a> can help us understand how Shapley values are calculated.</b>\n",
    "\n",
    "<br>\n",
    "\n",
    "<img align=\"left\" src=\"https://miro.medium.com/max/4800/1*USvWgOflrKaDd76tv_9eWA.png\" width = 450 length = 450>\n",
    "<br clear=\"left\"/>\n",
    "\n",
    "<i><a href=\"https://shap.readthedocs.io/en/latest/_images/shap_header.png\">infographic</a> above shows the revenues for each strategy in a specific month </i>\n",
    "\n",
    "<br>\n",
    "<br>\n",
    "\n",
    "<img align=\"left\" src=\"https://miro.medium.com/max/4800/1*ne7amGdQ7DOOS6ia0Kc_OA.png\" width = 450 length = 450>\n",
    "<br clear=\"left\"/>\n",
    "\n",
    "<i><a href=\"https://miro.medium.com/max/4800/1*ne7amGdQ7DOOS6ia0Kc_OA.png\">infographic</a> above shows the difference in revenues between using three ads and using no ad</i>\n",
    "\n",
    "\n",
    "<br>\n",
    "<br>\n",
    "\n",
    "<font size = 3  color = '#008B8B'> <b>How much does each ad contribute to this difference?</b> </font>🤔\n",
    "    \n",
    "<br>\n",
    "    \n",
    "<img align=\"left\" src=\"https://miro.medium.com/max/4800/1*w62Q_L1UEFTUO7hoAKu1EA.png\" width = 450 length = 450>\n",
    "<br clear=\"left\"/>    \n",
    "<img align=\"left\" src=\"https://miro.medium.com/max/4800/1*CfuMK37v-xBroLN_7WPrFQ.png\" width = 450 length = 450>\n",
    "<br clear=\"left\"/>\n",
    "\n",
    "<i><a href=\"https://miro.medium.com/max/4800/1*ne7amGdQ7DOOS6ia0Kc_OA.png\">infographic</a> above show total contribution of Google advertisement could be calculated by the formula</i>\n",
    "\n",
    "<br>\n",
    "\n",
    "<b>What is Marginal contributions of a feature?</b>\n",
    "<br>\n",
    "<i>As seen above, two nodes connected by an edge differ for just one feature. Therefore, the gap between the predictions of two connected nodes can be imputed to the effect of that additional feature. \n",
    "This is called “marginal contribution” of a feature.</i>\n",
    "    \n",
    "<br>\n",
    "<br>\n",
    "\n",
    "<img align=\"left\" src=\"https://miro.medium.com/max/640/1*-fEDnX3JSeHzZNUm7YMyDg.png\" width = 450 length = 450>\n",
    "<br clear=\"left\"/>\n",
    "\n",
    "<i><a href=\"https://miro.medium.com/max/4800/1*ne7amGdQ7DOOS6ia0Kc_OA.png\">infographic</a> above shows the total Contribution of Google Advertisement</i>\n",
    "\n",
    "    \n",
    "<br>\n",
    "<br>\n",
    "\n",
    "<img align=\"left\" src=\"https://miro.medium.com/max/4800/1*64XofqQSmiG7JcEMewRT3Q.png\" width = 450 length = 450>\n",
    "<br clear=\"left\"/>\n",
    "\n",
    "<i><a href=\"https://miro.medium.com/max/4800/1*64XofqQSmiG7JcEMewRT3Q.png\">infographic</a> above shows that the Total contribution 300 $=$ difference in revenues between using three ads and using no ad</i>\"\"\" \n"
   ]
  },
  {
   "cell_type": "code",
   "execution_count": 29,
   "id": "87b07271",
   "metadata": {
    "ExecuteTime": {
     "end_time": "2022-12-20T07:57:00.613806Z",
     "start_time": "2022-12-20T07:57:00.574806Z"
    },
    "scrolled": false
   },
   "outputs": [
    {
     "data": {
      "text/html": [
       "<div class=\"tab\">\n",
       "<button id = \"defaultOpen-3831\" onclick = \"OpenTab_3831(event, 'Theory-3831')\" class=\"tablinks-3831\">Theory</button>\n",
       "<button onclick = \"OpenTab_3831(event, 'Example-3831')\" class=\"tablinks-3831\">Example</button>\n",
       "</div><div id = \"Theory-3831\" class=\"tabcontent-3831\">\n",
       " <font size = 4  color = '#008B8B'><b>What is SHAP?</b></font>\n",
       "<ul>\n",
       "  <li>SHAP — which stands for SHapley Additive exPlanations — is a <b>brilliant way to reverse-engineer the output of any predictive algorithm</b></li>\n",
       "  <li>Published in 2017 by Lundberg and Lee, SHAP is probably the state of the art in Machine Learning explainability</li>\n",
       "  <li>Three main “explainer” classes - </li>\n",
       "   <ul>\n",
       "\t  <li>TreeExplainer (Model Specific)</li>\n",
       "\t  <li>DeepExplainer (Model Specific)</li>\n",
       "      <li>KernelExplainer (Model Agnostic)</li>\n",
       "   </ul>\n",
       "</ul>\n",
       "\n",
       "<font size = 4  color = '#008B8B'> <b>Idea behind SHAP - Shapely Values</b></font>\n",
       "<ul>\n",
       "\t<li>SHAP values are based on Shapley values - a solution concept in cooperative game theory.</li>\n",
       "\t<li>Shapley value is the average expected <a href=\"https://www.igi-global.com/dictionary/marginal-contribution/39781\">marginal contribution</a> of one player after <b>all possible combinations</b> have been considered.</li>\n",
       "\t<li>Shapley value helps to determine a payoff for all of the players when each player might have contributed more or less than the others.</li>\n",
       "</ul>\n",
       "\n",
       "<font size = 4  color = '#008B8B'> <b>How it relate to the explainability of machine learning?</b></font>\n",
       "<br>  \n",
       "Suppose we have a predictive model; in that case:\n",
       "<ul>\n",
       "<li>the <b>game</b> is reproducing the <b>outcome</b> of the model</li>\n",
       "<li>the <b>players</b> are the <b>features</b> included in the model.</li>\n",
       "</ul>\n",
       "\n",
       "What Shapley does is <b>quantify each player's contribution to the game</b>. \n",
       "What SHAP does is <b>quantify the contribution that each feature makes to the model's prediction</b>.\n",
       "<br>\n",
       "<i>To be clear,game only refers to one observation</i>\n",
       "\n",
       "<br>\n",
       "<br>\n",
       "<div style=\"float: left;\">\n",
       "<img src = \"https://shap.readthedocs.io/en/latest/_images/shap_header.png\" width = 450 length = 450 >\n",
       "</div>\n",
       "    \n",
       "<br clear=\"left\"/>\n",
       "\n",
       "<i>A simple <a href=\"https://shap.readthedocs.io/en/latest/_images/shap_header.png\">infographic</a> above shows SHAP helps us   understand the magnitude of impact (length of the bar) and direction(colour)</i>\n",
       "\n",
       "<br>\n",
       "\n",
       "Properties of SHAP Values -\n",
       "\n",
       "\n",
       "<ul>\n",
       "  <li>The shap_values is a 2D array.</b></li>\n",
       "  <li>Each column represents a feature used in the model and its on different scale than actual feature value</li>\n",
       "  <li> Each SHAP value represents how much this feature contributes to the output of this row’s prediction</li>\n",
       "</ul>\n",
       "\n",
       "<br>\n",
       "\n",
       "<font size = 4  color = '#008B8B'><b>How Shapley Value is calculated?</b> </font>\n",
       "<ol type=\"1\">\n",
       "    <li>Create the set of all possible feature combinations (called coalitions)</li>\n",
       "    <li>Calculate the average model prediction</li>\n",
       "    <li>For each coalition, calculate the difference between the model’s prediction without F and the average prediction.</li>\n",
       "    <li>For each coalition, calculate the difference between the model’s prediction with F and the average prediction.</li>\n",
       "    <li>For each coalition, calculate how much F changed the model’s prediction from the average (i.e., step 4 – step 3) – this is the marginal contribution of F </li>\n",
       "    <li>Shapley value = the average of all the values calculated in step 5 (i.e., the average of F’s marginal contributions) </li>\n",
       "</ol>\n",
       "\n",
       "\n",
       "\n",
       "</div>\n",
       "<div id = \"Example-3831\" class=\"tabcontent-3831\">\n",
       " \n",
       "<font size = 4  color = '#008B8B'> <b>How Shapley values are calculated?</b></font>\n",
       "<br>\n",
       "<b>Below <a href=\"https://towardsdatascience.com/shap-explain-any-machine-learning-model-in-python-24207127cad7\">series of images</a> can help us understand how Shapley values are calculated.</b>\n",
       "\n",
       "<br>\n",
       "\n",
       "<img align=\"left\" src=\"https://miro.medium.com/max/4800/1*USvWgOflrKaDd76tv_9eWA.png\" width = 450 length = 450>\n",
       "<br clear=\"left\"/>\n",
       "\n",
       "<i><a href=\"https://shap.readthedocs.io/en/latest/_images/shap_header.png\">infographic</a> above shows the revenues for each strategy in a specific month </i>\n",
       "\n",
       "<br>\n",
       "<br>\n",
       "\n",
       "<img align=\"left\" src=\"https://miro.medium.com/max/4800/1*ne7amGdQ7DOOS6ia0Kc_OA.png\" width = 450 length = 450>\n",
       "<br clear=\"left\"/>\n",
       "\n",
       "<i><a href=\"https://miro.medium.com/max/4800/1*ne7amGdQ7DOOS6ia0Kc_OA.png\">infographic</a> above shows the difference in revenues between using three ads and using no ad</i>\n",
       "\n",
       "\n",
       "<br>\n",
       "<br>\n",
       "\n",
       "<font size = 3  color = '#008B8B'> <b>How much does each ad contribute to this difference?</b> </font>🤔\n",
       "    \n",
       "<br>\n",
       "    \n",
       "<img align=\"left\" src=\"https://miro.medium.com/max/4800/1*w62Q_L1UEFTUO7hoAKu1EA.png\" width = 450 length = 450>\n",
       "<br clear=\"left\"/>    \n",
       "<img align=\"left\" src=\"https://miro.medium.com/max/4800/1*CfuMK37v-xBroLN_7WPrFQ.png\" width = 450 length = 450>\n",
       "<br clear=\"left\"/>\n",
       "\n",
       "<i><a href=\"https://miro.medium.com/max/4800/1*ne7amGdQ7DOOS6ia0Kc_OA.png\">infographic</a> above show total contribution of Google advertisement could be calculated by the formula</i>\n",
       "\n",
       "<br>\n",
       "\n",
       "<b>What is Marginal contributions of a feature?</b>\n",
       "<br>\n",
       "<i>As seen above, two nodes connected by an edge differ for just one feature. Therefore, the gap between the predictions of two connected nodes can be imputed to the effect of that additional feature. \n",
       "This is called “marginal contribution” of a feature.</i>\n",
       "    \n",
       "<br>\n",
       "<br>\n",
       "\n",
       "<img align=\"left\" src=\"https://miro.medium.com/max/640/1*-fEDnX3JSeHzZNUm7YMyDg.png\" width = 450 length = 450>\n",
       "<br clear=\"left\"/>\n",
       "\n",
       "<i><a href=\"https://miro.medium.com/max/4800/1*ne7amGdQ7DOOS6ia0Kc_OA.png\">infographic</a> above shows the total Contribution of Google Advertisement</i>\n",
       "\n",
       "    \n",
       "<br>\n",
       "<br>\n",
       "\n",
       "<img align=\"left\" src=\"https://miro.medium.com/max/4800/1*64XofqQSmiG7JcEMewRT3Q.png\" width = 450 length = 450>\n",
       "<br clear=\"left\"/>\n",
       "\n",
       "<i><a href=\"https://miro.medium.com/max/4800/1*64XofqQSmiG7JcEMewRT3Q.png\">infographic</a> above shows that the Total contribution 300 $=$ difference in revenues between using three ads and using no ad</i>\n",
       "</div>\n",
       "<style>\n",
       "    /* Style the tab */\n",
       "    .tab {\n",
       "      border-bottom: 1px solid #ccc;\n",
       "      display: flex;\n",
       "      flex-wrap: wrap;\n",
       "    }\n",
       "\n",
       "    /* Style the buttons inside the tab */\n",
       "    .tab>button {\n",
       "      background-color: inherit;\n",
       "      border: none;\n",
       "      outline: none;\n",
       "      cursor: pointer;\n",
       "      padding: 1rem;\n",
       "      transition: 0.1s;\n",
       "      font-size: 15px;\n",
       "      border-top-left-radius: 0.25rem;\n",
       "      border-top-right-radius: 0.25rem;\n",
       "      color: #0d6efd;\n",
       "    }\n",
       "\n",
       "    /* Change background color of buttons on hover */\n",
       "    .tab>button:hover {\n",
       "      background-color: #ccc;\n",
       "    }\n",
       "\n",
       "    /* Create an active/current tablink class */\n",
       "    .tab>button.active-tab {\n",
       "      background-color: white;\n",
       "      border: 1px solid #ccc;\n",
       "      border-bottom: none;\n",
       "      margin-bottom: -1px;\n",
       "      color: #495057;\n",
       "\n",
       "    }\n",
       "    /* Style the tab content */\n",
       "    .tabcontent-3831 {\n",
       "      display: none;\n",
       "      padding: 0 0.5rem;\n",
       "    }\n",
       "    </style>\n",
       "    <script>\n",
       "    function OpenTab_3831(evt, cityName) {\n",
       "      var i, tabcontent, tablinks;\n",
       "      tabcontent = document.getElementsByClassName(\"tabcontent-3831\");\n",
       "      for (i = 0; i < tabcontent.length; i++) {\n",
       "        tabcontent[i].style.display = \"none\";\n",
       "      }\n",
       "      tablinks = document.getElementsByClassName(\"tablinks-3831\");\n",
       "      for (i = 0; i < tablinks.length; i++) {\n",
       "        tablinks[i].className = tablinks[i].className.replace(\" active-tab\", \"\");\n",
       "      }\n",
       "      document.getElementById(cityName).style.display = \"block\";\n",
       "      evt.currentTarget.className += \" active-tab\";\n",
       "    }\n",
       "\n",
       "    // Get the element with id=\"defaultOpen\" and click on it\n",
       "    document.getElementById(\"defaultOpen-3831\").click();\n",
       "    </script>"
      ],
      "text/plain": [
       "<IPython.core.display.HTML object>"
      ]
     },
     "metadata": {},
     "output_type": "display_data"
    }
   ],
   "source": [
    "tabset({\n",
    "    'Theory': shap_theory_md,\n",
    "    'Example': shap_eg_md,\n",
    "})"
   ]
  },
  {
   "cell_type": "markdown",
   "id": "0264e165",
   "metadata": {},
   "source": [
    "#### Break Down"
   ]
  },
  {
   "cell_type": "code",
   "execution_count": 30,
   "id": "b019fc11",
   "metadata": {
    "ExecuteTime": {
     "end_time": "2022-12-20T07:57:00.654803Z",
     "start_time": "2022-12-20T07:57:00.616807Z"
    },
    "tags": [
     "remove-cell"
    ]
   },
   "outputs": [],
   "source": [
    "bd_theory_md = \"\"\"\n",
    "<font size = 4  color = '#008B8B'> <b>What is Break Down?</b></font>\n",
    "<ul>\n",
    "   <li>Break Down  is Model Agnostic and instance specific method </li>\n",
    "   <li>Published in 2018 by Mateusz Staniak and Przemysław Biecek</li>\n",
    "   <li>Uses a greedy strategy to identify and remove features iteratively based on their influence on the overall average predicted response meaning it starts with the mean expected model response and then successively add variables in a sequence of their increasing\n",
    "contributions.</li>\n",
    "   <li> Consecutive rows present changes in the mean prediction induced by fixing the value of a particular explanatory variable. \n",
    "   <li>Order-Dependence: The ordering of variables influences the contribution values</li>\n",
    "   <li>Break down interaction: It is based on notion of interaction (deviation from additivity) which means that the effect of an explanatory variable depends on the value(s) of other variable(s)</li>\n",
    "</ul>\n",
    "    \n",
    "\n",
    "<font size = 4  color = '#008B8B'><b>How it relate to the explainability of machine learning?</b> </font>\n",
    "<ul>\n",
    "<li>By providing posible answer to the question, \"Which variables contribute the most to the single observation result?\" </li>\n",
    "</ul>\n",
    "\n",
    "<font size = 4  color = '#008B8B'><b>How it is calculated?</b> </font>\n",
    "<ol type=\"1\">\n",
    "    <li>Starting point is mean prediction </li>\n",
    "    <li>Fix explanatory variable (X1) with the current instance value, calculate all prediction and take the mean </li>\n",
    "    <li>Fix X1 and X2 at the value and calculate all prediction and take mean </li>\n",
    "    <li>Continue this process with all features </li>\n",
    "    <li>Last row represents  model’s prediction for the current instance </li>\n",
    "</ol>\n",
    "\"\"\""
   ]
  },
  {
   "cell_type": "code",
   "execution_count": 31,
   "id": "9a1549f4",
   "metadata": {
    "ExecuteTime": {
     "end_time": "2022-12-20T07:57:00.692806Z",
     "start_time": "2022-12-20T07:57:00.657807Z"
    },
    "tags": [
     "remove-cell"
    ]
   },
   "outputs": [],
   "source": [
    "bd_eg_md = \"\"\"<img align=\"left\" src=\"xai_img/BD_exp.png\" width = 700 length = 700>\n",
    "<br clear=\"left\"/>\n",
    "\n",
    "<i>infographic above illustrate how break down plot is generated </i>\n",
    "<br>\n",
    "\n",
    "<img align=\"left\" src=\"xai_img/BD_simple.png\" width = 700 length = 700>\n",
    "<br clear=\"left\"/>\n",
    "\n",
    "<br>\n",
    "\n",
    "\n",
    "<img align=\"left\" src=\"xai_img/breakdown_exp.png\" width = 700 length = 700>\n",
    "<br clear=\"left\"/>\n",
    "\n",
    "<i><a href=\"https://ema.drwhy.ai/iBreakDown.html\">infographic</a> above illustrate order-dependence and interaction in break down. </i>\n",
    "<br>\n",
    "Thus, by considering the effects of class and age in a different order, we get very different attributions (contributions attributed to the variables). This is because there is an interaction: the effect of class depends on age and vice versa\n",
    "\n",
    "<br>\n",
    "<br clear=\"left\"/>\n",
    "\"\"\""
   ]
  },
  {
   "cell_type": "code",
   "execution_count": 32,
   "id": "bd9151e3",
   "metadata": {
    "ExecuteTime": {
     "end_time": "2022-12-20T07:57:01.785805Z",
     "start_time": "2022-12-20T07:57:01.778804Z"
    }
   },
   "outputs": [
    {
     "data": {
      "text/html": [
       "<div class=\"tab\">\n",
       "<button id = \"defaultOpen-2306\" onclick = \"OpenTab_2306(event, 'Theory-2306')\" class=\"tablinks-2306\">Theory</button>\n",
       "<button onclick = \"OpenTab_2306(event, 'Example-2306')\" class=\"tablinks-2306\">Example</button>\n",
       "</div><div id = \"Theory-2306\" class=\"tabcontent-2306\">\n",
       "\n",
       "<font size = 4  color = '#008B8B'> <b>What is Break Down?</b></font>\n",
       "<ul>\n",
       "   <li>Break Down  is Model Agnostic and instance specific method </li>\n",
       "   <li>Published in 2018 by Mateusz Staniak and Przemysław Biecek</li>\n",
       "   <li>Uses a greedy strategy to identify and remove features iteratively based on their influence on the overall average predicted response meaning it starts with the mean expected model response and then successively add variables in a sequence of their increasing\n",
       "contributions.</li>\n",
       "   <li> Consecutive rows present changes in the mean prediction induced by fixing the value of a particular explanatory variable. \n",
       "   <li>Order-Dependence: The ordering of variables influences the contribution values</li>\n",
       "   <li>Break down interaction: It is based on notion of interaction (deviation from additivity) which means that the effect of an explanatory variable depends on the value(s) of other variable(s)</li>\n",
       "</ul>\n",
       "    \n",
       "\n",
       "<font size = 4  color = '#008B8B'><b>How it relate to the explainability of machine learning?</b> </font>\n",
       "<ul>\n",
       "<li>By providing posible answer to the question, \"Which variables contribute the most to the single observation result?\" </li>\n",
       "</ul>\n",
       "\n",
       "<font size = 4  color = '#008B8B'><b>How it is calculated?</b> </font>\n",
       "<ol type=\"1\">\n",
       "    <li>Starting point is mean prediction </li>\n",
       "    <li>Fix explanatory variable (X1) with the current instance value, calculate all prediction and take the mean </li>\n",
       "    <li>Fix X1 and X2 at the value and calculate all prediction and take mean </li>\n",
       "    <li>Continue this process with all features </li>\n",
       "    <li>Last row represents  model’s prediction for the current instance </li>\n",
       "</ol>\n",
       "\n",
       "</div>\n",
       "<div id = \"Example-2306\" class=\"tabcontent-2306\">\n",
       "<img align=\"left\" src=\"xai_img/BD_exp.png\" width = 700 length = 700>\n",
       "<br clear=\"left\"/>\n",
       "\n",
       "<i>infographic above illustrate how break down plot is generated </i>\n",
       "<br>\n",
       "\n",
       "<img align=\"left\" src=\"xai_img/BD_simple.png\" width = 700 length = 700>\n",
       "<br clear=\"left\"/>\n",
       "\n",
       "<br>\n",
       "\n",
       "\n",
       "<img align=\"left\" src=\"xai_img/breakdown_exp.png\" width = 700 length = 700>\n",
       "<br clear=\"left\"/>\n",
       "\n",
       "<i><a href=\"https://ema.drwhy.ai/iBreakDown.html\">infographic</a> above illustrate order-dependence and interaction in break down. </i>\n",
       "<br>\n",
       "Thus, by considering the effects of class and age in a different order, we get very different attributions (contributions attributed to the variables). This is because there is an interaction: the effect of class depends on age and vice versa\n",
       "\n",
       "<br>\n",
       "<br clear=\"left\"/>\n",
       "\n",
       "</div>\n",
       "<style>\n",
       "    /* Style the tab */\n",
       "    .tab {\n",
       "      border-bottom: 1px solid #ccc;\n",
       "      display: flex;\n",
       "      flex-wrap: wrap;\n",
       "    }\n",
       "\n",
       "    /* Style the buttons inside the tab */\n",
       "    .tab>button {\n",
       "      background-color: inherit;\n",
       "      border: none;\n",
       "      outline: none;\n",
       "      cursor: pointer;\n",
       "      padding: 1rem;\n",
       "      transition: 0.1s;\n",
       "      font-size: 15px;\n",
       "      border-top-left-radius: 0.25rem;\n",
       "      border-top-right-radius: 0.25rem;\n",
       "      color: #0d6efd;\n",
       "    }\n",
       "\n",
       "    /* Change background color of buttons on hover */\n",
       "    .tab>button:hover {\n",
       "      background-color: #ccc;\n",
       "    }\n",
       "\n",
       "    /* Create an active/current tablink class */\n",
       "    .tab>button.active-tab {\n",
       "      background-color: white;\n",
       "      border: 1px solid #ccc;\n",
       "      border-bottom: none;\n",
       "      margin-bottom: -1px;\n",
       "      color: #495057;\n",
       "\n",
       "    }\n",
       "    /* Style the tab content */\n",
       "    .tabcontent-2306 {\n",
       "      display: none;\n",
       "      padding: 0 0.5rem;\n",
       "    }\n",
       "    </style>\n",
       "    <script>\n",
       "    function OpenTab_2306(evt, cityName) {\n",
       "      var i, tabcontent, tablinks;\n",
       "      tabcontent = document.getElementsByClassName(\"tabcontent-2306\");\n",
       "      for (i = 0; i < tabcontent.length; i++) {\n",
       "        tabcontent[i].style.display = \"none\";\n",
       "      }\n",
       "      tablinks = document.getElementsByClassName(\"tablinks-2306\");\n",
       "      for (i = 0; i < tablinks.length; i++) {\n",
       "        tablinks[i].className = tablinks[i].className.replace(\" active-tab\", \"\");\n",
       "      }\n",
       "      document.getElementById(cityName).style.display = \"block\";\n",
       "      evt.currentTarget.className += \" active-tab\";\n",
       "    }\n",
       "\n",
       "    // Get the element with id=\"defaultOpen\" and click on it\n",
       "    document.getElementById(\"defaultOpen-2306\").click();\n",
       "    </script>"
      ],
      "text/plain": [
       "<IPython.core.display.HTML object>"
      ]
     },
     "metadata": {},
     "output_type": "display_data"
    }
   ],
   "source": [
    "tabset({\n",
    "    'Theory': bd_theory_md,\n",
    "    'Example': bd_eg_md,\n",
    "})"
   ]
  },
  {
   "cell_type": "code",
   "execution_count": 33,
   "id": "ba0952ef",
   "metadata": {
    "ExecuteTime": {
     "end_time": "2022-12-20T02:17:14.827424Z",
     "start_time": "2022-12-20T02:14:16.853681Z"
    }
   },
   "outputs": [
    {
     "name": "stdout",
     "output_type": "stream",
     "text": [
      "\u001b[1m\u001b[4mSHAP TreeExplainer\u001b[0m\n",
      "Start Time: 2023-02-05 04:01:14.960932\n",
      "End Time: 2023-02-05 04:01:16.445843\n",
      "Total time taken:\u001b[1m0:00:01.484911\u001b[0m\n"
     ]
    }
   ],
   "source": [
    "# compute the SHAP values for the LightGBM boosting classifier model\n",
    "print('\\033[1m'+ '\\033[4m' + \"SHAP TreeExplainer\" +'\\033[0m')\n",
    "start_time = datetime.now()\n",
    "print(\"Start Time: {}\" .format(start_time))\n",
    "\n",
    "# Fits the explainer\n",
    "explainer = shap.TreeExplainer(model)\n",
    "# Calculates the SHAP values\n",
    "shap_values = explainer.shap_values(X)\n",
    "expected_value = explainer.expected_value\n",
    "\n",
    "end_time = datetime.now() \n",
    "print(\"End Time: {}\" .format(end_time))\n",
    "print('Total time taken:' + '\\033[1m' + str(end_time - start_time) + '\\033[0m')\n"
   ]
  },
  {
   "cell_type": "markdown",
   "id": "b9ce11b0",
   "metadata": {},
   "source": [
    "### Getting into Examples and comparing"
   ]
  },
  {
   "cell_type": "code",
   "execution_count": 34,
   "id": "b2bbeb27",
   "metadata": {
    "ExecuteTime": {
     "end_time": "2022-12-20T07:57:13.894398Z",
     "start_time": "2022-12-20T07:57:13.857397Z"
    }
   },
   "outputs": [],
   "source": [
    "y_test=y_test.reset_index(drop=True)\n",
    "X_test=X_test.reset_index(drop=True)"
   ]
  },
  {
   "cell_type": "code",
   "execution_count": 35,
   "id": "2af14847",
   "metadata": {
    "ExecuteTime": {
     "end_time": "2022-12-20T07:57:14.604827Z",
     "start_time": "2022-12-20T07:57:14.576829Z"
    }
   },
   "outputs": [],
   "source": [
    "#dividing the cases into 4 classes (TP, TN, FP & FN) to pick out few examples. \n",
    "TP = y_test.loc[(y_test['predicted'] == 1) & (y_test['stroke'] == 1)]\n",
    "FN = y_test.loc[(y_test['predicted'] == 0) & (y_test['stroke'] == 1)]\n",
    "TN = y_test.loc[(y_test['predicted'] == 0) & (y_test['stroke'] == 0)]\n",
    "FP = y_test.loc[(y_test['predicted'] == 1) & (y_test['stroke'] == 0)]"
   ]
  },
  {
   "cell_type": "code",
   "execution_count": 36,
   "id": "50cd49bc",
   "metadata": {
    "ExecuteTime": {
     "end_time": "2022-12-19T09:20:04.789548Z",
     "start_time": "2022-12-19T09:20:02.620141Z"
    },
    "tags": [
     "remove-output"
    ]
   },
   "outputs": [
    {
     "data": {
      "image/png": "[encoded data removed]",
      "text/plain": [
       "<Figure size 576x360 with 3 Axes>"
      ]
     },
     "metadata": {},
     "output_type": "display_data"
    }
   ],
   "source": [
    "#SHAP plot for True Positive\n",
    "class ShapInput(object):\n",
    "    def __init__(self, expectation, shap_values, features, feat_names):\n",
    "        self.base_values = expectation\n",
    "        self.values = shap_values\n",
    "        self.data = features\n",
    "        self.display_data = features\n",
    "        self.feature_names = feat_names\n",
    "\n",
    "shap_input = ShapInput(explainer.expected_value[1], shap_values[1][148],\n",
    "                       (X_test.loc[148].astype(str)),\n",
    "                       feat_names=X.columns)\n",
    "\n",
    "\n",
    "\n",
    "shap.waterfall_plot(shap_input)"
   ]
  },
  {
   "cell_type": "markdown",
   "id": "b3724045",
   "metadata": {},
   "source": [
    "<font size = 4 color = '#008B8B'> <b>Key Insights </b> </font>\n",
    "\n",
    "A waterfall plot is a powerful visual tool that shows why a case receives a specific prediction based on its variable values. The plot starts at the bottom and builds up the prediction step by step by either adding (represented in red) or subtracting (represented in blue) values.\n",
    "\n",
    "The graph above demonstrates how this works for an individual in the X_test dataset who was classified as a True Positive case. The base value at the bottom of the plot is -0.192, which is the average of all observations. As the plot progresses, values are added or subtracted until the final prediction of 0.14 is reached at the top of the plot."
   ]
  },
  {
   "cell_type": "code",
   "execution_count": 37,
   "id": "35fed56e",
   "metadata": {
    "scrolled": false,
    "tags": [
     "remove-output"
    ]
   },
   "outputs": [
    {
     "name": "stdout",
     "output_type": "stream",
     "text": [
      "Start Time: 2023-02-05 04:01:17.328334\n"
     ]
    },
    {
     "data": {
      "application/vnd.plotly.v1+json": {
       "config": {
        "displaylogo": false,
        "modeBarButtonsToRemove": [
         "sendDataToCloud",
         "lasso2d",
         "autoScale2d",
         "select2d",
         "zoom2d",
         "pan2d",
         "zoomIn2d",
         "zoomOut2d",
         "resetScale2d",
         "toggleSpikelines",
         "hoverCompareCartesian",
         "hoverClosestCartesian"
        ],
        "plotlyServerURL": "https://plot.ly",
        "staticPlot": false,
        "toImageButtonOptions": {
         "height": null,
         "width": null
        }
       },
       "data": [
        {
         "base": 0.27527540490298164,
         "connector": {
          "line": {
           "color": "#371ea3",
           "dash": "solid",
           "width": 1
          },
          "mode": "spanning"
         },
         "decreasing": {
          "marker": {
           "color": "#f05a71"
          }
         },
         "hoverinfo": "text+delta",
         "hoverlabel": {
          "bgcolor": "rgba(0,0,0,0.8)"
         },
         "hovertext": [
          "Average response: 0.275<br>Prediction: 0.818",
          "age = 81.0<br>increases average response by",
          "gender = 1.0<br>decreases average response by",
          "work_type = 2.0<br>increases average response by",
          "bmi = 26.1<br>increases average response by",
          "avg_glucose_level = 213.2<br>increases average response by",
          "hypertension = 0.0<br>increases average response by",
          "heart_disease = 0.0<br>increases average response by",
          "Average response: 0.275<br>Prediction: 0.818"
         ],
         "increasing": {
          "marker": {
           "color": "#8bdcbe"
          }
         },
         "measure": [
          "relative",
          "relative",
          "relative",
          "relative",
          "relative",
          "relative",
          "relative",
          "relative",
          "total"
         ],
         "orientation": "h",
         "showlegend": false,
         "text": [
          "0.275",
          "+0.435",
          "-0.055",
          "+0.075",
          "+0.014",
          "+0.054",
          "+0.013",
          "+0.007",
          "0.818"
         ],
         "textposition": "outside",
         "totals": {
          "marker": {
           "color": "#371ea3"
          }
         },
         "type": "waterfall",
         "x": [
          0,
          0.435,
          -0.055,
          0.075,
          0.014,
          0.054,
          0.013,
          0.007,
          0.543
         ],
         "xaxis": "x",
         "y": [
          "intercept",
          "age = 81.0",
          "gender = 1.0",
          "work_type = 2.0",
          "bmi = 26.1",
          "avg_glucose_level = 213.2",
          "hypertension = 0.0",
          "heart_disease = 0.0",
          "prediction"
         ],
         "yaxis": "y"
        }
       ],
       "layout": {
        "annotations": [
         {
          "font": {
           "size": 16
          },
          "showarrow": false,
          "text": "LGBMClassifier",
          "x": 0.5,
          "xanchor": "center",
          "xref": "paper",
          "y": 1,
          "yanchor": "bottom",
          "yref": "paper"
         },
         {
          "font": {
           "size": 16
          },
          "showarrow": false,
          "text": "contribution",
          "x": 0.5,
          "xanchor": "center",
          "xref": "paper",
          "y": 0,
          "yanchor": "top",
          "yref": "paper",
          "yshift": -30
         }
        ],
        "font": {
         "color": "#371ea3"
        },
        "height": 333,
        "margin": {
         "b": 71,
         "r": 30,
         "t": 78
        },
        "shapes": [
         {
          "line": {
           "color": "#371ea3",
           "dash": "dot",
           "width": 1.5
          },
          "type": "line",
          "x0": 0.27527540490298164,
          "x1": 0.27527540490298164,
          "xref": "x",
          "y0": -1,
          "y1": 9,
          "yref": "y"
         }
        ],
        "template": {
         "data": {
          "scatter": [
           {
            "type": "scatter"
           }
          ]
         }
        },
        "title": {
         "text": "Break Down",
         "x": 0.15
        },
        "xaxis": {
         "anchor": "y",
         "automargin": true,
         "domain": [
          0,
          1
         ],
         "fixedrange": true,
         "gridwidth": 2,
         "range": [
          0.19355000000000006,
          0.89945
         ],
         "tickcolor": "white",
         "ticklen": 3,
         "ticks": "outside",
         "type": "linear",
         "zeroline": false
        },
        "yaxis": {
         "anchor": "x",
         "automargin": true,
         "autorange": "reversed",
         "domain": [
          0,
          1
         ],
         "fixedrange": true,
         "gridwidth": 2,
         "tickcolor": "white",
         "ticklen": 10,
         "ticks": "outside",
         "type": "category"
        }
       }
      },
      "text/html": [
       "<div>                            <div id=\"3f4e2c2c-0d9d-4693-a62d-af57fc6e50f9\" class=\"plotly-graph-div\" style=\"height:333.0px; width:100%;\"></div>            <script type=\"text/javascript\">                require([\"plotly\"], function(Plotly) {                    window.PLOTLYENV=window.PLOTLYENV || {};                                    if (document.getElementById(\"3f4e2c2c-0d9d-4693-a62d-af57fc6e50f9\")) {                    Plotly.newPlot(                        \"3f4e2c2c-0d9d-4693-a62d-af57fc6e50f9\",                        [{\"base\":0.27527540490298164,\"connector\":{\"line\":{\"color\":\"#371ea3\",\"dash\":\"solid\",\"width\":1},\"mode\":\"spanning\"},\"decreasing\":{\"marker\":{\"color\":\"#f05a71\"}},\"hoverinfo\":\"text+delta\",\"hoverlabel\":{\"bgcolor\":\"rgba(0,0,0,0.8)\"},\"hovertext\":[\"Average response: 0.275<br>Prediction: 0.818\",\"age = 81.0<br>increases average response by\",\"gender = 1.0<br>decreases average response by\",\"work_type = 2.0<br>increases average response by\",\"bmi = 26.1<br>increases average response by\",\"avg_glucose_level = 213.2<br>increases average response by\",\"hypertension = 0.0<br>increases average response by\",\"heart_disease = 0.0<br>increases average response by\",\"Average response: 0.275<br>Prediction: 0.818\"],\"increasing\":{\"marker\":{\"color\":\"#8bdcbe\"}},\"measure\":[\"relative\",\"relative\",\"relative\",\"relative\",\"relative\",\"relative\",\"relative\",\"relative\",\"total\"],\"orientation\":\"h\",\"showlegend\":false,\"text\":[\"0.275\",\"+0.435\",\"-0.055\",\"+0.075\",\"+0.014\",\"+0.054\",\"+0.013\",\"+0.007\",\"0.818\"],\"textposition\":\"outside\",\"totals\":{\"marker\":{\"color\":\"#371ea3\"}},\"x\":[0.0,0.435,-0.055,0.075,0.014,0.054,0.013,0.007,0.543],\"y\":[\"intercept\",\"age = 81.0\",\"gender = 1.0\",\"work_type = 2.0\",\"bmi = 26.1\",\"avg_glucose_level = 213.2\",\"hypertension = 0.0\",\"heart_disease = 0.0\",\"prediction\"],\"type\":\"waterfall\",\"xaxis\":\"x\",\"yaxis\":\"y\"}],                        {\"template\":{\"data\":{\"scatter\":[{\"type\":\"scatter\"}]}},\"xaxis\":{\"anchor\":\"y\",\"domain\":[0.0,1.0],\"type\":\"linear\",\"gridwidth\":2,\"zeroline\":false,\"automargin\":true,\"ticks\":\"outside\",\"tickcolor\":\"white\",\"ticklen\":3,\"fixedrange\":true,\"range\":[0.19355000000000006,0.89945]},\"yaxis\":{\"anchor\":\"x\",\"domain\":[0.0,1.0],\"type\":\"category\",\"autorange\":\"reversed\",\"gridwidth\":2,\"automargin\":true,\"ticks\":\"outside\",\"tickcolor\":\"white\",\"ticklen\":10,\"fixedrange\":true},\"annotations\":[{\"font\":{\"size\":16},\"showarrow\":false,\"text\":\"LGBMClassifier\",\"x\":0.5,\"xanchor\":\"center\",\"xref\":\"paper\",\"y\":1.0,\"yanchor\":\"bottom\",\"yref\":\"paper\"},{\"font\":{\"size\":16},\"showarrow\":false,\"text\":\"contribution\",\"x\":0.5,\"xanchor\":\"center\",\"xref\":\"paper\",\"y\":0,\"yanchor\":\"top\",\"yref\":\"paper\",\"yshift\":-30}],\"shapes\":[{\"line\":{\"color\":\"#371ea3\",\"dash\":\"dot\",\"width\":1.5},\"type\":\"line\",\"x0\":0.27527540490298164,\"x1\":0.27527540490298164,\"xref\":\"x\",\"y0\":-1,\"y1\":9,\"yref\":\"y\"}],\"title\":{\"text\":\"Break Down\",\"x\":0.15},\"font\":{\"color\":\"#371ea3\"},\"margin\":{\"t\":78,\"b\":71,\"r\":30},\"height\":333.0},                        {\"displaylogo\": false, \"staticPlot\": false, \"toImageButtonOptions\": {\"height\": null, \"width\": null}, \"modeBarButtonsToRemove\": [\"sendDataToCloud\", \"lasso2d\", \"autoScale2d\", \"select2d\", \"zoom2d\", \"pan2d\", \"zoomIn2d\", \"zoomOut2d\", \"resetScale2d\", \"toggleSpikelines\", \"hoverCompareCartesian\", \"hoverClosestCartesian\"], \"responsive\": true}                    ).then(function(){\n",
       "                            \n",
       "var gd = document.getElementById('3f4e2c2c-0d9d-4693-a62d-af57fc6e50f9');\n",
       "var x = new MutationObserver(function (mutations, observer) {{\n",
       "        var display = window.getComputedStyle(gd).display;\n",
       "        if (!display || display === 'none') {{\n",
       "            console.log([gd, 'removed!']);\n",
       "            Plotly.purge(gd);\n",
       "            observer.disconnect();\n",
       "        }}\n",
       "}});\n",
       "\n",
       "// Listen for the removal of the full notebook cells\n",
       "var notebookContainer = gd.closest('#notebook-container');\n",
       "if (notebookContainer) {{\n",
       "    x.observe(notebookContainer, {childList: true});\n",
       "}}\n",
       "\n",
       "// Listen for the clearing of the current output cell\n",
       "var outputEl = gd.closest('.output');\n",
       "if (outputEl) {{\n",
       "    x.observe(outputEl, {childList: true});\n",
       "}}\n",
       "\n",
       "                        })                };                });            </script>        </div>"
      ]
     },
     "metadata": {},
     "output_type": "display_data"
    },
    {
     "name": "stdout",
     "output_type": "stream",
     "text": [
      "End Time: 2023-02-05 04:01:18.989377\n",
      "Total time taken:\u001b[1m0:00:01.661043\u001b[0m\n"
     ]
    }
   ],
   "source": [
    "#Break Down interaction plot for a True Positive case(Stroke ==1 and predicted ==1) \n",
    "start_time = datetime.now()\n",
    "print(\"Start Time: {}\" .format(start_time))\n",
    "\n",
    "exp.predict_parts(X_test.iloc[148, :],type='break_down_interactions').plot() #1007\n",
    "\n",
    "end_time = datetime.now() \n",
    "print(\"End Time: {}\" .format(end_time))\n",
    "print('Total time taken:' + '\\033[1m' + str(end_time - start_time) + '\\033[0m')"
   ]
  },
  {
   "cell_type": "markdown",
   "id": "c5b25924",
   "metadata": {},
   "source": [
    "<font size = 4 color = '#008B8B'> <b>Key Insights </b> </font>\n",
    "\n",
    "The mean prediction for the LightGBM model for the stroke prediction dataset is 26.7%. This value represents the average predicted probability of stroke over all individuals in the dataset. It is important to note that this is not the percentage of individuals who actually had a stroke, but rather the average model prediction.\n",
    "\n",
    "For a specific individual, the model's prediction is 83%, which is much higher than the mean prediction. The explanatory variable that has the largest impact on this prediction is age. By holding the value of this variable constant, the mean prediction is increased by 46 percentage points. The effect of all other explanatory variables is smaller in comparison."
   ]
  },
  {
   "cell_type": "markdown",
   "id": "086c9212",
   "metadata": {},
   "source": [
    "### Summary comparison "
   ]
  },
  {
   "cell_type": "markdown",
   "id": "2b85d79e",
   "metadata": {},
   "source": [
    "| About                                   | SHAP waterfall Plot                                                                                                                                                                                                                                                                                                                                                                                                                     | Breakdown interaction Plot                                                                                                                                                                                                                                                                                                                                                                                          |\n",
    "|:----------------------------------------|:-------------------------------------------------------------------------------------------------------------------------------------------------------------------------------------------------------------------------------------------------------------------------------------------------------------------------------------------------------------------------------------------------------------------------------------|:---------------------------------------------------------------------------------------------------------------------------------------------------------------------------------------------------------------------------------------------------------------------------------------------------------------------------------------------------------------------------------------------------------|\n",
    "| 🚩 Method        | 1. SHAP averages across all possible combinations of variable contributions.    <br> 2.  Shows additive local representation                                                                                                                                                                                                                                                                                                                                                    | 1. Is greedy and only takes into account one set of nested conditionings.  <br> 2. Captures local interactions and generate non-additive explanations                                                                                                                                                                                                                                                                                                        |\n",
    "| ⏰ Run Time for dataset used | 1-2 seconds for this dataset, 4-5 sec for dataset with 54 features                                                                                                                                                                                                                                                                                                                                                                                                                      | 2-3 seconds for this dataset, <b>20 - 25 mins</b> for dataset with 54 features                                                                                                                                                                                                                                                                                                                                                                                            |\n",
    "| ✔️  Packages             | SHAP, Dalex, Shapash, explainerdashboard, AIX360,Alibi Explain                                                                                                                                                                                                                                                                                                                                                                       | Dalex                                                                                                                                                                                                                                                                                                                                                                                                    |\n",
    "| ⭐  Advantages                      | 1. Quick to generate. <br> 2. The method has got a strong formal foundation derived from the cooperative games theory. <br> 3. Wide sources of documentation and explanation. <br>4.  Available in both Python and R <br> 5. Works with  Different Explainers -TreeExplainer, DeepExplainer and KernelExplainer <br > 6. It considers all possible conditioning  | 1. Intituative , easy to understand and interactive plots <br>  2. Available in both R and Python <br> 3. Are compact; results for many explanatory variables can be presented in a limited space. <br> 4. an be applied to any predictive model <br> 5. It captures  feature interaction                                                                |\n",
    "| 💥  Limitation                       | 1. Not as intituative as  breakdown <br> 2. Multicollinearity Issue: If there are variables with high degree of multicollinearity, the SHAP values would be high for one of the variables and zero/very low for the other. <br> 3. It generates matplotlib based plots which are not interactive. <br> 4. For large models, the calculation of Shapley values is time-consuming                                                      | 1. Only suitable for small dataset due to high run time <br> 2.  Less documentation and references <br>   3. It consider only  a single series of nested conditionings <br> 4. does  not work well for models with heavy components related to interactions between features.  |"
   ]
  },
  {
   "cell_type": "markdown",
   "id": "3e28f9b8",
   "metadata": {},
   "source": [
    "<font size = 4 color = '#008B8B'> Recommendation </font>\n",
    "  - Breakdown interaction plot are more intuitive and probably suitable for small datasets with less sparsity and size for now due to its heavy computation run time.\n",
    "  - SHAP has strong foundation and widely used as compared to break down. Hence, easier to research and implement.\n",
    "  "
   ]
  },
  {
   "cell_type": "markdown",
   "id": "7434d150",
   "metadata": {},
   "source": [
    "[back](#Table-of-Contents)"
   ]
  },
  {
   "cell_type": "markdown",
   "id": "3bc878e8",
   "metadata": {},
   "source": [
    "<hr color='#008B8B'>"
   ]
  },
  {
   "cell_type": "markdown",
   "id": "0e5994d9",
   "metadata": {},
   "source": [
    "# Conclusion"
   ]
  },
  {
   "cell_type": "markdown",
   "id": "05e815bb",
   "metadata": {},
   "source": [
    "1. Partial Dependence Plot (PDP) vs Accumulated Local Effects (ALE)\n",
    "      - ALE appears to have  a competitive edge over PD because it addresses the bias that arises in PD when the feature of interest is highly correlated with other features\n",
    "      - The runtime for both methods is similar. \n",
    "\n",
    "<br>\n",
    "\n",
    "2. SHAP waterfall plot vs Breakdown plot  \n",
    "    - SHAP is faster in terms of computation time.\n",
    "    - However, the Breakdown plot is more intuitive and easier to understand.\n",
    "    - Both methods have limitations, and it may be necessary to consider the specific use case and requirements before choosing one over the other.\n",
    "\n",
    "<br>\n",
    "\n",
    "3. Suggestions  \n",
    "    - ALE can be explored further given its advantages over PDP. \n",
    "    - SHAP shows additive local represenation(complex models are usually non-additive). Break Down capture local interactions and generate non-additive explanations.\n",
    "    - Currently, Breakdown may be more suitable for smaller datasets with less sparsity and size, due to its heavy computational runtime.\n",
    "\n",
    "    \n"
   ]
  },
  {
   "cell_type": "markdown",
   "id": "d64a2875",
   "metadata": {},
   "source": [
    "[back](#Table-of-Contents)"
   ]
  },
  {
   "cell_type": "markdown",
   "id": "5ce3b988",
   "metadata": {},
   "source": [
    "<hr color='#008B8B'>"
   ]
  },
  {
   "cell_type": "markdown",
   "id": "4b34726f",
   "metadata": {
    "ExecuteTime": {
     "end_time": "2022-10-10T05:50:54.811493Z",
     "start_time": "2022-10-10T05:50:54.210106Z"
    }
   },
   "source": [
    "# References"
   ]
  },
  {
   "cell_type": "markdown",
   "id": "edcc2e88",
   "metadata": {},
   "source": [
    "1. https://christophm.github.io/interpretable-ml-book/\n",
    "\n",
    "2. https://www.darpa.mil/program/explainable-artificial-intelligence\n",
    "\n",
    "3. https://www.forbes.com/sites/cognitiveworld/2019/07/23/understanding-explainable-ai/?sh=3c062d987c9e\n",
    "\n",
    "4. https://towardsdatascience.com/shap-explain-any-machine-learning-model-in-python-24207127cad7\n",
    "\n",
    "5. https://www.youtube.com/watch?v=u7Om2joZWYs\n",
    "\n",
    "6. https://towardsdatascience.com/shap-explained-the-way-i-wish-someone-explained-it-to-me-ab81cc69ef30\n",
    "\n",
    "7. https://www.sciencedirect.com/science/article/pii/S0740624X21001027\n",
    "\n",
    "8. https://christophm.github.io/interpretable-ml-book/ale.html\n",
    "\n",
    "9. https://towardsdatascience.com/explainable-ai-xai-methods-part-3-accumulated-local-effects-ale-cf6ba3387fde\n",
    "\n",
    "10. https://docs.oracle.com/en-us/iaas/tools/ads-sdk/latest/user_guide/mlx/accumulated_local_effects.html\n",
    "\n",
    "11. https://towardsdatascience.com/partial-dependence-plots-with-scikit-learn-966ace4864fc\n",
    "\n",
    "12. https://towardsdatascience.com/explainable-ai-xai-methods-part-1-partial-dependence-plot-pdp-349441901a3d\n",
    "\n",
    "13. https://shap.readthedocs.io/en/latest/index.html\n",
    "\n",
    "14. https://ema.drwhy.ai/breakDown.html\n",
    "\n",
    "15. https://medium.com/responsibleml/basic-xai-with-dalex-part-4-break-down-method-2cd4de43abdd\n",
    "\n",
    "16. https://uc-r.github.io/dalex\n",
    "\n",
    "17. https://arxiv.org/abs/1903.11420\n"
   ]
  },
  {
   "cell_type": "markdown",
   "id": "6a21fef1",
   "metadata": {},
   "source": [
    "<hr color='#008B8B'>"
   ]
  }
 ],
 "metadata": {
  "kernelspec": {
   "display_name": "Python 3 (ipykernel)",
   "language": "python",
   "name": "python3"
  },
  "language_info": {
   "codemirror_mode": {
    "name": "ipython",
    "version": 3
   },
   "file_extension": ".py",
   "mimetype": "text/x-python",
   "name": "python",
   "nbconvert_exporter": "python",
   "pygments_lexer": "ipython3",
   "version": "3.9.7"
  },
  "toc": {
   "base_numbering": 1,
   "nav_menu": {},
   "number_sections": true,
   "sideBar": true,
   "skip_h1_title": false,
   "title_cell": "Table of Contents",
   "title_sidebar": "Contents",
   "toc_cell": false,
   "toc_position": {
    "height": "calc(100% - 180px)",
    "left": "10px",
    "top": "150px",
    "width": "247.75px"
   },
   "toc_section_display": true,
   "toc_window_display": true
  },
  "varInspector": {
   "cols": {
    "lenName": 16,
    "lenType": 16,
    "lenVar": 40
   },
   "kernels_config": {
    "python": {
     "delete_cmd_postfix": "",
     "delete_cmd_prefix": "del ",
     "library": "var_list.py",
     "varRefreshCmd": "print(var_dic_list())"
    },
    "r": {
     "delete_cmd_postfix": ") ",
     "delete_cmd_prefix": "rm(",
     "library": "var_list.r",
     "varRefreshCmd": "cat(var_dic_list()) "
    }
   },
   "types_to_exclude": [
    "module",
    "function",
    "builtin_function_or_method",
    "instance",
    "_Feature"
   ],
   "window_display": false
  }
 },
 "nbformat": 4,
 "nbformat_minor": 5
}
